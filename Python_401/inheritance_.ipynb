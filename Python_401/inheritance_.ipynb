{
 "cells": [
  {
   "metadata": {},
   "cell_type": "markdown",
   "source": "Kalıtım: Her sınıfın kendine göre özellikleri olur ve biz diyoruz ki başka bir sınıf daha ekleyelim ve bu sınıf önceki sınıfın özelliklerini ve metodlarını kullanabiliyorsa kalıtım vardır. Ama ben bu yeni sınıfa başka bir özellik ekleyeceksem metod ekleyeceksem önceki sınıfın özelliğini metodlarını kullanan ama başka niteliği olan sınıftır",
   "id": "e6e7fa67bd530ac7"
  },
  {
   "cell_type": "code",
   "id": "initial_id",
   "metadata": {
    "collapsed": true,
    "ExecuteTime": {
     "end_time": "2025-07-20T21:09:11.929493Z",
     "start_time": "2025-07-20T21:09:11.924904Z"
    }
   },
   "source": [
    "class Employees():\n",
    "    def __init__(self):\n",
    "        self.first_name = ''\n",
    "        self.last_name = ''\n",
    "        self.adress = ''\n",
    "\n",
    "class DataScience(Employees): #Employees sınıfının DataScience alt sınıfı oldu\n",
    "    def __init__(self):\n",
    "        self.Programming = \"\"\n",
    "\n",
    "class Marketing(Employees): #Employees sınıfının Marketing alt sınıfı oldu\n",
    "    def __init__(self):\n",
    "        self.StoryTelling = \"\""
   ],
   "outputs": [],
   "execution_count": 3
  },
  {
   "metadata": {},
   "cell_type": "code",
   "outputs": [],
   "execution_count": null,
   "source": [
    "veribilimci1 = DataScience()\n",
    "veribilimci1.first_name"
   ],
   "id": "8dab87da95a712c2"
  },
  {
   "metadata": {},
   "cell_type": "code",
   "outputs": [],
   "execution_count": null,
   "source": [
    "marketing1 = Marketing()\n",
    "marketing1.last_name"
   ],
   "id": "39b4f1c4f04731a9"
  },
  {
   "metadata": {},
   "cell_type": "markdown",
   "source": "Class özellik değerlerini nesne oluştururken verme zorunluluğu",
   "id": "cd1b7083716def10"
  },
  {
   "metadata": {
    "ExecuteTime": {
     "end_time": "2025-07-20T21:12:01.402695Z",
     "start_time": "2025-07-20T21:12:01.396320Z"
    }
   },
   "cell_type": "code",
   "source": [
    "class Employees():\n",
    "    def __init__(self,First_Name,Last_Name,adress):\n",
    "        self.first_name = ''\n",
    "        self.last_name = ''\n",
    "        self.adress = ''\n",
    "\n",
    "ali = Employees(\"a\",\"b\",\"c\") #bomboş yazarsan TypeError yazar çünkü değer istenildiğinde değer atamadık\n",
    "ali.first_name"
   ],
   "id": "4d32c442cbc84792",
   "outputs": [
    {
     "data": {
      "text/plain": [
       "''"
      ]
     },
     "execution_count": 7,
     "metadata": {},
     "output_type": "execute_result"
    }
   ],
   "execution_count": 7
  }
 ],
 "metadata": {
  "kernelspec": {
   "display_name": "Python 3",
   "language": "python",
   "name": "python3"
  },
  "language_info": {
   "codemirror_mode": {
    "name": "ipython",
    "version": 2
   },
   "file_extension": ".py",
   "mimetype": "text/x-python",
   "name": "python",
   "nbconvert_exporter": "python",
   "pygments_lexer": "ipython2",
   "version": "2.7.6"
  }
 },
 "nbformat": 4,
 "nbformat_minor": 5
}
