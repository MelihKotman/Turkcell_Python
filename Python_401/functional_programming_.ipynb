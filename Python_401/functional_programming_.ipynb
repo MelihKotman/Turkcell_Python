{
 "cells": [
  {
   "metadata": {},
   "cell_type": "markdown",
   "source": "Fonksiyonlar dilin baş tacıdır(ese, birinci sınıf nesnelerdir, yan etkisiz(girdi-cikti, stateless), yüksek seviye fonksiyonlar, vektörel operasiyonlar",
   "id": "8a1e93c45d0a9fc0"
  },
  {
   "metadata": {},
   "cell_type": "markdown",
   "source": "Bazı kullanılan metodların kullanıcı isteği dışında etkilenip devre dışı kalma durumu risk oluşturabilir, yan etkilerinden emin olduğumuzda hiçbir şey etkilemediği ve girdi verince etkilediğini biliyoruz",
   "id": "f6818117f1bf17fd"
  },
  {
   "metadata": {},
   "cell_type": "markdown",
   "source": "Yüksek seviye ve vektörel ile birlikte fonksiyonlara daha az çabayla daha basit yollarla bazı amaçları yerine getirip işten kısıp fazla kazanç sağlayacağız",
   "id": "2e1fb82996fa5709"
  },
  {
   "metadata": {},
   "cell_type": "markdown",
   "source": "Yan Etkisiz Fonksiyonlar (Pure Functions)",
   "id": "4ac55e57aee66764"
  },
  {
   "cell_type": "code",
   "id": "initial_id",
   "metadata": {
    "collapsed": true,
    "ExecuteTime": {
     "end_time": "2025-07-20T21:19:12.039063Z",
     "start_time": "2025-07-20T21:19:12.033943Z"
    }
   },
   "source": [
    "#Örnek-1: Bağımsızlık\n",
    "A = 5\n",
    "\n",
    "def impure_sum(b): #Saf olmayan\n",
    "    return b + A\n",
    "\n",
    "def pure_sum(a, b): #Saf olan\n",
    "    return a + b\n"
   ],
   "outputs": [],
   "execution_count": 2
  },
  {
   "metadata": {
    "ExecuteTime": {
     "end_time": "2025-07-20T21:19:14.277529Z",
     "start_time": "2025-07-20T21:19:14.272059Z"
    }
   },
   "cell_type": "code",
   "source": "impure_sum(6) #burada sonuç değişiyor A değerimizle ilgili bir şeyler oldu",
   "id": "e156286bab4972ea",
   "outputs": [
    {
     "data": {
      "text/plain": [
       "11"
      ]
     },
     "execution_count": 3,
     "metadata": {},
     "output_type": "execute_result"
    }
   ],
   "execution_count": 3
  },
  {
   "metadata": {
    "ExecuteTime": {
     "end_time": "2025-07-20T21:19:43.754918Z",
     "start_time": "2025-07-20T21:19:43.750236Z"
    }
   },
   "cell_type": "code",
   "source": "pure_sum(6, 3) #Burada ben yan etki vermedim kontrolü elimde sağladım",
   "id": "ca843a6e63f38e29",
   "outputs": [
    {
     "data": {
      "text/plain": [
       "9"
      ]
     },
     "execution_count": 4,
     "metadata": {},
     "output_type": "execute_result"
    }
   ],
   "execution_count": 4
  },
  {
   "metadata": {
    "ExecuteTime": {
     "end_time": "2025-07-20T21:25:52.925386Z",
     "start_time": "2025-07-20T21:25:52.920087Z"
    }
   },
   "cell_type": "code",
   "source": [
    "#Örnek-2: Ölümcül\n",
    "#OOP\n",
    "class LineCounter: #Bir dosyayı açıp içindeki satırları okuyan ve sayan bir sınıf\n",
    "    def __init__(self,filename): #Bir değişken kullandık\n",
    "        self.file = open(filename,'r') #open ile dosya açacağız ve okuma modunda olacak\n",
    "        self.lines = []\n",
    "    def read(self):\n",
    "        self.lines = [line for line in self.file] #satırları okumak için\n",
    "    def count(self):\n",
    "        return len(self.lines)\n",
    "\n",
    "lc = LineCounter('functional_programming_1.txt') #İçeriği okunacak bir dosyamız var\n",
    "\n",
    "print(lc.lines) #[]\n",
    "print(lc.count()) #0"
   ],
   "id": "b70771a3b1df0770",
   "outputs": [
    {
     "name": "stdout",
     "output_type": "stream",
     "text": [
      "[]\n",
      "0\n"
     ]
    }
   ],
   "execution_count": 8
  },
  {
   "metadata": {
    "ExecuteTime": {
     "end_time": "2025-07-20T21:25:54.788492Z",
     "start_time": "2025-07-20T21:25:54.784752Z"
    }
   },
   "cell_type": "code",
   "source": [
    "lc.read() #Okumayı yaptıktan sonra\n",
    "#Burada [] ile 0 iken bi anda lines değişti ve count = 5 oldu\n",
    "print(lc.lines)\n",
    "print(lc.count())\n",
    "#Biz kolayca değişmeye evetiz ama sürekli değişirken geri dönülemez sonuçlar alabiliriz"
   ],
   "id": "ec2b22235f61aa17",
   "outputs": [
    {
     "name": "stdout",
     "output_type": "stream",
     "text": [
      "['bunlar bir denemedir\\n', 'asdasd\\n', 'fdgdfhgf\\n', '234234\\n', 'dfg']\n",
      "5\n"
     ]
    }
   ],
   "execution_count": 9
  },
  {
   "metadata": {
    "ExecuteTime": {
     "end_time": "2025-07-20T21:29:28.731756Z",
     "start_time": "2025-07-20T21:29:28.727099Z"
    }
   },
   "cell_type": "code",
   "source": [
    "#FP\n",
    "def read(filename):\n",
    "    with open(filename,'r') as f: #Aç ve okuma modunda aç\n",
    "        return [line for line in f] #Burada her satırı oku\n",
    "\n",
    "def count(lines): #Bunları say\n",
    "    return len(lines)\n",
    "\n",
    "example_lines = read(\"functional_programming_1.txt\") #Bunu çalıştırınca okudu"
   ],
   "id": "b0588608a40bd7ac",
   "outputs": [],
   "execution_count": 11
  },
  {
   "metadata": {
    "ExecuteTime": {
     "end_time": "2025-07-20T21:29:37.799002Z",
     "start_time": "2025-07-20T21:29:37.795601Z"
    }
   },
   "cell_type": "code",
   "source": [
    "line_count = count(example_lines)\n",
    "line_count\n",
    "#buradaki example_lines ve line_count girdi verince çıktı verecek şekilde değişebilir onun dışında değişemez çünkü hep aynı kalacaktır. Çünkü yapısını bozacak bir şey yoktur"
   ],
   "id": "7328b5c46066998a",
   "outputs": [
    {
     "data": {
      "text/plain": [
       "5"
      ]
     },
     "execution_count": 12,
     "metadata": {},
     "output_type": "execute_result"
    }
   ],
   "execution_count": 12
  },
  {
   "metadata": {},
   "cell_type": "markdown",
   "source": "İsimsiz Fonksiyonlar(Anonymous Functions)",
   "id": "c4870a689cf9b51e"
  },
  {
   "metadata": {
    "ExecuteTime": {
     "end_time": "2025-07-20T21:32:28.700670Z",
     "start_time": "2025-07-20T21:32:28.696836Z"
    }
   },
   "cell_type": "code",
   "source": [
    "def old_sum(a, b):\n",
    "    return a + b\n",
    "old_sum(3, 4)"
   ],
   "id": "56e15f8e2920f90a",
   "outputs": [
    {
     "data": {
      "text/plain": [
       "7"
      ]
     },
     "execution_count": 13,
     "metadata": {},
     "output_type": "execute_result"
    }
   ],
   "execution_count": 13
  },
  {
   "metadata": {
    "ExecuteTime": {
     "end_time": "2025-07-20T21:33:21.974493Z",
     "start_time": "2025-07-20T21:33:21.971121Z"
    }
   },
   "cell_type": "code",
   "source": [
    "#Lamdayı isimlendirme yaparak gösterelim\n",
    "\n",
    "new_sum = lambda a, b: a + b #a ve b değeri oluşacak ve a + b işlemini yapıp dönecek\n",
    "new_sum(3, 4)"
   ],
   "id": "5fe5a534f0f8d333",
   "outputs": [
    {
     "data": {
      "text/plain": [
       "7"
      ]
     },
     "execution_count": 14,
     "metadata": {},
     "output_type": "execute_result"
    }
   ],
   "execution_count": 14
  },
  {
   "metadata": {
    "ExecuteTime": {
     "end_time": "2025-07-20T21:35:13.637632Z",
     "start_time": "2025-07-20T21:35:13.632940Z"
    }
   },
   "cell_type": "code",
   "source": [
    "#Lamdayı isimsiz olarak kullanma\n",
    "sirasiz_liste = [('b', 3),('a', 8),('d', 12),('c', 1)]\n",
    "#Buradaki listelerin içindeki tuple'daki ikinci değere göre sıralama yap\n",
    "\n",
    "sorted(sirasiz_liste, key = lambda x: x[1]) #Sorted kullanarak içindeki bir lise bir key alırken key'de tuple'ın 2.değerini alacaksın diyoruz"
   ],
   "id": "e9d24b50d0634d78",
   "outputs": [
    {
     "data": {
      "text/plain": [
       "[('c', 1), ('b', 3), ('a', 8), ('d', 12)]"
      ]
     },
     "execution_count": 15,
     "metadata": {},
     "output_type": "execute_result"
    }
   ],
   "execution_count": 15
  },
  {
   "metadata": {},
   "cell_type": "markdown",
   "source": "Vektörel Operasyonlar (Vectorel Operations)",
   "id": "2edbd2cbac8f26e7"
  },
  {
   "metadata": {
    "ExecuteTime": {
     "end_time": "2025-07-20T21:39:21.446196Z",
     "start_time": "2025-07-20T21:39:21.442413Z"
    }
   },
   "cell_type": "code",
   "source": [
    "#OOP\n",
    "a = [1, 2, 3 ,4]\n",
    "b = [2, 3, 4, 5]\n",
    "\n",
    "ab = []\n",
    "\n",
    "for i in range(0, len(a)): #0'dan a içindeki eleman kadar gezin yani 0'dan 4'e kadar git\n",
    "    ab.append(a[i] * b[i]) #a ve b'yi çarp ve ab'ye ekle\n",
    "\n",
    "ab"
   ],
   "id": "e3f24d685735adce",
   "outputs": [
    {
     "data": {
      "text/plain": [
       "[2, 6, 12, 20]"
      ]
     },
     "execution_count": 17,
     "metadata": {},
     "output_type": "execute_result"
    }
   ],
   "execution_count": 17
  },
  {
   "metadata": {
    "ExecuteTime": {
     "end_time": "2025-07-20T21:41:16.579927Z",
     "start_time": "2025-07-20T21:41:16.519308Z"
    }
   },
   "cell_type": "code",
   "source": [
    "#FP\n",
    "import numpy as np #bir modül import ettik\n",
    "a = np.array([1, 2, 3, 4]) #tek boyutlu bir vektör\n",
    "b = np.array([2, 3, 4, 5]) #tek boyutlu bir vektör\n",
    "\n",
    "a * b #bütün vektörü aynı anda çarptık"
   ],
   "id": "b6dfe42cea1a0c63",
   "outputs": [
    {
     "data": {
      "text/plain": [
       "array([ 2,  6, 12, 20])"
      ]
     },
     "execution_count": 18,
     "metadata": {},
     "output_type": "execute_result"
    }
   ],
   "execution_count": 18
  },
  {
   "metadata": {},
   "cell_type": "markdown",
   "source": "map, reduce, filter",
   "id": "62961208808a10ba"
  },
  {
   "metadata": {
    "ExecuteTime": {
     "end_time": "2025-07-20T21:43:25.126805Z",
     "start_time": "2025-07-20T21:43:25.123496Z"
    }
   },
   "cell_type": "code",
   "source": [
    "liste = [1, 2, 3, 4, 5]\n",
    "\n",
    "for i in liste:\n",
    "    print(i + 10)"
   ],
   "id": "8eb382aefb52d46b",
   "outputs": [
    {
     "name": "stdout",
     "output_type": "stream",
     "text": [
      "11\n",
      "12\n",
      "13\n",
      "14\n",
      "15\n"
     ]
    }
   ],
   "execution_count": 19
  },
  {
   "metadata": {
    "ExecuteTime": {
     "end_time": "2025-07-20T21:44:01.017757Z",
     "start_time": "2025-07-20T21:44:01.013348Z"
    }
   },
   "cell_type": "code",
   "source": [
    "#map ve lambda mimarisi kullanalım\n",
    "\n",
    "list(map(lambda x: x + 10, liste)) #Map : iterasyon imkanı veriyor yani verilen nesnenin üzerinde tanımlanacak fonksiyon üzerinde çalıştırır"
   ],
   "id": "8d5e2bc6a028170d",
   "outputs": [
    {
     "data": {
      "text/plain": [
       "[11, 12, 13, 14, 15]"
      ]
     },
     "execution_count": 20,
     "metadata": {},
     "output_type": "execute_result"
    }
   ],
   "execution_count": 20
  },
  {
   "metadata": {
    "ExecuteTime": {
     "end_time": "2025-07-20T21:45:01.569940Z",
     "start_time": "2025-07-20T21:45:01.565673Z"
    }
   },
   "cell_type": "code",
   "source": "list(map(lambda x: x * 10, liste))",
   "id": "89a6b5649769bd74",
   "outputs": [
    {
     "data": {
      "text/plain": [
       "[10, 20, 30, 40, 50]"
      ]
     },
     "execution_count": 21,
     "metadata": {},
     "output_type": "execute_result"
    }
   ],
   "execution_count": 21
  },
  {
   "metadata": {
    "ExecuteTime": {
     "end_time": "2025-07-20T21:46:19.980073Z",
     "start_time": "2025-07-20T21:46:19.976359Z"
    }
   },
   "cell_type": "code",
   "source": [
    "#filter ve lambda mimarisi kullanalım\n",
    "\n",
    "liste = [1,2,3,4,5,6,7,8,9,10]\n",
    "\n",
    "list(filter(lambda x: x % 2 == 0, liste)) #Diyoruz ki bana çift olan sayıları filtrele ve listeye ekle diyoruz\n",
    "#iteratif nesne alır başka bir iteratif oluşturur ve bu filtrelediklerini bize geri döner"
   ],
   "id": "c8c0888bf6066434",
   "outputs": [
    {
     "data": {
      "text/plain": [
       "[2, 4, 6, 8, 10]"
      ]
     },
     "execution_count": 22,
     "metadata": {},
     "output_type": "execute_result"
    }
   ],
   "execution_count": 22
  },
  {
   "metadata": {
    "ExecuteTime": {
     "end_time": "2025-07-20T21:49:01.472100Z",
     "start_time": "2025-07-20T21:49:01.468524Z"
    }
   },
   "cell_type": "code",
   "source": [
    "#reduce: indirgeme işlemi yapar map ve filter'a benzer\n",
    "\n",
    "from functools import reduce\n",
    "\n",
    "liste = [1,2,3,4]\n",
    "reduce(lambda a,b: a + b, liste) #0 + 1, 1 + 2, 3 + 3, 6 + 4 = 10\n"
   ],
   "id": "5d4fa442a883e555",
   "outputs": [
    {
     "data": {
      "text/plain": [
       "10"
      ]
     },
     "execution_count": 25,
     "metadata": {},
     "output_type": "execute_result"
    }
   ],
   "execution_count": 25
  },
  {
   "metadata": {},
   "cell_type": "code",
   "outputs": [],
   "execution_count": null,
   "source": "",
   "id": "95a2a2802872578c"
  }
 ],
 "metadata": {
  "kernelspec": {
   "display_name": "Python 3",
   "language": "python",
   "name": "python3"
  },
  "language_info": {
   "codemirror_mode": {
    "name": "ipython",
    "version": 2
   },
   "file_extension": ".py",
   "mimetype": "text/x-python",
   "name": "python",
   "nbconvert_exporter": "python",
   "pygments_lexer": "ipython2",
   "version": "2.7.6"
  }
 },
 "nbformat": 4,
 "nbformat_minor": 5
}
