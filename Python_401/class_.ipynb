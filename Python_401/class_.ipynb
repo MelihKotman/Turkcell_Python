{
 "cells": [
  {
   "metadata": {},
   "cell_type": "markdown",
   "source": "Sınıflar, nesnelerin özelliklerini yapabileceklerini ayarlamak için ve kategorize etmek için Nesne Tabanlı Programanın temel amacıdır",
   "id": "7cb71c5501476f5e"
  },
  {
   "cell_type": "code",
   "execution_count": null,
   "id": "initial_id",
   "metadata": {
    "collapsed": true
   },
   "outputs": [],
   "source": [
    "class VeriBilimci():\n",
    "    print(\"Bu bir siniftir\")"
   ]
  },
  {
   "metadata": {
    "ExecuteTime": {
     "end_time": "2025-07-20T20:40:40.345833Z",
     "start_time": "2025-07-20T20:40:40.341506Z"
    }
   },
   "cell_type": "code",
   "source": [
    "class VeriBilimci():\n",
    "    #Sınıfların Özellikleri\n",
    "    bolum = ''\n",
    "    sql = 'Evet'\n",
    "    deneyim_yili = 0\n",
    "    bildigi_diller = []\n",
    "\n",
    "#Sınıfların özelliklerine erişmek\n",
    "VeriBilimci.bolum\n",
    "VeriBilimci.sql"
   ],
   "id": "157c14bcaec15051",
   "outputs": [
    {
     "data": {
      "text/plain": [
       "''"
      ]
     },
     "execution_count": 3,
     "metadata": {},
     "output_type": "execute_result"
    }
   ],
   "execution_count": 3
  },
  {
   "metadata": {
    "ExecuteTime": {
     "end_time": "2025-07-20T20:41:02.507460Z",
     "start_time": "2025-07-20T20:41:02.503658Z"
    }
   },
   "cell_type": "code",
   "source": [
    "#Sınıfların özelliklerini değiştirmek\n",
    "VeriBilimci.sql = 'Hayir'\n",
    "VeriBilimci.sql #Bu şekilde özelliği değiştirebiliyoruz"
   ],
   "id": "33c0b012795a8f0e",
   "outputs": [
    {
     "data": {
      "text/plain": [
       "'Hayir'"
      ]
     },
     "execution_count": 5,
     "metadata": {},
     "output_type": "execute_result"
    }
   ],
   "execution_count": 5
  },
  {
   "metadata": {},
   "cell_type": "markdown",
   "source": "Sınıfların Örneklemesi (instantiation)",
   "id": "a8208886669d11df"
  },
  {
   "metadata": {
    "ExecuteTime": {
     "end_time": "2025-07-20T20:43:08.203136Z",
     "start_time": "2025-07-20T20:43:08.198267Z"
    }
   },
   "cell_type": "code",
   "source": [
    "ali = VeriBilimci() #ali isimli bir nesnemiz oluştu\n",
    "ali.sql #hayir\n",
    "ali.deneyim_yili #0"
   ],
   "id": "416aec7cd7fc3fb",
   "outputs": [
    {
     "data": {
      "text/plain": [
       "0"
      ]
     },
     "execution_count": 7,
     "metadata": {},
     "output_type": "execute_result"
    }
   ],
   "execution_count": 7
  },
  {
   "metadata": {
    "ExecuteTime": {
     "end_time": "2025-07-20T20:43:30.934853Z",
     "start_time": "2025-07-20T20:43:30.930534Z"
    }
   },
   "cell_type": "code",
   "source": [
    "ali.bildigi_diller.append(\"Python\")\n",
    "ali.bildigi_diller #Ali nesnesinde bildiği dil özelliğine Python ekledil"
   ],
   "id": "b0b7a450b6fd47f0",
   "outputs": [
    {
     "data": {
      "text/plain": [
       "['Python']"
      ]
     },
     "execution_count": 8,
     "metadata": {},
     "output_type": "execute_result"
    }
   ],
   "execution_count": 8
  },
  {
   "metadata": {
    "ExecuteTime": {
     "end_time": "2025-07-20T20:44:05.029336Z",
     "start_time": "2025-07-20T20:44:05.024701Z"
    }
   },
   "cell_type": "code",
   "source": [
    "veli = VeriBilimci()\n",
    "veli.sql #Hayir\n",
    "veli.bildigi_diller #Burada da değişti bende de var diyor Python ama bunu ele alacağız"
   ],
   "id": "83488a5e7cbb67c6",
   "outputs": [
    {
     "data": {
      "text/plain": [
       "['Python']"
      ]
     },
     "execution_count": 10,
     "metadata": {},
     "output_type": "execute_result"
    }
   ],
   "execution_count": 10
  },
  {
   "metadata": {},
   "cell_type": "markdown",
   "source": "Her nesneye ayrı örnek yapma",
   "id": "726179fa5a7a19bf"
  },
  {
   "metadata": {
    "ExecuteTime": {
     "end_time": "2025-07-20T20:47:36.938726Z",
     "start_time": "2025-07-20T20:47:36.935734Z"
    }
   },
   "cell_type": "code",
   "source": [
    "class VeriBilimci():\n",
    "    def __init__(self): #Burada her bir ayrı nesne için ayrı bir özellik değeri verebiliyoruz\n",
    "        self.bildigi_diller = []\n",
    "ali = VeriBilimci()\n",
    "veli = VeriBilimci()"
   ],
   "id": "a8f8a9a5e6a38c45",
   "outputs": [],
   "execution_count": 20
  },
  {
   "metadata": {
    "ExecuteTime": {
     "end_time": "2025-07-20T20:47:38.269849Z",
     "start_time": "2025-07-20T20:47:38.265826Z"
    }
   },
   "cell_type": "code",
   "source": [
    "ali.bildigi_diller.append(\"Python\")\n",
    "ali.bildigi_diller"
   ],
   "id": "1bb3cbf9b1443eeb",
   "outputs": [
    {
     "data": {
      "text/plain": [
       "['Python']"
      ]
     },
     "execution_count": 21,
     "metadata": {},
     "output_type": "execute_result"
    }
   ],
   "execution_count": 21
  },
  {
   "metadata": {
    "ExecuteTime": {
     "end_time": "2025-07-20T20:47:39.804488Z",
     "start_time": "2025-07-20T20:47:39.800938Z"
    }
   },
   "cell_type": "code",
   "source": [
    "veli.bildigi_diller.append(\"R\")\n",
    "veli.bildigi_diller"
   ],
   "id": "7517196ea0e0db7e",
   "outputs": [
    {
     "data": {
      "text/plain": [
       "['R']"
      ]
     },
     "execution_count": 22,
     "metadata": {},
     "output_type": "execute_result"
    }
   ],
   "execution_count": 22
  },
  {
   "metadata": {
    "ExecuteTime": {
     "end_time": "2025-07-20T20:47:41.079330Z",
     "start_time": "2025-07-20T20:47:41.075812Z"
    }
   },
   "cell_type": "code",
   "source": "ali.bildigi_diller",
   "id": "d5b4e2efb68fed97",
   "outputs": [
    {
     "data": {
      "text/plain": [
       "['Python']"
      ]
     },
     "execution_count": 23,
     "metadata": {},
     "output_type": "execute_result"
    }
   ],
   "execution_count": 23
  },
  {
   "metadata": {
    "ExecuteTime": {
     "end_time": "2025-07-20T20:47:42.238673Z",
     "start_time": "2025-07-20T20:47:42.235554Z"
    }
   },
   "cell_type": "code",
   "source": "veli.bildigi_diller",
   "id": "fb2f39b164b5e6c5",
   "outputs": [
    {
     "data": {
      "text/plain": [
       "['R']"
      ]
     },
     "execution_count": 24,
     "metadata": {},
     "output_type": "execute_result"
    }
   ],
   "execution_count": 24
  },
  {
   "metadata": {
    "ExecuteTime": {
     "end_time": "2025-07-20T20:48:26.695874Z",
     "start_time": "2025-07-20T20:48:26.690573Z"
    }
   },
   "cell_type": "code",
   "source": [
    "class VeriBilimci():\n",
    "    bildigi_diller = [\"R\", \"Python\"]\n",
    "    def __init__(self):\n",
    "        self.bildigi_diller = []"
   ],
   "id": "c7f472f0c3f81b9b",
   "outputs": [],
   "execution_count": 25
  },
  {
   "metadata": {
    "ExecuteTime": {
     "end_time": "2025-07-20T20:48:27.906945Z",
     "start_time": "2025-07-20T20:48:27.904458Z"
    }
   },
   "cell_type": "code",
   "source": [
    "ali = VeriBilimci()\n",
    "veli = VeriBilimci()"
   ],
   "id": "4df7a0660470a472",
   "outputs": [],
   "execution_count": 26
  },
  {
   "metadata": {
    "ExecuteTime": {
     "end_time": "2025-07-20T20:49:03.442626Z",
     "start_time": "2025-07-20T20:49:03.439026Z"
    }
   },
   "cell_type": "code",
   "source": [
    "ali.bildigi_diller.append(\"Python\")\n",
    "ali.bildigi_diller"
   ],
   "id": "6addfa4958ec56ef",
   "outputs": [
    {
     "data": {
      "text/plain": [
       "['Python']"
      ]
     },
     "execution_count": 30,
     "metadata": {},
     "output_type": "execute_result"
    }
   ],
   "execution_count": 30
  },
  {
   "metadata": {
    "ExecuteTime": {
     "end_time": "2025-07-20T20:49:04.683305Z",
     "start_time": "2025-07-20T20:49:04.679369Z"
    }
   },
   "cell_type": "code",
   "source": [
    "veli.bildigi_diller.append(\"R\")\n",
    "veli.bildigi_diller"
   ],
   "id": "940505d3c724dad",
   "outputs": [
    {
     "data": {
      "text/plain": [
       "['R']"
      ]
     },
     "execution_count": 31,
     "metadata": {},
     "output_type": "execute_result"
    }
   ],
   "execution_count": 31
  },
  {
   "metadata": {
    "ExecuteTime": {
     "end_time": "2025-07-20T20:49:05.969203Z",
     "start_time": "2025-07-20T20:49:05.965344Z"
    }
   },
   "cell_type": "code",
   "source": "VeriBilimci.bildigi_diller",
   "id": "f4fba34fa487124f",
   "outputs": [
    {
     "data": {
      "text/plain": [
       "['R', 'Python']"
      ]
     },
     "execution_count": 32,
     "metadata": {},
     "output_type": "execute_result"
    }
   ],
   "execution_count": 32
  },
  {
   "metadata": {
    "ExecuteTime": {
     "end_time": "2025-07-20T20:51:59.208321Z",
     "start_time": "2025-07-20T20:51:59.204605Z"
    }
   },
   "cell_type": "code",
   "source": [
    "class VeriBilimci():\n",
    "    bildigi_diller = [\"Python\",\"R\"]\n",
    "    sql = 'Evet'\n",
    "    deneyim_yili = 0\n",
    "    bolum = ''\n",
    "    def __init__(self):\n",
    "        self.bildigi_diller = []\n",
    "        self.bolum = ''\n",
    "#sınıf özelliği ile nesne özelliğini ayrı isimler vermelisin"
   ],
   "id": "8a34d631e4b9bb85",
   "outputs": [],
   "execution_count": 36
  },
  {
   "metadata": {
    "ExecuteTime": {
     "end_time": "2025-07-20T20:52:00.721179Z",
     "start_time": "2025-07-20T20:52:00.717639Z"
    }
   },
   "cell_type": "code",
   "source": [
    "ali = VeriBilimci()\n",
    "veli = VeriBilimci()"
   ],
   "id": "dbf363dd8e41c11c",
   "outputs": [],
   "execution_count": 37
  },
  {
   "metadata": {
    "ExecuteTime": {
     "end_time": "2025-07-20T20:52:13.373393Z",
     "start_time": "2025-07-20T20:52:13.368853Z"
    }
   },
   "cell_type": "code",
   "source": "VeriBilimci.bolum",
   "id": "d202d30ea2c5679b",
   "outputs": [
    {
     "data": {
      "text/plain": [
       "''"
      ]
     },
     "execution_count": 39,
     "metadata": {},
     "output_type": "execute_result"
    }
   ],
   "execution_count": 39
  },
  {
   "metadata": {
    "ExecuteTime": {
     "end_time": "2025-07-20T20:52:34.483266Z",
     "start_time": "2025-07-20T20:52:34.478402Z"
    }
   },
   "cell_type": "code",
   "source": [
    "ali.bolum = \"istatistik\"\n",
    "ali.bolum"
   ],
   "id": "f3a4ca98a46c729d",
   "outputs": [
    {
     "data": {
      "text/plain": [
       "'istatistik'"
      ]
     },
     "execution_count": 40,
     "metadata": {},
     "output_type": "execute_result"
    }
   ],
   "execution_count": 40
  },
  {
   "metadata": {
    "ExecuteTime": {
     "end_time": "2025-07-20T20:52:35.917904Z",
     "start_time": "2025-07-20T20:52:35.914102Z"
    }
   },
   "cell_type": "code",
   "source": [
    "veli.bolum = \"endüstri mühendisliği\"\n",
    "veli.bolum"
   ],
   "id": "98b28a104d1b77ef",
   "outputs": [
    {
     "data": {
      "text/plain": [
       "'endüstri mühendisliği'"
      ]
     },
     "execution_count": 41,
     "metadata": {},
     "output_type": "execute_result"
    }
   ],
   "execution_count": 41
  },
  {
   "metadata": {
    "ExecuteTime": {
     "end_time": "2025-07-20T20:52:46.090023Z",
     "start_time": "2025-07-20T20:52:46.087429Z"
    }
   },
   "cell_type": "code",
   "source": "VeriBilimci.bolum",
   "id": "6910c4f3eea311b1",
   "outputs": [
    {
     "data": {
      "text/plain": [
       "''"
      ]
     },
     "execution_count": 42,
     "metadata": {},
     "output_type": "execute_result"
    }
   ],
   "execution_count": 42
  },
  {
   "metadata": {},
   "cell_type": "markdown",
   "source": "Nesnelerin metodları",
   "id": "cc33806ca8753de2"
  },
  {
   "metadata": {
    "ExecuteTime": {
     "end_time": "2025-07-20T20:57:10.882275Z",
     "start_time": "2025-07-20T20:57:10.879236Z"
    }
   },
   "cell_type": "code",
   "source": [
    "class VeriBilimci():\n",
    "    calisanlar = []\n",
    "    def __init__(self):\n",
    "        self.bildigi_diller = []\n",
    "        self.bolum = ''\n",
    "    def dil_ekle(self, yeni_dil): #nesneyi alacak ve nesneye koyulacak özellik değerini alacak\n",
    "        self.bildigi_diller.append(yeni_dil)"
   ],
   "id": "addb3b9dec0d36ea",
   "outputs": [],
   "execution_count": 45
  },
  {
   "metadata": {
    "ExecuteTime": {
     "end_time": "2025-07-20T20:57:11.916919Z",
     "start_time": "2025-07-20T20:57:11.913324Z"
    }
   },
   "cell_type": "code",
   "source": [
    "ali = VeriBilimci()\n",
    "veli = VeriBilimci()"
   ],
   "id": "38c3ee406bcc318d",
   "outputs": [],
   "execution_count": 46
  },
  {
   "metadata": {},
   "cell_type": "code",
   "source": [
    "#biz her zaman append'i sürekli ya da remove'u kullanamayız daha da kolaylaştırmalyız\n",
    "VeriBilimci.dil_ekle(\"R\") #TypeError alırız class ile nesne niteliği aynı nitelendirilemez"
   ],
   "id": "cf1496f60d07cad8",
   "outputs": [],
   "execution_count": null
  },
  {
   "metadata": {
    "ExecuteTime": {
     "end_time": "2025-07-20T20:59:43.244363Z",
     "start_time": "2025-07-20T20:59:43.240753Z"
    }
   },
   "cell_type": "code",
   "source": [
    "ali.dil_ekle(\"Python\") #ali nesnesindeki bildiği diller özelliğine python eklendi\n",
    "ali.bildigi_diller"
   ],
   "id": "43f216742c494300",
   "outputs": [
    {
     "data": {
      "text/plain": [
       "['Python']"
      ]
     },
     "execution_count": 48,
     "metadata": {},
     "output_type": "execute_result"
    }
   ],
   "execution_count": 48
  },
  {
   "metadata": {
    "ExecuteTime": {
     "end_time": "2025-07-20T21:00:02.586151Z",
     "start_time": "2025-07-20T21:00:02.583317Z"
    }
   },
   "cell_type": "code",
   "source": [
    "veli.dil_ekle(\"R\") #veli nesnesindeki bildiği diller özelliğine R eklendi\n",
    "veli.bildigi_diller"
   ],
   "id": "378f4387be39656f",
   "outputs": [
    {
     "data": {
      "text/plain": [
       "['R']"
      ]
     },
     "execution_count": 49,
     "metadata": {},
     "output_type": "execute_result"
    }
   ],
   "execution_count": 49
  }
 ],
 "metadata": {
  "kernelspec": {
   "display_name": "Python 3",
   "language": "python",
   "name": "python3"
  },
  "language_info": {
   "codemirror_mode": {
    "name": "ipython",
    "version": 2
   },
   "file_extension": ".py",
   "mimetype": "text/x-python",
   "name": "python",
   "nbconvert_exporter": "python",
   "pygments_lexer": "ipython2",
   "version": "2.7.6"
  }
 },
 "nbformat": 4,
 "nbformat_minor": 5
}
