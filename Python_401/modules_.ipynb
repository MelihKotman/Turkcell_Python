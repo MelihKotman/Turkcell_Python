{
 "cells": [
  {
   "metadata": {},
   "cell_type": "markdown",
   "source": "Modül Oluşturmak, modül/kütüphane/paket: belirli amaçları yerine getirmek için bir arada bulunan fonksiyonlardır",
   "id": "bbaba441c92398e4"
  },
  {
   "metadata": {
    "ExecuteTime": {
     "end_time": "2025-07-20T21:58:37.175946Z",
     "start_time": "2025-07-20T21:58:37.171219Z"
    }
   },
   "cell_type": "code",
   "source": [
    "import HesapModulu\n",
    "\n",
    "HesapModulu.yeni_maas(1000)"
   ],
   "id": "10cbd6c1dbed8262",
   "outputs": [
    {
     "name": "stdout",
     "output_type": "stream",
     "text": [
      "1200.0\n"
     ]
    },
    {
     "data": {
      "text/plain": [
       "1200.0"
      ]
     },
     "execution_count": 12,
     "metadata": {},
     "output_type": "execute_result"
    }
   ],
   "execution_count": 12
  },
  {
   "metadata": {
    "ExecuteTime": {
     "end_time": "2025-07-20T21:59:01.692406Z",
     "start_time": "2025-07-20T21:59:01.689900Z"
    }
   },
   "cell_type": "code",
   "source": "import HesapModulu as hm #fonksiyonu daha kolay isimlendirme için kullanırız",
   "id": "34e1353f534dea8f",
   "outputs": [],
   "execution_count": 13
  },
  {
   "metadata": {
    "ExecuteTime": {
     "end_time": "2025-07-20T21:59:07.016495Z",
     "start_time": "2025-07-20T21:59:07.011522Z"
    }
   },
   "cell_type": "code",
   "source": "hm.yeni_maas(1000)",
   "id": "226b82bd98311c4b",
   "outputs": [
    {
     "name": "stdout",
     "output_type": "stream",
     "text": [
      "1200.0\n"
     ]
    },
    {
     "data": {
      "text/plain": [
       "1200.0"
      ]
     },
     "execution_count": 14,
     "metadata": {},
     "output_type": "execute_result"
    }
   ],
   "execution_count": 14
  },
  {
   "metadata": {
    "ExecuteTime": {
     "end_time": "2025-07-20T21:59:59.264363Z",
     "start_time": "2025-07-20T21:59:59.259977Z"
    }
   },
   "cell_type": "code",
   "source": [
    "from HesapModulu import yeni_maas #sadece fonksiyonu kullanacaksan bir tanecik ya da istediğin kadar\n",
    "yeni_maas(1000)"
   ],
   "id": "4087f0ddb4bd396f",
   "outputs": [
    {
     "name": "stdout",
     "output_type": "stream",
     "text": [
      "1200.0\n"
     ]
    },
    {
     "data": {
      "text/plain": [
       "1200.0"
      ]
     },
     "execution_count": 15,
     "metadata": {},
     "output_type": "execute_result"
    }
   ],
   "execution_count": 15
  },
  {
   "metadata": {
    "ExecuteTime": {
     "end_time": "2025-07-20T22:01:28.636970Z",
     "start_time": "2025-07-20T22:01:28.630859Z"
    }
   },
   "cell_type": "code",
   "source": [
    "import importlib #eğer modül değiştiyse bunu yapman gerek\n",
    "import HesapModulu as hm\n",
    "importlib.reload(hm) #modülün değişince buradan değiştirmeyi sağlıyor\n",
    "hm.maaslar #istersem değişken ve nesneleri de alabilirim"
   ],
   "id": "738e64919347bfbe",
   "outputs": [
    {
     "data": {
      "text/plain": [
       "[1000, 2000, 3000, 4000, 5000, 6000, 7000, 8000, 9000, 10000]"
      ]
     },
     "execution_count": 17,
     "metadata": {},
     "output_type": "execute_result"
    }
   ],
   "execution_count": 17
  },
  {
   "metadata": {},
   "cell_type": "markdown",
   "source": "İstediğim kadar her şeyi koyabilirim, fonksiyonlar nesneler ve bu şekilde kolayca kütüphaneleri kullanabiliriz",
   "id": "1b7674b30ca0101a"
  }
 ],
 "metadata": {
  "kernelspec": {
   "display_name": "Python 3",
   "language": "python",
   "name": "python3"
  },
  "language_info": {
   "codemirror_mode": {
    "name": "ipython",
    "version": 2
   },
   "file_extension": ".py",
   "mimetype": "text/x-python",
   "name": "python",
   "nbconvert_exporter": "python",
   "pygments_lexer": "ipython2",
   "version": "2.7.6"
  }
 },
 "nbformat": 4,
 "nbformat_minor": 5
}
