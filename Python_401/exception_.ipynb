{
 "cells": [
  {
   "metadata": {},
   "cell_type": "markdown",
   "source": "Hatalar yani Error, üçe ayrılır. Programcı tarafından(Syntax gibi), Program hataları(daha çılgınca, kritik hatalardır ve zordur), İstisnalar(exceptions)(bu hatalar programın çalışmasına sıkıntı yapmaz)",
   "id": "f4309e76ab0ce957"
  },
  {
   "cell_type": "code",
   "id": "initial_id",
   "metadata": {
    "collapsed": true
   },
   "source": [
    "a = 10\n",
    "b = 0\n",
    "\n",
    "a / b # ama hata verilmesi gerekir ZeroDivisionError"
   ],
   "outputs": [],
   "execution_count": null
  },
  {
   "metadata": {
    "ExecuteTime": {
     "end_time": "2025-07-20T22:06:53.175770Z",
     "start_time": "2025-07-20T22:06:53.172034Z"
    }
   },
   "cell_type": "code",
   "source": [
    "try: #Bunu dene\n",
    "    print(a/b)\n",
    "except ZeroDivisionError: #Eğer hata alacaksan ve bu hatayı alacaksan altındakini çalıştır\n",
    "    print(\"Paydada sıfır olmaz\")"
   ],
   "id": "6c082fab8a5dffce",
   "outputs": [
    {
     "name": "stdout",
     "output_type": "stream",
     "text": [
      "Paydada sıfır olmaz\n"
     ]
    }
   ],
   "execution_count": 3
  },
  {
   "metadata": {},
   "cell_type": "code",
   "source": [
    "#TypeError\n",
    "a = 10\n",
    "b = \"2\"\n",
    "\n",
    "a / b #TypeError"
   ],
   "id": "4e3a043cb7faba53",
   "outputs": [],
   "execution_count": null
  },
  {
   "metadata": {
    "ExecuteTime": {
     "end_time": "2025-07-20T22:08:11.593113Z",
     "start_time": "2025-07-20T22:08:11.589937Z"
    }
   },
   "cell_type": "code",
   "source": [
    "try:\n",
    "    print(a/b)\n",
    "except TypeError:\n",
    "    print(\"int ile string çarpılmaz\")"
   ],
   "id": "b6d3376e620d4213",
   "outputs": [
    {
     "name": "stdout",
     "output_type": "stream",
     "text": [
      "int ile string çarpılmaz\n"
     ]
    }
   ],
   "execution_count": 6
  },
  {
   "metadata": {
    "ExecuteTime": {
     "end_time": "2025-07-20T22:08:55.332607Z",
     "start_time": "2025-07-20T22:08:55.329243Z"
    }
   },
   "cell_type": "code",
   "source": [
    "a = 10\n",
    "b = 2\n",
    "\n",
    "try:\n",
    "    print(a/b)\n",
    "except TypeError:\n",
    "    print(\"int ile string çarpılmaz\")"
   ],
   "id": "5f16582dcf4cb59",
   "outputs": [
    {
     "name": "stdout",
     "output_type": "stream",
     "text": [
      "5.0\n"
     ]
    }
   ],
   "execution_count": 7
  },
  {
   "metadata": {},
   "cell_type": "markdown",
   "source": "Sınav Soruları\n",
   "id": "be759ea2095c2092"
  },
  {
   "metadata": {
    "ExecuteTime": {
     "end_time": "2025-07-20T22:15:00.255502Z",
     "start_time": "2025-07-20T22:15:00.251976Z"
    }
   },
   "cell_type": "code",
   "source": [
    "A = [\"ali\",\"veli\",\"isik\"]\n",
    "B = [1,2,3]\n",
    "AB = [A,B]\n",
    "\n",
    "\n",
    "for i in AB:\n",
    "    if type(i[0]) == int:\n",
    "        print(list(map(lambda x: x-3, i)))"
   ],
   "id": "76ff2e6f32befa5c",
   "outputs": [
    {
     "name": "stdout",
     "output_type": "stream",
     "text": [
      "[-2, -1, 0]\n"
     ]
    }
   ],
   "execution_count": 9
  },
  {
   "metadata": {
    "ExecuteTime": {
     "end_time": "2025-07-20T22:16:47.259901Z",
     "start_time": "2025-07-20T22:16:47.197642Z"
    }
   },
   "cell_type": "code",
   "source": [
    "import numpy as np\n",
    "a = np.array([1,1,1])\n",
    "b = np.array([2])\n",
    "\n",
    "a+b"
   ],
   "id": "63a988a97688ebda",
   "outputs": [
    {
     "data": {
      "text/plain": [
       "array([3, 3, 3])"
      ]
     },
     "execution_count": 10,
     "metadata": {},
     "output_type": "execute_result"
    }
   ],
   "execution_count": 10
  },
  {
   "metadata": {
    "ExecuteTime": {
     "end_time": "2025-07-20T22:18:16.786484Z",
     "start_time": "2025-07-20T22:18:16.782556Z"
    }
   },
   "cell_type": "code",
   "source": [
    "\n",
    "from functools import reduce\n",
    "a = [1,2,3,4]\n",
    "reduce(lambda a,b: a*b, a)"
   ],
   "id": "264d8c1c2067a93f",
   "outputs": [
    {
     "data": {
      "text/plain": [
       "24"
      ]
     },
     "execution_count": 11,
     "metadata": {},
     "output_type": "execute_result"
    }
   ],
   "execution_count": 11
  },
  {
   "metadata": {},
   "cell_type": "code",
   "outputs": [],
   "execution_count": null,
   "source": "",
   "id": "417c7dfcdfa5b45d"
  }
 ],
 "metadata": {
  "kernelspec": {
   "display_name": "Python 3",
   "language": "python",
   "name": "python3"
  },
  "language_info": {
   "codemirror_mode": {
    "name": "ipython",
    "version": 2
   },
   "file_extension": ".py",
   "mimetype": "text/x-python",
   "name": "python",
   "nbconvert_exporter": "python",
   "pygments_lexer": "ipython2",
   "version": "2.7.6"
  }
 },
 "nbformat": 4,
 "nbformat_minor": 5
}
