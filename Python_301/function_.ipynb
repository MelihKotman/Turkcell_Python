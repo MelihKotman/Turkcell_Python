{
 "cells": [
  {
   "metadata": {},
   "cell_type": "markdown",
   "source": "Fonksiyon\n",
   "id": "51cd84986ff37369"
  },
  {
   "metadata": {
    "ExecuteTime": {
     "end_time": "2025-07-17T17:01:02.334160Z",
     "start_time": "2025-07-17T17:01:02.329466Z"
    }
   },
   "cell_type": "code",
   "source": "print()",
   "id": "962ba954f679b17c",
   "outputs": [
    {
     "name": "stdout",
     "output_type": "stream",
     "text": [
      "\n"
     ]
    }
   ],
   "execution_count": 1
  },
  {
   "metadata": {
    "ExecuteTime": {
     "end_time": "2025-07-17T17:01:10.958984Z",
     "start_time": "2025-07-17T17:01:10.953911Z"
    }
   },
   "cell_type": "code",
   "source": "print #fonksiyonu eğer \"()\" şeklinde yazmazsak bize fonksiyonun nasıl kullanıldığını gösterir",
   "id": "afad5d079d2b3228",
   "outputs": [
    {
     "data": {
      "text/plain": [
       "<function print(*args, sep=' ', end='\\n', file=None, flush=False)>"
      ]
     },
     "execution_count": 2,
     "metadata": {},
     "output_type": "execute_result"
    }
   ],
   "execution_count": 2
  },
  {
   "metadata": {
    "ExecuteTime": {
     "end_time": "2025-07-17T17:02:13.073569Z",
     "start_time": "2025-07-17T17:02:13.047916Z"
    }
   },
   "cell_type": "code",
   "source": [
    "?print\n",
    "\"\"\"\n",
    "Signature: print(*args, sep=' ', end='\\n', file=None, flush=False)\n",
    "Docstring:\n",
    "Prints the values to a stream, or to sys.stdout by default.\n",
    "\n",
    "sep\n",
    "  string inserted between values, default a space.\n",
    "end\n",
    "  string appended after the last value, default a newline.\n",
    "file\n",
    "  a file-like object (stream); defaults to the current sys.stdout.\n",
    "flush\n",
    "  whether to forcibly flush the stream.\n",
    "Type:      builtin_function_or_method\n",
    "\"\"\""
   ],
   "id": "a7a4da5a87722a9e",
   "outputs": [],
   "execution_count": 3
  },
  {
   "metadata": {
    "ExecuteTime": {
     "end_time": "2025-07-17T17:02:59.965188Z",
     "start_time": "2025-07-17T17:02:59.962385Z"
    }
   },
   "cell_type": "code",
   "source": "print(\"a\",\"b\",sep='_')",
   "id": "1120a46979a4564d",
   "outputs": [
    {
     "name": "stdout",
     "output_type": "stream",
     "text": [
      "a_b\n"
     ]
    }
   ],
   "execution_count": 4
  },
  {
   "metadata": {
    "ExecuteTime": {
     "end_time": "2025-07-17T17:04:47.073468Z",
     "start_time": "2025-07-17T17:04:47.069046Z"
    }
   },
   "cell_type": "code",
   "source": "len(\"a\") #bir tane argüman vermen gerekir boş yazamazsın",
   "id": "d665524953d614b",
   "outputs": [
    {
     "data": {
      "text/plain": [
       "1"
      ]
     },
     "execution_count": 6,
     "metadata": {},
     "output_type": "execute_result"
    }
   ],
   "execution_count": 6
  },
  {
   "metadata": {
    "ExecuteTime": {
     "end_time": "2025-07-17T17:05:34.299198Z",
     "start_time": "2025-07-17T17:05:34.296556Z"
    }
   },
   "cell_type": "code",
   "source": "print(\"a\",\"b\",sep='_',end=',')",
   "id": "75a866823790efa2",
   "outputs": [
    {
     "name": "stdout",
     "output_type": "stream",
     "text": [
      "a_b,"
     ]
    }
   ],
   "execution_count": 7
  },
  {
   "metadata": {},
   "cell_type": "markdown",
   "source": "Fonksiyon Yazma",
   "id": "50f7765b41ddac4a"
  },
  {
   "metadata": {},
   "cell_type": "code",
   "source": [
    "4 * 4\n",
    "4 / 4\n",
    "5 - 1\n",
    "6 + 3\n",
    "#bunlar temel matematiksel operatörler"
   ],
   "id": "577393d72b21717d",
   "outputs": [],
   "execution_count": null
  },
  {
   "metadata": {},
   "cell_type": "code",
   "source": [
    "3 ** 2\n",
    "3 ** 3\n",
    "#bu operatör ise karesini alma operatör"
   ],
   "id": "b6100e59f26445e8",
   "outputs": [],
   "execution_count": null
  },
  {
   "metadata": {},
   "cell_type": "markdown",
   "source": "bu operatörler aslında bildiğimiz gibi bir fonksiyondur",
   "id": "b3d612be4e3e8506"
  },
  {
   "metadata": {
    "ExecuteTime": {
     "end_time": "2025-07-17T17:09:38.703329Z",
     "start_time": "2025-07-17T17:09:38.700889Z"
    }
   },
   "cell_type": "code",
   "source": [
    "def kare_al(x):\n",
    "    x ** 2"
   ],
   "id": "610af42549123865",
   "outputs": [],
   "execution_count": 9
  },
  {
   "metadata": {
    "ExecuteTime": {
     "end_time": "2025-07-17T17:10:07.370013Z",
     "start_time": "2025-07-17T17:10:07.367701Z"
    }
   },
   "cell_type": "code",
   "source": "kare_al(3)",
   "id": "4f7750bd1bc8b432",
   "outputs": [],
   "execution_count": 10
  },
  {
   "metadata": {
    "ExecuteTime": {
     "end_time": "2025-07-17T17:10:42.175720Z",
     "start_time": "2025-07-17T17:10:42.172997Z"
    }
   },
   "cell_type": "code",
   "source": "print(kare_al(3))",
   "id": "c133be577a512b1",
   "outputs": [
    {
     "name": "stdout",
     "output_type": "stream",
     "text": [
      "None\n"
     ]
    }
   ],
   "execution_count": 11
  },
  {
   "metadata": {
    "ExecuteTime": {
     "end_time": "2025-07-17T17:11:00.560187Z",
     "start_time": "2025-07-17T17:11:00.557685Z"
    }
   },
   "cell_type": "code",
   "source": [
    "def kare_al(x):\n",
    "    return x ** 2"
   ],
   "id": "f71e9b06dbfbfdbd",
   "outputs": [],
   "execution_count": 12
  },
  {
   "metadata": {
    "ExecuteTime": {
     "end_time": "2025-07-17T17:11:04.401556Z",
     "start_time": "2025-07-17T17:11:04.397208Z"
    }
   },
   "cell_type": "code",
   "source": "kare_al(3)",
   "id": "74ce34721b606103",
   "outputs": [
    {
     "data": {
      "text/plain": [
       "9"
      ]
     },
     "execution_count": 13,
     "metadata": {},
     "output_type": "execute_result"
    }
   ],
   "execution_count": 13
  },
  {
   "metadata": {
    "ExecuteTime": {
     "end_time": "2025-07-17T17:11:07.347521Z",
     "start_time": "2025-07-17T17:11:07.344575Z"
    }
   },
   "cell_type": "code",
   "source": "print(kare_al(3))",
   "id": "8c895035c29a274b",
   "outputs": [
    {
     "name": "stdout",
     "output_type": "stream",
     "text": [
      "9\n"
     ]
    }
   ],
   "execution_count": 14
  },
  {
   "metadata": {
    "ExecuteTime": {
     "end_time": "2025-07-17T17:11:51.704255Z",
     "start_time": "2025-07-17T17:11:51.701265Z"
    }
   },
   "cell_type": "code",
   "source": [
    "def kare_al(x):\n",
    "    print(x ** 2)\n",
    "kare_al(3)"
   ],
   "id": "ba877ce79e8ae262",
   "outputs": [
    {
     "name": "stdout",
     "output_type": "stream",
     "text": [
      "9\n"
     ]
    }
   ],
   "execution_count": 15
  },
  {
   "metadata": {},
   "cell_type": "markdown",
   "source": "Bilgi notuyla çıktı üretmek",
   "id": "ba0ebdfad82fbd26"
  },
  {
   "metadata": {
    "ExecuteTime": {
     "end_time": "2025-07-17T17:13:35.717342Z",
     "start_time": "2025-07-17T17:13:35.713870Z"
    }
   },
   "cell_type": "code",
   "source": [
    "def kare_al(x):\n",
    "    print(\"Girilen sayinin karesi = \" + str(x ** 2)) #buradaki string ifadeler string ile birleştirerek yazdırabilir\n",
    "kare_al(3)"
   ],
   "id": "ceda456b971af354",
   "outputs": [
    {
     "name": "stdout",
     "output_type": "stream",
     "text": [
      "Girilen sayinin karesi = 9\n"
     ]
    }
   ],
   "execution_count": 17
  },
  {
   "metadata": {
    "ExecuteTime": {
     "end_time": "2025-07-17T17:15:15.984238Z",
     "start_time": "2025-07-17T17:15:15.980990Z"
    }
   },
   "cell_type": "code",
   "source": [
    "def kare_al(x):\n",
    "    print(\"Girilen sayi = \" + str(x))\n",
    "    print(\"Girilen sayinin karesi = \" + str(x ** 2))\n",
    "    #print(\"Girilen sayi = \" + str(x) + \" Girilen sayinin karesi = \" + str(x ** 2))\n",
    "kare_al(3)"
   ],
   "id": "75b00f79ac57a01",
   "outputs": [
    {
     "name": "stdout",
     "output_type": "stream",
     "text": [
      "Girilen sayi = 3\n",
      "Girilen sayinin karesi = 9\n"
     ]
    }
   ],
   "execution_count": 18
  },
  {
   "metadata": {},
   "cell_type": "markdown",
   "source": "İki argümanlı sayılar",
   "id": "1e7d88187e408e68"
  },
  {
   "metadata": {
    "ExecuteTime": {
     "end_time": "2025-07-17T17:19:13.636650Z",
     "start_time": "2025-07-17T17:19:13.633801Z"
    }
   },
   "cell_type": "code",
   "source": [
    "def carpma_yap(x, y):\n",
    "    print(x * y)\n",
    "carpma_yap(3, 4)"
   ],
   "id": "b709ba204f929c41",
   "outputs": [
    {
     "name": "stdout",
     "output_type": "stream",
     "text": [
      "12\n"
     ]
    }
   ],
   "execution_count": 19
  },
  {
   "metadata": {},
   "cell_type": "markdown",
   "source": "Ön tanımlı Argümanlar",
   "id": "d8c208b3f0aeeb6b"
  },
  {
   "metadata": {},
   "cell_type": "code",
   "source": [
    "def carpma_yap(x, y):\n",
    "    print(x * y)\n",
    "carpma_yap(3) #TypeError hatası alır çünkü eksik argüman verilmiştir."
   ],
   "id": "75354205f0993333",
   "outputs": [],
   "execution_count": null
  },
  {
   "metadata": {
    "ExecuteTime": {
     "end_time": "2025-07-17T17:21:42.110510Z",
     "start_time": "2025-07-17T17:21:42.107460Z"
    }
   },
   "cell_type": "code",
   "source": [
    "def carpma_yap(x, y = 1):\n",
    "    print(x * y)\n",
    "\n",
    "\n",
    "carpma_yap(3)"
   ],
   "id": "ca1d89562fbaaf47",
   "outputs": [
    {
     "name": "stdout",
     "output_type": "stream",
     "text": [
      "3\n"
     ]
    }
   ],
   "execution_count": 21
  },
  {
   "metadata": {
    "ExecuteTime": {
     "end_time": "2025-07-17T17:22:24.338078Z",
     "start_time": "2025-07-17T17:22:24.335581Z"
    }
   },
   "cell_type": "code",
   "source": "print(\"HELLO\",sep=' ', end='\\n', file=None, flush=False) #burada misal argümanların sıralamasına ve argümanların default değerine bakarsak anlaşılır",
   "id": "ac8c418047603276",
   "outputs": [
    {
     "name": "stdout",
     "output_type": "stream",
     "text": [
      "HELLO\n"
     ]
    }
   ],
   "execution_count": 22
  },
  {
   "metadata": {},
   "cell_type": "markdown",
   "source": "Argüman Sıralaması",
   "id": "1e51756b0f81e565"
  },
  {
   "metadata": {
    "ExecuteTime": {
     "end_time": "2025-07-17T17:23:27.242110Z",
     "start_time": "2025-07-17T17:23:27.239645Z"
    }
   },
   "cell_type": "code",
   "source": "carpma_yap(y = 2, x = 3) #Eğer argüman sırasını hatırlamazsan ama isimlerini hatırlarsan bu şekilde yazabilirsin",
   "id": "62f6e605095b9868",
   "outputs": [
    {
     "name": "stdout",
     "output_type": "stream",
     "text": [
      "6\n"
     ]
    }
   ],
   "execution_count": 23
  },
  {
   "metadata": {},
   "cell_type": "markdown",
   "source": "Fonksiyon Neden Yazılır? , misal bir sokak lambasının ısısını, nemini ve şarjını biliyorsak ve sokak lambasının verilerini işleme sokma istiyorsak ve bunu sonradan başka bir sokak lambasında kullanacaksan fonksiyon yazman gerekir",
   "id": "4d4b910086709d02"
  },
  {
   "metadata": {
    "ExecuteTime": {
     "end_time": "2025-07-17T17:27:10.069122Z",
     "start_time": "2025-07-17T17:27:10.066127Z"
    }
   },
   "cell_type": "code",
   "source": [
    "def direk_hesap(isi, nem, sarj):\n",
    "    print((isi + nem) / sarj)\n",
    "direk_hesap(25,40,70)"
   ],
   "id": "bb4845754a1addc8",
   "outputs": [
    {
     "name": "stdout",
     "output_type": "stream",
     "text": [
      "0.9285714285714286\n"
     ]
    }
   ],
   "execution_count": 24
  },
  {
   "metadata": {},
   "cell_type": "markdown",
   "source": "Fonksiyon Çıktısını Girdi Almak return()",
   "id": "82a61b443db6af9a"
  },
  {
   "metadata": {
    "ExecuteTime": {
     "end_time": "2025-07-17T17:28:45.339033Z",
     "start_time": "2025-07-17T17:28:45.335970Z"
    }
   },
   "cell_type": "code",
   "source": [
    "cikti = direk_hesap(25,40,70)\n",
    "cikti"
   ],
   "id": "4a8cb373ee70060e",
   "outputs": [
    {
     "name": "stdout",
     "output_type": "stream",
     "text": [
      "0.9285714285714286\n"
     ]
    }
   ],
   "execution_count": 25
  },
  {
   "metadata": {
    "ExecuteTime": {
     "end_time": "2025-07-17T17:28:55.961211Z",
     "start_time": "2025-07-17T17:28:55.958810Z"
    }
   },
   "cell_type": "code",
   "source": "print(cikti)",
   "id": "70096b8753290741",
   "outputs": [
    {
     "name": "stdout",
     "output_type": "stream",
     "text": [
      "None\n"
     ]
    }
   ],
   "execution_count": 26
  },
  {
   "metadata": {},
   "cell_type": "code",
   "outputs": [],
   "execution_count": null,
   "source": "direk_hesap(25,40,70) * 9 #TypeError verir çünkü tipler uyuşmuyor işlemde",
   "id": "84d6a07e0fa34d01"
  },
  {
   "metadata": {
    "ExecuteTime": {
     "end_time": "2025-07-17T17:30:23.170673Z",
     "start_time": "2025-07-17T17:30:23.167079Z"
    }
   },
   "cell_type": "code",
   "source": [
    "def direk_hesap(isi, nem, sarj):\n",
    "    return ((isi + nem) / sarj)\n",
    "direk_hesap(25,40,70)"
   ],
   "id": "f97667e0a809d22c",
   "outputs": [
    {
     "data": {
      "text/plain": [
       "0.9285714285714286"
      ]
     },
     "execution_count": 27,
     "metadata": {},
     "output_type": "execute_result"
    }
   ],
   "execution_count": 27
  },
  {
   "metadata": {
    "ExecuteTime": {
     "end_time": "2025-07-17T17:30:28.158352Z",
     "start_time": "2025-07-17T17:30:28.155240Z"
    }
   },
   "cell_type": "code",
   "source": [
    "cikti = direk_hesap(25,40,70)\n",
    "cikti"
   ],
   "id": "7d4e35b84504b4b7",
   "outputs": [
    {
     "data": {
      "text/plain": [
       "0.9285714285714286"
      ]
     },
     "execution_count": 28,
     "metadata": {},
     "output_type": "execute_result"
    }
   ],
   "execution_count": 28
  },
  {
   "metadata": {
    "ExecuteTime": {
     "end_time": "2025-07-17T17:30:35.666552Z",
     "start_time": "2025-07-17T17:30:35.663365Z"
    }
   },
   "cell_type": "code",
   "source": "type(cikti)",
   "id": "9777a3dd2c331494",
   "outputs": [
    {
     "data": {
      "text/plain": [
       "float"
      ]
     },
     "execution_count": 29,
     "metadata": {},
     "output_type": "execute_result"
    }
   ],
   "execution_count": 29
  },
  {
   "metadata": {
    "ExecuteTime": {
     "end_time": "2025-07-17T17:30:45.277292Z",
     "start_time": "2025-07-17T17:30:45.274082Z"
    }
   },
   "cell_type": "code",
   "source": "direk_hesap(25,40,70) * 9",
   "id": "650aa892d1b17201",
   "outputs": [
    {
     "data": {
      "text/plain": [
       "8.357142857142858"
      ]
     },
     "execution_count": 30,
     "metadata": {},
     "output_type": "execute_result"
    }
   ],
   "execution_count": 30
  },
  {
   "metadata": {},
   "cell_type": "markdown",
   "source": "Local ve Global Variables",
   "id": "56897c6c302fc781"
  },
  {
   "metadata": {
    "ExecuteTime": {
     "end_time": "2025-07-17T17:32:38.014161Z",
     "start_time": "2025-07-17T17:32:38.011533Z"
    }
   },
   "cell_type": "code",
   "source": [
    "x = 10 #global değişkenler\n",
    "y = 20 #global değişkenler"
   ],
   "id": "6b2ba4da761814f1",
   "outputs": [],
   "execution_count": 32
  },
  {
   "metadata": {
    "ExecuteTime": {
     "end_time": "2025-07-17T17:33:59.823546Z",
     "start_time": "2025-07-17T17:33:59.818956Z"
    }
   },
   "cell_type": "code",
   "source": [
    "def carpma_yap(x, y):\n",
    "    return x * y #burada x ve y lokal değişkenlerdir\n",
    "carpma_yap(2, 3)"
   ],
   "id": "ebf3d1b5ea497993",
   "outputs": [
    {
     "data": {
      "text/plain": [
       "6"
      ]
     },
     "execution_count": 35,
     "metadata": {},
     "output_type": "execute_result"
    }
   ],
   "execution_count": 35
  },
  {
   "metadata": {},
   "cell_type": "markdown",
   "source": "Lokal Değişkenler fonksiyonun süreç alanındadır, fonksiyon çalıştığı sürece çalışır ve fonksiyonun içinden alınamaz.",
   "id": "380a244cd31eb5a0"
  },
  {
   "metadata": {},
   "cell_type": "markdown",
   "source": "Lokal Etki Alanınlarından Global Etki Alanlarını Değiştirmek",
   "id": "d8071ba9ab13603"
  },
  {
   "metadata": {
    "ExecuteTime": {
     "end_time": "2025-07-17T17:38:10.820200Z",
     "start_time": "2025-07-17T17:38:10.815899Z"
    }
   },
   "cell_type": "code",
   "source": [
    "x = []\n",
    "def eleman_ekle(y):\n",
    "    x.append(y) #ilk önce bakacak eğer x verilmemişse ve fonksiyonda bir argüman değilse global değişkense kullanacak\n",
    "    print(str(y) + \" ifadesi eklendi.\")\n",
    "eleman_ekle(3)\n",
    "x"
   ],
   "id": "2da00abd9ae1bbd6",
   "outputs": [
    {
     "name": "stdout",
     "output_type": "stream",
     "text": [
      "3 ifadesi eklendi.\n"
     ]
    },
    {
     "data": {
      "text/plain": [
       "[3]"
      ]
     },
     "execution_count": 45,
     "metadata": {},
     "output_type": "execute_result"
    }
   ],
   "execution_count": 45
  },
  {
   "metadata": {
    "ExecuteTime": {
     "end_time": "2025-07-17T17:38:14.256683Z",
     "start_time": "2025-07-17T17:38:14.252898Z"
    }
   },
   "cell_type": "code",
   "source": [
    "eleman_ekle(2)\n",
    "x"
   ],
   "id": "b843052c8609c385",
   "outputs": [
    {
     "name": "stdout",
     "output_type": "stream",
     "text": [
      "2 ifadesi eklendi.\n"
     ]
    },
    {
     "data": {
      "text/plain": [
       "[3, 2]"
      ]
     },
     "execution_count": 46,
     "metadata": {},
     "output_type": "execute_result"
    }
   ],
   "execution_count": 46
  },
  {
   "metadata": {},
   "cell_type": "code",
   "source": [
    "x = []\n",
    "del x\n",
    "def eleman_ekle(y):\n",
    "    x.append(y) #baktı ki x değişkeni hiçbir yerde olmadığı gördü ve NameError verdi\n",
    "    print(str(y) + \" ifadesi eklendi.\")\n",
    "eleman_ekle(3)\n",
    "x"
   ],
   "id": "faf4bb614e98bc1a",
   "outputs": [],
   "execution_count": null
  }
 ],
 "metadata": {
  "kernelspec": {
   "display_name": "Python 3",
   "language": "python",
   "name": "python3"
  },
  "language_info": {
   "codemirror_mode": {
    "name": "ipython",
    "version": 2
   },
   "file_extension": ".py",
   "mimetype": "text/x-python",
   "name": "python",
   "nbconvert_exporter": "python",
   "pygments_lexer": "ipython2",
   "version": "2.7.6"
  }
 },
 "nbformat": 4,
 "nbformat_minor": 5
}
