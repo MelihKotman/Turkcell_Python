{
 "cells": [
  {
   "metadata": {},
   "cell_type": "markdown",
   "source": "Karar Yapıları True, False",
   "id": "9aefd0915c1d2cdd"
  },
  {
   "cell_type": "code",
   "id": "initial_id",
   "metadata": {
    "collapsed": true,
    "ExecuteTime": {
     "end_time": "2025-07-20T19:51:31.506885Z",
     "start_time": "2025-07-20T19:51:31.502065Z"
    }
   },
   "source": "sinir = 5000",
   "outputs": [],
   "execution_count": 1
  },
  {
   "metadata": {
    "ExecuteTime": {
     "end_time": "2025-07-20T19:51:38.223586Z",
     "start_time": "2025-07-20T19:51:38.218722Z"
    }
   },
   "cell_type": "code",
   "source": "sinir == 4000",
   "id": "da56d1f826a52a16",
   "outputs": [
    {
     "data": {
      "text/plain": [
       "False"
      ]
     },
     "execution_count": 2,
     "metadata": {},
     "output_type": "execute_result"
    }
   ],
   "execution_count": 2
  },
  {
   "metadata": {
    "ExecuteTime": {
     "end_time": "2025-07-20T19:51:46.524744Z",
     "start_time": "2025-07-20T19:51:46.521714Z"
    }
   },
   "cell_type": "code",
   "source": "sinir == 5000",
   "id": "f1ad9170cc852cba",
   "outputs": [
    {
     "data": {
      "text/plain": [
       "True"
      ]
     },
     "execution_count": 3,
     "metadata": {},
     "output_type": "execute_result"
    }
   ],
   "execution_count": 3
  },
  {
   "metadata": {
    "ExecuteTime": {
     "end_time": "2025-07-20T19:51:57.101489Z",
     "start_time": "2025-07-20T19:51:57.098261Z"
    }
   },
   "cell_type": "code",
   "source": "type(sinir == 5000)",
   "id": "74badde4b476c3b5",
   "outputs": [
    {
     "data": {
      "text/plain": [
       "bool"
      ]
     },
     "execution_count": 4,
     "metadata": {},
     "output_type": "execute_result"
    }
   ],
   "execution_count": 4
  },
  {
   "metadata": {
    "ExecuteTime": {
     "end_time": "2025-07-20T19:52:19.288633Z",
     "start_time": "2025-07-20T19:52:19.284965Z"
    }
   },
   "cell_type": "code",
   "source": "5 == 4",
   "id": "585508c2f0a740c1",
   "outputs": [
    {
     "data": {
      "text/plain": [
       "False"
      ]
     },
     "execution_count": 5,
     "metadata": {},
     "output_type": "execute_result"
    }
   ],
   "execution_count": 5
  },
  {
   "metadata": {
    "ExecuteTime": {
     "end_time": "2025-07-20T19:52:25.016514Z",
     "start_time": "2025-07-20T19:52:25.013076Z"
    }
   },
   "cell_type": "code",
   "source": "5 == 5",
   "id": "9a1c834684b985a8",
   "outputs": [
    {
     "data": {
      "text/plain": [
       "True"
      ]
     },
     "execution_count": 6,
     "metadata": {},
     "output_type": "execute_result"
    }
   ],
   "execution_count": 6
  },
  {
   "metadata": {},
   "cell_type": "markdown",
   "source": "if(): karar yapısı",
   "id": "80febd2e9efc833e"
  },
  {
   "metadata": {
    "ExecuteTime": {
     "end_time": "2025-07-20T19:53:42.131366Z",
     "start_time": "2025-07-20T19:53:42.128873Z"
    }
   },
   "cell_type": "code",
   "source": [
    "sinir = 50000\n",
    "gelir = 40000"
   ],
   "id": "edc4a3cf3ef1017a",
   "outputs": [],
   "execution_count": 8
  },
  {
   "metadata": {
    "ExecuteTime": {
     "end_time": "2025-07-20T19:54:05.288973Z",
     "start_time": "2025-07-20T19:54:05.286450Z"
    }
   },
   "cell_type": "code",
   "source": [
    "if gelir < sinir:\n",
    "    print(\"Gelir sinirdan kucuk\")"
   ],
   "id": "7da7f9e06cf5a9f3",
   "outputs": [
    {
     "name": "stdout",
     "output_type": "stream",
     "text": [
      "Gelir sinirdan kucuk\n"
     ]
    }
   ],
   "execution_count": 9
  },
  {
   "metadata": {
    "ExecuteTime": {
     "end_time": "2025-07-20T19:54:14.212768Z",
     "start_time": "2025-07-20T19:54:14.209061Z"
    }
   },
   "cell_type": "code",
   "source": "gelir < sinir",
   "id": "b3d91d0c87444bb8",
   "outputs": [
    {
     "data": {
      "text/plain": [
       "True"
      ]
     },
     "execution_count": 10,
     "metadata": {},
     "output_type": "execute_result"
    }
   ],
   "execution_count": 10
  },
  {
   "metadata": {
    "ExecuteTime": {
     "end_time": "2025-07-20T19:54:36.649404Z",
     "start_time": "2025-07-20T19:54:36.646679Z"
    }
   },
   "cell_type": "code",
   "source": [
    "if gelir < sinir:\n",
    "    print(gelir * 2)"
   ],
   "id": "3009eadca0229276",
   "outputs": [
    {
     "name": "stdout",
     "output_type": "stream",
     "text": [
      "80000\n"
     ]
    }
   ],
   "execution_count": 11
  },
  {
   "metadata": {
    "ExecuteTime": {
     "end_time": "2025-07-20T19:54:55.914096Z",
     "start_time": "2025-07-20T19:54:55.911705Z"
    }
   },
   "cell_type": "code",
   "source": [
    "gelir = 60000\n",
    "if gelir < sinir:\n",
    "    print(\"Gelir sinirdan kucuk\")\n",
    "#True gelmediği için hiçbir şey dönmez"
   ],
   "id": "2213be460eaf9693",
   "outputs": [],
   "execution_count": 12
  },
  {
   "metadata": {
    "ExecuteTime": {
     "end_time": "2025-07-20T19:55:28.238080Z",
     "start_time": "2025-07-20T19:55:28.235341Z"
    }
   },
   "cell_type": "code",
   "source": [
    "if gelir > sinir:\n",
    "    print(\"Gelir sinirdan buyuk\")"
   ],
   "id": "71a03d85b60170eb",
   "outputs": [
    {
     "name": "stdout",
     "output_type": "stream",
     "text": [
      "Gelir sinirdan buyuk\n"
     ]
    }
   ],
   "execution_count": 13
  },
  {
   "metadata": {},
   "cell_type": "markdown",
   "source": "else: karar yapısı",
   "id": "b73926bbdb2fdef"
  },
  {
   "metadata": {
    "ExecuteTime": {
     "end_time": "2025-07-20T19:56:29.080664Z",
     "start_time": "2025-07-20T19:56:29.077791Z"
    }
   },
   "cell_type": "code",
   "source": [
    "if gelir > sinir:\n",
    "    print(\"Gelir sinirdan buyuk\")\n",
    "else:\n",
    "    print(\"Gelir sinirdan kucuk\")"
   ],
   "id": "fcaa51e4973025df",
   "outputs": [
    {
     "name": "stdout",
     "output_type": "stream",
     "text": [
      "Gelir sinirdan buyuk\n"
     ]
    }
   ],
   "execution_count": 15
  },
  {
   "metadata": {
    "ExecuteTime": {
     "end_time": "2025-07-20T19:57:18.159331Z",
     "start_time": "2025-07-20T19:57:18.155802Z"
    }
   },
   "cell_type": "code",
   "source": [
    "sinir = 50000\n",
    "gelir = 75000\n",
    "if gelir < sinir:\n",
    "    print(\"Gelir sinirdan kucuk\")\n",
    "else:\n",
    "    print(\"Gelir sinirdan buyuk\")\n",
    "#ifteki karar true dönmezse else tarafına düşer default olarak"
   ],
   "id": "f7291c2d98d30af0",
   "outputs": [
    {
     "name": "stdout",
     "output_type": "stream",
     "text": [
      "Gelir sinirdan buyuk\n"
     ]
    }
   ],
   "execution_count": 17
  },
  {
   "metadata": {
    "ExecuteTime": {
     "end_time": "2025-07-20T19:58:00.752522Z",
     "start_time": "2025-07-20T19:58:00.749915Z"
    }
   },
   "cell_type": "code",
   "source": [
    "if gelir == sinir:\n",
    "    print(\"Gelir sinir esit\")\n",
    "else:\n",
    "    print(\"Gelir sinir esit degil\")\n",
    "#Burada da aynı şekilde"
   ],
   "id": "587e4aad642333a0",
   "outputs": [
    {
     "name": "stdout",
     "output_type": "stream",
     "text": [
      "Gelir sinir esit degil\n"
     ]
    }
   ],
   "execution_count": 18
  },
  {
   "metadata": {},
   "cell_type": "markdown",
   "source": "elif(): karar yapısı",
   "id": "4dd2f1cc18d87c6f"
  },
  {
   "metadata": {
    "ExecuteTime": {
     "end_time": "2025-07-20T20:01:06.566053Z",
     "start_time": "2025-07-20T20:01:06.563206Z"
    }
   },
   "cell_type": "code",
   "source": [
    "sinir = 50000\n",
    "gelir1 = 60000\n",
    "gelir2 = 50000\n",
    "gelir3 = 35000\n",
    "if gelir1 > sinir: #Burada True aldığı için bunun altındaki ifadeleri kullanmaz (gelir1)\n",
    "    print(\"Tebrikler, hediye kazandiniz.\")\n",
    "elif gelir1 < sinir:\n",
    "    print(\"Uyari!\")\n",
    "else:\n",
    "    print(\"Takibe devam\")\n"
   ],
   "id": "3cb9c7024e27e5b1",
   "outputs": [
    {
     "name": "stdout",
     "output_type": "stream",
     "text": [
      "Tebrikler, hediye kazandiniz.\n"
     ]
    }
   ],
   "execution_count": 19
  },
  {
   "metadata": {
    "ExecuteTime": {
     "end_time": "2025-07-20T20:01:43.506363Z",
     "start_time": "2025-07-20T20:01:43.503883Z"
    }
   },
   "cell_type": "code",
   "source": [
    "if gelir2 > sinir:\n",
    "    print(\"Tebrikler, hediye kazandiniz.\")\n",
    "elif gelir2 < sinir:\n",
    "    print(\"Uyari!\")\n",
    "else:\n",
    "    print(\"Takibe devam\") #Burada en son karardan sonuç alamayınca buraya gelir\n"
   ],
   "id": "71d8f77d7b88d0ba",
   "outputs": [
    {
     "name": "stdout",
     "output_type": "stream",
     "text": [
      "Takibe devam\n"
     ]
    }
   ],
   "execution_count": 20
  },
  {
   "metadata": {
    "ExecuteTime": {
     "end_time": "2025-07-20T20:02:38.830657Z",
     "start_time": "2025-07-20T20:02:38.827434Z"
    }
   },
   "cell_type": "code",
   "source": [
    "if gelir3 > sinir:\n",
    "    print(\"Tebrikler, hediye kazandiniz.\")\n",
    "elif gelir3 < sinir: #Yukarıdaki True olmadığı için buraya gelecek ve buradan sonrasına devam etmeyecek(gelir2)\n",
    "    print(\"Uyari!\")\n",
    "else:\n",
    "    print(\"Takibe devam\")\n"
   ],
   "id": "d427f6a59fa007ab",
   "outputs": [
    {
     "name": "stdout",
     "output_type": "stream",
     "text": [
      "Uyari!\n"
     ]
    }
   ],
   "execution_count": 22
  },
  {
   "metadata": {},
   "cell_type": "markdown",
   "source": "Uygulama if ve input()",
   "id": "233c7cb8d3c5dc1b"
  },
  {
   "metadata": {
    "ExecuteTime": {
     "end_time": "2025-07-20T20:07:24.262524Z",
     "start_time": "2025-07-20T20:07:15.994631Z"
    }
   },
   "cell_type": "code",
   "source": [
    "magaza_adi = input(\"Magaza adi nedir?\")\n",
    "sinir = 50000\n",
    "gelir = int(input(\"Magazanin geliri ne kadardir :\"))\n",
    "\n",
    "if gelir > sinir: #55000 girince\n",
    "    print(\"Tebrikler! \" + magaza_adi + \" promosyon kazandiniz.\")\n",
    "elif gelir < sinir: #40000 girince\n",
    "    print(\"Uyari! cok dusuk gelir: \" + str(gelir))\n",
    "else:\n",
    "    print(\"Takibe devam\")"
   ],
   "id": "11372040a415322a",
   "outputs": [
    {
     "name": "stdout",
     "output_type": "stream",
     "text": [
      "Tebrikler!55000 promosyon kazandiniz.\n"
     ]
    }
   ],
   "execution_count": 25
  }
 ],
 "metadata": {
  "kernelspec": {
   "display_name": "Python 3",
   "language": "python",
   "name": "python3"
  },
  "language_info": {
   "codemirror_mode": {
    "name": "ipython",
    "version": 2
   },
   "file_extension": ".py",
   "mimetype": "text/x-python",
   "name": "python",
   "nbconvert_exporter": "python",
   "pygments_lexer": "ipython2",
   "version": "2.7.6"
  }
 },
 "nbformat": 4,
 "nbformat_minor": 5
}
