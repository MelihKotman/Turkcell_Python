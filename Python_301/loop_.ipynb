{
 "cells": [
  {
   "metadata": {},
   "cell_type": "markdown",
   "source": "Döngü Yapısı For()",
   "id": "715a975d704d65b5"
  },
  {
   "cell_type": "code",
   "id": "initial_id",
   "metadata": {
    "collapsed": true,
    "ExecuteTime": {
     "end_time": "2025-07-20T20:13:36.029564Z",
     "start_time": "2025-07-20T20:13:36.022624Z"
    }
   },
   "source": [
    "ogrenci = [\"ali\",\"veli\",\"isik\",\"berk\"]\n",
    "ogrenci[0]\n",
    "ogrenci[1]\n",
    "ogrenci[2]\n",
    "ogrenci[3]\n",
    "#İteratif bir şeyler yapacaksak for kullanabiliriz"
   ],
   "outputs": [
    {
     "data": {
      "text/plain": [
       "'berk'"
      ]
     },
     "execution_count": 1,
     "metadata": {},
     "output_type": "execute_result"
    }
   ],
   "execution_count": 1
  },
  {
   "metadata": {
    "ExecuteTime": {
     "end_time": "2025-07-20T20:14:37.636746Z",
     "start_time": "2025-07-20T20:14:37.632717Z"
    }
   },
   "cell_type": "code",
   "source": [
    "for i in ogrenci: #Diğer dillere bakarsak Python bize kolaylık sağlar ve burada dizideki her eleman i'ye atanacak ve altta i ile işlem yapılacak taa ki dizi bitimine kadar\n",
    "    print(i)"
   ],
   "id": "a37640e61233b4f6",
   "outputs": [
    {
     "name": "stdout",
     "output_type": "stream",
     "text": [
      "ali\n",
      "veli\n",
      "isik\n",
      "berk\n"
     ]
    }
   ],
   "execution_count": 2
  },
  {
   "metadata": {},
   "cell_type": "markdown",
   "source": "Uygulama for()",
   "id": "ac06a69cc396b432"
  },
  {
   "metadata": {
    "ExecuteTime": {
     "end_time": "2025-07-20T20:16:29.526464Z",
     "start_time": "2025-07-20T20:16:29.523451Z"
    }
   },
   "cell_type": "code",
   "source": [
    "maaslar = [1000,2000,3000,4000,5000]\n",
    "#bunları teker teker indexleyip yazdırmak yerine for() kullanalım\n",
    "for i in maaslar:\n",
    "    print(i)"
   ],
   "id": "349514fb2f591985",
   "outputs": [
    {
     "name": "stdout",
     "output_type": "stream",
     "text": [
      "1000\n",
      "2000\n",
      "3000\n",
      "4000\n",
      "5000\n"
     ]
    }
   ],
   "execution_count": 3
  },
  {
   "metadata": {
    "ExecuteTime": {
     "end_time": "2025-07-20T20:16:48.928175Z",
     "start_time": "2025-07-20T20:16:48.925606Z"
    }
   },
   "cell_type": "code",
   "source": [
    "for i in maaslar:\n",
    "    print(i * 0)"
   ],
   "id": "4ac1c0c8ebad24f4",
   "outputs": [
    {
     "name": "stdout",
     "output_type": "stream",
     "text": [
      "0\n",
      "0\n",
      "0\n",
      "0\n",
      "0\n"
     ]
    }
   ],
   "execution_count": 4
  },
  {
   "metadata": {
    "ExecuteTime": {
     "end_time": "2025-07-20T20:16:59.770361Z",
     "start_time": "2025-07-20T20:16:59.767764Z"
    }
   },
   "cell_type": "code",
   "source": [
    "for maas in maaslar: #burada i ve maas yerine istediğimizi yazabiliriz\n",
    "    print(maas)"
   ],
   "id": "85902c235950c89f",
   "outputs": [
    {
     "name": "stdout",
     "output_type": "stream",
     "text": [
      "1000\n",
      "2000\n",
      "3000\n",
      "4000\n",
      "5000\n"
     ]
    }
   ],
   "execution_count": 5
  },
  {
   "metadata": {},
   "cell_type": "markdown",
   "source": "for() ile fonksiyonlar",
   "id": "fe528f061bc99ba4"
  },
  {
   "metadata": {
    "ExecuteTime": {
     "end_time": "2025-07-20T20:21:32.104789Z",
     "start_time": "2025-07-20T20:21:32.101485Z"
    }
   },
   "cell_type": "code",
   "source": [
    "#maaslara yüzde 20 zam yapılacaktır! bunu for ve fonksiyon ile yapınız\n",
    "def yeni_maas(x):\n",
    "    return (x * 20 / 100) + x\n",
    "\n",
    "maaslar = [1000,2000,3000,4000,5000]\n",
    "\n",
    "for i in maaslar:\n",
    "    print(\"Yeni maas = \" + str(yeni_maas(i)))"
   ],
   "id": "3455804a4873e803",
   "outputs": [
    {
     "name": "stdout",
     "output_type": "stream",
     "text": [
      "Yeni maas = 1200.0\n",
      "Yeni maas = 2400.0\n",
      "Yeni maas = 3600.0\n",
      "Yeni maas = 4800.0\n",
      "Yeni maas = 6000.0\n"
     ]
    }
   ],
   "execution_count": 6
  },
  {
   "metadata": {},
   "cell_type": "markdown",
   "source": "Uygulama: if(), for() ve fonksiyonlar",
   "id": "7e292a4294d77336"
  },
  {
   "metadata": {
    "ExecuteTime": {
     "end_time": "2025-07-20T20:26:04.671734Z",
     "start_time": "2025-07-20T20:26:04.667486Z"
    }
   },
   "cell_type": "code",
   "source": [
    "maaslar = [1000,2000,3000,4000,5000]\n",
    "# maasi 3000'den fazla %10 zam, maasi daha dusuk olana %20 zam\n",
    "def maas_ust(x):\n",
    "    return (x * 10 / 100) + x\n",
    "\n",
    "def maas_alt(x):\n",
    "    return (x * 20 / 100) + x\n",
    "\n",
    "for i in maaslar:\n",
    "    if i >= 3000:\n",
    "        print(\"Yeni maas = \" + str(maas_ust(i)))\n",
    "    else:\n",
    "        print(\"Yeni maas = \" + str(maas_alt(i)))"
   ],
   "id": "4cfd1d8e7b634c21",
   "outputs": [
    {
     "name": "stdout",
     "output_type": "stream",
     "text": [
      "Yeni maas = 1200.0\n",
      "Yeni maas = 2400.0\n",
      "Yeni maas = 3300.0\n",
      "Yeni maas = 4400.0\n",
      "Yeni maas = 5500.0\n"
     ]
    }
   ],
   "execution_count": 9
  },
  {
   "metadata": {},
   "cell_type": "markdown",
   "source": "Break ve Continue ifadeleri",
   "id": "88e423130caca489"
  },
  {
   "metadata": {
    "ExecuteTime": {
     "end_time": "2025-07-20T20:28:35.310858Z",
     "start_time": "2025-07-20T20:28:35.307378Z"
    }
   },
   "cell_type": "code",
   "source": [
    "#maas degeri 3000 olunca durmak istiyoruz\n",
    "maaslar = [8000, 5000, 2000, 1000, 3000, 7000, 1000]\n",
    "#maaslar düzensizse sıralanmışsa .sort() ile sıralayabilirsin\n",
    "maaslar.sort()\n",
    "for i in maaslar:\n",
    "    if i == 3000:\n",
    "        print(\"Kesildi\")\n",
    "        break #Bitirme ifadesi artık döngü bitmiştir\n",
    "    print(i)"
   ],
   "id": "49af0a4682649082",
   "outputs": [
    {
     "name": "stdout",
     "output_type": "stream",
     "text": [
      "1000\n",
      "1000\n",
      "2000\n",
      "Kesildi\n"
     ]
    }
   ],
   "execution_count": 10
  },
  {
   "metadata": {
    "ExecuteTime": {
     "end_time": "2025-07-20T20:28:54.794787Z",
     "start_time": "2025-07-20T20:28:54.792199Z"
    }
   },
   "cell_type": "code",
   "source": [
    "for i in maaslar:\n",
    "    if i == 3000:\n",
    "        print(\"Kesildi\")\n",
    "        continue #Bunu atla ve devam et döngüye\n",
    "    print(i)"
   ],
   "id": "5f534433aa066357",
   "outputs": [
    {
     "name": "stdout",
     "output_type": "stream",
     "text": [
      "1000\n",
      "1000\n",
      "2000\n",
      "Kesildi\n",
      "5000\n",
      "7000\n",
      "8000\n"
     ]
    }
   ],
   "execution_count": 11
  },
  {
   "metadata": {},
   "cell_type": "markdown",
   "source": "While() karar yapısı",
   "id": "fde103571846b673"
  },
  {
   "metadata": {
    "ExecuteTime": {
     "end_time": "2025-07-20T20:30:36.452331Z",
     "start_time": "2025-07-20T20:30:36.448283Z"
    }
   },
   "cell_type": "code",
   "source": [
    "sayi = 1\n",
    "while sayi < 10:\n",
    "    print(sayi)\n",
    "    sayi += 1"
   ],
   "id": "e4f3fcbcb2d09c09",
   "outputs": [
    {
     "name": "stdout",
     "output_type": "stream",
     "text": [
      "1\n",
      "2\n",
      "3\n",
      "4\n",
      "5\n",
      "6\n",
      "7\n",
      "8\n",
      "9\n"
     ]
    }
   ],
   "execution_count": 14
  },
  {
   "metadata": {
    "ExecuteTime": {
     "end_time": "2025-07-20T20:31:20.742448Z",
     "start_time": "2025-07-20T20:31:20.737797Z"
    }
   },
   "cell_type": "code",
   "source": [
    "sayi = 1\n",
    "while sayi < 10:\n",
    "    sayi += 1\n",
    "    print(sayi)"
   ],
   "id": "876ae0196a43937d",
   "outputs": [
    {
     "name": "stdout",
     "output_type": "stream",
     "text": [
      "2\n",
      "3\n",
      "4\n",
      "5\n",
      "6\n",
      "7\n",
      "8\n",
      "9\n",
      "10\n"
     ]
    }
   ],
   "execution_count": 17
  },
  {
   "metadata": {},
   "cell_type": "code",
   "outputs": [],
   "execution_count": null,
   "source": "",
   "id": "7e0128cb74321c9"
  }
 ],
 "metadata": {
  "kernelspec": {
   "display_name": "Python 3",
   "language": "python",
   "name": "python3"
  },
  "language_info": {
   "codemirror_mode": {
    "name": "ipython",
    "version": 2
   },
   "file_extension": ".py",
   "mimetype": "text/x-python",
   "name": "python",
   "nbconvert_exporter": "python",
   "pygments_lexer": "ipython2",
   "version": "2.7.6"
  }
 },
 "nbformat": 4,
 "nbformat_minor": 5
}
