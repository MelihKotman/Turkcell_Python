{
 "cells": [
  {
   "metadata": {},
   "cell_type": "markdown",
   "source": "Tuple: Kapsayıcıdırlar, sıralıdırlar ama DEĞİŞTİREMEZLER\n",
   "id": "f5584105ef64a992"
  },
  {
   "metadata": {
    "ExecuteTime": {
     "end_time": "2025-07-17T15:20:34.116123Z",
     "start_time": "2025-07-17T15:20:34.113018Z"
    }
   },
   "cell_type": "code",
   "source": "t = (\"ali\", \"veli\", 1, 3, 5.5) #birinci şekilde",
   "id": "bec0500e53a96289",
   "outputs": [],
   "execution_count": 1
  },
  {
   "metadata": {
    "ExecuteTime": {
     "end_time": "2025-07-17T15:21:10.282703Z",
     "start_time": "2025-07-17T15:21:10.279480Z"
    }
   },
   "cell_type": "code",
   "source": "tP = \"ali\",14234,[1,2,3]",
   "id": "9625c325b5aa719f",
   "outputs": [],
   "execution_count": 2
  },
  {
   "metadata": {
    "ExecuteTime": {
     "end_time": "2025-07-17T15:21:51.227293Z",
     "start_time": "2025-07-17T15:21:51.224738Z"
    }
   },
   "cell_type": "code",
   "source": "ty = (\"eleman\",)",
   "id": "7910f75529589c7d",
   "outputs": [],
   "execution_count": 5
  },
  {
   "metadata": {},
   "cell_type": "markdown",
   "source": "Tek elemanlı tuple oluştururken sonuna bir virgül atmak gerekir ki tuple olduğunu anlasın",
   "id": "367a908d3e32626b"
  },
  {
   "metadata": {
    "ExecuteTime": {
     "end_time": "2025-07-17T15:21:52.540258Z",
     "start_time": "2025-07-17T15:21:52.536477Z"
    }
   },
   "cell_type": "code",
   "source": "type(ty)",
   "id": "1b0e627b672c3521",
   "outputs": [
    {
     "data": {
      "text/plain": [
       "tuple"
      ]
     },
     "execution_count": 6,
     "metadata": {},
     "output_type": "execute_result"
    }
   ],
   "execution_count": 6
  },
  {
   "metadata": {
    "ExecuteTime": {
     "end_time": "2025-07-17T15:22:41.486961Z",
     "start_time": "2025-07-17T15:22:41.483231Z"
    }
   },
   "cell_type": "code",
   "source": "t[1]",
   "id": "96c63239a980ce54",
   "outputs": [
    {
     "data": {
      "text/plain": [
       "'veli'"
      ]
     },
     "execution_count": 7,
     "metadata": {},
     "output_type": "execute_result"
    }
   ],
   "execution_count": 7
  },
  {
   "metadata": {
    "ExecuteTime": {
     "end_time": "2025-07-17T15:22:46.944934Z",
     "start_time": "2025-07-17T15:22:46.940998Z"
    }
   },
   "cell_type": "code",
   "source": "t[0:3]",
   "id": "837ee169ab22281a",
   "outputs": [
    {
     "data": {
      "text/plain": [
       "('ali', 'veli', 1)"
      ]
     },
     "execution_count": 8,
     "metadata": {},
     "output_type": "execute_result"
    }
   ],
   "execution_count": 8
  },
  {
   "metadata": {},
   "cell_type": "code",
   "source": "t[2] = 99 #Tuple değişikliğe izin veremez atama işlemi yapılamaz TypeError",
   "id": "b2ec1a5ea4645442",
   "outputs": [],
   "execution_count": null
  },
  {
   "metadata": {},
   "cell_type": "markdown",
   "source": "genel olarak list ile aynı fonksiyonlar kullanılır",
   "id": "24e44c2e23644a6b"
  },
  {
   "metadata": {},
   "cell_type": "code",
   "outputs": [],
   "execution_count": null,
   "source": "",
   "id": "2580b5c3f4d7b4f9"
  }
 ],
 "metadata": {
  "kernelspec": {
   "display_name": "Python 3",
   "language": "python",
   "name": "python3"
  },
  "language_info": {
   "codemirror_mode": {
    "name": "ipython",
    "version": 2
   },
   "file_extension": ".py",
   "mimetype": "text/x-python",
   "name": "python",
   "nbconvert_exporter": "python",
   "pygments_lexer": "ipython2",
   "version": "2.7.6"
  }
 },
 "nbformat": 4,
 "nbformat_minor": 5
}
