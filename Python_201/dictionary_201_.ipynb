{
 "cells": [
  {
   "metadata": {},
   "cell_type": "markdown",
   "source": "Dictionary: Kapsayıcılar, Sırasızdır, Değiştirilebilirdir",
   "id": "cb70da3f79f89782"
  },
  {
   "metadata": {},
   "cell_type": "markdown",
   "source": "Anahtar ifadeler ve bu anahtarların key değeri olur ve burada indexleme yapılamaz sıralama olmadığı için",
   "id": "4eb025b349f55993"
  },
  {
   "metadata": {
    "ExecuteTime": {
     "end_time": "2025-07-17T15:27:59.702694Z",
     "start_time": "2025-07-17T15:27:59.697849Z"
    }
   },
   "cell_type": "code",
   "source": [
    "sozluk = {\"REG\" : \"Regresyon Modeli\",\n",
    "          \"LOJ\" : \"Lojistik Regresyon\",\n",
    "          \"CART\" : \"Classification and Regresyon\"}"
   ],
   "id": "363b17130ff5d574",
   "outputs": [],
   "execution_count": 3
  },
  {
   "metadata": {
    "ExecuteTime": {
     "end_time": "2025-07-17T15:28:06.237758Z",
     "start_time": "2025-07-17T15:28:06.232457Z"
    }
   },
   "cell_type": "code",
   "source": "sozluk",
   "id": "df60e71417834974",
   "outputs": [
    {
     "data": {
      "text/plain": [
       "{'REG': 'Regresyon Modeli',\n",
       " 'LOJ': 'Lojistik Regresyon',\n",
       " 'CART': 'Classification and Regresyon'}"
      ]
     },
     "execution_count": 4,
     "metadata": {},
     "output_type": "execute_result"
    }
   ],
   "execution_count": 4
  },
  {
   "metadata": {
    "ExecuteTime": {
     "end_time": "2025-07-17T15:28:25.008748Z",
     "start_time": "2025-07-17T15:28:25.004310Z"
    }
   },
   "cell_type": "code",
   "source": "len(sozluk) #sakın 6 tane elemanı var deme",
   "id": "6a0b32efab9e0d33",
   "outputs": [
    {
     "data": {
      "text/plain": [
       "3"
      ]
     },
     "execution_count": 5,
     "metadata": {},
     "output_type": "execute_result"
    }
   ],
   "execution_count": 5
  },
  {
   "metadata": {
    "ExecuteTime": {
     "end_time": "2025-07-17T15:28:59.400539Z",
     "start_time": "2025-07-17T15:28:59.397479Z"
    }
   },
   "cell_type": "code",
   "source": [
    "sozluk2 = {\"REG\" : 10,\n",
    "          \"LOJ\" : 20,\n",
    "          \"CART\" : 30}"
   ],
   "id": "e0329b487b269488",
   "outputs": [],
   "execution_count": 6
  },
  {
   "metadata": {
    "ExecuteTime": {
     "end_time": "2025-07-17T15:29:02.830486Z",
     "start_time": "2025-07-17T15:29:02.826274Z"
    }
   },
   "cell_type": "code",
   "source": "sozluk2",
   "id": "d8ba17d0abc2eb28",
   "outputs": [
    {
     "data": {
      "text/plain": [
       "{'REG': 10, 'LOJ': 20, 'CART': 30}"
      ]
     },
     "execution_count": 7,
     "metadata": {},
     "output_type": "execute_result"
    }
   ],
   "execution_count": 7
  },
  {
   "metadata": {
    "ExecuteTime": {
     "end_time": "2025-07-17T15:29:56.075149Z",
     "start_time": "2025-07-17T15:29:56.072370Z"
    }
   },
   "cell_type": "code",
   "source": [
    "sozluk2 = {\"REG\" : [\"RMSE\", 10],\n",
    "          \"LOJ\" : [\"MSE\", 10],\n",
    "          \"CART\" : [\"SSE\", 10]}"
   ],
   "id": "8210a1ec94a7340",
   "outputs": [],
   "execution_count": 8
  },
  {
   "metadata": {
    "ExecuteTime": {
     "end_time": "2025-07-17T15:29:59.774571Z",
     "start_time": "2025-07-17T15:29:59.771262Z"
    }
   },
   "cell_type": "code",
   "source": "sozluk2 #key değerinin iki değeri olmuş oldu",
   "id": "653cc72ca9647626",
   "outputs": [
    {
     "data": {
      "text/plain": [
       "{'REG': ['RMSE', 10], 'LOJ': ['MSE', 10], 'CART': ['SSE', 10]}"
      ]
     },
     "execution_count": 9,
     "metadata": {},
     "output_type": "execute_result"
    }
   ],
   "execution_count": 9
  },
  {
   "metadata": {
    "ExecuteTime": {
     "end_time": "2025-07-17T15:30:04.962295Z",
     "start_time": "2025-07-17T15:30:04.958817Z"
    }
   },
   "cell_type": "code",
   "source": "len(sozluk2)",
   "id": "2ca19d504d180545",
   "outputs": [
    {
     "data": {
      "text/plain": [
       "3"
      ]
     },
     "execution_count": 10,
     "metadata": {},
     "output_type": "execute_result"
    }
   ],
   "execution_count": 10
  },
  {
   "metadata": {},
   "cell_type": "code",
   "source": "sozluk[0] #Burada sözlük tiplerinde indexleme olmadığı için biz bir elemanı istiyorsak anahtar yani \"key\" değerini almayız",
   "id": "38586a2611661ae6",
   "outputs": [],
   "execution_count": null
  },
  {
   "metadata": {
    "ExecuteTime": {
     "end_time": "2025-07-17T15:45:34.911442Z",
     "start_time": "2025-07-17T15:45:34.908031Z"
    }
   },
   "cell_type": "code",
   "source": "sozluk[\"REG\"]",
   "id": "bcb0d813bba29d44",
   "outputs": [
    {
     "data": {
      "text/plain": [
       "'Regresyon Modeli'"
      ]
     },
     "execution_count": 12,
     "metadata": {},
     "output_type": "execute_result"
    }
   ],
   "execution_count": 12
  },
  {
   "metadata": {
    "ExecuteTime": {
     "end_time": "2025-07-17T15:45:38.874684Z",
     "start_time": "2025-07-17T15:45:38.871591Z"
    }
   },
   "cell_type": "code",
   "source": "sozluk[\"LOJ\"]",
   "id": "77ee2458bca3f050",
   "outputs": [
    {
     "data": {
      "text/plain": [
       "'Lojistik Regresyon'"
      ]
     },
     "execution_count": 13,
     "metadata": {},
     "output_type": "execute_result"
    }
   ],
   "execution_count": 13
  },
  {
   "metadata": {
    "ExecuteTime": {
     "end_time": "2025-07-17T15:45:50.152422Z",
     "start_time": "2025-07-17T15:45:50.149274Z"
    }
   },
   "cell_type": "code",
   "source": "sozluk[\"CART\"]",
   "id": "c53654d3f78c592f",
   "outputs": [
    {
     "data": {
      "text/plain": [
       "'Classification and Regresyon'"
      ]
     },
     "execution_count": 14,
     "metadata": {},
     "output_type": "execute_result"
    }
   ],
   "execution_count": 14
  },
  {
   "metadata": {
    "ExecuteTime": {
     "end_time": "2025-07-17T15:45:56.874241Z",
     "start_time": "2025-07-17T15:45:56.870882Z"
    }
   },
   "cell_type": "code",
   "source": "sozluk2[\"REG\"]\n",
   "id": "ab2d71d329ec1d9e",
   "outputs": [
    {
     "data": {
      "text/plain": [
       "['RMSE', 10]"
      ]
     },
     "execution_count": 15,
     "metadata": {},
     "output_type": "execute_result"
    }
   ],
   "execution_count": 15
  },
  {
   "metadata": {
    "ExecuteTime": {
     "end_time": "2025-07-17T15:48:39.116991Z",
     "start_time": "2025-07-17T15:48:39.113342Z"
    }
   },
   "cell_type": "code",
   "source": [
    "sozluk2 = {\"REG\" : {\"RMSE\": 10,\n",
    "                    \"MSE\": 20,\n",
    "                    \"SSE\": 30},\n",
    "\n",
    "          \"LOJ\" : {\"MSE\": 10,\n",
    "                   \"MSE\": 20,\n",
    "                   \"SSE\": 30},\n",
    "\n",
    "\n",
    "          \"CART\" : {\"MSE\": 10,\n",
    "                   \"MSE\": 20,\n",
    "                   \"SSE\": 30}}"
   ],
   "id": "fb11d972b1c4fde4",
   "outputs": [],
   "execution_count": 17
  },
  {
   "metadata": {
    "ExecuteTime": {
     "end_time": "2025-07-17T15:48:46.667750Z",
     "start_time": "2025-07-17T15:48:46.664330Z"
    }
   },
   "cell_type": "code",
   "source": "sozluk2[\"REG\"]",
   "id": "f5c865260930b1ce",
   "outputs": [
    {
     "data": {
      "text/plain": [
       "{'RMSE': 10, 'MSE': 20, 'SSE': 30}"
      ]
     },
     "execution_count": 18,
     "metadata": {},
     "output_type": "execute_result"
    }
   ],
   "execution_count": 18
  },
  {
   "metadata": {
    "ExecuteTime": {
     "end_time": "2025-07-17T15:48:50.554128Z",
     "start_time": "2025-07-17T15:48:50.550687Z"
    }
   },
   "cell_type": "code",
   "source": "sozluk2",
   "id": "c16977162ed6518",
   "outputs": [
    {
     "data": {
      "text/plain": [
       "{'REG': {'RMSE': 10, 'MSE': 20, 'SSE': 30},\n",
       " 'LOJ': {'MSE': 20, 'SSE': 30},\n",
       " 'CART': {'MSE': 20, 'SSE': 30}}"
      ]
     },
     "execution_count": 19,
     "metadata": {},
     "output_type": "execute_result"
    }
   ],
   "execution_count": 19
  },
  {
   "metadata": {
    "ExecuteTime": {
     "end_time": "2025-07-17T15:49:07.553696Z",
     "start_time": "2025-07-17T15:49:07.549972Z"
    }
   },
   "cell_type": "code",
   "source": "sozluk2[\"REG\"]",
   "id": "95713e5d0c3306fc",
   "outputs": [
    {
     "data": {
      "text/plain": [
       "{'RMSE': 10, 'MSE': 20, 'SSE': 30}"
      ]
     },
     "execution_count": 21,
     "metadata": {},
     "output_type": "execute_result"
    }
   ],
   "execution_count": 21
  },
  {
   "metadata": {
    "ExecuteTime": {
     "end_time": "2025-07-17T15:49:29.016426Z",
     "start_time": "2025-07-17T15:49:29.013167Z"
    }
   },
   "cell_type": "code",
   "source": "sozluk2[\"REG\"][\"SSE\"]",
   "id": "2b6d4ff29ae3a2c2",
   "outputs": [
    {
     "data": {
      "text/plain": [
       "30"
      ]
     },
     "execution_count": 23,
     "metadata": {},
     "output_type": "execute_result"
    }
   ],
   "execution_count": 23
  },
  {
   "metadata": {},
   "cell_type": "markdown",
   "source": "Eleman Ekleme ve Eleman Değiştirme",
   "id": "87dbcb8e5ca6a65d"
  },
  {
   "metadata": {
    "ExecuteTime": {
     "end_time": "2025-07-17T15:50:10.180179Z",
     "start_time": "2025-07-17T15:50:10.177500Z"
    }
   },
   "cell_type": "code",
   "source": [
    "sozluk = {\"REG\" : \"Regresyon Modeli\",\n",
    "          \"LOJ\" : \"Lojistik Regresyon\",\n",
    "          \"CART\" : \"Classification and Regresyon\"}"
   ],
   "id": "27d55dcdb37811c8",
   "outputs": [],
   "execution_count": 24
  },
  {
   "metadata": {
    "ExecuteTime": {
     "end_time": "2025-07-17T15:50:34.106298Z",
     "start_time": "2025-07-17T15:50:34.103746Z"
    }
   },
   "cell_type": "code",
   "source": "sozluk[\"GBM\"] = \"Gradient Boosting\"",
   "id": "85f7bcb5087ccce4",
   "outputs": [],
   "execution_count": 25
  },
  {
   "metadata": {
    "ExecuteTime": {
     "end_time": "2025-07-17T15:50:36.461942Z",
     "start_time": "2025-07-17T15:50:36.458449Z"
    }
   },
   "cell_type": "code",
   "source": "sozluk",
   "id": "41e57512c767f50d",
   "outputs": [
    {
     "data": {
      "text/plain": [
       "{'REG': 'Regresyon Modeli',\n",
       " 'LOJ': 'Lojistik Regresyon',\n",
       " 'CART': 'Classification and Regresyon',\n",
       " 'GBM': 'Gradient Boosting'}"
      ]
     },
     "execution_count": 26,
     "metadata": {},
     "output_type": "execute_result"
    }
   ],
   "execution_count": 26
  },
  {
   "metadata": {
    "ExecuteTime": {
     "end_time": "2025-07-17T15:51:23.983247Z",
     "start_time": "2025-07-17T15:51:23.979539Z"
    }
   },
   "cell_type": "code",
   "source": [
    "sozluk[\"REG\"] = \"Çoklu Doğrusal Regresyon\" #Eğer bir anahtarın değerini değiştireceksen bu şekilde yap\n",
    "sozluk"
   ],
   "id": "52d558677077d12c",
   "outputs": [
    {
     "data": {
      "text/plain": [
       "{'REG': 'Çoklu Doğrusal Regresyon',\n",
       " 'LOJ': 'Lojistik Regresyon',\n",
       " 'CART': 'Classification and Regresyon',\n",
       " 'GBM': 'Gradient Boosting'}"
      ]
     },
     "execution_count": 27,
     "metadata": {},
     "output_type": "execute_result"
    }
   ],
   "execution_count": 27
  },
  {
   "metadata": {
    "ExecuteTime": {
     "end_time": "2025-07-17T15:52:47.534122Z",
     "start_time": "2025-07-17T15:52:47.531664Z"
    }
   },
   "cell_type": "code",
   "source": "sozluk[1] = \"Yapay Sinir Ağları\"",
   "id": "c880887dacd47eef",
   "outputs": [],
   "execution_count": 28
  },
  {
   "metadata": {
    "ExecuteTime": {
     "end_time": "2025-07-17T15:52:49.263917Z",
     "start_time": "2025-07-17T15:52:49.259159Z"
    }
   },
   "cell_type": "code",
   "source": "sozluk",
   "id": "5390003eca76ba55",
   "outputs": [
    {
     "data": {
      "text/plain": [
       "{'REG': 'Çoklu Doğrusal Regresyon',\n",
       " 'LOJ': 'Lojistik Regresyon',\n",
       " 'CART': 'Classification and Regresyon',\n",
       " 'GBM': 'Gradient Boosting',\n",
       " 1: 'Yapay Sinir Ağları'}"
      ]
     },
     "execution_count": 29,
     "metadata": {},
     "output_type": "execute_result"
    }
   ],
   "execution_count": 29
  },
  {
   "metadata": {
    "ExecuteTime": {
     "end_time": "2025-07-17T15:53:04.322873Z",
     "start_time": "2025-07-17T15:53:04.320445Z"
    }
   },
   "cell_type": "code",
   "source": "l = [1]",
   "id": "fd20d4ff715f68c1",
   "outputs": [],
   "execution_count": 30
  },
  {
   "metadata": {},
   "cell_type": "code",
   "source": "sozluk[l] = \"yeni bir şey\" #TypeError, key değerleri stringler var sayılarla olmak zorundadır.",
   "id": "7a5e0c3eb8b7fc9f",
   "outputs": [],
   "execution_count": null
  },
  {
   "metadata": {
    "ExecuteTime": {
     "end_time": "2025-07-17T15:54:45.274090Z",
     "start_time": "2025-07-17T15:54:45.271340Z"
    }
   },
   "cell_type": "code",
   "source": "t = (\"tuple\",)",
   "id": "9d5589eaf2459251",
   "outputs": [],
   "execution_count": 32
  },
  {
   "metadata": {
    "ExecuteTime": {
     "end_time": "2025-07-17T15:54:55.726506Z",
     "start_time": "2025-07-17T15:54:55.724175Z"
    }
   },
   "cell_type": "code",
   "source": "sozluk[t] = \"yeni bir şey\"",
   "id": "22bd1caf343ad28",
   "outputs": [],
   "execution_count": 33
  },
  {
   "metadata": {
    "ExecuteTime": {
     "end_time": "2025-07-17T15:54:58.105106Z",
     "start_time": "2025-07-17T15:54:58.102092Z"
    }
   },
   "cell_type": "code",
   "source": "sozluk",
   "id": "c86b5ae3828032bb",
   "outputs": [
    {
     "data": {
      "text/plain": [
       "{'REG': 'Çoklu Doğrusal Regresyon',\n",
       " 'LOJ': 'Lojistik Regresyon',\n",
       " 'CART': 'Classification and Regresyon',\n",
       " 'GBM': 'Gradient Boosting',\n",
       " 1: 'Yapay Sinir Ağları',\n",
       " ('tuple',): 'yeni bir şey'}"
      ]
     },
     "execution_count": 34,
     "metadata": {},
     "output_type": "execute_result"
    }
   ],
   "execution_count": 34
  },
  {
   "metadata": {},
   "cell_type": "markdown",
   "source": "Her şeyi koyamıyoruz",
   "id": "f391ce15d6132488"
  }
 ],
 "metadata": {
  "kernelspec": {
   "display_name": "Python 3",
   "language": "python",
   "name": "python3"
  },
  "language_info": {
   "codemirror_mode": {
    "name": "ipython",
    "version": 2
   },
   "file_extension": ".py",
   "mimetype": "text/x-python",
   "name": "python",
   "nbconvert_exporter": "python",
   "pygments_lexer": "ipython2",
   "version": "2.7.6"
  }
 },
 "nbformat": 4,
 "nbformat_minor": 5
}
