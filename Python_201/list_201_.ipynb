{
 "cells": [
  {
   "metadata": {},
   "cell_type": "markdown",
   "source": "listeler:değiştirilebilirler, kapsayıcılardır(farklı tipte veriler bulunabilir),sıralıdır",
   "id": "c1f5dfae98921cf8"
  },
  {
   "cell_type": "code",
   "id": "initial_id",
   "metadata": {
    "collapsed": true,
    "ExecuteTime": {
     "end_time": "2025-07-15T19:14:11.031640Z",
     "start_time": "2025-07-15T19:14:11.028719Z"
    }
   },
   "source": [
    "#[]\n",
    "#list()\n",
    "\n",
    "notlar =[80,90,50,70]"
   ],
   "outputs": [],
   "execution_count": 1
  },
  {
   "metadata": {
    "ExecuteTime": {
     "end_time": "2025-07-15T19:15:41.162261Z",
     "start_time": "2025-07-15T19:15:41.155432Z"
    }
   },
   "cell_type": "code",
   "source": "type(notlar)",
   "id": "7347bfb73cfba061",
   "outputs": [
    {
     "data": {
      "text/plain": [
       "list"
      ]
     },
     "execution_count": 2,
     "metadata": {},
     "output_type": "execute_result"
    }
   ],
   "execution_count": 2
  },
  {
   "metadata": {
    "ExecuteTime": {
     "end_time": "2025-07-15T19:18:20.406445Z",
     "start_time": "2025-07-15T19:18:20.403616Z"
    }
   },
   "cell_type": "code",
   "source": "liste = [\"a\",19.3,90]",
   "id": "15afb4d69a08dca3",
   "outputs": [],
   "execution_count": 3
  },
  {
   "metadata": {
    "ExecuteTime": {
     "end_time": "2025-07-15T19:19:21.003113Z",
     "start_time": "2025-07-15T19:19:21.000155Z"
    }
   },
   "cell_type": "code",
   "source": "liste_genis = [\"s\",23.5,67,notlar] #burada aslında 4 boyutunda çünkü listeyi 1 boyutta görüyor",
   "id": "eeed1d70399b0f91",
   "outputs": [],
   "execution_count": 4
  },
  {
   "metadata": {
    "ExecuteTime": {
     "end_time": "2025-07-15T19:19:45.805091Z",
     "start_time": "2025-07-15T19:19:45.800979Z"
    }
   },
   "cell_type": "code",
   "source": "len(liste_genis)",
   "id": "5ac6992ce5b0294b",
   "outputs": [
    {
     "data": {
      "text/plain": [
       "4"
      ]
     },
     "execution_count": 5,
     "metadata": {},
     "output_type": "execute_result"
    }
   ],
   "execution_count": 5
  },
  {
   "metadata": {
    "ExecuteTime": {
     "end_time": "2025-07-15T19:21:21.254185Z",
     "start_time": "2025-07-15T19:21:21.249643Z"
    }
   },
   "cell_type": "code",
   "source": "type(liste_genis[0]) #bir elemana erişmek istersen listenin adından sonra \"[]\" kullanmamız gerektir",
   "id": "b9d63a7fba0b761e",
   "outputs": [
    {
     "data": {
      "text/plain": [
       "str"
      ]
     },
     "execution_count": 7,
     "metadata": {},
     "output_type": "execute_result"
    }
   ],
   "execution_count": 7
  },
  {
   "metadata": {
    "ExecuteTime": {
     "end_time": "2025-07-15T19:21:59.503079Z",
     "start_time": "2025-07-15T19:21:59.498716Z"
    }
   },
   "cell_type": "code",
   "source": "type(liste_genis[1])",
   "id": "aa25b0721461a01c",
   "outputs": [
    {
     "data": {
      "text/plain": [
       "float"
      ]
     },
     "execution_count": 8,
     "metadata": {},
     "output_type": "execute_result"
    }
   ],
   "execution_count": 8
  },
  {
   "metadata": {
    "ExecuteTime": {
     "end_time": "2025-07-15T19:22:03.243546Z",
     "start_time": "2025-07-15T19:22:03.240073Z"
    }
   },
   "cell_type": "code",
   "source": "type(liste_genis[2])",
   "id": "75f20a20a1606ce3",
   "outputs": [
    {
     "data": {
      "text/plain": [
       "int"
      ]
     },
     "execution_count": 9,
     "metadata": {},
     "output_type": "execute_result"
    }
   ],
   "execution_count": 9
  },
  {
   "metadata": {
    "ExecuteTime": {
     "end_time": "2025-07-15T19:22:24.627282Z",
     "start_time": "2025-07-15T19:22:24.623599Z"
    }
   },
   "cell_type": "code",
   "source": "liste_genis[0]",
   "id": "46580e5982530322",
   "outputs": [
    {
     "data": {
      "text/plain": [
       "'s'"
      ]
     },
     "execution_count": 10,
     "metadata": {},
     "output_type": "execute_result"
    }
   ],
   "execution_count": 10
  },
  {
   "metadata": {
    "ExecuteTime": {
     "end_time": "2025-07-15T19:24:31.945565Z",
     "start_time": "2025-07-15T19:24:31.943152Z"
    }
   },
   "cell_type": "code",
   "source": "tum_liste = [liste, liste_genis]",
   "id": "a4156e14b493410a",
   "outputs": [],
   "execution_count": 14
  },
  {
   "metadata": {},
   "cell_type": "markdown",
   "source": "del",
   "id": "2d8d192c3c7180b5"
  },
  {
   "metadata": {
    "ExecuteTime": {
     "end_time": "2025-07-15T19:24:10.215940Z",
     "start_time": "2025-07-15T19:24:10.213630Z"
    }
   },
   "cell_type": "code",
   "source": "del tum_liste #bir listeyi silmek için kullanılır",
   "id": "790e767e8da833a0",
   "outputs": [],
   "execution_count": 13
  },
  {
   "metadata": {
    "ExecuteTime": {
     "end_time": "2025-07-15T19:24:42.964081Z",
     "start_time": "2025-07-15T19:24:42.961604Z"
    }
   },
   "cell_type": "code",
   "source": "del tum_liste[0] #veya içindeki nesneyi silebiliriz ama silinen nesne başka bir değişkense tamamen silinmez durur",
   "id": "8462dc76958ac5e",
   "outputs": [],
   "execution_count": 15
  },
  {
   "metadata": {},
   "cell_type": "markdown",
   "source": "list elemanlarına erişme",
   "id": "7ea298b6bd66cde7"
  },
  {
   "metadata": {
    "ExecuteTime": {
     "end_time": "2025-07-15T19:26:39.000914Z",
     "start_time": "2025-07-15T19:26:38.998202Z"
    }
   },
   "cell_type": "code",
   "source": "liste = [10,20,30,40,50]",
   "id": "26540de0dd626fc3",
   "outputs": [],
   "execution_count": 16
  },
  {
   "metadata": {
    "ExecuteTime": {
     "end_time": "2025-07-15T19:26:43.639990Z",
     "start_time": "2025-07-15T19:26:43.635517Z"
    }
   },
   "cell_type": "code",
   "source": "liste[0]",
   "id": "b8bdd901c80fd39e",
   "outputs": [
    {
     "data": {
      "text/plain": [
       "10"
      ]
     },
     "execution_count": 17,
     "metadata": {},
     "output_type": "execute_result"
    }
   ],
   "execution_count": 17
  },
  {
   "metadata": {
    "ExecuteTime": {
     "end_time": "2025-07-15T19:26:47.829053Z",
     "start_time": "2025-07-15T19:26:47.825477Z"
    }
   },
   "cell_type": "code",
   "source": "liste[1]",
   "id": "9b4b10ae3563ae1f",
   "outputs": [
    {
     "data": {
      "text/plain": [
       "20"
      ]
     },
     "execution_count": 18,
     "metadata": {},
     "output_type": "execute_result"
    }
   ],
   "execution_count": 18
  },
  {
   "metadata": {},
   "cell_type": "code",
   "outputs": [],
   "execution_count": null,
   "source": "liste[6] #IndexError alırız",
   "id": "e16d3fe0c7bad19f"
  },
  {
   "metadata": {
    "ExecuteTime": {
     "end_time": "2025-07-15T19:37:58.906610Z",
     "start_time": "2025-07-15T19:37:58.903020Z"
    }
   },
   "cell_type": "code",
   "source": "liste[0:2]",
   "id": "2ba03604fd20ad9c",
   "outputs": [
    {
     "data": {
      "text/plain": [
       "[10, 20]"
      ]
     },
     "execution_count": 19,
     "metadata": {},
     "output_type": "execute_result"
    }
   ],
   "execution_count": 19
  },
  {
   "metadata": {
    "ExecuteTime": {
     "end_time": "2025-07-15T19:38:36.952937Z",
     "start_time": "2025-07-15T19:38:36.948208Z"
    }
   },
   "cell_type": "code",
   "source": "liste[:2] #gene aynı işlem olur",
   "id": "6c42f041973c0616",
   "outputs": [
    {
     "data": {
      "text/plain": [
       "[10, 20]"
      ]
     },
     "execution_count": 22,
     "metadata": {},
     "output_type": "execute_result"
    }
   ],
   "execution_count": 22
  },
  {
   "metadata": {
    "ExecuteTime": {
     "end_time": "2025-07-15T19:38:42.670223Z",
     "start_time": "2025-07-15T19:38:42.666684Z"
    }
   },
   "cell_type": "code",
   "source": "liste[2:] #2'den (2 dahil) sona kadar al",
   "id": "71bb5b1c806d690a",
   "outputs": [
    {
     "data": {
      "text/plain": [
       "[30, 40, 50]"
      ]
     },
     "execution_count": 23,
     "metadata": {},
     "output_type": "execute_result"
    }
   ],
   "execution_count": 23
  },
  {
   "metadata": {
    "ExecuteTime": {
     "end_time": "2025-07-15T19:39:43.751342Z",
     "start_time": "2025-07-15T19:39:43.748991Z"
    }
   },
   "cell_type": "code",
   "source": "newListe = [\"a\",20,[30,40,50]]",
   "id": "7014b4499d9edfa8",
   "outputs": [],
   "execution_count": 24
  },
  {
   "metadata": {},
   "cell_type": "code",
   "source": "newListe[3] #listenin 3.elemanı yok liste içindeki liste 1 elemandır",
   "id": "3d817c28784e06dc",
   "outputs": [],
   "execution_count": null
  },
  {
   "metadata": {
    "ExecuteTime": {
     "end_time": "2025-07-15T19:40:20.163498Z",
     "start_time": "2025-07-15T19:40:20.159966Z"
    }
   },
   "cell_type": "code",
   "source": "newListe[0:2]",
   "id": "ea9f7335324b3b58",
   "outputs": [
    {
     "data": {
      "text/plain": [
       "['a', 20]"
      ]
     },
     "execution_count": 26,
     "metadata": {},
     "output_type": "execute_result"
    }
   ],
   "execution_count": 26
  },
  {
   "metadata": {},
   "cell_type": "markdown",
   "source": "liste içinde listedeki elemanlara erişme",
   "id": "3eb680a3f90ef309"
  },
  {
   "metadata": {
    "ExecuteTime": {
     "end_time": "2025-07-15T19:41:06.115874Z",
     "start_time": "2025-07-15T19:41:06.112213Z"
    }
   },
   "cell_type": "code",
   "source": "newListe[2][1] #3.elemanın 2.elemanı",
   "id": "f912dec325e5ea52",
   "outputs": [
    {
     "data": {
      "text/plain": [
       "40"
      ]
     },
     "execution_count": 27,
     "metadata": {},
     "output_type": "execute_result"
    }
   ],
   "execution_count": 27
  },
  {
   "metadata": {},
   "cell_type": "markdown",
   "source": "listenin elemanlarını değiştirme",
   "id": "50eb12c3bc29244f"
  },
  {
   "metadata": {
    "ExecuteTime": {
     "end_time": "2025-07-15T19:53:24.043408Z",
     "start_time": "2025-07-15T19:53:24.039520Z"
    }
   },
   "cell_type": "code",
   "source": [
    "aList = [\"ali\",\"veli\",\"berkcan\",\"ayse\"]\n",
    "aList"
   ],
   "id": "fb9f7088d3c20d1c",
   "outputs": [
    {
     "data": {
      "text/plain": [
       "['ali', 'veli', 'berkcan', 'ayse']"
      ]
     },
     "execution_count": 61,
     "metadata": {},
     "output_type": "execute_result"
    }
   ],
   "execution_count": 61
  },
  {
   "metadata": {
    "ExecuteTime": {
     "end_time": "2025-07-15T19:44:01.946907Z",
     "start_time": "2025-07-15T19:44:01.944150Z"
    }
   },
   "cell_type": "code",
   "source": "aList[1] = \"velinin_babası\" #eleman değiştirmek için bu yöntemi kullanabiliriz",
   "id": "ae10a01ea759bc66",
   "outputs": [],
   "execution_count": 35
  },
  {
   "metadata": {
    "ExecuteTime": {
     "end_time": "2025-07-15T19:44:03.328340Z",
     "start_time": "2025-07-15T19:44:03.324725Z"
    }
   },
   "cell_type": "code",
   "source": "aList",
   "id": "5ac0481f95983777",
   "outputs": [
    {
     "data": {
      "text/plain": [
       "['ali', 'velinin_babası', 'berkcan', 'ayse']"
      ]
     },
     "execution_count": 36,
     "metadata": {},
     "output_type": "execute_result"
    }
   ],
   "execution_count": 36
  },
  {
   "metadata": {
    "ExecuteTime": {
     "end_time": "2025-07-15T19:45:46.232991Z",
     "start_time": "2025-07-15T19:45:46.229884Z"
    }
   },
   "cell_type": "code",
   "source": "aList[0:3] = \"alinin_babasi\",\"velinin_babasi\",\"berkcanin_babasi\"",
   "id": "a3e883832a285f37",
   "outputs": [],
   "execution_count": 40
  },
  {
   "metadata": {
    "ExecuteTime": {
     "end_time": "2025-07-15T19:45:50.629371Z",
     "start_time": "2025-07-15T19:45:50.625316Z"
    }
   },
   "cell_type": "code",
   "source": "aList",
   "id": "1a95fd8fcbf71362",
   "outputs": [
    {
     "data": {
      "text/plain": [
       "['alinin_babasi', 'velinin_babasi', 'berkcanin_babasi', 'ayse']"
      ]
     },
     "execution_count": 41,
     "metadata": {},
     "output_type": "execute_result"
    }
   ],
   "execution_count": 41
  },
  {
   "metadata": {},
   "cell_type": "markdown",
   "source": "listeye yeni eleman eklemek",
   "id": "e2eacb48092a7c0c"
  },
  {
   "metadata": {
    "ExecuteTime": {
     "end_time": "2025-07-15T19:46:33.374493Z",
     "start_time": "2025-07-15T19:46:33.370583Z"
    }
   },
   "cell_type": "code",
   "source": "aList + [\"kemal\"]",
   "id": "22dd9287d120ea6e",
   "outputs": [
    {
     "data": {
      "text/plain": [
       "['alinin_babasi', 'velinin_babasi', 'berkcanin_babasi', 'ayse', 'kemal']"
      ]
     },
     "execution_count": 42,
     "metadata": {},
     "output_type": "execute_result"
    }
   ],
   "execution_count": 42
  },
  {
   "metadata": {
    "ExecuteTime": {
     "end_time": "2025-07-15T19:46:40.738934Z",
     "start_time": "2025-07-15T19:46:40.735296Z"
    }
   },
   "cell_type": "code",
   "source": "aList\n",
   "id": "6bc5ee4a209bdd48",
   "outputs": [
    {
     "data": {
      "text/plain": [
       "['alinin_babasi', 'velinin_babasi', 'berkcanin_babasi', 'ayse']"
      ]
     },
     "execution_count": 43,
     "metadata": {},
     "output_type": "execute_result"
    }
   ],
   "execution_count": 43
  },
  {
   "metadata": {
    "ExecuteTime": {
     "end_time": "2025-07-15T19:47:54.116787Z",
     "start_time": "2025-07-15T19:47:54.113160Z"
    }
   },
   "cell_type": "code",
   "source": "aList = aList + [\"kemal\"]",
   "id": "843039d99061cb43",
   "outputs": [],
   "execution_count": 48
  },
  {
   "metadata": {
    "ExecuteTime": {
     "end_time": "2025-07-15T19:47:55.280029Z",
     "start_time": "2025-07-15T19:47:55.276721Z"
    }
   },
   "cell_type": "code",
   "source": "aList",
   "id": "d03584acba96e587",
   "outputs": [
    {
     "data": {
      "text/plain": [
       "['alinin_babasi', 'velinin_babasi', 'berkcanin_babasi', 'ayse', 'kemal']"
      ]
     },
     "execution_count": 49,
     "metadata": {},
     "output_type": "execute_result"
    }
   ],
   "execution_count": 49
  },
  {
   "metadata": {},
   "cell_type": "code",
   "outputs": [],
   "execution_count": null,
   "source": "del aList[4]",
   "id": "26251293d2dbace7"
  },
  {
   "metadata": {},
   "cell_type": "markdown",
   "source": "methodlarla yani append() ve remove(), eleman ekleyip silme",
   "id": "483db57cc171bcb6"
  },
  {
   "metadata": {
    "ExecuteTime": {
     "end_time": "2025-07-15T19:49:03.377508Z",
     "start_time": "2025-07-15T19:49:03.373760Z"
    }
   },
   "cell_type": "code",
   "source": "dir(liste)",
   "id": "c2989489b3e9f5e7",
   "outputs": [
    {
     "data": {
      "text/plain": [
       "['__add__',\n",
       " '__class__',\n",
       " '__class_getitem__',\n",
       " '__contains__',\n",
       " '__delattr__',\n",
       " '__delitem__',\n",
       " '__dir__',\n",
       " '__doc__',\n",
       " '__eq__',\n",
       " '__format__',\n",
       " '__ge__',\n",
       " '__getattribute__',\n",
       " '__getitem__',\n",
       " '__getstate__',\n",
       " '__gt__',\n",
       " '__hash__',\n",
       " '__iadd__',\n",
       " '__imul__',\n",
       " '__init__',\n",
       " '__init_subclass__',\n",
       " '__iter__',\n",
       " '__le__',\n",
       " '__len__',\n",
       " '__lt__',\n",
       " '__mul__',\n",
       " '__ne__',\n",
       " '__new__',\n",
       " '__reduce__',\n",
       " '__reduce_ex__',\n",
       " '__repr__',\n",
       " '__reversed__',\n",
       " '__rmul__',\n",
       " '__setattr__',\n",
       " '__setitem__',\n",
       " '__sizeof__',\n",
       " '__str__',\n",
       " '__subclasshook__',\n",
       " 'append',\n",
       " 'clear',\n",
       " 'copy',\n",
       " 'count',\n",
       " 'extend',\n",
       " 'index',\n",
       " 'insert',\n",
       " 'pop',\n",
       " 'remove',\n",
       " 'reverse',\n",
       " 'sort']"
      ]
     },
     "execution_count": 50,
     "metadata": {},
     "output_type": "execute_result"
    }
   ],
   "execution_count": 50
  },
  {
   "metadata": {
    "ExecuteTime": {
     "end_time": "2025-07-15T19:49:51.471003Z",
     "start_time": "2025-07-15T19:49:51.468501Z"
    }
   },
   "cell_type": "code",
   "source": "aList.append(\"kemal\")",
   "id": "56535545c57ad662",
   "outputs": [],
   "execution_count": 52
  },
  {
   "metadata": {
    "ExecuteTime": {
     "end_time": "2025-07-15T19:49:54.386425Z",
     "start_time": "2025-07-15T19:49:54.382645Z"
    }
   },
   "cell_type": "code",
   "source": "aList",
   "id": "c5c829d85e87dbd9",
   "outputs": [
    {
     "data": {
      "text/plain": [
       "['ali', 'veli', 'berkcan', 'ayse', 'kemal']"
      ]
     },
     "execution_count": 53,
     "metadata": {},
     "output_type": "execute_result"
    }
   ],
   "execution_count": 53
  },
  {
   "metadata": {
    "ExecuteTime": {
     "end_time": "2025-07-15T19:50:47.480128Z",
     "start_time": "2025-07-15T19:50:47.477574Z"
    }
   },
   "cell_type": "code",
   "source": "aList.remove(\"kemal\")",
   "id": "89160653ce23e8f3",
   "outputs": [],
   "execution_count": 54
  },
  {
   "metadata": {
    "ExecuteTime": {
     "end_time": "2025-07-15T19:50:50.730763Z",
     "start_time": "2025-07-15T19:50:50.727274Z"
    }
   },
   "cell_type": "code",
   "source": "aList",
   "id": "13c2bc23f74a6568",
   "outputs": [
    {
     "data": {
      "text/plain": [
       "['ali', 'veli', 'berkcan', 'ayse']"
      ]
     },
     "execution_count": 55,
     "metadata": {},
     "output_type": "execute_result"
    }
   ],
   "execution_count": 55
  },
  {
   "metadata": {},
   "cell_type": "markdown",
   "source": "index'e göre methodlarla insert() ve pop() kullanarak eleman ekleme ve silme",
   "id": "b7e8e2f8b016904c"
  },
  {
   "metadata": {
    "ExecuteTime": {
     "end_time": "2025-07-15T19:53:44.845854Z",
     "start_time": "2025-07-15T19:53:44.842630Z"
    }
   },
   "cell_type": "code",
   "source": "aList.insert(0,\"kemal\") #eleman ekledik 0.index kemal olacak geri kalanı kalacak",
   "id": "48870b6a146aae0c",
   "outputs": [],
   "execution_count": 63
  },
  {
   "metadata": {
    "ExecuteTime": {
     "end_time": "2025-07-15T19:53:45.548377Z",
     "start_time": "2025-07-15T19:53:45.545052Z"
    }
   },
   "cell_type": "code",
   "source": "aList",
   "id": "ab49435acf4c106",
   "outputs": [
    {
     "data": {
      "text/plain": [
       "['kemal', 'ali', 'veli', 'berkcan', 'ayse']"
      ]
     },
     "execution_count": 64,
     "metadata": {},
     "output_type": "execute_result"
    }
   ],
   "execution_count": 64
  },
  {
   "metadata": {
    "ExecuteTime": {
     "end_time": "2025-07-15T19:52:44.707252Z",
     "start_time": "2025-07-15T19:52:44.704807Z"
    }
   },
   "cell_type": "code",
   "source": "aList[0] = \"kemal\" # 0.indexi değiştirdim ben",
   "id": "faef43355e2e294b",
   "outputs": [],
   "execution_count": 59
  },
  {
   "metadata": {
    "ExecuteTime": {
     "end_time": "2025-07-15T19:52:48.356354Z",
     "start_time": "2025-07-15T19:52:48.353160Z"
    }
   },
   "cell_type": "code",
   "source": "aList",
   "id": "b56547708fe634c3",
   "outputs": [
    {
     "data": {
      "text/plain": [
       "['kemal', 'veli', 'berkcan', 'ayse']"
      ]
     },
     "execution_count": 60,
     "metadata": {},
     "output_type": "execute_result"
    }
   ],
   "execution_count": 60
  },
  {
   "metadata": {
    "ExecuteTime": {
     "end_time": "2025-07-15T19:53:47.332878Z",
     "start_time": "2025-07-15T19:53:47.330363Z"
    }
   },
   "cell_type": "code",
   "source": "aList.insert(2,\"mehmet\")",
   "id": "b4c4bcdda20e3758",
   "outputs": [],
   "execution_count": 65
  },
  {
   "metadata": {
    "ExecuteTime": {
     "end_time": "2025-07-15T19:53:51.849554Z",
     "start_time": "2025-07-15T19:53:51.846611Z"
    }
   },
   "cell_type": "code",
   "source": "aList",
   "id": "8c9cf9feb21acd58",
   "outputs": [
    {
     "data": {
      "text/plain": [
       "['kemal', 'ali', 'mehmet', 'veli', 'berkcan', 'ayse']"
      ]
     },
     "execution_count": 66,
     "metadata": {},
     "output_type": "execute_result"
    }
   ],
   "execution_count": 66
  },
  {
   "metadata": {
    "ExecuteTime": {
     "end_time": "2025-07-15T19:54:19.068235Z",
     "start_time": "2025-07-15T19:54:19.065839Z"
    }
   },
   "cell_type": "code",
   "source": "aList.insert(5,\"berk\")",
   "id": "19b7e0f5001bea6b",
   "outputs": [],
   "execution_count": 67
  },
  {
   "metadata": {
    "ExecuteTime": {
     "end_time": "2025-07-15T19:54:21.129849Z",
     "start_time": "2025-07-15T19:54:21.125787Z"
    }
   },
   "cell_type": "code",
   "source": "aList",
   "id": "184d89cc9cfc39d9",
   "outputs": [
    {
     "data": {
      "text/plain": [
       "['kemal', 'ali', 'mehmet', 'veli', 'berkcan', 'berk', 'ayse']"
      ]
     },
     "execution_count": 68,
     "metadata": {},
     "output_type": "execute_result"
    }
   ],
   "execution_count": 68
  },
  {
   "metadata": {
    "ExecuteTime": {
     "end_time": "2025-07-15T19:55:13.093128Z",
     "start_time": "2025-07-15T19:55:13.090799Z"
    }
   },
   "cell_type": "code",
   "source": "aList.insert(len(aList),\"melahat\") #eğer son tarafa eleman ekleyecekek bu şekilde eklenebilir",
   "id": "9769b1e6a3f2558b",
   "outputs": [],
   "execution_count": 69
  },
  {
   "metadata": {
    "ExecuteTime": {
     "end_time": "2025-07-15T19:55:15.485588Z",
     "start_time": "2025-07-15T19:55:15.482583Z"
    }
   },
   "cell_type": "code",
   "source": "aList",
   "id": "d7556ee3bce42eec",
   "outputs": [
    {
     "data": {
      "text/plain": [
       "['kemal', 'ali', 'mehmet', 'veli', 'berkcan', 'berk', 'ayse', 'melahat']"
      ]
     },
     "execution_count": 70,
     "metadata": {},
     "output_type": "execute_result"
    }
   ],
   "execution_count": 70
  },
  {
   "metadata": {
    "ExecuteTime": {
     "end_time": "2025-07-15T19:55:45.607050Z",
     "start_time": "2025-07-15T19:55:45.603943Z"
    }
   },
   "cell_type": "code",
   "source": "aList.pop() #silinen elemanı gösterir ve default olarak index vermezsek sondan başlar",
   "id": "55ddda74968a4b9d",
   "outputs": [
    {
     "data": {
      "text/plain": [
       "'melahat'"
      ]
     },
     "execution_count": 71,
     "metadata": {},
     "output_type": "execute_result"
    }
   ],
   "execution_count": 71
  },
  {
   "metadata": {},
   "cell_type": "code",
   "outputs": [],
   "execution_count": null,
   "source": "aList\n",
   "id": "218a5419ad1a44e5"
  },
  {
   "metadata": {
    "ExecuteTime": {
     "end_time": "2025-07-15T19:56:14.144212Z",
     "start_time": "2025-07-15T19:56:14.140907Z"
    }
   },
   "cell_type": "code",
   "source": "aList.pop(0)",
   "id": "d67e0ee37381f9d6",
   "outputs": [
    {
     "data": {
      "text/plain": [
       "'kemal'"
      ]
     },
     "execution_count": 72,
     "metadata": {},
     "output_type": "execute_result"
    }
   ],
   "execution_count": 72
  },
  {
   "metadata": {
    "ExecuteTime": {
     "end_time": "2025-07-15T19:56:17.050399Z",
     "start_time": "2025-07-15T19:56:17.047740Z"
    }
   },
   "cell_type": "code",
   "source": "aList",
   "id": "72f824f1fc4eec38",
   "outputs": [
    {
     "data": {
      "text/plain": [
       "['ali', 'mehmet', 'veli', 'berkcan', 'berk', 'ayse']"
      ]
     },
     "execution_count": 73,
     "metadata": {},
     "output_type": "execute_result"
    }
   ],
   "execution_count": 73
  },
  {
   "metadata": {},
   "cell_type": "markdown",
   "source": "listenin diğer methodları",
   "id": "348a345acabf1627"
  },
  {
   "metadata": {},
   "cell_type": "markdown",
   "source": "count(): verilen elemanın kaç tane olduğunu gösterir\n",
   "id": "33597b723fee688b"
  },
  {
   "metadata": {
    "ExecuteTime": {
     "end_time": "2025-07-15T19:56:59.781071Z",
     "start_time": "2025-07-15T19:56:59.778095Z"
    }
   },
   "cell_type": "code",
   "source": "aList.count(\"kemal\")",
   "id": "a663f95c4e16dc60",
   "outputs": [
    {
     "data": {
      "text/plain": [
       "0"
      ]
     },
     "execution_count": 74,
     "metadata": {},
     "output_type": "execute_result"
    }
   ],
   "execution_count": 74
  },
  {
   "metadata": {
    "ExecuteTime": {
     "end_time": "2025-07-15T19:57:07.567944Z",
     "start_time": "2025-07-15T19:57:07.565029Z"
    }
   },
   "cell_type": "code",
   "source": "aList.count(\"veli\")",
   "id": "63c386eda841e85e",
   "outputs": [
    {
     "data": {
      "text/plain": [
       "1"
      ]
     },
     "execution_count": 75,
     "metadata": {},
     "output_type": "execute_result"
    }
   ],
   "execution_count": 75
  },
  {
   "metadata": {},
   "cell_type": "markdown",
   "source": "copy(): elimizdeki listeyi kopyalamak ve yedeklemek için kullanırız",
   "id": "651e103e90ae6bd1"
  },
  {
   "metadata": {
    "ExecuteTime": {
     "end_time": "2025-07-15T19:58:19.535404Z",
     "start_time": "2025-07-15T19:58:19.533045Z"
    }
   },
   "cell_type": "code",
   "source": "liste_yedek = aList.copy()",
   "id": "5fbc0d448271e1d3",
   "outputs": [],
   "execution_count": 76
  },
  {
   "metadata": {
    "ExecuteTime": {
     "end_time": "2025-07-15T19:58:27.318325Z",
     "start_time": "2025-07-15T19:58:27.314533Z"
    }
   },
   "cell_type": "code",
   "source": "liste_yedek",
   "id": "1cf3d3df9804d4f4",
   "outputs": [
    {
     "data": {
      "text/plain": [
       "['ali', 'mehmet', 'veli', 'berkcan', 'berk', 'ayse']"
      ]
     },
     "execution_count": 78,
     "metadata": {},
     "output_type": "execute_result"
    }
   ],
   "execution_count": 78
  },
  {
   "metadata": {},
   "cell_type": "markdown",
   "source": "extend(): iki listeyi birleştirilmek için kullanılır",
   "id": "ec2ffaecf4cf810e"
  },
  {
   "metadata": {
    "ExecuteTime": {
     "end_time": "2025-07-15T19:59:13.931141Z",
     "start_time": "2025-07-15T19:59:13.928578Z"
    }
   },
   "cell_type": "code",
   "source": "aList.extend([1,5,67,\"a\"])",
   "id": "33b85f2bffbbf801",
   "outputs": [],
   "execution_count": 79
  },
  {
   "metadata": {
    "ExecuteTime": {
     "end_time": "2025-07-15T19:59:18.761036Z",
     "start_time": "2025-07-15T19:59:18.757770Z"
    }
   },
   "cell_type": "code",
   "source": "aList",
   "id": "7811c98937e2b82b",
   "outputs": [
    {
     "data": {
      "text/plain": [
       "['ali', 'mehmet', 'veli', 'berkcan', 'berk', 'ayse', 1, 5, 67, 'a']"
      ]
     },
     "execution_count": 80,
     "metadata": {},
     "output_type": "execute_result"
    }
   ],
   "execution_count": 80
  },
  {
   "metadata": {},
   "cell_type": "markdown",
   "source": "index(): bir elemanın index'ini bulmak için yapılır",
   "id": "6d85e8a36d2d667d"
  },
  {
   "metadata": {
    "ExecuteTime": {
     "end_time": "2025-07-15T20:00:22.843824Z",
     "start_time": "2025-07-15T20:00:22.841068Z"
    }
   },
   "cell_type": "code",
   "source": "aList.index(\"ali\")",
   "id": "2dbada1d8afc2762",
   "outputs": [
    {
     "data": {
      "text/plain": [
       "0"
      ]
     },
     "execution_count": 81,
     "metadata": {},
     "output_type": "execute_result"
    }
   ],
   "execution_count": 81
  },
  {
   "metadata": {},
   "cell_type": "markdown",
   "source": "reverse(): listeyi ters çevirir",
   "id": "4ee9ee097b22ef7b"
  },
  {
   "metadata": {
    "ExecuteTime": {
     "end_time": "2025-07-15T20:00:44.665451Z",
     "start_time": "2025-07-15T20:00:44.663173Z"
    }
   },
   "cell_type": "code",
   "source": "aList.reverse()",
   "id": "1a5a8b0eda43e551",
   "outputs": [],
   "execution_count": 82
  },
  {
   "metadata": {
    "ExecuteTime": {
     "end_time": "2025-07-15T20:00:47.756452Z",
     "start_time": "2025-07-15T20:00:47.752319Z"
    }
   },
   "cell_type": "code",
   "source": "aList",
   "id": "9e9276e8645471cc",
   "outputs": [
    {
     "data": {
      "text/plain": [
       "['a', 67, 5, 1, 'ayse', 'berk', 'berkcan', 'veli', 'mehmet', 'ali']"
      ]
     },
     "execution_count": 83,
     "metadata": {},
     "output_type": "execute_result"
    }
   ],
   "execution_count": 83
  },
  {
   "metadata": {},
   "cell_type": "markdown",
   "source": "sort(): sıralama yapmak için kullanılır, listeyi sıralar ama aynı veri tiplerinde olması gerekir\n",
   "id": "9416cd7741b1f6a7"
  },
  {
   "metadata": {
    "ExecuteTime": {
     "end_time": "2025-07-15T20:02:01.236223Z",
     "start_time": "2025-07-15T20:02:01.233906Z"
    }
   },
   "cell_type": "code",
   "source": "liste_23 = [10,2,5,8,213]",
   "id": "132ad56dc50386f7",
   "outputs": [],
   "execution_count": 84
  },
  {
   "metadata": {
    "ExecuteTime": {
     "end_time": "2025-07-15T20:02:07.696851Z",
     "start_time": "2025-07-15T20:02:07.694389Z"
    }
   },
   "cell_type": "code",
   "source": "liste_23.sort()",
   "id": "bb14991d1399483c",
   "outputs": [],
   "execution_count": 85
  },
  {
   "metadata": {
    "ExecuteTime": {
     "end_time": "2025-07-15T20:02:16.056202Z",
     "start_time": "2025-07-15T20:02:16.053276Z"
    }
   },
   "cell_type": "code",
   "source": "liste_23",
   "id": "ebc4b9f5d3fbc835",
   "outputs": [
    {
     "data": {
      "text/plain": [
       "[2, 5, 8, 10, 213]"
      ]
     },
     "execution_count": 86,
     "metadata": {},
     "output_type": "execute_result"
    }
   ],
   "execution_count": 86
  },
  {
   "metadata": {},
   "cell_type": "markdown",
   "source": "clear(): liste içindeki elemanları temizlemek silmek için kullanılır",
   "id": "9a9f670a09a32cf9"
  },
  {
   "metadata": {
    "ExecuteTime": {
     "end_time": "2025-07-15T20:02:41.582078Z",
     "start_time": "2025-07-15T20:02:41.579219Z"
    }
   },
   "cell_type": "code",
   "source": "liste_23.clear()",
   "id": "afe264bc6e3410cd",
   "outputs": [],
   "execution_count": 87
  },
  {
   "metadata": {
    "ExecuteTime": {
     "end_time": "2025-07-15T20:02:44.132601Z",
     "start_time": "2025-07-15T20:02:44.129833Z"
    }
   },
   "cell_type": "code",
   "source": "liste_23",
   "id": "fa029a36f5421330",
   "outputs": [
    {
     "data": {
      "text/plain": [
       "[]"
      ]
     },
     "execution_count": 88,
     "metadata": {},
     "output_type": "execute_result"
    }
   ],
   "execution_count": 88
  },
  {
   "metadata": {},
   "cell_type": "code",
   "outputs": [],
   "execution_count": null,
   "source": "",
   "id": "e2a349c00566f63c"
  }
 ],
 "metadata": {
  "kernelspec": {
   "display_name": "Python 3",
   "language": "python",
   "name": "python3"
  },
  "language_info": {
   "codemirror_mode": {
    "name": "ipython",
    "version": 2
   },
   "file_extension": ".py",
   "mimetype": "text/x-python",
   "name": "python",
   "nbconvert_exporter": "python",
   "pygments_lexer": "ipython2",
   "version": "2.7.6"
  }
 },
 "nbformat": 4,
 "nbformat_minor": 5
}
