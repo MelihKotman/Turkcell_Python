{
 "cells": [
  {
   "metadata": {},
   "cell_type": "markdown",
   "source": "Set -> Küme Dictionary -> Sözlük Tuple -> Demet List -> Listeler",
   "id": "290452417e77cd4b"
  },
  {
   "metadata": {},
   "cell_type": "markdown",
   "source": "Set: Sırasızdır, değerler eşsizdir, değiştirilebilir, farklı tipler barınabilir",
   "id": "6ca31a6a83054a0b"
  },
  {
   "metadata": {
    "ExecuteTime": {
     "end_time": "2025-07-17T15:59:26.452809Z",
     "start_time": "2025-07-17T15:59:26.448147Z"
    }
   },
   "cell_type": "code",
   "source": [
    "s = set()\n",
    "s"
   ],
   "id": "feed0ba4ba33a66c",
   "outputs": [
    {
     "data": {
      "text/plain": [
       "set()"
      ]
     },
     "execution_count": 2,
     "metadata": {},
     "output_type": "execute_result"
    }
   ],
   "execution_count": 2
  },
  {
   "metadata": {
    "ExecuteTime": {
     "end_time": "2025-07-17T15:59:54.443445Z",
     "start_time": "2025-07-17T15:59:54.438314Z"
    }
   },
   "cell_type": "code",
   "source": [
    "l = [\"ali\", 123]\n",
    "s = set(l)\n",
    "s"
   ],
   "id": "712fa49657b1d009",
   "outputs": [
    {
     "data": {
      "text/plain": [
       "{123, 'ali'}"
      ]
     },
     "execution_count": 4,
     "metadata": {},
     "output_type": "execute_result"
    }
   ],
   "execution_count": 4
  },
  {
   "metadata": {
    "ExecuteTime": {
     "end_time": "2025-07-17T16:00:18.471045Z",
     "start_time": "2025-07-17T16:00:18.466268Z"
    }
   },
   "cell_type": "code",
   "source": [
    "t = (\"ali\", 12)\n",
    "s = set(t)\n",
    "s"
   ],
   "id": "564c881dbe8651e2",
   "outputs": [
    {
     "data": {
      "text/plain": [
       "{12, 'ali'}"
      ]
     },
     "execution_count": 5,
     "metadata": {},
     "output_type": "execute_result"
    }
   ],
   "execution_count": 5
  },
  {
   "metadata": {
    "ExecuteTime": {
     "end_time": "2025-07-17T16:00:49.397285Z",
     "start_time": "2025-07-17T16:00:49.392832Z"
    }
   },
   "cell_type": "code",
   "source": [
    "ali = \"lütfen_ata_bakma_uzaya_git\"\n",
    "type(ali)"
   ],
   "id": "fdec00ff77f4a748",
   "outputs": [
    {
     "data": {
      "text/plain": [
       "str"
      ]
     },
     "execution_count": 6,
     "metadata": {},
     "output_type": "execute_result"
    }
   ],
   "execution_count": 6
  },
  {
   "metadata": {
    "ExecuteTime": {
     "end_time": "2025-07-17T16:00:58.534916Z",
     "start_time": "2025-07-17T16:00:58.531589Z"
    }
   },
   "cell_type": "code",
   "source": [
    "s = set(ali) #her bir karakteri tek bir defa yazılmıştır yani aynı karakterden iki tane yoktur.\n",
    "s"
   ],
   "id": "4b161ee94aa6cbda",
   "outputs": [
    {
     "data": {
      "text/plain": [
       "{'_',\n",
       " 'a',\n",
       " 'b',\n",
       " 'e',\n",
       " 'f',\n",
       " 'g',\n",
       " 'i',\n",
       " 'k',\n",
       " 'l',\n",
       " 'm',\n",
       " 'n',\n",
       " 't',\n",
       " 'u',\n",
       " 'y',\n",
       " 'z',\n",
       " 'ü'}"
      ]
     },
     "execution_count": 7,
     "metadata": {},
     "output_type": "execute_result"
    }
   ],
   "execution_count": 7
  },
  {
   "metadata": {
    "ExecuteTime": {
     "end_time": "2025-07-17T16:02:51.691418Z",
     "start_time": "2025-07-17T16:02:51.687933Z"
    }
   },
   "cell_type": "code",
   "source": [
    "l = [\"ali\", \"lutfen\", \"ata\", \"bakma\", \"uzaya\", \"git\", \"git\", \"ali\", \"git\"]\n",
    "l"
   ],
   "id": "db68756c2a37de28",
   "outputs": [
    {
     "data": {
      "text/plain": [
       "['ali', 'lutfen', 'ata', 'bakma', 'uzaya', 'git', 'git', 'ali', 'git']"
      ]
     },
     "execution_count": 8,
     "metadata": {},
     "output_type": "execute_result"
    }
   ],
   "execution_count": 8
  },
  {
   "metadata": {
    "ExecuteTime": {
     "end_time": "2025-07-17T16:02:58.103924Z",
     "start_time": "2025-07-17T16:02:58.100823Z"
    }
   },
   "cell_type": "code",
   "source": [
    "s = set(l)\n",
    "s"
   ],
   "id": "8e32c2daa1ad8981",
   "outputs": [
    {
     "data": {
      "text/plain": [
       "{'ali', 'ata', 'bakma', 'git', 'lutfen', 'uzaya'}"
      ]
     },
     "execution_count": 9,
     "metadata": {},
     "output_type": "execute_result"
    }
   ],
   "execution_count": 9
  },
  {
   "metadata": {
    "ExecuteTime": {
     "end_time": "2025-07-17T16:03:01.586400Z",
     "start_time": "2025-07-17T16:03:01.583088Z"
    }
   },
   "cell_type": "code",
   "source": "len(s)",
   "id": "293ff73ebe07c613",
   "outputs": [
    {
     "data": {
      "text/plain": [
       "6"
      ]
     },
     "execution_count": 10,
     "metadata": {},
     "output_type": "execute_result"
    }
   ],
   "execution_count": 10
  },
  {
   "metadata": {
    "ExecuteTime": {
     "end_time": "2025-07-17T16:03:24.086501Z",
     "start_time": "2025-07-17T16:03:24.083073Z"
    }
   },
   "cell_type": "code",
   "source": "l[0]",
   "id": "9c2938dae88516ad",
   "outputs": [
    {
     "data": {
      "text/plain": [
       "'ali'"
      ]
     },
     "execution_count": 11,
     "metadata": {},
     "output_type": "execute_result"
    }
   ],
   "execution_count": 11
  },
  {
   "metadata": {},
   "cell_type": "code",
   "source": "s[0] #Set nesnesi index işlemini desteklemez alt küme işlemi yapamaz TypeError",
   "id": "2a04c063b4364c17",
   "outputs": [],
   "execution_count": null
  },
  {
   "metadata": {},
   "cell_type": "markdown",
   "source": "Eleman Ekleme ve Çıkarma",
   "id": "f7369ccb8c371d1b"
  },
  {
   "metadata": {
    "ExecuteTime": {
     "end_time": "2025-07-17T16:05:00.897040Z",
     "start_time": "2025-07-17T16:05:00.894597Z"
    }
   },
   "cell_type": "code",
   "source": "l = [\"gelecegi\",\"yazanlar\"]",
   "id": "efc3f1e8dc121cfa",
   "outputs": [],
   "execution_count": 13
  },
  {
   "metadata": {
    "ExecuteTime": {
     "end_time": "2025-07-17T16:05:06.472136Z",
     "start_time": "2025-07-17T16:05:06.468333Z"
    }
   },
   "cell_type": "code",
   "source": [
    "s = set(l)\n",
    "s"
   ],
   "id": "e31646a58ec0aa66",
   "outputs": [
    {
     "data": {
      "text/plain": [
       "{'gelecegi', 'yazanlar'}"
      ]
     },
     "execution_count": 14,
     "metadata": {},
     "output_type": "execute_result"
    }
   ],
   "execution_count": 14
  },
  {
   "metadata": {
    "ExecuteTime": {
     "end_time": "2025-07-17T16:05:47.751610Z",
     "start_time": "2025-07-17T16:05:47.746719Z"
    }
   },
   "cell_type": "code",
   "source": "dir(s)",
   "id": "57026d9d18ca714e",
   "outputs": [
    {
     "data": {
      "text/plain": [
       "['__and__',\n",
       " '__class__',\n",
       " '__class_getitem__',\n",
       " '__contains__',\n",
       " '__delattr__',\n",
       " '__dir__',\n",
       " '__doc__',\n",
       " '__eq__',\n",
       " '__format__',\n",
       " '__ge__',\n",
       " '__getattribute__',\n",
       " '__getstate__',\n",
       " '__gt__',\n",
       " '__hash__',\n",
       " '__iand__',\n",
       " '__init__',\n",
       " '__init_subclass__',\n",
       " '__ior__',\n",
       " '__isub__',\n",
       " '__iter__',\n",
       " '__ixor__',\n",
       " '__le__',\n",
       " '__len__',\n",
       " '__lt__',\n",
       " '__ne__',\n",
       " '__new__',\n",
       " '__or__',\n",
       " '__rand__',\n",
       " '__reduce__',\n",
       " '__reduce_ex__',\n",
       " '__repr__',\n",
       " '__ror__',\n",
       " '__rsub__',\n",
       " '__rxor__',\n",
       " '__setattr__',\n",
       " '__sizeof__',\n",
       " '__str__',\n",
       " '__sub__',\n",
       " '__subclasshook__',\n",
       " '__xor__',\n",
       " 'add',\n",
       " 'clear',\n",
       " 'copy',\n",
       " 'difference',\n",
       " 'difference_update',\n",
       " 'discard',\n",
       " 'intersection',\n",
       " 'intersection_update',\n",
       " 'isdisjoint',\n",
       " 'issubset',\n",
       " 'issuperset',\n",
       " 'pop',\n",
       " 'remove',\n",
       " 'symmetric_difference',\n",
       " 'symmetric_difference_update',\n",
       " 'union',\n",
       " 'update']"
      ]
     },
     "execution_count": 15,
     "metadata": {},
     "output_type": "execute_result"
    }
   ],
   "execution_count": 15
  },
  {
   "metadata": {
    "ExecuteTime": {
     "end_time": "2025-07-17T16:06:22.891610Z",
     "start_time": "2025-07-17T16:06:22.886062Z"
    }
   },
   "cell_type": "code",
   "source": [
    "s.add(\"ile\")\n",
    "s"
   ],
   "id": "5050140f8a40f83d",
   "outputs": [
    {
     "data": {
      "text/plain": [
       "{'gelecegi', 'ile', 'yazanlar'}"
      ]
     },
     "execution_count": 17,
     "metadata": {},
     "output_type": "execute_result"
    }
   ],
   "execution_count": 17
  },
  {
   "metadata": {
    "ExecuteTime": {
     "end_time": "2025-07-17T16:06:40.411337Z",
     "start_time": "2025-07-17T16:06:40.407447Z"
    }
   },
   "cell_type": "code",
   "source": [
    "s.add(\"gelecege_git\")\n",
    "s"
   ],
   "id": "90f62692c50afde5",
   "outputs": [
    {
     "data": {
      "text/plain": [
       "{'gelecege_git', 'gelecegi', 'ile', 'yazanlar'}"
      ]
     },
     "execution_count": 19,
     "metadata": {},
     "output_type": "execute_result"
    }
   ],
   "execution_count": 19
  },
  {
   "metadata": {
    "ExecuteTime": {
     "end_time": "2025-07-17T16:08:09.849831Z",
     "start_time": "2025-07-17T16:08:09.845883Z"
    }
   },
   "cell_type": "code",
   "source": [
    "#sırasızlığı ifade eder misal ve aynı ifadeyi tekrar tekrar koysan bile bir değişiklik olmaz, ekleme olmaz\n",
    "s.add(\"ile\")\n",
    "s"
   ],
   "id": "92ed32da36d18d53",
   "outputs": [
    {
     "data": {
      "text/plain": [
       "{'gelecege_git', 'gelecegi', 'ile', 'yazanlar'}"
      ]
     },
     "execution_count": 25,
     "metadata": {},
     "output_type": "execute_result"
    }
   ],
   "execution_count": 25
  },
  {
   "metadata": {
    "ExecuteTime": {
     "end_time": "2025-07-17T16:08:11.213621Z",
     "start_time": "2025-07-17T16:08:11.208911Z"
    }
   },
   "cell_type": "code",
   "source": [
    "s.remove(\"ile\") #ikinci defa tekrardan silmeye kalkışırsan KeyError alırsın\n",
    "s"
   ],
   "id": "a29484ac6b237468",
   "outputs": [
    {
     "data": {
      "text/plain": [
       "{'gelecege_git', 'gelecegi', 'yazanlar'}"
      ]
     },
     "execution_count": 26,
     "metadata": {},
     "output_type": "execute_result"
    }
   ],
   "execution_count": 26
  },
  {
   "metadata": {
    "ExecuteTime": {
     "end_time": "2025-07-17T16:08:38.157109Z",
     "start_time": "2025-07-17T16:08:38.154667Z"
    }
   },
   "cell_type": "code",
   "source": "s.discard(\"ile\") #Eğer hata almak istemiyorsan ve yoksa eleman içinde bunu kullanırsan hata almazsın",
   "id": "829c6c0abc20dd99",
   "outputs": [],
   "execution_count": 27
  },
  {
   "metadata": {},
   "cell_type": "markdown",
   "source": "Klasik Küme İşlemleri",
   "id": "82b0e66cf9a01084"
  },
  {
   "metadata": {},
   "cell_type": "markdown",
   "source": [
    "difference() ile iki kümenin farkını veya \"-\" ifadesi |\n",
    "symmetric_difference() , ikisinde de olmayanlar"
   ],
   "id": "76231e953214fbb"
  },
  {
   "metadata": {
    "ExecuteTime": {
     "end_time": "2025-07-17T16:11:38.968883Z",
     "start_time": "2025-07-17T16:11:38.965601Z"
    }
   },
   "cell_type": "code",
   "source": [
    "set1 = set([1,2,3])\n",
    "set2 = set([1,3,5])\n",
    "set1.difference(set2) #1.de olup 2.de olmayan"
   ],
   "id": "642d66de4dd2b417",
   "outputs": [
    {
     "data": {
      "text/plain": [
       "{2}"
      ]
     },
     "execution_count": 28,
     "metadata": {},
     "output_type": "execute_result"
    }
   ],
   "execution_count": 28
  },
  {
   "metadata": {
    "ExecuteTime": {
     "end_time": "2025-07-17T16:11:48.710103Z",
     "start_time": "2025-07-17T16:11:48.706588Z"
    }
   },
   "cell_type": "code",
   "source": "set2.difference(set1) #2.de olup 1.de olmayan",
   "id": "f5bb4f7ab841afd5",
   "outputs": [
    {
     "data": {
      "text/plain": [
       "{5}"
      ]
     },
     "execution_count": 29,
     "metadata": {},
     "output_type": "execute_result"
    }
   ],
   "execution_count": 29
  },
  {
   "metadata": {
    "ExecuteTime": {
     "end_time": "2025-07-17T16:12:50.462831Z",
     "start_time": "2025-07-17T16:12:50.458973Z"
    }
   },
   "cell_type": "code",
   "source": "set1.symmetric_difference(set2) #ikisinde de aynı olmayan sayıları verir",
   "id": "a869dd73b3cf8a78",
   "outputs": [
    {
     "data": {
      "text/plain": [
       "{2, 5}"
      ]
     },
     "execution_count": 30,
     "metadata": {},
     "output_type": "execute_result"
    }
   ],
   "execution_count": 30
  },
  {
   "metadata": {
    "ExecuteTime": {
     "end_time": "2025-07-17T16:13:24.668912Z",
     "start_time": "2025-07-17T16:13:24.664747Z"
    }
   },
   "cell_type": "code",
   "source": "set1 - set2",
   "id": "7a4a087c5a9f0ca5",
   "outputs": [
    {
     "data": {
      "text/plain": [
       "{2}"
      ]
     },
     "execution_count": 33,
     "metadata": {},
     "output_type": "execute_result"
    }
   ],
   "execution_count": 33
  },
  {
   "metadata": {
    "ExecuteTime": {
     "end_time": "2025-07-17T16:13:28.873867Z",
     "start_time": "2025-07-17T16:13:28.870241Z"
    }
   },
   "cell_type": "code",
   "source": "set2 - set1",
   "id": "8b52d91d9ff44768",
   "outputs": [
    {
     "data": {
      "text/plain": [
       "{5}"
      ]
     },
     "execution_count": 34,
     "metadata": {},
     "output_type": "execute_result"
    }
   ],
   "execution_count": 34
  },
  {
   "metadata": {},
   "cell_type": "markdown",
   "source": "intersection() ile iki kümenin kesişimi ya ad \"&\" ifadesi | union() her iki kümenin birleşimi",
   "id": "11878f53730ccda4"
  },
  {
   "metadata": {
    "ExecuteTime": {
     "end_time": "2025-07-17T16:16:00.701389Z",
     "start_time": "2025-07-17T16:16:00.697394Z"
    }
   },
   "cell_type": "code",
   "source": [
    "set1 = set([1,2,3])\n",
    "set2 = set([1,3,5])\n",
    "set1.intersection(set2) #tersten alsan aynı sonuç"
   ],
   "id": "995455387aee5ec4",
   "outputs": [
    {
     "data": {
      "text/plain": [
       "{1, 3}"
      ]
     },
     "execution_count": 35,
     "metadata": {},
     "output_type": "execute_result"
    }
   ],
   "execution_count": 35
  },
  {
   "metadata": {
    "ExecuteTime": {
     "end_time": "2025-07-17T16:16:07.748675Z",
     "start_time": "2025-07-17T16:16:07.744593Z"
    }
   },
   "cell_type": "code",
   "source": "set2.intersection(set1) #aynı sonuç",
   "id": "b8a10bb5d7771cd3",
   "outputs": [
    {
     "data": {
      "text/plain": [
       "{1, 3}"
      ]
     },
     "execution_count": 36,
     "metadata": {},
     "output_type": "execute_result"
    }
   ],
   "execution_count": 36
  },
  {
   "metadata": {
    "ExecuteTime": {
     "end_time": "2025-07-17T16:16:45.988426Z",
     "start_time": "2025-07-17T16:16:45.986422Z"
    }
   },
   "cell_type": "code",
   "source": "kesisim = set1 & set2",
   "id": "1707a9008edba89d",
   "outputs": [],
   "execution_count": 38
  },
  {
   "metadata": {
    "ExecuteTime": {
     "end_time": "2025-07-17T16:17:15.750253Z",
     "start_time": "2025-07-17T16:17:15.746486Z"
    }
   },
   "cell_type": "code",
   "source": "set1.union(set2) #kümelerin birleşimi alınır ve her bir eleman bir defa alınır",
   "id": "be35df8a02c4c1a8",
   "outputs": [
    {
     "data": {
      "text/plain": [
       "{1, 2, 3, 5}"
      ]
     },
     "execution_count": 40,
     "metadata": {},
     "output_type": "execute_result"
    }
   ],
   "execution_count": 40
  },
  {
   "metadata": {
    "ExecuteTime": {
     "end_time": "2025-07-17T16:17:46.184734Z",
     "start_time": "2025-07-17T16:17:46.181365Z"
    }
   },
   "cell_type": "code",
   "source": [
    "birlesim = set1.union(set2)\n",
    "birlesim"
   ],
   "id": "7decbe569232bba7",
   "outputs": [
    {
     "data": {
      "text/plain": [
       "{1, 2, 3, 5}"
      ]
     },
     "execution_count": 41,
     "metadata": {},
     "output_type": "execute_result"
    }
   ],
   "execution_count": 41
  },
  {
   "metadata": {
    "ExecuteTime": {
     "end_time": "2025-07-17T16:18:33.382164Z",
     "start_time": "2025-07-17T16:18:33.379529Z"
    }
   },
   "cell_type": "code",
   "source": "set1.intersection_update(set2) #burada kesişim elemanlarını set1 kısmına verebiliyoruz",
   "id": "80d7e1fd647d46df",
   "outputs": [],
   "execution_count": 42
  },
  {
   "metadata": {
    "ExecuteTime": {
     "end_time": "2025-07-17T16:18:42.295097Z",
     "start_time": "2025-07-17T16:18:42.291389Z"
    }
   },
   "cell_type": "code",
   "source": "set1",
   "id": "73852944a7f3e2f",
   "outputs": [
    {
     "data": {
      "text/plain": [
       "{1, 3}"
      ]
     },
     "execution_count": 43,
     "metadata": {},
     "output_type": "execute_result"
    }
   ],
   "execution_count": 43
  },
  {
   "metadata": {},
   "cell_type": "markdown",
   "source": "Sorgu İşlemleri",
   "id": "67d4e5fa7e5a12cf"
  },
  {
   "metadata": {
    "ExecuteTime": {
     "end_time": "2025-07-17T16:20:38.695468Z",
     "start_time": "2025-07-17T16:20:38.692633Z"
    }
   },
   "cell_type": "code",
   "source": [
    "set1 = set([7, 8, 9])\n",
    "set2 = set([5, 6, 7, 8, 9])"
   ],
   "id": "9695b7e9af366916",
   "outputs": [],
   "execution_count": 44
  },
  {
   "metadata": {},
   "cell_type": "markdown",
   "source": "isdisjoint()",
   "id": "9cb3e23387fddba0"
  },
  {
   "metadata": {
    "ExecuteTime": {
     "end_time": "2025-07-17T16:20:43.309709Z",
     "start_time": "2025-07-17T16:20:43.306547Z"
    }
   },
   "cell_type": "code",
   "source": "set1.isdisjoint(set2) #iki kümenin kesişimi boş mudur?",
   "id": "7187cfa0f660a45d",
   "outputs": [
    {
     "data": {
      "text/plain": [
       "False"
      ]
     },
     "execution_count": 45,
     "metadata": {},
     "output_type": "execute_result"
    }
   ],
   "execution_count": 45
  },
  {
   "metadata": {},
   "cell_type": "markdown",
   "source": "issubset()",
   "id": "4daf03de2f5f36d9"
  },
  {
   "metadata": {
    "ExecuteTime": {
     "end_time": "2025-07-17T16:21:38.644842Z",
     "start_time": "2025-07-17T16:21:38.641499Z"
    }
   },
   "cell_type": "code",
   "source": "set1.issubset(set2) #bu küme öbür kümenin alt kümesi midir?",
   "id": "89f97c6eade2e68a",
   "outputs": [
    {
     "data": {
      "text/plain": [
       "True"
      ]
     },
     "execution_count": 46,
     "metadata": {},
     "output_type": "execute_result"
    }
   ],
   "execution_count": 46
  },
  {
   "metadata": {},
   "cell_type": "markdown",
   "source": "issuperset()",
   "id": "58ffc6a42e40e277"
  },
  {
   "metadata": {
    "ExecuteTime": {
     "end_time": "2025-07-17T16:23:00.355855Z",
     "start_time": "2025-07-17T16:23:00.352191Z"
    }
   },
   "cell_type": "code",
   "source": "set2.issuperset(set1) #bu küme öbür kümenin üst kümesi midir?",
   "id": "ed5c1826216c0fd0",
   "outputs": [
    {
     "data": {
      "text/plain": [
       "True"
      ]
     },
     "execution_count": 47,
     "metadata": {},
     "output_type": "execute_result"
    }
   ],
   "execution_count": 47
  },
  {
   "metadata": {},
   "cell_type": "code",
   "outputs": [],
   "execution_count": null,
   "source": "",
   "id": "26f8d4bffe6db10c"
  }
 ],
 "metadata": {
  "kernelspec": {
   "display_name": "Python 3",
   "language": "python",
   "name": "python3"
  },
  "language_info": {
   "codemirror_mode": {
    "name": "ipython",
    "version": 2
   },
   "file_extension": ".py",
   "mimetype": "text/x-python",
   "name": "python",
   "nbconvert_exporter": "python",
   "pygments_lexer": "ipython2",
   "version": "2.7.6"
  }
 },
 "nbformat": 4,
 "nbformat_minor": 5
}
