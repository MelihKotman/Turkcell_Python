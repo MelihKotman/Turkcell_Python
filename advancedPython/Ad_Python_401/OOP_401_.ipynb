{
 "cells": [
  {
   "metadata": {},
   "cell_type": "markdown",
   "source": [
    "Nesne Yönelik Programlama yani Object Oriented Programming =\n",
    "\n",
    "*Her şey bir objedir, hayatta görünen her şey bir objedir.\n",
    "\n",
    "*Her objenin Attribute'leri vardır(Attribute, property, özellikler)(isim, yas, göz rengi,vb.\n",
    "\n",
    "*Her objenin Behaviour'ları vardır.(Methods)(Yürüme, konuşma, vb.)\n",
    "\n",
    "Functional Programming = Fonksiyonları programlama, fonksiyonları birbiri arasında kullanma\n",
    "\n",
    "Procedure Oriented Programming = Prosedür oluşturursun, bu prosedürler nesneye bağlı olarak değişebilir (C)"
   ],
   "id": "acf1bda612d7b09c"
  },
  {
   "metadata": {},
   "cell_type": "markdown",
   "source": [
    "Class - Design (blueprint) (taslak) = obje oluşturmak için\n",
    "\n",
    "Object - Instance (örnek) = taslaklardan oluşturulan şeyler"
   ],
   "id": "5b22284310dd9ec0"
  },
  {
   "metadata": {},
   "cell_type": "markdown",
   "source": [
    "inheritence - Kalıtım = Atadan bazı özellikleri alabilmesi ve kullanabilmesi bildiğimiz kalıtım gibi\n",
    "\n",
    "encapsulation - kapsülleme\n",
    "\n",
    "abstraction - soyutlama\n",
    "\n",
    "polymotphism - çok çeşitlilik = aynı davranışa sahip ama çok çeşitli şekilde gerçekleşir gibi düşün"
   ],
   "id": "ed8dd1f6aa513862"
  },
  {
   "metadata": {},
   "cell_type": "markdown",
   "source": [
    "Televizyon\n",
    "\n",
    "Özellikleri\n",
    "\n",
    "    Üretim Yeri\n",
    "    Marka\n",
    "    Model\n",
    "    Ekran Boyutu\n",
    "    Şekil\n",
    "    Görüntü Kalitesi\n",
    "    Diğer özellikleri\n",
    "\n",
    "Metotları\n",
    "\n",
    "    Aç/kapa\n",
    "    Kanal görüntüleme"
   ],
   "id": "68f94457221464a1"
  },
  {
   "metadata": {},
   "cell_type": "markdown",
   "source": "Halihazırda Olan Sınıflar Default Classlar",
   "id": "9e73577f55b041c3"
  },
  {
   "cell_type": "code",
   "id": "initial_id",
   "metadata": {
    "collapsed": true,
    "ExecuteTime": {
     "end_time": "2025-07-26T15:33:46.873812Z",
     "start_time": "2025-07-26T15:33:46.868942Z"
    }
   },
   "source": [
    "a = 5\n",
    "\n",
    "print(type(a))\n",
    "\n",
    "b = 5.5\n",
    "\n",
    "print(type(b))\n",
    "\n",
    "c = float(34.4)\n",
    "\n",
    "print(type(c))\n",
    "\n",
    "d = (\"naber\")\n",
    "\n",
    "print(type(d))\n",
    "d.capitalize() #stringin fonksiyonu capitalize yani baş harfini büyüten\n",
    "print(d.capitalize())\n",
    "print(d)\n",
    "d = d.capitalize()\n",
    "print(d)"
   ],
   "outputs": [
    {
     "name": "stdout",
     "output_type": "stream",
     "text": [
      "<class 'int'>\n",
      "<class 'float'>\n",
      "<class 'float'>\n",
      "<class 'str'>\n",
      "Naber\n",
      "naber\n",
      "Naber\n"
     ]
    }
   ],
   "execution_count": 9
  },
  {
   "metadata": {
    "ExecuteTime": {
     "end_time": "2025-07-26T15:34:21.160400Z",
     "start_time": "2025-07-26T15:34:21.156494Z"
    }
   },
   "cell_type": "code",
   "source": [
    "liste = [4, 3, 7]\n",
    "print(liste)\n",
    "liste.sort() #Burada doğrudan uygulattırır\n",
    "print(liste)\n",
    "liste.sort(reverse=True) #İçerisine yazarsak bize böyle gösterir\n",
    "print(liste)"
   ],
   "id": "2e4c9556a560e39e",
   "outputs": [
    {
     "name": "stdout",
     "output_type": "stream",
     "text": [
      "[4, 3, 7]\n",
      "[3, 4, 7]\n",
      "[7, 4, 3]\n"
     ]
    }
   ],
   "execution_count": 11
  },
  {
   "metadata": {
    "ExecuteTime": {
     "end_time": "2025-07-26T15:36:03.888684Z",
     "start_time": "2025-07-26T15:36:03.883542Z"
    }
   },
   "cell_type": "code",
   "source": [
    "print(type((4, 5, 6)))\n",
    "print(type({2,3}))\n",
    "print(type(None))\n",
    "print(type(True))\n",
    "print(type({1:\"Python\"}))"
   ],
   "id": "d0fc6100e04d9172",
   "outputs": [
    {
     "name": "stdout",
     "output_type": "stream",
     "text": [
      "<class 'tuple'>\n",
      "<class 'set'>\n",
      "<class 'NoneType'>\n",
      "<class 'bool'>\n",
      "<class 'dict'>\n"
     ]
    }
   ],
   "execution_count": 14
  },
  {
   "metadata": {},
   "cell_type": "markdown",
   "source": "Kendi sınıfımızı oluşturma",
   "id": "ca6e64f397038f5e"
  },
  {
   "metadata": {
    "ExecuteTime": {
     "end_time": "2025-07-26T15:42:29.962983Z",
     "start_time": "2025-07-26T15:42:29.959711Z"
    }
   },
   "cell_type": "code",
   "source": [
    "class Insan:\n",
    "    #Attributes - Özellikleri => Variable - Değişkenleri\n",
    "    #Behaviours - Davranışlar => Methods - Metotlar\n",
    "\n",
    "    #ad, soyad, yas, meslek özellikler\n",
    "    #constructor- yapıcı metot ve özel metot\n",
    "    def __init__(self):\n",
    "        pass\n",
    "#i1 objesi Insan sınıfının bir instance'ı\n",
    "i1 = Insan() #Biz callable bir constructor çağırıyoruz ve özellik verebiliriz Instantiate yani oluşturma\n",
    "i1.ad = \"Melih\"\n",
    "i1.soyad = \"Kotman\"\n",
    "i1.yas = 30\n",
    "i1.meslek = \"Bilgisayar Mühendisi\"\n",
    "\n",
    "i2 = Insan()\n",
    "i2.ad = \"Yiğit\"\n",
    "i2.soyad = \"Ram\"\n",
    "i2.yas = 21\n",
    "i2.meslek = \"Öğrenci\"\n",
    "\n",
    "print(i1.ad,i1.soyad,i1.yas,i1.meslek)\n",
    "print(i2.ad,i2.soyad,i2.yas,i2.meslek)"
   ],
   "id": "5beebbf6bdb33f9f",
   "outputs": [
    {
     "name": "stdout",
     "output_type": "stream",
     "text": [
      "Melih Kotman 30 Bilgisayar Mühendisi\n",
      "Yiğit Ram 21 Öğrenci\n"
     ]
    }
   ],
   "execution_count": 16
  },
  {
   "metadata": {
    "ExecuteTime": {
     "end_time": "2025-07-26T15:46:52.916262Z",
     "start_time": "2025-07-26T15:46:52.912686Z"
    }
   },
   "cell_type": "code",
   "source": [
    "class Insan:\n",
    "    def __init__(self,ad,soyad,yas,meslek):\n",
    "        self.ad = ad\n",
    "        self.soyad = soyad\n",
    "        self.yas = yas\n",
    "        self.meslek = meslek\n",
    "    def bilgiSoyle(self):\n",
    "        print(\"İnsanın bilgileri\")\n",
    "        print(\"Adı ve Soyadı : {} {}\".format(self.ad,self.soyad,))\n",
    "        print(\"Yaşı : {}\".format(self.yas))\n",
    "        print(\"Mesleği : {}\".format(self.meslek))\n",
    "\n",
    "i1 = Insan(\"Melih\", \"Kotman\", 30, \"Bilgisayar Mühendisi\")\n",
    "\n",
    "i2 = Insan(\"Yiğit\", \"Ram\", 20, \"Öğrenci\")\n",
    "\n",
    "i1.bilgiSoyle()\n",
    "i2.bilgiSoyle()\n",
    "Insan.bilgiSoyle(i1) #selfin anlamı nesneyi kullanabilme ama python yukarı yaptığımız gibi anlıyor argümanı i1 olduğunu anlıyor\n",
    "Insan.bilgiSoyle(i2) #Mutlaka sınıf üzerinden çağırınca argüman vermem gerek"
   ],
   "id": "bc5ee729afb21103",
   "outputs": [
    {
     "name": "stdout",
     "output_type": "stream",
     "text": [
      "İnsanın bilgileri\n",
      "Adı ve Soyadı : Melih Kotman\n",
      "Yaşı : 30\n",
      "Mesleği : Bilgisayar Mühendisi\n",
      "İnsanın bilgileri\n",
      "Adı ve Soyadı : Yiğit Ram\n",
      "Yaşı : 20\n",
      "Mesleği : Öğrenci\n",
      "İnsanın bilgileri\n",
      "Adı ve Soyadı : Melih Kotman\n",
      "Yaşı : 30\n",
      "Mesleği : Bilgisayar Mühendisi\n",
      "İnsanın bilgileri\n",
      "Adı ve Soyadı : Yiğit Ram\n",
      "Yaşı : 20\n",
      "Mesleği : Öğrenci\n"
     ]
    }
   ],
   "execution_count": 18
  },
  {
   "metadata": {
    "ExecuteTime": {
     "end_time": "2025-07-26T15:52:28.418955Z",
     "start_time": "2025-07-26T15:52:28.414650Z"
    }
   },
   "cell_type": "code",
   "source": [
    "#Ornek Sınıf Oluşturma\n",
    "class Araba:\n",
    "    def __init__(self, marka, model, yil, bakim = True):\n",
    "        self.marka = marka\n",
    "        self.model = model\n",
    "        self.yil = yil\n",
    "        self.bakim = bakim\n",
    "    def ozellikleriGoster(self):\n",
    "        print(self.marka, self.model, self.yil, end = \" \")\n",
    "        self.bakimDurumunuGoster()\n",
    "\n",
    "    def bakimDurumunuGoster(self):\n",
    "        if self.bakim:\n",
    "            print(\"Bakımlı\")\n",
    "        else:\n",
    "            print(\"Bakımsız\")\n",
    "\n",
    "\n",
    "a1 = Araba(\"BMW\", \"5.20\", 2022)\n",
    "a2 = Araba(\"Ferrari\", \"P80/C\", 2015, False)\n",
    "\n",
    "a1.ozellikleriGoster()\n",
    "a2.ozellikleriGoster()\n",
    "\n",
    "a3 = Araba(yil = \"2017\", bakim = False, marka = \"Toyota\", model = \"Corolla\")\n",
    "a3.ozellikleriGoster()"
   ],
   "id": "38413655676ff0f6",
   "outputs": [
    {
     "name": "stdout",
     "output_type": "stream",
     "text": [
      "BMW 5.20 2022 Bakımlı\n",
      "Ferrari P80/C 2015 Bakımsız\n",
      "Toyota Corolla 2017 Bakımsız\n"
     ]
    }
   ],
   "execution_count": 25
  },
  {
   "metadata": {},
   "cell_type": "markdown",
   "source": [
    "Variable Çeşitleri\n",
    "\n",
    "    Instance Variable\n",
    "    Class/Static Variable"
   ],
   "id": "ff1f1e477ac237f0"
  },
  {
   "metadata": {
    "ExecuteTime": {
     "end_time": "2025-07-26T16:06:47.780677Z",
     "start_time": "2025-07-26T16:06:47.775551Z"
    }
   },
   "cell_type": "code",
   "source": [
    "class User:\n",
    "    #Class namespace\n",
    "    sayac = 0\n",
    "    def __init__(self, isim = \"Admin\", kayitTarihi = \"20.07.2025\"):\n",
    "        #Instance/Object namespace\n",
    "        User.sayac += 1\n",
    "        self.isim = isim\n",
    "        self.kayitTarihi = kayitTarihi\n",
    "\n",
    "print(User.sayac) #0\n",
    "user1 = User(\"Mehmet Baki\",\"01.07.2020\")\n",
    "print(user1.sayac) #1\n",
    "print(User.sayac) #1\n",
    "\n",
    "user2 = User(\"Memo Toma\",\"06.09.2012\")\n",
    "print(user2.sayac) #2\n",
    "print(User.sayac) #2\n",
    "\n",
    "del user2\n",
    "User.sayac -= 1\n",
    "print(\"Kullanıcı silindi\")\n",
    "#print(user2.sayac) is not defined\n",
    "print(User.sayac)"
   ],
   "id": "1c66fef98a7ed8b6",
   "outputs": [
    {
     "name": "stdout",
     "output_type": "stream",
     "text": [
      "0\n",
      "1\n",
      "1\n",
      "2\n",
      "2\n",
      "Kullanıcı silindi\n",
      "1\n"
     ]
    }
   ],
   "execution_count": 33
  },
  {
   "metadata": {},
   "cell_type": "markdown",
   "source": [
    "Metot Çeşitleri\n",
    "\n",
    "    Instance/Obje Methods\n",
    "    Class Methods\n",
    "    Static Methods"
   ],
   "id": "24db6fe468806471"
  },
  {
   "metadata": {
    "ExecuteTime": {
     "end_time": "2025-07-26T16:16:05.030372Z",
     "start_time": "2025-07-26T16:16:05.024544Z"
    }
   },
   "cell_type": "code",
   "source": [
    "class Calisan:\n",
    "    sirket = \"Turkcell\"\n",
    "\n",
    "    def __init__(self, isim, soyad, sabitMaas, prim):\n",
    "        self.isim = isim\n",
    "        self.soyad = soyad\n",
    "        self.sabitMaas = sabitMaas\n",
    "        self.prim = prim\n",
    "\n",
    "    #Obje Method\n",
    "    def toplamMaas(self):\n",
    "        return self.sabitMaas + self.prim\n",
    "\n",
    "   #Sınıf Method\n",
    "    @classmethod #Artık class metodu\n",
    "    def sirketIsmiSoyle(cls): #Burada class olduğunu anlatmak için cls yazdırıyoruz ama farklı bir şeyde yazabiliriz illa cls gerekmiyor\n",
    "        return cls.sirket\n",
    "\n",
    "    @staticmethod\n",
    "    def bilgi(info = None): #Eğer staticmethod yapmazsan self zanneder ondan dolayı koy\n",
    "        if info != None:\n",
    "            print(info)\n",
    "        else:\n",
    "            print(\"Yazdırılacak bilgi bulunamadı\")\n",
    "\n",
    "c1 = Calisan(\"Melih\", \"Kotman\", 55000, 17500)\n",
    "\n",
    "\n",
    "c2 = Calisan(\"Fahri\", \"Büyük\", 12350, 2300)\n",
    "\n",
    "print(Calisan.toplamMaas(c1))\n",
    "print(Calisan.toplamMaas(c2))\n",
    "\n",
    "print(Calisan.sirketIsmiSoyle())\n",
    "c1.sirketIsmiSoyle() #Otomatik olarak Calisan'ı gönderiyor içinde Calisan argümanı var düşün\n",
    "c2.sirketIsmiSoyle()\n",
    "\n",
    "Calisan.bilgi(\"Doğrudan bilgiyi yaz!\")\n",
    "Calisan.bilgi()"
   ],
   "id": "fa3588ae195c1580",
   "outputs": [
    {
     "name": "stdout",
     "output_type": "stream",
     "text": [
      "72500\n",
      "14650\n",
      "Turkcell\n",
      "Doğrudan bilgiyi yaz!\n",
      "Yazdırılacak bilgi bulunamadı\n"
     ]
    }
   ],
   "execution_count": 41
  },
  {
   "metadata": {},
   "cell_type": "markdown",
   "source": "Inner Sınıflar",
   "id": "f6c552c1d3f0eb61"
  },
  {
   "metadata": {
    "ExecuteTime": {
     "end_time": "2025-07-26T16:34:39.258854Z",
     "start_time": "2025-07-26T16:34:39.255692Z"
    }
   },
   "cell_type": "code",
   "source": [
    "#Outer Class\n",
    "class Musteri:\n",
    "    def __init__(self, musteriNo, isim, soyad, bakiye, hesapTutar):\n",
    "        self.musteriNo = musteriNo\n",
    "        self.isim = isim\n",
    "        self.soyad = soyad\n",
    "        #self.bakiye = bakiye #artık bakiye ve hesaptutarı hesap varsa onlara aktarıyoruz\n",
    "        #self.hesapTutar = hesapTutar\n",
    "        self.hesap = self.Hesap(bakiye, hesapTutar) #Otomatik olarak her müşterinin hesabı açılıyor bu arada\n",
    "\n",
    "    def bilgileriGoster(self):\n",
    "        print(self.musteriNo, self.isim, self.soyad)\n",
    "        self.hesap.bilgileriGoster()\n",
    "    #Inner Class\n",
    "    class Hesap: #Müşterisiysek illa hesabımız olmayabilir diye düşünebiliriz\n",
    "        def __init__(self, bakiye ,hesapTutar):\n",
    "            self.bakiye = bakiye\n",
    "            self.hesapTutar = hesapTutar\n",
    "        def bilgileriGoster(self):\n",
    "            print(self.bakiye, self.hesapTutar)\n",
    "\n",
    "m1 = Musteri(1, \"Selim\", \"Kapı\", 5000, \"TL\")\n",
    "m2 = Musteri(2, \"Emel\", \"Toprak\", 4500, \"$\")\n",
    "\n",
    "m1.bilgileriGoster()\n",
    "m2.bilgileriGoster()\n",
    "\n",
    "hesap = Musteri.Hesap(6000, \"€\") #İsimsiz açabilirim hesap sadece hesaptan açabilirim\n",
    "hesap.bilgileriGoster()\n",
    "\n",
    "m1.hesap = hesap  #Bu isimsiz hesabı selimin hesabına eşleyince 6000 € selimin oluyor\n",
    "m1.bilgileriGoster()"
   ],
   "id": "b99db7989d69667f",
   "outputs": [
    {
     "name": "stdout",
     "output_type": "stream",
     "text": [
      "1 Selim Kapı\n",
      "5000 TL\n",
      "2 Emel Toprak\n",
      "4500 $\n",
      "6000 €\n",
      "1 Selim Kapı\n",
      "6000 €\n"
     ]
    }
   ],
   "execution_count": 46
  },
  {
   "metadata": {},
   "cell_type": "markdown",
   "source": "Kalıtım - Inheritence",
   "id": "b4354455fa9404a5"
  },
  {
   "metadata": {},
   "cell_type": "markdown",
   "source": "isinstance() fonksiyonu",
   "id": "b39a9939dc178af9"
  },
  {
   "metadata": {
    "ExecuteTime": {
     "end_time": "2025-07-27T14:51:53.925887Z",
     "start_time": "2025-07-27T14:51:53.923012Z"
    }
   },
   "cell_type": "code",
   "source": [
    "sayi = 5 #Obje\n",
    "sayi2 = 5.5\n",
    "print(isinstance(sayi, int)) #sayi int class'ının instance'ı mı\n",
    "print(isinstance(sayi, str))\n",
    "print(isinstance(sayi2, float))"
   ],
   "id": "e177191b2adaa492",
   "outputs": [
    {
     "name": "stdout",
     "output_type": "stream",
     "text": [
      "True\n",
      "False\n",
      "True\n"
     ]
    }
   ],
   "execution_count": 3
  },
  {
   "metadata": {},
   "cell_type": "markdown",
   "source": "Bütün sınıflar object'ten miras alıyor, pythondaki her şey bir objedir",
   "id": "9eca66be97834240"
  },
  {
   "metadata": {
    "ExecuteTime": {
     "end_time": "2025-07-27T14:52:24.327005Z",
     "start_time": "2025-07-27T14:52:24.320421Z"
    }
   },
   "cell_type": "code",
   "source": "help(list)",
   "id": "839bdcbe883d08a1",
   "outputs": [
    {
     "name": "stdout",
     "output_type": "stream",
     "text": [
      "Help on class list in module builtins:\n",
      "\n",
      "class list(object)\n",
      " |  list(iterable=(), /)\n",
      " |\n",
      " |  Built-in mutable sequence.\n",
      " |\n",
      " |  If no argument is given, the constructor creates a new empty list.\n",
      " |  The argument must be an iterable if specified.\n",
      " |\n",
      " |  Methods defined here:\n",
      " |\n",
      " |  __add__(self, value, /)\n",
      " |      Return self+value.\n",
      " |\n",
      " |  __contains__(self, key, /)\n",
      " |      Return bool(key in self).\n",
      " |\n",
      " |  __delitem__(self, key, /)\n",
      " |      Delete self[key].\n",
      " |\n",
      " |  __eq__(self, value, /)\n",
      " |      Return self==value.\n",
      " |\n",
      " |  __ge__(self, value, /)\n",
      " |      Return self>=value.\n",
      " |\n",
      " |  __getattribute__(self, name, /)\n",
      " |      Return getattr(self, name).\n",
      " |\n",
      " |  __getitem__(self, index, /)\n",
      " |      Return self[index].\n",
      " |\n",
      " |  __gt__(self, value, /)\n",
      " |      Return self>value.\n",
      " |\n",
      " |  __iadd__(self, value, /)\n",
      " |      Implement self+=value.\n",
      " |\n",
      " |  __imul__(self, value, /)\n",
      " |      Implement self*=value.\n",
      " |\n",
      " |  __init__(self, /, *args, **kwargs)\n",
      " |      Initialize self.  See help(type(self)) for accurate signature.\n",
      " |\n",
      " |  __iter__(self, /)\n",
      " |      Implement iter(self).\n",
      " |\n",
      " |  __le__(self, value, /)\n",
      " |      Return self<=value.\n",
      " |\n",
      " |  __len__(self, /)\n",
      " |      Return len(self).\n",
      " |\n",
      " |  __lt__(self, value, /)\n",
      " |      Return self<value.\n",
      " |\n",
      " |  __mul__(self, value, /)\n",
      " |      Return self*value.\n",
      " |\n",
      " |  __ne__(self, value, /)\n",
      " |      Return self!=value.\n",
      " |\n",
      " |  __repr__(self, /)\n",
      " |      Return repr(self).\n",
      " |\n",
      " |  __reversed__(self, /)\n",
      " |      Return a reverse iterator over the list.\n",
      " |\n",
      " |  __rmul__(self, value, /)\n",
      " |      Return value*self.\n",
      " |\n",
      " |  __setitem__(self, key, value, /)\n",
      " |      Set self[key] to value.\n",
      " |\n",
      " |  __sizeof__(self, /)\n",
      " |      Return the size of the list in memory, in bytes.\n",
      " |\n",
      " |  append(self, object, /)\n",
      " |      Append object to the end of the list.\n",
      " |\n",
      " |  clear(self, /)\n",
      " |      Remove all items from list.\n",
      " |\n",
      " |  copy(self, /)\n",
      " |      Return a shallow copy of the list.\n",
      " |\n",
      " |  count(self, value, /)\n",
      " |      Return number of occurrences of value.\n",
      " |\n",
      " |  extend(self, iterable, /)\n",
      " |      Extend list by appending elements from the iterable.\n",
      " |\n",
      " |  index(self, value, start=0, stop=9223372036854775807, /)\n",
      " |      Return first index of value.\n",
      " |\n",
      " |      Raises ValueError if the value is not present.\n",
      " |\n",
      " |  insert(self, index, object, /)\n",
      " |      Insert object before index.\n",
      " |\n",
      " |  pop(self, index=-1, /)\n",
      " |      Remove and return item at index (default last).\n",
      " |\n",
      " |      Raises IndexError if list is empty or index is out of range.\n",
      " |\n",
      " |  remove(self, value, /)\n",
      " |      Remove first occurrence of value.\n",
      " |\n",
      " |      Raises ValueError if the value is not present.\n",
      " |\n",
      " |  reverse(self, /)\n",
      " |      Reverse *IN PLACE*.\n",
      " |\n",
      " |  sort(self, /, *, key=None, reverse=False)\n",
      " |      Sort the list in ascending order and return None.\n",
      " |\n",
      " |      The sort is in-place (i.e. the list itself is modified) and stable (i.e. the\n",
      " |      order of two equal elements is maintained).\n",
      " |\n",
      " |      If a key function is given, apply it once to each list item and sort them,\n",
      " |      ascending or descending, according to their function values.\n",
      " |\n",
      " |      The reverse flag can be set to sort in descending order.\n",
      " |\n",
      " |  ----------------------------------------------------------------------\n",
      " |  Class methods defined here:\n",
      " |\n",
      " |  __class_getitem__(object, /)\n",
      " |      See PEP 585\n",
      " |\n",
      " |  ----------------------------------------------------------------------\n",
      " |  Static methods defined here:\n",
      " |\n",
      " |  __new__(*args, **kwargs)\n",
      " |      Create and return a new object.  See help(type) for accurate signature.\n",
      " |\n",
      " |  ----------------------------------------------------------------------\n",
      " |  Data and other attributes defined here:\n",
      " |\n",
      " |  __hash__ = None\n",
      "\n"
     ]
    }
   ],
   "execution_count": 4
  },
  {
   "metadata": {},
   "cell_type": "markdown",
   "source": "issubclass() Fonksiyonu",
   "id": "a432a22f0293b222"
  },
  {
   "metadata": {
    "ExecuteTime": {
     "end_time": "2025-07-27T14:54:24.776229Z",
     "start_time": "2025-07-27T14:54:24.773456Z"
    }
   },
   "cell_type": "code",
   "source": [
    "print(issubclass(list, object)) #list object'in alt sınıf mıdır\n",
    "print(issubclass(int, object))"
   ],
   "id": "1705bb8bff3e2c91",
   "outputs": [
    {
     "name": "stdout",
     "output_type": "stream",
     "text": [
      "True\n",
      "True\n"
     ]
    }
   ],
   "execution_count": 6
  },
  {
   "metadata": {
    "ExecuteTime": {
     "end_time": "2025-07-27T14:55:43.087406Z",
     "start_time": "2025-07-27T14:55:43.084312Z"
    }
   },
   "cell_type": "code",
   "source": [
    "class A:\n",
    "    pass\n",
    "class B(A):\n",
    "    pass\n",
    "class C(B):\n",
    "    pass\n",
    "\n",
    "print(issubclass(A, B)) #False\n",
    "print(issubclass(B, C)) #False\n",
    "print(issubclass(C, A)) #True\n",
    "print(issubclass(C, B)) #True"
   ],
   "id": "86225ef6bb122959",
   "outputs": [
    {
     "name": "stdout",
     "output_type": "stream",
     "text": [
      "False\n",
      "False\n",
      "True\n",
      "True\n"
     ]
    }
   ],
   "execution_count": 10
  },
  {
   "metadata": {
    "ExecuteTime": {
     "end_time": "2025-07-27T15:03:02.354470Z",
     "start_time": "2025-07-27T15:03:02.349194Z"
    }
   },
   "cell_type": "code",
   "source": [
    "class A:\n",
    "    def metot1(self):\n",
    "        print(\"A, metot1\")\n",
    "    def metot2(self):\n",
    "        print(\"A, metot2\")\n",
    "\n",
    "class B(A): #A subclass\n",
    "    def metot3(self):\n",
    "        print(\"B, metot3\")\n",
    "    def metot4(self):\n",
    "        print(\"B, metot4\")\n",
    "\n",
    "class C(B): #A and B subclass\n",
    "    def metot5(self):\n",
    "        print(\"C, metot5\")\n",
    "    def metot1(self):\n",
    "        print(\"C, metot1\")\n",
    "\n",
    "objectA = A() #Init olmadığı için default böyle oluşur\n",
    "objectB = B()\n",
    "objectC = C()\n",
    "\n",
    "objectA.metot1()\n",
    "objectA.metot2()\n",
    "\n",
    "objectB.metot1()\n",
    "objectB.metot2()\n",
    "objectB.metot3()\n",
    "objectB.metot4()\n",
    "\n",
    "objectC.metot1()#Hangisini çalıştıracağını bilmediğimiz varsayalım kendine ait varsa A sınıfınınkini çalıştırmaz kendi sınıfını çalıştırır yani Override yapmış oluyor\n",
    "objectB.metot2()\n",
    "objectB.metot3()\n",
    "objectB.metot4()\n",
    "objectC.metot5()\n"
   ],
   "id": "5cecada3d288ea66",
   "outputs": [
    {
     "name": "stdout",
     "output_type": "stream",
     "text": [
      "A, metot1\n",
      "A, metot2\n",
      "A, metot1\n",
      "A, metot2\n",
      "B, metot3\n",
      "B, metot4\n",
      "C, metot1\n",
      "A, metot2\n",
      "B, metot3\n",
      "B, metot4\n",
      "C, metot5\n"
     ]
    }
   ],
   "execution_count": 15
  },
  {
   "metadata": {},
   "cell_type": "markdown",
   "source": "method resolution order - metotun çözümleme sıralaması",
   "id": "6cb8f13ede5d4eca"
  },
  {
   "metadata": {},
   "cell_type": "code",
   "outputs": [],
   "execution_count": null,
   "source": [
    "#method resolution order\n",
    "#metotun çözümleme sıralaması\n",
    "C.mro() #Bir metot çağırılınca nasıl çalıaşcağını bize söyler ilk kendi sınıf sonra B'ye gider sonra A'ya gider en son bulamazsa hata veriyor"
   ],
   "id": "3443750999331c85"
  },
  {
   "metadata": {},
   "cell_type": "markdown",
   "source": [
    "A super class (parent class)\n",
    "\n",
    "B sub class (child class)"
   ],
   "id": "5773d08149bbcd12"
  },
  {
   "metadata": {},
   "cell_type": "markdown",
   "source": [
    "B -> A single level inheritance\n",
    "\n",
    "C->B->A multi level inheritance\n",
    "\n",
    "C->(A, B) multiple level inheritance"
   ],
   "id": "ad76175253cdb93b"
  },
  {
   "metadata": {
    "ExecuteTime": {
     "end_time": "2025-07-27T15:08:30.660524Z",
     "start_time": "2025-07-27T15:08:30.656067Z"
    }
   },
   "cell_type": "code",
   "source": [
    "#Ornek mro\n",
    "\n",
    "class X:\n",
    "    def metot1(self):\n",
    "       print(\"X, metot1\")\n",
    "\n",
    "class Z:\n",
    "    def metot1(self):\n",
    "       print(\"Z, metot1\")\n",
    "\n",
    "class Y:\n",
    "    def metot1(self):\n",
    "       print(\"Y, metot1\")\n",
    "\n",
    "class A(X, Y):\n",
    "    pass\n",
    "    #def metot1(self):\n",
    "      #  print(\"A, metot1\")\n",
    "\n",
    "class B(Y, Z):\n",
    "    pass\n",
    "    #def metot1(self):\n",
    "     #   print(\"B, metot1\")\n",
    "\n",
    "class C(B, A, Z):\n",
    "    pass\n",
    "   # def metot1(self):\n",
    "    #    print(\"C, metot1\")\n",
    "\n",
    "\n",
    "c1 = C()\n",
    "c1.metot1() #B ve A yazdıktan sonra Y'yi değil direkt X'i aldı?\n",
    "\n",
    "print(C.mro()) #Cevap buradan anlayabilirsin"
   ],
   "id": "d661aa147005aedc",
   "outputs": [
    {
     "name": "stdout",
     "output_type": "stream",
     "text": [
      "X, metot1\n",
      "[<class '__main__.C'>, <class '__main__.B'>, <class '__main__.A'>, <class '__main__.X'>, <class '__main__.Y'>, <class '__main__.Z'>, <class 'object'>]\n"
     ]
    }
   ],
   "execution_count": 20
  },
  {
   "metadata": {},
   "cell_type": "markdown",
   "source": "Constructor yani süper fonksiyon",
   "id": "f3c7e40560bbf924"
  },
  {
   "metadata": {
    "ExecuteTime": {
     "end_time": "2025-07-27T15:15:23.046238Z",
     "start_time": "2025-07-27T15:15:23.041182Z"
    }
   },
   "cell_type": "code",
   "source": [
    "class A:\n",
    "    def __init__(self):\n",
    "        print(\"A constructor\")\n",
    "    def metot1(self):\n",
    "        print(\"A, metot1\")\n",
    "class B:\n",
    "    def __init__(self):\n",
    "        print(\"B constructor\")\n",
    "    def metot1(self):\n",
    "        print(\"B, metot1\")\n",
    "class C(A, B):\n",
    "    def __init__(self):\n",
    "        print(\"C constructor\")\n",
    "        super().__init__() #üst sınıfı çalıştırıyor yani A'yı MRO'ya göre yapar UNUTMA!\n",
    "        B.__init__(self) #Ben burada B'yi çalıştıracaksam böyle\n",
    "        A.__init__(self) #Aynı şekilde A'yı yapacaksam özellikle böyle\n",
    "    def metot1(self):\n",
    "        print(\"C, metot1\")\n",
    "        super().metot1() #Ben bunu yaparsam üst sınıfının metotunu çalıştırdı yani A'nın\n",
    "cObj = C()\n",
    "#cObj.metot1() #Ben burada ilk miras aldıklarımı da kullanmak istiyorsam\n",
    "print(C.mro()) #burada ilk C'de varsa bunu sonrasında A'yı eğer A'da yoksa B'ye geçer"
   ],
   "id": "58e4d993d85a4e06",
   "outputs": [
    {
     "name": "stdout",
     "output_type": "stream",
     "text": [
      "C constructor\n",
      "A constructor\n",
      "B constructor\n",
      "A constructor\n",
      "[<class '__main__.C'>, <class '__main__.A'>, <class '__main__.B'>, <class 'object'>]\n"
     ]
    }
   ],
   "execution_count": 31
  },
  {
   "metadata": {},
   "cell_type": "markdown",
   "source": "super() yaptığımızda mroya göre alır ama özellikle yapacaksan bir class'ı class_ismi.__init__(self) şeklinde olmalı",
   "id": "825c0e854e71d5f8"
  },
  {
   "metadata": {
    "ExecuteTime": {
     "end_time": "2025-07-27T15:34:15.500660Z",
     "start_time": "2025-07-27T15:34:15.495080Z"
    }
   },
   "cell_type": "code",
   "source": [
    "#Kalıtım Ornek-1\n",
    "#Bir haber sitesinde haberler spor ve finans şeklindedir\n",
    "#Her haberin başlığı içeriği ve bir adet görseli olmalıdır\n",
    "#Spor haberlerinde video içerikleri de bulunmalı\n",
    "#Finansta ise döviz kurlarının bilgileri de yer almaktadır\n",
    "\n",
    "class Genel:\n",
    "    def __init__(self, baslik, icerik, gorsel):\n",
    "        self.baslik = baslik\n",
    "        self.icerik = icerik\n",
    "        self.gorsel = gorsel\n",
    "\n",
    "    def bilgileriGoster(self):\n",
    "        print(self.baslik, self.icerik, self.gorsel)\n",
    "\n",
    "class Spor(Genel):\n",
    "    def __init__(self, baslik, icerik, gorsel, video):\n",
    "        super().__init__(baslik, icerik, gorsel) #Üst class'taki özellikleri kullanacaksa böyle yapmalıyız super().__init__(ozellikler...)\n",
    "        self.video = video\n",
    "\n",
    "    def bilgileriGoster(self):\n",
    "        super().bilgileriGoster() #Üst sınıftakini göster\n",
    "        print(self.video) #Artı özelliği şeyi de göster\n",
    "\n",
    "    def videoOynat(self):\n",
    "        print(self.video, \"isimli video oynatılıyor\")\n",
    "\n",
    "class Finans(Genel):\n",
    "    def __init__(self, baslik, icerik, gorsel, dovizKurlari):\n",
    "        super().__init__(baslik, icerik, gorsel)\n",
    "        self.dovizKurlari = dovizKurlari\n",
    "\n",
    "    def dovizKurlariBilgisiGoster(self):\n",
    "        for dovizAdi, dovizDegeri in self.dovizKurlari.items(): #Dictionary şeklinde olacak\n",
    "            print(dovizAdi, \":\", dovizDegeri)\n",
    "\n",
    "    def dovizKurlariniGuncelle(self, dovizKurlari):\n",
    "        self.dovizKurlari = dovizKurlari\n",
    "\n",
    "s1 = Spor(video = \"video.mp4\", baslik = \"Maçta Kazanan Olmadı\", icerik = \"Maç berabere bitti, sonuç 0-0'da kaldı.\", gorsel = \"photo1.png\")\n",
    "f1 = Finans(dovizKurlari = {'Dolar' : 40, 'Euro' : 42, 'Sterlin' : 70}, baslik = \"Ekonomi tüm dünyada durgun!\", icerik = \"Savaştan ötürü, ekonomiler durgunlaştı.\", gorsel = \"photo2.png\")\n",
    "\n",
    "f1.dovizKurlariBilgisiGoster()\n",
    "s1.bilgileriGoster()\n",
    "f1.bilgileriGoster()\n",
    "\n",
    "guncelKurBilgisi = {'Dolar' : 42, 'Euro' : 48, 'Sterlin' : 75}\n",
    "f1.dovizKurlariniGuncelle(guncelKurBilgisi)\n",
    "f1.dovizKurlariBilgisiGoster()"
   ],
   "id": "e94b991590e6f786",
   "outputs": [
    {
     "name": "stdout",
     "output_type": "stream",
     "text": [
      "Dolar : 40\n",
      "Euro : 42\n",
      "Sterlin : 70\n",
      "Maçta Kazanan Olmadı Maç berabere bitti, sonuç 0-0'da kaldı. photo1.png\n",
      "video.mp4\n",
      "Ekonomi tüm dünyada durgun! Savaştan ötürü, ekonomiler durgunlaştı. photo2.png\n",
      "Dolar : 42\n",
      "Euro : 48\n",
      "Sterlin : 75\n"
     ]
    }
   ],
   "execution_count": 39
  },
  {
   "metadata": {},
   "cell_type": "markdown",
   "source": "Polymorphism - Çok Biçimlilik",
   "id": "a126db7a159b3d04"
  },
  {
   "metadata": {
    "ExecuteTime": {
     "end_time": "2025-07-27T15:41:28.984597Z",
     "start_time": "2025-07-27T15:41:28.979222Z"
    }
   },
   "cell_type": "code",
   "source": [
    "class Arac:\n",
    "    def __init__(self, tur):\n",
    "        self.tur = tur\n",
    "\n",
    "class Araba(Arac):\n",
    "    def __init__(self):\n",
    "        super().__init__(\"Araba\")\n",
    "\n",
    "    def calis(self):\n",
    "        print(\"Motor çalıştı.\")\n",
    "        print(\"Hareket edebilirsin!\")\n",
    "\n",
    "class Motosiklet(Arac):\n",
    "    def __init__(self):\n",
    "        super().__init__(\"Motosiklet\")\n",
    "\n",
    "    def calis(self):\n",
    "        print(\"Motor çalıştı.\")\n",
    "        print(\"Motor ısınmaya başladı.\")\n",
    "        print(\"Motor ısındı.\")\n",
    "        print(\"Hareket edebilirsin!\")\n",
    "\n",
    "a1 = Araba()\n",
    "m1 = Motosiklet()\n",
    "\n",
    "a1.calis()\n",
    "print(20 * \"*\")\n",
    "m1.calis()\n",
    "\n",
    "class Insan:\n",
    "    def git(self, arac: Arac): #Buradaki arac: Arac notasyonu parametreyi veriyor yani Arac sınıfından arac diye bir şey oluşturdum sayi : int gibi\n",
    "        arac.calis()\n",
    "        print(\"Hareket etmeye başladığım araç türü :\", arac.tur)\n",
    "\n",
    "i1 = Insan()\n",
    "print(20 * \"*\")\n",
    "i1.git(a1)\n",
    "print(20 * \"*\")\n",
    "i1.git(m1)"
   ],
   "id": "69e94ab6d203382d",
   "outputs": [
    {
     "name": "stdout",
     "output_type": "stream",
     "text": [
      "Motor çalıştı.\n",
      "Hareket edebilirsin!\n",
      "********************\n",
      "Motor çalıştı.\n",
      "Motor ısınmaya başladı.\n",
      "Motor ısındı.\n",
      "Hareket edebilirsin!\n",
      "********************\n",
      "Motor çalıştı.\n",
      "Hareket edebilirsin!\n",
      "Hareket etmeye başladığım araç türü : Araba\n",
      "********************\n",
      "Motor çalıştı.\n",
      "Motor ısınmaya başladı.\n",
      "Motor ısındı.\n",
      "Hareket edebilirsin!\n",
      "Hareket etmeye başladığım araç türü : Motosiklet\n"
     ]
    }
   ],
   "execution_count": 43
  },
  {
   "metadata": {},
   "cell_type": "markdown",
   "source": "Operator Overloading, bir operatörü aşırı yüklemedir",
   "id": "967145c59214db32"
  },
  {
   "metadata": {
    "ExecuteTime": {
     "end_time": "2025-07-27T15:45:15.351845Z",
     "start_time": "2025-07-27T15:45:15.349092Z"
    }
   },
   "cell_type": "code",
   "source": [
    "toplam = 6 + 9\n",
    "fullName = \"Fatih\"+\" \"+\"Açıkgöz\"\n",
    "sonuc = int.__add__(30, 50)\n",
    "sonuc = 30 + 50 #yani + işlemi __add__ magic metotunu kullanıyor\n",
    "takimIsmi = str.__add__(\"Galata\",\"Saray\")\n",
    "takimIsmi = \"Galata\" + \"Saray\" #Arka planda __add__ magic metotunu kullanıyor +"
   ],
   "id": "e471e963d0e42e81",
   "outputs": [],
   "execution_count": 47
  },
  {
   "metadata": {},
   "cell_type": "markdown",
   "source": "Magic Methods - Büyülü Metotlar : Operatörler gelince arka planda bu metotlar çalışıyor",
   "id": "c8a954e5983cdf77"
  },
  {
   "metadata": {
    "ExecuteTime": {
     "end_time": "2025-07-28T09:31:31.182600Z",
     "start_time": "2025-07-28T09:31:31.178128Z"
    }
   },
   "cell_type": "code",
   "source": [
    "#Addition (Toplama) +\n",
    "print(int.__add__(7, 8))\n",
    "print(float.__add__(7.2, 8.8))"
   ],
   "id": "c16f5a058ade5740",
   "outputs": [
    {
     "name": "stdout",
     "output_type": "stream",
     "text": [
      "15\n",
      "16.0\n"
     ]
    }
   ],
   "execution_count": 1
  },
  {
   "metadata": {
    "ExecuteTime": {
     "end_time": "2025-07-28T09:32:02.006141Z",
     "start_time": "2025-07-28T09:32:02.003151Z"
    }
   },
   "cell_type": "code",
   "source": [
    "#Substraction (Çıkarma) -\n",
    "print(int.__sub__(7, 8))\n",
    "print(float.__sub__(7.2, 8.8))"
   ],
   "id": "e0e02622dc2a6a9b",
   "outputs": [
    {
     "name": "stdout",
     "output_type": "stream",
     "text": [
      "-1\n",
      "-1.6000000000000005\n"
     ]
    }
   ],
   "execution_count": 2
  },
  {
   "metadata": {
    "ExecuteTime": {
     "end_time": "2025-07-28T09:34:53.146623Z",
     "start_time": "2025-07-28T09:34:53.143265Z"
    }
   },
   "cell_type": "code",
   "source": [
    "#Multiplication (Çarpma) *\n",
    "print(int.__mul__(7, 8))\n",
    "print(float.__mul__(7.2, 8.8))\n",
    "print(str.__mul__(\"-\", 30))\n",
    "print(30 * \"-\")"
   ],
   "id": "aa314a3de7ca1318",
   "outputs": [
    {
     "name": "stdout",
     "output_type": "stream",
     "text": [
      "56\n",
      "63.36000000000001\n",
      "------------------------------\n",
      "------------------------------\n"
     ]
    }
   ],
   "execution_count": 7
  },
  {
   "metadata": {
    "ExecuteTime": {
     "end_time": "2025-07-28T09:34:13.767224Z",
     "start_time": "2025-07-28T09:34:13.764492Z"
    }
   },
   "cell_type": "code",
   "source": [
    "#Division (Bölme) /\n",
    "print(int.__truediv__(7, 8))\n",
    "print(int.__floordiv__(7, 8))\n",
    "print(int.__divmod__(10, 3)) #TUPLE\n",
    "print(int.__divmod__(17, 4)) #TUPLE"
   ],
   "id": "62042cc1094bd328",
   "outputs": [
    {
     "name": "stdout",
     "output_type": "stream",
     "text": [
      "0.875\n",
      "0\n",
      "(3, 1)\n",
      "(4, 1)\n"
     ]
    }
   ],
   "execution_count": 6
  },
  {
   "metadata": {
    "ExecuteTime": {
     "end_time": "2025-07-28T09:39:26.692388Z",
     "start_time": "2025-07-28T09:39:26.689812Z"
    }
   },
   "cell_type": "code",
   "source": [
    "#Length (Uzunluk) len()\n",
    "print([2, 3, 4, 5, 6].__len__())\n",
    "print(len([2, 3, 4, 5, 6]))"
   ],
   "id": "1054bc6553e57bb4",
   "outputs": [
    {
     "name": "stdout",
     "output_type": "stream",
     "text": [
      "5\n",
      "5\n"
     ]
    }
   ],
   "execution_count": 8
  },
  {
   "metadata": {
    "ExecuteTime": {
     "end_time": "2025-07-28T09:41:06.367278Z",
     "start_time": "2025-07-28T09:41:06.364490Z"
    }
   },
   "cell_type": "code",
   "source": [
    "#Greater than (Büyüktür) >\n",
    "print(int.__gt__(5, 4))\n",
    "print(5 > 4)\n",
    "print(int.__gt__(4, 5))\n",
    "print(4 > 5)"
   ],
   "id": "43f2b1c3935912e9",
   "outputs": [
    {
     "name": "stdout",
     "output_type": "stream",
     "text": [
      "True\n",
      "True\n",
      "False\n",
      "False\n"
     ]
    }
   ],
   "execution_count": 9
  },
  {
   "metadata": {
    "ExecuteTime": {
     "end_time": "2025-07-28T09:42:03.769781Z",
     "start_time": "2025-07-28T09:42:03.767048Z"
    }
   },
   "cell_type": "code",
   "source": [
    "#Greater or equal >=\n",
    "print(int.__ge__(5, 5))\n",
    "print(5 >= 5)\n",
    "print(int.__ge__(5, 4))\n",
    "print(5 >= 4)\n",
    "print(int.__ge__(4, 5))\n",
    "print(4 >= 5)"
   ],
   "id": "9a76f40d67e1713c",
   "outputs": [
    {
     "name": "stdout",
     "output_type": "stream",
     "text": [
      "True\n",
      "True\n",
      "True\n",
      "True\n",
      "False\n",
      "False\n"
     ]
    }
   ],
   "execution_count": 10
  },
  {
   "metadata": {
    "ExecuteTime": {
     "end_time": "2025-07-28T09:42:48.375269Z",
     "start_time": "2025-07-28T09:42:48.372332Z"
    }
   },
   "cell_type": "code",
   "source": [
    "#Lower than (Küçüktür) <\n",
    "print(int.__lt__(5, 4))\n",
    "print(5 < 4)\n",
    "print(int.__lt__(4, 5))\n",
    "print(4 < 5)"
   ],
   "id": "858c0497aa7123",
   "outputs": [
    {
     "name": "stdout",
     "output_type": "stream",
     "text": [
      "False\n",
      "False\n",
      "True\n",
      "True\n"
     ]
    }
   ],
   "execution_count": 11
  },
  {
   "metadata": {
    "ExecuteTime": {
     "end_time": "2025-07-28T09:43:37.892878Z",
     "start_time": "2025-07-28T09:43:37.889744Z"
    }
   },
   "cell_type": "code",
   "source": [
    "#Lower or equal <=\n",
    "print(int.__le__(5, 5))\n",
    "print(5 <= 5)\n",
    "print(int.__le__(5, 4))\n",
    "print(5 <= 4)\n",
    "print(int.__le__(4, 5))\n",
    "print(5 <= 4)\n"
   ],
   "id": "e2d9e596e5ec1fac",
   "outputs": [
    {
     "name": "stdout",
     "output_type": "stream",
     "text": [
      "True\n",
      "True\n",
      "False\n",
      "False\n",
      "True\n",
      "False\n"
     ]
    }
   ],
   "execution_count": 13
  },
  {
   "metadata": {},
   "cell_type": "markdown",
   "source": "Büylü  Metot Yazma",
   "id": "969b14d4235686a5"
  },
  {
   "metadata": {
    "ExecuteTime": {
     "end_time": "2025-07-28T10:02:34.605647Z",
     "start_time": "2025-07-28T10:02:34.598925Z"
    }
   },
   "cell_type": "code",
   "source": [
    "from math import sqrt\n",
    "\n",
    "\n",
    "class Nokta:\n",
    "    sayac = 0\n",
    "    def __init__(self, x, y):\n",
    "        Nokta.sayac += 1\n",
    "        self.x = x\n",
    "        self.y = y\n",
    "\n",
    "    def __add__(self, other): #+ operatörünü overload ediyoruz burada eklenecek objenin yanında other yani öbür objeyi alıyoruz\n",
    "        x = self.x + other.x\n",
    "        y = self.y + other.y\n",
    "        return Nokta(x, y)\n",
    "\n",
    "    def __str__(self):\n",
    "        return f'({self.x}, {self.y})' #Formatladık\n",
    "    #return '(+self.x+','+self.y+')' şeklinde yazılabilir\n",
    "\n",
    "    #Orijine göre noktalarının uzaklığını değerlendirme\n",
    "    def __gt__(self, other):\n",
    "        u1 = sqrt(self.x**2 + self.y**2)\n",
    "        u2 = sqrt(other.x**2 + other.y**2)\n",
    "\n",
    "        return u1 > u2\n",
    "\n",
    "    def __del__(self):\n",
    "        Nokta.sayac -= 1\n",
    "        print(f'{self} noktası kaldırıldı.')\n",
    "\n",
    "    def __len__(self):\n",
    "        \"\"\"\n",
    "        1. bölgedeyse 1\n",
    "        2. bölgedeyse 2\n",
    "        3. bölgedeyse 3\n",
    "        4. bölgedeyse 4\n",
    "        Nokta orijindeyse 5\n",
    "        y ekseni üzerindeyse 6\n",
    "        x ekseni üzerindeyse 7\n",
    "        \"\"\"\n",
    "        if self.x > 0 and self.y > 0:\n",
    "            return 1\n",
    "        elif self.x < 0 and self.y > 0:\n",
    "            return 2\n",
    "        elif self.x < 0 and self.y < 0:\n",
    "            return 3\n",
    "        elif self.x > 0 and self.y < 0:\n",
    "            return 4\n",
    "        elif self.x == 0 and self.y == 0:\n",
    "            return 5\n",
    "        elif self.x == 0:\n",
    "            return 6\n",
    "        elif self.y == 0:\n",
    "            return 7\n",
    "\n",
    "n1 = Nokta(5, 6)\n",
    "n2 = Nokta(0, 0)\n",
    "n3 = n1 + n2 #Eğer + operatörü yazmasak unsupported operand type(s) for +: TypeError\n",
    "\n",
    "print(n3) #12, 15 #magic metodu olmayınca objenin belleğinin adresini verecek ama str yazarak gösterebiliriz\n",
    "print(str(n3)) #bu şekilde de\n",
    "\n",
    "print(n1 > n2)\n",
    "print(n2 > n1)\n",
    "\n",
    "print(n1 < n2) #Burada lt yazmamıza rağmen kullanabiliriz\n",
    "print(n2 < n1)\n",
    "\n",
    "print(Nokta.sayac)\n",
    "del n1 #ben del magic metodunu yazmadıysam aynı kalır sayaç\n",
    "print(Nokta.sayac)\n",
    "\n",
    "bilgi = len(n2)\n",
    "if bilgi in [1,2,3,4]:\n",
    "    print(f\"{bilgi} Noktamız {len(n2)}. bölgededir!\")\n",
    "elif bilgi == 5:\n",
    "    print(f\"{n2} Orijindedir!\")\n",
    "elif bilgi == 6:\n",
    "    print(f\"{n2} Y eksenindedir\")\n",
    "elif bilgi == 7:\n",
    "    print(f\"{n2} X eksenindedir\")\n"
   ],
   "id": "59e2e9c32d3718d5",
   "outputs": [
    {
     "name": "stdout",
     "output_type": "stream",
     "text": [
      "(0, 0) noktası kaldırıldı.\n",
      "(5, 6) noktası kaldırıldı.\n",
      "(5, 6)\n",
      "(5, 6)\n",
      "True\n",
      "False\n",
      "False\n",
      "True\n",
      "1\n",
      "(5, 6) noktası kaldırıldı.\n",
      "0\n",
      "(0, 0) Orijindedir!\n"
     ]
    }
   ],
   "execution_count": 37
  },
  {
   "metadata": {},
   "cell_type": "markdown",
   "source": "Method Overloading : Fonksiyon ismi aynı ama parametreler farklı, Method Overriding : Alt classtaki fonksiyon üst classtaki fonksiyonu maskeliyor",
   "id": "7cc556d14bbb30aa"
  },
  {
   "metadata": {
    "ExecuteTime": {
     "end_time": "2025-07-28T10:04:36.771874Z",
     "start_time": "2025-07-28T10:04:36.769141Z"
    }
   },
   "cell_type": "code",
   "source": [
    "#Method Overloading\n",
    "def topla(s1, s2):\n",
    "    return s1 + s2\n",
    "\n",
    "def topla(s1, s2, s3 = 0): #Burada default val vermemiz gerektir tam anlamıyla overloading yoktur\n",
    "    return s1 + s2 + s3\n",
    "\n",
    "#C#, C++, Java gibilerde kendi kendine yapıyor ama Pythonda yapmıyor\n",
    "print(topla(5, 6)) #ilk fonksiyon geliyor\n",
    "print(topla(4, 5, 6)) #İkincisi çalışıyor"
   ],
   "id": "51b558b55dfc7a10",
   "outputs": [
    {
     "name": "stdout",
     "output_type": "stream",
     "text": [
      "11\n",
      "15\n"
     ]
    }
   ],
   "execution_count": 38
  },
  {
   "metadata": {
    "ExecuteTime": {
     "end_time": "2025-07-28T10:08:42.033151Z",
     "start_time": "2025-07-28T10:08:42.029466Z"
    }
   },
   "cell_type": "code",
   "source": [
    "#Method Overriding\n",
    "class Bina:\n",
    "    def __init__(self, no):\n",
    "        self.binaNo = no\n",
    "    def adresSoyle(self):\n",
    "        print(\"No : \", self.binaNo)\n",
    "\n",
    "class Daire(Bina):\n",
    "    def __init__(self, no, binaNo):\n",
    "        super().__init__(binaNo)\n",
    "        self.daireNo = no\n",
    "\n",
    "    def adresSoyle(self):\n",
    "        print(f\"Bina no: {self.binaNo} Daire no: {self.daireNo}\")\n",
    "\n",
    "b1 = Bina(68)\n",
    "b1.adresSoyle()\n",
    "\n",
    "d1 = Daire(7, b1.binaNo)\n",
    "d1.adresSoyle() #Eğer dairede olmasaydı gidip binadaki fonksiyonu çalıştıracaktı ama dairede olduğu için daire fonksiyonunu çalıştırıyor"
   ],
   "id": "ea30fb4b6a19fd13",
   "outputs": [
    {
     "name": "stdout",
     "output_type": "stream",
     "text": [
      "No :  68\n",
      "Bina no: 68 Daire no: 7\n"
     ]
    }
   ],
   "execution_count": 40
  },
  {
   "metadata": {},
   "cell_type": "markdown",
   "source": "Soyutlama (Abstraction)",
   "id": "ade78be2fea6bebd"
  },
  {
   "metadata": {
    "ExecuteTime": {
     "end_time": "2025-07-28T10:19:34.022626Z",
     "start_time": "2025-07-28T10:19:34.018340Z"
    }
   },
   "cell_type": "code",
   "source": [
    "from abc import ABC, abstractmethod\n",
    "class Makine(ABC):\n",
    "    @abstractmethod #Bunu yazarsak makineyi çalıştıramayız çünkü soyuttur bu ve altta override edenler ise mutlaka fonksiyonu yazmalıdır\n",
    "    def calis(self):\n",
    "        print(\"Makine çalıştı\") #bu soyut bir kavram TypeError verir\n",
    "\n",
    "class CamasirMakine(Makine):\n",
    "    def calis(self):\n",
    "        print(\"Çamaşır makinesi çalıştı\")\n",
    "class BulasikMakine(Makine):\n",
    "    def calis(self):\n",
    "        print(\"Bulaşık makinesi çalıştı\")\n",
    "\n",
    "c1 = CamasirMakine()\n",
    "b1 = BulasikMakine()\n",
    "c1.calis()\n",
    "b1.calis()\n",
    "class Insan():\n",
    "    def camasirYika(self, makine : CamasirMakine): #makinenin tipini belirtmemiz gerek ve o da çamaşır makinesi\n",
    "        if type(makine) == CamasirMakine: #Bir tane daha sağlama yapıyoruz ki hata olmasın\n",
    "            print(\"İnsan çamaşırları makineye attı\")\n",
    "            makine.calis()\n",
    "        else: #Başka makine gönderirsem böyle mesaj atmalıyım\n",
    "            print(\"Bunda çamaşır yıkanır!\")\n",
    "i1 = Insan()\n",
    "i1.camasirYika(c1)\n",
    "i1.camasirYika(b1)"
   ],
   "id": "45374c529467dc99",
   "outputs": [
    {
     "name": "stdout",
     "output_type": "stream",
     "text": [
      "Çamaşır makinesi çalıştı\n",
      "Bulaşık makinesi çalıştı\n",
      "İnsan çamaşırları makineye attı\n",
      "Çamaşır makinesi çalıştı\n",
      "Bunda çamaşır yıkanır!\n"
     ]
    }
   ],
   "execution_count": 51
  },
  {
   "metadata": {},
   "cell_type": "markdown",
   "source": "Iterator - Yineleyici",
   "id": "90afa846789d99db"
  },
  {
   "metadata": {
    "ExecuteTime": {
     "end_time": "2025-07-28T10:23:15.427338Z",
     "start_time": "2025-07-28T10:23:15.424755Z"
    }
   },
   "cell_type": "code",
   "source": [
    "sayilar = [2, 5, 7, 8]\n",
    "\n",
    "#for ile yapabiliriz\n",
    "\n",
    "sayilar = iter(sayilar)\n",
    "\n",
    "print(sayilar.__next__())\n",
    "print(sayilar.__next__())\n",
    "print(sayilar.__next__())\n",
    "print(sayilar.__next__())\n",
    "#print(sayilar.__next__()) #StopIteration\n"
   ],
   "id": "60e6d890ac71b3ae",
   "outputs": [
    {
     "name": "stdout",
     "output_type": "stream",
     "text": [
      "2\n",
      "5\n",
      "7\n",
      "8\n"
     ]
    }
   ],
   "execution_count": 58
  },
  {
   "metadata": {
    "ExecuteTime": {
     "end_time": "2025-07-28T10:23:15.955353Z",
     "start_time": "2025-07-28T10:23:15.952724Z"
    }
   },
   "cell_type": "code",
   "source": [
    "sayilar = [2, 5, 7, 8]\n",
    "\n",
    "sayilar = iter(sayilar)\n",
    "\n",
    "print(next(sayilar))\n",
    "print(next(sayilar))\n",
    "print(next(sayilar))\n",
    "print(next(sayilar))"
   ],
   "id": "c3a84e87e6e3bb21",
   "outputs": [
    {
     "name": "stdout",
     "output_type": "stream",
     "text": [
      "2\n",
      "5\n",
      "7\n",
      "8\n"
     ]
    }
   ],
   "execution_count": 59
  },
  {
   "metadata": {
    "ExecuteTime": {
     "end_time": "2025-07-28T10:26:11.907997Z",
     "start_time": "2025-07-28T10:26:11.880293Z"
    }
   },
   "cell_type": "code",
   "source": [
    "#İlk 100 doğal sayı veren sınıf\n",
    "\n",
    "class IlkYuzSayi:\n",
    "    def __init__(self):\n",
    "        self.sayi = 0\n",
    "\n",
    "    def __iter__(self):\n",
    "        return self\n",
    "\n",
    "    def __next__(self):\n",
    "        if self.sayi <= 100:\n",
    "            sayi = self.sayi\n",
    "            self.sayi += 1\n",
    "            return sayi\n",
    "        #return None Default olarak none veriyor\n",
    "        raise StopIteration #Burada bu hatayı gönderiyoruz raise ile\n",
    "sayilar = IlkYuzSayi()\n",
    "print(next(sayilar))\n",
    "print(next(sayilar))\n",
    "print(next(sayilar))\n",
    "print(next(sayilar))\n",
    "\n",
    "for i in range(200):\n",
    "    print(next(sayilar)) #Belli bir sayıdan sonra None veriyor"
   ],
   "id": "b3b4469a1ea1356d",
   "outputs": [
    {
     "name": "stdout",
     "output_type": "stream",
     "text": [
      "0\n",
      "1\n",
      "2\n",
      "3\n",
      "4\n",
      "5\n",
      "6\n",
      "7\n",
      "8\n",
      "9\n",
      "10\n",
      "11\n",
      "12\n",
      "13\n",
      "14\n",
      "15\n",
      "16\n",
      "17\n",
      "18\n",
      "19\n",
      "20\n",
      "21\n",
      "22\n",
      "23\n",
      "24\n",
      "25\n",
      "26\n",
      "27\n",
      "28\n",
      "29\n",
      "30\n",
      "31\n",
      "32\n",
      "33\n",
      "34\n",
      "35\n",
      "36\n",
      "37\n",
      "38\n",
      "39\n",
      "40\n",
      "41\n",
      "42\n",
      "43\n",
      "44\n",
      "45\n",
      "46\n",
      "47\n",
      "48\n",
      "49\n",
      "50\n",
      "51\n",
      "52\n",
      "53\n",
      "54\n",
      "55\n",
      "56\n",
      "57\n",
      "58\n",
      "59\n",
      "60\n",
      "61\n",
      "62\n",
      "63\n",
      "64\n",
      "65\n",
      "66\n",
      "67\n",
      "68\n",
      "69\n",
      "70\n",
      "71\n",
      "72\n",
      "73\n",
      "74\n",
      "75\n",
      "76\n",
      "77\n",
      "78\n",
      "79\n",
      "80\n",
      "81\n",
      "82\n",
      "83\n",
      "84\n",
      "85\n",
      "86\n",
      "87\n",
      "88\n",
      "89\n",
      "90\n",
      "91\n",
      "92\n",
      "93\n",
      "94\n",
      "95\n",
      "96\n",
      "97\n",
      "98\n",
      "99\n",
      "100\n"
     ]
    },
    {
     "ename": "StopIteration",
     "evalue": "",
     "output_type": "error",
     "traceback": [
      "\u001B[31m---------------------------------------------------------------------------\u001B[39m",
      "\u001B[31mStopIteration\u001B[39m                             Traceback (most recent call last)",
      "\u001B[36mCell\u001B[39m\u001B[36m \u001B[39m\u001B[32mIn[65]\u001B[39m\u001B[32m, line 24\u001B[39m\n\u001B[32m     21\u001B[39m \u001B[38;5;28mprint\u001B[39m(\u001B[38;5;28mnext\u001B[39m(sayilar))\n\u001B[32m     23\u001B[39m \u001B[38;5;28;01mfor\u001B[39;00m i \u001B[38;5;129;01min\u001B[39;00m \u001B[38;5;28mrange\u001B[39m(\u001B[32m200\u001B[39m):\n\u001B[32m---> \u001B[39m\u001B[32m24\u001B[39m     \u001B[38;5;28mprint\u001B[39m(\u001B[38;5;28;43mnext\u001B[39;49m\u001B[43m(\u001B[49m\u001B[43msayilar\u001B[49m\u001B[43m)\u001B[49m) \u001B[38;5;66;03m#Belli bir sayıdan sonra None veriyor\u001B[39;00m\n",
      "\u001B[36mCell\u001B[39m\u001B[36m \u001B[39m\u001B[32mIn[65]\u001B[39m\u001B[32m, line 16\u001B[39m, in \u001B[36mIlkYuzSayi.__next__\u001B[39m\u001B[34m(self)\u001B[39m\n\u001B[32m     14\u001B[39m     \u001B[38;5;28;01mreturn\u001B[39;00m sayi\n\u001B[32m     15\u001B[39m \u001B[38;5;66;03m#return None Default olarak none veriyor\u001B[39;00m\n\u001B[32m---> \u001B[39m\u001B[32m16\u001B[39m \u001B[38;5;28;01mraise\u001B[39;00m \u001B[38;5;167;01mStopIteration\u001B[39;00m\n",
      "\u001B[31mStopIteration\u001B[39m: "
     ]
    }
   ],
   "execution_count": 65
  },
  {
   "metadata": {},
   "cell_type": "markdown",
   "source": "Generator - Üreteç",
   "id": "8cd28d4640ba8a48"
  },
  {
   "metadata": {
    "ExecuteTime": {
     "end_time": "2025-07-28T10:28:03.340433Z",
     "start_time": "2025-07-28T10:28:03.337921Z"
    }
   },
   "cell_type": "code",
   "source": [
    "#Her generator bir iteratordur\n",
    "# yield => verim, ürün\n",
    "\n",
    "def sayiUret():\n",
    "    yield 1\n",
    "    yield True\n",
    "    yield \"Melih\"\n",
    "\n",
    "uretilmisDegerler = list(sayiUret()) #Birden fazla ürün elde etme yaratma\n",
    "\n",
    "for i in uretilmisDegerler:\n",
    "    print(i)"
   ],
   "id": "75901f2788717585",
   "outputs": [
    {
     "name": "stdout",
     "output_type": "stream",
     "text": [
      "1\n",
      "True\n",
      "Melih\n"
     ]
    }
   ],
   "execution_count": 67
  },
  {
   "metadata": {
    "ExecuteTime": {
     "end_time": "2025-07-28T10:29:08.308529Z",
     "start_time": "2025-07-28T10:29:08.305689Z"
    }
   },
   "cell_type": "code",
   "source": [
    "aralik = range(10)\n",
    "print(list(aralik))\n",
    "\n",
    "print(sayiUret()) #Generator objesi bu olduğunu gösteriyor return olarak\n",
    "print(type(sayiUret()))\n",
    "\n",
    "print(tuple(sayiUret()))"
   ],
   "id": "979af82e0ea03c26",
   "outputs": [
    {
     "name": "stdout",
     "output_type": "stream",
     "text": [
      "[0, 1, 2, 3, 4, 5, 6, 7, 8, 9]\n",
      "<generator object sayiUret at 0x1155f6a30>\n",
      "<class 'generator'>\n",
      "(1, True, 'Melih')\n"
     ]
    }
   ],
   "execution_count": 70
  },
  {
   "metadata": {
    "ExecuteTime": {
     "end_time": "2025-07-28T10:31:05.071041Z",
     "start_time": "2025-07-28T10:31:05.061716Z"
    }
   },
   "cell_type": "code",
   "source": [
    "#İlk bin sayıyı üreten fonksiyon\n",
    "\n",
    "def ilkBinSayi():\n",
    "    i = 0\n",
    "    while i <= 1000:\n",
    "        yield i\n",
    "        i += 1\n",
    "\n",
    "print(list(ilkBinSayi()))\n",
    "\n",
    "sayilar2 = ilkBinSayi()\n",
    "\n",
    "print(next(sayilar2))\n",
    "print(next(sayilar2))\n",
    "print(next(sayilar2))\n",
    "print(next(sayilar2))\n",
    "\n",
    "print(\"4 kez çalıştı\")\n",
    "for sayi in sayilar2:\n",
    "    print(sayi)"
   ],
   "id": "d529de3a850ee95a",
   "outputs": [
    {
     "name": "stdout",
     "output_type": "stream",
     "text": [
      "[0, 1, 2, 3, 4, 5, 6, 7, 8, 9, 10, 11, 12, 13, 14, 15, 16, 17, 18, 19, 20, 21, 22, 23, 24, 25, 26, 27, 28, 29, 30, 31, 32, 33, 34, 35, 36, 37, 38, 39, 40, 41, 42, 43, 44, 45, 46, 47, 48, 49, 50, 51, 52, 53, 54, 55, 56, 57, 58, 59, 60, 61, 62, 63, 64, 65, 66, 67, 68, 69, 70, 71, 72, 73, 74, 75, 76, 77, 78, 79, 80, 81, 82, 83, 84, 85, 86, 87, 88, 89, 90, 91, 92, 93, 94, 95, 96, 97, 98, 99, 100, 101, 102, 103, 104, 105, 106, 107, 108, 109, 110, 111, 112, 113, 114, 115, 116, 117, 118, 119, 120, 121, 122, 123, 124, 125, 126, 127, 128, 129, 130, 131, 132, 133, 134, 135, 136, 137, 138, 139, 140, 141, 142, 143, 144, 145, 146, 147, 148, 149, 150, 151, 152, 153, 154, 155, 156, 157, 158, 159, 160, 161, 162, 163, 164, 165, 166, 167, 168, 169, 170, 171, 172, 173, 174, 175, 176, 177, 178, 179, 180, 181, 182, 183, 184, 185, 186, 187, 188, 189, 190, 191, 192, 193, 194, 195, 196, 197, 198, 199, 200, 201, 202, 203, 204, 205, 206, 207, 208, 209, 210, 211, 212, 213, 214, 215, 216, 217, 218, 219, 220, 221, 222, 223, 224, 225, 226, 227, 228, 229, 230, 231, 232, 233, 234, 235, 236, 237, 238, 239, 240, 241, 242, 243, 244, 245, 246, 247, 248, 249, 250, 251, 252, 253, 254, 255, 256, 257, 258, 259, 260, 261, 262, 263, 264, 265, 266, 267, 268, 269, 270, 271, 272, 273, 274, 275, 276, 277, 278, 279, 280, 281, 282, 283, 284, 285, 286, 287, 288, 289, 290, 291, 292, 293, 294, 295, 296, 297, 298, 299, 300, 301, 302, 303, 304, 305, 306, 307, 308, 309, 310, 311, 312, 313, 314, 315, 316, 317, 318, 319, 320, 321, 322, 323, 324, 325, 326, 327, 328, 329, 330, 331, 332, 333, 334, 335, 336, 337, 338, 339, 340, 341, 342, 343, 344, 345, 346, 347, 348, 349, 350, 351, 352, 353, 354, 355, 356, 357, 358, 359, 360, 361, 362, 363, 364, 365, 366, 367, 368, 369, 370, 371, 372, 373, 374, 375, 376, 377, 378, 379, 380, 381, 382, 383, 384, 385, 386, 387, 388, 389, 390, 391, 392, 393, 394, 395, 396, 397, 398, 399, 400, 401, 402, 403, 404, 405, 406, 407, 408, 409, 410, 411, 412, 413, 414, 415, 416, 417, 418, 419, 420, 421, 422, 423, 424, 425, 426, 427, 428, 429, 430, 431, 432, 433, 434, 435, 436, 437, 438, 439, 440, 441, 442, 443, 444, 445, 446, 447, 448, 449, 450, 451, 452, 453, 454, 455, 456, 457, 458, 459, 460, 461, 462, 463, 464, 465, 466, 467, 468, 469, 470, 471, 472, 473, 474, 475, 476, 477, 478, 479, 480, 481, 482, 483, 484, 485, 486, 487, 488, 489, 490, 491, 492, 493, 494, 495, 496, 497, 498, 499, 500, 501, 502, 503, 504, 505, 506, 507, 508, 509, 510, 511, 512, 513, 514, 515, 516, 517, 518, 519, 520, 521, 522, 523, 524, 525, 526, 527, 528, 529, 530, 531, 532, 533, 534, 535, 536, 537, 538, 539, 540, 541, 542, 543, 544, 545, 546, 547, 548, 549, 550, 551, 552, 553, 554, 555, 556, 557, 558, 559, 560, 561, 562, 563, 564, 565, 566, 567, 568, 569, 570, 571, 572, 573, 574, 575, 576, 577, 578, 579, 580, 581, 582, 583, 584, 585, 586, 587, 588, 589, 590, 591, 592, 593, 594, 595, 596, 597, 598, 599, 600, 601, 602, 603, 604, 605, 606, 607, 608, 609, 610, 611, 612, 613, 614, 615, 616, 617, 618, 619, 620, 621, 622, 623, 624, 625, 626, 627, 628, 629, 630, 631, 632, 633, 634, 635, 636, 637, 638, 639, 640, 641, 642, 643, 644, 645, 646, 647, 648, 649, 650, 651, 652, 653, 654, 655, 656, 657, 658, 659, 660, 661, 662, 663, 664, 665, 666, 667, 668, 669, 670, 671, 672, 673, 674, 675, 676, 677, 678, 679, 680, 681, 682, 683, 684, 685, 686, 687, 688, 689, 690, 691, 692, 693, 694, 695, 696, 697, 698, 699, 700, 701, 702, 703, 704, 705, 706, 707, 708, 709, 710, 711, 712, 713, 714, 715, 716, 717, 718, 719, 720, 721, 722, 723, 724, 725, 726, 727, 728, 729, 730, 731, 732, 733, 734, 735, 736, 737, 738, 739, 740, 741, 742, 743, 744, 745, 746, 747, 748, 749, 750, 751, 752, 753, 754, 755, 756, 757, 758, 759, 760, 761, 762, 763, 764, 765, 766, 767, 768, 769, 770, 771, 772, 773, 774, 775, 776, 777, 778, 779, 780, 781, 782, 783, 784, 785, 786, 787, 788, 789, 790, 791, 792, 793, 794, 795, 796, 797, 798, 799, 800, 801, 802, 803, 804, 805, 806, 807, 808, 809, 810, 811, 812, 813, 814, 815, 816, 817, 818, 819, 820, 821, 822, 823, 824, 825, 826, 827, 828, 829, 830, 831, 832, 833, 834, 835, 836, 837, 838, 839, 840, 841, 842, 843, 844, 845, 846, 847, 848, 849, 850, 851, 852, 853, 854, 855, 856, 857, 858, 859, 860, 861, 862, 863, 864, 865, 866, 867, 868, 869, 870, 871, 872, 873, 874, 875, 876, 877, 878, 879, 880, 881, 882, 883, 884, 885, 886, 887, 888, 889, 890, 891, 892, 893, 894, 895, 896, 897, 898, 899, 900, 901, 902, 903, 904, 905, 906, 907, 908, 909, 910, 911, 912, 913, 914, 915, 916, 917, 918, 919, 920, 921, 922, 923, 924, 925, 926, 927, 928, 929, 930, 931, 932, 933, 934, 935, 936, 937, 938, 939, 940, 941, 942, 943, 944, 945, 946, 947, 948, 949, 950, 951, 952, 953, 954, 955, 956, 957, 958, 959, 960, 961, 962, 963, 964, 965, 966, 967, 968, 969, 970, 971, 972, 973, 974, 975, 976, 977, 978, 979, 980, 981, 982, 983, 984, 985, 986, 987, 988, 989, 990, 991, 992, 993, 994, 995, 996, 997, 998, 999, 1000]\n",
      "0\n",
      "1\n",
      "2\n",
      "3\n",
      "4 kez çalıştı\n",
      "4\n",
      "5\n",
      "6\n",
      "7\n",
      "8\n",
      "9\n",
      "10\n",
      "11\n",
      "12\n",
      "13\n",
      "14\n",
      "15\n",
      "16\n",
      "17\n",
      "18\n",
      "19\n",
      "20\n",
      "21\n",
      "22\n",
      "23\n",
      "24\n",
      "25\n",
      "26\n",
      "27\n",
      "28\n",
      "29\n",
      "30\n",
      "31\n",
      "32\n",
      "33\n",
      "34\n",
      "35\n",
      "36\n",
      "37\n",
      "38\n",
      "39\n",
      "40\n",
      "41\n",
      "42\n",
      "43\n",
      "44\n",
      "45\n",
      "46\n",
      "47\n",
      "48\n",
      "49\n",
      "50\n",
      "51\n",
      "52\n",
      "53\n",
      "54\n",
      "55\n",
      "56\n",
      "57\n",
      "58\n",
      "59\n",
      "60\n",
      "61\n",
      "62\n",
      "63\n",
      "64\n",
      "65\n",
      "66\n",
      "67\n",
      "68\n",
      "69\n",
      "70\n",
      "71\n",
      "72\n",
      "73\n",
      "74\n",
      "75\n",
      "76\n",
      "77\n",
      "78\n",
      "79\n",
      "80\n",
      "81\n",
      "82\n",
      "83\n",
      "84\n",
      "85\n",
      "86\n",
      "87\n",
      "88\n",
      "89\n",
      "90\n",
      "91\n",
      "92\n",
      "93\n",
      "94\n",
      "95\n",
      "96\n",
      "97\n",
      "98\n",
      "99\n",
      "100\n",
      "101\n",
      "102\n",
      "103\n",
      "104\n",
      "105\n",
      "106\n",
      "107\n",
      "108\n",
      "109\n",
      "110\n",
      "111\n",
      "112\n",
      "113\n",
      "114\n",
      "115\n",
      "116\n",
      "117\n",
      "118\n",
      "119\n",
      "120\n",
      "121\n",
      "122\n",
      "123\n",
      "124\n",
      "125\n",
      "126\n",
      "127\n",
      "128\n",
      "129\n",
      "130\n",
      "131\n",
      "132\n",
      "133\n",
      "134\n",
      "135\n",
      "136\n",
      "137\n",
      "138\n",
      "139\n",
      "140\n",
      "141\n",
      "142\n",
      "143\n",
      "144\n",
      "145\n",
      "146\n",
      "147\n",
      "148\n",
      "149\n",
      "150\n",
      "151\n",
      "152\n",
      "153\n",
      "154\n",
      "155\n",
      "156\n",
      "157\n",
      "158\n",
      "159\n",
      "160\n",
      "161\n",
      "162\n",
      "163\n",
      "164\n",
      "165\n",
      "166\n",
      "167\n",
      "168\n",
      "169\n",
      "170\n",
      "171\n",
      "172\n",
      "173\n",
      "174\n",
      "175\n",
      "176\n",
      "177\n",
      "178\n",
      "179\n",
      "180\n",
      "181\n",
      "182\n",
      "183\n",
      "184\n",
      "185\n",
      "186\n",
      "187\n",
      "188\n",
      "189\n",
      "190\n",
      "191\n",
      "192\n",
      "193\n",
      "194\n",
      "195\n",
      "196\n",
      "197\n",
      "198\n",
      "199\n",
      "200\n",
      "201\n",
      "202\n",
      "203\n",
      "204\n",
      "205\n",
      "206\n",
      "207\n",
      "208\n",
      "209\n",
      "210\n",
      "211\n",
      "212\n",
      "213\n",
      "214\n",
      "215\n",
      "216\n",
      "217\n",
      "218\n",
      "219\n",
      "220\n",
      "221\n",
      "222\n",
      "223\n",
      "224\n",
      "225\n",
      "226\n",
      "227\n",
      "228\n",
      "229\n",
      "230\n",
      "231\n",
      "232\n",
      "233\n",
      "234\n",
      "235\n",
      "236\n",
      "237\n",
      "238\n",
      "239\n",
      "240\n",
      "241\n",
      "242\n",
      "243\n",
      "244\n",
      "245\n",
      "246\n",
      "247\n",
      "248\n",
      "249\n",
      "250\n",
      "251\n",
      "252\n",
      "253\n",
      "254\n",
      "255\n",
      "256\n",
      "257\n",
      "258\n",
      "259\n",
      "260\n",
      "261\n",
      "262\n",
      "263\n",
      "264\n",
      "265\n",
      "266\n",
      "267\n",
      "268\n",
      "269\n",
      "270\n",
      "271\n",
      "272\n",
      "273\n",
      "274\n",
      "275\n",
      "276\n",
      "277\n",
      "278\n",
      "279\n",
      "280\n",
      "281\n",
      "282\n",
      "283\n",
      "284\n",
      "285\n",
      "286\n",
      "287\n",
      "288\n",
      "289\n",
      "290\n",
      "291\n",
      "292\n",
      "293\n",
      "294\n",
      "295\n",
      "296\n",
      "297\n",
      "298\n",
      "299\n",
      "300\n",
      "301\n",
      "302\n",
      "303\n",
      "304\n",
      "305\n",
      "306\n",
      "307\n",
      "308\n",
      "309\n",
      "310\n",
      "311\n",
      "312\n",
      "313\n",
      "314\n",
      "315\n",
      "316\n",
      "317\n",
      "318\n",
      "319\n",
      "320\n",
      "321\n",
      "322\n",
      "323\n",
      "324\n",
      "325\n",
      "326\n",
      "327\n",
      "328\n",
      "329\n",
      "330\n",
      "331\n",
      "332\n",
      "333\n",
      "334\n",
      "335\n",
      "336\n",
      "337\n",
      "338\n",
      "339\n",
      "340\n",
      "341\n",
      "342\n",
      "343\n",
      "344\n",
      "345\n",
      "346\n",
      "347\n",
      "348\n",
      "349\n",
      "350\n",
      "351\n",
      "352\n",
      "353\n",
      "354\n",
      "355\n",
      "356\n",
      "357\n",
      "358\n",
      "359\n",
      "360\n",
      "361\n",
      "362\n",
      "363\n",
      "364\n",
      "365\n",
      "366\n",
      "367\n",
      "368\n",
      "369\n",
      "370\n",
      "371\n",
      "372\n",
      "373\n",
      "374\n",
      "375\n",
      "376\n",
      "377\n",
      "378\n",
      "379\n",
      "380\n",
      "381\n",
      "382\n",
      "383\n",
      "384\n",
      "385\n",
      "386\n",
      "387\n",
      "388\n",
      "389\n",
      "390\n",
      "391\n",
      "392\n",
      "393\n",
      "394\n",
      "395\n",
      "396\n",
      "397\n",
      "398\n",
      "399\n",
      "400\n",
      "401\n",
      "402\n",
      "403\n",
      "404\n",
      "405\n",
      "406\n",
      "407\n",
      "408\n",
      "409\n",
      "410\n",
      "411\n",
      "412\n",
      "413\n",
      "414\n",
      "415\n",
      "416\n",
      "417\n",
      "418\n",
      "419\n",
      "420\n",
      "421\n",
      "422\n",
      "423\n",
      "424\n",
      "425\n",
      "426\n",
      "427\n",
      "428\n",
      "429\n",
      "430\n",
      "431\n",
      "432\n",
      "433\n",
      "434\n",
      "435\n",
      "436\n",
      "437\n",
      "438\n",
      "439\n",
      "440\n",
      "441\n",
      "442\n",
      "443\n",
      "444\n",
      "445\n",
      "446\n",
      "447\n",
      "448\n",
      "449\n",
      "450\n",
      "451\n",
      "452\n",
      "453\n",
      "454\n",
      "455\n",
      "456\n",
      "457\n",
      "458\n",
      "459\n",
      "460\n",
      "461\n",
      "462\n",
      "463\n",
      "464\n",
      "465\n",
      "466\n",
      "467\n",
      "468\n",
      "469\n",
      "470\n",
      "471\n",
      "472\n",
      "473\n",
      "474\n",
      "475\n",
      "476\n",
      "477\n",
      "478\n",
      "479\n",
      "480\n",
      "481\n",
      "482\n",
      "483\n",
      "484\n",
      "485\n",
      "486\n",
      "487\n",
      "488\n",
      "489\n",
      "490\n",
      "491\n",
      "492\n",
      "493\n",
      "494\n",
      "495\n",
      "496\n",
      "497\n",
      "498\n",
      "499\n",
      "500\n",
      "501\n",
      "502\n",
      "503\n",
      "504\n",
      "505\n",
      "506\n",
      "507\n",
      "508\n",
      "509\n",
      "510\n",
      "511\n",
      "512\n",
      "513\n",
      "514\n",
      "515\n",
      "516\n",
      "517\n",
      "518\n",
      "519\n",
      "520\n",
      "521\n",
      "522\n",
      "523\n",
      "524\n",
      "525\n",
      "526\n",
      "527\n",
      "528\n",
      "529\n",
      "530\n",
      "531\n",
      "532\n",
      "533\n",
      "534\n",
      "535\n",
      "536\n",
      "537\n",
      "538\n",
      "539\n",
      "540\n",
      "541\n",
      "542\n",
      "543\n",
      "544\n",
      "545\n",
      "546\n",
      "547\n",
      "548\n",
      "549\n",
      "550\n",
      "551\n",
      "552\n",
      "553\n",
      "554\n",
      "555\n",
      "556\n",
      "557\n",
      "558\n",
      "559\n",
      "560\n",
      "561\n",
      "562\n",
      "563\n",
      "564\n",
      "565\n",
      "566\n",
      "567\n",
      "568\n",
      "569\n",
      "570\n",
      "571\n",
      "572\n",
      "573\n",
      "574\n",
      "575\n",
      "576\n",
      "577\n",
      "578\n",
      "579\n",
      "580\n",
      "581\n",
      "582\n",
      "583\n",
      "584\n",
      "585\n",
      "586\n",
      "587\n",
      "588\n",
      "589\n",
      "590\n",
      "591\n",
      "592\n",
      "593\n",
      "594\n",
      "595\n",
      "596\n",
      "597\n",
      "598\n",
      "599\n",
      "600\n",
      "601\n",
      "602\n",
      "603\n",
      "604\n",
      "605\n",
      "606\n",
      "607\n",
      "608\n",
      "609\n",
      "610\n",
      "611\n",
      "612\n",
      "613\n",
      "614\n",
      "615\n",
      "616\n",
      "617\n",
      "618\n",
      "619\n",
      "620\n",
      "621\n",
      "622\n",
      "623\n",
      "624\n",
      "625\n",
      "626\n",
      "627\n",
      "628\n",
      "629\n",
      "630\n",
      "631\n",
      "632\n",
      "633\n",
      "634\n",
      "635\n",
      "636\n",
      "637\n",
      "638\n",
      "639\n",
      "640\n",
      "641\n",
      "642\n",
      "643\n",
      "644\n",
      "645\n",
      "646\n",
      "647\n",
      "648\n",
      "649\n",
      "650\n",
      "651\n",
      "652\n",
      "653\n",
      "654\n",
      "655\n",
      "656\n",
      "657\n",
      "658\n",
      "659\n",
      "660\n",
      "661\n",
      "662\n",
      "663\n",
      "664\n",
      "665\n",
      "666\n",
      "667\n",
      "668\n",
      "669\n",
      "670\n",
      "671\n",
      "672\n",
      "673\n",
      "674\n",
      "675\n",
      "676\n",
      "677\n",
      "678\n",
      "679\n",
      "680\n",
      "681\n",
      "682\n",
      "683\n",
      "684\n",
      "685\n",
      "686\n",
      "687\n",
      "688\n",
      "689\n",
      "690\n",
      "691\n",
      "692\n",
      "693\n",
      "694\n",
      "695\n",
      "696\n",
      "697\n",
      "698\n",
      "699\n",
      "700\n",
      "701\n",
      "702\n",
      "703\n",
      "704\n",
      "705\n",
      "706\n",
      "707\n",
      "708\n",
      "709\n",
      "710\n",
      "711\n",
      "712\n",
      "713\n",
      "714\n",
      "715\n",
      "716\n",
      "717\n",
      "718\n",
      "719\n",
      "720\n",
      "721\n",
      "722\n",
      "723\n",
      "724\n",
      "725\n",
      "726\n",
      "727\n",
      "728\n",
      "729\n",
      "730\n",
      "731\n",
      "732\n",
      "733\n",
      "734\n",
      "735\n",
      "736\n",
      "737\n",
      "738\n",
      "739\n",
      "740\n",
      "741\n",
      "742\n",
      "743\n",
      "744\n",
      "745\n",
      "746\n",
      "747\n",
      "748\n",
      "749\n",
      "750\n",
      "751\n",
      "752\n",
      "753\n",
      "754\n",
      "755\n",
      "756\n",
      "757\n",
      "758\n",
      "759\n",
      "760\n",
      "761\n",
      "762\n",
      "763\n",
      "764\n",
      "765\n",
      "766\n",
      "767\n",
      "768\n",
      "769\n",
      "770\n",
      "771\n",
      "772\n",
      "773\n",
      "774\n",
      "775\n",
      "776\n",
      "777\n",
      "778\n",
      "779\n",
      "780\n",
      "781\n",
      "782\n",
      "783\n",
      "784\n",
      "785\n",
      "786\n",
      "787\n",
      "788\n",
      "789\n",
      "790\n",
      "791\n",
      "792\n",
      "793\n",
      "794\n",
      "795\n",
      "796\n",
      "797\n",
      "798\n",
      "799\n",
      "800\n",
      "801\n",
      "802\n",
      "803\n",
      "804\n",
      "805\n",
      "806\n",
      "807\n",
      "808\n",
      "809\n",
      "810\n",
      "811\n",
      "812\n",
      "813\n",
      "814\n",
      "815\n",
      "816\n",
      "817\n",
      "818\n",
      "819\n",
      "820\n",
      "821\n",
      "822\n",
      "823\n",
      "824\n",
      "825\n",
      "826\n",
      "827\n",
      "828\n",
      "829\n",
      "830\n",
      "831\n",
      "832\n",
      "833\n",
      "834\n",
      "835\n",
      "836\n",
      "837\n",
      "838\n",
      "839\n",
      "840\n",
      "841\n",
      "842\n",
      "843\n",
      "844\n",
      "845\n",
      "846\n",
      "847\n",
      "848\n",
      "849\n",
      "850\n",
      "851\n",
      "852\n",
      "853\n",
      "854\n",
      "855\n",
      "856\n",
      "857\n",
      "858\n",
      "859\n",
      "860\n",
      "861\n",
      "862\n",
      "863\n",
      "864\n",
      "865\n",
      "866\n",
      "867\n",
      "868\n",
      "869\n",
      "870\n",
      "871\n",
      "872\n",
      "873\n",
      "874\n",
      "875\n",
      "876\n",
      "877\n",
      "878\n",
      "879\n",
      "880\n",
      "881\n",
      "882\n",
      "883\n",
      "884\n",
      "885\n",
      "886\n",
      "887\n",
      "888\n",
      "889\n",
      "890\n",
      "891\n",
      "892\n",
      "893\n",
      "894\n",
      "895\n",
      "896\n",
      "897\n",
      "898\n",
      "899\n",
      "900\n",
      "901\n",
      "902\n",
      "903\n",
      "904\n",
      "905\n",
      "906\n",
      "907\n",
      "908\n",
      "909\n",
      "910\n",
      "911\n",
      "912\n",
      "913\n",
      "914\n",
      "915\n",
      "916\n",
      "917\n",
      "918\n",
      "919\n",
      "920\n",
      "921\n",
      "922\n",
      "923\n",
      "924\n",
      "925\n",
      "926\n",
      "927\n",
      "928\n",
      "929\n",
      "930\n",
      "931\n",
      "932\n",
      "933\n",
      "934\n",
      "935\n",
      "936\n",
      "937\n",
      "938\n",
      "939\n",
      "940\n",
      "941\n",
      "942\n",
      "943\n",
      "944\n",
      "945\n",
      "946\n",
      "947\n",
      "948\n",
      "949\n",
      "950\n",
      "951\n",
      "952\n",
      "953\n",
      "954\n",
      "955\n",
      "956\n",
      "957\n",
      "958\n",
      "959\n",
      "960\n",
      "961\n",
      "962\n",
      "963\n",
      "964\n",
      "965\n",
      "966\n",
      "967\n",
      "968\n",
      "969\n",
      "970\n",
      "971\n",
      "972\n",
      "973\n",
      "974\n",
      "975\n",
      "976\n",
      "977\n",
      "978\n",
      "979\n",
      "980\n",
      "981\n",
      "982\n",
      "983\n",
      "984\n",
      "985\n",
      "986\n",
      "987\n",
      "988\n",
      "989\n",
      "990\n",
      "991\n",
      "992\n",
      "993\n",
      "994\n",
      "995\n",
      "996\n",
      "997\n",
      "998\n",
      "999\n",
      "1000\n"
     ]
    }
   ],
   "execution_count": 75
  },
  {
   "metadata": {
    "ExecuteTime": {
     "end_time": "2025-07-28T10:33:32.382068Z",
     "start_time": "2025-07-28T10:33:32.379119Z"
    }
   },
   "cell_type": "code",
   "source": [
    "#Ornek Generator\n",
    "def katiniUret(sayilar, kati):\n",
    "    for sayi in sayilar:\n",
    "        yield sayi * kati\n",
    "\n",
    "sayilar = [7, 15, 21, 14]\n",
    "\n",
    "sayilarin3Kati = katiniUret(sayilar, 3)\n",
    "\n",
    "print(list(sayilarin3Kati))\n",
    "\n",
    "sayilarin3Kati2 = [sayi * 3 for sayi in sayilar] #Burada fonksiyonu kullanmadan anında kullanabiliriz\n",
    "print(list(sayilarin3Kati2))\n",
    "\n",
    "sayilarinKaresi = [sayi * 2 for sayi in sayilar] #Daha hızlı daha kısa ve daha belleği yormayan\n",
    "print(list(sayilarinKaresi))"
   ],
   "id": "91b270fdc8179823",
   "outputs": [
    {
     "name": "stdout",
     "output_type": "stream",
     "text": [
      "[21, 45, 63, 42]\n",
      "[21, 45, 63, 42]\n",
      "[14, 30, 42, 28]\n"
     ]
    }
   ],
   "execution_count": 80
  },
  {
   "metadata": {},
   "cell_type": "markdown",
   "source": [
    "Errors - Hatalar\n",
    "\n",
    "    Exception - Olağandışılık İstisna\n",
    "    Handling - İşleme İdare etme\n",
    "\n",
    "1- Compile time erros(Derleme zamanı hataları)\n",
    "\n",
    "    Syntactical Errors(Dil bilgisi hataları)\n",
    "        : işaretini for ve if'in sonunda unutma gibi\n",
    "\n",
    "2- Logical errors(Mantıksal hatalar)\n",
    "\n",
    "    Wrong input(yanlış çıktı)\n",
    "        fonksiyonu 5, 6 sayılarını gönderdin ama 11 çıkmadı 10 çıktı gibi\n",
    "\n",
    "3- Run time errors(Çalışma zamanında hatalar)\n",
    "\n",
    "    Divide by zero(sıfıra bölme)\n",
    "        bir sayıyı 0'a bölünce çıkan hata\n",
    "\n",
    "4- Statement\n",
    "\n",
    "    Normal Warning - Uyarı\n",
    "    Critical Error - Hata"
   ],
   "id": "d185293b1548be9b"
  },
  {
   "metadata": {
    "ExecuteTime": {
     "end_time": "2025-07-28T10:42:41.710772Z",
     "start_time": "2025-07-28T10:42:38.863942Z"
    }
   },
   "cell_type": "code",
   "source": [
    "#ValueError\n",
    "#ZeroDivisonError\n",
    "#Bunları nasıl idare ederiz? Örneği\n",
    "try:\n",
    "    #raise ValueError gönderiyoruz\n",
    "    sayi1 = int(input(\"Lütfen bir tam sayı giriniz: \"))  # ValueError olabilir\n",
    "    sayi2 = int(input(\"Lütfen ikinci tam sayıyı giriniz: \"))  # ValueError olabilir\n",
    "\n",
    "    #raise ZeroDivisonError gönderiyoruz\n",
    "    sonuc = sayi1 / sayi2  # ZeroDivisionError olabilir\n",
    "    print(f\"{sayi1} / {sayi2} = {round(sonuc, 4)}\")\n",
    "\n",
    "except ValueError: #Burada yakalarsak altındakini çıktı veririz\n",
    "    print(\"HATA: Lütfen geçerli bir TAM SAYI giriniz!\")\n",
    "\n",
    "except ZeroDivisionError: #Burada da aynı şekilde\n",
    "    print(\"HATA: Bir sayı 0'a bölünemez! Lütfen ikinci sayıyı 0 dışında giriniz.\")"
   ],
   "id": "edb94649f0d9c21f",
   "outputs": [
    {
     "name": "stdout",
     "output_type": "stream",
     "text": [
      "HATA: Lütfen geçerli bir TAM SAYI giriniz!\n"
     ]
    }
   ],
   "execution_count": 82
  },
  {
   "metadata": {
    "ExecuteTime": {
     "end_time": "2025-07-28T10:44:37.161414Z",
     "start_time": "2025-07-28T10:44:35.358514Z"
    }
   },
   "cell_type": "code",
   "source": [
    "#Finally ve exception\n",
    "sayi1 = 9\n",
    "sayi2 = 0\n",
    "\n",
    "try:\n",
    "    sayi2 = int(input(\"Sayı gir:\"))\n",
    "    sonuc = sayi1 / sayi2\n",
    "    print(sonuc)\n",
    "except Exception as e: #Her türlü hatayı burada yakalayabiliriz EXCEPTION ile istersek kısaltabiliriz as e yaparak\n",
    "    print(\"Karşılaşılan hata\", e)"
   ],
   "id": "65e4f1626a0374fe",
   "outputs": [
    {
     "name": "stdout",
     "output_type": "stream",
     "text": [
      "Karşılaşılan hata invalid literal for int() with base 10: 'a'\n"
     ]
    }
   ],
   "execution_count": 87
  },
  {
   "metadata": {
    "ExecuteTime": {
     "end_time": "2025-07-28T10:46:18.052137Z",
     "start_time": "2025-07-28T10:46:18.048579Z"
    }
   },
   "cell_type": "code",
   "source": [
    "sayi1 = 10\n",
    "sayi2 = 0\n",
    "\n",
    "try:\n",
    "    print(\"Dosya açıldı!\")\n",
    "    print(sayi1/sayi2)\n",
    "except Exception as e:\n",
    "    print(\"Hata\", e)\n",
    "finally: #Dosya açık kaldı bunu burada kapatabilirim yani programı daha stabil hale getirmedir, her türlü çalışır hata aldıktan sonra\n",
    "    print(\"Dosya kapandı!\")"
   ],
   "id": "7e5d09d9aadc9eca",
   "outputs": [
    {
     "name": "stdout",
     "output_type": "stream",
     "text": [
      "Dosya açıldı!\n",
      "Hata division by zero\n",
      "Dosya kapandı!\n"
     ]
    }
   ],
   "execution_count": 88
  },
  {
   "metadata": {
    "ExecuteTime": {
     "end_time": "2025-07-28T10:48:27.343162Z",
     "start_time": "2025-07-28T10:48:27.340088Z"
    }
   },
   "cell_type": "code",
   "source": [
    "#Kendi hatalarımız fırlatma\n",
    "def fact(n):\n",
    "    if n < 0 or type(n) != int:\n",
    "        raise ValueError(\"Sayı doğal olmalıdır\") #Burada hata fırlatıyorum, kendimiz istediğimiz gibi ama mantıklı olanı seçersek\n",
    "    if n == 0:\n",
    "        return 1\n",
    "    return n* fact(n-1)\n",
    "try:\n",
    "    print(fact(5))\n",
    "    print(fact(-6)) #Burada ValueError : Sayı doğal olmalıdır fırlatır bize\n",
    "except Exception as e:\n",
    "    print(\"Hata\", e)\n"
   ],
   "id": "9bd55e95dd0fc690",
   "outputs": [
    {
     "name": "stdout",
     "output_type": "stream",
     "text": [
      "120\n",
      "Hata Sayı doğal olmalıdır\n"
     ]
    }
   ],
   "execution_count": 91
  },
  {
   "metadata": {},
   "cell_type": "code",
   "outputs": [],
   "execution_count": null,
   "source": "",
   "id": "1503b3da273b7d3a"
  }
 ],
 "metadata": {
  "kernelspec": {
   "display_name": "Python 3",
   "language": "python",
   "name": "python3"
  },
  "language_info": {
   "codemirror_mode": {
    "name": "ipython",
    "version": 2
   },
   "file_extension": ".py",
   "mimetype": "text/x-python",
   "name": "python",
   "nbconvert_exporter": "python",
   "pygments_lexer": "ipython2",
   "version": "2.7.6"
  }
 },
 "nbformat": 4,
 "nbformat_minor": 5
}
