{
 "cells": [
  {
   "metadata": {},
   "cell_type": "markdown",
   "source": [
    "Nesne Yönelik Programlama yani Object Oriented Programming =\n",
    "\n",
    "*Her şey bir objedir, hayatta görünen her şey bir objedir.\n",
    "\n",
    "*Her objenin Attribute'leri vardır(Attribute, property, özellikler)(isim, yas, göz rengi,vb.\n",
    "\n",
    "*Her objenin Behaviour'ları vardır.(Methods)(Yürüme, konuşma, vb.)\n",
    "\n",
    "Functional Programming = Fonksiyonları programlama, fonksiyonları birbiri arasında kullanma\n",
    "\n",
    "Procedure Oriented Programming = Prosedür oluşturursun, bu prosedürler nesneye bağlı olarak değişebilir (C)"
   ],
   "id": "acf1bda612d7b09c"
  },
  {
   "metadata": {},
   "cell_type": "markdown",
   "source": [
    "Class - Design (blueprint) (taslak) = obje oluşturmak için\n",
    "\n",
    "Object - Instance (örnek) = taslaklardan oluşturulan şeyler"
   ],
   "id": "5b22284310dd9ec0"
  },
  {
   "metadata": {},
   "cell_type": "markdown",
   "source": [
    "inheritence - Kalıtım = Atadan bazı özellikleri alabilmesi ve kullanabilmesi bildiğimiz kalıtım gibi\n",
    "\n",
    "encapsulation - kapsülleme\n",
    "\n",
    "abstraction - soyutlama\n",
    "\n",
    "polymotphism - çok çeşitlilik = aynı davranışa sahip ama çok çeşitli şekilde gerçekleşir gibi düşün"
   ],
   "id": "ed8dd1f6aa513862"
  },
  {
   "metadata": {},
   "cell_type": "markdown",
   "source": [
    "Televizyon\n",
    "\n",
    "Özellikleri\n",
    "\n",
    "    Üretim Yeri\n",
    "    Marka\n",
    "    Model\n",
    "    Ekran Boyutu\n",
    "    Şekil\n",
    "    Görüntü Kalitesi\n",
    "    Diğer özellikleri\n",
    "\n",
    "Metotları\n",
    "\n",
    "    Aç/kapa\n",
    "    Kanal görüntüleme"
   ],
   "id": "68f94457221464a1"
  },
  {
   "metadata": {},
   "cell_type": "markdown",
   "source": "Halihazırda Olan Sınıflar Default Classlar",
   "id": "9e73577f55b041c3"
  },
  {
   "cell_type": "code",
   "id": "initial_id",
   "metadata": {
    "collapsed": true,
    "ExecuteTime": {
     "end_time": "2025-07-26T15:33:46.873812Z",
     "start_time": "2025-07-26T15:33:46.868942Z"
    }
   },
   "source": [
    "a = 5\n",
    "\n",
    "print(type(a))\n",
    "\n",
    "b = 5.5\n",
    "\n",
    "print(type(b))\n",
    "\n",
    "c = float(34.4)\n",
    "\n",
    "print(type(c))\n",
    "\n",
    "d = (\"naber\")\n",
    "\n",
    "print(type(d))\n",
    "d.capitalize() #stringin fonksiyonu capitalize yani baş harfini büyüten\n",
    "print(d.capitalize())\n",
    "print(d)\n",
    "d = d.capitalize()\n",
    "print(d)"
   ],
   "outputs": [
    {
     "name": "stdout",
     "output_type": "stream",
     "text": [
      "<class 'int'>\n",
      "<class 'float'>\n",
      "<class 'float'>\n",
      "<class 'str'>\n",
      "Naber\n",
      "naber\n",
      "Naber\n"
     ]
    }
   ],
   "execution_count": 9
  },
  {
   "metadata": {
    "ExecuteTime": {
     "end_time": "2025-07-26T15:34:21.160400Z",
     "start_time": "2025-07-26T15:34:21.156494Z"
    }
   },
   "cell_type": "code",
   "source": [
    "liste = [4, 3, 7]\n",
    "print(liste)\n",
    "liste.sort() #Burada doğrudan uygulattırır\n",
    "print(liste)\n",
    "liste.sort(reverse=True) #İçerisine yazarsak bize böyle gösterir\n",
    "print(liste)"
   ],
   "id": "2e4c9556a560e39e",
   "outputs": [
    {
     "name": "stdout",
     "output_type": "stream",
     "text": [
      "[4, 3, 7]\n",
      "[3, 4, 7]\n",
      "[7, 4, 3]\n"
     ]
    }
   ],
   "execution_count": 11
  },
  {
   "metadata": {
    "ExecuteTime": {
     "end_time": "2025-07-26T15:36:03.888684Z",
     "start_time": "2025-07-26T15:36:03.883542Z"
    }
   },
   "cell_type": "code",
   "source": [
    "print(type((4, 5, 6)))\n",
    "print(type({2,3}))\n",
    "print(type(None))\n",
    "print(type(True))\n",
    "print(type({1:\"Python\"}))"
   ],
   "id": "d0fc6100e04d9172",
   "outputs": [
    {
     "name": "stdout",
     "output_type": "stream",
     "text": [
      "<class 'tuple'>\n",
      "<class 'set'>\n",
      "<class 'NoneType'>\n",
      "<class 'bool'>\n",
      "<class 'dict'>\n"
     ]
    }
   ],
   "execution_count": 14
  },
  {
   "metadata": {},
   "cell_type": "markdown",
   "source": "Kendi sınıfımızı oluşturma",
   "id": "ca6e64f397038f5e"
  },
  {
   "metadata": {
    "ExecuteTime": {
     "end_time": "2025-07-26T15:42:29.962983Z",
     "start_time": "2025-07-26T15:42:29.959711Z"
    }
   },
   "cell_type": "code",
   "source": [
    "class Insan:\n",
    "    #Attributes - Özellikleri => Variable - Değişkenleri\n",
    "    #Behaviours - Davranışlar => Methods - Metotlar\n",
    "\n",
    "    #ad, soyad, yas, meslek özellikler\n",
    "    #constructor- yapıcı metot ve özel metot\n",
    "    def __init__(self):\n",
    "        pass\n",
    "#i1 objesi Insan sınıfının bir instance'ı\n",
    "i1 = Insan() #Biz callable bir constructor çağırıyoruz ve özellik verebiliriz Instantiate yani oluşturma\n",
    "i1.ad = \"Melih\"\n",
    "i1.soyad = \"Kotman\"\n",
    "i1.yas = 30\n",
    "i1.meslek = \"Bilgisayar Mühendisi\"\n",
    "\n",
    "i2 = Insan()\n",
    "i2.ad = \"Yiğit\"\n",
    "i2.soyad = \"Ram\"\n",
    "i2.yas = 21\n",
    "i2.meslek = \"Öğrenci\"\n",
    "\n",
    "print(i1.ad,i1.soyad,i1.yas,i1.meslek)\n",
    "print(i2.ad,i2.soyad,i2.yas,i2.meslek)"
   ],
   "id": "5beebbf6bdb33f9f",
   "outputs": [
    {
     "name": "stdout",
     "output_type": "stream",
     "text": [
      "Melih Kotman 30 Bilgisayar Mühendisi\n",
      "Yiğit Ram 21 Öğrenci\n"
     ]
    }
   ],
   "execution_count": 16
  },
  {
   "metadata": {
    "ExecuteTime": {
     "end_time": "2025-07-26T15:46:52.916262Z",
     "start_time": "2025-07-26T15:46:52.912686Z"
    }
   },
   "cell_type": "code",
   "source": [
    "class Insan:\n",
    "    def __init__(self,ad,soyad,yas,meslek):\n",
    "        self.ad = ad\n",
    "        self.soyad = soyad\n",
    "        self.yas = yas\n",
    "        self.meslek = meslek\n",
    "    def bilgiSoyle(self):\n",
    "        print(\"İnsanın bilgileri\")\n",
    "        print(\"Adı ve Soyadı : {} {}\".format(self.ad,self.soyad,))\n",
    "        print(\"Yaşı : {}\".format(self.yas))\n",
    "        print(\"Mesleği : {}\".format(self.meslek))\n",
    "\n",
    "i1 = Insan(\"Melih\", \"Kotman\", 30, \"Bilgisayar Mühendisi\")\n",
    "\n",
    "i2 = Insan(\"Yiğit\", \"Ram\", 20, \"Öğrenci\")\n",
    "\n",
    "i1.bilgiSoyle()\n",
    "i2.bilgiSoyle()\n",
    "Insan.bilgiSoyle(i1) #selfin anlamı nesneyi kullanabilme ama python yukarı yaptığımız gibi anlıyor argümanı i1 olduğunu anlıyor\n",
    "Insan.bilgiSoyle(i2) #Mutlaka sınıf üzerinden çağırınca argüman vermem gerek"
   ],
   "id": "bc5ee729afb21103",
   "outputs": [
    {
     "name": "stdout",
     "output_type": "stream",
     "text": [
      "İnsanın bilgileri\n",
      "Adı ve Soyadı : Melih Kotman\n",
      "Yaşı : 30\n",
      "Mesleği : Bilgisayar Mühendisi\n",
      "İnsanın bilgileri\n",
      "Adı ve Soyadı : Yiğit Ram\n",
      "Yaşı : 20\n",
      "Mesleği : Öğrenci\n",
      "İnsanın bilgileri\n",
      "Adı ve Soyadı : Melih Kotman\n",
      "Yaşı : 30\n",
      "Mesleği : Bilgisayar Mühendisi\n",
      "İnsanın bilgileri\n",
      "Adı ve Soyadı : Yiğit Ram\n",
      "Yaşı : 20\n",
      "Mesleği : Öğrenci\n"
     ]
    }
   ],
   "execution_count": 18
  },
  {
   "metadata": {
    "ExecuteTime": {
     "end_time": "2025-07-26T15:52:28.418955Z",
     "start_time": "2025-07-26T15:52:28.414650Z"
    }
   },
   "cell_type": "code",
   "source": [
    "#Ornek Sınıf Oluşturma\n",
    "class Araba:\n",
    "    def __init__(self, marka, model, yil, bakim = True):\n",
    "        self.marka = marka\n",
    "        self.model = model\n",
    "        self.yil = yil\n",
    "        self.bakim = bakim\n",
    "    def ozellikleriGoster(self):\n",
    "        print(self.marka, self.model, self.yil, end = \" \")\n",
    "        self.bakimDurumunuGoster()\n",
    "\n",
    "    def bakimDurumunuGoster(self):\n",
    "        if self.bakim:\n",
    "            print(\"Bakımlı\")\n",
    "        else:\n",
    "            print(\"Bakımsız\")\n",
    "\n",
    "\n",
    "a1 = Araba(\"BMW\", \"5.20\", 2022)\n",
    "a2 = Araba(\"Ferrari\", \"P80/C\", 2015, False)\n",
    "\n",
    "a1.ozellikleriGoster()\n",
    "a2.ozellikleriGoster()\n",
    "\n",
    "a3 = Araba(yil = \"2017\", bakim = False, marka = \"Toyota\", model = \"Corolla\")\n",
    "a3.ozellikleriGoster()"
   ],
   "id": "38413655676ff0f6",
   "outputs": [
    {
     "name": "stdout",
     "output_type": "stream",
     "text": [
      "BMW 5.20 2022 Bakımlı\n",
      "Ferrari P80/C 2015 Bakımsız\n",
      "Toyota Corolla 2017 Bakımsız\n"
     ]
    }
   ],
   "execution_count": 25
  },
  {
   "metadata": {},
   "cell_type": "markdown",
   "source": [
    "Variable Çeşitleri\n",
    "\n",
    "    Instance Variable\n",
    "    Class/Static Variable"
   ],
   "id": "ff1f1e477ac237f0"
  },
  {
   "metadata": {
    "ExecuteTime": {
     "end_time": "2025-07-26T16:06:47.780677Z",
     "start_time": "2025-07-26T16:06:47.775551Z"
    }
   },
   "cell_type": "code",
   "source": [
    "class User:\n",
    "    #Class namespace\n",
    "    sayac = 0\n",
    "    def __init__(self, isim = \"Admin\", kayitTarihi = \"20.07.2025\"):\n",
    "        #Instance/Object namespace\n",
    "        User.sayac += 1\n",
    "        self.isim = isim\n",
    "        self.kayitTarihi = kayitTarihi\n",
    "\n",
    "print(User.sayac) #0\n",
    "user1 = User(\"Mehmet Baki\",\"01.07.2020\")\n",
    "print(user1.sayac) #1\n",
    "print(User.sayac) #1\n",
    "\n",
    "user2 = User(\"Memo Toma\",\"06.09.2012\")\n",
    "print(user2.sayac) #2\n",
    "print(User.sayac) #2\n",
    "\n",
    "del user2\n",
    "User.sayac -= 1\n",
    "print(\"Kullanıcı silindi\")\n",
    "#print(user2.sayac) is not defined\n",
    "print(User.sayac)"
   ],
   "id": "1c66fef98a7ed8b6",
   "outputs": [
    {
     "name": "stdout",
     "output_type": "stream",
     "text": [
      "0\n",
      "1\n",
      "1\n",
      "2\n",
      "2\n",
      "Kullanıcı silindi\n",
      "1\n"
     ]
    }
   ],
   "execution_count": 33
  },
  {
   "metadata": {},
   "cell_type": "markdown",
   "source": [
    "Metot Çeşitleri\n",
    "\n",
    "    Instance/Obje Methods\n",
    "    Class Methods\n",
    "    Static Methods"
   ],
   "id": "24db6fe468806471"
  },
  {
   "metadata": {
    "ExecuteTime": {
     "end_time": "2025-07-26T16:16:05.030372Z",
     "start_time": "2025-07-26T16:16:05.024544Z"
    }
   },
   "cell_type": "code",
   "source": [
    "class Calisan:\n",
    "    sirket = \"Turkcell\"\n",
    "\n",
    "    def __init__(self, isim, soyad, sabitMaas, prim):\n",
    "        self.isim = isim\n",
    "        self.soyad = soyad\n",
    "        self.sabitMaas = sabitMaas\n",
    "        self.prim = prim\n",
    "\n",
    "    #Obje Method\n",
    "    def toplamMaas(self):\n",
    "        return self.sabitMaas + self.prim\n",
    "\n",
    "   #Sınıf Method\n",
    "    @classmethod #Artık class metodu\n",
    "    def sirketIsmiSoyle(cls): #Burada class olduğunu anlatmak için cls yazdırıyoruz\n",
    "        return cls.sirket\n",
    "\n",
    "    @staticmethod\n",
    "    def bilgi(info = None): #Eğer staticmethod yapmazsan self zanneder ondan dolayı koy\n",
    "        if info != None:\n",
    "            print(info)\n",
    "        else:\n",
    "            print(\"Yazdırılacak bilgi bulunamadı\")\n",
    "\n",
    "c1 = Calisan(\"Melih\", \"Kotman\", 55000, 17500)\n",
    "\n",
    "\n",
    "c2 = Calisan(\"Fahri\", \"Büyük\", 12350, 2300)\n",
    "\n",
    "print(Calisan.toplamMaas(c1))\n",
    "print(Calisan.toplamMaas(c2))\n",
    "\n",
    "print(Calisan.sirketIsmiSoyle())\n",
    "c1.sirketIsmiSoyle() #Otomatik olarak Calisan'ı gönderiyor içinde Calisan argümanı var düşün\n",
    "c2.sirketIsmiSoyle()\n",
    "\n",
    "Calisan.bilgi(\"Doğrudan bilgiyi yaz!\")\n",
    "Calisan.bilgi()"
   ],
   "id": "fa3588ae195c1580",
   "outputs": [
    {
     "name": "stdout",
     "output_type": "stream",
     "text": [
      "72500\n",
      "14650\n",
      "Turkcell\n",
      "Doğrudan bilgiyi yaz!\n",
      "Yazdırılacak bilgi bulunamadı\n"
     ]
    }
   ],
   "execution_count": 41
  },
  {
   "metadata": {},
   "cell_type": "markdown",
   "source": "Inner Sınıflar",
   "id": "f6c552c1d3f0eb61"
  },
  {
   "metadata": {
    "ExecuteTime": {
     "end_time": "2025-07-26T16:34:39.258854Z",
     "start_time": "2025-07-26T16:34:39.255692Z"
    }
   },
   "cell_type": "code",
   "source": [
    "#Outer Class\n",
    "class Musteri:\n",
    "    def __init__(self, musteriNo, isim, soyad, bakiye, hesapTutar):\n",
    "        self.musteriNo = musteriNo\n",
    "        self.isim = isim\n",
    "        self.soyad = soyad\n",
    "        #self.bakiye = bakiye\n",
    "        #self.hesapTutar = hesapTutar\n",
    "        self.hesap = self.Hesap(bakiye, hesapTutar)\n",
    "\n",
    "    def bilgileriGoster(self):\n",
    "        print(self.musteriNo, self.isim, self.soyad)\n",
    "        self.hesap.bilgileriGoster()\n",
    "    #Inner Class\n",
    "    class Hesap:\n",
    "        def __init__(self, bakiye ,hesapTutar):\n",
    "            self.bakiye = bakiye\n",
    "            self.hesapTutar = hesapTutar\n",
    "        def bilgileriGoster(self):\n",
    "            print(self.bakiye, self.hesapTutar)\n",
    "\n",
    "m1 = Musteri(1, \"Selim\", \"Kapı\", 5000, \"TL\")\n",
    "m2 = Musteri(2, \"Emel\", \"Toprak\", 4500, \"$\")\n",
    "\n",
    "m1.bilgileriGoster()\n",
    "m2.bilgileriGoster()\n",
    "\n",
    "hesap = Musteri.Hesap(6000, \"€\") #İsimsiz açabilirim hesap sadece hesaptan açabilirim\n",
    "hesap.bilgileriGoster()\n",
    "\n",
    "m1.hesap = hesap  #Bu isimsiz hesabı selimin hesabına eşleyince 6000 € selimin oluyor\n",
    "m1.bilgileriGoster()"
   ],
   "id": "b99db7989d69667f",
   "outputs": [
    {
     "name": "stdout",
     "output_type": "stream",
     "text": [
      "1 Selim Kapı\n",
      "5000 TL\n",
      "2 Emel Toprak\n",
      "4500 $\n",
      "6000 €\n",
      "1 Selim Kapı\n",
      "6000 €\n"
     ]
    }
   ],
   "execution_count": 46
  },
  {
   "metadata": {},
   "cell_type": "code",
   "outputs": [],
   "execution_count": null,
   "source": "",
   "id": "e177191b2adaa492"
  }
 ],
 "metadata": {
  "kernelspec": {
   "display_name": "Python 3",
   "language": "python",
   "name": "python3"
  },
  "language_info": {
   "codemirror_mode": {
    "name": "ipython",
    "version": 2
   },
   "file_extension": ".py",
   "mimetype": "text/x-python",
   "name": "python",
   "nbconvert_exporter": "python",
   "pygments_lexer": "ipython2",
   "version": "2.7.6"
  }
 },
 "nbformat": 4,
 "nbformat_minor": 5
}
