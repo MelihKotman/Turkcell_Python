{
 "cells": [
  {
   "metadata": {},
   "cell_type": "markdown",
   "source": [
    "Nesne Yönelik Programlama yani Object Oriented Programming =\n",
    "\n",
    "*Her şey bir objedir, hayatta görünen her şey bir objedir.\n",
    "\n",
    "*Her objenin Attribute'leri vardır(Attribute, property, özellikler)(isim, yas, göz rengi,vb.\n",
    "\n",
    "*Her objenin Behaviour'ları vardır.(Methods)(Yürüme, konuşma, vb.)\n",
    "\n",
    "Functional Programming = Fonksiyonları programlama, fonksiyonları birbiri arasında kullanma\n",
    "\n",
    "Procedure Oriented Programming = Prosedür oluşturursun, bu prosedürler nesneye bağlı olarak değişebilir (C)"
   ],
   "id": "acf1bda612d7b09c"
  },
  {
   "metadata": {},
   "cell_type": "markdown",
   "source": [
    "Class - Design (blueprint) (taslak) = obje oluşturmak için\n",
    "\n",
    "Object - Instance (örnek) = taslaklardan oluşturulan şeyler"
   ],
   "id": "5b22284310dd9ec0"
  },
  {
   "metadata": {},
   "cell_type": "markdown",
   "source": [
    "inheritence - Kalıtım = Atadan bazı özellikleri alabilmesi ve kullanabilmesi bildiğimiz kalıtım gibi\n",
    "\n",
    "encapsulation - kapsülleme\n",
    "\n",
    "abstraction - soyutlama\n",
    "\n",
    "polymotphism - çok çeşitlilik = aynı davranışa sahip ama çok çeşitli şekilde gerçekleşir gibi düşün"
   ],
   "id": "ed8dd1f6aa513862"
  },
  {
   "metadata": {},
   "cell_type": "markdown",
   "source": [
    "Televizyon\n",
    "\n",
    "Özellikleri\n",
    "\n",
    "    Üretim Yeri\n",
    "    Marka\n",
    "    Model\n",
    "    Ekran Boyutu\n",
    "    Şekil\n",
    "    Görüntü Kalitesi\n",
    "    Diğer özellikleri\n",
    "\n",
    "Metotları\n",
    "\n",
    "    Aç/kapa\n",
    "    Kanal görüntüleme"
   ],
   "id": "68f94457221464a1"
  },
  {
   "metadata": {},
   "cell_type": "markdown",
   "source": "Halihazırda Olan Sınıflar Default Classlar",
   "id": "9e73577f55b041c3"
  },
  {
   "cell_type": "code",
   "id": "initial_id",
   "metadata": {
    "collapsed": true,
    "ExecuteTime": {
     "end_time": "2025-07-26T15:33:46.873812Z",
     "start_time": "2025-07-26T15:33:46.868942Z"
    }
   },
   "source": [
    "a = 5\n",
    "\n",
    "print(type(a))\n",
    "\n",
    "b = 5.5\n",
    "\n",
    "print(type(b))\n",
    "\n",
    "c = float(34.4)\n",
    "\n",
    "print(type(c))\n",
    "\n",
    "d = (\"naber\")\n",
    "\n",
    "print(type(d))\n",
    "d.capitalize() #stringin fonksiyonu capitalize yani baş harfini büyüten\n",
    "print(d.capitalize())\n",
    "print(d)\n",
    "d = d.capitalize()\n",
    "print(d)"
   ],
   "outputs": [
    {
     "name": "stdout",
     "output_type": "stream",
     "text": [
      "<class 'int'>\n",
      "<class 'float'>\n",
      "<class 'float'>\n",
      "<class 'str'>\n",
      "Naber\n",
      "naber\n",
      "Naber\n"
     ]
    }
   ],
   "execution_count": 9
  },
  {
   "metadata": {
    "ExecuteTime": {
     "end_time": "2025-07-26T15:34:21.160400Z",
     "start_time": "2025-07-26T15:34:21.156494Z"
    }
   },
   "cell_type": "code",
   "source": [
    "liste = [4, 3, 7]\n",
    "print(liste)\n",
    "liste.sort() #Burada doğrudan uygulattırır\n",
    "print(liste)\n",
    "liste.sort(reverse=True) #İçerisine yazarsak bize böyle gösterir\n",
    "print(liste)"
   ],
   "id": "2e4c9556a560e39e",
   "outputs": [
    {
     "name": "stdout",
     "output_type": "stream",
     "text": [
      "[4, 3, 7]\n",
      "[3, 4, 7]\n",
      "[7, 4, 3]\n"
     ]
    }
   ],
   "execution_count": 11
  },
  {
   "metadata": {
    "ExecuteTime": {
     "end_time": "2025-07-26T15:36:03.888684Z",
     "start_time": "2025-07-26T15:36:03.883542Z"
    }
   },
   "cell_type": "code",
   "source": [
    "print(type((4, 5, 6)))\n",
    "print(type({2,3}))\n",
    "print(type(None))\n",
    "print(type(True))\n",
    "print(type({1:\"Python\"}))"
   ],
   "id": "d0fc6100e04d9172",
   "outputs": [
    {
     "name": "stdout",
     "output_type": "stream",
     "text": [
      "<class 'tuple'>\n",
      "<class 'set'>\n",
      "<class 'NoneType'>\n",
      "<class 'bool'>\n",
      "<class 'dict'>\n"
     ]
    }
   ],
   "execution_count": 14
  },
  {
   "metadata": {},
   "cell_type": "markdown",
   "source": "Kendi sınıfımızı oluşturma",
   "id": "ca6e64f397038f5e"
  },
  {
   "metadata": {
    "ExecuteTime": {
     "end_time": "2025-07-26T15:42:29.962983Z",
     "start_time": "2025-07-26T15:42:29.959711Z"
    }
   },
   "cell_type": "code",
   "source": [
    "class Insan:\n",
    "    #Attributes - Özellikleri => Variable - Değişkenleri\n",
    "    #Behaviours - Davranışlar => Methods - Metotlar\n",
    "\n",
    "    #ad, soyad, yas, meslek özellikler\n",
    "    #constructor- yapıcı metot ve özel metot\n",
    "    def __init__(self):\n",
    "        pass\n",
    "#i1 objesi Insan sınıfının bir instance'ı\n",
    "i1 = Insan() #Biz callable bir constructor çağırıyoruz ve özellik verebiliriz Instantiate yani oluşturma\n",
    "i1.ad = \"Melih\"\n",
    "i1.soyad = \"Kotman\"\n",
    "i1.yas = 30\n",
    "i1.meslek = \"Bilgisayar Mühendisi\"\n",
    "\n",
    "i2 = Insan()\n",
    "i2.ad = \"Yiğit\"\n",
    "i2.soyad = \"Ram\"\n",
    "i2.yas = 21\n",
    "i2.meslek = \"Öğrenci\"\n",
    "\n",
    "print(i1.ad,i1.soyad,i1.yas,i1.meslek)\n",
    "print(i2.ad,i2.soyad,i2.yas,i2.meslek)"
   ],
   "id": "5beebbf6bdb33f9f",
   "outputs": [
    {
     "name": "stdout",
     "output_type": "stream",
     "text": [
      "Melih Kotman 30 Bilgisayar Mühendisi\n",
      "Yiğit Ram 21 Öğrenci\n"
     ]
    }
   ],
   "execution_count": 16
  },
  {
   "metadata": {
    "ExecuteTime": {
     "end_time": "2025-07-26T15:46:52.916262Z",
     "start_time": "2025-07-26T15:46:52.912686Z"
    }
   },
   "cell_type": "code",
   "source": [
    "class Insan:\n",
    "    def __init__(self,ad,soyad,yas,meslek):\n",
    "        self.ad = ad\n",
    "        self.soyad = soyad\n",
    "        self.yas = yas\n",
    "        self.meslek = meslek\n",
    "    def bilgiSoyle(self):\n",
    "        print(\"İnsanın bilgileri\")\n",
    "        print(\"Adı ve Soyadı : {} {}\".format(self.ad,self.soyad,))\n",
    "        print(\"Yaşı : {}\".format(self.yas))\n",
    "        print(\"Mesleği : {}\".format(self.meslek))\n",
    "\n",
    "i1 = Insan(\"Melih\", \"Kotman\", 30, \"Bilgisayar Mühendisi\")\n",
    "\n",
    "i2 = Insan(\"Yiğit\", \"Ram\", 20, \"Öğrenci\")\n",
    "\n",
    "i1.bilgiSoyle()\n",
    "i2.bilgiSoyle()\n",
    "Insan.bilgiSoyle(i1) #selfin anlamı nesneyi kullanabilme ama python yukarı yaptığımız gibi anlıyor argümanı i1 olduğunu anlıyor\n",
    "Insan.bilgiSoyle(i2) #Mutlaka sınıf üzerinden çağırınca argüman vermem gerek"
   ],
   "id": "bc5ee729afb21103",
   "outputs": [
    {
     "name": "stdout",
     "output_type": "stream",
     "text": [
      "İnsanın bilgileri\n",
      "Adı ve Soyadı : Melih Kotman\n",
      "Yaşı : 30\n",
      "Mesleği : Bilgisayar Mühendisi\n",
      "İnsanın bilgileri\n",
      "Adı ve Soyadı : Yiğit Ram\n",
      "Yaşı : 20\n",
      "Mesleği : Öğrenci\n",
      "İnsanın bilgileri\n",
      "Adı ve Soyadı : Melih Kotman\n",
      "Yaşı : 30\n",
      "Mesleği : Bilgisayar Mühendisi\n",
      "İnsanın bilgileri\n",
      "Adı ve Soyadı : Yiğit Ram\n",
      "Yaşı : 20\n",
      "Mesleği : Öğrenci\n"
     ]
    }
   ],
   "execution_count": 18
  },
  {
   "metadata": {
    "ExecuteTime": {
     "end_time": "2025-07-26T15:52:28.418955Z",
     "start_time": "2025-07-26T15:52:28.414650Z"
    }
   },
   "cell_type": "code",
   "source": [
    "#Ornek Sınıf Oluşturma\n",
    "class Araba:\n",
    "    def __init__(self, marka, model, yil, bakim = True):\n",
    "        self.marka = marka\n",
    "        self.model = model\n",
    "        self.yil = yil\n",
    "        self.bakim = bakim\n",
    "    def ozellikleriGoster(self):\n",
    "        print(self.marka, self.model, self.yil, end = \" \")\n",
    "        self.bakimDurumunuGoster()\n",
    "\n",
    "    def bakimDurumunuGoster(self):\n",
    "        if self.bakim:\n",
    "            print(\"Bakımlı\")\n",
    "        else:\n",
    "            print(\"Bakımsız\")\n",
    "\n",
    "\n",
    "a1 = Araba(\"BMW\", \"5.20\", 2022)\n",
    "a2 = Araba(\"Ferrari\", \"P80/C\", 2015, False)\n",
    "\n",
    "a1.ozellikleriGoster()\n",
    "a2.ozellikleriGoster()\n",
    "\n",
    "a3 = Araba(yil = \"2017\", bakim = False, marka = \"Toyota\", model = \"Corolla\")\n",
    "a3.ozellikleriGoster()"
   ],
   "id": "38413655676ff0f6",
   "outputs": [
    {
     "name": "stdout",
     "output_type": "stream",
     "text": [
      "BMW 5.20 2022 Bakımlı\n",
      "Ferrari P80/C 2015 Bakımsız\n",
      "Toyota Corolla 2017 Bakımsız\n"
     ]
    }
   ],
   "execution_count": 25
  },
  {
   "metadata": {},
   "cell_type": "markdown",
   "source": [
    "Variable Çeşitleri\n",
    "\n",
    "    Instance Variable\n",
    "    Class/Static Variable"
   ],
   "id": "ff1f1e477ac237f0"
  },
  {
   "metadata": {
    "ExecuteTime": {
     "end_time": "2025-07-26T16:06:47.780677Z",
     "start_time": "2025-07-26T16:06:47.775551Z"
    }
   },
   "cell_type": "code",
   "source": [
    "class User:\n",
    "    #Class namespace\n",
    "    sayac = 0\n",
    "    def __init__(self, isim = \"Admin\", kayitTarihi = \"20.07.2025\"):\n",
    "        #Instance/Object namespace\n",
    "        User.sayac += 1\n",
    "        self.isim = isim\n",
    "        self.kayitTarihi = kayitTarihi\n",
    "\n",
    "print(User.sayac) #0\n",
    "user1 = User(\"Mehmet Baki\",\"01.07.2020\")\n",
    "print(user1.sayac) #1\n",
    "print(User.sayac) #1\n",
    "\n",
    "user2 = User(\"Memo Toma\",\"06.09.2012\")\n",
    "print(user2.sayac) #2\n",
    "print(User.sayac) #2\n",
    "\n",
    "del user2\n",
    "User.sayac -= 1\n",
    "print(\"Kullanıcı silindi\")\n",
    "#print(user2.sayac) is not defined\n",
    "print(User.sayac)"
   ],
   "id": "1c66fef98a7ed8b6",
   "outputs": [
    {
     "name": "stdout",
     "output_type": "stream",
     "text": [
      "0\n",
      "1\n",
      "1\n",
      "2\n",
      "2\n",
      "Kullanıcı silindi\n",
      "1\n"
     ]
    }
   ],
   "execution_count": 33
  },
  {
   "metadata": {},
   "cell_type": "markdown",
   "source": [
    "Metot Çeşitleri\n",
    "\n",
    "    Instance/Obje Methods\n",
    "    Class Methods\n",
    "    Static Methods"
   ],
   "id": "24db6fe468806471"
  },
  {
   "metadata": {
    "ExecuteTime": {
     "end_time": "2025-07-26T16:16:05.030372Z",
     "start_time": "2025-07-26T16:16:05.024544Z"
    }
   },
   "cell_type": "code",
   "source": [
    "class Calisan:\n",
    "    sirket = \"Turkcell\"\n",
    "\n",
    "    def __init__(self, isim, soyad, sabitMaas, prim):\n",
    "        self.isim = isim\n",
    "        self.soyad = soyad\n",
    "        self.sabitMaas = sabitMaas\n",
    "        self.prim = prim\n",
    "\n",
    "    #Obje Method\n",
    "    def toplamMaas(self):\n",
    "        return self.sabitMaas + self.prim\n",
    "\n",
    "   #Sınıf Method\n",
    "    @classmethod #Artık class metodu\n",
    "    def sirketIsmiSoyle(cls): #Burada class olduğunu anlatmak için cls yazdırıyoruz\n",
    "        return cls.sirket\n",
    "\n",
    "    @staticmethod\n",
    "    def bilgi(info = None): #Eğer staticmethod yapmazsan self zanneder ondan dolayı koy\n",
    "        if info != None:\n",
    "            print(info)\n",
    "        else:\n",
    "            print(\"Yazdırılacak bilgi bulunamadı\")\n",
    "\n",
    "c1 = Calisan(\"Melih\", \"Kotman\", 55000, 17500)\n",
    "\n",
    "\n",
    "c2 = Calisan(\"Fahri\", \"Büyük\", 12350, 2300)\n",
    "\n",
    "print(Calisan.toplamMaas(c1))\n",
    "print(Calisan.toplamMaas(c2))\n",
    "\n",
    "print(Calisan.sirketIsmiSoyle())\n",
    "c1.sirketIsmiSoyle() #Otomatik olarak Calisan'ı gönderiyor içinde Calisan argümanı var düşün\n",
    "c2.sirketIsmiSoyle()\n",
    "\n",
    "Calisan.bilgi(\"Doğrudan bilgiyi yaz!\")\n",
    "Calisan.bilgi()"
   ],
   "id": "fa3588ae195c1580",
   "outputs": [
    {
     "name": "stdout",
     "output_type": "stream",
     "text": [
      "72500\n",
      "14650\n",
      "Turkcell\n",
      "Doğrudan bilgiyi yaz!\n",
      "Yazdırılacak bilgi bulunamadı\n"
     ]
    }
   ],
   "execution_count": 41
  },
  {
   "metadata": {},
   "cell_type": "markdown",
   "source": "Inner Sınıflar",
   "id": "f6c552c1d3f0eb61"
  },
  {
   "metadata": {
    "ExecuteTime": {
     "end_time": "2025-07-26T16:34:39.258854Z",
     "start_time": "2025-07-26T16:34:39.255692Z"
    }
   },
   "cell_type": "code",
   "source": [
    "#Outer Class\n",
    "class Musteri:\n",
    "    def __init__(self, musteriNo, isim, soyad, bakiye, hesapTutar):\n",
    "        self.musteriNo = musteriNo\n",
    "        self.isim = isim\n",
    "        self.soyad = soyad\n",
    "        #self.bakiye = bakiye #artık bakiye ve hesaptutarı hesap varsa onlara aktarıyoruz\n",
    "        #self.hesapTutar = hesapTutar\n",
    "        self.hesap = self.Hesap(bakiye, hesapTutar) #Otomatik olarak her müşterinin hesabı açılıyor bu arada\n",
    "\n",
    "    def bilgileriGoster(self):\n",
    "        print(self.musteriNo, self.isim, self.soyad)\n",
    "        self.hesap.bilgileriGoster()\n",
    "    #Inner Class\n",
    "    class Hesap: #Müşterisiysek illa hesabımız olmayabilir diye düşünebiliriz\n",
    "        def __init__(self, bakiye ,hesapTutar):\n",
    "            self.bakiye = bakiye\n",
    "            self.hesapTutar = hesapTutar\n",
    "        def bilgileriGoster(self):\n",
    "            print(self.bakiye, self.hesapTutar)\n",
    "\n",
    "m1 = Musteri(1, \"Selim\", \"Kapı\", 5000, \"TL\")\n",
    "m2 = Musteri(2, \"Emel\", \"Toprak\", 4500, \"$\")\n",
    "\n",
    "m1.bilgileriGoster()\n",
    "m2.bilgileriGoster()\n",
    "\n",
    "hesap = Musteri.Hesap(6000, \"€\") #İsimsiz açabilirim hesap sadece hesaptan açabilirim\n",
    "hesap.bilgileriGoster()\n",
    "\n",
    "m1.hesap = hesap  #Bu isimsiz hesabı selimin hesabına eşleyince 6000 € selimin oluyor\n",
    "m1.bilgileriGoster()"
   ],
   "id": "b99db7989d69667f",
   "outputs": [
    {
     "name": "stdout",
     "output_type": "stream",
     "text": [
      "1 Selim Kapı\n",
      "5000 TL\n",
      "2 Emel Toprak\n",
      "4500 $\n",
      "6000 €\n",
      "1 Selim Kapı\n",
      "6000 €\n"
     ]
    }
   ],
   "execution_count": 46
  },
  {
   "metadata": {},
   "cell_type": "markdown",
   "source": "Kalıtım - Inheritence",
   "id": "b4354455fa9404a5"
  },
  {
   "metadata": {},
   "cell_type": "markdown",
   "source": "isinstance() fonksiyonu",
   "id": "b39a9939dc178af9"
  },
  {
   "metadata": {
    "ExecuteTime": {
     "end_time": "2025-07-27T14:51:53.925887Z",
     "start_time": "2025-07-27T14:51:53.923012Z"
    }
   },
   "cell_type": "code",
   "source": [
    "sayi = 5 #Obje\n",
    "sayi2 = 5.5\n",
    "print(isinstance(sayi, int)) #sayi int class'ının instance'ı mı\n",
    "print(isinstance(sayi, str))\n",
    "print(isinstance(sayi2, float))"
   ],
   "id": "e177191b2adaa492",
   "outputs": [
    {
     "name": "stdout",
     "output_type": "stream",
     "text": [
      "True\n",
      "False\n",
      "True\n"
     ]
    }
   ],
   "execution_count": 3
  },
  {
   "metadata": {},
   "cell_type": "markdown",
   "source": "Bütün sınıflar object'ten miras alıyor, pythondaki her şey bir objedir",
   "id": "9eca66be97834240"
  },
  {
   "metadata": {
    "ExecuteTime": {
     "end_time": "2025-07-27T14:52:24.327005Z",
     "start_time": "2025-07-27T14:52:24.320421Z"
    }
   },
   "cell_type": "code",
   "source": "help(list)",
   "id": "839bdcbe883d08a1",
   "outputs": [
    {
     "name": "stdout",
     "output_type": "stream",
     "text": [
      "Help on class list in module builtins:\n",
      "\n",
      "class list(object)\n",
      " |  list(iterable=(), /)\n",
      " |\n",
      " |  Built-in mutable sequence.\n",
      " |\n",
      " |  If no argument is given, the constructor creates a new empty list.\n",
      " |  The argument must be an iterable if specified.\n",
      " |\n",
      " |  Methods defined here:\n",
      " |\n",
      " |  __add__(self, value, /)\n",
      " |      Return self+value.\n",
      " |\n",
      " |  __contains__(self, key, /)\n",
      " |      Return bool(key in self).\n",
      " |\n",
      " |  __delitem__(self, key, /)\n",
      " |      Delete self[key].\n",
      " |\n",
      " |  __eq__(self, value, /)\n",
      " |      Return self==value.\n",
      " |\n",
      " |  __ge__(self, value, /)\n",
      " |      Return self>=value.\n",
      " |\n",
      " |  __getattribute__(self, name, /)\n",
      " |      Return getattr(self, name).\n",
      " |\n",
      " |  __getitem__(self, index, /)\n",
      " |      Return self[index].\n",
      " |\n",
      " |  __gt__(self, value, /)\n",
      " |      Return self>value.\n",
      " |\n",
      " |  __iadd__(self, value, /)\n",
      " |      Implement self+=value.\n",
      " |\n",
      " |  __imul__(self, value, /)\n",
      " |      Implement self*=value.\n",
      " |\n",
      " |  __init__(self, /, *args, **kwargs)\n",
      " |      Initialize self.  See help(type(self)) for accurate signature.\n",
      " |\n",
      " |  __iter__(self, /)\n",
      " |      Implement iter(self).\n",
      " |\n",
      " |  __le__(self, value, /)\n",
      " |      Return self<=value.\n",
      " |\n",
      " |  __len__(self, /)\n",
      " |      Return len(self).\n",
      " |\n",
      " |  __lt__(self, value, /)\n",
      " |      Return self<value.\n",
      " |\n",
      " |  __mul__(self, value, /)\n",
      " |      Return self*value.\n",
      " |\n",
      " |  __ne__(self, value, /)\n",
      " |      Return self!=value.\n",
      " |\n",
      " |  __repr__(self, /)\n",
      " |      Return repr(self).\n",
      " |\n",
      " |  __reversed__(self, /)\n",
      " |      Return a reverse iterator over the list.\n",
      " |\n",
      " |  __rmul__(self, value, /)\n",
      " |      Return value*self.\n",
      " |\n",
      " |  __setitem__(self, key, value, /)\n",
      " |      Set self[key] to value.\n",
      " |\n",
      " |  __sizeof__(self, /)\n",
      " |      Return the size of the list in memory, in bytes.\n",
      " |\n",
      " |  append(self, object, /)\n",
      " |      Append object to the end of the list.\n",
      " |\n",
      " |  clear(self, /)\n",
      " |      Remove all items from list.\n",
      " |\n",
      " |  copy(self, /)\n",
      " |      Return a shallow copy of the list.\n",
      " |\n",
      " |  count(self, value, /)\n",
      " |      Return number of occurrences of value.\n",
      " |\n",
      " |  extend(self, iterable, /)\n",
      " |      Extend list by appending elements from the iterable.\n",
      " |\n",
      " |  index(self, value, start=0, stop=9223372036854775807, /)\n",
      " |      Return first index of value.\n",
      " |\n",
      " |      Raises ValueError if the value is not present.\n",
      " |\n",
      " |  insert(self, index, object, /)\n",
      " |      Insert object before index.\n",
      " |\n",
      " |  pop(self, index=-1, /)\n",
      " |      Remove and return item at index (default last).\n",
      " |\n",
      " |      Raises IndexError if list is empty or index is out of range.\n",
      " |\n",
      " |  remove(self, value, /)\n",
      " |      Remove first occurrence of value.\n",
      " |\n",
      " |      Raises ValueError if the value is not present.\n",
      " |\n",
      " |  reverse(self, /)\n",
      " |      Reverse *IN PLACE*.\n",
      " |\n",
      " |  sort(self, /, *, key=None, reverse=False)\n",
      " |      Sort the list in ascending order and return None.\n",
      " |\n",
      " |      The sort is in-place (i.e. the list itself is modified) and stable (i.e. the\n",
      " |      order of two equal elements is maintained).\n",
      " |\n",
      " |      If a key function is given, apply it once to each list item and sort them,\n",
      " |      ascending or descending, according to their function values.\n",
      " |\n",
      " |      The reverse flag can be set to sort in descending order.\n",
      " |\n",
      " |  ----------------------------------------------------------------------\n",
      " |  Class methods defined here:\n",
      " |\n",
      " |  __class_getitem__(object, /)\n",
      " |      See PEP 585\n",
      " |\n",
      " |  ----------------------------------------------------------------------\n",
      " |  Static methods defined here:\n",
      " |\n",
      " |  __new__(*args, **kwargs)\n",
      " |      Create and return a new object.  See help(type) for accurate signature.\n",
      " |\n",
      " |  ----------------------------------------------------------------------\n",
      " |  Data and other attributes defined here:\n",
      " |\n",
      " |  __hash__ = None\n",
      "\n"
     ]
    }
   ],
   "execution_count": 4
  },
  {
   "metadata": {},
   "cell_type": "markdown",
   "source": "issubclass() Fonksiyonu",
   "id": "a432a22f0293b222"
  },
  {
   "metadata": {
    "ExecuteTime": {
     "end_time": "2025-07-27T14:54:24.776229Z",
     "start_time": "2025-07-27T14:54:24.773456Z"
    }
   },
   "cell_type": "code",
   "source": [
    "print(issubclass(list, object)) #list object'in alt sınıf mıdır\n",
    "print(issubclass(int, object))"
   ],
   "id": "1705bb8bff3e2c91",
   "outputs": [
    {
     "name": "stdout",
     "output_type": "stream",
     "text": [
      "True\n",
      "True\n"
     ]
    }
   ],
   "execution_count": 6
  },
  {
   "metadata": {
    "ExecuteTime": {
     "end_time": "2025-07-27T14:55:43.087406Z",
     "start_time": "2025-07-27T14:55:43.084312Z"
    }
   },
   "cell_type": "code",
   "source": [
    "class A:\n",
    "    pass\n",
    "class B(A):\n",
    "    pass\n",
    "class C(B):\n",
    "    pass\n",
    "\n",
    "print(issubclass(A, B)) #False\n",
    "print(issubclass(B, C)) #False\n",
    "print(issubclass(C, A)) #True\n",
    "print(issubclass(C, B)) #True"
   ],
   "id": "86225ef6bb122959",
   "outputs": [
    {
     "name": "stdout",
     "output_type": "stream",
     "text": [
      "False\n",
      "False\n",
      "True\n",
      "True\n"
     ]
    }
   ],
   "execution_count": 10
  },
  {
   "metadata": {
    "ExecuteTime": {
     "end_time": "2025-07-27T15:03:02.354470Z",
     "start_time": "2025-07-27T15:03:02.349194Z"
    }
   },
   "cell_type": "code",
   "source": [
    "class A:\n",
    "    def metot1(self):\n",
    "        print(\"A, metot1\")\n",
    "    def metot2(self):\n",
    "        print(\"A, metot2\")\n",
    "\n",
    "class B(A): #A subclass\n",
    "    def metot3(self):\n",
    "        print(\"B, metot3\")\n",
    "    def metot4(self):\n",
    "        print(\"B, metot4\")\n",
    "\n",
    "class C(B): #A and B subclass\n",
    "    def metot5(self):\n",
    "        print(\"C, metot5\")\n",
    "    def metot1(self):\n",
    "        print(\"C, metot1\")\n",
    "\n",
    "objectA = A() #Init olmadığı için default böyle oluşur\n",
    "objectB = B()\n",
    "objectC = C()\n",
    "\n",
    "objectA.metot1()\n",
    "objectA.metot2()\n",
    "\n",
    "objectB.metot1()\n",
    "objectB.metot2()\n",
    "objectB.metot3()\n",
    "objectB.metot4()\n",
    "\n",
    "objectC.metot1()#Hangisini çalıştıracağını bilmediğimiz varsayalım kendine ait varsa A sınıfınınkini çalıştırmaz kendi sınıfını çalıştırır yani Override yapmış oluyor\n",
    "objectB.metot2()\n",
    "objectB.metot3()\n",
    "objectB.metot4()\n",
    "objectC.metot5()\n"
   ],
   "id": "5cecada3d288ea66",
   "outputs": [
    {
     "name": "stdout",
     "output_type": "stream",
     "text": [
      "A, metot1\n",
      "A, metot2\n",
      "A, metot1\n",
      "A, metot2\n",
      "B, metot3\n",
      "B, metot4\n",
      "C, metot1\n",
      "A, metot2\n",
      "B, metot3\n",
      "B, metot4\n",
      "C, metot5\n"
     ]
    }
   ],
   "execution_count": 15
  },
  {
   "metadata": {},
   "cell_type": "markdown",
   "source": "method resolution order - metotun çözümleme sıralaması",
   "id": "6cb8f13ede5d4eca"
  },
  {
   "metadata": {},
   "cell_type": "code",
   "outputs": [],
   "execution_count": null,
   "source": [
    "#method resolution order\n",
    "#metotun çözümleme sıralaması\n",
    "C.mro() #Bir metot çağırılınca nasıl çalıaşcağını bize söyler ilk kendi sınıf sonra B'ye gider sonra A'ya gider en son bulamazsa hata veriyor"
   ],
   "id": "3443750999331c85"
  },
  {
   "metadata": {},
   "cell_type": "markdown",
   "source": [
    "A super class (parent class)\n",
    "\n",
    "B sub class (child class)"
   ],
   "id": "5773d08149bbcd12"
  },
  {
   "metadata": {},
   "cell_type": "markdown",
   "source": [
    "B -> A single level inheritance\n",
    "\n",
    "C->B->A multi level inheritance\n",
    "\n",
    "C->(A, B) multiple level inheritance"
   ],
   "id": "ad76175253cdb93b"
  },
  {
   "metadata": {
    "ExecuteTime": {
     "end_time": "2025-07-27T15:08:30.660524Z",
     "start_time": "2025-07-27T15:08:30.656067Z"
    }
   },
   "cell_type": "code",
   "source": [
    "#Ornek mro\n",
    "\n",
    "class X:\n",
    "    def metot1(self):\n",
    "       print(\"X, metot1\")\n",
    "\n",
    "class Z:\n",
    "    def metot1(self):\n",
    "       print(\"Z, metot1\")\n",
    "\n",
    "class Y:\n",
    "    def metot1(self):\n",
    "       print(\"Y, metot1\")\n",
    "\n",
    "class A(X, Y):\n",
    "    pass\n",
    "    #def metot1(self):\n",
    "      #  print(\"A, metot1\")\n",
    "\n",
    "class B(Y, Z):\n",
    "    pass\n",
    "    #def metot1(self):\n",
    "     #   print(\"B, metot1\")\n",
    "\n",
    "class C(B, A, Z):\n",
    "    pass\n",
    "   # def metot1(self):\n",
    "    #    print(\"C, metot1\")\n",
    "\n",
    "\n",
    "c1 = C()\n",
    "c1.metot1() #B ve A yazdıktan sonra Y'yi değil direkt X'i aldı?\n",
    "\n",
    "print(C.mro()) #Cevap buradan anlayabilirsin"
   ],
   "id": "d661aa147005aedc",
   "outputs": [
    {
     "name": "stdout",
     "output_type": "stream",
     "text": [
      "X, metot1\n",
      "[<class '__main__.C'>, <class '__main__.B'>, <class '__main__.A'>, <class '__main__.X'>, <class '__main__.Y'>, <class '__main__.Z'>, <class 'object'>]\n"
     ]
    }
   ],
   "execution_count": 20
  },
  {
   "metadata": {},
   "cell_type": "markdown",
   "source": "Constructor yani süper fonksiyon",
   "id": "f3c7e40560bbf924"
  },
  {
   "metadata": {
    "ExecuteTime": {
     "end_time": "2025-07-27T15:15:23.046238Z",
     "start_time": "2025-07-27T15:15:23.041182Z"
    }
   },
   "cell_type": "code",
   "source": [
    "class A:\n",
    "    def __init__(self):\n",
    "        print(\"A constructor\")\n",
    "    def metot1(self):\n",
    "        print(\"A, metot1\")\n",
    "class B:\n",
    "    def __init__(self):\n",
    "        print(\"B constructor\")\n",
    "    def metot1(self):\n",
    "        print(\"B, metot1\")\n",
    "class C(A, B):\n",
    "    def __init__(self):\n",
    "        print(\"C constructor\")\n",
    "        super().__init__() #üst sınıfı çalıştırıyor yani A'yı MRO'ya göre yapar UNUTMA!\n",
    "        B.__init__(self) #Ben burada B'yi çalıştıracaksam böyle\n",
    "        A.__init__(self) #Aynı şekilde A'yı yapacaksam özellikle böyle\n",
    "    def metot1(self):\n",
    "        print(\"C, metot1\")\n",
    "        super().metot1() #Ben bunu yaparsam üst sınıfının metotunu çalıştırdı yani A'nın\n",
    "cObj = C()\n",
    "#cObj.metot1() #Ben burada ilk miras aldıklarımı da kullanmak istiyorsam\n",
    "print(C.mro()) #burada ilk C'de varsa bunu sonrasında A'yı eğer A'da yoksa B'ye geçer"
   ],
   "id": "58e4d993d85a4e06",
   "outputs": [
    {
     "name": "stdout",
     "output_type": "stream",
     "text": [
      "C constructor\n",
      "A constructor\n",
      "B constructor\n",
      "A constructor\n",
      "[<class '__main__.C'>, <class '__main__.A'>, <class '__main__.B'>, <class 'object'>]\n"
     ]
    }
   ],
   "execution_count": 31
  },
  {
   "metadata": {},
   "cell_type": "markdown",
   "source": "super() yaptığımızda mroya göre alır ama özellikle yapacaksan bir class'ı class_ismi.__init__(self) şeklinde olmalı",
   "id": "825c0e854e71d5f8"
  },
  {
   "metadata": {
    "ExecuteTime": {
     "end_time": "2025-07-27T15:34:15.500660Z",
     "start_time": "2025-07-27T15:34:15.495080Z"
    }
   },
   "cell_type": "code",
   "source": [
    "#Kalıtım Ornek-1\n",
    "#Bir haber sitesinde haberler spor ve finans şeklindedir\n",
    "#Her haberin başlığı içeriği ve bir adet görseli olmalıdır\n",
    "#Spor haberlerinde video içerikleri de bulunmalı\n",
    "#Finansta ise döviz kurlarının bilgileri de yer almaktadır\n",
    "\n",
    "class Genel:\n",
    "    def __init__(self, baslik, icerik, gorsel):\n",
    "        self.baslik = baslik\n",
    "        self.icerik = icerik\n",
    "        self.gorsel = gorsel\n",
    "\n",
    "    def bilgileriGoster(self):\n",
    "        print(self.baslik, self.icerik, self.gorsel)\n",
    "\n",
    "class Spor(Genel):\n",
    "    def __init__(self, baslik, icerik, gorsel, video):\n",
    "        super().__init__(baslik, icerik, gorsel) #Üst class'taki özellikleri kullanacaksa böyle yapmalıyız super().__init__(ozellikler...)\n",
    "        self.video = video\n",
    "\n",
    "    def bilgileriGoster(self):\n",
    "        super().bilgileriGoster() #Üst sınıftakini göster\n",
    "        print(self.video) #Artı özelliği şeyi de göster\n",
    "\n",
    "    def videoOynat(self):\n",
    "        print(self.video, \"isimli video oynatılıyor\")\n",
    "\n",
    "class Finans(Genel):\n",
    "    def __init__(self, baslik, icerik, gorsel, dovizKurlari):\n",
    "        super().__init__(baslik, icerik, gorsel)\n",
    "        self.dovizKurlari = dovizKurlari\n",
    "\n",
    "    def dovizKurlariBilgisiGoster(self):\n",
    "        for dovizAdi, dovizDegeri in self.dovizKurlari.items(): #Dictionary şeklinde olacak\n",
    "            print(dovizAdi, \":\", dovizDegeri)\n",
    "\n",
    "    def dovizKurlariniGuncelle(self, dovizKurlari):\n",
    "        self.dovizKurlari = dovizKurlari\n",
    "\n",
    "s1 = Spor(video = \"video.mp4\", baslik = \"Maçta Kazanan Olmadı\", icerik = \"Maç berabere bitti, sonuç 0-0'da kaldı.\", gorsel = \"photo1.png\")\n",
    "f1 = Finans(dovizKurlari = {'Dolar' : 40, 'Euro' : 42, 'Sterlin' : 70}, baslik = \"Ekonomi tüm dünyada durgun!\", icerik = \"Savaştan ötürü, ekonomiler durgunlaştı.\", gorsel = \"photo2.png\")\n",
    "\n",
    "f1.dovizKurlariBilgisiGoster()\n",
    "s1.bilgileriGoster()\n",
    "f1.bilgileriGoster()\n",
    "\n",
    "guncelKurBilgisi = {'Dolar' : 42, 'Euro' : 48, 'Sterlin' : 75}\n",
    "f1.dovizKurlariniGuncelle(guncelKurBilgisi)\n",
    "f1.dovizKurlariBilgisiGoster()"
   ],
   "id": "e94b991590e6f786",
   "outputs": [
    {
     "name": "stdout",
     "output_type": "stream",
     "text": [
      "Dolar : 40\n",
      "Euro : 42\n",
      "Sterlin : 70\n",
      "Maçta Kazanan Olmadı Maç berabere bitti, sonuç 0-0'da kaldı. photo1.png\n",
      "video.mp4\n",
      "Ekonomi tüm dünyada durgun! Savaştan ötürü, ekonomiler durgunlaştı. photo2.png\n",
      "Dolar : 42\n",
      "Euro : 48\n",
      "Sterlin : 75\n"
     ]
    }
   ],
   "execution_count": 39
  },
  {
   "metadata": {},
   "cell_type": "markdown",
   "source": "Polymorphism - Çok Biçimlilik",
   "id": "a126db7a159b3d04"
  },
  {
   "metadata": {
    "ExecuteTime": {
     "end_time": "2025-07-27T15:41:28.984597Z",
     "start_time": "2025-07-27T15:41:28.979222Z"
    }
   },
   "cell_type": "code",
   "source": [
    "class Arac:\n",
    "    def __init__(self, tur):\n",
    "        self.tur = tur\n",
    "\n",
    "class Araba(Arac):\n",
    "    def __init__(self):\n",
    "        super().__init__(\"Araba\")\n",
    "\n",
    "    def calis(self):\n",
    "        print(\"Motor çalıştı.\")\n",
    "        print(\"Hareket edebilirsin!\")\n",
    "\n",
    "class Motosiklet(Arac):\n",
    "    def __init__(self):\n",
    "        super().__init__(\"Motosiklet\")\n",
    "\n",
    "    def calis(self):\n",
    "        print(\"Motor çalıştı.\")\n",
    "        print(\"Motor ısınmaya başladı.\")\n",
    "        print(\"Motor ısındı.\")\n",
    "        print(\"Hareket edebilirsin!\")\n",
    "\n",
    "a1 = Araba()\n",
    "m1 = Motosiklet()\n",
    "\n",
    "a1.calis()\n",
    "print(20 * \"*\")\n",
    "m1.calis()\n",
    "\n",
    "class Insan:\n",
    "    def git(self, arac: Arac): #Buradaki arac: Arac notasyonu parametreyi veriyor yani Arac sınıfından arac diye bir şey oluşturdum sayi : int gibi\n",
    "        arac.calis()\n",
    "        print(\"Hareket etmeye başladığım araç türü :\", arac.tur)\n",
    "\n",
    "i1 = Insan()\n",
    "print(20 * \"*\")\n",
    "i1.git(a1)\n",
    "print(20 * \"*\")\n",
    "i1.git(m1)"
   ],
   "id": "69e94ab6d203382d",
   "outputs": [
    {
     "name": "stdout",
     "output_type": "stream",
     "text": [
      "Motor çalıştı.\n",
      "Hareket edebilirsin!\n",
      "********************\n",
      "Motor çalıştı.\n",
      "Motor ısınmaya başladı.\n",
      "Motor ısındı.\n",
      "Hareket edebilirsin!\n",
      "********************\n",
      "Motor çalıştı.\n",
      "Hareket edebilirsin!\n",
      "Hareket etmeye başladığım araç türü : Araba\n",
      "********************\n",
      "Motor çalıştı.\n",
      "Motor ısınmaya başladı.\n",
      "Motor ısındı.\n",
      "Hareket edebilirsin!\n",
      "Hareket etmeye başladığım araç türü : Motosiklet\n"
     ]
    }
   ],
   "execution_count": 43
  },
  {
   "metadata": {},
   "cell_type": "markdown",
   "source": "Operator Overloading, bir operatörü aşırı yüklemedir",
   "id": "967145c59214db32"
  },
  {
   "metadata": {
    "ExecuteTime": {
     "end_time": "2025-07-27T15:45:15.351845Z",
     "start_time": "2025-07-27T15:45:15.349092Z"
    }
   },
   "cell_type": "code",
   "source": [
    "toplam = 6 + 9\n",
    "fullName = \"Fatih\"+\" \"+\"Açıkgöz\"\n",
    "sonuc = int.__add__(30, 50)\n",
    "sonuc = 30 + 50 #yani + işlemi __add__ magic metotunu kullanıyor\n",
    "takimIsmi = str.__add__(\"Galata\",\"Saray\")\n",
    "takimIsmi = \"Galata\" + \"Saray\" #Arka planda __add__ magic metotunu kullanıyor +"
   ],
   "id": "e471e963d0e42e81",
   "outputs": [],
   "execution_count": 47
  },
  {
   "metadata": {},
   "cell_type": "markdown",
   "source": "Magic Methods - Büyülü Metotlar",
   "id": "c8a954e5983cdf77"
  },
  {
   "metadata": {},
   "cell_type": "code",
   "outputs": [],
   "execution_count": null,
   "source": "#Addition",
   "id": "c16f5a058ade5740"
  }
 ],
 "metadata": {
  "kernelspec": {
   "display_name": "Python 3",
   "language": "python",
   "name": "python3"
  },
  "language_info": {
   "codemirror_mode": {
    "name": "ipython",
    "version": 2
   },
   "file_extension": ".py",
   "mimetype": "text/x-python",
   "name": "python",
   "nbconvert_exporter": "python",
   "pygments_lexer": "ipython2",
   "version": "2.7.6"
  }
 },
 "nbformat": 4,
 "nbformat_minor": 5
}
