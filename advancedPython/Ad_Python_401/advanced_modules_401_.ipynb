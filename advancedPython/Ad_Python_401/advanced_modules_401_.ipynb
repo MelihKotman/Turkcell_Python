{
 "cells": [
  {
   "metadata": {},
   "cell_type": "markdown",
   "source": "pkgs klasöründe tüm kütüphanelerin hepsini görebilirsin",
   "id": "aeb4ca1973811a8f"
  },
  {
   "metadata": {},
   "cell_type": "markdown",
   "source": "numpy gibi modüller en çok kullanılandır, time,math,sys gibiler C diliyle yazılmış built in modüllerdir",
   "id": "7d81f510d7e34c9"
  },
  {
   "cell_type": "code",
   "id": "initial_id",
   "metadata": {
    "collapsed": true,
    "ExecuteTime": {
     "end_time": "2025-07-26T14:51:38.458348Z",
     "start_time": "2025-07-26T14:51:38.455435Z"
    }
   },
   "source": [
    "import sys\n",
    "\n",
    "from IPython.lib.deepreload import reload\n",
    "\n",
    "from advancedPython.Ad_Python_401.my_module import topla\n",
    "\n",
    "print(sys.builtin_module_names)"
   ],
   "outputs": [
    {
     "name": "stdout",
     "output_type": "stream",
     "text": [
      "('_abc', '_ast', '_codecs', '_collections', '_functools', '_imp', '_io', '_locale', '_operator', '_signal', '_sre', '_stat', '_string', '_suggestions', '_symtable', '_sysconfig', '_thread', '_tokenize', '_tracemalloc', '_typing', '_warnings', '_weakref', 'atexit', 'builtins', 'errno', 'faulthandler', 'gc', 'itertools', 'marshal', 'posix', 'pwd', 'sys', 'time')\n"
     ]
    }
   ],
   "execution_count": 1
  },
  {
   "metadata": {
    "ExecuteTime": {
     "end_time": "2025-07-26T15:01:37.600039Z",
     "start_time": "2025-07-26T15:01:37.596597Z"
    }
   },
   "cell_type": "code",
   "source": [
    "from advancedPython.Ad_Python_401 import my_module\n",
    "from my_module import topla\n",
    "from my_module import daireCevreHesapla\n",
    "print(my_module.daireCevreHesapla(2))\n",
    "print(my_module.topla(20 ,40))"
   ],
   "id": "6b9980012d27f5c",
   "outputs": [
    {
     "name": "stdout",
     "output_type": "stream",
     "text": [
      "12.566370614359172\n",
      "60\n"
     ]
    }
   ],
   "execution_count": 13
  },
  {
   "metadata": {},
   "cell_type": "markdown",
   "source": "eğer globalleştireceksen bunu pkgsye atarsan globalleşiyor ve paketten alıyor silsende dosyadan kullanabilir",
   "id": "faded0cf19bd042a"
  },
  {
   "metadata": {
    "ExecuteTime": {
     "end_time": "2025-07-26T15:02:12.640697Z",
     "start_time": "2025-07-26T15:02:12.635616Z"
    }
   },
   "cell_type": "code",
   "source": [
    "import importlib\n",
    "from advancedPython.Ad_Python_401.my_module import pi, daireCevreHesapla, daireAlanHesapla\n",
    "importlib.reload(my_module)\n",
    "print(pi)\n",
    "from math import pi\n",
    "print(pi)\n",
    "#Override üstüne yazma"
   ],
   "id": "bad0ee52bad419af",
   "outputs": [
    {
     "name": "stdout",
     "output_type": "stream",
     "text": [
      "3.14\n",
      "3.141592653589793\n"
     ]
    }
   ],
   "execution_count": 17
  },
  {
   "metadata": {},
   "cell_type": "markdown",
   "source": "name özel değişkeni",
   "id": "5988924e47482bc8"
  },
  {
   "metadata": {
    "ExecuteTime": {
     "end_time": "2025-07-26T15:03:21.578575Z",
     "start_time": "2025-07-26T15:03:21.575805Z"
    }
   },
   "cell_type": "code",
   "source": "print(__name__) #ana klasör bu dosya çalışıyor main anlamına gelir",
   "id": "d06b3caceae17d78",
   "outputs": [
    {
     "name": "stdout",
     "output_type": "stream",
     "text": [
      "__main__\n"
     ]
    }
   ],
   "execution_count": 19
  },
  {
   "metadata": {
    "ExecuteTime": {
     "end_time": "2025-07-26T15:17:43.790092Z",
     "start_time": "2025-07-26T15:17:43.782685Z"
    }
   },
   "cell_type": "code",
   "source": [
    "import importlib\n",
    "importlib.reload(my_module)\n"
   ],
   "id": "99b317485a3698c8",
   "outputs": [
    {
     "name": "stdout",
     "output_type": "stream",
     "text": [
      "advancedPython.Ad_Python_401.my_module\n"
     ]
    },
    {
     "data": {
      "text/plain": [
       "<module 'advancedPython.Ad_Python_401.my_module' from '/Users/melih/PycharmProjects/Turkcell_Python/advancedPython/Ad_Python_401/my_module.py'>"
      ]
     },
     "execution_count": 41,
     "metadata": {},
     "output_type": "execute_result"
    }
   ],
   "execution_count": 41
  },
  {
   "metadata": {
    "ExecuteTime": {
     "end_time": "2025-07-26T15:15:59.137461Z",
     "start_time": "2025-07-26T15:15:59.134807Z"
    }
   },
   "cell_type": "code",
   "source": [
    "from advancedPython.Ad_Python_401 import my_module\n",
    "from my_module import *\n",
    "print(__name__)\n",
    "print(my_module.topla(1, 5))"
   ],
   "id": "d10970d371e7437f",
   "outputs": [
    {
     "name": "stdout",
     "output_type": "stream",
     "text": [
      "__main__\n",
      "6\n"
     ]
    }
   ],
   "execution_count": 40
  },
  {
   "metadata": {},
   "cell_type": "markdown",
   "source": "if __name__ = \"__main__\" ise modulü çalıştır yani sen çalışacağın yerdeysen çalış import edilince çalışma diyoruz",
   "id": "c6d1d40eb3d470b6"
  },
  {
   "metadata": {},
   "cell_type": "code",
   "outputs": [],
   "execution_count": null,
   "source": [
    "from advancedPython.Ad_Python_401 import my_module as bm #istersen as bm yaparsan takma ad lakap verebilirsin\n",
    "bm.daireAlanHesapla() #Üstüne gelince dokümantasyonu görebiliriz modülde yazdığımızı"
   ],
   "id": "77c2da6259a4ca40"
  },
  {
   "metadata": {},
   "cell_type": "code",
   "outputs": [],
   "execution_count": null,
   "source": "",
   "id": "a416c6fa0520d12"
  }
 ],
 "metadata": {
  "kernelspec": {
   "display_name": "Python 3",
   "language": "python",
   "name": "python3"
  },
  "language_info": {
   "codemirror_mode": {
    "name": "ipython",
    "version": 2
   },
   "file_extension": ".py",
   "mimetype": "text/x-python",
   "name": "python",
   "nbconvert_exporter": "python",
   "pygments_lexer": "ipython2",
   "version": "2.7.6"
  }
 },
 "nbformat": 4,
 "nbformat_minor": 5
}
