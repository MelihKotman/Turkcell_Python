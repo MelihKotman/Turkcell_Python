{
 "cells": [
  {
   "metadata": {},
   "cell_type": "markdown",
   "source": [
    "NoneType yani None Tipi\n",
    "\n",
    "**Numeric (Sayısal Tipler) Giriş**\n",
    "\n",
    "Int, float\n",
    "\n",
    "bool\n",
    "\n",
    "complex (kompleks sayılar)\n",
    "\n",
    "----------\n",
    "**Dizi Halindeki Veri Tiplerine Giriş**\n",
    "\n",
    "List (Liste)\n",
    "\n",
    "Tuple (Demet)\n",
    "\n",
    "String (Karakter Dizisi)\n",
    "\n",
    "Range (Aralık)\n",
    "\n",
    "Dictionary (Sözlük)"
   ],
   "id": "5680d454a8c08052"
  },
  {
   "metadata": {},
   "cell_type": "markdown",
   "source": "NoneType yani None Tipi",
   "id": "32f9b4ee8abed1a2"
  },
  {
   "cell_type": "code",
   "id": "initial_id",
   "metadata": {
    "collapsed": true,
    "ExecuteTime": {
     "end_time": "2025-07-22T16:17:27.414466Z",
     "start_time": "2025-07-22T16:17:27.411160Z"
    }
   },
   "source": [
    "sehir = None #Daha sonradan veri tipini belirleyeceğiz ama şimdilik boş dursun diyoruz\n",
    "print(type(sehir))\n",
    "sehir = \"İstanbul\"\n",
    "print(type(sehir))"
   ],
   "outputs": [
    {
     "name": "stdout",
     "output_type": "stream",
     "text": [
      "<class 'NoneType'>\n",
      "<class 'str'>\n"
     ]
    }
   ],
   "execution_count": 2
  },
  {
   "metadata": {},
   "cell_type": "markdown",
   "source": [
    "Sayısal Tiplere Giriş\n",
    "\n",
    "int, float"
   ],
   "id": "c3303c4d88bab684"
  },
  {
   "metadata": {
    "ExecuteTime": {
     "end_time": "2025-07-22T16:19:35.234723Z",
     "start_time": "2025-07-22T16:19:35.231602Z"
    }
   },
   "cell_type": "code",
   "source": [
    "x = 10\n",
    "y = int(15) # 15"
   ],
   "id": "fb3b0b7b9d42c310",
   "outputs": [],
   "execution_count": 5
  },
  {
   "metadata": {
    "ExecuteTime": {
     "end_time": "2025-07-22T16:19:35.770574Z",
     "start_time": "2025-07-22T16:19:35.767798Z"
    }
   },
   "cell_type": "code",
   "source": [
    "z = 10.7\n",
    "t = float(17.8) # 17.8"
   ],
   "id": "dcb29b5f04dabd52",
   "outputs": [],
   "execution_count": 6
  },
  {
   "metadata": {
    "ExecuteTime": {
     "end_time": "2025-07-22T16:20:08.448093Z",
     "start_time": "2025-07-22T16:20:08.445408Z"
    }
   },
   "cell_type": "code",
   "source": [
    "x1 = float(x)\n",
    "z1 = int(z)\n",
    "print(x1, z1)"
   ],
   "id": "a71a239b489df01d",
   "outputs": [
    {
     "name": "stdout",
     "output_type": "stream",
     "text": [
      "10.0 10\n"
     ]
    }
   ],
   "execution_count": 7
  },
  {
   "metadata": {},
   "cell_type": "markdown",
   "source": "bool",
   "id": "e416e79b04dac189"
  },
  {
   "metadata": {
    "ExecuteTime": {
     "end_time": "2025-07-22T16:23:39.565019Z",
     "start_time": "2025-07-22T16:23:39.561833Z"
    }
   },
   "cell_type": "code",
   "source": [
    "anahtar1 = True\n",
    "anahtar2 = False\n",
    "k1 = 3 < 4 #True\n",
    "anahtar3 = bool(True)\n",
    "anahtar4 = bool(False)\n",
    "anahtar5 = bool(10)\n",
    "anahtar6 = bool(1.2)\n",
    "anahtar7 = bool(-6)\n",
    "anahtar8 = bool(0.0)\n",
    "anahtar9 = bool(0)\n",
    "print(anahtar1, anahtar2, anahtar3, anahtar4,anahtar5, anahtar6, anahtar7,anahtar8,anahtar9)"
   ],
   "id": "cbf67471710dc8b0",
   "outputs": [
    {
     "name": "stdout",
     "output_type": "stream",
     "text": [
      "True False True False True True True False False\n"
     ]
    }
   ],
   "execution_count": 13
  },
  {
   "metadata": {
    "ExecuteTime": {
     "end_time": "2025-07-22T16:24:13.654707Z",
     "start_time": "2025-07-22T16:24:13.651660Z"
    }
   },
   "cell_type": "code",
   "source": [
    "anahtar10 = float(True)\n",
    "anahtar11 = float(False)\n",
    "\n",
    "anahtar12 = int(True)\n",
    "anahtar13 = int(False)\n",
    "\n",
    "print(anahtar10, anahtar11, anahtar12, anahtar13)"
   ],
   "id": "871db2be17e586f",
   "outputs": [
    {
     "name": "stdout",
     "output_type": "stream",
     "text": [
      "1.0 0.0 1 0\n"
     ]
    }
   ],
   "execution_count": 14
  },
  {
   "metadata": {},
   "cell_type": "markdown",
   "source": "Karmaşık Sayılar",
   "id": "54f54f9d2cf6f797"
  },
  {
   "metadata": {
    "ExecuteTime": {
     "end_time": "2025-07-22T16:25:32.090471Z",
     "start_time": "2025-07-22T16:25:32.087221Z"
    }
   },
   "cell_type": "code",
   "source": [
    "ks1 = 2 + 3j\n",
    "ks2 = complex(4, 5) # 4 + 5j"
   ],
   "id": "42a9705d5a265753",
   "outputs": [],
   "execution_count": 16
  },
  {
   "metadata": {
    "ExecuteTime": {
     "end_time": "2025-07-22T16:26:58.942645Z",
     "start_time": "2025-07-22T16:26:58.939522Z"
    }
   },
   "cell_type": "code",
   "source": [
    "toplam = ks1 + ks2\n",
    "carpma = ks1 * ks2 #(2 + 3j)(4 + 5j) = 8 + 10j + 12j + (-15) = -7 + 22j\n",
    "bolme = ks1 / ks2\n",
    "print(ks1, ks2, toplam, carpma, bolme)"
   ],
   "id": "e0bce7d4b0876e76",
   "outputs": [
    {
     "name": "stdout",
     "output_type": "stream",
     "text": [
      "(2+3j) (4+5j) (6+8j) (-7+22j) (0.5609756097560976+0.04878048780487807j)\n"
     ]
    }
   ],
   "execution_count": 18
  },
  {
   "metadata": {
    "ExecuteTime": {
     "end_time": "2025-07-22T16:27:21.154477Z",
     "start_time": "2025-07-22T16:27:21.151582Z"
    }
   },
   "cell_type": "code",
   "source": [
    "sayi1 = 4.5\n",
    "sayi2 = 7\n",
    "\n",
    "ks3 = complex(sayi1, sayi2)\n",
    "print(ks3)"
   ],
   "id": "5afe0fc9fa2c7d9c",
   "outputs": [
    {
     "name": "stdout",
     "output_type": "stream",
     "text": [
      "(4.5+7j)\n"
     ]
    }
   ],
   "execution_count": 19
  },
  {
   "metadata": {},
   "cell_type": "code",
   "source": "#ks4 = sayi1 + sayi2*j NameError alırsın complex constructor kullan",
   "id": "d18c0f2d4f7d6518",
   "outputs": [],
   "execution_count": null
  },
  {
   "metadata": {},
   "cell_type": "markdown",
   "source": [
    "Dizi halindeki veri tipleri\n",
    "\n",
    "String"
   ],
   "id": "4d407336efc386af"
  },
  {
   "metadata": {
    "ExecuteTime": {
     "end_time": "2025-07-22T16:30:05.870939Z",
     "start_time": "2025-07-22T16:30:05.867909Z"
    }
   },
   "cell_type": "code",
   "source": [
    "#Immutable yani doğrudan değiştirilemez\n",
    "karakter1 = \"F\"\n",
    "karakter2 = 'F'\n",
    "\n",
    "isim = \"Fatih Kaan\"\n",
    "print(isim)\n",
    "\n",
    "isim = isim[:6] + \"Selim\" #Dolaylı yoldan değiştirme\n",
    "print(isim)"
   ],
   "id": "6b1ac46d140ca5e0",
   "outputs": [
    {
     "name": "stdout",
     "output_type": "stream",
     "text": [
      "Fatih Kaan\n",
      "Fatih Selim\n"
     ]
    }
   ],
   "execution_count": 21
  },
  {
   "metadata": {
    "ExecuteTime": {
     "end_time": "2025-07-22T16:31:33.259997Z",
     "start_time": "2025-07-22T16:31:33.257280Z"
    }
   },
   "cell_type": "code",
   "source": [
    "#Elemanların sıra numarası yani sequence number vardır.\n",
    "\n",
    "print(isim[0])\n",
    "print(isim[1])\n",
    "\n",
    "#isim[0] = \"T\" #YAPAMAZSIN TypeError"
   ],
   "id": "5122685433581fd0",
   "outputs": [
    {
     "name": "stdout",
     "output_type": "stream",
     "text": [
      "F\n",
      "a\n"
     ]
    }
   ],
   "execution_count": 22
  },
  {
   "metadata": {},
   "cell_type": "markdown",
   "source": "Range Veri Tipi",
   "id": "cd66610a682fbb49"
  },
  {
   "metadata": {
    "ExecuteTime": {
     "end_time": "2025-07-22T16:33:04.033380Z",
     "start_time": "2025-07-22T16:33:04.031038Z"
    }
   },
   "cell_type": "code",
   "source": [
    "aralik = range(10) #[0,10) x € Z\n",
    "print(aralik, type(aralik))"
   ],
   "id": "43321d85be81e818",
   "outputs": [
    {
     "name": "stdout",
     "output_type": "stream",
     "text": [
      "range(0, 10) <class 'range'>\n"
     ]
    }
   ],
   "execution_count": 24
  },
  {
   "metadata": {
    "ExecuteTime": {
     "end_time": "2025-07-22T16:33:35.365462Z",
     "start_time": "2025-07-22T16:33:35.362860Z"
    }
   },
   "cell_type": "code",
   "source": "print(*aralik) #Tek tek değerleri oluşturup yazdırılmasını sağlayabiliriz tek tek oluşturmayı * işaretidir",
   "id": "8aaef7ac0e4e3832",
   "outputs": [
    {
     "name": "stdout",
     "output_type": "stream",
     "text": [
      "0 1 2 3 4 5 6 7 8 9\n"
     ]
    }
   ],
   "execution_count": 25
  },
  {
   "metadata": {
    "ExecuteTime": {
     "end_time": "2025-07-22T16:35:39.456686Z",
     "start_time": "2025-07-22T16:35:39.453574Z"
    }
   },
   "cell_type": "code",
   "source": [
    "print(list(aralik))\n",
    "print(tuple(aralik))\n",
    "print(set(aralik))\n",
    "print(str(aralik)) #print(\"range(0, 10)\")\n",
    "print(str(aralik)[0:5]) #print(\"range\")"
   ],
   "id": "652e3564f36dd42c",
   "outputs": [
    {
     "name": "stdout",
     "output_type": "stream",
     "text": [
      "[0, 1, 2, 3, 4, 5, 6, 7, 8, 9]\n",
      "(0, 1, 2, 3, 4, 5, 6, 7, 8, 9)\n",
      "{0, 1, 2, 3, 4, 5, 6, 7, 8, 9}\n",
      "range(0, 10)\n",
      "range\n"
     ]
    }
   ],
   "execution_count": 31
  },
  {
   "metadata": {
    "ExecuteTime": {
     "end_time": "2025-07-22T16:35:41.875648Z",
     "start_time": "2025-07-22T16:35:41.873294Z"
    }
   },
   "cell_type": "code",
   "source": [
    "listAralik = list(aralik)\n",
    "tupleAralik = tuple(aralik)\n",
    "setAralik = set(aralik)\n",
    "strAralik = str(aralik)"
   ],
   "id": "8edbc9ae024134ef",
   "outputs": [],
   "execution_count": 32
  },
  {
   "metadata": {},
   "cell_type": "code",
   "source": "print(str(*aralik)) #TypeError alırsın",
   "id": "ba34ad13d40cc6be",
   "outputs": [],
   "execution_count": null
  },
  {
   "metadata": {
    "ExecuteTime": {
     "end_time": "2025-07-22T16:36:49.216475Z",
     "start_time": "2025-07-22T16:36:49.212988Z"
    }
   },
   "cell_type": "code",
   "source": [
    "print(str(listAralik))\n",
    "print(str(listAralik)[0])\n",
    "print(str(listAralik)[1])\n",
    "print(str(listAralik)[2])\n",
    "print(str(listAralik)[3])"
   ],
   "id": "26f4a6987e44283b",
   "outputs": [
    {
     "name": "stdout",
     "output_type": "stream",
     "text": [
      "[0, 1, 2, 3, 4, 5, 6, 7, 8, 9]\n",
      "[\n",
      "0\n",
      ",\n",
      " \n"
     ]
    }
   ],
   "execution_count": 35
  },
  {
   "metadata": {},
   "cell_type": "markdown",
   "source": "range(start = 0, stop, step = 1) şeklindedir",
   "id": "310421cadda7d494"
  },
  {
   "metadata": {
    "ExecuteTime": {
     "end_time": "2025-07-22T16:38:30.875327Z",
     "start_time": "2025-07-22T16:38:30.872338Z"
    }
   },
   "cell_type": "code",
   "source": [
    "aralik = range(18, 2, 5) #Bunda bir şey yazdıramaz\n",
    "aralik = range(18, 2, -5)\n",
    "print(list(aralik))"
   ],
   "id": "745511f44b1f60a",
   "outputs": [
    {
     "name": "stdout",
     "output_type": "stream",
     "text": [
      "[18, 13, 8, 3]\n"
     ]
    }
   ],
   "execution_count": 38
  },
  {
   "metadata": {
    "ExecuteTime": {
     "end_time": "2025-07-22T16:38:45.364848Z",
     "start_time": "2025-07-22T16:38:45.361982Z"
    }
   },
   "cell_type": "code",
   "source": [
    "aralik1 = range(5, 14)\n",
    "print(list(aralik1))"
   ],
   "id": "22b3e38e4e4a6f41",
   "outputs": [
    {
     "name": "stdout",
     "output_type": "stream",
     "text": [
      "[5, 6, 7, 8, 9, 10, 11, 12, 13]\n"
     ]
    }
   ],
   "execution_count": 39
  },
  {
   "metadata": {},
   "cell_type": "markdown",
   "source": "tuple önceki derslerde işlendiği için artı bir şey işlenmedi",
   "id": "69ec57250a41ba09"
  },
  {
   "metadata": {},
   "cell_type": "markdown",
   "source": "liste önceki derslerde paralel",
   "id": "90e1b60391b039f4"
  },
  {
   "metadata": {},
   "cell_type": "markdown",
   "source": "Çok Boyutlu Liste: listenin içinde liste olması...",
   "id": "d2039c79f1e69859"
  },
  {
   "metadata": {
    "ExecuteTime": {
     "end_time": "2025-07-24T08:59:45.851831Z",
     "start_time": "2025-07-24T08:59:45.848700Z"
    }
   },
   "cell_type": "code",
   "source": [
    "isimler = [\"Fatih\", \"Kaan\", \"Selime\", \"Oya\"]\n",
    "yaslar = [35, 47, 55 ,32]\n",
    "\n",
    "bilgiler = [[\"Fatih\", 35], [\"Kaan\", 47], [\"Selime\", 55], [\"Oya\", 32]]\n",
    "\n",
    "for i in bilgiler: #Burda bir liste elde ettim ve listenin içindeki listeler aldım\n",
    "    print(i)"
   ],
   "id": "868093d6bf7803ab",
   "outputs": [
    {
     "name": "stdout",
     "output_type": "stream",
     "text": [
      "['Fatih', 35]\n",
      "['Kaan', 47]\n",
      "['Selime', 55]\n",
      "['Oya', 32]\n"
     ]
    }
   ],
   "execution_count": 8
  },
  {
   "metadata": {
    "ExecuteTime": {
     "end_time": "2025-07-24T09:00:08.766202Z",
     "start_time": "2025-07-24T09:00:08.762736Z"
    }
   },
   "cell_type": "code",
   "source": [
    "bilgiler = [[\"Fatih\", 35], [\"Kaan\", 47], [\"Selime\", 55], [\"Oya\", 32]]\n",
    "#bilgiler[i][j]\n",
    "print(bilgiler[0][0])\n",
    "print(bilgiler[0][1])"
   ],
   "id": "bf31664d6ba5112a",
   "outputs": [
    {
     "name": "stdout",
     "output_type": "stream",
     "text": [
      "Fatih\n",
      "35\n"
     ]
    }
   ],
   "execution_count": 10
  },
  {
   "metadata": {
    "ExecuteTime": {
     "end_time": "2025-07-24T09:02:37.924350Z",
     "start_time": "2025-07-24T09:02:37.922368Z"
    }
   },
   "cell_type": "code",
   "source": [
    "bilgiler2 = [({185, \"Fatih\"}),(\"İstanbul\")] #Çok boyutlu liste\n",
    "print(bilgiler2[0]) #Bir sözlük\n",
    "print(bilgiler2[1]) #Bir tuple içinde sadece bir eleman oldupu için string verdi (doğrudan ulaştık)"
   ],
   "id": "5b4bac82d4294211",
   "outputs": [
    {
     "name": "stdout",
     "output_type": "stream",
     "text": [
      "{185, 'Fatih'}\n",
      "İstanbul\n"
     ]
    }
   ],
   "execution_count": 14
  },
  {
   "metadata": {
    "ExecuteTime": {
     "end_time": "2025-07-24T09:04:56.554520Z",
     "start_time": "2025-07-24T09:04:56.551627Z"
    }
   },
   "cell_type": "code",
   "source": [
    "bilgiler2 = [({185 : \"Fatih\"}),(\"İstanbul\", \"Denizli\")]\n",
    "print(bilgiler2[0])\n",
    "print(bilgiler2[1]) #Burda iki tane eleman olduğu için bana tuple halinde verdi"
   ],
   "id": "e3aedb04c80daeae",
   "outputs": [
    {
     "name": "stdout",
     "output_type": "stream",
     "text": [
      "{185: 'Fatih'}\n",
      "('İstanbul', 'Denizli')\n"
     ]
    }
   ],
   "execution_count": 20
  },
  {
   "metadata": {
    "ExecuteTime": {
     "end_time": "2025-07-24T09:04:57.165677Z",
     "start_time": "2025-07-24T09:04:57.162440Z"
    }
   },
   "cell_type": "code",
   "source": [
    "print(bilgiler2[0])\n",
    "print(bilgiler2[1][0]) #Yaşadığı il\n",
    "print(bilgiler2[1][1]) #Doğduğu il"
   ],
   "id": "a7081396ad213ddd",
   "outputs": [
    {
     "name": "stdout",
     "output_type": "stream",
     "text": [
      "{185: 'Fatih'}\n",
      "İstanbul\n",
      "Denizli\n"
     ]
    }
   ],
   "execution_count": 21
  },
  {
   "metadata": {
    "ExecuteTime": {
     "end_time": "2025-07-24T09:05:16.976297Z",
     "start_time": "2025-07-24T09:05:16.974167Z"
    }
   },
   "cell_type": "code",
   "source": "print(bilgiler2[0][185]) #ilk ana liste içindeki ilk elemanı alıp sonrasında sözlüğün içine girdim",
   "id": "5c185c8dc0e171a4",
   "outputs": [
    {
     "name": "stdout",
     "output_type": "stream",
     "text": [
      "Fatih\n"
     ]
    }
   ],
   "execution_count": 23
  },
  {
   "metadata": {
    "ExecuteTime": {
     "end_time": "2025-07-24T09:06:46.006256Z",
     "start_time": "2025-07-24T09:06:46.003069Z"
    }
   },
   "cell_type": "code",
   "source": [
    "bilgiler2 = [({185 : \"Fatih\"},{195 : \"Melek\"}),(\"İstanbul\", \"Denizli\")] #Liste(tuple(dic()) şeklinde kırılma\n",
    "#print(bilgiler2[0][185]) #tuple içinde iki eleman olduğu için kırılamadı ondan dolayı daha da kırmamız lazım\n",
    "print(bilgiler2[0][0][185]) #Daha da kırdık\n",
    "print(bilgiler2[0][1][195]) #Aynı şekilde"
   ],
   "id": "acf03567b497042d",
   "outputs": [
    {
     "name": "stdout",
     "output_type": "stream",
     "text": [
      "Fatih\n",
      "Melek\n"
     ]
    }
   ],
   "execution_count": 26
  },
  {
   "metadata": {},
   "cell_type": "markdown",
   "source": "Set kısmında da aynı işlemler yapıldı",
   "id": "bb4a63f92c7f9370"
  },
  {
   "metadata": {},
   "cell_type": "markdown",
   "source": "Dictionary yani Sözlük",
   "id": "91a61e46bf91b633"
  },
  {
   "metadata": {
    "ExecuteTime": {
     "end_time": "2025-07-24T09:13:09.974387Z",
     "start_time": "2025-07-24T09:13:09.971408Z"
    }
   },
   "cell_type": "code",
   "source": [
    "sozluk = {1: \"Fatih\", 2: \"Kaan\", 5: \"Aliye\"}\n",
    "set1 = {\"Fatih\", \"Kaan\", \"Aliye\"} #Burada küme python böyle yazınca anlıyor"
   ],
   "id": "15b6f106fcfd5b3d",
   "outputs": [],
   "execution_count": 28
  },
  {
   "metadata": {
    "ExecuteTime": {
     "end_time": "2025-07-24T09:13:26.364762Z",
     "start_time": "2025-07-24T09:13:26.361623Z"
    }
   },
   "cell_type": "code",
   "source": "print(sozluk[5]) #Burada anahtar numarasını yazarken mutlaka [] kullanmalıyız",
   "id": "1cef127cc413ec1d",
   "outputs": [
    {
     "name": "stdout",
     "output_type": "stream",
     "text": [
      "Aliye\n"
     ]
    }
   ],
   "execution_count": 29
  },
  {
   "metadata": {},
   "cell_type": "markdown",
   "source": "get() ile anahtar değerini ve yanına istersek anahtar değeri olmadığında baskı çıkartmak için bir şey yazabiliriz",
   "id": "17bdbc3bbead76fa"
  },
  {
   "metadata": {
    "ExecuteTime": {
     "end_time": "2025-07-24T09:13:35.620909Z",
     "start_time": "2025-07-24T09:13:35.618408Z"
    }
   },
   "cell_type": "code",
   "source": "print(sozluk.get(2)) # Ya da get ile alabilirsin",
   "id": "d10776f68193cb9e",
   "outputs": [
    {
     "name": "stdout",
     "output_type": "stream",
     "text": [
      "Kaan\n"
     ]
    }
   ],
   "execution_count": 30
  },
  {
   "metadata": {
    "ExecuteTime": {
     "end_time": "2025-07-24T09:17:25.448461Z",
     "start_time": "2025-07-24T09:17:25.445578Z"
    }
   },
   "cell_type": "code",
   "source": [
    "#print(sozluk[3]) #KeyError bu anahtar değeri yok\n",
    "print(sozluk.get(3, \"Bu anahtar sozlukte bulunmamaktadır\")) #Bulunsaydı var olanı gösterir ama olmadığı için yazdığımız mesajı gösterir\n",
    "print(sozluk.get(1, \"Bu anahtar sozlukte bulunmamaktadır\"))"
   ],
   "id": "2197c3d23aa8e123",
   "outputs": [
    {
     "name": "stdout",
     "output_type": "stream",
     "text": [
      "Bu anahtar sozlukte bulunmamaktadır\n",
      "Fatih\n"
     ]
    }
   ],
   "execution_count": 32
  },
  {
   "metadata": {
    "ExecuteTime": {
     "end_time": "2025-07-24T09:18:02.747234Z",
     "start_time": "2025-07-24T09:18:02.744767Z"
    }
   },
   "cell_type": "code",
   "source": [
    "bosSozluk1 = {} #Boş bir süslü parantezi sözlük anlar\n",
    "bossozluk = dict()"
   ],
   "id": "bbf6098689adb5a8",
   "outputs": [],
   "execution_count": 34
  },
  {
   "metadata": {},
   "cell_type": "code",
   "source": "sozluk2 = dict([1, 2, 3], [\"A\", \"B\", \"C\"]) #TypeError bir argüman vereceğine iki argüman verdin",
   "id": "a1097fe1a418eb38",
   "outputs": [],
   "execution_count": null
  },
  {
   "metadata": {},
   "cell_type": "code",
   "source": "sozluk2 = dict([[1, 2, 3], [\"A\", \"B\", \"C\"]]) #ValueError ben burada eşleştirme yapamıyorum diyor",
   "id": "554c370aa4b31373",
   "outputs": [],
   "execution_count": null
  },
  {
   "metadata": {},
   "cell_type": "markdown",
   "source": "zip(): dict() içinde yazılan değerleri eşleştirmeye yarar",
   "id": "4a10d8851967ad83"
  },
  {
   "metadata": {
    "ExecuteTime": {
     "end_time": "2025-07-24T09:34:34.551214Z",
     "start_time": "2025-07-24T09:34:34.548135Z"
    }
   },
   "cell_type": "code",
   "source": [
    "anahtarlar = [1, 2, 3]\n",
    "degerler = [\"A\", \"B\", \"C\"]\n",
    "sozluk2Elemanlari = zip(anahtarlar, degerler) #ziplenmiş yani bildiğimiz rar\n",
    "print(sozluk2Elemanlari) #bize belleğini gösterir\n",
    "#print(*sozluk2Elemanlari) #bize değerleri verir"
   ],
   "id": "58453086cfcacd7a",
   "outputs": [
    {
     "name": "stdout",
     "output_type": "stream",
     "text": [
      "<zip object at 0x1148c4f00>\n"
     ]
    }
   ],
   "execution_count": 45
  },
  {
   "metadata": {
    "ExecuteTime": {
     "end_time": "2025-07-24T09:34:34.909340Z",
     "start_time": "2025-07-24T09:34:34.907432Z"
    }
   },
   "cell_type": "code",
   "source": [
    "sozluk2 = dict([(1, \"A\"),(2, \"B\"),(3, \"C\")])#tuple veya liste halinde\n",
    "print(sozluk2)\n",
    "sozluk1 = dict(sozluk2Elemanlari) #yukarıdaki yoruma alınmışı çalıştırıp sonrasında altındaki print'i kullanırsak boşa düşüyor ondan dolayı dikkatli ol bir kere kullanılınca boşa düşüyor\n",
    "print(sozluk1)"
   ],
   "id": "9ad19b7be2f6d49",
   "outputs": [
    {
     "name": "stdout",
     "output_type": "stream",
     "text": [
      "{1: 'A', 2: 'B', 3: 'C'}\n",
      "{1: 'A', 2: 'B', 3: 'C'}\n"
     ]
    }
   ],
   "execution_count": 46
  },
  {
   "metadata": {
    "ExecuteTime": {
     "end_time": "2025-07-24T09:37:06.577328Z",
     "start_time": "2025-07-24T09:37:06.575297Z"
    }
   },
   "cell_type": "code",
   "source": [
    "#Üçlü Zipleme\n",
    "keys = (\"Fatih\", \"Kaan\", \"Aliye\")\n",
    "values = ['Bilgisayar Mühendisi',\n",
    "          'Endüstri Mühendisi',\n",
    "          'Matematik Mühendisi']\n",
    "yaslar = [21, 24, 37]\n",
    "\n",
    "sozlukElemanlari = zip(keys, values, yaslar)\n",
    "print(*sozlukElemanlari)"
   ],
   "id": "1ef9e463d1cd210e",
   "outputs": [
    {
     "name": "stdout",
     "output_type": "stream",
     "text": [
      "('Fatih', 'Bilgisayar Mühendisi', 21) ('Kaan', 'Endüstri Mühendisi', 24) ('Aliye', 'Matematik Mühendisi', 37)\n"
     ]
    }
   ],
   "execution_count": 47
  },
  {
   "metadata": {
    "ExecuteTime": {
     "end_time": "2025-07-24T09:37:58.494479Z",
     "start_time": "2025-07-24T09:37:58.491173Z"
    }
   },
   "cell_type": "code",
   "source": [
    "keys = (\"Fatih\", \"Kaan\", \"Aliye\")\n",
    "values = ['Bilgisayar Mühendisi',\n",
    "          'Endüstri Mühendisi',\n",
    "          'Matematik Mühendisi']\n",
    "\n",
    "\n",
    "sozlukElemanlari = zip(keys, values)\n",
    "bilgiler = dict(sozlukElemanlari)\n",
    "print(bilgiler)"
   ],
   "id": "d25b5bc1619a7491",
   "outputs": [
    {
     "name": "stdout",
     "output_type": "stream",
     "text": [
      "{'Fatih': 'Bilgisayar Mühendisi', 'Kaan': 'Endüstri Mühendisi', 'Aliye': 'Matematik Mühendisi'}\n"
     ]
    }
   ],
   "execution_count": 49
  },
  {
   "metadata": {
    "ExecuteTime": {
     "end_time": "2025-07-24T09:38:26.494315Z",
     "start_time": "2025-07-24T09:38:26.491779Z"
    }
   },
   "cell_type": "code",
   "source": [
    "print(bilgiler[\"Kaan\"])\n",
    "print(bilgiler[\"Aliye\"])"
   ],
   "id": "a8f259959f3945fa",
   "outputs": [
    {
     "name": "stdout",
     "output_type": "stream",
     "text": [
      "Endüstri Mühendisi\n",
      "Matematik Mühendisi\n"
     ]
    }
   ],
   "execution_count": 51
  },
  {
   "metadata": {
    "ExecuteTime": {
     "end_time": "2025-07-24T09:38:52.197275Z",
     "start_time": "2025-07-24T09:38:52.195133Z"
    }
   },
   "cell_type": "code",
   "source": [
    "#Ekleme\n",
    "bilgiler[\"Mehmet\"] = \"Kimya Mühendisi\"\n",
    "print(bilgiler[\"Mehmet\"])"
   ],
   "id": "6beae65999a61c60",
   "outputs": [
    {
     "name": "stdout",
     "output_type": "stream",
     "text": [
      "Kimya Mühendisi\n"
     ]
    }
   ],
   "execution_count": 52
  },
  {
   "metadata": {
    "ExecuteTime": {
     "end_time": "2025-07-24T09:39:34.243044Z",
     "start_time": "2025-07-24T09:39:34.240816Z"
    }
   },
   "cell_type": "code",
   "source": [
    "#Güncelleme\n",
    "bilgiler[\"Mehmet\"] = \"Doktor\"\n",
    "print(bilgiler[\"Mehmet\"])"
   ],
   "id": "c4cabeb6772e422e",
   "outputs": [
    {
     "name": "stdout",
     "output_type": "stream",
     "text": [
      "Doktor\n"
     ]
    }
   ],
   "execution_count": 54
  },
  {
   "metadata": {},
   "cell_type": "code",
   "source": [
    "del bilgiler[\"Mehmet\"]\n",
    "print(bilgiler[\"Mehmet\"]) #KeyError yani silinmiş oluyor"
   ],
   "id": "30b2ff5837962b4c",
   "outputs": [],
   "execution_count": null
  },
  {
   "metadata": {
    "ExecuteTime": {
     "end_time": "2025-07-24T09:55:56.355108Z",
     "start_time": "2025-07-24T09:55:56.352556Z"
    }
   },
   "cell_type": "code",
   "source": [
    "ogrencilerDers = {\"Okan\" : \"Makine Öğrenmesi\",\n",
    "                  \"Armağan\" : {\"Bilgisayar Ağları\", \"Nesnelerin İnterneti\"}, #Eğer Armağan dersini değiştirmek istiyorsa liste kullanmalı, set kullanılabilir\n",
    "                  \"Kaan\" : {\"Makine Öğrenmesi\", \"Nesnelerin İnterneti\"},\n",
    "                  \"Fatih\" : [{'Ders Adı' : 'Veri Tabanı','Hoca': 'Gülşah'},\n",
    "                             {'Ders Adı' : 'Doğal Dil İşleme', 'Hoca' : 'Burak'}]} #Sadece dersin adı değil de dersin özelliklerini de ekledik"
   ],
   "id": "a83dd1fb8ad6f723",
   "outputs": [],
   "execution_count": 76
  },
  {
   "metadata": {
    "ExecuteTime": {
     "end_time": "2025-07-24T09:47:31.628879Z",
     "start_time": "2025-07-24T09:47:31.626699Z"
    }
   },
   "cell_type": "code",
   "source": [
    "print(ogrencilerDers[\"Okan\"])\n",
    "print(ogrencilerDers[\"Fatih\"])\n",
    "print(ogrencilerDers[\"Fatih\"][0]) #Fatihin almış olduğu ilk ders\n",
    "print(ogrencilerDers[\"Fatih\"][1]) #Fatihin almış olduğu ikinci ders\n",
    "print(ogrencilerDers[\"Fatih\"][0]['Ders Adı']) #Fatihin almış olduğu ilk dersin adı nedir?\n",
    "print(ogrencilerDers[\"Fatih\"][0]['Hoca']) #Fatihin almış olduğu ilk dersin hocasının adı nedir?"
   ],
   "id": "4ef371dcd6712dd1",
   "outputs": [
    {
     "name": "stdout",
     "output_type": "stream",
     "text": [
      "Makine Öğrenmesi\n",
      "[{'Ders Adı': 'Veri Tabanı', 'Hoca': 'Gülşah'}, {'Ders Adı': 'Doğal Dil İşleme', 'Hoca': 'Burak'}]\n",
      "{'Ders Adı': 'Veri Tabanı', 'Hoca': 'Gülşah'}\n",
      "{'Ders Adı': 'Doğal Dil İşleme', 'Hoca': 'Burak'}\n",
      "Veri Tabanı\n",
      "Gülşah\n"
     ]
    }
   ],
   "execution_count": 61
  },
  {
   "metadata": {
    "ExecuteTime": {
     "end_time": "2025-07-24T09:48:24.393971Z",
     "start_time": "2025-07-24T09:48:24.391645Z"
    }
   },
   "cell_type": "code",
   "source": [
    "baskaSozluk = ogrencilerDers.copy()\n",
    "#Fakat burada copy ile başka yere kopyalandı ve değişiklik olunca ana sözlükte değişim olmaz\n",
    "baskaSozluk['Okan'] = \"Matematik 1\""
   ],
   "id": "93840d3d44e85bb9",
   "outputs": [],
   "execution_count": 62
  },
  {
   "metadata": {
    "ExecuteTime": {
     "end_time": "2025-07-24T09:49:18.155688Z",
     "start_time": "2025-07-24T09:49:18.153256Z"
    }
   },
   "cell_type": "code",
   "source": [
    "baskaSozluk = ogrencilerDers #Burada ana sözlükteki derste gitti\n",
    "#Çünkü ikiside aynı bölgeye erişiyor yani pointer gibi düşünebilirsin\n",
    "baskaSozluk['Okan'] = \"Matematik 1\""
   ],
   "id": "dc149458b55f0027",
   "outputs": [],
   "execution_count": 63
  },
  {
   "metadata": {
    "ExecuteTime": {
     "end_time": "2025-07-24T09:51:06.998620Z",
     "start_time": "2025-07-24T09:51:06.996261Z"
    }
   },
   "cell_type": "code",
   "source": [
    "sozluk6 = dict.fromkeys([\"Ali\",\"Ahmet\",\"Aslı\"]) #Value : NoneType oluyor\n",
    "print(sozluk6)"
   ],
   "id": "5ff3e03bb7a249e",
   "outputs": [
    {
     "name": "stdout",
     "output_type": "stream",
     "text": [
      "{'Ali': None, 'Ahmet': None, 'Aslı': None}\n"
     ]
    }
   ],
   "execution_count": 65
  },
  {
   "metadata": {
    "ExecuteTime": {
     "end_time": "2025-07-24T09:51:35.800912Z",
     "start_time": "2025-07-24T09:51:35.798523Z"
    }
   },
   "cell_type": "code",
   "source": [
    "sozluk6 = dict.fromkeys([\"Ali\",\"Ahmet\",\"Aslı\"], 0) #Default değer verdik ve hepsi 0 olur\n",
    "print(sozluk6)"
   ],
   "id": "e0148b8f4eb84c5a",
   "outputs": [
    {
     "name": "stdout",
     "output_type": "stream",
     "text": [
      "{'Ali': 0, 'Ahmet': 0, 'Aslı': 0}\n"
     ]
    }
   ],
   "execution_count": 66
  },
  {
   "metadata": {
    "ExecuteTime": {
     "end_time": "2025-07-24T09:52:18.127369Z",
     "start_time": "2025-07-24T09:52:18.124045Z"
    }
   },
   "cell_type": "code",
   "source": "ogrencilerDers.items() #Bizim sözlüğümüzün tüm elemanlarını anahtar değeriyle bastırır",
   "id": "16ecda5de199edd8",
   "outputs": [
    {
     "data": {
      "text/plain": [
       "dict_items([('Okan', 'Matematik 1'), ('Armağan', {'Bilgisayar Ağları', 'Nesnelerin İnterneti'}), ('Kaan', {'Makine Öğrenmesi', 'Nesnelerin İnterneti'}), ('Fatih', [{'Ders Adı': 'Veri Tabanı', 'Hoca': 'Gülşah'}, {'Ders Adı': 'Doğal Dil İşleme', 'Hoca': 'Burak'}])])"
      ]
     },
     "execution_count": 68,
     "metadata": {},
     "output_type": "execute_result"
    }
   ],
   "execution_count": 68
  },
  {
   "metadata": {
    "ExecuteTime": {
     "end_time": "2025-07-24T09:52:52.835143Z",
     "start_time": "2025-07-24T09:52:52.832918Z"
    }
   },
   "cell_type": "code",
   "source": "ogrencilerDers.keys() #Anahtarlara ulaşım",
   "id": "953ec921ff2b14c2",
   "outputs": [
    {
     "data": {
      "text/plain": [
       "dict_keys(['Okan', 'Armağan', 'Kaan', 'Fatih'])"
      ]
     },
     "execution_count": 70,
     "metadata": {},
     "output_type": "execute_result"
    }
   ],
   "execution_count": 70
  },
  {
   "metadata": {
    "ExecuteTime": {
     "end_time": "2025-07-24T09:53:05.799614Z",
     "start_time": "2025-07-24T09:53:05.796344Z"
    }
   },
   "cell_type": "code",
   "source": "ogrencilerDers.values() #Değerlere ulaşım",
   "id": "1756799b031a295e",
   "outputs": [
    {
     "data": {
      "text/plain": [
       "dict_values(['Matematik 1', {'Bilgisayar Ağları', 'Nesnelerin İnterneti'}, {'Makine Öğrenmesi', 'Nesnelerin İnterneti'}, [{'Ders Adı': 'Veri Tabanı', 'Hoca': 'Gülşah'}, {'Ders Adı': 'Doğal Dil İşleme', 'Hoca': 'Burak'}]])"
      ]
     },
     "execution_count": 72,
     "metadata": {},
     "output_type": "execute_result"
    }
   ],
   "execution_count": 72
  },
  {
   "metadata": {
    "ExecuteTime": {
     "end_time": "2025-07-24T09:54:05.257314Z",
     "start_time": "2025-07-24T09:54:05.254666Z"
    }
   },
   "cell_type": "code",
   "source": [
    "print(30 * \"-\")\n",
    "print(ogrencilerDers)\n",
    "ogrencilerDers.pop(\"Armağan\") #Denilen eleman çıkarılır\n",
    "print(30 * \"-\")\n",
    "print(ogrencilerDers)"
   ],
   "id": "b25804796895a644",
   "outputs": [
    {
     "name": "stdout",
     "output_type": "stream",
     "text": [
      "------------------------------\n",
      "{'Okan': 'Matematik 1', 'Armağan': {'Bilgisayar Ağları', 'Nesnelerin İnterneti'}, 'Kaan': {'Makine Öğrenmesi', 'Nesnelerin İnterneti'}, 'Fatih': [{'Ders Adı': 'Veri Tabanı', 'Hoca': 'Gülşah'}, {'Ders Adı': 'Doğal Dil İşleme', 'Hoca': 'Burak'}]}\n",
      "------------------------------\n",
      "{'Okan': 'Matematik 1', 'Kaan': {'Makine Öğrenmesi', 'Nesnelerin İnterneti'}, 'Fatih': [{'Ders Adı': 'Veri Tabanı', 'Hoca': 'Gülşah'}, {'Ders Adı': 'Doğal Dil İşleme', 'Hoca': 'Burak'}]}\n"
     ]
    }
   ],
   "execution_count": 73
  },
  {
   "metadata": {
    "ExecuteTime": {
     "end_time": "2025-07-24T09:55:59.254167Z",
     "start_time": "2025-07-24T09:55:59.250455Z"
    }
   },
   "cell_type": "code",
   "source": [
    "print(ogrencilerDers)\n",
    "print(30 * \"-\")\n",
    "ogrencilerDers.popitem() #Last In First Out şeklinde son giren elemanı ilk çıkarıyor Stack gibi\n",
    "print(ogrencilerDers)\n",
    "print(30 * \"-\")\n",
    "ogrencilerDers.popitem() #Last In First Out şeklinde son giren elemanı ilk çıkarıyor Stack gibi\n",
    "print(ogrencilerDers)\n",
    "print(30 * \"-\")\n",
    "ogrencilerDers.popitem() #Last In First Out şeklinde son giren elemanı ilk çıkarıyor Stack gibi\n",
    "print(ogrencilerDers)\n",
    "print(30 * \"-\")\n",
    "ogrencilerDers.popitem() #Last In First Out şeklinde son giren elemanı ilk çıkarıyor Stack gibi\n",
    "print(ogrencilerDers)"
   ],
   "id": "619c0b22abd9e00a",
   "outputs": [
    {
     "name": "stdout",
     "output_type": "stream",
     "text": [
      "{'Okan': 'Makine Öğrenmesi', 'Armağan': {'Bilgisayar Ağları', 'Nesnelerin İnterneti'}, 'Kaan': {'Makine Öğrenmesi', 'Nesnelerin İnterneti'}, 'Fatih': [{'Ders Adı': 'Veri Tabanı', 'Hoca': 'Gülşah'}, {'Ders Adı': 'Doğal Dil İşleme', 'Hoca': 'Burak'}]}\n",
      "------------------------------\n",
      "{'Okan': 'Makine Öğrenmesi', 'Armağan': {'Bilgisayar Ağları', 'Nesnelerin İnterneti'}, 'Kaan': {'Makine Öğrenmesi', 'Nesnelerin İnterneti'}}\n",
      "------------------------------\n",
      "{'Okan': 'Makine Öğrenmesi', 'Armağan': {'Bilgisayar Ağları', 'Nesnelerin İnterneti'}}\n",
      "------------------------------\n",
      "{'Okan': 'Makine Öğrenmesi'}\n",
      "------------------------------\n",
      "{}\n"
     ]
    }
   ],
   "execution_count": 77
  },
  {
   "metadata": {
    "ExecuteTime": {
     "end_time": "2025-07-24T09:57:23.935223Z",
     "start_time": "2025-07-24T09:57:23.931805Z"
    }
   },
   "cell_type": "code",
   "source": [
    "ogrencilerDers = {\"Okan\" : \"Makine Öğrenmesi\",\n",
    "                  \"Armağan\" : {\"Bilgisayar Ağları\", \"Nesnelerin İnterneti\"}, #Eğer Armağan dersini değiştirmek istiyorsa liste kullanmalı, set kullanılabilir\n",
    "                  \"Kaan\" : {\"Makine Öğrenmesi\", \"Nesnelerin İnterneti\"},\n",
    "                  \"Fatih\" : [{'Ders Adı' : 'Veri Tabanı','Hoca': 'Gülşah'},\n",
    "                             {'Ders Adı' : 'Doğal Dil İşleme', 'Hoca' : 'Burak'}]} #Sadece dersin adı değil de dersin özelliklerini de ekledik\n",
    "\n",
    "ogrencilerDers.setdefault(\"Okan\", \"Ders Almadı\") #Daha önceden listede olduğu için bir değişiklik olmaz\n",
    "print(ogrencilerDers)\n",
    "ogrencilerDers.setdefault(\"Mehmet\", \"Ders Almadı\") #Ama önceden listede olmadığı için ondan dolayı default olarak atadık\n",
    "print(ogrencilerDers)"
   ],
   "id": "e55e1bb96b78db76",
   "outputs": [
    {
     "name": "stdout",
     "output_type": "stream",
     "text": [
      "{'Okan': 'Makine Öğrenmesi', 'Armağan': {'Bilgisayar Ağları', 'Nesnelerin İnterneti'}, 'Kaan': {'Makine Öğrenmesi', 'Nesnelerin İnterneti'}, 'Fatih': [{'Ders Adı': 'Veri Tabanı', 'Hoca': 'Gülşah'}, {'Ders Adı': 'Doğal Dil İşleme', 'Hoca': 'Burak'}]}\n",
      "{'Okan': 'Makine Öğrenmesi', 'Armağan': {'Bilgisayar Ağları', 'Nesnelerin İnterneti'}, 'Kaan': {'Makine Öğrenmesi', 'Nesnelerin İnterneti'}, 'Fatih': [{'Ders Adı': 'Veri Tabanı', 'Hoca': 'Gülşah'}, {'Ders Adı': 'Doğal Dil İşleme', 'Hoca': 'Burak'}], 'Mehmet': 'Ders Almadı'}\n"
     ]
    }
   ],
   "execution_count": 79
  },
  {
   "metadata": {
    "ExecuteTime": {
     "end_time": "2025-07-24T09:58:27.410225Z",
     "start_time": "2025-07-24T09:58:27.407519Z"
    }
   },
   "cell_type": "code",
   "source": [
    "sozluk7 = {\"Ahmet\" : \"Bilgisayar 1\"}\n",
    "ogrencilerDers.update(sozluk7)\n",
    "print(ogrencilerDers)"
   ],
   "id": "1b03011ae84525ff",
   "outputs": [
    {
     "name": "stdout",
     "output_type": "stream",
     "text": [
      "{'Okan': 'Makine Öğrenmesi', 'Armağan': {'Bilgisayar Ağları', 'Nesnelerin İnterneti'}, 'Kaan': {'Makine Öğrenmesi', 'Nesnelerin İnterneti'}, 'Fatih': [{'Ders Adı': 'Veri Tabanı', 'Hoca': 'Gülşah'}, {'Ders Adı': 'Doğal Dil İşleme', 'Hoca': 'Burak'}], 'Mehmet': 'Ders Almadı', 'Ahmet': 'Bilgisayar 1'}\n"
     ]
    }
   ],
   "execution_count": 80
  },
  {
   "metadata": {
    "ExecuteTime": {
     "end_time": "2025-07-24T09:59:32.748651Z",
     "start_time": "2025-07-24T09:59:32.746049Z"
    }
   },
   "cell_type": "code",
   "source": [
    "sozluk8 = {\"Yeliz\" : \"Yüksek Matematik 1\"}\n",
    "#ogrencilerDers += sozluk8 Bu şekilde birleştirme yapılamaz TypeError\n",
    "#Bunun yerine update kullan\n",
    "ogrencilerDers.update(sozluk8)\n",
    "print(ogrencilerDers)"
   ],
   "id": "ab22e566a1712361",
   "outputs": [
    {
     "name": "stdout",
     "output_type": "stream",
     "text": [
      "{'Okan': 'Makine Öğrenmesi', 'Armağan': {'Bilgisayar Ağları', 'Nesnelerin İnterneti'}, 'Kaan': {'Makine Öğrenmesi', 'Nesnelerin İnterneti'}, 'Fatih': [{'Ders Adı': 'Veri Tabanı', 'Hoca': 'Gülşah'}, {'Ders Adı': 'Doğal Dil İşleme', 'Hoca': 'Burak'}], 'Mehmet': 'Ders Almadı', 'Ahmet': 'Bilgisayar 1', 'Yeliz': 'Yüksek Matematik 1'}\n"
     ]
    }
   ],
   "execution_count": 81
  },
  {
   "metadata": {},
   "cell_type": "code",
   "outputs": [],
   "execution_count": null,
   "source": [
    "sozluk = {1:\"BİR\",2:\"İKİ\",1:\"ÜÇ\",2:\"DÖRT\"}\n",
    "\n",
    "print(sozluk[1])\n",
    "#Aynı anahtarı birden fazla kullanırsan en son eklenen baz alınır"
   ],
   "id": "4f3c9c1ca143e5fb"
  }
 ],
 "metadata": {
  "kernelspec": {
   "display_name": "Python 3",
   "language": "python",
   "name": "python3"
  },
  "language_info": {
   "codemirror_mode": {
    "name": "ipython",
    "version": 2
   },
   "file_extension": ".py",
   "mimetype": "text/x-python",
   "name": "python",
   "nbconvert_exporter": "python",
   "pygments_lexer": "ipython2",
   "version": "2.7.6"
  }
 },
 "nbformat": 4,
 "nbformat_minor": 5
}
