{
 "cells": [
  {
   "metadata": {},
   "cell_type": "markdown",
   "source": [
    "NoneType yani None Tipi\n",
    "\n",
    "**Numeric (Sayısal Tipler) Giriş**\n",
    "\n",
    "Int, float\n",
    "\n",
    "bool\n",
    "\n",
    "complex (kompleks sayılar)\n",
    "\n",
    "----------\n",
    "**Dizi Halindeki Veri Tiplerine Giriş**\n",
    "\n",
    "List (Liste)\n",
    "\n",
    "Tuple (Demet)\n",
    "\n",
    "String (Karakter Dizisi)\n",
    "\n",
    "Range (Aralık)\n",
    "\n",
    "Dictionary (Sözlük)"
   ],
   "id": "5680d454a8c08052"
  },
  {
   "metadata": {},
   "cell_type": "markdown",
   "source": "NoneType yani None Tipi",
   "id": "32f9b4ee8abed1a2"
  },
  {
   "cell_type": "code",
   "id": "initial_id",
   "metadata": {
    "collapsed": true,
    "ExecuteTime": {
     "end_time": "2025-07-22T16:17:27.414466Z",
     "start_time": "2025-07-22T16:17:27.411160Z"
    }
   },
   "source": [
    "sehir = None #Daha sonradan veri tipini belirleyeceğiz ama şimdilik boş dursun diyoruz\n",
    "print(type(sehir))\n",
    "sehir = \"İstanbul\"\n",
    "print(type(sehir))"
   ],
   "outputs": [
    {
     "name": "stdout",
     "output_type": "stream",
     "text": [
      "<class 'NoneType'>\n",
      "<class 'str'>\n"
     ]
    }
   ],
   "execution_count": 2
  },
  {
   "metadata": {},
   "cell_type": "markdown",
   "source": [
    "Sayısal Tiplere Giriş\n",
    "\n",
    "int, float"
   ],
   "id": "c3303c4d88bab684"
  },
  {
   "metadata": {
    "ExecuteTime": {
     "end_time": "2025-07-22T16:19:35.234723Z",
     "start_time": "2025-07-22T16:19:35.231602Z"
    }
   },
   "cell_type": "code",
   "source": [
    "x = 10\n",
    "y = int(15) # 15"
   ],
   "id": "fb3b0b7b9d42c310",
   "outputs": [],
   "execution_count": 5
  },
  {
   "metadata": {
    "ExecuteTime": {
     "end_time": "2025-07-22T16:19:35.770574Z",
     "start_time": "2025-07-22T16:19:35.767798Z"
    }
   },
   "cell_type": "code",
   "source": [
    "z = 10.7\n",
    "t = float(17.8) # 17.8"
   ],
   "id": "dcb29b5f04dabd52",
   "outputs": [],
   "execution_count": 6
  },
  {
   "metadata": {
    "ExecuteTime": {
     "end_time": "2025-07-22T16:20:08.448093Z",
     "start_time": "2025-07-22T16:20:08.445408Z"
    }
   },
   "cell_type": "code",
   "source": [
    "x1 = float(x)\n",
    "z1 = int(z)\n",
    "print(x1, z1)"
   ],
   "id": "a71a239b489df01d",
   "outputs": [
    {
     "name": "stdout",
     "output_type": "stream",
     "text": [
      "10.0 10\n"
     ]
    }
   ],
   "execution_count": 7
  },
  {
   "metadata": {},
   "cell_type": "markdown",
   "source": "bool",
   "id": "e416e79b04dac189"
  },
  {
   "metadata": {
    "ExecuteTime": {
     "end_time": "2025-07-22T16:23:39.565019Z",
     "start_time": "2025-07-22T16:23:39.561833Z"
    }
   },
   "cell_type": "code",
   "source": [
    "anahtar1 = True\n",
    "anahtar2 = False\n",
    "k1 = 3 < 4 #True\n",
    "anahtar3 = bool(True)\n",
    "anahtar4 = bool(False)\n",
    "anahtar5 = bool(10)\n",
    "anahtar6 = bool(1.2)\n",
    "anahtar7 = bool(-6)\n",
    "anahtar8 = bool(0.0)\n",
    "anahtar9 = bool(0)\n",
    "print(anahtar1, anahtar2, anahtar3, anahtar4,anahtar5, anahtar6, anahtar7,anahtar8,anahtar9)"
   ],
   "id": "cbf67471710dc8b0",
   "outputs": [
    {
     "name": "stdout",
     "output_type": "stream",
     "text": [
      "True False True False True True True False False\n"
     ]
    }
   ],
   "execution_count": 13
  },
  {
   "metadata": {
    "ExecuteTime": {
     "end_time": "2025-07-22T16:24:13.654707Z",
     "start_time": "2025-07-22T16:24:13.651660Z"
    }
   },
   "cell_type": "code",
   "source": [
    "anahtar10 = float(True)\n",
    "anahtar11 = float(False)\n",
    "\n",
    "anahtar12 = int(True)\n",
    "anahtar13 = int(False)\n",
    "\n",
    "print(anahtar10, anahtar11, anahtar12, anahtar13)"
   ],
   "id": "871db2be17e586f",
   "outputs": [
    {
     "name": "stdout",
     "output_type": "stream",
     "text": [
      "1.0 0.0 1 0\n"
     ]
    }
   ],
   "execution_count": 14
  },
  {
   "metadata": {},
   "cell_type": "markdown",
   "source": "Karmaşık Sayılar",
   "id": "54f54f9d2cf6f797"
  },
  {
   "metadata": {
    "ExecuteTime": {
     "end_time": "2025-07-22T16:25:32.090471Z",
     "start_time": "2025-07-22T16:25:32.087221Z"
    }
   },
   "cell_type": "code",
   "source": [
    "ks1 = 2 + 3j\n",
    "ks2 = complex(4, 5) # 4 + 5j"
   ],
   "id": "42a9705d5a265753",
   "outputs": [],
   "execution_count": 16
  },
  {
   "metadata": {
    "ExecuteTime": {
     "end_time": "2025-07-22T16:26:58.942645Z",
     "start_time": "2025-07-22T16:26:58.939522Z"
    }
   },
   "cell_type": "code",
   "source": [
    "toplam = ks1 + ks2\n",
    "carpma = ks1 * ks2 #(2 + 3j)(4 + 5j) = 8 + 10j + 12j + (-15) = -7 + 22j\n",
    "bolme = ks1 / ks2\n",
    "print(ks1, ks2, toplam, carpma, bolme)"
   ],
   "id": "e0bce7d4b0876e76",
   "outputs": [
    {
     "name": "stdout",
     "output_type": "stream",
     "text": [
      "(2+3j) (4+5j) (6+8j) (-7+22j) (0.5609756097560976+0.04878048780487807j)\n"
     ]
    }
   ],
   "execution_count": 18
  },
  {
   "metadata": {
    "ExecuteTime": {
     "end_time": "2025-07-22T16:27:21.154477Z",
     "start_time": "2025-07-22T16:27:21.151582Z"
    }
   },
   "cell_type": "code",
   "source": [
    "sayi1 = 4.5\n",
    "sayi2 = 7\n",
    "\n",
    "ks3 = complex(sayi1, sayi2)\n",
    "print(ks3)"
   ],
   "id": "5afe0fc9fa2c7d9c",
   "outputs": [
    {
     "name": "stdout",
     "output_type": "stream",
     "text": [
      "(4.5+7j)\n"
     ]
    }
   ],
   "execution_count": 19
  },
  {
   "metadata": {},
   "cell_type": "code",
   "source": "#ks4 = sayi1 + sayi2*j NameError alırsın complex constructor kullan",
   "id": "d18c0f2d4f7d6518",
   "outputs": [],
   "execution_count": null
  },
  {
   "metadata": {},
   "cell_type": "markdown",
   "source": [
    "Dizi halindeki veri tipleri\n",
    "\n",
    "String"
   ],
   "id": "4d407336efc386af"
  },
  {
   "metadata": {
    "ExecuteTime": {
     "end_time": "2025-07-22T16:30:05.870939Z",
     "start_time": "2025-07-22T16:30:05.867909Z"
    }
   },
   "cell_type": "code",
   "source": [
    "#Immutable yani doğrudan değiştirilemez\n",
    "karakter1 = \"F\"\n",
    "karakter2 = 'F'\n",
    "\n",
    "isim = \"Fatih Kaan\"\n",
    "print(isim)\n",
    "\n",
    "isim = isim[:6] + \"Selim\" #Dolaylı yoldan değiştirme\n",
    "print(isim)"
   ],
   "id": "6b1ac46d140ca5e0",
   "outputs": [
    {
     "name": "stdout",
     "output_type": "stream",
     "text": [
      "Fatih Kaan\n",
      "Fatih Selim\n"
     ]
    }
   ],
   "execution_count": 21
  },
  {
   "metadata": {
    "ExecuteTime": {
     "end_time": "2025-07-22T16:31:33.259997Z",
     "start_time": "2025-07-22T16:31:33.257280Z"
    }
   },
   "cell_type": "code",
   "source": [
    "#Elemanların sıra numarası yani sequence number vardır.\n",
    "\n",
    "print(isim[0])\n",
    "print(isim[1])\n",
    "\n",
    "#isim[0] = \"T\" #YAPAMAZSIN TypeError"
   ],
   "id": "5122685433581fd0",
   "outputs": [
    {
     "name": "stdout",
     "output_type": "stream",
     "text": [
      "F\n",
      "a\n"
     ]
    }
   ],
   "execution_count": 22
  },
  {
   "metadata": {},
   "cell_type": "markdown",
   "source": "Range Veri Tipi",
   "id": "cd66610a682fbb49"
  },
  {
   "metadata": {
    "ExecuteTime": {
     "end_time": "2025-07-22T16:33:04.033380Z",
     "start_time": "2025-07-22T16:33:04.031038Z"
    }
   },
   "cell_type": "code",
   "source": [
    "aralik = range(10) #[0,10) x € Z\n",
    "print(aralik, type(aralik))"
   ],
   "id": "43321d85be81e818",
   "outputs": [
    {
     "name": "stdout",
     "output_type": "stream",
     "text": [
      "range(0, 10) <class 'range'>\n"
     ]
    }
   ],
   "execution_count": 24
  },
  {
   "metadata": {
    "ExecuteTime": {
     "end_time": "2025-07-22T16:33:35.365462Z",
     "start_time": "2025-07-22T16:33:35.362860Z"
    }
   },
   "cell_type": "code",
   "source": "print(*aralik) #Tek tek değerleri oluşturup yazdırılmasını sağlayabiliriz tek tek oluşturmayı * işaretidir",
   "id": "8aaef7ac0e4e3832",
   "outputs": [
    {
     "name": "stdout",
     "output_type": "stream",
     "text": [
      "0 1 2 3 4 5 6 7 8 9\n"
     ]
    }
   ],
   "execution_count": 25
  },
  {
   "metadata": {
    "ExecuteTime": {
     "end_time": "2025-07-22T16:35:39.456686Z",
     "start_time": "2025-07-22T16:35:39.453574Z"
    }
   },
   "cell_type": "code",
   "source": [
    "print(list(aralik))\n",
    "print(tuple(aralik))\n",
    "print(set(aralik))\n",
    "print(str(aralik)) #print(\"range(0, 10)\")\n",
    "print(str(aralik)[0:5]) #print(\"range\")"
   ],
   "id": "652e3564f36dd42c",
   "outputs": [
    {
     "name": "stdout",
     "output_type": "stream",
     "text": [
      "[0, 1, 2, 3, 4, 5, 6, 7, 8, 9]\n",
      "(0, 1, 2, 3, 4, 5, 6, 7, 8, 9)\n",
      "{0, 1, 2, 3, 4, 5, 6, 7, 8, 9}\n",
      "range(0, 10)\n",
      "range\n"
     ]
    }
   ],
   "execution_count": 31
  },
  {
   "metadata": {
    "ExecuteTime": {
     "end_time": "2025-07-22T16:35:41.875648Z",
     "start_time": "2025-07-22T16:35:41.873294Z"
    }
   },
   "cell_type": "code",
   "source": [
    "listAralik = list(aralik)\n",
    "tupleAralik = tuple(aralik)\n",
    "setAralik = set(aralik)\n",
    "strAralik = str(aralik)"
   ],
   "id": "8edbc9ae024134ef",
   "outputs": [],
   "execution_count": 32
  },
  {
   "metadata": {},
   "cell_type": "code",
   "source": "print(str(*aralik)) #TypeError alırsın",
   "id": "ba34ad13d40cc6be",
   "outputs": [],
   "execution_count": null
  },
  {
   "metadata": {
    "ExecuteTime": {
     "end_time": "2025-07-22T16:36:49.216475Z",
     "start_time": "2025-07-22T16:36:49.212988Z"
    }
   },
   "cell_type": "code",
   "source": [
    "print(str(listAralik))\n",
    "print(str(listAralik)[0])\n",
    "print(str(listAralik)[1])\n",
    "print(str(listAralik)[2])\n",
    "print(str(listAralik)[3])"
   ],
   "id": "26f4a6987e44283b",
   "outputs": [
    {
     "name": "stdout",
     "output_type": "stream",
     "text": [
      "[0, 1, 2, 3, 4, 5, 6, 7, 8, 9]\n",
      "[\n",
      "0\n",
      ",\n",
      " \n"
     ]
    }
   ],
   "execution_count": 35
  },
  {
   "metadata": {},
   "cell_type": "markdown",
   "source": "range(start = 0, stop, step = 1) şeklindedir",
   "id": "310421cadda7d494"
  },
  {
   "metadata": {
    "ExecuteTime": {
     "end_time": "2025-07-22T16:38:30.875327Z",
     "start_time": "2025-07-22T16:38:30.872338Z"
    }
   },
   "cell_type": "code",
   "source": [
    "aralik = range(18, 2, 5) #Bunda bir şey yazdıramaz\n",
    "aralik = range(18, 2, -5)\n",
    "print(list(aralik))"
   ],
   "id": "745511f44b1f60a",
   "outputs": [
    {
     "name": "stdout",
     "output_type": "stream",
     "text": [
      "[18, 13, 8, 3]\n"
     ]
    }
   ],
   "execution_count": 38
  },
  {
   "metadata": {
    "ExecuteTime": {
     "end_time": "2025-07-22T16:38:45.364848Z",
     "start_time": "2025-07-22T16:38:45.361982Z"
    }
   },
   "cell_type": "code",
   "source": [
    "aralik1 = range(5, 14)\n",
    "print(list(aralik1))"
   ],
   "id": "22b3e38e4e4a6f41",
   "outputs": [
    {
     "name": "stdout",
     "output_type": "stream",
     "text": [
      "[5, 6, 7, 8, 9, 10, 11, 12, 13]\n"
     ]
    }
   ],
   "execution_count": 39
  }
 ],
 "metadata": {
  "kernelspec": {
   "display_name": "Python 3",
   "language": "python",
   "name": "python3"
  },
  "language_info": {
   "codemirror_mode": {
    "name": "ipython",
    "version": 2
   },
   "file_extension": ".py",
   "mimetype": "text/x-python",
   "name": "python",
   "nbconvert_exporter": "python",
   "pygments_lexer": "ipython2",
   "version": "2.7.6"
  }
 },
 "nbformat": 4,
 "nbformat_minor": 5
}
