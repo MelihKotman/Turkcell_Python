{
 "cells": [
  {
   "metadata": {},
   "cell_type": "markdown",
   "source": "Aritmetik Operatörler",
   "id": "63a64670a8229a07"
  },
  {
   "cell_type": "code",
   "id": "initial_id",
   "metadata": {
    "collapsed": true,
    "ExecuteTime": {
     "end_time": "2025-07-22T14:14:30.364742Z",
     "start_time": "2025-07-22T14:14:30.361540Z"
    }
   },
   "source": [
    "sayi1 = 12\n",
    "sayi2 = 5"
   ],
   "outputs": [],
   "execution_count": 6
  },
  {
   "metadata": {
    "ExecuteTime": {
     "end_time": "2025-07-22T14:14:31.034487Z",
     "start_time": "2025-07-22T14:14:31.032097Z"
    }
   },
   "cell_type": "code",
   "source": [
    "#Addition - Toplama\n",
    "print(sayi1 + sayi2)"
   ],
   "id": "1a231d361cc5afdf",
   "outputs": [
    {
     "name": "stdout",
     "output_type": "stream",
     "text": [
      "17\n"
     ]
    }
   ],
   "execution_count": 7
  },
  {
   "metadata": {
    "ExecuteTime": {
     "end_time": "2025-07-22T14:14:31.465736Z",
     "start_time": "2025-07-22T14:14:31.463355Z"
    }
   },
   "cell_type": "code",
   "source": [
    "#Substraction - Çıkarma\n",
    "print(sayi1 - sayi2)"
   ],
   "id": "3ac1758453190a87",
   "outputs": [
    {
     "name": "stdout",
     "output_type": "stream",
     "text": [
      "7\n"
     ]
    }
   ],
   "execution_count": 8
  },
  {
   "metadata": {
    "ExecuteTime": {
     "end_time": "2025-07-22T14:14:31.981003Z",
     "start_time": "2025-07-22T14:14:31.978767Z"
    }
   },
   "cell_type": "code",
   "source": [
    "#Multiplication - Çarpma\n",
    "print(sayi1 * sayi2)"
   ],
   "id": "eb5cdb9f2b0dd7e1",
   "outputs": [
    {
     "name": "stdout",
     "output_type": "stream",
     "text": [
      "60\n"
     ]
    }
   ],
   "execution_count": 9
  },
  {
   "metadata": {
    "ExecuteTime": {
     "end_time": "2025-07-22T14:14:32.629388Z",
     "start_time": "2025-07-22T14:14:32.626850Z"
    }
   },
   "cell_type": "code",
   "source": [
    "#Divison - Bölme\n",
    "print(sayi1 / sayi2)"
   ],
   "id": "e41954acdc197f19",
   "outputs": [
    {
     "name": "stdout",
     "output_type": "stream",
     "text": [
      "2.4\n"
     ]
    }
   ],
   "execution_count": 10
  },
  {
   "metadata": {
    "ExecuteTime": {
     "end_time": "2025-07-22T14:14:53.663788Z",
     "start_time": "2025-07-22T14:14:53.661549Z"
    }
   },
   "cell_type": "code",
   "source": [
    "#Modulus - Modül/Mod Alma\n",
    "print(sayi1 % sayi2)"
   ],
   "id": "f8a045be31fabe46",
   "outputs": [
    {
     "name": "stdout",
     "output_type": "stream",
     "text": [
      "2\n"
     ]
    }
   ],
   "execution_count": 11
  },
  {
   "metadata": {
    "ExecuteTime": {
     "end_time": "2025-07-22T14:15:48.070355Z",
     "start_time": "2025-07-22T14:15:48.068225Z"
    }
   },
   "cell_type": "code",
   "source": [
    "#Exponentiation - Üs Alma\n",
    "print(sayi1 ** sayi2)"
   ],
   "id": "705de910a4a44164",
   "outputs": [
    {
     "name": "stdout",
     "output_type": "stream",
     "text": [
      "248832\n"
     ]
    }
   ],
   "execution_count": 12
  },
  {
   "metadata": {
    "ExecuteTime": {
     "end_time": "2025-07-22T14:16:16.978773Z",
     "start_time": "2025-07-22T14:16:16.976114Z"
    }
   },
   "cell_type": "code",
   "source": [
    "#Floor/Integer Division - Yuvarlama Bölme\n",
    "print(sayi1 // sayi2)"
   ],
   "id": "4ed3d0ee955a059d",
   "outputs": [
    {
     "name": "stdout",
     "output_type": "stream",
     "text": [
      "2\n"
     ]
    }
   ],
   "execution_count": 14
  },
  {
   "metadata": {},
   "cell_type": "markdown",
   "source": "Atama Operatörü",
   "id": "7b57ff9caba41031"
  },
  {
   "metadata": {
    "ExecuteTime": {
     "end_time": "2025-07-22T14:22:50.022596Z",
     "start_time": "2025-07-22T14:22:50.019427Z"
    }
   },
   "cell_type": "code",
   "source": [
    "sayi1 = 10 #Bu bir atama operatörüdür\n",
    "isim = \"Melek\""
   ],
   "id": "f91794089693daca",
   "outputs": [],
   "execution_count": 39
  },
  {
   "metadata": {
    "ExecuteTime": {
     "end_time": "2025-07-22T14:22:50.430622Z",
     "start_time": "2025-07-22T14:22:50.427650Z"
    }
   },
   "cell_type": "code",
   "source": [
    "sayi1 = sayi1 + 7 #Ekleme operatör\n",
    "print(sayi1) #Int"
   ],
   "id": "9c0735f20655f4f8",
   "outputs": [
    {
     "name": "stdout",
     "output_type": "stream",
     "text": [
      "17\n"
     ]
    }
   ],
   "execution_count": 40
  },
  {
   "metadata": {
    "ExecuteTime": {
     "end_time": "2025-07-22T14:22:50.919239Z",
     "start_time": "2025-07-22T14:22:50.916583Z"
    }
   },
   "cell_type": "code",
   "source": [
    "sayi1 += 7 #Bu şekilde daha kolay ekleyerek operatör\n",
    "print(sayi1) #Int"
   ],
   "id": "1e11b4c3aff16f1a",
   "outputs": [
    {
     "name": "stdout",
     "output_type": "stream",
     "text": [
      "24\n"
     ]
    }
   ],
   "execution_count": 41
  },
  {
   "metadata": {
    "ExecuteTime": {
     "end_time": "2025-07-22T14:22:51.695109Z",
     "start_time": "2025-07-22T14:22:51.692637Z"
    }
   },
   "cell_type": "code",
   "source": [
    "sayi1 = sayi1 - 3\n",
    "print(sayi1) #Int"
   ],
   "id": "81274b6b0ebc58ec",
   "outputs": [
    {
     "name": "stdout",
     "output_type": "stream",
     "text": [
      "21\n"
     ]
    }
   ],
   "execution_count": 42
  },
  {
   "metadata": {
    "ExecuteTime": {
     "end_time": "2025-07-22T14:22:52.146382Z",
     "start_time": "2025-07-22T14:22:52.143841Z"
    }
   },
   "cell_type": "code",
   "source": [
    "sayi1 -= 3 #Çıkarma\n",
    "print(sayi1) #Int"
   ],
   "id": "25961706ed898846",
   "outputs": [
    {
     "name": "stdout",
     "output_type": "stream",
     "text": [
      "18\n"
     ]
    }
   ],
   "execution_count": 43
  },
  {
   "metadata": {
    "ExecuteTime": {
     "end_time": "2025-07-22T14:22:52.917377Z",
     "start_time": "2025-07-22T14:22:52.914685Z"
    }
   },
   "cell_type": "code",
   "source": [
    "sayi1 *= 3 #Çarpma\n",
    "print(sayi1) #Int"
   ],
   "id": "4e5f1b393e0c68d2",
   "outputs": [
    {
     "name": "stdout",
     "output_type": "stream",
     "text": [
      "54\n"
     ]
    }
   ],
   "execution_count": 44
  },
  {
   "metadata": {
    "ExecuteTime": {
     "end_time": "2025-07-22T14:22:01.659042Z",
     "start_time": "2025-07-22T14:22:01.656201Z"
    }
   },
   "cell_type": "code",
   "source": [
    "sayi1 /= 3\n",
    "print(sayi1) #Float"
   ],
   "id": "b7d03b3f653b04a",
   "outputs": [
    {
     "name": "stdout",
     "output_type": "stream",
     "text": [
      "18.0\n"
     ]
    }
   ],
   "execution_count": 35
  },
  {
   "metadata": {
    "ExecuteTime": {
     "end_time": "2025-07-22T14:22:55.104062Z",
     "start_time": "2025-07-22T14:22:55.101221Z"
    }
   },
   "cell_type": "code",
   "source": [
    "sayi1 %= 3\n",
    "print(sayi1) #Int değer olursa int çıkar"
   ],
   "id": "a02b9b242df07a12",
   "outputs": [
    {
     "name": "stdout",
     "output_type": "stream",
     "text": [
      "0\n"
     ]
    }
   ],
   "execution_count": 45
  },
  {
   "metadata": {
    "ExecuteTime": {
     "end_time": "2025-07-22T14:22:56.602824Z",
     "start_time": "2025-07-22T14:22:56.599608Z"
    }
   },
   "cell_type": "code",
   "source": [
    "sayi1 **= 3\n",
    "print(sayi1) #Int"
   ],
   "id": "ca2fc27a5920c94b",
   "outputs": [
    {
     "name": "stdout",
     "output_type": "stream",
     "text": [
      "0\n"
     ]
    }
   ],
   "execution_count": 46
  },
  {
   "metadata": {
    "ExecuteTime": {
     "end_time": "2025-07-22T14:22:58.406228Z",
     "start_time": "2025-07-22T14:22:58.402943Z"
    }
   },
   "cell_type": "code",
   "source": [
    "sayi1 //= 3\n",
    "print(sayi1) #Int"
   ],
   "id": "ac0756f894dd2610",
   "outputs": [
    {
     "name": "stdout",
     "output_type": "stream",
     "text": [
      "0\n"
     ]
    }
   ],
   "execution_count": 47
  },
  {
   "metadata": {},
   "cell_type": "markdown",
   "source": "Karşılaştırma Operatörleri : Sonucu True veya False şeklindedir",
   "id": "27737ad8d4b9f972"
  },
  {
   "metadata": {
    "ExecuteTime": {
     "end_time": "2025-07-22T14:23:27.261487Z",
     "start_time": "2025-07-22T14:23:27.259446Z"
    }
   },
   "cell_type": "code",
   "source": [
    "a = 10\n",
    "b = 15\n",
    "c = 20\n",
    "d = 20"
   ],
   "id": "2595f4ece19d2383",
   "outputs": [],
   "execution_count": 48
  },
  {
   "metadata": {
    "ExecuteTime": {
     "end_time": "2025-07-22T14:24:12.551089Z",
     "start_time": "2025-07-22T14:24:12.548222Z"
    }
   },
   "cell_type": "code",
   "source": "print(a == b) #Eşitlik operatörü",
   "id": "ac52bba658536ecf",
   "outputs": [
    {
     "name": "stdout",
     "output_type": "stream",
     "text": [
      "False\n"
     ]
    }
   ],
   "execution_count": 49
  },
  {
   "metadata": {
    "ExecuteTime": {
     "end_time": "2025-07-22T14:25:24.887457Z",
     "start_time": "2025-07-22T14:25:24.882880Z"
    }
   },
   "cell_type": "code",
   "source": "type(a == b)",
   "id": "93ec23269896921b",
   "outputs": [
    {
     "data": {
      "text/plain": [
       "bool"
      ]
     },
     "execution_count": 52,
     "metadata": {},
     "output_type": "execute_result"
    }
   ],
   "execution_count": 52
  },
  {
   "metadata": {
    "ExecuteTime": {
     "end_time": "2025-07-22T14:24:33.423717Z",
     "start_time": "2025-07-22T14:24:33.421248Z"
    }
   },
   "cell_type": "code",
   "source": "print(c == d) #Eşitlik operatörü",
   "id": "35685d6d19b35ff",
   "outputs": [
    {
     "name": "stdout",
     "output_type": "stream",
     "text": [
      "True\n"
     ]
    }
   ],
   "execution_count": 50
  },
  {
   "metadata": {
    "ExecuteTime": {
     "end_time": "2025-07-22T14:25:31.685301Z",
     "start_time": "2025-07-22T14:25:31.681769Z"
    }
   },
   "cell_type": "code",
   "source": "type(c == d)",
   "id": "940e265c7a2b49bc",
   "outputs": [
    {
     "data": {
      "text/plain": [
       "bool"
      ]
     },
     "execution_count": 53,
     "metadata": {},
     "output_type": "execute_result"
    }
   ],
   "execution_count": 53
  },
  {
   "metadata": {
    "ExecuteTime": {
     "end_time": "2025-07-22T14:31:22.571890Z",
     "start_time": "2025-07-22T14:31:22.569595Z"
    }
   },
   "cell_type": "code",
   "source": "print(\"{} == {} = {} \".format(a, b, a == b))",
   "id": "c4c522a407b5409",
   "outputs": [
    {
     "name": "stdout",
     "output_type": "stream",
     "text": [
      "10 == 15 = False \n"
     ]
    }
   ],
   "execution_count": 78
  },
  {
   "metadata": {
    "ExecuteTime": {
     "end_time": "2025-07-22T14:25:08.501835Z",
     "start_time": "2025-07-22T14:25:08.498881Z"
    }
   },
   "cell_type": "code",
   "source": "print(a != b) #Eşit Değil Mi? operatörü",
   "id": "c2b9aefb55d66759",
   "outputs": [
    {
     "name": "stdout",
     "output_type": "stream",
     "text": [
      "True\n"
     ]
    }
   ],
   "execution_count": 51
  },
  {
   "metadata": {
    "ExecuteTime": {
     "end_time": "2025-07-22T14:26:01.473009Z",
     "start_time": "2025-07-22T14:26:01.470252Z"
    }
   },
   "cell_type": "code",
   "source": "type(a != b)",
   "id": "148476289fb639d0",
   "outputs": [
    {
     "data": {
      "text/plain": [
       "bool"
      ]
     },
     "execution_count": 55,
     "metadata": {},
     "output_type": "execute_result"
    }
   ],
   "execution_count": 55
  },
  {
   "metadata": {
    "ExecuteTime": {
     "end_time": "2025-07-22T14:25:48.236187Z",
     "start_time": "2025-07-22T14:25:48.233830Z"
    }
   },
   "cell_type": "code",
   "source": "print(c != d)",
   "id": "d187d8c2c937445",
   "outputs": [
    {
     "name": "stdout",
     "output_type": "stream",
     "text": [
      "False\n"
     ]
    }
   ],
   "execution_count": 54
  },
  {
   "metadata": {
    "ExecuteTime": {
     "end_time": "2025-07-22T14:26:05.725570Z",
     "start_time": "2025-07-22T14:26:05.722479Z"
    }
   },
   "cell_type": "code",
   "source": "type(c != d)",
   "id": "164853f5277039da",
   "outputs": [
    {
     "data": {
      "text/plain": [
       "bool"
      ]
     },
     "execution_count": 56,
     "metadata": {},
     "output_type": "execute_result"
    }
   ],
   "execution_count": 56
  },
  {
   "metadata": {
    "ExecuteTime": {
     "end_time": "2025-07-22T14:31:24.758926Z",
     "start_time": "2025-07-22T14:31:24.756813Z"
    }
   },
   "cell_type": "code",
   "source": "print(\"{} != {} = {}\".format(a, b, a != b))",
   "id": "1ae0dfac506b0bb9",
   "outputs": [
    {
     "name": "stdout",
     "output_type": "stream",
     "text": [
      "10 != 15 = True\n"
     ]
    }
   ],
   "execution_count": 79
  },
  {
   "metadata": {
    "ExecuteTime": {
     "end_time": "2025-07-22T14:26:26.928815Z",
     "start_time": "2025-07-22T14:26:26.926149Z"
    }
   },
   "cell_type": "code",
   "source": "print(a > b) #Büyük Mü?",
   "id": "dbbb060e22d26dcb",
   "outputs": [
    {
     "name": "stdout",
     "output_type": "stream",
     "text": [
      "False\n"
     ]
    }
   ],
   "execution_count": 57
  },
  {
   "metadata": {
    "ExecuteTime": {
     "end_time": "2025-07-22T14:26:45.934269Z",
     "start_time": "2025-07-22T14:26:45.931554Z"
    }
   },
   "cell_type": "code",
   "source": "print(b > a)",
   "id": "3bc9a02550581e22",
   "outputs": [
    {
     "name": "stdout",
     "output_type": "stream",
     "text": [
      "True\n"
     ]
    }
   ],
   "execution_count": 60
  },
  {
   "metadata": {
    "ExecuteTime": {
     "end_time": "2025-07-22T14:26:39.295397Z",
     "start_time": "2025-07-22T14:26:39.292978Z"
    }
   },
   "cell_type": "code",
   "source": "print(c > d)",
   "id": "58d7b3dafc14a6cb",
   "outputs": [
    {
     "name": "stdout",
     "output_type": "stream",
     "text": [
      "False\n"
     ]
    }
   ],
   "execution_count": 59
  },
  {
   "metadata": {
    "ExecuteTime": {
     "end_time": "2025-07-22T14:27:25.544995Z",
     "start_time": "2025-07-22T14:27:25.541970Z"
    }
   },
   "cell_type": "code",
   "source": "print(\"{} > {} = {}\".format(a, b, a > b))",
   "id": "412156e7e41c9ebe",
   "outputs": [
    {
     "name": "stdout",
     "output_type": "stream",
     "text": [
      "10 > 15 = False\n"
     ]
    }
   ],
   "execution_count": 62
  },
  {
   "metadata": {
    "ExecuteTime": {
     "end_time": "2025-07-22T14:27:58.925500Z",
     "start_time": "2025-07-22T14:27:58.922934Z"
    }
   },
   "cell_type": "code",
   "source": "print(a < b) #Küçük Mü?",
   "id": "be0b47cfcf4de7b9",
   "outputs": [
    {
     "name": "stdout",
     "output_type": "stream",
     "text": [
      "True\n"
     ]
    }
   ],
   "execution_count": 63
  },
  {
   "metadata": {
    "ExecuteTime": {
     "end_time": "2025-07-22T14:28:04.156026Z",
     "start_time": "2025-07-22T14:28:04.153663Z"
    }
   },
   "cell_type": "code",
   "source": "print(b < a)",
   "id": "ea791134bbd29e9b",
   "outputs": [
    {
     "name": "stdout",
     "output_type": "stream",
     "text": [
      "False\n"
     ]
    }
   ],
   "execution_count": 64
  },
  {
   "metadata": {
    "ExecuteTime": {
     "end_time": "2025-07-22T14:28:11.889525Z",
     "start_time": "2025-07-22T14:28:11.886875Z"
    }
   },
   "cell_type": "code",
   "source": "print(c < d)",
   "id": "a69f65c2b6a11fab",
   "outputs": [
    {
     "name": "stdout",
     "output_type": "stream",
     "text": [
      "False\n"
     ]
    }
   ],
   "execution_count": 65
  },
  {
   "metadata": {
    "ExecuteTime": {
     "end_time": "2025-07-22T14:28:26.765358Z",
     "start_time": "2025-07-22T14:28:26.762818Z"
    }
   },
   "cell_type": "code",
   "source": "print(\"{} < {} = {}\".format(a, b, a < b))",
   "id": "8cc27ba0ec94b61e",
   "outputs": [
    {
     "name": "stdout",
     "output_type": "stream",
     "text": [
      "10 < 15 = True\n"
     ]
    }
   ],
   "execution_count": 66
  },
  {
   "metadata": {
    "ExecuteTime": {
     "end_time": "2025-07-22T14:28:59.486791Z",
     "start_time": "2025-07-22T14:28:59.484516Z"
    }
   },
   "cell_type": "code",
   "source": "print(a <= b) #Küçük Mü? ya da Eşit Mi?",
   "id": "7f9a54ec5bc6b92d",
   "outputs": [
    {
     "name": "stdout",
     "output_type": "stream",
     "text": [
      "True\n"
     ]
    }
   ],
   "execution_count": 67
  },
  {
   "metadata": {
    "ExecuteTime": {
     "end_time": "2025-07-22T14:29:01.940483Z",
     "start_time": "2025-07-22T14:29:01.938207Z"
    }
   },
   "cell_type": "code",
   "source": "print(b <= a)",
   "id": "dddbe1c03414bf70",
   "outputs": [
    {
     "name": "stdout",
     "output_type": "stream",
     "text": [
      "False\n"
     ]
    }
   ],
   "execution_count": 68
  },
  {
   "metadata": {
    "ExecuteTime": {
     "end_time": "2025-07-22T14:29:04.757011Z",
     "start_time": "2025-07-22T14:29:04.754514Z"
    }
   },
   "cell_type": "code",
   "source": "print(c <= d)",
   "id": "ab38924b59457712",
   "outputs": [
    {
     "name": "stdout",
     "output_type": "stream",
     "text": [
      "True\n"
     ]
    }
   ],
   "execution_count": 69
  },
  {
   "metadata": {
    "ExecuteTime": {
     "end_time": "2025-07-22T14:29:23.715505Z",
     "start_time": "2025-07-22T14:29:23.712952Z"
    }
   },
   "cell_type": "code",
   "source": "print(\"{} <= {} = {}\".format(a, b, a <= b))",
   "id": "6e54944f60a32e6",
   "outputs": [
    {
     "name": "stdout",
     "output_type": "stream",
     "text": [
      "10 <= 15 = True\n"
     ]
    }
   ],
   "execution_count": 70
  },
  {
   "metadata": {
    "ExecuteTime": {
     "end_time": "2025-07-22T14:29:45.332323Z",
     "start_time": "2025-07-22T14:29:45.329791Z"
    }
   },
   "cell_type": "code",
   "source": "print(a >= b) #Büyük Mü? ya da Eşit Mi?",
   "id": "108d816d37497c20",
   "outputs": [
    {
     "name": "stdout",
     "output_type": "stream",
     "text": [
      "False\n"
     ]
    }
   ],
   "execution_count": 71
  },
  {
   "metadata": {
    "ExecuteTime": {
     "end_time": "2025-07-22T14:29:47.401232Z",
     "start_time": "2025-07-22T14:29:47.399029Z"
    }
   },
   "cell_type": "code",
   "source": "print(b >= a)",
   "id": "b1e635cb41aa0137",
   "outputs": [
    {
     "name": "stdout",
     "output_type": "stream",
     "text": [
      "True\n"
     ]
    }
   ],
   "execution_count": 72
  },
  {
   "metadata": {
    "ExecuteTime": {
     "end_time": "2025-07-22T14:29:59.126337Z",
     "start_time": "2025-07-22T14:29:59.124127Z"
    }
   },
   "cell_type": "code",
   "source": "print(c >= d)",
   "id": "4cc25e450d4fb91",
   "outputs": [
    {
     "name": "stdout",
     "output_type": "stream",
     "text": [
      "True\n"
     ]
    }
   ],
   "execution_count": 73
  },
  {
   "metadata": {
    "ExecuteTime": {
     "end_time": "2025-07-22T14:30:00.826425Z",
     "start_time": "2025-07-22T14:30:00.823966Z"
    }
   },
   "cell_type": "code",
   "source": "print(\"{} >= {} = {}\".format(a, b, a >= b))",
   "id": "9917c248e1a8763f",
   "outputs": [
    {
     "name": "stdout",
     "output_type": "stream",
     "text": [
      "10 >= 15 = False\n"
     ]
    }
   ],
   "execution_count": 74
  },
  {
   "metadata": {},
   "cell_type": "markdown",
   "source": "Stringlerle Karşılaştırma İşlemleri",
   "id": "d070eec6e928e301"
  },
  {
   "metadata": {
    "ExecuteTime": {
     "end_time": "2025-07-22T14:32:24.681417Z",
     "start_time": "2025-07-22T14:32:24.679178Z"
    }
   },
   "cell_type": "code",
   "source": "isim = \"Fatih\"",
   "id": "c4f23ff604290248",
   "outputs": [],
   "execution_count": 80
  },
  {
   "metadata": {
    "ExecuteTime": {
     "end_time": "2025-07-22T14:32:34.392580Z",
     "start_time": "2025-07-22T14:32:34.390209Z"
    }
   },
   "cell_type": "code",
   "source": "print(isim == \"Fatih\")",
   "id": "c7be3edf2b0c1c01",
   "outputs": [
    {
     "name": "stdout",
     "output_type": "stream",
     "text": [
      "True\n"
     ]
    }
   ],
   "execution_count": 81
  },
  {
   "metadata": {
    "ExecuteTime": {
     "end_time": "2025-07-22T14:32:50.441270Z",
     "start_time": "2025-07-22T14:32:50.438889Z"
    }
   },
   "cell_type": "code",
   "source": "print(isim != \"Fatih\")",
   "id": "f8aa7c3884702a7",
   "outputs": [
    {
     "name": "stdout",
     "output_type": "stream",
     "text": [
      "False\n"
     ]
    }
   ],
   "execution_count": 82
  },
  {
   "metadata": {
    "ExecuteTime": {
     "end_time": "2025-07-22T14:33:04.809687Z",
     "start_time": "2025-07-22T14:33:04.807208Z"
    }
   },
   "cell_type": "code",
   "source": "print(isim == \"Kaan\")",
   "id": "bd64c9e54d898237",
   "outputs": [
    {
     "name": "stdout",
     "output_type": "stream",
     "text": [
      "False\n"
     ]
    }
   ],
   "execution_count": 83
  },
  {
   "metadata": {
    "ExecuteTime": {
     "end_time": "2025-07-22T14:33:11.906217Z",
     "start_time": "2025-07-22T14:33:11.903887Z"
    }
   },
   "cell_type": "code",
   "source": "print(isim != \"Kaan\")",
   "id": "a14556240ced7fe0",
   "outputs": [
    {
     "name": "stdout",
     "output_type": "stream",
     "text": [
      "True\n"
     ]
    }
   ],
   "execution_count": 84
  },
  {
   "metadata": {
    "ExecuteTime": {
     "end_time": "2025-07-22T14:33:43.268440Z",
     "start_time": "2025-07-22T14:33:43.266360Z"
    }
   },
   "cell_type": "code",
   "source": [
    "# > sözlükte stringin sonradan gelmesi\n",
    "print(\"A\" > \"B\")"
   ],
   "id": "5c777edf26e1d7d8",
   "outputs": [
    {
     "name": "stdout",
     "output_type": "stream",
     "text": [
      "False\n"
     ]
    }
   ],
   "execution_count": 85
  },
  {
   "metadata": {
    "ExecuteTime": {
     "end_time": "2025-07-22T14:34:01.984347Z",
     "start_time": "2025-07-22T14:34:01.982021Z"
    }
   },
   "cell_type": "code",
   "source": [
    "# < sözlükte stringin önce gelmesi\n",
    "print(\"A\" < \"B\")"
   ],
   "id": "97b80aed77b59f0a",
   "outputs": [
    {
     "name": "stdout",
     "output_type": "stream",
     "text": [
      "True\n"
     ]
    }
   ],
   "execution_count": 86
  },
  {
   "metadata": {
    "ExecuteTime": {
     "end_time": "2025-07-22T14:34:41.320330Z",
     "start_time": "2025-07-22T14:34:41.317458Z"
    }
   },
   "cell_type": "code",
   "source": "print(\"a\" > \"B\") #ASCII Tablosundan ötürü True gelmek zorundadır çünkü küçük harfler büyük harflerden sonradır sıralama bakımından",
   "id": "99de69c7f9430b79",
   "outputs": [
    {
     "name": "stdout",
     "output_type": "stream",
     "text": [
      "True\n"
     ]
    }
   ],
   "execution_count": 87
  },
  {
   "metadata": {
    "ExecuteTime": {
     "end_time": "2025-07-22T14:35:04.292699Z",
     "start_time": "2025-07-22T14:35:04.290064Z"
    }
   },
   "cell_type": "code",
   "source": [
    "#ASCII Tablosundan karakteri bulma\n",
    "ord(\"A\")"
   ],
   "id": "ce908f804babc87a",
   "outputs": [
    {
     "data": {
      "text/plain": [
       "65"
      ]
     },
     "execution_count": 88,
     "metadata": {},
     "output_type": "execute_result"
    }
   ],
   "execution_count": 88
  },
  {
   "metadata": {
    "ExecuteTime": {
     "end_time": "2025-07-22T14:35:07.636709Z",
     "start_time": "2025-07-22T14:35:07.633749Z"
    }
   },
   "cell_type": "code",
   "source": "ord(\"a\")",
   "id": "af7ceac1e9a7f395",
   "outputs": [
    {
     "data": {
      "text/plain": [
       "97"
      ]
     },
     "execution_count": 89,
     "metadata": {},
     "output_type": "execute_result"
    }
   ],
   "execution_count": 89
  },
  {
   "metadata": {
    "ExecuteTime": {
     "end_time": "2025-07-22T14:35:32.487980Z",
     "start_time": "2025-07-22T14:35:32.484965Z"
    }
   },
   "cell_type": "code",
   "source": "ord(\"B\")",
   "id": "69de1953fb1bbf37",
   "outputs": [
    {
     "data": {
      "text/plain": [
       "66"
      ]
     },
     "execution_count": 90,
     "metadata": {},
     "output_type": "execute_result"
    }
   ],
   "execution_count": 90
  },
  {
   "metadata": {
    "ExecuteTime": {
     "end_time": "2025-07-22T14:35:36.236427Z",
     "start_time": "2025-07-22T14:35:36.232917Z"
    }
   },
   "cell_type": "code",
   "source": "ord(\"b\")",
   "id": "91e4dbb27eb4c14b",
   "outputs": [
    {
     "data": {
      "text/plain": [
       "98"
      ]
     },
     "execution_count": 91,
     "metadata": {},
     "output_type": "execute_result"
    }
   ],
   "execution_count": 91
  },
  {
   "metadata": {
    "ExecuteTime": {
     "end_time": "2025-07-22T14:36:38.767122Z",
     "start_time": "2025-07-22T14:36:38.764984Z"
    }
   },
   "cell_type": "code",
   "source": "print(\"Ahmet\" > \"Ayşe\") #Sırayla her harfin sıra sıra karşılaştırır misal 2. harfte y > h olduğu için False",
   "id": "6f15e464876a4ee",
   "outputs": [
    {
     "name": "stdout",
     "output_type": "stream",
     "text": [
      "False\n"
     ]
    }
   ],
   "execution_count": 93
  },
  {
   "metadata": {},
   "cell_type": "code",
   "outputs": [],
   "execution_count": null,
   "source": "ord(\"Ahmet\") #Sadece karakter yazman gerek dizi yazamazsın",
   "id": "802b36af06367381"
  },
  {
   "metadata": {
    "ExecuteTime": {
     "end_time": "2025-07-22T14:37:09.285327Z",
     "start_time": "2025-07-22T14:37:09.283112Z"
    }
   },
   "cell_type": "code",
   "source": "print(\"Ahmet\" > \"Ahmet\")",
   "id": "a82a44b161765cbe",
   "outputs": [
    {
     "name": "stdout",
     "output_type": "stream",
     "text": [
      "False\n"
     ]
    }
   ],
   "execution_count": 94
  },
  {
   "metadata": {
    "ExecuteTime": {
     "end_time": "2025-07-22T14:37:17.060067Z",
     "start_time": "2025-07-22T14:37:17.057728Z"
    }
   },
   "cell_type": "code",
   "source": "print(\"Ahmet\" < \"Ahmet\")",
   "id": "da88d3861ac33a76",
   "outputs": [
    {
     "name": "stdout",
     "output_type": "stream",
     "text": [
      "False\n"
     ]
    }
   ],
   "execution_count": 95
  },
  {
   "metadata": {
    "ExecuteTime": {
     "end_time": "2025-07-22T14:37:26.820760Z",
     "start_time": "2025-07-22T14:37:26.818480Z"
    }
   },
   "cell_type": "code",
   "source": "print(\"Ahmet\" >= \"Ahmet\")",
   "id": "8ee8aa8831075b53",
   "outputs": [
    {
     "name": "stdout",
     "output_type": "stream",
     "text": [
      "True\n"
     ]
    }
   ],
   "execution_count": 96
  },
  {
   "metadata": {
    "ExecuteTime": {
     "end_time": "2025-07-22T14:37:33.738185Z",
     "start_time": "2025-07-22T14:37:33.735604Z"
    }
   },
   "cell_type": "code",
   "source": "print(\"Ahmet\" <= \"Ahmet\")",
   "id": "3532db92bf527ebc",
   "outputs": [
    {
     "name": "stdout",
     "output_type": "stream",
     "text": [
      "True\n"
     ]
    }
   ],
   "execution_count": 97
  },
  {
   "metadata": {
    "ExecuteTime": {
     "end_time": "2025-07-22T14:37:49.028348Z",
     "start_time": "2025-07-22T14:37:49.026381Z"
    }
   },
   "cell_type": "code",
   "source": [
    "kelime1 = \"ahmet\"\n",
    "kelime2 = \"Mehmet\""
   ],
   "id": "2aec138a86bffabe",
   "outputs": [],
   "execution_count": 98
  },
  {
   "metadata": {
    "ExecuteTime": {
     "end_time": "2025-07-22T14:37:54.912679Z",
     "start_time": "2025-07-22T14:37:54.909778Z"
    }
   },
   "cell_type": "code",
   "source": "ord(\"a\")",
   "id": "a16e590fb37b898d",
   "outputs": [
    {
     "data": {
      "text/plain": [
       "97"
      ]
     },
     "execution_count": 99,
     "metadata": {},
     "output_type": "execute_result"
    }
   ],
   "execution_count": 99
  },
  {
   "metadata": {
    "ExecuteTime": {
     "end_time": "2025-07-22T14:37:58.314223Z",
     "start_time": "2025-07-22T14:37:58.311012Z"
    }
   },
   "cell_type": "code",
   "source": "ord(\"M\")",
   "id": "1e7b3dbe93ebcefe",
   "outputs": [
    {
     "data": {
      "text/plain": [
       "77"
      ]
     },
     "execution_count": 100,
     "metadata": {},
     "output_type": "execute_result"
    }
   ],
   "execution_count": 100
  },
  {
   "metadata": {
    "ExecuteTime": {
     "end_time": "2025-07-22T14:38:10.725935Z",
     "start_time": "2025-07-22T14:38:10.723753Z"
    }
   },
   "cell_type": "code",
   "source": "print(kelime1 < kelime2)",
   "id": "4c4d6c32a43f6440",
   "outputs": [
    {
     "name": "stdout",
     "output_type": "stream",
     "text": [
      "False\n"
     ]
    }
   ],
   "execution_count": 101
  },
  {
   "metadata": {},
   "cell_type": "markdown",
   "source": "Eğer string karşılaştıracaksak önce tüm harfleri küçük harfe çevirip öyle yapmamız gerekir",
   "id": "493a5b0808124714"
  },
  {
   "metadata": {
    "ExecuteTime": {
     "end_time": "2025-07-22T14:38:21.302657Z",
     "start_time": "2025-07-22T14:38:21.300403Z"
    }
   },
   "cell_type": "code",
   "source": [
    "kelime1 = kelime1.lower()\n",
    "kelime2 = kelime2.lower()"
   ],
   "id": "3e0623ffad63704e",
   "outputs": [],
   "execution_count": 102
  },
  {
   "metadata": {
    "ExecuteTime": {
     "end_time": "2025-07-22T14:38:33.199019Z",
     "start_time": "2025-07-22T14:38:33.196808Z"
    }
   },
   "cell_type": "code",
   "source": "print(kelime1, kelime2)",
   "id": "26a528f2eea60e9f",
   "outputs": [
    {
     "name": "stdout",
     "output_type": "stream",
     "text": [
      "ahmet mehmet\n"
     ]
    }
   ],
   "execution_count": 103
  },
  {
   "metadata": {
    "ExecuteTime": {
     "end_time": "2025-07-22T14:38:39.997868Z",
     "start_time": "2025-07-22T14:38:39.995686Z"
    }
   },
   "cell_type": "code",
   "source": "print(kelime1 < kelime2)",
   "id": "3a73deb230ca049a",
   "outputs": [
    {
     "name": "stdout",
     "output_type": "stream",
     "text": [
      "True\n"
     ]
    }
   ],
   "execution_count": 104
  },
  {
   "metadata": {},
   "cell_type": "markdown",
   "source": "Mantıksal Operatörler - Logical Operator",
   "id": "8bd9ff31e1dd60b9"
  },
  {
   "metadata": {
    "ExecuteTime": {
     "end_time": "2025-07-22T14:41:39.986928Z",
     "start_time": "2025-07-22T14:41:39.984562Z"
    }
   },
   "cell_type": "code",
   "source": [
    "onerme1 = \"Galatasaray bir futbol takımıdır\"\n",
    "onerme2 = \"Galatasaray dünyanın en iyi futbol takımıdır\"\n",
    "onerme3 = \"Fenerbahçe bir futbol takımıdır\"\n",
    "onerme4 = \"Fenerbahçe dünyanın en iyi futbol takımıdır\""
   ],
   "id": "3308d9612ec6952",
   "outputs": [],
   "execution_count": 105
  },
  {
   "metadata": {
    "ExecuteTime": {
     "end_time": "2025-07-22T14:41:53.605824Z",
     "start_time": "2025-07-22T14:41:53.603584Z"
    }
   },
   "cell_type": "code",
   "source": [
    "o1 = True #1 not o1 -> False\n",
    "o2 = False #0 not o1 -> True\n",
    "o3 = True #1 not o1 -> False\n",
    "o4 = False #0 not o1 -> True"
   ],
   "id": "e185c8b01f741f44",
   "outputs": [],
   "execution_count": 106
  },
  {
   "metadata": {},
   "cell_type": "code",
   "outputs": [],
   "execution_count": null,
   "source": [
    "#or Tablosu\n",
    "#or | o1 o2 | s\n",
    "#--------------\n",
    "#   | 0  0  | 0\n",
    "#   | 0  1  | 1\n",
    "#   | 1  0  | 1\n",
    "#   | 1  1  | 1"
   ],
   "id": "d6a52616cc0de787"
  },
  {
   "metadata": {},
   "cell_type": "code",
   "outputs": [],
   "execution_count": null,
   "source": [
    "#and Tablosu\n",
    "#and | o1 o2 | s\n",
    "#--------------\n",
    "#   | 0  0  | 0\n",
    "#   | 0  1  | 0\n",
    "#   | 1  0  | 0\n",
    "#   | 1  1  | 1"
   ],
   "id": "b16b240b82d4078d"
  },
  {
   "metadata": {},
   "cell_type": "code",
   "outputs": [],
   "execution_count": null,
   "source": [
    "#not Tablosu\n",
    "#not | o1 | s\n",
    "#--------------\n",
    "#    | 0  | 1\n",
    "#    | 1  | 0"
   ],
   "id": "bb5099adbae081df"
  },
  {
   "metadata": {
    "ExecuteTime": {
     "end_time": "2025-07-22T14:47:34.377228Z",
     "start_time": "2025-07-22T14:47:34.375197Z"
    }
   },
   "cell_type": "code",
   "source": [
    "#ORNEKLER\n",
    "a, b = 10, 15 #Birden fazla değişken oluşturup değer atama kolaylığı\n",
    "c, d, e = 20, 25, 30"
   ],
   "id": "b15e1ab4ad704b39",
   "outputs": [],
   "execution_count": 110
  },
  {
   "metadata": {
    "ExecuteTime": {
     "end_time": "2025-07-22T14:49:15.636388Z",
     "start_time": "2025-07-22T14:49:15.632749Z"
    }
   },
   "cell_type": "code",
   "source": [
    "print(\"OR\")\n",
    "print(a < 15 or b < 20)\n",
    "print(\"{} or {} = {}\".format(a < 15,b < 20,a < 15 or b < 20))\n",
    "print(\"{} or {} = {}\".format(a < 10,b < 20,a < 10 or b < 20))\n",
    "print(\"{} or {} = {}\".format(a < 15,b < 15,a < 15 or b < 15))\n",
    "print(\"{} or {} = {}\".format(a < 10,b < 15,a < 10 or b < 15))"
   ],
   "id": "f7f6cdb24fa07cb9",
   "outputs": [
    {
     "name": "stdout",
     "output_type": "stream",
     "text": [
      "OR\n",
      "True\n",
      "True or True = True\n",
      "False or True = True\n",
      "True or False = True\n",
      "False or False = False\n"
     ]
    }
   ],
   "execution_count": 114
  },
  {
   "metadata": {
    "ExecuteTime": {
     "end_time": "2025-07-22T14:49:54.180223Z",
     "start_time": "2025-07-22T14:49:54.176931Z"
    }
   },
   "cell_type": "code",
   "source": [
    "print(\"AND\")\n",
    "print(a < 15 and b < 20)\n",
    "print(\"{} and {} = {}\".format(a < 15,b < 20,a < 15 and b < 20))\n",
    "print(\"{} and {} = {}\".format(a < 10,b < 20,a < 10 and b < 20))\n",
    "print(\"{} and {} = {}\".format(a < 15,b < 15,a < 15 and b < 15))\n",
    "print(\"{} and {} = {}\".format(a < 10,b < 15,a < 10 and b < 15))"
   ],
   "id": "ad618e84a36674fb",
   "outputs": [
    {
     "name": "stdout",
     "output_type": "stream",
     "text": [
      "AND\n",
      "True\n",
      "True and True = True\n",
      "False and True = False\n",
      "True and False = False\n",
      "False and False = False\n"
     ]
    }
   ],
   "execution_count": 116
  },
  {
   "metadata": {
    "ExecuteTime": {
     "end_time": "2025-07-22T14:50:39.350357Z",
     "start_time": "2025-07-22T14:50:39.347781Z"
    }
   },
   "cell_type": "code",
   "source": [
    "print(\"NOT\")\n",
    "anahtar = True\n",
    "print(anahtar)\n",
    "anahtar = not anahtar #en sağındaki yapılır sonra atanır\n",
    "print(anahtar)"
   ],
   "id": "9225e91147decb04",
   "outputs": [
    {
     "name": "stdout",
     "output_type": "stream",
     "text": [
      "NOT\n",
      "True\n",
      "False\n"
     ]
    }
   ],
   "execution_count": 118
  },
  {
   "metadata": {
    "ExecuteTime": {
     "end_time": "2025-07-22T14:51:40.628891Z",
     "start_time": "2025-07-22T14:51:40.626255Z"
    }
   },
   "cell_type": "code",
   "source": [
    "#Birden fazla istediğin kadar operatör kullanabilirsin\n",
    "sonuc = not(a < 15 and b < 20 or c < 25 and d < 30)\n",
    "#not(True and True or True and True) -> not(True or True) -> not(True) -> False\n",
    "print(sonuc)"
   ],
   "id": "3e5741d2a7e1159",
   "outputs": [
    {
     "name": "stdout",
     "output_type": "stream",
     "text": [
      "True\n"
     ]
    }
   ],
   "execution_count": 119
  },
  {
   "metadata": {},
   "cell_type": "markdown",
   "source": "bool tipi",
   "id": "eab6edd1bc9c8520"
  },
  {
   "metadata": {
    "ExecuteTime": {
     "end_time": "2025-07-22T14:54:09.923455Z",
     "start_time": "2025-07-22T14:54:09.921011Z"
    }
   },
   "cell_type": "code",
   "source": [
    "k1 = 4 < 5\n",
    "k2 = 5 > 6\n",
    "k3 = 7 <= 7"
   ],
   "id": "2a7560e04d48f4ef",
   "outputs": [],
   "execution_count": 120
  },
  {
   "metadata": {
    "ExecuteTime": {
     "end_time": "2025-07-22T14:54:14.815589Z",
     "start_time": "2025-07-22T14:54:14.813265Z"
    }
   },
   "cell_type": "code",
   "source": "print(k1, k2, k3)",
   "id": "10bc996a66ed36a9",
   "outputs": [
    {
     "name": "stdout",
     "output_type": "stream",
     "text": [
      "True False True\n"
     ]
    }
   ],
   "execution_count": 121
  },
  {
   "metadata": {
    "ExecuteTime": {
     "end_time": "2025-07-22T14:55:15.681943Z",
     "start_time": "2025-07-22T14:55:15.679373Z"
    }
   },
   "cell_type": "code",
   "source": [
    "sonuc1 = bool(\"Ahmet\")\n",
    "sonuc2 = bool(5)\n",
    "sonuc3 = bool(4.8)"
   ],
   "id": "6d2ccfa64e459250",
   "outputs": [],
   "execution_count": 122
  },
  {
   "metadata": {
    "ExecuteTime": {
     "end_time": "2025-07-22T14:56:18.207098Z",
     "start_time": "2025-07-22T14:56:18.204246Z"
    }
   },
   "cell_type": "code",
   "source": [
    "print(sonuc1, sonuc2, sonuc3) #Her bir değerimiz byte tahsis edilmiştir belleğimizde ve sayısal elektroniği hatırlarsak yer kaplıyorsa bir elektrik vardır\n",
    "#Bunlar 0 ve 1 ile depolandığını alırsak bi elektrik veren değer olursa 1 yani True olur"
   ],
   "id": "e378cc36b9d7f76d",
   "outputs": [
    {
     "name": "stdout",
     "output_type": "stream",
     "text": [
      "True True True\n"
     ]
    }
   ],
   "execution_count": 124
  },
  {
   "metadata": {
    "ExecuteTime": {
     "end_time": "2025-07-22T14:57:53.422937Z",
     "start_time": "2025-07-22T14:57:53.420744Z"
    }
   },
   "cell_type": "code",
   "source": [
    "sonuc4 = bool(\"\")\n",
    "sonuc5 = bool(0)\n",
    "sonuc6 = bool(0.0)"
   ],
   "id": "dab09736b030ba1d",
   "outputs": [],
   "execution_count": 125
  },
  {
   "metadata": {
    "ExecuteTime": {
     "end_time": "2025-07-22T14:58:14.004748Z",
     "start_time": "2025-07-22T14:58:14.002264Z"
    }
   },
   "cell_type": "code",
   "source": "print(sonuc4, sonuc5, sonuc6) #Burada bir değer olmadığı için False döndürüyor yani 0",
   "id": "f25f945b38791174",
   "outputs": [
    {
     "name": "stdout",
     "output_type": "stream",
     "text": [
      "False False False\n"
     ]
    }
   ],
   "execution_count": 126
  },
  {
   "metadata": {
    "ExecuteTime": {
     "end_time": "2025-07-22T14:58:30.978888Z",
     "start_time": "2025-07-22T14:58:30.976419Z"
    }
   },
   "cell_type": "code",
   "source": [
    "sonuc7 = bool(\" \")\n",
    "print(ord(\" \"))\n",
    "print(sonuc7) #Boşlukta bir değer depolar"
   ],
   "id": "e83f0da0dfff5669",
   "outputs": [
    {
     "name": "stdout",
     "output_type": "stream",
     "text": [
      "32\n",
      "True\n"
     ]
    }
   ],
   "execution_count": 127
  },
  {
   "metadata": {},
   "cell_type": "markdown",
   "source": "Tek Terimli Operatörler + - ~",
   "id": "b985baf41f5c3b7c"
  },
  {
   "metadata": {
    "ExecuteTime": {
     "end_time": "2025-07-22T15:01:05.386521Z",
     "start_time": "2025-07-22T15:01:05.384040Z"
    }
   },
   "cell_type": "code",
   "source": [
    "x = 12\n",
    "y = +x\n",
    "print(y)\n",
    "y = -x\n",
    "print(y)\n",
    "y = -+-+--12 #Buradaki + ve - operatörler çarpılır ve işareti ona göre verir\n",
    "print(y)\n",
    "y = -y\n",
    "print(y)"
   ],
   "id": "39ca85a2405fe226",
   "outputs": [
    {
     "name": "stdout",
     "output_type": "stream",
     "text": [
      "12\n",
      "-12\n",
      "12\n",
      "-12\n"
     ]
    }
   ],
   "execution_count": 131
  },
  {
   "metadata": {
    "ExecuteTime": {
     "end_time": "2025-07-22T15:10:14.814381Z",
     "start_time": "2025-07-22T15:10:14.810929Z"
    }
   },
   "cell_type": "code",
   "source": [
    "#bitwise (bit bazında operatör), ~(tilda)\n",
    "t = 5 # \"101\" burada bilgisayar başına işaret biti koyar \"0101\"\n",
    "print(\"t = {}\".format(t))\n",
    "# işaret biti 0 ise pozitif\n",
    "# işaret biti 1 ise negatiftir\n",
    "m = ~t #bit bazında birli tümleyeni (0101)' -> 1010 = Onluk tabanda -6\n",
    "\n",
    "#İkili Tümleyen bit bazında\n",
    "# -A = A' + 1\n",
    "# A' = -A - 1\n",
    "# A'  = 1010 - 0001 = 1001 olur\n",
    "# A = (A')' = (1001)' = 0110 = Onluk tabanda +6 sayısını verir\n",
    "print(\"~t = {}\".format(m))\n",
    "\n",
    "m = ~~t\n",
    "print(\"~~t = {}\".format(m))"
   ],
   "id": "7677c25b2637daf5",
   "outputs": [
    {
     "name": "stdout",
     "output_type": "stream",
     "text": [
      "t = 5\n",
      "~t = -6\n",
      "~~t = 5\n"
     ]
    }
   ],
   "execution_count": 136
  },
  {
   "metadata": {},
   "cell_type": "markdown",
   "source": "Benzerlik Operatörleri is is not",
   "id": "af689bfe6441dde2"
  },
  {
   "metadata": {
    "ExecuteTime": {
     "end_time": "2025-07-22T15:22:15.157810Z",
     "start_time": "2025-07-22T15:22:15.155782Z"
    }
   },
   "cell_type": "code",
   "source": [
    "x = 5\n",
    "y = 5"
   ],
   "id": "609044ad575a3f75",
   "outputs": [],
   "execution_count": 143
  },
  {
   "metadata": {
    "ExecuteTime": {
     "end_time": "2025-07-22T15:22:21.658432Z",
     "start_time": "2025-07-22T15:22:21.655446Z"
    }
   },
   "cell_type": "code",
   "source": "print(x is y) #x, y'ye hep tip hem değer bakımından eş mi?",
   "id": "4c4ba2a7f67844c0",
   "outputs": [
    {
     "name": "stdout",
     "output_type": "stream",
     "text": [
      "True\n"
     ]
    }
   ],
   "execution_count": 144
  },
  {
   "metadata": {
    "ExecuteTime": {
     "end_time": "2025-07-22T15:23:06.434816Z",
     "start_time": "2025-07-22T15:23:06.432410Z"
    }
   },
   "cell_type": "code",
   "source": "print(x is not y) #x, y'ye hep tim hem değer bakımından eş değil mi?",
   "id": "88991c4d3f099106",
   "outputs": [
    {
     "name": "stdout",
     "output_type": "stream",
     "text": [
      "False\n"
     ]
    }
   ],
   "execution_count": 145
  },
  {
   "metadata": {
    "ExecuteTime": {
     "end_time": "2025-07-22T15:23:13.420823Z",
     "start_time": "2025-07-22T15:23:13.418453Z"
    }
   },
   "cell_type": "code",
   "source": "y = 5.0",
   "id": "baaddb90576cf6b3",
   "outputs": [],
   "execution_count": 146
  },
  {
   "metadata": {
    "ExecuteTime": {
     "end_time": "2025-07-22T15:23:39.813534Z",
     "start_time": "2025-07-22T15:23:39.810969Z"
    }
   },
   "cell_type": "code",
   "source": [
    "print(x is y)\n",
    "print(x is not y)"
   ],
   "id": "d10958e14bb865fc",
   "outputs": [
    {
     "name": "stdout",
     "output_type": "stream",
     "text": [
      "False\n",
      "True\n"
     ]
    }
   ],
   "execution_count": 149
  },
  {
   "metadata": {
    "ExecuteTime": {
     "end_time": "2025-07-22T15:24:12.645499Z",
     "start_time": "2025-07-22T15:24:12.643132Z"
    }
   },
   "cell_type": "code",
   "source": [
    "print(x == y) #DEĞER KONTROLU\n",
    "print(x is y) #TİP ve DEĞER KONTROLU\n",
    "#İkisi birbirinden farklıdır"
   ],
   "id": "31e3bec9469a095c",
   "outputs": [
    {
     "name": "stdout",
     "output_type": "stream",
     "text": [
      "True\n",
      "False\n"
     ]
    }
   ],
   "execution_count": 150
  },
  {
   "metadata": {
    "ExecuteTime": {
     "end_time": "2025-07-22T15:24:40.635319Z",
     "start_time": "2025-07-22T15:24:40.633Z"
    }
   },
   "cell_type": "code",
   "source": [
    "print(x != y) #DEĞER KONTROLU\n",
    "print(x is not y) #TİP ve DEĞER KONTROLU\n",
    "#İkisi birbirinden farklıdır"
   ],
   "id": "2d962318f4187206",
   "outputs": [
    {
     "name": "stdout",
     "output_type": "stream",
     "text": [
      "False\n",
      "True\n"
     ]
    }
   ],
   "execution_count": 151
  },
  {
   "metadata": {
    "ExecuteTime": {
     "end_time": "2025-07-22T15:25:15.964544Z",
     "start_time": "2025-07-22T15:25:15.962017Z"
    }
   },
   "cell_type": "code",
   "source": "print((2 < 3) is True) #Burada bool tipinde ve True değerinde olduğu için True",
   "id": "2d5a8f79f6a7c352",
   "outputs": [
    {
     "name": "stdout",
     "output_type": "stream",
     "text": [
      "True\n"
     ]
    }
   ],
   "execution_count": 152
  },
  {
   "metadata": {},
   "cell_type": "markdown",
   "source": "SyntaxWarning statik bir değer karşılaştırıyor musun yani == kullanmak mı istiyorsun diye uyarı verebilir yorumlayıcı",
   "id": "f9902a4a53f9474a"
  },
  {
   "metadata": {},
   "cell_type": "markdown",
   "source": "Bitwise (Bitsel) Operatörler & | ~# >> <<",
   "id": "e32f1bcc78e90c42"
  },
  {
   "metadata": {
    "ExecuteTime": {
     "end_time": "2025-07-22T15:30:22.522664Z",
     "start_time": "2025-07-22T15:30:22.520351Z"
    }
   },
   "cell_type": "code",
   "source": [
    "x = 3 # 011\n",
    "y = 2 # 010"
   ],
   "id": "47b599178367a576",
   "outputs": [],
   "execution_count": 153
  },
  {
   "metadata": {
    "ExecuteTime": {
     "end_time": "2025-07-22T15:30:54.455383Z",
     "start_time": "2025-07-22T15:30:54.453043Z"
    }
   },
   "cell_type": "code",
   "source": [
    "sonuc = x & y # 011 & 010 = 010\n",
    "print(sonuc)"
   ],
   "id": "7aee1c5f81dc68b7",
   "outputs": [
    {
     "name": "stdout",
     "output_type": "stream",
     "text": [
      "2\n"
     ]
    }
   ],
   "execution_count": 154
  },
  {
   "metadata": {},
   "cell_type": "markdown",
   "source": "bitwise and &",
   "id": "83b8dd8c0a386db"
  },
  {
   "metadata": {
    "ExecuteTime": {
     "end_time": "2025-07-22T15:31:17.777006Z",
     "start_time": "2025-07-22T15:31:17.774816Z"
    }
   },
   "cell_type": "code",
   "source": [
    "x = 11 # 1011\n",
    "y = 2 #  0010"
   ],
   "id": "6df97b367ee12f98",
   "outputs": [],
   "execution_count": 155
  },
  {
   "metadata": {
    "ExecuteTime": {
     "end_time": "2025-07-22T15:31:35.341154Z",
     "start_time": "2025-07-22T15:31:35.338624Z"
    }
   },
   "cell_type": "code",
   "source": [
    "sonuc = x & y # 1011 & 0010 = 0010\n",
    "print(sonuc)"
   ],
   "id": "646dd74fb318a4f8",
   "outputs": [
    {
     "name": "stdout",
     "output_type": "stream",
     "text": [
      "2\n"
     ]
    }
   ],
   "execution_count": 156
  },
  {
   "metadata": {
    "ExecuteTime": {
     "end_time": "2025-07-22T15:31:56.694608Z",
     "start_time": "2025-07-22T15:31:56.691844Z"
    }
   },
   "cell_type": "code",
   "source": [
    "x = 15 # 1111\n",
    "y = 10 # 1010"
   ],
   "id": "baaddce8bc302ee3",
   "outputs": [],
   "execution_count": 157
  },
  {
   "metadata": {
    "ExecuteTime": {
     "end_time": "2025-07-22T15:32:19.466185Z",
     "start_time": "2025-07-22T15:32:19.463887Z"
    }
   },
   "cell_type": "code",
   "source": [
    "sonuc = x & y # 1111 & 1010 = 1010\n",
    "print(sonuc)"
   ],
   "id": "50f7842c12689ba9",
   "outputs": [
    {
     "name": "stdout",
     "output_type": "stream",
     "text": [
      "10\n"
     ]
    }
   ],
   "execution_count": 158
  },
  {
   "metadata": {},
   "cell_type": "markdown",
   "source": "bitwise or |",
   "id": "86a667396b8cf84"
  },
  {
   "metadata": {
    "ExecuteTime": {
     "end_time": "2025-07-22T15:34:12.162579Z",
     "start_time": "2025-07-22T15:34:12.160186Z"
    }
   },
   "cell_type": "code",
   "source": [
    "x = 11 # 1011\n",
    "y = 10 #  0010"
   ],
   "id": "6fb23cd657a21a29",
   "outputs": [],
   "execution_count": 160
  },
  {
   "metadata": {
    "ExecuteTime": {
     "end_time": "2025-07-22T15:34:12.642916Z",
     "start_time": "2025-07-22T15:34:12.640750Z"
    }
   },
   "cell_type": "code",
   "source": [
    "sonuc = x | y # 1011 | 0010 = 1011\n",
    "print(sonuc)"
   ],
   "id": "fc7baed518dde530",
   "outputs": [
    {
     "name": "stdout",
     "output_type": "stream",
     "text": [
      "11\n"
     ]
    }
   ],
   "execution_count": 161
  },
  {
   "metadata": {
    "ExecuteTime": {
     "end_time": "2025-07-22T15:34:25.730270Z",
     "start_time": "2025-07-22T15:34:25.728023Z"
    }
   },
   "cell_type": "code",
   "source": [
    "x = 15 # 1111\n",
    "y = 10 # 1010"
   ],
   "id": "4a1aedabc0ff341",
   "outputs": [],
   "execution_count": 163
  },
  {
   "metadata": {
    "ExecuteTime": {
     "end_time": "2025-07-22T15:34:26.130393Z",
     "start_time": "2025-07-22T15:34:26.127971Z"
    }
   },
   "cell_type": "code",
   "source": [
    "sonuc = x | y # 1111 | 1010 = 1111\n",
    "print(sonuc)"
   ],
   "id": "7ef5d87fcf749170",
   "outputs": [
    {
     "name": "stdout",
     "output_type": "stream",
     "text": [
      "15\n"
     ]
    }
   ],
   "execution_count": 164
  },
  {
   "metadata": {},
   "cell_type": "markdown",
   "source": "bitwise not ~",
   "id": "c5e33917f88ad6e9"
  },
  {
   "metadata": {
    "ExecuteTime": {
     "end_time": "2025-07-22T15:35:20.421226Z",
     "start_time": "2025-07-22T15:35:20.418896Z"
    }
   },
   "cell_type": "code",
   "source": [
    "z = 5 #0101\n",
    "sonuc = ~z #(0101)' -> 1010 birli tümleyen alma\n",
    "print(sonuc)"
   ],
   "id": "134bb380c4bace82",
   "outputs": [
    {
     "name": "stdout",
     "output_type": "stream",
     "text": [
      "-6\n"
     ]
    }
   ],
   "execution_count": 165
  },
  {
   "metadata": {},
   "cell_type": "markdown",
   "source": "bitwise xor ^",
   "id": "69deaca001c31c1a"
  },
  {
   "metadata": {
    "ExecuteTime": {
     "end_time": "2025-07-22T15:35:40.870171Z",
     "start_time": "2025-07-22T15:35:40.868194Z"
    }
   },
   "cell_type": "code",
   "source": [
    "x = 15 # 1111\n",
    "y = 10 # 1010"
   ],
   "id": "3f697752ce410cc1",
   "outputs": [],
   "execution_count": 166
  },
  {
   "metadata": {
    "ExecuteTime": {
     "end_time": "2025-07-22T15:36:25.308699Z",
     "start_time": "2025-07-22T15:36:25.306504Z"
    }
   },
   "cell_type": "code",
   "source": [
    "sonuc = x ^ y # 1111 ^ 1010 = 0101\n",
    "print(sonuc)"
   ],
   "id": "9959c885310f3eed",
   "outputs": [
    {
     "name": "stdout",
     "output_type": "stream",
     "text": [
      "5\n"
     ]
    }
   ],
   "execution_count": 167
  },
  {
   "metadata": {},
   "cell_type": "markdown",
   "source": "bitwise right shift >>",
   "id": "fefb4c37a775bf50"
  },
  {
   "metadata": {},
   "cell_type": "markdown",
   "source": [
    "Pozitif Sayıysa (+)\n",
    "\n",
    "En başa 0 eklenir\n",
    "(çünkü işaret biti 0, pozitifliği korumak için)\n",
    "\n",
    "Negatif Sayıysa (-)\n",
    "\n",
    "En başa 1 eklenir\n",
    "(işaret biti 1 olarak kalmalı)\n",
    "\n"
   ],
   "id": "c6c3c13f67ea7093"
  },
  {
   "metadata": {
    "ExecuteTime": {
     "end_time": "2025-07-22T15:37:56.674860Z",
     "start_time": "2025-07-22T15:37:56.672413Z"
    }
   },
   "cell_type": "code",
   "source": [
    "t = 7 # 111 => soldan 2 tane 0 ekleyip sağdaki 2 tanesi al 001\n",
    "t >>= 2\n",
    "print(t)"
   ],
   "id": "90a7d1e2b52021c5",
   "outputs": [
    {
     "name": "stdout",
     "output_type": "stream",
     "text": [
      "1\n"
     ]
    }
   ],
   "execution_count": 168
  },
  {
   "metadata": {
    "ExecuteTime": {
     "end_time": "2025-07-22T15:41:59.961059Z",
     "start_time": "2025-07-22T15:41:59.958463Z"
    }
   },
   "cell_type": "code",
   "source": [
    "t = 7 # 111 => sola 1 tane 0 ekledim ve sağdan 1 tane aldım 011\n",
    "t >>= 1\n",
    "print(t)"
   ],
   "id": "207fa7dae04038e7",
   "outputs": [
    {
     "name": "stdout",
     "output_type": "stream",
     "text": [
      "3\n"
     ]
    }
   ],
   "execution_count": 170
  },
  {
   "metadata": {
    "ExecuteTime": {
     "end_time": "2025-07-22T15:48:03.445090Z",
     "start_time": "2025-07-22T15:48:03.442702Z"
    }
   },
   "cell_type": "code",
   "source": [
    "t = -7 # ikili tümleyen al 7'nin (0111)' + 1 = 1000 + 1 = 1001 sonrasında  1 100 1 yani 1100 oldu bu da -4\n",
    "t >>= 1\n",
    "print(t)"
   ],
   "id": "ad00eee2c4922f29",
   "outputs": [
    {
     "name": "stdout",
     "output_type": "stream",
     "text": [
      "-4\n"
     ]
    }
   ],
   "execution_count": 172
  },
  {
   "metadata": {},
   "cell_type": "markdown",
   "source": "bitwise left shift <<",
   "id": "d044f6b0fb5b27c"
  },
  {
   "metadata": {},
   "cell_type": "markdown",
   "source": [
    "Bu durumda\n",
    "\n",
    "\tBitler sola kaydırılır\n",
    "\n",
    "\tSağdan her zaman 0 eklenir (pozitif veya negatif fark etmez)\n",
    "\n",
    "\tAma dikkat: işaret biti kayarsa sonucun işareti değişebilir!"
   ],
   "id": "1f216e1776c93aea"
  },
  {
   "metadata": {},
   "cell_type": "code",
   "outputs": [
    {
     "name": "stdout",
     "output_type": "stream",
     "text": [
      "12\n"
     ]
    }
   ],
   "execution_count": 169,
   "source": [
    "p = 3 # 11 => sağdan 2 tane ekleyip al 1100\n",
    "p <<= 2\n",
    "print(p)"
   ],
   "id": "6957deae321b3b8e"
  },
  {
   "metadata": {
    "ExecuteTime": {
     "end_time": "2025-07-22T15:43:20.068389Z",
     "start_time": "2025-07-22T15:43:20.066213Z"
    }
   },
   "cell_type": "code",
   "source": [
    "p = 3 #11 => sağdan 1 tane 0 ekleyin ve alın 110\n",
    "p <<= 1\n",
    "print(p)"
   ],
   "id": "bcf3261a8dd5e74c",
   "outputs": [
    {
     "name": "stdout",
     "output_type": "stream",
     "text": [
      "6\n"
     ]
    }
   ],
   "execution_count": 171
  },
  {
   "metadata": {
    "ExecuteTime": {
     "end_time": "2025-07-22T15:50:17.380115Z",
     "start_time": "2025-07-22T15:50:17.377679Z"
    }
   },
   "cell_type": "code",
   "source": [
    "p = -3 # ikili tümleyen al 3'ü (011)' + 1 = 100 + 1 = 101 olur sonrasında 101 0 yani 1010 oldu bu da -2\n",
    "p >>= 1\n",
    "print(p)"
   ],
   "id": "4a8014c148369e4a",
   "outputs": [
    {
     "name": "stdout",
     "output_type": "stream",
     "text": [
      "-2\n"
     ]
    }
   ],
   "execution_count": 173
  },
  {
   "metadata": {},
   "cell_type": "markdown",
   "source": "Üyelik Operatörleri - Membership Operators:   in not in",
   "id": "b16ccc8422064ad3"
  },
  {
   "metadata": {
    "ExecuteTime": {
     "end_time": "2025-07-22T15:55:10.527324Z",
     "start_time": "2025-07-22T15:55:10.525080Z"
    }
   },
   "cell_type": "code",
   "source": "kelime1 = \"Türkiye\"",
   "id": "30ab10dc2cbe2ce3",
   "outputs": [],
   "execution_count": 174
  },
  {
   "metadata": {
    "ExecuteTime": {
     "end_time": "2025-07-22T15:55:29.162105Z",
     "start_time": "2025-07-22T15:55:29.159292Z"
    }
   },
   "cell_type": "code",
   "source": "print(\"ü\" in kelime1) #kelime içinde var mı diyince True diyecektir",
   "id": "881e1baa70078d1",
   "outputs": [
    {
     "name": "stdout",
     "output_type": "stream",
     "text": [
      "True\n"
     ]
    }
   ],
   "execution_count": 175
  },
  {
   "metadata": {
    "ExecuteTime": {
     "end_time": "2025-07-22T15:55:48.804731Z",
     "start_time": "2025-07-22T15:55:48.802246Z"
    }
   },
   "cell_type": "code",
   "source": "print(\"t\" in kelime1)#kelime içinde var mı diyince False çünkü t ile T farklı",
   "id": "d379f1aec257e213",
   "outputs": [
    {
     "name": "stdout",
     "output_type": "stream",
     "text": [
      "False\n"
     ]
    }
   ],
   "execution_count": 176
  },
  {
   "metadata": {
    "ExecuteTime": {
     "end_time": "2025-07-22T15:56:02.254181Z",
     "start_time": "2025-07-22T15:56:02.251407Z"
    }
   },
   "cell_type": "code",
   "source": "print(\"ye\" in kelime1) #kelime içinde var mı diyince True",
   "id": "23f56c9ef8d8267a",
   "outputs": [
    {
     "name": "stdout",
     "output_type": "stream",
     "text": [
      "True\n"
     ]
    }
   ],
   "execution_count": 177
  },
  {
   "metadata": {
    "ExecuteTime": {
     "end_time": "2025-07-22T15:56:27.154468Z",
     "start_time": "2025-07-22T15:56:27.151988Z"
    }
   },
   "cell_type": "code",
   "source": "print(\"ey\" in kelime1) #sıralamasına da bakar sadece harfler var mı demez False",
   "id": "2fd2cf11c3a3934f",
   "outputs": [
    {
     "name": "stdout",
     "output_type": "stream",
     "text": [
      "False\n"
     ]
    }
   ],
   "execution_count": 178
  },
  {
   "metadata": {
    "ExecuteTime": {
     "end_time": "2025-07-22T15:57:50.299826Z",
     "start_time": "2025-07-22T15:57:50.296798Z"
    }
   },
   "cell_type": "code",
   "source": [
    "liste = [1, 2, 3]\n",
    "print(1 in liste)\n",
    "print(2 in liste)\n",
    "print(4 in liste)"
   ],
   "id": "363f4f072cc55d08",
   "outputs": [
    {
     "name": "stdout",
     "output_type": "stream",
     "text": [
      "True\n",
      "True\n",
      "False\n"
     ]
    }
   ],
   "execution_count": 182
  },
  {
   "metadata": {
    "ExecuteTime": {
     "end_time": "2025-07-22T15:58:02.599009Z",
     "start_time": "2025-07-22T15:58:02.596645Z"
    }
   },
   "cell_type": "code",
   "source": "print(\"g\" not in kelime1)",
   "id": "8100d44526e8f6d8",
   "outputs": [
    {
     "name": "stdout",
     "output_type": "stream",
     "text": [
      "True\n"
     ]
    }
   ],
   "execution_count": 183
  },
  {
   "metadata": {
    "ExecuteTime": {
     "end_time": "2025-07-22T15:58:07.557025Z",
     "start_time": "2025-07-22T15:58:07.554717Z"
    }
   },
   "cell_type": "code",
   "source": "print(5 not in liste)",
   "id": "4b6ac6060f2a16c7",
   "outputs": [
    {
     "name": "stdout",
     "output_type": "stream",
     "text": [
      "True\n"
     ]
    }
   ],
   "execution_count": 184
  },
  {
   "metadata": {
    "ExecuteTime": {
     "end_time": "2025-07-22T15:58:20.186742Z",
     "start_time": "2025-07-22T15:58:20.184562Z"
    }
   },
   "cell_type": "code",
   "source": "print(\"r\" in kelime1)",
   "id": "63073cc907325a48",
   "outputs": [
    {
     "name": "stdout",
     "output_type": "stream",
     "text": [
      "True\n"
     ]
    }
   ],
   "execution_count": 185
  },
  {
   "metadata": {
    "ExecuteTime": {
     "end_time": "2025-07-22T15:58:25.990945Z",
     "start_time": "2025-07-22T15:58:25.988469Z"
    }
   },
   "cell_type": "code",
   "source": "print(3 not in liste)",
   "id": "f4f1823c796af609",
   "outputs": [
    {
     "name": "stdout",
     "output_type": "stream",
     "text": [
      "False\n"
     ]
    }
   ],
   "execution_count": 186
  }
 ],
 "metadata": {
  "kernelspec": {
   "display_name": "Python 3",
   "language": "python",
   "name": "python3"
  },
  "language_info": {
   "codemirror_mode": {
    "name": "ipython",
    "version": 2
   },
   "file_extension": ".py",
   "mimetype": "text/x-python",
   "name": "python",
   "nbconvert_exporter": "python",
   "pygments_lexer": "ipython2",
   "version": "2.7.6"
  }
 },
 "nbformat": 4,
 "nbformat_minor": 5
}
