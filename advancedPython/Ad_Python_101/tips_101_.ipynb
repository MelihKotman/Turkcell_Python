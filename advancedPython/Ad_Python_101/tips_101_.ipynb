{
 "cells": [
  {
   "metadata": {},
   "cell_type": "markdown",
   "source": "Yorum satırları\n",
   "id": "88c3a7d04b0b39cf"
  },
  {
   "cell_type": "code",
   "id": "initial_id",
   "metadata": {
    "collapsed": true,
    "ExecuteTime": {
     "end_time": "2025-07-21T15:40:14.117581Z",
     "start_time": "2025-07-21T15:40:14.115298Z"
    }
   },
   "source": [
    "#Eğer tek satırlık yapmak istiyorsak yorum satırı olarak \"#\" koyuyoruz en başa\n",
    "\"\"\"\n",
    "Bu bir çoklu\n",
    "satır yorum\n",
    "için başa ve sona üç \" işareti koyuyoruz.\n",
    "Daha çok dokümantasyon için kullanılıyor.\n",
    "\"\"\""
   ],
   "outputs": [],
   "execution_count": 1
  },
  {
   "metadata": {},
   "cell_type": "markdown",
   "source": "Kaçış satırı karakteri \\n new line yani yeni satır anlamına gelir konsola art arda yazdırma işleminde yeni satırdan başlatmasını sağlar",
   "id": "c7e325650837bb7f"
  },
  {
   "metadata": {
    "ExecuteTime": {
     "end_time": "2025-07-21T20:15:49.391660Z",
     "start_time": "2025-07-21T20:15:49.388023Z"
    }
   },
   "cell_type": "code",
   "source": "print(\"İstanbul\\nAnkara\\nBolu\\n\")",
   "id": "c599f0a185e9d811",
   "outputs": [
    {
     "name": "stdout",
     "output_type": "stream",
     "text": [
      "İstanbul\n",
      "Ankara\n",
      "Bolu\n",
      "\n"
     ]
    }
   ],
   "execution_count": 1
  },
  {
   "metadata": {},
   "cell_type": "markdown",
   "source": "Tek tırnak işareti bazen yazdırmada kullanılması isterken SyntaxError alabiliriz. Bunun için \\' şeklinde yazarsak ya da \\\" kullanacaksınız",
   "id": "f91776bedb5a27cb"
  },
  {
   "metadata": {
    "ExecuteTime": {
     "end_time": "2025-07-21T20:17:23.857646Z",
     "start_time": "2025-07-21T20:17:23.854536Z"
    }
   },
   "cell_type": "code",
   "source": "print(\"Türkiye\\'nin en güzel şehri = \\\"Bolu\\\" \")",
   "id": "bab332f216ea5414",
   "outputs": [
    {
     "name": "stdout",
     "output_type": "stream",
     "text": [
      "Türkiye'nin en güzel şehri = \"Bolu\" \n"
     ]
    }
   ],
   "execution_count": 2
  },
  {
   "metadata": {},
   "cell_type": "markdown",
   "source": "Karakter birleştirme yazdıram fonksiyonundayken ayrı ayrı çift tırnak yaparsak ve bunları birleştirmek istediğimizde aralarına + yaparız",
   "id": "4a2894117c0c79d0"
  },
  {
   "metadata": {
    "ExecuteTime": {
     "end_time": "2025-07-21T20:18:50.173673Z",
     "start_time": "2025-07-21T20:18:50.170836Z"
    }
   },
   "cell_type": "code",
   "source": "print(\"Python\" + \" \" + \"Eğitimi\")",
   "id": "899fd283dfc84e82",
   "outputs": [
    {
     "name": "stdout",
     "output_type": "stream",
     "text": [
      "Python Eğitimi\n"
     ]
    }
   ],
   "execution_count": 4
  },
  {
   "metadata": {},
   "cell_type": "markdown",
   "source": "Raw String yani işlenmemiş string",
   "id": "a880b0dd83d8a460"
  },
  {
   "metadata": {
    "ExecuteTime": {
     "end_time": "2025-07-21T20:20:10.661097Z",
     "start_time": "2025-07-21T20:20:10.657712Z"
    }
   },
   "cell_type": "code",
   "source": "print(r'C:\\Users\\melih') #Klasör rolu koyarsak tırnaktan önce r koyarsak raw string ve özel karakter olmaması gerek misal r kullanmasak iki tane ters \\ kullanmak gerek",
   "id": "c36e396361ff2aa4",
   "outputs": [
    {
     "name": "stdout",
     "output_type": "stream",
     "text": [
      "C:\\Users\\melih\n"
     ]
    }
   ],
   "execution_count": 5
  },
  {
   "metadata": {
    "ExecuteTime": {
     "end_time": "2025-07-21T20:20:29.392554Z",
     "start_time": "2025-07-21T20:20:29.389374Z"
    }
   },
   "cell_type": "code",
   "source": "print(r\"C:\\Users\\melih\")",
   "id": "a5e97393f763ad45",
   "outputs": [
    {
     "name": "stdout",
     "output_type": "stream",
     "text": [
      "C:\\Users\\melih\n"
     ]
    }
   ],
   "execution_count": 7
  },
  {
   "metadata": {},
   "cell_type": "markdown",
   "source": "Sayıları Yazdırma: İçinde işlem yapıp yazdıram yapabiliriz",
   "id": "4327af799febcaa6"
  },
  {
   "metadata": {
    "ExecuteTime": {
     "end_time": "2025-07-21T20:21:42.224240Z",
     "start_time": "2025-07-21T20:21:42.221013Z"
    }
   },
   "cell_type": "code",
   "source": "print(7 + 9)",
   "id": "cd094214085bfd6a",
   "outputs": [
    {
     "name": "stdout",
     "output_type": "stream",
     "text": [
      "16\n"
     ]
    }
   ],
   "execution_count": 8
  },
  {
   "metadata": {
    "ExecuteTime": {
     "end_time": "2025-07-21T20:21:45.238026Z",
     "start_time": "2025-07-21T20:21:45.235337Z"
    }
   },
   "cell_type": "code",
   "source": "print(7 - 9)",
   "id": "3f971bae507647e8",
   "outputs": [
    {
     "name": "stdout",
     "output_type": "stream",
     "text": [
      "-2\n"
     ]
    }
   ],
   "execution_count": 9
  },
  {
   "metadata": {
    "ExecuteTime": {
     "end_time": "2025-07-21T20:21:47.499700Z",
     "start_time": "2025-07-21T20:21:47.497323Z"
    }
   },
   "cell_type": "code",
   "source": "print(7 * 9)",
   "id": "97eff8eb14d252a1",
   "outputs": [
    {
     "name": "stdout",
     "output_type": "stream",
     "text": [
      "63\n"
     ]
    }
   ],
   "execution_count": 10
  },
  {
   "metadata": {
    "ExecuteTime": {
     "end_time": "2025-07-21T20:21:50.598020Z",
     "start_time": "2025-07-21T20:21:50.595790Z"
    }
   },
   "cell_type": "code",
   "source": "print(7 / 9)",
   "id": "ccc9369bfb8e750a",
   "outputs": [
    {
     "name": "stdout",
     "output_type": "stream",
     "text": [
      "0.7777777777777778\n"
     ]
    }
   ],
   "execution_count": 11
  },
  {
   "metadata": {
    "ExecuteTime": {
     "end_time": "2025-07-21T20:21:53.218323Z",
     "start_time": "2025-07-21T20:21:53.215761Z"
    }
   },
   "cell_type": "code",
   "source": "print(7 % 9)",
   "id": "d7b4ef4865f56a42",
   "outputs": [
    {
     "name": "stdout",
     "output_type": "stream",
     "text": [
      "7\n"
     ]
    }
   ],
   "execution_count": 12
  },
  {
   "metadata": {
    "ExecuteTime": {
     "end_time": "2025-07-21T20:22:06.563561Z",
     "start_time": "2025-07-21T20:22:06.561212Z"
    }
   },
   "cell_type": "code",
   "source": "print(8 / 2 * (3 + 4))",
   "id": "d48c78e931df3fc",
   "outputs": [
    {
     "name": "stdout",
     "output_type": "stream",
     "text": [
      "28.0\n"
     ]
    }
   ],
   "execution_count": 13
  },
  {
   "metadata": {
    "ExecuteTime": {
     "end_time": "2025-07-21T20:22:15.198327Z",
     "start_time": "2025-07-21T20:22:15.195956Z"
    }
   },
   "cell_type": "code",
   "source": "print(7 ** 9)",
   "id": "3556f1204d10b50b",
   "outputs": [
    {
     "name": "stdout",
     "output_type": "stream",
     "text": [
      "40353607\n"
     ]
    }
   ],
   "execution_count": 14
  },
  {
   "metadata": {
    "ExecuteTime": {
     "end_time": "2025-07-21T20:23:19.962624Z",
     "start_time": "2025-07-21T20:23:19.959968Z"
    }
   },
   "cell_type": "code",
   "source": "print(3.1 + 4.2) #Kesirli sayıda sapmama olabilir bu şekilde gösterim olabiliyor",
   "id": "9ecb3310c3df2ede",
   "outputs": [
    {
     "name": "stdout",
     "output_type": "stream",
     "text": [
      "7.300000000000001\n"
     ]
    }
   ],
   "execution_count": 16
  },
  {
   "metadata": {},
   "cell_type": "markdown",
   "source": "print() fonksiyonu parametreleri",
   "id": "7e73f4c120b3c8a2"
  },
  {
   "metadata": {},
   "cell_type": "code",
   "outputs": [],
   "execution_count": null,
   "source": [
    "print(\"Python\", end = \" \") #Default olarak boşluk olaraktır\n",
    "#\n",
    "print(\"Melih\")\n",
    "print(\"Yiğit\")\n",
    "#\n",
    "print(\"Python\", sep = \" \") #Default olarak boşluk vardır\n",
    "#\n",
    "print(\"Melih\", \"Yiğit\")\n",
    "#"
   ],
   "id": "c144876e15b5853d"
  },
  {
   "metadata": {
    "ExecuteTime": {
     "end_time": "2025-07-21T20:26:19.087465Z",
     "start_time": "2025-07-21T20:26:19.084149Z"
    }
   },
   "cell_type": "code",
   "source": "print(7, 5 ,2025, sep = \"/\")",
   "id": "7ed5a129678046b2",
   "outputs": [
    {
     "name": "stdout",
     "output_type": "stream",
     "text": [
      "7/5/2025\n"
     ]
    }
   ],
   "execution_count": 19
  },
  {
   "metadata": {
    "ExecuteTime": {
     "end_time": "2025-07-21T20:26:44.180527Z",
     "start_time": "2025-07-21T20:26:44.178024Z"
    }
   },
   "cell_type": "code",
   "source": "print(*\"TC\", sep = \".\") #burada her elemanı ayıran * işareti ve aralarına , koyan sep argümanı",
   "id": "7fa3b952a4a86a63",
   "outputs": [
    {
     "name": "stdout",
     "output_type": "stream",
     "text": [
      "T.C\n"
     ]
    }
   ],
   "execution_count": 20
  },
  {
   "metadata": {
    "ExecuteTime": {
     "end_time": "2025-07-21T20:27:14.746489Z",
     "start_time": "2025-07-21T20:27:14.744077Z"
    }
   },
   "cell_type": "code",
   "source": "print(*\"TC\")",
   "id": "3cfb45f418df7f38",
   "outputs": [
    {
     "name": "stdout",
     "output_type": "stream",
     "text": [
      "T C\n"
     ]
    }
   ],
   "execution_count": 21
  },
  {
   "metadata": {},
   "cell_type": "markdown",
   "source": "Format metodu : Stringlere ait metottur, tırnak içindeki süslü parantezin içine yerleştirebiliyoruz",
   "id": "ca44783da9abb9cc"
  },
  {
   "metadata": {
    "ExecuteTime": {
     "end_time": "2025-07-21T20:31:01.791408Z",
     "start_time": "2025-07-21T20:31:01.788326Z"
    }
   },
   "cell_type": "code",
   "source": [
    "print(\"Adı: {} Soyadı: {} Doğum Tarihi: {}\".format(\"Melih Yiğit\", \"Kotman\", \"12/09/2001\"))\n",
    "print(\"Adı: {} Soyadı: {} Doğum Tarihi: {}\".format(\"Yiğit\", \"Kot\", \"12/02/2011\"))"
   ],
   "id": "4516c59a863d150d",
   "outputs": [
    {
     "name": "stdout",
     "output_type": "stream",
     "text": [
      "Adı: Melih Yiğit Soyadı: Kotman Doğum Tarihi: 12/09/2001\n",
      "Adı: Yiğit Soyadı: Kot Doğum Tarihi: 12/02/2011\n"
     ]
    }
   ],
   "execution_count": 25
  },
  {
   "metadata": {},
   "cell_type": "markdown",
   "source": "TODO List yani yapılacak listesi, bu fazla büyük sayılarda olan kod hatırlama aracıya ve ulaşım içindir",
   "id": "5914377ab8068395"
  },
  {
   "metadata": {
    "ExecuteTime": {
     "end_time": "2025-07-21T20:33:13.044934Z",
     "start_time": "2025-07-21T20:33:13.042123Z"
    }
   },
   "cell_type": "code",
   "source": [
    "#TODO burada işlem yapıalcaktır\n",
    "\n",
    "#TODO Melih K. yapacaktır\n",
    "\n",
    "#TODO Burası 26/09/2025 tarihinde yapılacaktır\n",
    "\n",
    "#eğer görmek istiyorsak show TODO list komutuna giderseniz her satırdaki her şeyi görebilirsiniz"
   ],
   "id": "35d2ade356515af9",
   "outputs": [],
   "execution_count": 27
  },
  {
   "metadata": {},
   "cell_type": "markdown",
   "source": "help fonksiyonu, yardımcı fonksiyondur bize istenilenin kılavuzunu verir",
   "id": "1fc6ee10f17998a1"
  },
  {
   "metadata": {
    "ExecuteTime": {
     "end_time": "2025-07-21T20:34:21.801865Z",
     "start_time": "2025-07-21T20:34:21.798286Z"
    }
   },
   "cell_type": "code",
   "source": "help(print)",
   "id": "697105c6deaf2aaf",
   "outputs": [
    {
     "name": "stdout",
     "output_type": "stream",
     "text": [
      "Help on built-in function print in module builtins:\n",
      "\n",
      "print(*args, sep=' ', end='\\n', file=None, flush=False)\n",
      "    Prints the values to a stream, or to sys.stdout by default.\n",
      "\n",
      "    sep\n",
      "      string inserted between values, default a space.\n",
      "    end\n",
      "      string appended after the last value, default a newline.\n",
      "    file\n",
      "      a file-like object (stream); defaults to the current sys.stdout.\n",
      "    flush\n",
      "      whether to forcibly flush the stream.\n",
      "\n"
     ]
    }
   ],
   "execution_count": 28
  },
  {
   "metadata": {
    "ExecuteTime": {
     "end_time": "2025-07-21T20:34:26.688389Z",
     "start_time": "2025-07-21T20:34:26.685570Z"
    }
   },
   "cell_type": "code",
   "source": "help(len)",
   "id": "617ce98d1f6cc106",
   "outputs": [
    {
     "name": "stdout",
     "output_type": "stream",
     "text": [
      "Help on built-in function len in module builtins:\n",
      "\n",
      "len(obj, /)\n",
      "    Return the number of items in a container.\n",
      "\n"
     ]
    }
   ],
   "execution_count": 29
  },
  {
   "metadata": {},
   "cell_type": "code",
   "outputs": [],
   "execution_count": null,
   "source": "",
   "id": "2356c1a8c76b92ef"
  }
 ],
 "metadata": {
  "kernelspec": {
   "display_name": "Python 3",
   "language": "python",
   "name": "python3"
  },
  "language_info": {
   "codemirror_mode": {
    "name": "ipython",
    "version": 2
   },
   "file_extension": ".py",
   "mimetype": "text/x-python",
   "name": "python",
   "nbconvert_exporter": "python",
   "pygments_lexer": "ipython2",
   "version": "2.7.6"
  }
 },
 "nbformat": 4,
 "nbformat_minor": 5
}
