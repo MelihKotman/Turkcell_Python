{
 "cells": [
  {
   "metadata": {},
   "cell_type": "markdown",
   "source": "Değişkenler yani variables , içinde değer tutan ve değiştirilmesini sağlar",
   "id": "b9a73e7630a2462"
  },
  {
   "cell_type": "code",
   "id": "initial_id",
   "metadata": {
    "collapsed": true,
    "ExecuteTime": {
     "end_time": "2025-07-21T20:39:20.757758Z",
     "start_time": "2025-07-21T20:39:20.754791Z"
    }
   },
   "source": [
    "sayi1 = 155\n",
    "sayi2 = 167\n",
    "#Buradakiler iki tane int değeri vardır"
   ],
   "outputs": [],
   "execution_count": 1
  },
  {
   "metadata": {},
   "cell_type": "code",
   "source": "#print(sayi3) Olmayan bir değişkeni kullanamayız bundan dolayı değişkeni görmeliyiz",
   "id": "8a397dd458e816ee",
   "outputs": [],
   "execution_count": null
  },
  {
   "metadata": {
    "ExecuteTime": {
     "end_time": "2025-07-21T20:43:18.734452Z",
     "start_time": "2025-07-21T20:43:18.731349Z"
    }
   },
   "cell_type": "code",
   "source": [
    "print = 10 #normalde fonksiyonken ben değişken atarsam print kullanamayabilirim ondan dolayı bunları kullanmayalım\n",
    "del print"
   ],
   "id": "f4c04b8bbbc3a3e3",
   "outputs": [],
   "execution_count": 9
  },
  {
   "metadata": {},
   "cell_type": "code",
   "source": "#print(\"\") #TypeError alırız çünkü fonksiyonu değişken yaptık",
   "id": "a9c750f2a3f75802",
   "outputs": [],
   "execution_count": null
  },
  {
   "metadata": {},
   "cell_type": "markdown",
   "source": "print(\"...\".isidentifier()) yaparsak ve tırnak içine yazmak istediğimiz değişken ismini koyarsak bize yapılıp yapılmayacağını gösterir",
   "id": "560a08bfc2b49f5f"
  },
  {
   "metadata": {
    "ExecuteTime": {
     "end_time": "2025-07-21T20:43:24.687317Z",
     "start_time": "2025-07-21T20:43:24.684215Z"
    }
   },
   "cell_type": "code",
   "source": [
    "#baş harfinde sayı ile başlayamaz 1sad = 45\n",
    "print(\"1deneme\".isidentifier())"
   ],
   "id": "3908a6c0fb9e714d",
   "outputs": [
    {
     "name": "stdout",
     "output_type": "stream",
     "text": [
      "False\n"
     ]
    }
   ],
   "execution_count": 10
  },
  {
   "metadata": {},
   "cell_type": "markdown",
   "source": "int yani tamsayı değişkenler",
   "id": "e1175e723ee8e67f"
  },
  {
   "metadata": {
    "ExecuteTime": {
     "end_time": "2025-07-21T20:45:39.894537Z",
     "start_time": "2025-07-21T20:45:39.891455Z"
    }
   },
   "cell_type": "code",
   "source": [
    "sayi1 = 165\n",
    "sayi2 = 57"
   ],
   "id": "95633584b9e3b1b1",
   "outputs": [],
   "execution_count": 11
  },
  {
   "metadata": {
    "ExecuteTime": {
     "end_time": "2025-07-21T20:45:40.835697Z",
     "start_time": "2025-07-21T20:45:40.832924Z"
    }
   },
   "cell_type": "code",
   "source": "print(\"Toplama\", sayi1 + sayi2)",
   "id": "871739324b4827fc",
   "outputs": [
    {
     "name": "stdout",
     "output_type": "stream",
     "text": [
      "Toplama 222\n"
     ]
    }
   ],
   "execution_count": 12
  },
  {
   "metadata": {
    "ExecuteTime": {
     "end_time": "2025-07-21T20:45:41.371725Z",
     "start_time": "2025-07-21T20:45:41.368787Z"
    }
   },
   "cell_type": "code",
   "source": "print(\"Çıkarma\", sayi1 - sayi2)",
   "id": "8a03eacc650805ce",
   "outputs": [
    {
     "name": "stdout",
     "output_type": "stream",
     "text": [
      "Çıkarma 108\n"
     ]
    }
   ],
   "execution_count": 13
  },
  {
   "metadata": {
    "ExecuteTime": {
     "end_time": "2025-07-21T20:45:41.885760Z",
     "start_time": "2025-07-21T20:45:41.883253Z"
    }
   },
   "cell_type": "code",
   "source": "print(\"Çarpma\", sayi1 * sayi2)",
   "id": "dccdda80604fbe24",
   "outputs": [
    {
     "name": "stdout",
     "output_type": "stream",
     "text": [
      "Çarpma 9405\n"
     ]
    }
   ],
   "execution_count": 14
  },
  {
   "metadata": {
    "ExecuteTime": {
     "end_time": "2025-07-21T20:45:42.395193Z",
     "start_time": "2025-07-21T20:45:42.391021Z"
    }
   },
   "cell_type": "code",
   "source": "print(\"Bölme:\", sayi1 / sayi2)",
   "id": "5d95681e764fd296",
   "outputs": [
    {
     "name": "stdout",
     "output_type": "stream",
     "text": [
      "Bölme: 2.8947368421052633\n"
     ]
    }
   ],
   "execution_count": 15
  },
  {
   "metadata": {
    "ExecuteTime": {
     "end_time": "2025-07-21T20:46:03.724270Z",
     "start_time": "2025-07-21T20:46:03.721622Z"
    }
   },
   "cell_type": "code",
   "source": "print(type(sayi1))",
   "id": "41ba3586b837d2b6",
   "outputs": [
    {
     "name": "stdout",
     "output_type": "stream",
     "text": [
      "<class 'int'>\n"
     ]
    }
   ],
   "execution_count": 16
  },
  {
   "metadata": {
    "ExecuteTime": {
     "end_time": "2025-07-21T20:46:09.067355Z",
     "start_time": "2025-07-21T20:46:09.064408Z"
    }
   },
   "cell_type": "code",
   "source": "print(type(sayi2))",
   "id": "4baad0885f06fad",
   "outputs": [
    {
     "name": "stdout",
     "output_type": "stream",
     "text": [
      "<class 'int'>\n"
     ]
    }
   ],
   "execution_count": 17
  },
  {
   "metadata": {},
   "cell_type": "markdown",
   "source": "Tip belirlemesini Python dilinde otomatik yapar",
   "id": "419d51dcd132da0"
  },
  {
   "metadata": {
    "ExecuteTime": {
     "end_time": "2025-07-21T20:46:51.239798Z",
     "start_time": "2025-07-21T20:46:51.236887Z"
    }
   },
   "cell_type": "code",
   "source": "print(id(sayi1)) #id ile değerin ben hangi adreste olduğunu gösterir",
   "id": "c19bdec791809209",
   "outputs": [
    {
     "name": "stdout",
     "output_type": "stream",
     "text": [
      "4391337760\n"
     ]
    }
   ],
   "execution_count": 18
  },
  {
   "metadata": {
    "ExecuteTime": {
     "end_time": "2025-07-21T20:47:34.299560Z",
     "start_time": "2025-07-21T20:47:34.296516Z"
    }
   },
   "cell_type": "code",
   "source": [
    "sayi3 = 165\n",
    "print(id(sayi3)) #Aynı değerde olan değişkenleri aynı adresteki değeri gösterir"
   ],
   "id": "bb6206f0ef8c4dd9",
   "outputs": [
    {
     "name": "stdout",
     "output_type": "stream",
     "text": [
      "4391337760\n"
     ]
    }
   ],
   "execution_count": 20
  },
  {
   "metadata": {
    "ExecuteTime": {
     "end_time": "2025-07-21T20:48:14.729518Z",
     "start_time": "2025-07-21T20:48:14.726572Z"
    }
   },
   "cell_type": "code",
   "source": [
    "sayi3 = 54\n",
    "print(id(sayi3))"
   ],
   "id": "12f2ebd87349a18c",
   "outputs": [
    {
     "name": "stdout",
     "output_type": "stream",
     "text": [
      "4391334208\n"
     ]
    }
   ],
   "execution_count": 21
  },
  {
   "metadata": {},
   "cell_type": "markdown",
   "source": "Float yani kesirli değişkenler",
   "id": "2e0e0210c3cdcd7d"
  },
  {
   "metadata": {
    "ExecuteTime": {
     "end_time": "2025-07-21T20:49:10.491821Z",
     "start_time": "2025-07-21T20:49:10.489231Z"
    }
   },
   "cell_type": "code",
   "source": [
    "sayi4 = 16.5\n",
    "sayi5 = 15.3"
   ],
   "id": "bef0b35583d7383",
   "outputs": [],
   "execution_count": 22
  },
  {
   "metadata": {
    "ExecuteTime": {
     "end_time": "2025-07-21T20:49:30.302333Z",
     "start_time": "2025-07-21T20:49:30.299204Z"
    }
   },
   "cell_type": "code",
   "source": "print(\"Toplama: \", sayi4 + sayi5)",
   "id": "b4e70b4e3bb2da77",
   "outputs": [
    {
     "name": "stdout",
     "output_type": "stream",
     "text": [
      "Toplama:  31.8\n"
     ]
    }
   ],
   "execution_count": 23
  },
  {
   "metadata": {
    "ExecuteTime": {
     "end_time": "2025-07-21T20:49:42.566334Z",
     "start_time": "2025-07-21T20:49:42.563207Z"
    }
   },
   "cell_type": "code",
   "source": "print(\"Çıkarma: \", sayi4 + sayi5)",
   "id": "4a11fd5fcd4113be",
   "outputs": [
    {
     "name": "stdout",
     "output_type": "stream",
     "text": [
      "Çıkarma:  31.8\n"
     ]
    }
   ],
   "execution_count": 24
  },
  {
   "metadata": {
    "ExecuteTime": {
     "end_time": "2025-07-21T20:49:58.179611Z",
     "start_time": "2025-07-21T20:49:58.176545Z"
    }
   },
   "cell_type": "code",
   "source": "print(\"Bölme: \", sayi4 + sayi5)",
   "id": "cf2d10aaa9d50cf",
   "outputs": [
    {
     "name": "stdout",
     "output_type": "stream",
     "text": [
      "Bölme:  31.8\n"
     ]
    }
   ],
   "execution_count": 25
  },
  {
   "metadata": {
    "ExecuteTime": {
     "end_time": "2025-07-21T20:50:13.577207Z",
     "start_time": "2025-07-21T20:50:13.574263Z"
    }
   },
   "cell_type": "code",
   "source": "print(\"Çarpma: \", sayi4 * sayi5)",
   "id": "139004f7a2a98c00",
   "outputs": [
    {
     "name": "stdout",
     "output_type": "stream",
     "text": [
      "Çarpma:  252.45000000000002\n"
     ]
    }
   ],
   "execution_count": 26
  },
  {
   "metadata": {},
   "cell_type": "code",
   "outputs": [],
   "execution_count": null,
   "source": [
    "#değişken silmek istediğimizde\n",
    "del sayi4"
   ],
   "id": "177ca5acbae2fd28"
  },
  {
   "metadata": {
    "ExecuteTime": {
     "end_time": "2025-07-21T20:50:54.878743Z",
     "start_time": "2025-07-21T20:50:54.876393Z"
    }
   },
   "cell_type": "code",
   "source": "print(sayi4,type(sayi4))",
   "id": "2762bbcb9a89c222",
   "outputs": [
    {
     "name": "stdout",
     "output_type": "stream",
     "text": [
      "16.5 <class 'float'>\n"
     ]
    }
   ],
   "execution_count": 27
  },
  {
   "metadata": {
    "ExecuteTime": {
     "end_time": "2025-07-21T20:51:03.045539Z",
     "start_time": "2025-07-21T20:51:03.043334Z"
    }
   },
   "cell_type": "code",
   "source": "print(sayi5,type(sayi5))",
   "id": "21065421673fdd25",
   "outputs": [
    {
     "name": "stdout",
     "output_type": "stream",
     "text": [
      "15.3 <class 'float'>\n"
     ]
    }
   ],
   "execution_count": 28
  },
  {
   "metadata": {
    "ExecuteTime": {
     "end_time": "2025-07-21T20:51:38.426900Z",
     "start_time": "2025-07-21T20:51:38.424009Z"
    }
   },
   "cell_type": "code",
   "source": [
    "sayi6 = 15.0 #Misal bize göre tamsayı iken programlamada kesirli sayı olabiliyor\n",
    "print(sayi6,type(sayi6))"
   ],
   "id": "577f90964d683027",
   "outputs": [
    {
     "name": "stdout",
     "output_type": "stream",
     "text": [
      "15.0 <class 'float'>\n"
     ]
    }
   ],
   "execution_count": 30
  },
  {
   "metadata": {
    "ExecuteTime": {
     "end_time": "2025-07-21T20:52:05.709348Z",
     "start_time": "2025-07-21T20:52:05.706408Z"
    }
   },
   "cell_type": "code",
   "source": [
    "sayi7 = 15\n",
    "print(sayi7,type(sayi7))"
   ],
   "id": "1073758dc05d3e85",
   "outputs": [
    {
     "name": "stdout",
     "output_type": "stream",
     "text": [
      "15 <class 'int'>\n"
     ]
    }
   ],
   "execution_count": 32
  },
  {
   "metadata": {},
   "cell_type": "markdown",
   "source": "String (str) yani karakter dizisi değişkenleri",
   "id": "b7e75cd25a094778"
  },
  {
   "metadata": {
    "ExecuteTime": {
     "end_time": "2025-07-21T20:53:55.078912Z",
     "start_time": "2025-07-21T20:53:55.075653Z"
    }
   },
   "cell_type": "code",
   "source": [
    "isim = 'Melih' #Size = 5\n",
    "soyadı = \"Kotman\" #Size = 5"
   ],
   "id": "3e26b4a75eb8b1fd",
   "outputs": [],
   "execution_count": 33
  },
  {
   "metadata": {
    "ExecuteTime": {
     "end_time": "2025-07-21T20:54:09.346948Z",
     "start_time": "2025-07-21T20:54:09.344109Z"
    }
   },
   "cell_type": "code",
   "source": "print(isim, type(isim))",
   "id": "3cbf506edfae7745",
   "outputs": [
    {
     "name": "stdout",
     "output_type": "stream",
     "text": [
      "Melih <class 'str'>\n"
     ]
    }
   ],
   "execution_count": 34
  },
  {
   "metadata": {
    "ExecuteTime": {
     "end_time": "2025-07-21T20:54:19.717014Z",
     "start_time": "2025-07-21T20:54:19.713915Z"
    }
   },
   "cell_type": "code",
   "source": "print(soyadı, type(soyadı))",
   "id": "b5ab16ae03c8c4e6",
   "outputs": [
    {
     "name": "stdout",
     "output_type": "stream",
     "text": [
      "Kotman <class 'str'>\n"
     ]
    }
   ],
   "execution_count": 35
  },
  {
   "metadata": {
    "ExecuteTime": {
     "end_time": "2025-07-21T20:54:59.222093Z",
     "start_time": "2025-07-21T20:54:59.219854Z"
    }
   },
   "cell_type": "code",
   "source": "isim = 'Melih Yiğit' #Size = 11",
   "id": "f59592f9a2a404e",
   "outputs": [],
   "execution_count": 36
  },
  {
   "metadata": {
    "ExecuteTime": {
     "end_time": "2025-07-21T20:55:05.388084Z",
     "start_time": "2025-07-21T20:55:05.385401Z"
    }
   },
   "cell_type": "code",
   "source": "print(len(isim))",
   "id": "6a7c47ac47b0cfab",
   "outputs": [
    {
     "name": "stdout",
     "output_type": "stream",
     "text": [
      "11\n"
     ]
    }
   ],
   "execution_count": 37
  },
  {
   "metadata": {
    "ExecuteTime": {
     "end_time": "2025-07-21T20:55:10.477569Z",
     "start_time": "2025-07-21T20:55:10.475297Z"
    }
   },
   "cell_type": "code",
   "source": "print(len(soyadı))",
   "id": "b96c842bf8b819c9",
   "outputs": [
    {
     "name": "stdout",
     "output_type": "stream",
     "text": [
      "6\n"
     ]
    }
   ],
   "execution_count": 38
  },
  {
   "metadata": {},
   "cell_type": "markdown",
   "source": "Birleştirme yani concetenate",
   "id": "86fb28873573cbd3"
  },
  {
   "metadata": {
    "ExecuteTime": {
     "end_time": "2025-07-21T20:56:37.185376Z",
     "start_time": "2025-07-21T20:56:37.182525Z"
    }
   },
   "cell_type": "code",
   "source": "ismin_tamami = isim + \" \" + soyadı",
   "id": "4d9324241481e73b",
   "outputs": [],
   "execution_count": 41
  },
  {
   "metadata": {
    "ExecuteTime": {
     "end_time": "2025-07-21T20:56:37.834837Z",
     "start_time": "2025-07-21T20:56:37.832128Z"
    }
   },
   "cell_type": "code",
   "source": "print(ismin_tamami)",
   "id": "7dcf106d4ce4d93",
   "outputs": [
    {
     "name": "stdout",
     "output_type": "stream",
     "text": [
      "Melih Yiğit Kotman\n"
     ]
    }
   ],
   "execution_count": 42
  },
  {
   "metadata": {},
   "cell_type": "markdown",
   "source": "Karakter dizisindeki bir karaktere ulaşma",
   "id": "7d64ae70c825b7a9"
  },
  {
   "metadata": {
    "ExecuteTime": {
     "end_time": "2025-07-21T20:58:46.871714Z",
     "start_time": "2025-07-21T20:58:46.868412Z"
    }
   },
   "cell_type": "code",
   "source": "print(ismin_tamami[0],ismin_tamami[6],ismin_tamami[12],sep = \".\")",
   "id": "1f2ab449f71b505c",
   "outputs": [
    {
     "name": "stdout",
     "output_type": "stream",
     "text": [
      "M.Y.K\n"
     ]
    }
   ],
   "execution_count": 47
  },
  {
   "metadata": {},
   "cell_type": "markdown",
   "source": "Karakter dizisindeki bir değeri ya da değerleri işleme tabi tutmak",
   "id": "f29a8f09908aea86"
  },
  {
   "metadata": {},
   "cell_type": "code",
   "source": [
    "kelime = \"Galata\"\n",
    "kelime[0] = 'S' #TypeError yani değiştirilemez Immutable\n",
    "print(kelime)"
   ],
   "id": "fb2786e578c0cc43",
   "outputs": [],
   "execution_count": null
  },
  {
   "metadata": {
    "ExecuteTime": {
     "end_time": "2025-07-21T21:01:25.472039Z",
     "start_time": "2025-07-21T21:01:25.469335Z"
    }
   },
   "cell_type": "code",
   "source": [
    "kelime = 'S' + kelime[1:] #Burada ilk karakter haricinde değiştrmeyi sağlar\n",
    "print(kelime)"
   ],
   "id": "fc3149b197b0c465",
   "outputs": [
    {
     "name": "stdout",
     "output_type": "stream",
     "text": [
      "Salata\n"
     ]
    }
   ],
   "execution_count": 51
  },
  {
   "metadata": {
    "ExecuteTime": {
     "end_time": "2025-07-21T21:03:28.546722Z",
     "start_time": "2025-07-21T21:03:28.544013Z"
    }
   },
   "cell_type": "code",
   "source": [
    "takim = \"Galatasaray\"\n",
    "kelime1 = takim[0:6] #Buradaki amaç karakter dizisi içindeki iki karakter dizisine ayırma\n",
    "kelime2 = \"S\" + takim[7:]"
   ],
   "id": "7ce080a88c6df5",
   "outputs": [],
   "execution_count": 56
  },
  {
   "metadata": {
    "ExecuteTime": {
     "end_time": "2025-07-21T21:03:29.889622Z",
     "start_time": "2025-07-21T21:03:29.886804Z"
    }
   },
   "cell_type": "code",
   "source": "print(kelime1 + \" \" + kelime2)",
   "id": "da7c5f61caab2c04",
   "outputs": [
    {
     "name": "stdout",
     "output_type": "stream",
     "text": [
      "Galata Saray\n"
     ]
    }
   ],
   "execution_count": 57
  },
  {
   "metadata": {
    "ExecuteTime": {
     "end_time": "2025-07-21T21:03:30.747094Z",
     "start_time": "2025-07-21T21:03:30.744242Z"
    }
   },
   "cell_type": "code",
   "source": [
    "kelime3 = takim[3:6]\n",
    "print(kelime3)"
   ],
   "id": "dc99c0da59f721d3",
   "outputs": [
    {
     "name": "stdout",
     "output_type": "stream",
     "text": [
      "ata\n"
     ]
    }
   ],
   "execution_count": 58
  },
  {
   "metadata": {
    "ExecuteTime": {
     "end_time": "2025-07-21T21:04:13.992654Z",
     "start_time": "2025-07-21T21:04:13.989924Z"
    }
   },
   "cell_type": "code",
   "source": [
    "yer = \"istanbul\"\n",
    "\n",
    "print(yer[0::2]) # ilkteki başlama ikincisi bitme üçüncüsü ise kaçar kaçar atlama olacağını belirtir"
   ],
   "id": "1e5e69b08718034d",
   "outputs": [
    {
     "name": "stdout",
     "output_type": "stream",
     "text": [
      "itnu\n"
     ]
    }
   ],
   "execution_count": 59
  },
  {
   "metadata": {
    "ExecuteTime": {
     "end_time": "2025-07-21T21:04:45.892201Z",
     "start_time": "2025-07-21T21:04:45.889560Z"
    }
   },
   "cell_type": "code",
   "source": [
    "isim = \"kaan\"\n",
    "\n",
    "print(isim[::-1]) #Tersten yazdırma"
   ],
   "id": "6b0c0cf94ee532ce",
   "outputs": [
    {
     "name": "stdout",
     "output_type": "stream",
     "text": [
      "naak\n"
     ]
    }
   ],
   "execution_count": 60
  },
  {
   "metadata": {
    "ExecuteTime": {
     "end_time": "2025-07-21T21:06:04.426793Z",
     "start_time": "2025-07-21T21:06:04.424616Z"
    }
   },
   "cell_type": "code",
   "source": [
    "isims = \"Diyarbakır\"\n",
    "\n",
    "print(isims[7 : 4: -1])  #tersten alma oalcaksa en yüksekten başlar sonra en arkaya gider misal"
   ],
   "id": "7d5fccf12e9a7886",
   "outputs": [
    {
     "name": "stdout",
     "output_type": "stream",
     "text": [
      "kab\n"
     ]
    }
   ],
   "execution_count": 62
  },
  {
   "metadata": {},
   "cell_type": "markdown",
   "source": "Değişkenler RAM yani bellekte depolanması",
   "id": "ff4382f6582af15d"
  },
  {
   "metadata": {
    "ExecuteTime": {
     "end_time": "2025-07-21T21:07:32.623194Z",
     "start_time": "2025-07-21T21:07:32.620285Z"
    }
   },
   "cell_type": "code",
   "source": [
    "#Heap bölgesinde depolanır\n",
    "import sys #ne kadar yer kapladığını öğreneceğimiz kütphane\n",
    "\n",
    "sayi = 11111\n",
    "\n",
    "print(sys.getsizeof(sayi))"
   ],
   "id": "f1eb9791c0e3c2dd",
   "outputs": [
    {
     "name": "stdout",
     "output_type": "stream",
     "text": [
      "28\n"
     ]
    }
   ],
   "execution_count": 63
  },
  {
   "metadata": {
    "ExecuteTime": {
     "end_time": "2025-07-21T21:09:24.417715Z",
     "start_time": "2025-07-21T21:09:24.415094Z"
    }
   },
   "cell_type": "code",
   "source": [
    "sayi1 = 111111111111111111\n",
    "\n",
    "print(sys.getsizeof(sayi1))"
   ],
   "id": "680ccd6c3a7a42c6",
   "outputs": [
    {
     "name": "stdout",
     "output_type": "stream",
     "text": [
      "32\n"
     ]
    }
   ],
   "execution_count": 71
  },
  {
   "metadata": {
    "ExecuteTime": {
     "end_time": "2025-07-21T21:08:16.259365Z",
     "start_time": "2025-07-21T21:08:16.256825Z"
    }
   },
   "cell_type": "code",
   "source": [
    "sayi2 = 1\n",
    "\n",
    "print(sys.getsizeof(sayi2))"
   ],
   "id": "63dd5413a660fef8",
   "outputs": [
    {
     "name": "stdout",
     "output_type": "stream",
     "text": [
      "28\n"
     ]
    }
   ],
   "execution_count": 66
  },
  {
   "metadata": {
    "ExecuteTime": {
     "end_time": "2025-07-21T21:08:49.745376Z",
     "start_time": "2025-07-21T21:08:49.742849Z"
    }
   },
   "cell_type": "code",
   "source": [
    "str1 = \"Python Egitimi\"\n",
    "\n",
    "print(sys.getsizeof(str1)) # 2 byte"
   ],
   "id": "2d5938c35493e4e3",
   "outputs": [
    {
     "name": "stdout",
     "output_type": "stream",
     "text": [
      "55\n"
     ]
    }
   ],
   "execution_count": 67
  },
  {
   "metadata": {},
   "cell_type": "code",
   "outputs": [],
   "execution_count": null,
   "source": [
    "meyve = \"Erik\"\n",
    "\n",
    "print(meyve[0])\n",
    "print(meyve[1])\n",
    "print(meyve[2])\n",
    "print(meyve[3])"
   ],
   "id": "694476cba8ebf27a"
  },
  {
   "metadata": {},
   "cell_type": "markdown",
   "source": "Tip Dönüşüm - Type Conversion",
   "id": "505deed95b9d1c2"
  },
  {
   "metadata": {
    "ExecuteTime": {
     "end_time": "2025-07-21T21:12:11.301820Z",
     "start_time": "2025-07-21T21:12:11.298375Z"
    }
   },
   "cell_type": "code",
   "source": [
    "x = 6 #Int\n",
    "y = 5.8 #Float\n",
    "z = \"185\" #String 1,8 ve 5 olarak okunur"
   ],
   "id": "c4d4cfccf4b0c34d",
   "outputs": [],
   "execution_count": 73
  },
  {
   "metadata": {
    "ExecuteTime": {
     "end_time": "2025-07-21T21:12:11.954511Z",
     "start_time": "2025-07-21T21:12:11.951798Z"
    }
   },
   "cell_type": "code",
   "source": "print(z * 2)",
   "id": "d575281f8bccc9a2",
   "outputs": [
    {
     "name": "stdout",
     "output_type": "stream",
     "text": [
      "185185\n"
     ]
    }
   ],
   "execution_count": 74
  },
  {
   "metadata": {
    "ExecuteTime": {
     "end_time": "2025-07-21T21:12:18.836848Z",
     "start_time": "2025-07-21T21:12:18.834317Z"
    }
   },
   "cell_type": "code",
   "source": "print(int(z) * 2)",
   "id": "b6966bb1570fd0e2",
   "outputs": [
    {
     "name": "stdout",
     "output_type": "stream",
     "text": [
      "370\n"
     ]
    }
   ],
   "execution_count": 75
  },
  {
   "metadata": {},
   "cell_type": "code",
   "source": [
    "z = \"a185\"\n",
    "print(int(z)) #ValueError biz bunu 10luk tabanda değiştiremeyiz yani çevirilebilir olmalıdır\n",
    "print(float(z)) #Aynı hata"
   ],
   "id": "8f0e8536570b8e3d",
   "outputs": [],
   "execution_count": null
  },
  {
   "metadata": {},
   "cell_type": "code",
   "source": [
    "z = \"8.7\"\n",
    "print(int(z)) #ValueError burada doğrudan çeviremez int değerine"
   ],
   "id": "cec883b5b2d27fd2",
   "outputs": [],
   "execution_count": null
  },
  {
   "metadata": {
    "ExecuteTime": {
     "end_time": "2025-07-21T21:13:42.733655Z",
     "start_time": "2025-07-21T21:13:42.731542Z"
    }
   },
   "cell_type": "code",
   "source": "print(float(z)) #Ama burada çevirebiliyoruz",
   "id": "e86d2015ae37ce19",
   "outputs": [
    {
     "name": "stdout",
     "output_type": "stream",
     "text": [
      "8.7\n"
     ]
    }
   ],
   "execution_count": 78
  },
  {
   "metadata": {
    "ExecuteTime": {
     "end_time": "2025-07-21T21:14:15.609028Z",
     "start_time": "2025-07-21T21:14:15.606235Z"
    }
   },
   "cell_type": "code",
   "source": "print(int(float(z))) #BÖyle yaparsak ilk float olacak sonra int değerine gelecek \"8.7\"-> 8.7 -> 8",
   "id": "a6e574f32de76f1d",
   "outputs": [
    {
     "name": "stdout",
     "output_type": "stream",
     "text": [
      "8\n"
     ]
    }
   ],
   "execution_count": 79
  },
  {
   "metadata": {
    "ExecuteTime": {
     "end_time": "2025-07-21T21:15:07.379774Z",
     "start_time": "2025-07-21T21:15:07.377412Z"
    }
   },
   "cell_type": "code",
   "source": [
    "z = \"192\"\n",
    "print(int(z))"
   ],
   "id": "9cd7b6476db53977",
   "outputs": [
    {
     "name": "stdout",
     "output_type": "stream",
     "text": [
      "192\n"
     ]
    }
   ],
   "execution_count": 80
  },
  {
   "metadata": {
    "ExecuteTime": {
     "end_time": "2025-07-21T21:15:39.265679Z",
     "start_time": "2025-07-21T21:15:39.263483Z"
    }
   },
   "cell_type": "code",
   "source": "print(int(y))",
   "id": "5d1f9a34b25b9e1",
   "outputs": [
    {
     "name": "stdout",
     "output_type": "stream",
     "text": [
      "5\n"
     ]
    }
   ],
   "execution_count": 81
  },
  {
   "metadata": {
    "ExecuteTime": {
     "end_time": "2025-07-21T21:15:44.519123Z",
     "start_time": "2025-07-21T21:15:44.516843Z"
    }
   },
   "cell_type": "code",
   "source": "print(float(x))",
   "id": "54e8a5aadd241aed",
   "outputs": [
    {
     "name": "stdout",
     "output_type": "stream",
     "text": [
      "6.0\n"
     ]
    }
   ],
   "execution_count": 82
  },
  {
   "metadata": {},
   "cell_type": "markdown",
   "source": "Burada doğrudan olmuyor geçici olarak yazdırmada çevirme yaptık",
   "id": "9fd33ee9b20e47ff"
  },
  {
   "metadata": {
    "ExecuteTime": {
     "end_time": "2025-07-21T21:16:28.238490Z",
     "start_time": "2025-07-21T21:16:28.235911Z"
    }
   },
   "cell_type": "code",
   "source": "print(17 // 6) #int bölmesi",
   "id": "6d55e362a69c8ee2",
   "outputs": [
    {
     "name": "stdout",
     "output_type": "stream",
     "text": [
      "2\n"
     ]
    }
   ],
   "execution_count": 83
  },
  {
   "metadata": {
    "ExecuteTime": {
     "end_time": "2025-07-21T21:16:37.706571Z",
     "start_time": "2025-07-21T21:16:37.704166Z"
    }
   },
   "cell_type": "code",
   "source": "print(17 / 6) #float bölmesi",
   "id": "443a0718df9741f",
   "outputs": [
    {
     "name": "stdout",
     "output_type": "stream",
     "text": [
      "2.8333333333333335\n"
     ]
    }
   ],
   "execution_count": 84
  },
  {
   "metadata": {
    "ExecuteTime": {
     "end_time": "2025-07-21T21:16:46.636135Z",
     "start_time": "2025-07-21T21:16:46.633806Z"
    }
   },
   "cell_type": "code",
   "source": "print(int(17 / 6))",
   "id": "5cb5d092620e4945",
   "outputs": [
    {
     "name": "stdout",
     "output_type": "stream",
     "text": [
      "2\n"
     ]
    }
   ],
   "execution_count": 85
  },
  {
   "metadata": {
    "ExecuteTime": {
     "end_time": "2025-07-21T21:16:52.463918Z",
     "start_time": "2025-07-21T21:16:52.461672Z"
    }
   },
   "cell_type": "code",
   "source": "print(float(7))",
   "id": "fff38f3b50646d20",
   "outputs": [
    {
     "name": "stdout",
     "output_type": "stream",
     "text": [
      "7.0\n"
     ]
    }
   ],
   "execution_count": 86
  },
  {
   "metadata": {
    "ExecuteTime": {
     "end_time": "2025-07-21T21:17:17.729219Z",
     "start_time": "2025-07-21T21:17:17.727Z"
    }
   },
   "cell_type": "code",
   "source": "print(float(\"167.8\")* 2)",
   "id": "a6cd250329f92664",
   "outputs": [
    {
     "name": "stdout",
     "output_type": "stream",
     "text": [
      "335.6\n"
     ]
    }
   ],
   "execution_count": 88
  },
  {
   "metadata": {},
   "cell_type": "markdown",
   "source": "Kullanıcıdan girdi alma yani input()",
   "id": "f5039fe692eb5d2f"
  },
  {
   "metadata": {
    "ExecuteTime": {
     "end_time": "2025-07-21T21:18:51.018017Z",
     "start_time": "2025-07-21T21:18:46.840014Z"
    }
   },
   "cell_type": "code",
   "source": [
    "girdi1 = input(\"Lütfen kelime girdisi giriniz: \")\n",
    "print(\"Girdiğiniz kelime budur:\", girdi1)"
   ],
   "id": "d0fb25302c1349f2",
   "outputs": [
    {
     "name": "stdout",
     "output_type": "stream",
     "text": [
      "Girdiğiniz kelime budur: str\n"
     ]
    }
   ],
   "execution_count": 91
  },
  {
   "metadata": {},
   "cell_type": "markdown",
   "source": "Girdi Alma İşlemleri",
   "id": "4b432695409f6e22"
  },
  {
   "metadata": {
    "ExecuteTime": {
     "end_time": "2025-07-21T21:22:02.990919Z",
     "start_time": "2025-07-21T21:22:01.483294Z"
    }
   },
   "cell_type": "code",
   "source": [
    "sayi1 = int(input(\"Lütfen 1. sayıyı giriniz: \")) #Burada input alırken string olarak alır o zaman tip dönüşümü yapınız\n",
    "print(\"Sayinin 5 katı = \", 5 * sayi1)"
   ],
   "id": "c3f9961c85966d4a",
   "outputs": [
    {
     "name": "stdout",
     "output_type": "stream",
     "text": [
      "Sayinin 5 katı =  60\n"
     ]
    }
   ],
   "execution_count": 93
  },
  {
   "metadata": {
    "ExecuteTime": {
     "end_time": "2025-07-21T21:22:33.119071Z",
     "start_time": "2025-07-21T21:22:33.116735Z"
    }
   },
   "cell_type": "code",
   "source": [
    "sayi1 = int(sayi1) #şeklinde yapabiliriz\n",
    "print(\"Sayinin 5 katı = \", 5 * sayi1)"
   ],
   "id": "bb2d0e30af9638e3",
   "outputs": [
    {
     "name": "stdout",
     "output_type": "stream",
     "text": [
      "Sayinin 5 katı =  60\n"
     ]
    }
   ],
   "execution_count": 95
  },
  {
   "metadata": {
    "ExecuteTime": {
     "end_time": "2025-07-21T21:23:49.900320Z",
     "start_time": "2025-07-21T21:23:46.699365Z"
    }
   },
   "cell_type": "code",
   "source": [
    "sayi1 = int(input(\"Lütfen 1. sayıyı giriniz: \"))\n",
    "sayi2 = int(input(\"Lütfen 2. sayıyı giriniz: \"))\n",
    "\n",
    "print(\"{} + {} = {}\".format(sayi1, sayi2, sayi1+sayi2))"
   ],
   "id": "c007ff7a1eea04ac",
   "outputs": [
    {
     "name": "stdout",
     "output_type": "stream",
     "text": [
      "12 + 23 = 35\n"
     ]
    }
   ],
   "execution_count": 96
  },
  {
   "metadata": {},
   "cell_type": "code",
   "source": "sayi1 = int(input(\"Lütfen sayı giriniz.\")) #ValueError alırsın float değer girersen",
   "id": "12600d68208a899d",
   "outputs": [],
   "execution_count": null
  },
  {
   "metadata": {
    "ExecuteTime": {
     "end_time": "2025-07-21T21:27:00.251937Z",
     "start_time": "2025-07-21T21:26:49.576656Z"
    }
   },
   "cell_type": "code",
   "source": [
    "#Ornek-1\n",
    "isim = input(\"İsminiz nedir?\")\n",
    "dogumYili = int(input(\"Doğum yılı nedir?\"))\n",
    "\n",
    "print(\"Merhabalar {}, {} yaşındasınız\".format(isim, 2025 - dogumYili))"
   ],
   "id": "467abe361eef4d2b",
   "outputs": [
    {
     "name": "stdout",
     "output_type": "stream",
     "text": [
      "Merhabalar Melih, 22 yaşındasınız\n"
     ]
    }
   ],
   "execution_count": 101
  }
 ],
 "metadata": {
  "kernelspec": {
   "display_name": "Python 3",
   "language": "python",
   "name": "python3"
  },
  "language_info": {
   "codemirror_mode": {
    "name": "ipython",
    "version": 2
   },
   "file_extension": ".py",
   "mimetype": "text/x-python",
   "name": "python",
   "nbconvert_exporter": "python",
   "pygments_lexer": "ipython2",
   "version": "2.7.6"
  }
 },
 "nbformat": 4,
 "nbformat_minor": 5
}
