{
 "cells": [
  {
   "metadata": {},
   "cell_type": "markdown",
   "source": "Değişkenler yani variables , içinde değer tutan ve değiştirilmesini sağlar",
   "id": "b9a73e7630a2462"
  },
  {
   "cell_type": "code",
   "id": "initial_id",
   "metadata": {
    "collapsed": true,
    "ExecuteTime": {
     "end_time": "2025-07-21T20:39:20.757758Z",
     "start_time": "2025-07-21T20:39:20.754791Z"
    }
   },
   "source": [
    "sayi1 = 155\n",
    "sayi2 = 167\n",
    "#Buradakiler iki tane int değeri vardır"
   ],
   "outputs": [],
   "execution_count": 1
  },
  {
   "metadata": {},
   "cell_type": "code",
   "source": "#print(sayi3) Olmayan bir değişkeni kullanamayız bundan dolayı değişkeni görmeliyiz",
   "id": "8a397dd458e816ee",
   "outputs": [],
   "execution_count": null
  },
  {
   "metadata": {
    "ExecuteTime": {
     "end_time": "2025-07-21T20:43:18.734452Z",
     "start_time": "2025-07-21T20:43:18.731349Z"
    }
   },
   "cell_type": "code",
   "source": [
    "print = 10 #normalde fonksiyonken ben değişken atarsam print kullanamayabilirim ondan dolayı bunları kullanmayalım\n",
    "del print"
   ],
   "id": "f4c04b8bbbc3a3e3",
   "outputs": [],
   "execution_count": 9
  },
  {
   "metadata": {},
   "cell_type": "code",
   "source": "#print(\"\") #TypeError alırız çünkü fonksiyonu değişken yaptık",
   "id": "a9c750f2a3f75802",
   "outputs": [],
   "execution_count": null
  },
  {
   "metadata": {},
   "cell_type": "markdown",
   "source": "print(\"...\".isidentifier()) yaparsak ve tırnak içine yazmak istediğimiz değişken ismini koyarsak bize yapılıp yapılmayacağını gösterir",
   "id": "560a08bfc2b49f5f"
  },
  {
   "metadata": {
    "ExecuteTime": {
     "end_time": "2025-07-21T20:43:24.687317Z",
     "start_time": "2025-07-21T20:43:24.684215Z"
    }
   },
   "cell_type": "code",
   "source": [
    "#baş harfinde sayı ile başlayamaz 1sad = 45\n",
    "print(\"1deneme\".isidentifier())"
   ],
   "id": "3908a6c0fb9e714d",
   "outputs": [
    {
     "name": "stdout",
     "output_type": "stream",
     "text": [
      "False\n"
     ]
    }
   ],
   "execution_count": 10
  },
  {
   "metadata": {},
   "cell_type": "markdown",
   "source": "int yani tamsayı değişkenler",
   "id": "e1175e723ee8e67f"
  },
  {
   "metadata": {
    "ExecuteTime": {
     "end_time": "2025-07-21T20:45:39.894537Z",
     "start_time": "2025-07-21T20:45:39.891455Z"
    }
   },
   "cell_type": "code",
   "source": [
    "sayi1 = 165\n",
    "sayi2 = 57"
   ],
   "id": "95633584b9e3b1b1",
   "outputs": [],
   "execution_count": 11
  },
  {
   "metadata": {
    "ExecuteTime": {
     "end_time": "2025-07-21T20:45:40.835697Z",
     "start_time": "2025-07-21T20:45:40.832924Z"
    }
   },
   "cell_type": "code",
   "source": "print(\"Toplama\", sayi1 + sayi2)",
   "id": "871739324b4827fc",
   "outputs": [
    {
     "name": "stdout",
     "output_type": "stream",
     "text": [
      "Toplama 222\n"
     ]
    }
   ],
   "execution_count": 12
  },
  {
   "metadata": {
    "ExecuteTime": {
     "end_time": "2025-07-21T20:45:41.371725Z",
     "start_time": "2025-07-21T20:45:41.368787Z"
    }
   },
   "cell_type": "code",
   "source": "print(\"Çıkarma\", sayi1 - sayi2)",
   "id": "8a03eacc650805ce",
   "outputs": [
    {
     "name": "stdout",
     "output_type": "stream",
     "text": [
      "Çıkarma 108\n"
     ]
    }
   ],
   "execution_count": 13
  },
  {
   "metadata": {
    "ExecuteTime": {
     "end_time": "2025-07-21T20:45:41.885760Z",
     "start_time": "2025-07-21T20:45:41.883253Z"
    }
   },
   "cell_type": "code",
   "source": "print(\"Çarpma\", sayi1 * sayi2)",
   "id": "dccdda80604fbe24",
   "outputs": [
    {
     "name": "stdout",
     "output_type": "stream",
     "text": [
      "Çarpma 9405\n"
     ]
    }
   ],
   "execution_count": 14
  },
  {
   "metadata": {
    "ExecuteTime": {
     "end_time": "2025-07-21T20:45:42.395193Z",
     "start_time": "2025-07-21T20:45:42.391021Z"
    }
   },
   "cell_type": "code",
   "source": "print(\"Bölme:\", sayi1 / sayi2)",
   "id": "5d95681e764fd296",
   "outputs": [
    {
     "name": "stdout",
     "output_type": "stream",
     "text": [
      "Bölme: 2.8947368421052633\n"
     ]
    }
   ],
   "execution_count": 15
  },
  {
   "metadata": {
    "ExecuteTime": {
     "end_time": "2025-07-21T20:46:03.724270Z",
     "start_time": "2025-07-21T20:46:03.721622Z"
    }
   },
   "cell_type": "code",
   "source": "print(type(sayi1))",
   "id": "41ba3586b837d2b6",
   "outputs": [
    {
     "name": "stdout",
     "output_type": "stream",
     "text": [
      "<class 'int'>\n"
     ]
    }
   ],
   "execution_count": 16
  },
  {
   "metadata": {
    "ExecuteTime": {
     "end_time": "2025-07-21T20:46:09.067355Z",
     "start_time": "2025-07-21T20:46:09.064408Z"
    }
   },
   "cell_type": "code",
   "source": "print(type(sayi2))",
   "id": "4baad0885f06fad",
   "outputs": [
    {
     "name": "stdout",
     "output_type": "stream",
     "text": [
      "<class 'int'>\n"
     ]
    }
   ],
   "execution_count": 17
  },
  {
   "metadata": {},
   "cell_type": "markdown",
   "source": "Tip belirlemesini Python dilinde otomatik yapar",
   "id": "419d51dcd132da0"
  },
  {
   "metadata": {
    "ExecuteTime": {
     "end_time": "2025-07-21T20:46:51.239798Z",
     "start_time": "2025-07-21T20:46:51.236887Z"
    }
   },
   "cell_type": "code",
   "source": "print(id(sayi1)) #id ile değerin ben hangi adreste olduğunu gösterir",
   "id": "c19bdec791809209",
   "outputs": [
    {
     "name": "stdout",
     "output_type": "stream",
     "text": [
      "4391337760\n"
     ]
    }
   ],
   "execution_count": 18
  },
  {
   "metadata": {
    "ExecuteTime": {
     "end_time": "2025-07-21T20:47:34.299560Z",
     "start_time": "2025-07-21T20:47:34.296516Z"
    }
   },
   "cell_type": "code",
   "source": [
    "sayi3 = 165\n",
    "print(id(sayi3)) #Aynı değerde olan değişkenleri aynı adresteki değeri gösterir"
   ],
   "id": "bb6206f0ef8c4dd9",
   "outputs": [
    {
     "name": "stdout",
     "output_type": "stream",
     "text": [
      "4391337760\n"
     ]
    }
   ],
   "execution_count": 20
  },
  {
   "metadata": {
    "ExecuteTime": {
     "end_time": "2025-07-21T20:48:14.729518Z",
     "start_time": "2025-07-21T20:48:14.726572Z"
    }
   },
   "cell_type": "code",
   "source": [
    "sayi3 = 54\n",
    "print(id(sayi3))"
   ],
   "id": "12f2ebd87349a18c",
   "outputs": [
    {
     "name": "stdout",
     "output_type": "stream",
     "text": [
      "4391334208\n"
     ]
    }
   ],
   "execution_count": 21
  },
  {
   "metadata": {},
   "cell_type": "markdown",
   "source": "Float yani kesirli değişkenler",
   "id": "2e0e0210c3cdcd7d"
  },
  {
   "metadata": {
    "ExecuteTime": {
     "end_time": "2025-07-21T20:49:10.491821Z",
     "start_time": "2025-07-21T20:49:10.489231Z"
    }
   },
   "cell_type": "code",
   "source": [
    "sayi4 = 16.5\n",
    "sayi5 = 15.3"
   ],
   "id": "bef0b35583d7383",
   "outputs": [],
   "execution_count": 22
  },
  {
   "metadata": {
    "ExecuteTime": {
     "end_time": "2025-07-21T20:49:30.302333Z",
     "start_time": "2025-07-21T20:49:30.299204Z"
    }
   },
   "cell_type": "code",
   "source": "print(\"Toplama: \", sayi4 + sayi5)",
   "id": "b4e70b4e3bb2da77",
   "outputs": [
    {
     "name": "stdout",
     "output_type": "stream",
     "text": [
      "Toplama:  31.8\n"
     ]
    }
   ],
   "execution_count": 23
  },
  {
   "metadata": {
    "ExecuteTime": {
     "end_time": "2025-07-21T20:49:42.566334Z",
     "start_time": "2025-07-21T20:49:42.563207Z"
    }
   },
   "cell_type": "code",
   "source": "print(\"Çıkarma: \", sayi4 + sayi5)",
   "id": "4a11fd5fcd4113be",
   "outputs": [
    {
     "name": "stdout",
     "output_type": "stream",
     "text": [
      "Çıkarma:  31.8\n"
     ]
    }
   ],
   "execution_count": 24
  },
  {
   "metadata": {
    "ExecuteTime": {
     "end_time": "2025-07-21T20:49:58.179611Z",
     "start_time": "2025-07-21T20:49:58.176545Z"
    }
   },
   "cell_type": "code",
   "source": "print(\"Bölme: \", sayi4 + sayi5)",
   "id": "cf2d10aaa9d50cf",
   "outputs": [
    {
     "name": "stdout",
     "output_type": "stream",
     "text": [
      "Bölme:  31.8\n"
     ]
    }
   ],
   "execution_count": 25
  },
  {
   "metadata": {
    "ExecuteTime": {
     "end_time": "2025-07-21T20:50:13.577207Z",
     "start_time": "2025-07-21T20:50:13.574263Z"
    }
   },
   "cell_type": "code",
   "source": "print(\"Çarpma: \", sayi4 * sayi5)",
   "id": "139004f7a2a98c00",
   "outputs": [
    {
     "name": "stdout",
     "output_type": "stream",
     "text": [
      "Çarpma:  252.45000000000002\n"
     ]
    }
   ],
   "execution_count": 26
  },
  {
   "metadata": {},
   "cell_type": "code",
   "outputs": [],
   "execution_count": null,
   "source": [
    "#değişken silmek istediğimizde\n",
    "del sayi4"
   ],
   "id": "177ca5acbae2fd28"
  },
  {
   "metadata": {
    "ExecuteTime": {
     "end_time": "2025-07-21T20:50:54.878743Z",
     "start_time": "2025-07-21T20:50:54.876393Z"
    }
   },
   "cell_type": "code",
   "source": "print(sayi4,type(sayi4))",
   "id": "2762bbcb9a89c222",
   "outputs": [
    {
     "name": "stdout",
     "output_type": "stream",
     "text": [
      "16.5 <class 'float'>\n"
     ]
    }
   ],
   "execution_count": 27
  },
  {
   "metadata": {
    "ExecuteTime": {
     "end_time": "2025-07-21T20:51:03.045539Z",
     "start_time": "2025-07-21T20:51:03.043334Z"
    }
   },
   "cell_type": "code",
   "source": "print(sayi5,type(sayi5))",
   "id": "21065421673fdd25",
   "outputs": [
    {
     "name": "stdout",
     "output_type": "stream",
     "text": [
      "15.3 <class 'float'>\n"
     ]
    }
   ],
   "execution_count": 28
  },
  {
   "metadata": {
    "ExecuteTime": {
     "end_time": "2025-07-21T20:51:38.426900Z",
     "start_time": "2025-07-21T20:51:38.424009Z"
    }
   },
   "cell_type": "code",
   "source": [
    "sayi6 = 15.0 #Misal bize göre tamsayı iken programlamada kesirli sayı olabiliyor\n",
    "print(sayi6,type(sayi6))"
   ],
   "id": "577f90964d683027",
   "outputs": [
    {
     "name": "stdout",
     "output_type": "stream",
     "text": [
      "15.0 <class 'float'>\n"
     ]
    }
   ],
   "execution_count": 30
  },
  {
   "metadata": {
    "ExecuteTime": {
     "end_time": "2025-07-21T20:52:05.709348Z",
     "start_time": "2025-07-21T20:52:05.706408Z"
    }
   },
   "cell_type": "code",
   "source": [
    "sayi7 = 15\n",
    "print(sayi7,type(sayi7))"
   ],
   "id": "1073758dc05d3e85",
   "outputs": [
    {
     "name": "stdout",
     "output_type": "stream",
     "text": [
      "15 <class 'int'>\n"
     ]
    }
   ],
   "execution_count": 32
  },
  {
   "metadata": {},
   "cell_type": "code",
   "outputs": [],
   "execution_count": null,
   "source": "",
   "id": "3e26b4a75eb8b1fd"
  }
 ],
 "metadata": {
  "kernelspec": {
   "display_name": "Python 3",
   "language": "python",
   "name": "python3"
  },
  "language_info": {
   "codemirror_mode": {
    "name": "ipython",
    "version": 2
   },
   "file_extension": ".py",
   "mimetype": "text/x-python",
   "name": "python",
   "nbconvert_exporter": "python",
   "pygments_lexer": "ipython2",
   "version": "2.7.6"
  }
 },
 "nbformat": 4,
 "nbformat_minor": 5
}
