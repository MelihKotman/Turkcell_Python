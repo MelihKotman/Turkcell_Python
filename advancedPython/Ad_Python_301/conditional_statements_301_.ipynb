{
 "cells": [
  {
   "cell_type": "code",
   "id": "initial_id",
   "metadata": {
    "collapsed": true,
    "ExecuteTime": {
     "end_time": "2025-07-24T10:29:40.508267Z",
     "start_time": "2025-07-24T10:29:37.588008Z"
    }
   },
   "source": [
    "#Ornek-1\n",
    "yas = int(input('Enter the number of years: '))\n",
    "\n",
    "if yas < 18:\n",
    "    print(\"Reşit değilsiniz\")\n",
    "else:\n",
    "    print(\"Reşitsiniz\")\n",
    "\n",
    "if yas >= 18:\n",
    "    print(\"Reşitsiniz\")\n",
    "else:\n",
    "    print(\"Reşit değilsiniz\")"
   ],
   "outputs": [
    {
     "name": "stdout",
     "output_type": "stream",
     "text": [
      "Reşit değilsiniz\n",
      "Reşit değilsiniz\n"
     ]
    }
   ],
   "execution_count": 4
  },
  {
   "metadata": {
    "ExecuteTime": {
     "end_time": "2025-07-24T10:33:33.630738Z",
     "start_time": "2025-07-24T10:33:32.250367Z"
    }
   },
   "cell_type": "code",
   "source": [
    "#Ornek-2\n",
    "#Type Casting, 0 dışında her sayının bool değeri True\n",
    "sayi = int(input('Enter the number : '))\n",
    "\n",
    "#sayi % 2 == 1 True\n",
    "#sayi % 2 == 0 False\n",
    "\n",
    "if sayi % 2 : # == 1 yazmasakta olur ondan dolayı bu şekilde yazılabilir ya da False yazsakta olur sayi % 2 == 1\n",
    "    print(\"{} sayısı tektir!\".format(sayi))\n",
    "else:\n",
    "    print(\"{} sayısı çifttir!\".format(sayi))"
   ],
   "id": "3fb1ed0d529eef97",
   "outputs": [
    {
     "name": "stdout",
     "output_type": "stream",
     "text": [
      "21 sayısı tektir!\n"
     ]
    }
   ],
   "execution_count": 6
  },
  {
   "metadata": {
    "ExecuteTime": {
     "end_time": "2025-07-24T10:37:18.221116Z",
     "start_time": "2025-07-24T10:37:18.217118Z"
    }
   },
   "cell_type": "code",
   "source": [
    "#Ornek-3\n",
    "#Finalden 50 altı alan doğrudan kaldı\n",
    "#Vizesi yüzde 40 etkili finali ise yüzde 60\n",
    "#Ortalaması 50 ve üzeri olan geçiyor dersi\n",
    "\n",
    "vize = 100\n",
    "final = 49\n",
    "\n",
    "if final >= 50:\n",
    "    ort = vize * 0.4 + final * 0.6\n",
    "    if ort >= 50:\n",
    "        print(\"{} ortalamayla, dersi geçtiniz!\".format(ort))\n",
    "    else:\n",
    "        print(\"{} ortalamayla, dersten kaldınız!\".format(ort))\n",
    "else:\n",
    "    print(\"Dersten kaldınız!\")"
   ],
   "id": "35c5bc384e7efc23",
   "outputs": [
    {
     "name": "stdout",
     "output_type": "stream",
     "text": [
      "Dersten kaldınız!\n"
     ]
    }
   ],
   "execution_count": 9
  },
  {
   "metadata": {
    "ExecuteTime": {
     "end_time": "2025-07-24T10:40:15.140723Z",
     "start_time": "2025-07-24T10:40:11.412657Z"
    }
   },
   "cell_type": "code",
   "source": [
    "#Ornek-4\n",
    "#Girilen ayın mevsimini bulma\n",
    "ay = input(\"Lütfen ay ismini giriniz:\")\n",
    "\n",
    "if ay == \"Aralık\" or ay == \"Ocak\" or ay == \"Şubat\":\n",
    "    print(\"{}, kış mevsimine aittir!\".format(ay))\n",
    "elif ay == \"Mart\" or ay == \"Nisan\" or ay == \"Mayıs\":\n",
    "    print(\"{}, ilkbahar mevsimine aittir!\".format(ay))\n",
    "elif ay == \"Haziran\" or ay == \"Temmuz\" or ay == \"Ağustos\":\n",
    "    print(\"{}, yaz mevsimine aittir!\".format(ay))\n",
    "elif ay == \"Eylül\" or ay == \"Ekim\" or ay == \"Kasım\":\n",
    "    print(\"{}, sonbahar mevsimine aittir!\".format(ay))\n",
    "else:\n",
    "    print(\"Girdiğiniz ay bilgisi yanlıştır!\")"
   ],
   "id": "a4a9bb6766c19943",
   "outputs": [
    {
     "name": "stdout",
     "output_type": "stream",
     "text": [
      "Şubat, kış mevsimine aittir!\n"
     ]
    }
   ],
   "execution_count": 10
  },
  {
   "metadata": {
    "ExecuteTime": {
     "end_time": "2025-07-24T10:48:49.634966Z",
     "start_time": "2025-07-24T10:48:49.632495Z"
    }
   },
   "cell_type": "code",
   "source": [
    "#Ornek-5\n",
    "#Cinsiyet ve boy uzunluğuna göre mülakat geçme örneği\n",
    "#BU koşullar şöyle;\n",
    "# Cinsiyet KADIN 1.60m\n",
    "# Cinsiyet ERKEK 1.70m\n",
    "#Boy sınırı geçilirse ön sağlık muayenesi geçilir\n",
    "\n",
    "cinsiyet = \"erkek\"\n",
    "boy = 195\n",
    "\n",
    "if (cinsiyet == \"kadın\" or cinsiyet == \"erkek\") and (20 < boy and boy < 300): #Yanlış input girme\n",
    "    if (cinsiyet == \"kadın\" and boy >= 160) or (cinsiyet == \"erkek\" and boy >= 170):\n",
    "        print(\"Ön sağlık kontrolü başarılıdır.\")\n",
    "    else:\n",
    "        print(\"Ön sağlık kontrolünden elendiniz\")\n",
    "else:\n",
    "    print(\"Cinsiyeti erkek ya da kadın olarak,\"\n",
    "          \" Boyu (20,300) aralığında giriniz\")"
   ],
   "id": "27a67273fd7a2666",
   "outputs": [
    {
     "name": "stdout",
     "output_type": "stream",
     "text": [
      "Ön sağlık kontrolü başarılıdır.\n"
     ]
    }
   ],
   "execution_count": 20
  },
  {
   "metadata": {
    "ExecuteTime": {
     "end_time": "2025-07-24T10:54:13.519673Z",
     "start_time": "2025-07-24T10:54:09.242769Z"
    }
   },
   "cell_type": "code",
   "source": [
    "#Ornek-6\n",
    "#Kullanıcıdan 3 tane sayı alıp bu 3 sayıdan en büyük ve en küçük değeri yazdırtma\n",
    "\n",
    "sayi1, sayi2, sayi3 = int(input(\"Lütfen 1.sayıyı giriniz\")),int(input(\"Lütfen 2.sayıyı giriniz\")),int(input(\"Lütfen 3.sayıyı giriniz\"))\n",
    "\n",
    "print(sayi1, sayi2, sayi3)\n",
    "buyuk = sayi1\n",
    "kucuk = sayi1\n",
    "\n",
    "if sayi1 < sayi2 or sayi1 < sayi3:\n",
    "    buyuk = sayi2\n",
    "    if sayi2 < sayi3:\n",
    "        buyuk = sayi3\n",
    "if sayi1 > sayi2 or sayi1 > sayi3:\n",
    "    kucuk = sayi2\n",
    "    if sayi2 > sayi3:\n",
    "        kucuk = sayi3\n",
    "\n",
    "print(\"{} {} {} değer arasından küçük olan {} büyük olan {}\".format(sayi1, sayi2, sayi3, kucuk, buyuk))\n",
    "#İlkel YÖNTEM"
   ],
   "id": "723ec231a070b088",
   "outputs": [
    {
     "name": "stdout",
     "output_type": "stream",
     "text": [
      "4 756 324\n",
      "4 756 324 değer arasından küçük olan 4 büyük olan 756\n"
     ]
    }
   ],
   "execution_count": 23
  },
  {
   "metadata": {
    "ExecuteTime": {
     "end_time": "2025-07-24T10:56:30.595216Z",
     "start_time": "2025-07-24T10:56:30.593235Z"
    }
   },
   "cell_type": "code",
   "source": [
    "sayilar = [sayi1, sayi2, sayi3]\n",
    "print(\"{} {} {} değer arasından küçük olan {}\".format(sayi1, sayi2, sayi3,min(sayilar)))\n",
    "print(\"{} {} {} değer arasından büyük olan {}\".format(sayi1, sayi2, sayi3,max(sayilar)))\n",
    "#En Kolay şekilde Python entegreleriyle"
   ],
   "id": "c28f6dad96776a5c",
   "outputs": [
    {
     "name": "stdout",
     "output_type": "stream",
     "text": [
      "4 756 324 değer arasından küçük olan 4\n",
      "4 756 324 değer arasından büyük olan 756\n"
     ]
    }
   ],
   "execution_count": 25
  },
  {
   "metadata": {
    "ExecuteTime": {
     "end_time": "2025-07-24T11:02:21.476300Z",
     "start_time": "2025-07-24T11:02:16.229576Z"
    }
   },
   "cell_type": "code",
   "source": [
    "#Ornek-7\n",
    "#Kullanıcı adı ve şifre kontrolü yapan program\n",
    "\n",
    "admin_username = \"admin123\"\n",
    "admin_password = \"pass123\"\n",
    "\n",
    "kullaniciAdi = input(\"Lütfen kullanıcı adınızı giriniz : \")\n",
    "kullaniciSifre= input(\"Lütfen şifrenizi giriniz : \")\n",
    "\n",
    "if kullaniciAdi == admin_username and kullaniciSifre == admin_password:\n",
    "    print(\"Başarılı şekilde giriş yaptınız...\")\n",
    "elif kullaniciAdi == admin_username:\n",
    "    print(\"Lütfen şifrenizi doğru giriniz...\")\n",
    "else:\n",
    "    print(\"Böyle bir kullanıcı girişi yoktur...\")"
   ],
   "id": "c624d1e62fbbf28",
   "outputs": [
    {
     "name": "stdout",
     "output_type": "stream",
     "text": [
      "Başarılı şekilde giriş yaptınız...\n"
     ]
    }
   ],
   "execution_count": 26
  },
  {
   "metadata": {
    "ExecuteTime": {
     "end_time": "2025-07-24T12:01:04.249202Z",
     "start_time": "2025-07-24T12:00:58.869229Z"
    }
   },
   "cell_type": "code",
   "source": [
    "#Ornek-8\n",
    "#Üçgen bilgisini söyleyen program\n",
    "#k1,k2,k3\n",
    "#|k1-k2| < k3 < k1 + k2\n",
    "#|k1-k3| < k2 < k1 + k3\n",
    "#|k3-k2| < k1 < k3 + k2\n",
    "k1,k2,k3 = int(input(\"1.kenarı giriniz.\")),int(input(\"2.kenarı giriniz.\")),int(input(\"3.kenarı giriniz.\"))\n",
    "\n",
    "#absolute value - mutlak değer\n",
    "if abs(k1-k2) < k3 and k3 < (k1+k2):\n",
    "    if k1 == k2 and k1 == k3:\n",
    "        print(\"Eşkenar üçgendir.\")\n",
    "    elif k1 == k2 or k1 == k3 or k2 == k3:\n",
    "        print(\"İkizkenar üçgendir.\")\n",
    "    elif (k1 ** 2 + k2 ** 2) == k3 ** 2 or (k2 ** 2 + k3 ** 2) == k1 ** 2 or (k1 ** 2 + k3 ** 2) == k2 ** 2:\n",
    "        print(\"Dik üçgendir.\")\n",
    "    else:\n",
    "        print(\"Çeşitkenar üçgendir.\")\n",
    "else:\n",
    "    print(\"Bu üçkenar bilgisiyle çizilemez\")"
   ],
   "id": "621f91a784675bdf",
   "outputs": [
    {
     "name": "stdout",
     "output_type": "stream",
     "text": [
      "Dik üçgendir.\n"
     ]
    }
   ],
   "execution_count": 27
  },
  {
   "metadata": {},
   "cell_type": "markdown",
   "source": [
    "ASCII Tablosu\n",
    "\n",
    "A-Z 65-90 #26 harf\n",
    "\n",
    "a-z 97-122 #26 harf\n",
    "\n",
    "ç = 231\n",
    "\n",
    "ö = 246\n",
    "\n",
    "ğ = 287\n",
    "\n",
    "İ = 304"
   ],
   "id": "25d266428c7e5e7e"
  },
  {
   "metadata": {
    "ExecuteTime": {
     "end_time": "2025-07-24T12:04:35.151105Z",
     "start_time": "2025-07-24T12:04:33.595673Z"
    }
   },
   "cell_type": "code",
   "source": [
    "#Ornek-9\n",
    "\n",
    "harf = input(\"Lütfen bir harf giriniz\") #Fazladan akrakter girilirse TypeError verir\n",
    "if len(harf) == 1:\n",
    "    if ord(harf) >= 65 and ord(harf) <= 90:\n",
    "        print(\"{} büyük harftir!\".format(harf))\n",
    "    elif ord(harf) >= 97 and ord(harf) <= 122:\n",
    "        print(\"{}, küçük harftir!\".format(harf))\n",
    "    else:\n",
    "        print(\"Böyle bir harfi katin alfabesinde yoktur\")\n",
    "else:\n",
    "    print(\"Lütfen sadece 1 karakter giriniz!\")\n"
   ],
   "id": "da08bc522e74c5d9",
   "outputs": [
    {
     "name": "stdout",
     "output_type": "stream",
     "text": [
      "a, küçük harftir!\n"
     ]
    }
   ],
   "execution_count": 31
  }
 ],
 "metadata": {
  "kernelspec": {
   "display_name": "Python 3",
   "language": "python",
   "name": "python3"
  },
  "language_info": {
   "codemirror_mode": {
    "name": "ipython",
    "version": 2
   },
   "file_extension": ".py",
   "mimetype": "text/x-python",
   "name": "python",
   "nbconvert_exporter": "python",
   "pygments_lexer": "ipython2",
   "version": "2.7.6"
  }
 },
 "nbformat": 4,
 "nbformat_minor": 5
}
