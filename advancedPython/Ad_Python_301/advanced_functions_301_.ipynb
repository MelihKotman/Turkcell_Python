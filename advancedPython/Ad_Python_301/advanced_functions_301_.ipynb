{
 "cells": [
  {
   "metadata": {},
   "cell_type": "markdown",
   "source": "Fonksiyonların daha gelişmiş örnekleri ve konuları",
   "id": "95717d3def06c89d"
  },
  {
   "cell_type": "code",
   "id": "initial_id",
   "metadata": {
    "collapsed": true,
    "ExecuteTime": {
     "end_time": "2025-07-26T09:21:11.381735Z",
     "start_time": "2025-07-26T09:21:11.375218Z"
    }
   },
   "source": [
    "#Return Ornek-1\n",
    "def mutlakDegerliCarpim(sayi1, sayi2):\n",
    "    return abs(sayi1 * sayi2)\n",
    "\n",
    "print(mutlakDegerliCarpim(-5,-6))\n",
    "print(mutlakDegerliCarpim(5,-6))\n",
    "print(mutlakDegerliCarpim(5,6))"
   ],
   "outputs": [
    {
     "name": "stdout",
     "output_type": "stream",
     "text": [
      "30\n",
      "30\n",
      "30\n"
     ]
    }
   ],
   "execution_count": 1
  },
  {
   "metadata": {
    "ExecuteTime": {
     "end_time": "2025-07-26T09:23:22.423627Z",
     "start_time": "2025-07-26T09:23:22.418696Z"
    }
   },
   "cell_type": "code",
   "source": [
    "#Return Ornek-2\n",
    "def uckeninKenarlariniSoyle(k1, k2, k3):\n",
    "    return \"Kenar1 : {}\".format(k1), 'Kenar2 : {}'.format(k2), 'Kenar3 : {}'.format(k3)\n",
    "print(uckeninKenarlariniSoyle(3, 4, 5)) #Tuple şeklinde çıktı eğer liste yapacaksan [] kullan\n",
    "\n",
    "bilgi1, bilgi2, bilgi3 = uckeninKenarlariniSoyle(3, 4, 5)\n",
    "print(bilgi1, bilgi2, bilgi3)"
   ],
   "id": "5b5bd01ef0100da1",
   "outputs": [
    {
     "name": "stdout",
     "output_type": "stream",
     "text": [
      "('Kenar1 : 3', 'Kenar2 : 4', 'Kenar3 : 5')\n",
      "Kenar1 : 3 Kenar2 : 4 Kenar3 : 5\n"
     ]
    }
   ],
   "execution_count": 3
  },
  {
   "metadata": {
    "ExecuteTime": {
     "end_time": "2025-07-26T09:26:18.320950Z",
     "start_time": "2025-07-26T09:26:18.317835Z"
    }
   },
   "cell_type": "code",
   "source": [
    "#Return Ornek-3\n",
    "from math import pi\n",
    "def daireAlanVeCevreHesapla(r):\n",
    "    return [pi * r * r, 2 * pi * r]\n",
    "def daireAlanVeCevreBilgiVer(cevreVeAlan):\n",
    "    print(\"Dairenin Alanı:\",cevreVeAlan[0])\n",
    "    print(\"Dairenin Çevresi:\",cevreVeAlan[1])\n",
    "\n",
    "alan, cevre = daireAlanVeCevreHesapla(5) #liste formatında çıkar ve sırasıyla alan ve cevreye degerleri verir\n",
    "daireAlanVeCevreBilgiVer(daireAlanVeCevreHesapla(5))\n",
    "daireAlanVeCevreBilgiVer([alan, cevre]) #ister list halinde gönder\n",
    "daireAlanVeCevreBilgiVer((alan, cevre)) #ister tuple halinde gönder"
   ],
   "id": "2c030f88f84516de",
   "outputs": [
    {
     "name": "stdout",
     "output_type": "stream",
     "text": [
      "Dairenin Alanı: 78.53981633974483\n",
      "Dairenin Çevresi: 31.41592653589793\n",
      "Dairenin Alanı: 78.53981633974483\n",
      "Dairenin Çevresi: 31.41592653589793\n",
      "Dairenin Alanı: 78.53981633974483\n",
      "Dairenin Çevresi: 31.41592653589793\n"
     ]
    }
   ],
   "execution_count": 5
  },
  {
   "metadata": {},
   "cell_type": "markdown",
   "source": [
    "Pass by Value (Değer Geçişi)\n",
    "\n",
    "Pass by Reference (Adres Geçişi)"
   ],
   "id": "146303671093e894"
  },
  {
   "metadata": {
    "ExecuteTime": {
     "end_time": "2025-07-26T09:32:19.227209Z",
     "start_time": "2025-07-26T09:32:19.224144Z"
    }
   },
   "cell_type": "code",
   "source": [
    "#Pass by Value\n",
    "#Tekilde statiklerin farklı adres olması, ayrıca burada değerler tutuluyor\n",
    "sayi1 = 10\n",
    "sayi2 = sayi1\n",
    "print(sayi1, sayi2)\n",
    "sayi1 = 20\n",
    "print(sayi1, sayi2)"
   ],
   "id": "11ed48bec5dcbe16",
   "outputs": [
    {
     "name": "stdout",
     "output_type": "stream",
     "text": [
      "10 10\n",
      "20 10\n"
     ]
    }
   ],
   "execution_count": 6
  },
  {
   "metadata": {
    "ExecuteTime": {
     "end_time": "2025-07-26T09:32:50.676510Z",
     "start_time": "2025-07-26T09:32:50.673283Z"
    }
   },
   "cell_type": "code",
   "source": [
    "#Pass by Reference\n",
    "#Çoğulda olanların aynı adreste gösterilmesi ve burada adres tutuluyor\n",
    "liste1 = [10, 20, 30]\n",
    "liste2 = liste1\n",
    "print(liste1, liste2)\n",
    "liste1[0] = 75\n",
    "print(liste1, liste2)"
   ],
   "id": "ec82b78dd7cfeba8",
   "outputs": [
    {
     "name": "stdout",
     "output_type": "stream",
     "text": [
      "[10, 20, 30] [10, 20, 30]\n",
      "[75, 20, 30] [75, 20, 30]\n"
     ]
    }
   ],
   "execution_count": 7
  },
  {
   "metadata": {
    "ExecuteTime": {
     "end_time": "2025-07-26T09:36:54.892382Z",
     "start_time": "2025-07-26T09:36:54.888970Z"
    }
   },
   "cell_type": "code",
   "source": [
    "#Pass by Value Ornek\n",
    "def guncelle(sayi):\n",
    "    print(\"sayi id:\",id(sayi)) #4357057792\n",
    "    sayi = 9\n",
    "    print(\"sayi id:\",id(sayi)) #4357057440\n",
    "    print(\"Func Sayi\",sayi) #9\n",
    "\n",
    "sayimiz = 20\n",
    "print(\"sayimiz id:\",id(sayimiz))\n",
    "print(\"sayimiz deger\",sayimiz)\n",
    "guncelle(sayimiz)"
   ],
   "id": "cb4f185ac91dffc7",
   "outputs": [
    {
     "name": "stdout",
     "output_type": "stream",
     "text": [
      "sayimiz id: 4357057792\n",
      "sayimiz deger 20\n",
      "sayi id: 4357057792\n",
      "sayi id: 4357057440\n",
      "Func Sayi 9\n"
     ]
    }
   ],
   "execution_count": 8
  },
  {
   "metadata": {
    "ExecuteTime": {
     "end_time": "2025-07-26T09:39:35.893591Z",
     "start_time": "2025-07-26T09:39:35.890435Z"
    }
   },
   "cell_type": "code",
   "source": [
    "#Pass by Reference Ornek\n",
    "def listeGuncelle(liste):\n",
    "    print(\"Func Liste id:\",id(liste))\n",
    "    liste[0] = 1000\n",
    "    print(\"Func Liste id:\",id(liste))\n",
    "\n",
    "listemiz = [0, 10, 20, 30]\n",
    "print(\"listemiz id:\",id(listemiz))\n",
    "listeGuncelle(listemiz)\n",
    "print(listemiz)"
   ],
   "id": "d3c289f88cd575cf",
   "outputs": [
    {
     "name": "stdout",
     "output_type": "stream",
     "text": [
      "listemiz id: 4397763200\n",
      "Func Liste id: 4397763200\n",
      "Func Liste id: 4397763200\n",
      "[1000, 10, 20, 30]\n"
     ]
    }
   ],
   "execution_count": 10
  },
  {
   "metadata": {},
   "cell_type": "markdown",
   "source": [
    "Argüman Tipleri\n",
    "\n",
    "-positional\n",
    "\n",
    "-keyword\n",
    "\n",
    "-default\n",
    "\n",
    "-variable length"
   ],
   "id": "100050930aa8173a"
  },
  {
   "metadata": {
    "ExecuteTime": {
     "end_time": "2025-07-26T09:41:06.595445Z",
     "start_time": "2025-07-26T09:41:06.592216Z"
    }
   },
   "cell_type": "code",
   "source": [
    "#Positional Arguments: Muhakkak verilmesi gereken parametrelere diyoruz\n",
    "def topla(s1, s2):\n",
    "    return s1 + s2\n",
    "\n",
    "print(topla(10, 20))"
   ],
   "id": "9271cd1c131f93f9",
   "outputs": [
    {
     "name": "stdout",
     "output_type": "stream",
     "text": [
      "30\n"
     ]
    }
   ],
   "execution_count": 11
  },
  {
   "metadata": {
    "ExecuteTime": {
     "end_time": "2025-07-26T09:43:17.953773Z",
     "start_time": "2025-07-26T09:43:17.948837Z"
    }
   },
   "cell_type": "code",
   "source": [
    "#Default Arguments: Değer göndermemize gerek olmayan argümanlara denir\n",
    "def topla(s1, s2 = 0):\n",
    "    return s1 + s2\n",
    "\n",
    "print(topla(10, 20))\n",
    "print(topla(10))"
   ],
   "id": "8a0d8a3c99c15614",
   "outputs": [
    {
     "name": "stdout",
     "output_type": "stream",
     "text": [
      "30\n",
      "10\n"
     ]
    }
   ],
   "execution_count": 12
  },
  {
   "metadata": {
    "ExecuteTime": {
     "end_time": "2025-07-26T09:46:03.936448Z",
     "start_time": "2025-07-26T09:46:03.933524Z"
    }
   },
   "cell_type": "code",
   "source": [
    "#Keyword Kavramı: parametrenin anahtar kelimesine göre değer verilmesine ve gönderilmesini\n",
    "print(topla(s2 = 150, s1 = 100))"
   ],
   "id": "c50e83c85db77c1e",
   "outputs": [
    {
     "name": "stdout",
     "output_type": "stream",
     "text": [
      "250\n"
     ]
    }
   ],
   "execution_count": 13
  },
  {
   "metadata": {
    "ExecuteTime": {
     "end_time": "2025-07-26T09:47:31.927552Z",
     "start_time": "2025-07-26T09:47:31.924475Z"
    }
   },
   "cell_type": "code",
   "source": [
    "#Variable Length: Birden fazla argüman iletimine parametrenin başına * koyarız ve birden fazla değer tutar bunları işler sonsuz argüman iletimi\n",
    "def topla(s1,s2,*sayilar):\n",
    "    print(s1,s2,sayilar) #sayilar değeri tuple olarak döner kalanlar tuple dışında olur\n",
    "\n",
    "topla(2,3,4,5,6,7,88,12)"
   ],
   "id": "dbc76b77c5cc0bc3",
   "outputs": [
    {
     "name": "stdout",
     "output_type": "stream",
     "text": [
      "2 3 (4, 5, 6, 7, 88, 12)\n"
     ]
    }
   ],
   "execution_count": 16
  },
  {
   "metadata": {
    "ExecuteTime": {
     "end_time": "2025-07-26T09:48:29.909720Z",
     "start_time": "2025-07-26T09:48:29.906900Z"
    }
   },
   "cell_type": "code",
   "source": [
    "def topla(s1,s2,*sayilar):\n",
    "    print(s1,s2,sayilar) #sayilar değeri tuple olarak döner kalanlar tuple dışında olur\n",
    "    print(s1 + s2 + sum(sayilar))\n",
    "topla(2,3,4,5,6,7,88,12)"
   ],
   "id": "9457f78501ea922a",
   "outputs": [
    {
     "name": "stdout",
     "output_type": "stream",
     "text": [
      "2 3 (4, 5, 6, 7, 88, 12)\n",
      "127\n"
     ]
    }
   ],
   "execution_count": 18
  },
  {
   "metadata": {
    "ExecuteTime": {
     "end_time": "2025-07-26T09:55:44.642668Z",
     "start_time": "2025-07-26T09:55:44.638251Z"
    }
   },
   "cell_type": "code",
   "source": [
    "#*args ve *kwargs kavramları\n",
    "#args ismi olmayan argümanlar burada depolanır tuple halinde depolanır\n",
    "#kwargs ismi olan argümanlar burada depolanır sözlük halinde depolanır\n",
    "def topla(s1, s2, *args, **kwargs):\n",
    "    print(s1, s2, args)\n",
    "    print(kwargs)\n",
    "    if kwargs.get(\"islem\") == '+':\n",
    "        print(\"Toplama işlemidir\")\n",
    "        print(s1 + s2 + sum(args))\n",
    "    else:\n",
    "        print(\"Bu işlem toplama dışında işlem yapamaz\")\n",
    "topla(2,3,4,5,6,7,88,12, islem = \"*\")\n",
    "topla(2,3,4,6,75,4,324,12, islem = \"+\")"
   ],
   "id": "dc81bcaf80dbf08f",
   "outputs": [
    {
     "name": "stdout",
     "output_type": "stream",
     "text": [
      "2 3 (4, 5, 6, 7, 88, 12)\n",
      "{'islem': '*'}\n",
      "Bu işlem toplama dışında işlem yapamaz\n",
      "2 3 (4, 6, 75, 4, 324, 12)\n",
      "{'islem': '+'}\n",
      "Toplama işlemidir\n",
      "430\n"
     ]
    }
   ],
   "execution_count": 28
  },
  {
   "metadata": {},
   "cell_type": "markdown",
   "source": "Positional yani Konumu Belli Argümanlar",
   "id": "8906797cda5974ea"
  },
  {
   "metadata": {
    "ExecuteTime": {
     "end_time": "2025-07-26T10:01:48.419504Z",
     "start_time": "2025-07-26T10:01:48.414865Z"
    }
   },
   "cell_type": "code",
   "source": [
    "def hesapla(s1, s2, islem):\n",
    "    if islem == \"+\":\n",
    "        return s1 + s2\n",
    "    elif islem == \"-\":\n",
    "        return s1 - s2\n",
    "    elif islem == \"*\":\n",
    "        return s1 * s2\n",
    "    elif islem == \"/\":\n",
    "        return s1 / s2\n",
    "    elif islem == \"%\":\n",
    "        return s1 % s2\n",
    "    else:\n",
    "        return \"5 temel işlem dışında hesaplama yapılmamaktır\"\n",
    "\n",
    "print(hesapla(74, 15, \"+\")) #Burada +'yı s1 veya s2 yerine ya da s2 değerini s1 değerini yazarsak değişebilir ya da hata verebilir\n",
    "print(hesapla(74, 15, \"-\"))\n",
    "print(hesapla(74, 15, \"*\"))\n",
    "print(hesapla(74, 15, \"/\"))\n",
    "print(hesapla(74, 15, \"%\"))\n",
    "print(hesapla(74, 15, \"a\"))"
   ],
   "id": "d4cfd30df1bdd591",
   "outputs": [
    {
     "name": "stdout",
     "output_type": "stream",
     "text": [
      "89\n",
      "59\n",
      "1110\n",
      "4.933333333333334\n",
      "14\n",
      "5 temel işlem dışında hesaplama yapılmamaktır\n"
     ]
    }
   ],
   "execution_count": 33
  },
  {
   "metadata": {
    "ExecuteTime": {
     "end_time": "2025-07-26T10:01:49.073233Z",
     "start_time": "2025-07-26T10:01:49.068655Z"
    }
   },
   "cell_type": "code",
   "source": [
    "#Single entry, single exit (Tek girdi, tek çıktı)\n",
    "def hesapla(s1, s2, islem):\n",
    "    sonuc = None\n",
    "    if islem == \"+\":\n",
    "        sonuc = s1 + s2\n",
    "    elif islem == \"-\":\n",
    "        sonuc = s1 - s2\n",
    "    elif islem == \"*\":\n",
    "        sonuc = s1 * s2\n",
    "    elif islem == \"/\":\n",
    "        sonuc = s1 / s2\n",
    "    elif islem == \"%\":\n",
    "        sonuc = s1 % s2\n",
    "    else:\n",
    "        sonuc = \"5 temel işlem dışında hesaplama yapılmamaktır\"\n",
    "    return sonuc #Bir tane return değerimiz var bu değer işlemlere göre çeşitleniyor\n",
    "\n",
    "print(hesapla(74, 15, \"+\"))\n",
    "print(hesapla(74, 15, \"-\"))\n",
    "print(hesapla(74, 15, \"*\"))\n",
    "print(hesapla(74, 15, \"/\"))\n",
    "print(hesapla(74, 15, \"%\"))\n",
    "print(hesapla(74, 15, \"a\"))"
   ],
   "id": "8fa099acd5fd9a74",
   "outputs": [
    {
     "name": "stdout",
     "output_type": "stream",
     "text": [
      "89\n",
      "59\n",
      "1110\n",
      "4.933333333333334\n",
      "14\n",
      "5 temel işlem dışında hesaplama yapılmamaktır\n"
     ]
    }
   ],
   "execution_count": 34
  },
  {
   "metadata": {},
   "cell_type": "markdown",
   "source": "Keyword ve Default Argümanlar\n",
   "id": "9231d79de54eec15"
  },
  {
   "metadata": {
    "ExecuteTime": {
     "end_time": "2025-07-26T10:07:57.136620Z",
     "start_time": "2025-07-26T10:07:57.132639Z"
    }
   },
   "cell_type": "code",
   "source": [
    "def ogrenciBilgiSoyle(isim, numara, adres = \"\", sube = \"\"):\n",
    "    print(\"İsmi :\",isim)\n",
    "    print(\"Numara :\",numara)\n",
    "    if adres != \"\":\n",
    "        print(\"Adres :\",adres)\n",
    "    if sube != \"\":\n",
    "        print(\"Sube :\",sube)\n",
    "\n",
    "#ogrenciBilgiSoyle(\"Melih\", 47,\"Bolu/Merkez\", 'A')\n",
    "ogrenciBilgiSoyle(\"Melih\", 47, \"E\") #Sıralı şekilde vermen gerek\n",
    "ogrenciBilgiSoyle(\"Melih\", 198, sube = \"E\") #Keyword şeklinde verirsek adres kısmına gitmez çünkü sıralıdır argümanlar\n",
    "ogrenciBilgiSoyle(isim = \"Melih\", numara = \"5\", adres = \"Çanakkale\" ,sube = \"E\") #Keyword vererek yapınca sıralamaya gerek yok\n",
    "#ogrenciBilgiSoyle(sube = \"E\", adres = \"Çanakkale\", \"Melih\", 123) #Hata alırsın çünkü burada takip edemem der yani varsayılmayanlar varsayılanı takip edemez varsayılanlar en sonda olmalı"
   ],
   "id": "25ab3b5c2b371bfa",
   "outputs": [
    {
     "name": "stdout",
     "output_type": "stream",
     "text": [
      "İsmi : Melih\n",
      "Numara : 47\n",
      "Adres : E\n",
      "İsmi : Melih\n",
      "Numara : 198\n",
      "Sube : E\n",
      "İsmi : Melih\n",
      "Numara : 5\n",
      "Adres : Çanakkale\n",
      "Sube : E\n"
     ]
    }
   ],
   "execution_count": 40
  },
  {
   "metadata": {},
   "cell_type": "markdown",
   "source": [
    "Variable - Length Argümanlar\n",
    "\n",
    "\"*\" keyword'ü olmayan argümanları tutar = *args\n",
    "\n",
    "\"**\" ise keyword'ü olan argümanları tutar = **kwargs"
   ],
   "id": "dd0566cf5195ce35"
  },
  {
   "metadata": {
    "ExecuteTime": {
     "end_time": "2025-07-26T10:14:02.536479Z",
     "start_time": "2025-07-26T10:14:02.533624Z"
    }
   },
   "cell_type": "code",
   "source": [
    "def bilgileriGoster(*args, **kwargs):\n",
    "    print(args)\n",
    "    print(kwargs)\n",
    "\n",
    "bilgileriGoster(\"Fatih\", \"Kaan\", \"Aysel\", #*args tuple\n",
    "                fatih = 26, kaan = 29, aysel = 30) #**kwargs sözlük\n",
    "#yıldızları değerler gibi düşün misal bir yıldız olunca bir değeri alıyor iki yıldız olunca hem anahtarını hem değerini alıyor"
   ],
   "id": "acf39c9678c33ac7",
   "outputs": [
    {
     "name": "stdout",
     "output_type": "stream",
     "text": [
      "('Fatih', 'Kaan', 'Aysel')\n",
      "{'fatih': 26, 'kaan': 29, 'aysel': 30}\n"
     ]
    }
   ],
   "execution_count": 42
  },
  {
   "metadata": {
    "ExecuteTime": {
     "end_time": "2025-07-26T10:17:13.946795Z",
     "start_time": "2025-07-26T10:17:13.943724Z"
    }
   },
   "cell_type": "code",
   "source": [
    "def bilgileriGoster(isim, fatih = \"\", *args, **kwargs):\n",
    "    print(\"Positional Argument:\",isim)\n",
    "    print(\"Positional Argument:\",fatih)\n",
    "    print(args)\n",
    "    print(kwargs)\n",
    "\n",
    "#bilgileriGoster(\"Fatih\", \"Kaan\", \"Aysel\",\n",
    "#                fatih = 26, kaan = 29, aysel = 30)  #fatih yüzünden type error alır ve fatih argüman birden fazla değer alır ama şöyle yaparsak\n",
    "\n",
    "bilgileriGoster(\"Fatih\",fatih = 26,\n",
    "                kaan = 29, aysel = 30)\n",
    "\n",
    "bilgileriGoster(\"Fatih\", 26, \"Kaan\", \"Aysel\",\n",
    "                kaan = 29, aysel = 30)\n",
    "bilgileriGoster(\"Fatih\",\n",
    "                kaan = 29, aysel = 30)"
   ],
   "id": "3496da8cc5f65de",
   "outputs": [
    {
     "name": "stdout",
     "output_type": "stream",
     "text": [
      "Positional Argument: Fatih\n",
      "Positional Argument: 26\n",
      "()\n",
      "{'kaan': 29, 'aysel': 30}\n",
      "Positional Argument: Fatih\n",
      "Positional Argument: 26\n",
      "('Kaan', 'Aysel')\n",
      "{'kaan': 29, 'aysel': 30}\n",
      "Positional Argument: Fatih\n",
      "Positional Argument: \n",
      "()\n",
      "{'kaan': 29, 'aysel': 30}\n"
     ]
    }
   ],
   "execution_count": 53
  },
  {
   "metadata": {
    "ExecuteTime": {
     "end_time": "2025-07-26T10:20:38.334940Z",
     "start_time": "2025-07-26T10:20:38.331623Z"
    }
   },
   "cell_type": "code",
   "source": [
    "def bilgileriGoster(isim, *args, fatih = \"\", **kwargs):\n",
    "    print(\"Positional Argument:\",isim)\n",
    "    print(\"Positional Argument:\",fatih)\n",
    "    print(args)\n",
    "    print(kwargs)\n",
    "\n",
    "bilgileriGoster(\"Fatih\",\"Kaan\",\"Aysel\",\n",
    "      fatih = 26, kaan = 29, aysel = 30) #İstersen parametre sıralamasını yapabilirsin"
   ],
   "id": "dcef0571f3a43893",
   "outputs": [
    {
     "name": "stdout",
     "output_type": "stream",
     "text": [
      "Positional Argument: Fatih\n",
      "Positional Argument: 26\n",
      "('Kaan', 'Aysel')\n",
      "{'kaan': 29, 'aysel': 30}\n"
     ]
    }
   ],
   "execution_count": 58
  },
  {
   "metadata": {
    "ExecuteTime": {
     "end_time": "2025-07-26T10:24:12.369775Z",
     "start_time": "2025-07-26T10:24:12.365902Z"
    }
   },
   "cell_type": "code",
   "source": [
    "#Ornek-1\n",
    "#Sınırsız sayıda değer alır ve karekökünü alır\n",
    "from math import sqrt\n",
    "def karekokHesapla(*args):\n",
    "    liste = []\n",
    "    for sayi in args:\n",
    "        #print(sqrt(sayi))\n",
    "        liste.append((round(sqrt(sayi), 4))) #,'den sonra eklediğimiz sayıya göre , sağını o kadar açar\n",
    "    return liste\n",
    "karekokHesapla(5, 7, 9, 16, 25, 34)"
   ],
   "id": "bb892e270bb224ca",
   "outputs": [
    {
     "data": {
      "text/plain": [
       "[2.2361, 2.6458, 3.0, 4.0, 5.0, 5.831]"
      ]
     },
     "execution_count": 64,
     "metadata": {},
     "output_type": "execute_result"
    }
   ],
   "execution_count": 64
  },
  {
   "metadata": {},
   "cell_type": "markdown",
   "source": "Global ve Local Kavramları",
   "id": "43ffbda042da3996"
  },
  {
   "metadata": {
    "ExecuteTime": {
     "end_time": "2025-07-26T10:25:12.804208Z",
     "start_time": "2025-07-26T10:25:12.801150Z"
    }
   },
   "cell_type": "code",
   "source": [
    "sayi = 10\n",
    "\n",
    "def func1():\n",
    "    sayi3 = 20\n",
    "\n",
    "#print(sayi3) #Burada kullanamayız çünkü bu fonksiyonda lokal değişken"
   ],
   "id": "5d6b94f7a8f0d86",
   "outputs": [
    {
     "name": "stdout",
     "output_type": "stream",
     "text": [
      "10\n"
     ]
    }
   ],
   "execution_count": 66
  },
  {
   "metadata": {
    "ExecuteTime": {
     "end_time": "2025-07-26T10:32:07.059902Z",
     "start_time": "2025-07-26T10:32:07.056828Z"
    }
   },
   "cell_type": "code",
   "source": [
    "sayi = 10 #global\n",
    "def func2():\n",
    "    sayi = 20 #Lokal yani globalin değerini değiştiremez ikisi farklı değişken\n",
    "    print(\"Local sayi:\",sayi,\"Adres:\",id(sayi))\n",
    "\n",
    "print(\"GLobal sayi:\",sayi,\"Adres:\",id(sayi))\n",
    "func2()\n",
    "print(\"GLobal sayi:\",sayi,\"Adres:\",id(sayi))"
   ],
   "id": "ba5117b239da1c79",
   "outputs": [
    {
     "name": "stdout",
     "output_type": "stream",
     "text": [
      "GLobal sayi: 10 Adres: 4357057472\n",
      "Local sayi: 20 Adres: 4357057792\n",
      "GLobal sayi: 10 Adres: 4357057472\n"
     ]
    }
   ],
   "execution_count": 79
  },
  {
   "metadata": {
    "ExecuteTime": {
     "end_time": "2025-07-26T10:27:44.258671Z",
     "start_time": "2025-07-26T10:27:44.255302Z"
    }
   },
   "cell_type": "code",
   "source": [
    "sayi = 10 #global\n",
    "def func2():\n",
    "    global sayi\n",
    "    sayi = 20 #Artık globalin değerini değiştirebilir\n",
    "    print(\"Local sayi:\",sayi,\"Adres:\",id(sayi))\n",
    "\n",
    "print(\"GLobal sayi:\",sayi,\"Adres:\",id(sayi))\n",
    "func2()\n",
    "print(\"GLobal sayi:\",sayi,\"Adres:\",id(sayi))"
   ],
   "id": "a61f257e40f38771",
   "outputs": [
    {
     "name": "stdout",
     "output_type": "stream",
     "text": [
      "GLobal sayi: 10 Adres: 4357057472\n",
      "Local sayi: 20 Adres: 4357057792\n",
      "GLobal sayi: 20 Adres: 4357057792\n"
     ]
    }
   ],
   "execution_count": 73
  },
  {
   "metadata": {
    "ExecuteTime": {
     "end_time": "2025-07-26T10:29:15.996730Z",
     "start_time": "2025-07-26T10:29:15.993913Z"
    }
   },
   "cell_type": "code",
   "source": [
    "#Şartlı ve döngülü tiplerde değişkenlerdeki değişkenleri kullanabilirsin\n",
    "if True:\n",
    "    y = 50\n",
    "print(y)\n",
    "\n",
    "while True:\n",
    "    z = 100\n",
    "    break\n",
    "print(z)"
   ],
   "id": "425e412a20f50177",
   "outputs": [
    {
     "name": "stdout",
     "output_type": "stream",
     "text": [
      "50\n",
      "100\n"
     ]
    }
   ],
   "execution_count": 75
  },
  {
   "metadata": {
    "ExecuteTime": {
     "end_time": "2025-07-26T10:32:26.009411Z",
     "start_time": "2025-07-26T10:32:26.005064Z"
    }
   },
   "cell_type": "code",
   "source": [
    "sayi = 10 #global\n",
    "def func2():\n",
    "    Lsayi = 20 #Lokal yani globalin değerini değiştiremez ikisi farklı değişken\n",
    "    print(\"Local sayi:\",Lsayi,\"Adres:\",id(Lsayi))\n",
    "\n",
    "print(\"GLobal sayi:\",sayi,\"Adres:\",id(sayi))\n",
    "func2()\n",
    "print(\"GLobal sayi:\",sayi,\"Adres:\",id(sayi))"
   ],
   "id": "d03d5f8a331ca13",
   "outputs": [
    {
     "name": "stdout",
     "output_type": "stream",
     "text": [
      "GLobal sayi: 10 Adres: 4357057472\n",
      "Local sayi: 20 Adres: 4357057792\n",
      "GLobal sayi: 10 Adres: 4357057472\n"
     ]
    }
   ],
   "execution_count": 80
  },
  {
   "metadata": {
    "ExecuteTime": {
     "end_time": "2025-07-26T10:31:35.164367Z",
     "start_time": "2025-07-26T10:31:35.159638Z"
    }
   },
   "cell_type": "code",
   "source": [
    "ay = \"fat\"\n",
    "print(globals()) #global değişkenlerin hepsini gösterir misal z ve y yapmıştık onlarda dahil\n",
    "#istersek istediğimiz değişkenin değerini burdan bulabiliriz\n",
    "print(globals()[\"ay\"])\n",
    "print(globals()[\"y\"])\n",
    "print(globals()[\"z\"])\n",
    "print(globals()[\"Lsayi\"]) #Böyle değer yoktur bulamaz çünkü lokal değil global olanları bulur"
   ],
   "id": "8a68b675c0ac1eda",
   "outputs": [
    {
     "name": "stdout",
     "output_type": "stream",
     "text": [
      "{'__name__': '__main__', '__doc__': 'Automatically created module for IPython interactive environment', '__package__': None, '__loader__': None, '__spec__': None, '__builtin__': <module 'builtins' (built-in)>, '__builtins__': <module 'builtins' (built-in)>, '_ih': ['', '#Return Ornek-1\\ndef mutlakDegerliCarpim(sayi1, sayi2):\\n    return abs(sayi1 * sayi2)\\n\\nprint(mutlakDegerliCarpim(-5,-6))\\nprint(mutlakDegerliCarpim(5,-6))\\nprint(mutlakDegerliCarpim(5,6))', '#Return Ornek-2\\ndef uckeninKenarlariniSoyle(k1, k2, k3):\\n    return \"Kenar1 : {}\".format(k1), \\'Kenar2 : {}\\'.format(k2), \\'Kenar3 : {}\\'.format(k3)\\nprint(uckeninKenarlariniSoyle(3, 4, 5))', '#Return Ornek-2\\ndef uckeninKenarlariniSoyle(k1, k2, k3):\\n    return \"Kenar1 : {}\".format(k1), \\'Kenar2 : {}\\'.format(k2), \\'Kenar3 : {}\\'.format(k3)\\nprint(uckeninKenarlariniSoyle(3, 4, 5)) #Tuple şeklinde çıktı eğer liste yapacaksan [] kullan\\n\\nbilgi1, bilgi2, bilgi3 = uckeninKenarlariniSoyle(3, 4, 5)\\nprint(bilgi1, bilgi2, bilgi3) ', '#Return Ornek-3\\nfrom math import pi\\ndef daireAlanVeCevreHesapla(r):\\n    return [pi * r * r, 2 * pi * r]\\ndef daireAlanVeCevreBilgiVer(cevreVeAlan):\\n    print(\"Dairenin Alanı:\",cevreVeAlan[0])\\n    print(\"Dairenin Çevresi:\",cevreVeAlan[1])\\n\\nalan, cevre = daireAlanVeCevreHesapla(5)\\ndaireAlanVeCevreBilgiVer(daireAlanVeCevreHesapla(5))\\ndaireAlanVeCevreBilgiVer([alan, cevre])\\ndaireAlanVeCevreBilgiVer(alan, cevre)', '#Return Ornek-3\\nfrom math import pi\\ndef daireAlanVeCevreHesapla(r):\\n    return [pi * r * r, 2 * pi * r]\\ndef daireAlanVeCevreBilgiVer(cevreVeAlan):\\n    print(\"Dairenin Alanı:\",cevreVeAlan[0])\\n    print(\"Dairenin Çevresi:\",cevreVeAlan[1])\\n\\nalan, cevre = daireAlanVeCevreHesapla(5)\\ndaireAlanVeCevreBilgiVer(daireAlanVeCevreHesapla(5))\\ndaireAlanVeCevreBilgiVer([alan, cevre])\\ndaireAlanVeCevreBilgiVer((alan, cevre))', '#Pass by Value\\nsayi1 = 10\\nsayi2 = sayi1\\nprint(sayi1, sayi2)\\nsayi1 = 20\\nprint(sayi1, sayi2)', '#Pass by Reference\\nliste1 = [10, 20, 30]\\nliste2 = liste1\\nprint(liste1, liste2)\\nliste1[0] = 75\\nprint(liste1, liste2)', '#Pass by Value Ornek\\ndef guncelle(sayi):\\n    print(\"sayi id:\",id(sayi))\\n    sayi = 9\\n    print(\"sayi id:\",id(sayi))\\n    print(\"Func Sayi\",sayi)\\n\\nsayimiz = 20\\nprint(\"sayimiz id:\",id(sayimiz))\\nprint(\"sayimiz deger\",sayimiz)\\nguncelle(sayimiz)', 'def listeGuncelle(liste):\\n    print(\"Liste id:\",id(liste))\\n    liste[0] = 1000\\n    print(\"Liste id:\",id(liste))\\n\\nlistemiz = [0, 10, 20, 30]\\nlisteGuncelle(listemiz)\\nprint(listemiz)', '#Pass by Reference Ornek\\ndef listeGuncelle(liste):\\n    print(\"Func Liste id:\",id(liste))\\n    liste[0] = 1000\\n    print(\"Func Liste id:\",id(liste))\\n\\nlistemiz = [0, 10, 20, 30]\\nprint(\"listemiz id:\",id(listemiz))\\nlisteGuncelle(listemiz)\\nprint(listemiz)', '#Positional argümanlar\\ndef topla(s1, s2):\\n    return s1 + s2\\n\\nprint(topla(10, 20))', '#Default Arguments: Değer göndermemize gerek olmayan argümanlara denir\\ndef topla(s1, s2 = 0):\\n    return s1 + s2\\n\\nprint(topla(10, 20))\\nprint(topla(10))', '#Keyword Kavramı: parametrenin anahtar kelimesine göre değer verilmesine ve gönderilmesini\\nprint(topla(s2 = 150, s1 = 100))', '#Variable Length: Birden fazla argüman iletimine parametrenin başına * koyarız\\ndef topla(*sayilar):\\n    print(sayilar)\\n\\ntopla(2,3,4,5,6,7,88,)', '#Variable Length: Birden fazla argüman iletimine parametrenin başına * koyarız\\ndef topla(*sayilar):\\n    print(sayilar)\\n\\ntopla(2,3,4,5,6,7,88,12)', '#Variable Length: Birden fazla argüman iletimine parametrenin başına * koyarız ve birden fazla değer tutar bunları işler\\ndef topla(s1,s2,*sayilar):\\n    print(s1,s2,sayilar) #Tuple döner\\n\\ntopla(2,3,4,5,6,7,88,12)', 'def topla(s1,s2,*sayilar):\\n    print(s1,s2,sayilar) #sayilar değeri tuple olarak döner kalanlar tuple dışında olur\\n    print(s1 + s2 + sayilar)\\ntopla(2,3,4,5,6,7,88,12)', 'def topla(s1,s2,*sayilar):\\n    print(s1,s2,sayilar) #sayilar değeri tuple olarak döner kalanlar tuple dışında olur\\n    print(s1 + s2 + sum(sayilar))\\ntopla(2,3,4,5,6,7,88,12)', '#*args ve *kwargs kavramları\\ndef(s1, s2, *args, **kwargs):\\n    print(s1, s2, args)\\n    print(kwargs)\\n\\ntopla(2,3,4,5,6,7,88,12, islem = \"+\")', '#*args ve *kwargs kavramları\\ndef topla(s1, s2, *args, **kwargs):\\n    print(s1, s2, args)\\n    print(kwargs)\\n\\ntopla(2,3,4,5,6,7,88,12, islem = \"+\")', '#*args ve *kwargs kavramları\\n#args ismi olmayan argümanlar burada depolanır\\n#kwargs ismi olan argümanlar burada depolanır\\ndef topla(s1, s2, *args, **kwargs):\\n    print(s1, s2, args)\\n    print(kwargs)\\n    if kwargs[\"islem\"] == \"+\":\\n        print(\"Toplama işlemidir\")\\n        print(topla(s1, s2, sum(args)))\\ntopla(2,3,4,5,6,7,88,12, islem = \"+\")', '#*args ve *kwargs kavramları\\n#args ismi olmayan argümanlar burada depolanır\\n#kwargs ismi olan argümanlar burada depolanır\\ndef topla(s1, s2, *args, **kwargs):\\n    print(s1, s2, args)\\n    print(kwargs)\\n    if kwargs[\"islem\"] == \"+\":\\n        print(\"Toplama işlemidir\")\\n        print(topla(s1, s2, sum(args)))\\ntopla(2,3,4,5,6,7,88,12, islem = \"+\")', '#*args ve *kwargs kavramları\\n#args ismi olmayan argümanlar burada depolanır\\n#kwargs ismi olan argümanlar burada depolanır\\ndef topla(s1, s2, *args, **kwargs):\\n    print(s1, s2, args)\\n    print(kwargs)\\n    if kwargs[\\'islem\\'] == \"+\":\\n        print(\"Toplama işlemidir\")\\n        print(topla(s1, s2, sum(args)))\\ntopla(2,3,4,5,6,7,88,12, islem = \"+\")', '#*args ve *kwargs kavramları\\n#args ismi olmayan argümanlar burada depolanır\\n#kwargs ismi olan argümanlar burada depolanır\\ndef topla(s1, s2, *args, **kwargs):\\n    print(s1, s2, args)\\n    print(kwargs)\\n    if kwargs[\\'islem\\'] == \\'+\\':\\n        print(\"Toplama işlemidir\")\\n        print(topla(s1, s2, sum(args)))\\n    else:\\n        print(\"Bu işlem toplama dışında işlem yapamaz\")\\ntopla(2,3,4,5,6,7,88,12, islem = \"+\")', '#*args ve *kwargs kavramları\\n#args ismi olmayan argümanlar burada depolanır\\n#kwargs ismi olan argümanlar burada depolanır\\ndef topla(s1, s2, *args, **kwargs):\\n    print(s1, s2, args)\\n    print(kwargs)\\n    if kwargs.get(\"islem\") == \\'+\\':\\n        print(\"Toplama işlemidir\")\\n        print(topla(s1, s2, sum(args)))\\n    else:\\n        print(\"Bu işlem toplama dışında işlem yapamaz\")\\ntopla(2,3,4,5,6,7,88,12, islem = \"+\")', '#*args ve *kwargs kavramları\\n#args ismi olmayan argümanlar burada depolanır\\n#kwargs ismi olan argümanlar burada depolanır\\ndef topla(s1, s2, *args, **kwargs):\\n    print(s1, s2, args)\\n    print(kwargs)\\n    if kwargs.get(\"islem\") == \\'+\\':\\n        print(\"Toplama işlemidir\")\\n        print(topla(s1, s2, sum(args)))\\n    else:\\n        print(\"Bu işlem toplama dışında işlem yapamaz\")\\ntopla(2,3,4,5,6,7,88,12, islem = \"*\")', '#*args ve *kwargs kavramları\\n#args ismi olmayan argümanlar burada depolanır\\n#kwargs ismi olan argümanlar burada depolanır\\ndef topla(s1, s2, *args, **kwargs):\\n    print(s1, s2, args)\\n    print(kwargs)\\n    if kwargs.get(\"islem\") == \\'+\\':\\n        print(\"Toplama işlemidir\")\\n        print(topla(s1, s2, sum(args)))\\n    else:\\n        print(\"Bu işlem toplama dışında işlem yapamaz\")\\ntopla(2,3,4,5,6,7,88,12, islem = \"*\")\\ntopla(2,3,4,6,75,4,324,12, islem = \"+\")', '#*args ve *kwargs kavramları\\n#args ismi olmayan argümanlar burada depolanır tuple halinde depolanır\\n#kwargs ismi olan argümanlar burada depolanır sözlük halinde depolanır\\ndef topla(s1, s2, *args, **kwargs):\\n    print(s1, s2, args)\\n    print(kwargs)\\n    if kwargs.get(\"islem\") == \\'+\\':\\n        print(\"Toplama işlemidir\")\\n        print(s1 + s2 + sum(args))\\n    else:\\n        print(\"Bu işlem toplama dışında işlem yapamaz\")\\ntopla(2,3,4,5,6,7,88,12, islem = \"*\")\\ntopla(2,3,4,6,75,4,324,12, islem = \"+\")', 'def hesapla(s1, s2, islem):\\n    if islem == \"+\":\\n        return s1 + s2\\n    elif islem == \"-\":\\n        return s1 - s2\\n    elif islem == \"*\":\\n        return s1 * s2\\n    elif islem == \"/\":\\n        return s1 / s2\\n    elif islem == \"%\":\\n        return s1 % s2\\n    else:\\n        return \"5 temel işlem dışında hesaplama yapılmamaktır\"\\n\\nprint(hesapla(74, 15, \"+\"))', 'def hesapla(s1, s2, islem):\\n    if islem == \"+\":\\n        return s1 + s2\\n    elif islem == \"-\":\\n        return s1 - s2\\n    elif islem == \"*\":\\n        return s1 * s2\\n    elif islem == \"/\":\\n        return s1 / s2\\n    elif islem == \"%\":\\n        return s1 % s2\\n    else:\\n        return \"5 temel işlem dışında hesaplama yapılmamaktır\"\\n\\nprint(hesapla(74, 15, \"+\")) #Burada +\\'yı s1 veya s2 yerine ya da s2 değerini s1 değerini yazarsak değişebilir ya da hata verebilir\\nprint(hesapla(74, 15, \"-\"))\\nprint(hesapla(74, 15, \"*\"))\\nprint(hesapla(74, 15, \"/\"))\\nprint(hesapla(74, 15, \"%\"))', 'def hesapla(s1, s2, islem):\\n    if islem == \"+\":\\n        return s1 + s2\\n    elif islem == \"-\":\\n        return s1 - s2\\n    elif islem == \"*\":\\n        return s1 * s2\\n    elif islem == \"/\":\\n        return s1 / s2\\n    elif islem == \"%\":\\n        return s1 % s2\\n    else:\\n        return \"5 temel işlem dışında hesaplama yapılmamaktır\"\\n\\nprint(hesapla(74, 15, \"+\")) #Burada +\\'yı s1 veya s2 yerine ya da s2 değerini s1 değerini yazarsak değişebilir ya da hata verebilir\\nprint(hesapla(74, 15, \"-\"))\\nprint(hesapla(74, 15, \"*\"))\\nprint(hesapla(74, 15, \"/\"))\\nprint(hesapla(74, 15, \"%\"))\\nprint(hesapla(74, 15, \"a\"))', '#Single entry, single exit (Tek girdi, tek çıktı)\\ndef hesapla(s1, s2, islem):\\n    sonuc = None\\n    if islem == \"+\":\\n        sonuc = s1 + s2\\n    elif islem == \"-\":\\n        sonuc = s1 - s2\\n    elif islem == \"*\":\\n        sonuc = s1 * s2\\n    elif islem == \"/\":\\n        sonuc = s1 / s2\\n    elif islem == \"%\":\\n        sonuc = s1 % s2\\n    else:\\n        sonuc = \"5 temel işlem dışında hesaplama yapılmamaktır\"\\n    return sonuc\\n\\nprint(hesapla(74, 15, \"+\")) #Burada +\\'yı s1 veya s2 yerine ya da s2 değerini s1 değerini yazarsak değişebilir ya da hata verebilir\\nprint(hesapla(74, 15, \"-\"))\\nprint(hesapla(74, 15, \"*\"))\\nprint(hesapla(74, 15, \"/\"))\\nprint(hesapla(74, 15, \"%\"))\\nprint(hesapla(74, 15, \"a\"))', 'def hesapla(s1, s2, islem):\\n    if islem == \"+\":\\n        return s1 + s2\\n    elif islem == \"-\":\\n        return s1 - s2\\n    elif islem == \"*\":\\n        return s1 * s2\\n    elif islem == \"/\":\\n        return s1 / s2\\n    elif islem == \"%\":\\n        return s1 % s2\\n    else:\\n        return \"5 temel işlem dışında hesaplama yapılmamaktır\"\\n\\nprint(hesapla(74, 15, \"+\")) #Burada +\\'yı s1 veya s2 yerine ya da s2 değerini s1 değerini yazarsak değişebilir ya da hata verebilir\\nprint(hesapla(74, 15, \"-\"))\\nprint(hesapla(74, 15, \"*\"))\\nprint(hesapla(74, 15, \"/\"))\\nprint(hesapla(74, 15, \"%\"))\\nprint(hesapla(74, 15, \"a\"))', '#Single entry, single exit (Tek girdi, tek çıktı)\\ndef hesapla(s1, s2, islem):\\n    sonuc = None\\n    if islem == \"+\":\\n        sonuc = s1 + s2\\n    elif islem == \"-\":\\n        sonuc = s1 - s2\\n    elif islem == \"*\":\\n        sonuc = s1 * s2\\n    elif islem == \"/\":\\n        sonuc = s1 / s2\\n    elif islem == \"%\":\\n        sonuc = s1 % s2\\n    else:\\n        sonuc = \"5 temel işlem dışında hesaplama yapılmamaktır\"\\n    return sonuc\\n\\nprint(hesapla(74, 15, \"+\")) #Burada +\\'yı s1 veya s2 yerine ya da s2 değerini s1 değerini yazarsak değişebilir ya da hata verebilir\\nprint(hesapla(74, 15, \"-\"))\\nprint(hesapla(74, 15, \"*\"))\\nprint(hesapla(74, 15, \"/\"))\\nprint(hesapla(74, 15, \"%\"))\\nprint(hesapla(74, 15, \"a\"))', 'def ogrenciBilgiSoyle(isim, numara, adres, sube):\\n    print(\"İsmi :\",isim)\\n    print(\"Numara :\",numara)\\n    print(\"Adres :\",adres)\\n    print(\"Sube :\",sube)\\n\\nogrenciBilgiSoyle(\"Melih\", 47,\"Bolu/Merkez\", \\'A\\')', 'def ogrenciBilgiSoyle(isim, numara, adres = \"\", sube = \"\"):\\n    print(\"İsmi :\",isim)\\n    print(\"Numara :\",numara)\\n    if adres != \"\":\\n        print(\"Adres :\",adres)\\n    if sube != \"\":\\n        print(\"Sube :\",sube)\\n\\nogrenciBilgiSoyle(\"Melih\", 47,\"Bolu/Merkez\", \\'A\\')\\nogrenciBilgiSoyle(\"Melih\", 47)\\nogrenciBilgiSoyle(\"Melih\", 198, sube = \"E\")', 'def ogrenciBilgiSoyle(isim, numara, adres = \"\", sube = \"\"):\\n    print(\"İsmi :\",isim)\\n    print(\"Numara :\",numara)\\n    if adres != \"\":\\n        print(\"Adres :\",adres)\\n    if sube != \"\":\\n        print(\"Sube :\",sube)\\n\\n#ogrenciBilgiSoyle(\"Melih\", 47,\"Bolu/Merkez\", \\'A\\')\\nogrenciBilgiSoyle(\"Melih\", 47)\\nogrenciBilgiSoyle(\"Melih\", 198, sube = \"E\")', 'def ogrenciBilgiSoyle(isim, numara, adres = \"\", sube = \"\"):\\n    print(\"İsmi :\",isim)\\n    print(\"Numara :\",numara)\\n    if adres != \"\":\\n        print(\"Adres :\",adres)\\n    if sube != \"\":\\n        print(\"Sube :\",sube)\\n\\n#ogrenciBilgiSoyle(\"Melih\", 47,\"Bolu/Merkez\", \\'A\\')\\nogrenciBilgiSoyle(\"Melih\", 47, \"E\")\\nogrenciBilgiSoyle(\"Melih\", 198, sube = \"E\") #Keyword şeklinde verirsek adres kısmına gitmez', 'def ogrenciBilgiSoyle(isim, numara, adres = \"\", sube = \"\"):\\n    print(\"İsmi :\",isim)\\n    print(\"Numara :\",numara)\\n    if adres != \"\":\\n        print(\"Adres :\",adres)\\n    if sube != \"\":\\n        print(\"Sube :\",sube)\\n\\n#ogrenciBilgiSoyle(\"Melih\", 47,\"Bolu/Merkez\", \\'A\\')\\nogrenciBilgiSoyle(\"Melih\", 47, \"E\")\\nogrenciBilgiSoyle(\"Melih\", 198, sube = \"E\") #Keyword şeklinde verirsek adres kısmına gitmez çünkü sıralıdır argümanlar\\nogrenciBilgiSoyle(isim = \"Melih\", numara = \"5\", adres = \"Çanakkale\" ,sube = \"E\")', 'def ogrenciBilgiSoyle(isim, numara, adres = \"\", sube = \"\"):\\n    print(\"İsmi :\",isim)\\n    print(\"Numara :\",numara)\\n    if adres != \"\":\\n        print(\"Adres :\",adres)\\n    if sube != \"\":\\n        print(\"Sube :\",sube)\\n\\n#ogrenciBilgiSoyle(\"Melih\", 47,\"Bolu/Merkez\", \\'A\\')\\nogrenciBilgiSoyle(\"Melih\", 47, \"E\") #Sıralı şekilde vermen gerek\\nogrenciBilgiSoyle(\"Melih\", 198, sube = \"E\") #Keyword şeklinde verirsek adres kısmına gitmez çünkü sıralıdır argümanlar\\nogrenciBilgiSoyle(isim = \"Melih\", numara = \"5\", adres = \"Çanakkale\" ,sube = \"E\") #Keyword vererek yapınca sıralamaya gerek yok\\n#ogrenciBilgiSoyle(sube = \"E\", adres = \"Çanakkale\", \"Melih\", 123) #Hata alırsın çünkü burada takip edemem der yani varsayılmayanlar varsayılanı takip edemez varsayılanlar en sonda olmalı', 'def bilgileriGoster(*args, **kwargs):\\n    print(args)\\n    print(kwargs)\\n\\nbilgileriGoster(\"Fatih\", \"Kaan\", \"Aysel\",\\n                fatih = 26, kaan = 29, aysel = 30)', 'def bilgileriGoster(*args, **kwargs):\\n    print(args)\\n    print(kwargs)\\n\\nbilgileriGoster(\"Fatih\", \"Kaan\", \"Aysel\", #*args tuple\\n                fatih = 26, kaan = 29, aysel = 30) #**kwargs sözlük\\n#yıldızları değerler gibi düşün misal bir yıldız olunca bir değeri alıyor iki yıldız olunca hem anahtarını hem değerini alıyor', 'def bilgileriGoster(isim, fatih, *args, **kwargs):\\n    print(args)\\n    print(kwargs)\\n\\nbilgileriGoster(\"Fatih\", \"Kaan\", \"Aysel\", #*args tuple\\n                fatih = 26, kaan = 29, aysel = 30) #**kwargs sözlük\\n#yıldızları değerler gibi düşün misal bir yıldız olunca bir değeri alıyor iki yıldız olunca hem anahtarını hem değerini alıyor', 'def bilgileriGoster(isim, fatih, *args, **kwargs):\\n    print(args)\\n    print(kwargs)\\n\\nbilgileriGoster(\"Fatih\", \"Kaan\", \"Aysel\",\\n                fatih = 26, kaan = 29, aysel = 30)  #fatih yüzünden type error alır ve fatih argüman birden fazla değer alır ama şöyle yaparsak\\n\\nbilgileriGoster(\"Fatih\",fatih = 26,\\n                kaan = 29, aysel = 30)', 'def bilgileriGoster(isim, fatih, *args, **kwargs):\\n    print(args)\\n    print(kwargs)\\n\\n#bilgileriGoster(\"Fatih\", \"Kaan\", \"Aysel\",\\n#                fatih = 26, kaan = 29, aysel = 30)  #fatih yüzünden type error alır ve fatih argüman birden fazla değer alır ama şöyle yaparsak\\n\\nbilgileriGoster(\"Fatih\",fatih = 26,\\n                kaan = 29, aysel = 30)', 'def bilgileriGoster(isim, fatih, *args, **kwargs):\\n    print(args)\\n    print(kwargs)\\n\\n#bilgileriGoster(\"Fatih\", \"Kaan\", \"Aysel\",\\n#                fatih = 26, kaan = 29, aysel = 30)  #fatih yüzünden type error alır ve fatih argüman birden fazla değer alır ama şöyle yaparsak\\n\\nbilgileriGoster(\"Fatih\",\"Kaan\",fatih = 26,\\n                kaan = 29, aysel = 30)', 'def bilgileriGoster(isim, fatih, *args, **kwargs):\\n    print(args)\\n    print(kwargs)\\n\\n#bilgileriGoster(\"Fatih\", \"Kaan\", \"Aysel\",\\n#                fatih = 26, kaan = 29, aysel = 30)  #fatih yüzünden type error alır ve fatih argüman birden fazla değer alır ama şöyle yaparsak\\n\\nbilgileriGoster(\"Fatih\",fatih = 26,\\n                kaan = 29, aysel = 30)', 'def bilgileriGoster(isim, fatih, *args, **kwargs):\\n    print(\"Positional Argument:\",isim)\\n    print(\"Positional Argument:\",fatih)\\n    print(args)\\n    print(kwargs)\\n\\n#bilgileriGoster(\"Fatih\", \"Kaan\", \"Aysel\",\\n#                fatih = 26, kaan = 29, aysel = 30)  #fatih yüzünden type error alır ve fatih argüman birden fazla değer alır ama şöyle yaparsak\\n\\nbilgileriGoster(\"Fatih\",fatih = 26,\\n                kaan = 29, aysel = 30)', 'def bilgileriGoster(isim, fatih, *args, **kwargs):\\n    print(\"Positional Argument:\",isim)\\n    print(\"Positional Argument:\",fatih)\\n    print(args)\\n    print(kwargs)\\n\\n#bilgileriGoster(\"Fatih\", \"Kaan\", \"Aysel\",\\n#                fatih = 26, kaan = 29, aysel = 30)  #fatih yüzünden type error alır ve fatih argüman birden fazla değer alır ama şöyle yaparsak\\n\\nbilgileriGoster(\"Fatih\",fatih = 26,\\n                kaan = 29, aysel = 30)\\n\\nbilgileriGoster(\"Fatih\", 26, \"Kaan\", \"Aysel\",\\n                kaan = 29, aysel = 30)', 'def bilgileriGoster(isim, fatih = \"\", *args, **kwargs):\\n    print(\"Positional Argument:\",isim)\\n    print(\"Positional Argument:\",fatih)\\n    print(args)\\n    print(kwargs)\\n\\n#bilgileriGoster(\"Fatih\", \"Kaan\", \"Aysel\",\\n#                fatih = 26, kaan = 29, aysel = 30)  #fatih yüzünden type error alır ve fatih argüman birden fazla değer alır ama şöyle yaparsak\\n\\nbilgileriGoster(\"Fatih\",fatih = 26,\\n                kaan = 29, aysel = 30)\\n\\nbilgileriGoster(\"Fatih\", 26, \"Kaan\", \"Aysel\",\\n                kaan = 29, aysel = 30)', 'def bilgileriGoster(isim, fatih = \"\", *args, **kwargs):\\n    print(\"Positional Argument:\",isim)\\n    print(\"Positional Argument:\",fatih)\\n    print(args)\\n    print(kwargs)\\n\\n#bilgileriGoster(\"Fatih\", \"Kaan\", \"Aysel\",\\n#                fatih = 26, kaan = 29, aysel = 30)  #fatih yüzünden type error alır ve fatih argüman birden fazla değer alır ama şöyle yaparsak\\n\\nbilgileriGoster(\"Fatih\",fatih = 26,\\n                kaan = 29, aysel = 30)\\n\\nbilgileriGoster(\"Fatih\", 26, \"Kaan\", \"Aysel\",\\n                kaan = 29, aysel = 30)\\nbilgileriGoster(\"Fatih\", \"Kaan\", \"Aysel\",\\n                kaan = 29, aysel = 30)', 'def bilgileriGoster(isim, fatih = \"\", *args, **kwargs):\\n    print(\"Positional Argument:\",isim)\\n    print(\"Positional Argument:\",fatih)\\n    print(args)\\n    print(kwargs)\\n\\n#bilgileriGoster(\"Fatih\", \"Kaan\", \"Aysel\",\\n#                fatih = 26, kaan = 29, aysel = 30)  #fatih yüzünden type error alır ve fatih argüman birden fazla değer alır ama şöyle yaparsak\\n\\nbilgileriGoster(\"Fatih\",fatih = 26,\\n                kaan = 29, aysel = 30)\\n\\nbilgileriGoster(\"Fatih\", 26, \"Kaan\", \"Aysel\",\\n                kaan = 29, aysel = 30)\\nbilgileriGoster(\"Fatih\"\\n                kaan = 29, aysel = 30)', 'def bilgileriGoster(isim, fatih = \"\", *args, **kwargs):\\n    print(\"Positional Argument:\",isim)\\n    print(\"Positional Argument:\",fatih)\\n    print(args)\\n    print(kwargs)\\n\\n#bilgileriGoster(\"Fatih\", \"Kaan\", \"Aysel\",\\n#                fatih = 26, kaan = 29, aysel = 30)  #fatih yüzünden type error alır ve fatih argüman birden fazla değer alır ama şöyle yaparsak\\n\\nbilgileriGoster(\"Fatih\",fatih = 26,\\n                kaan = 29, aysel = 30)\\n\\nbilgileriGoster(\"Fatih\", 26, \"Kaan\", \"Aysel\",\\n                kaan = 29, aysel = 30)\\nbilgileriGoster(\"Fatih\",\\n                kaan = 29, aysel = 30)', 'def bilgileriGoster(isim, *args, fatih = \"\", **kwargs):\\n    print(\"Positional Argument:\",isim)\\n    print(\"Positional Argument:\",fatih)\\n    print(args)\\n    print(kwargs)\\n\\nprint(\"Fatih\",\"Kaan\",\"Aysel\",\\n      fatih = 26, kaan = 29, aysel = 30)', 'def bilgileriGoster(isim, *args, fatih = \"\", **kwargs):\\n    print(\"Positional Argument:\",isim)\\n    print(\"Positional Argument:\",fatih)\\n    print(args)\\n    print(kwargs)\\n\\nprint(\"Fatih\", 26 ,\"Kaan\",\"Aysel\",\\n      fatih = 26, kaan = 29, aysel = 30)', 'def bilgileriGoster(isim, *args, fatih = \"\", **kwargs):\\n    print(\"Positional Argument:\",isim)\\n    print(\"Positional Argument:\",fatih)\\n    print(args)\\n    print(kwargs)\\n\\nbilgileriGoster(\"Fatih\", 26 ,\"Kaan\",\"Aysel\",\\n      fatih = 26, kaan = 29, aysel = 30)', 'def bilgileriGoster(isim, *args, fatih = \"\", **kwargs):\\n    print(\"Positional Argument:\",isim)\\n    print(\"Positional Argument:\",fatih)\\n    print(args)\\n    print(kwargs)\\n\\nbilgileriGoster(\"Fatih\",\"Kaan\",\"Aysel\",\\n      fatih = 26, kaan = 29, aysel = 30)', 'def bilgileriGoster(isim, *args, fatih = \"\", **kwargs):\\n    print(\"Positional Argument:\",isim)\\n    print(\"Positional Argument:\",fatih)\\n    print(args)\\n    print(kwargs)\\n\\nbilgileriGoster(\"Fatih\",\"Kaan\",\"Aysel\",\\n      fatih = 26, kaan = 29, aysel = 30)', '#Ornek-1\\n#Sınırsız sayıda değer alır ve karekökünü alır\\nfrom math import sqrt\\ndef karekokHesapla(*args):\\n    for sayi in args:\\n        print(sqrt(sayi))\\n\\nkarekokHesapla(1,2,3,4,5)', '#Ornek-1\\n#Sınırsız sayıda değer alır ve karekökünü alır\\nfrom math import sqrt\\ndef karekokHesapla(*args):\\n    for sayi in args:\\n        print(sqrt(sayi))\\n        print(round(sqrt(sayi)))\\nkarekokHesapla(1,2,3,4,5)', '#Ornek-1\\n#Sınırsız sayıda değer alır ve karekökünü alır\\nfrom math import sqrt\\ndef karekokHesapla(*args):\\n    for sayi in args:\\n        print(sqrt(sayi))\\n        print(round(sqrt(sayi), 4)) \\nkarekokHesapla(1,2,3,4,5)', \"#Ornek-1\\n#Sınırsız sayıda değer alır ve karekökünü alır\\nfrom math import sqrt\\ndef karekokHesapla(*args):\\n    liste = []\\n    for sayi in args:\\n        #print(sqrt(sayi))\\n        print(round(sqrt(sayi), 4)) #,'den sonra eklediğimiz sayıya göre , sağını o kadar açar\\n    return liste\\nkarekokHesapla(5, 7, 9, 16, 25, 34)\", \"#Ornek-1\\n#Sınırsız sayıda değer alır ve karekökünü alır\\nfrom math import sqrt\\ndef karekokHesapla(*args):\\n    liste = []\\n    for sayi in args:\\n        #print(sqrt(sayi))\\n        liste((round(sqrt(sayi), 4))) #,'den sonra eklediğimiz sayıya göre , sağını o kadar açar\\n    return liste\\nkarekokHesapla(5, 7, 9, 16, 25, 34)\", \"#Ornek-1\\n#Sınırsız sayıda değer alır ve karekökünü alır\\nfrom math import sqrt\\ndef karekokHesapla(*args):\\n    liste = []\\n    for sayi in args:\\n        #print(sqrt(sayi))\\n        liste.append((round(sqrt(sayi), 4))) #,'den sonra eklediğimiz sayıya göre , sağını o kadar açar\\n    return liste\\nkarekokHesapla(5, 7, 9, 16, 25, 34)\", 'sayi = 10\\n\\ndef func1():\\n    sayi2 = 20\\n\\nprint(sayi2)', 'sayi = 10\\n\\ndef func1():\\n    sayi2 = 20\\n\\nprint(sayi2)', 'sayi = 10\\ndef func2():\\n    print(sayi)', 'sayi = 10\\ndef func2():\\n    print(sayi)\\n\\nfunc2()', 'sayi = 10\\ndef func2():\\n    sayi = 20\\n    print(\"Local sayi:\",sayi,\"Adres:\",id(sayi)\\n\\nprint(\"GLobal sayi:\",sayi,\"Adres:\",id(sayi)\\nfunc2()', 'sayi = 10\\ndef func2():\\n    sayi = 20\\n    print(\"Local sayi:\",sayi,\"Adres:\",id(sayi))\\n\\nprint(\"GLobal sayi:\",sayi,\"Adres:\",id(sayi))\\nfunc2()', 'sayi = 10 #global\\ndef func2():\\n    global sayi\\n    sayi = 20\\n    print(\"Local sayi:\",sayi,\"Adres:\",id(sayi))\\n\\nprint(\"GLobal sayi:\",sayi,\"Adres:\",id(sayi))\\nfunc2()', 'sayi = 10 #global\\ndef func2():\\n    sayi = 20 #Lokal\\n    print(\"Local sayi:\",sayi,\"Adres:\",id(sayi))\\n\\nprint(\"GLobal sayi:\",sayi,\"Adres:\",id(sayi))\\nfunc2()\\nprint(\"GLobal sayi:\",sayi,\"Adres:\",id(sayi))', 'sayi = 10 #global\\ndef func2():\\n    global sayi\\n    sayi = 20\\n    print(\"Local sayi:\",sayi,\"Adres:\",id(sayi))\\n\\nprint(\"GLobal sayi:\",sayi,\"Adres:\",id(sayi))\\nfunc2()\\nprint(\"GLobal sayi:\",sayi,\"Adres:\",id(sayi))', 'if True:\\n    y = 50\\nprint(y)', '#Şartlı değişkenlerdeki değişkenleri kullanabilirsin\\nif True:\\n    y = 50\\nprint(y)\\n\\nwhile True:\\n    z = 100\\n    break\\nprint(z)', 'print(globals())', 'ay = \"fat\"\\nprint(globals()) #global değişkenlerin hepsini gösterir misal z ve y yapmıştık onlarda dahil', 'ay = \"fat\"\\nprint(globals()) #global değişkenlerin hepsini gösterir misal z ve y yapmıştık onlarda dahil\\n#istersek istediğimiz değişkenin değerini burdan bulabiliriz\\nprint(globals()[\"ay\"])\\nprint(globals()[\"y\"])\\nprint(globals()[\"z\"])'], '_oh': {62: [], 64: [2.2361, 2.6458, 3.0, 4.0, 5.0, 5.831]}, '_dh': [PosixPath('/Users/melih/PycharmProjects/Turkcell_Python/advancedPython/Ad_Python_301')], 'In': ['', '#Return Ornek-1\\ndef mutlakDegerliCarpim(sayi1, sayi2):\\n    return abs(sayi1 * sayi2)\\n\\nprint(mutlakDegerliCarpim(-5,-6))\\nprint(mutlakDegerliCarpim(5,-6))\\nprint(mutlakDegerliCarpim(5,6))', '#Return Ornek-2\\ndef uckeninKenarlariniSoyle(k1, k2, k3):\\n    return \"Kenar1 : {}\".format(k1), \\'Kenar2 : {}\\'.format(k2), \\'Kenar3 : {}\\'.format(k3)\\nprint(uckeninKenarlariniSoyle(3, 4, 5))', '#Return Ornek-2\\ndef uckeninKenarlariniSoyle(k1, k2, k3):\\n    return \"Kenar1 : {}\".format(k1), \\'Kenar2 : {}\\'.format(k2), \\'Kenar3 : {}\\'.format(k3)\\nprint(uckeninKenarlariniSoyle(3, 4, 5)) #Tuple şeklinde çıktı eğer liste yapacaksan [] kullan\\n\\nbilgi1, bilgi2, bilgi3 = uckeninKenarlariniSoyle(3, 4, 5)\\nprint(bilgi1, bilgi2, bilgi3) ', '#Return Ornek-3\\nfrom math import pi\\ndef daireAlanVeCevreHesapla(r):\\n    return [pi * r * r, 2 * pi * r]\\ndef daireAlanVeCevreBilgiVer(cevreVeAlan):\\n    print(\"Dairenin Alanı:\",cevreVeAlan[0])\\n    print(\"Dairenin Çevresi:\",cevreVeAlan[1])\\n\\nalan, cevre = daireAlanVeCevreHesapla(5)\\ndaireAlanVeCevreBilgiVer(daireAlanVeCevreHesapla(5))\\ndaireAlanVeCevreBilgiVer([alan, cevre])\\ndaireAlanVeCevreBilgiVer(alan, cevre)', '#Return Ornek-3\\nfrom math import pi\\ndef daireAlanVeCevreHesapla(r):\\n    return [pi * r * r, 2 * pi * r]\\ndef daireAlanVeCevreBilgiVer(cevreVeAlan):\\n    print(\"Dairenin Alanı:\",cevreVeAlan[0])\\n    print(\"Dairenin Çevresi:\",cevreVeAlan[1])\\n\\nalan, cevre = daireAlanVeCevreHesapla(5)\\ndaireAlanVeCevreBilgiVer(daireAlanVeCevreHesapla(5))\\ndaireAlanVeCevreBilgiVer([alan, cevre])\\ndaireAlanVeCevreBilgiVer((alan, cevre))', '#Pass by Value\\nsayi1 = 10\\nsayi2 = sayi1\\nprint(sayi1, sayi2)\\nsayi1 = 20\\nprint(sayi1, sayi2)', '#Pass by Reference\\nliste1 = [10, 20, 30]\\nliste2 = liste1\\nprint(liste1, liste2)\\nliste1[0] = 75\\nprint(liste1, liste2)', '#Pass by Value Ornek\\ndef guncelle(sayi):\\n    print(\"sayi id:\",id(sayi))\\n    sayi = 9\\n    print(\"sayi id:\",id(sayi))\\n    print(\"Func Sayi\",sayi)\\n\\nsayimiz = 20\\nprint(\"sayimiz id:\",id(sayimiz))\\nprint(\"sayimiz deger\",sayimiz)\\nguncelle(sayimiz)', 'def listeGuncelle(liste):\\n    print(\"Liste id:\",id(liste))\\n    liste[0] = 1000\\n    print(\"Liste id:\",id(liste))\\n\\nlistemiz = [0, 10, 20, 30]\\nlisteGuncelle(listemiz)\\nprint(listemiz)', '#Pass by Reference Ornek\\ndef listeGuncelle(liste):\\n    print(\"Func Liste id:\",id(liste))\\n    liste[0] = 1000\\n    print(\"Func Liste id:\",id(liste))\\n\\nlistemiz = [0, 10, 20, 30]\\nprint(\"listemiz id:\",id(listemiz))\\nlisteGuncelle(listemiz)\\nprint(listemiz)', '#Positional argümanlar\\ndef topla(s1, s2):\\n    return s1 + s2\\n\\nprint(topla(10, 20))', '#Default Arguments: Değer göndermemize gerek olmayan argümanlara denir\\ndef topla(s1, s2 = 0):\\n    return s1 + s2\\n\\nprint(topla(10, 20))\\nprint(topla(10))', '#Keyword Kavramı: parametrenin anahtar kelimesine göre değer verilmesine ve gönderilmesini\\nprint(topla(s2 = 150, s1 = 100))', '#Variable Length: Birden fazla argüman iletimine parametrenin başına * koyarız\\ndef topla(*sayilar):\\n    print(sayilar)\\n\\ntopla(2,3,4,5,6,7,88,)', '#Variable Length: Birden fazla argüman iletimine parametrenin başına * koyarız\\ndef topla(*sayilar):\\n    print(sayilar)\\n\\ntopla(2,3,4,5,6,7,88,12)', '#Variable Length: Birden fazla argüman iletimine parametrenin başına * koyarız ve birden fazla değer tutar bunları işler\\ndef topla(s1,s2,*sayilar):\\n    print(s1,s2,sayilar) #Tuple döner\\n\\ntopla(2,3,4,5,6,7,88,12)', 'def topla(s1,s2,*sayilar):\\n    print(s1,s2,sayilar) #sayilar değeri tuple olarak döner kalanlar tuple dışında olur\\n    print(s1 + s2 + sayilar)\\ntopla(2,3,4,5,6,7,88,12)', 'def topla(s1,s2,*sayilar):\\n    print(s1,s2,sayilar) #sayilar değeri tuple olarak döner kalanlar tuple dışında olur\\n    print(s1 + s2 + sum(sayilar))\\ntopla(2,3,4,5,6,7,88,12)', '#*args ve *kwargs kavramları\\ndef(s1, s2, *args, **kwargs):\\n    print(s1, s2, args)\\n    print(kwargs)\\n\\ntopla(2,3,4,5,6,7,88,12, islem = \"+\")', '#*args ve *kwargs kavramları\\ndef topla(s1, s2, *args, **kwargs):\\n    print(s1, s2, args)\\n    print(kwargs)\\n\\ntopla(2,3,4,5,6,7,88,12, islem = \"+\")', '#*args ve *kwargs kavramları\\n#args ismi olmayan argümanlar burada depolanır\\n#kwargs ismi olan argümanlar burada depolanır\\ndef topla(s1, s2, *args, **kwargs):\\n    print(s1, s2, args)\\n    print(kwargs)\\n    if kwargs[\"islem\"] == \"+\":\\n        print(\"Toplama işlemidir\")\\n        print(topla(s1, s2, sum(args)))\\ntopla(2,3,4,5,6,7,88,12, islem = \"+\")', '#*args ve *kwargs kavramları\\n#args ismi olmayan argümanlar burada depolanır\\n#kwargs ismi olan argümanlar burada depolanır\\ndef topla(s1, s2, *args, **kwargs):\\n    print(s1, s2, args)\\n    print(kwargs)\\n    if kwargs[\"islem\"] == \"+\":\\n        print(\"Toplama işlemidir\")\\n        print(topla(s1, s2, sum(args)))\\ntopla(2,3,4,5,6,7,88,12, islem = \"+\")', '#*args ve *kwargs kavramları\\n#args ismi olmayan argümanlar burada depolanır\\n#kwargs ismi olan argümanlar burada depolanır\\ndef topla(s1, s2, *args, **kwargs):\\n    print(s1, s2, args)\\n    print(kwargs)\\n    if kwargs[\\'islem\\'] == \"+\":\\n        print(\"Toplama işlemidir\")\\n        print(topla(s1, s2, sum(args)))\\ntopla(2,3,4,5,6,7,88,12, islem = \"+\")', '#*args ve *kwargs kavramları\\n#args ismi olmayan argümanlar burada depolanır\\n#kwargs ismi olan argümanlar burada depolanır\\ndef topla(s1, s2, *args, **kwargs):\\n    print(s1, s2, args)\\n    print(kwargs)\\n    if kwargs[\\'islem\\'] == \\'+\\':\\n        print(\"Toplama işlemidir\")\\n        print(topla(s1, s2, sum(args)))\\n    else:\\n        print(\"Bu işlem toplama dışında işlem yapamaz\")\\ntopla(2,3,4,5,6,7,88,12, islem = \"+\")', '#*args ve *kwargs kavramları\\n#args ismi olmayan argümanlar burada depolanır\\n#kwargs ismi olan argümanlar burada depolanır\\ndef topla(s1, s2, *args, **kwargs):\\n    print(s1, s2, args)\\n    print(kwargs)\\n    if kwargs.get(\"islem\") == \\'+\\':\\n        print(\"Toplama işlemidir\")\\n        print(topla(s1, s2, sum(args)))\\n    else:\\n        print(\"Bu işlem toplama dışında işlem yapamaz\")\\ntopla(2,3,4,5,6,7,88,12, islem = \"+\")', '#*args ve *kwargs kavramları\\n#args ismi olmayan argümanlar burada depolanır\\n#kwargs ismi olan argümanlar burada depolanır\\ndef topla(s1, s2, *args, **kwargs):\\n    print(s1, s2, args)\\n    print(kwargs)\\n    if kwargs.get(\"islem\") == \\'+\\':\\n        print(\"Toplama işlemidir\")\\n        print(topla(s1, s2, sum(args)))\\n    else:\\n        print(\"Bu işlem toplama dışında işlem yapamaz\")\\ntopla(2,3,4,5,6,7,88,12, islem = \"*\")', '#*args ve *kwargs kavramları\\n#args ismi olmayan argümanlar burada depolanır\\n#kwargs ismi olan argümanlar burada depolanır\\ndef topla(s1, s2, *args, **kwargs):\\n    print(s1, s2, args)\\n    print(kwargs)\\n    if kwargs.get(\"islem\") == \\'+\\':\\n        print(\"Toplama işlemidir\")\\n        print(topla(s1, s2, sum(args)))\\n    else:\\n        print(\"Bu işlem toplama dışında işlem yapamaz\")\\ntopla(2,3,4,5,6,7,88,12, islem = \"*\")\\ntopla(2,3,4,6,75,4,324,12, islem = \"+\")', '#*args ve *kwargs kavramları\\n#args ismi olmayan argümanlar burada depolanır tuple halinde depolanır\\n#kwargs ismi olan argümanlar burada depolanır sözlük halinde depolanır\\ndef topla(s1, s2, *args, **kwargs):\\n    print(s1, s2, args)\\n    print(kwargs)\\n    if kwargs.get(\"islem\") == \\'+\\':\\n        print(\"Toplama işlemidir\")\\n        print(s1 + s2 + sum(args))\\n    else:\\n        print(\"Bu işlem toplama dışında işlem yapamaz\")\\ntopla(2,3,4,5,6,7,88,12, islem = \"*\")\\ntopla(2,3,4,6,75,4,324,12, islem = \"+\")', 'def hesapla(s1, s2, islem):\\n    if islem == \"+\":\\n        return s1 + s2\\n    elif islem == \"-\":\\n        return s1 - s2\\n    elif islem == \"*\":\\n        return s1 * s2\\n    elif islem == \"/\":\\n        return s1 / s2\\n    elif islem == \"%\":\\n        return s1 % s2\\n    else:\\n        return \"5 temel işlem dışında hesaplama yapılmamaktır\"\\n\\nprint(hesapla(74, 15, \"+\"))', 'def hesapla(s1, s2, islem):\\n    if islem == \"+\":\\n        return s1 + s2\\n    elif islem == \"-\":\\n        return s1 - s2\\n    elif islem == \"*\":\\n        return s1 * s2\\n    elif islem == \"/\":\\n        return s1 / s2\\n    elif islem == \"%\":\\n        return s1 % s2\\n    else:\\n        return \"5 temel işlem dışında hesaplama yapılmamaktır\"\\n\\nprint(hesapla(74, 15, \"+\")) #Burada +\\'yı s1 veya s2 yerine ya da s2 değerini s1 değerini yazarsak değişebilir ya da hata verebilir\\nprint(hesapla(74, 15, \"-\"))\\nprint(hesapla(74, 15, \"*\"))\\nprint(hesapla(74, 15, \"/\"))\\nprint(hesapla(74, 15, \"%\"))', 'def hesapla(s1, s2, islem):\\n    if islem == \"+\":\\n        return s1 + s2\\n    elif islem == \"-\":\\n        return s1 - s2\\n    elif islem == \"*\":\\n        return s1 * s2\\n    elif islem == \"/\":\\n        return s1 / s2\\n    elif islem == \"%\":\\n        return s1 % s2\\n    else:\\n        return \"5 temel işlem dışında hesaplama yapılmamaktır\"\\n\\nprint(hesapla(74, 15, \"+\")) #Burada +\\'yı s1 veya s2 yerine ya da s2 değerini s1 değerini yazarsak değişebilir ya da hata verebilir\\nprint(hesapla(74, 15, \"-\"))\\nprint(hesapla(74, 15, \"*\"))\\nprint(hesapla(74, 15, \"/\"))\\nprint(hesapla(74, 15, \"%\"))\\nprint(hesapla(74, 15, \"a\"))', '#Single entry, single exit (Tek girdi, tek çıktı)\\ndef hesapla(s1, s2, islem):\\n    sonuc = None\\n    if islem == \"+\":\\n        sonuc = s1 + s2\\n    elif islem == \"-\":\\n        sonuc = s1 - s2\\n    elif islem == \"*\":\\n        sonuc = s1 * s2\\n    elif islem == \"/\":\\n        sonuc = s1 / s2\\n    elif islem == \"%\":\\n        sonuc = s1 % s2\\n    else:\\n        sonuc = \"5 temel işlem dışında hesaplama yapılmamaktır\"\\n    return sonuc\\n\\nprint(hesapla(74, 15, \"+\")) #Burada +\\'yı s1 veya s2 yerine ya da s2 değerini s1 değerini yazarsak değişebilir ya da hata verebilir\\nprint(hesapla(74, 15, \"-\"))\\nprint(hesapla(74, 15, \"*\"))\\nprint(hesapla(74, 15, \"/\"))\\nprint(hesapla(74, 15, \"%\"))\\nprint(hesapla(74, 15, \"a\"))', 'def hesapla(s1, s2, islem):\\n    if islem == \"+\":\\n        return s1 + s2\\n    elif islem == \"-\":\\n        return s1 - s2\\n    elif islem == \"*\":\\n        return s1 * s2\\n    elif islem == \"/\":\\n        return s1 / s2\\n    elif islem == \"%\":\\n        return s1 % s2\\n    else:\\n        return \"5 temel işlem dışında hesaplama yapılmamaktır\"\\n\\nprint(hesapla(74, 15, \"+\")) #Burada +\\'yı s1 veya s2 yerine ya da s2 değerini s1 değerini yazarsak değişebilir ya da hata verebilir\\nprint(hesapla(74, 15, \"-\"))\\nprint(hesapla(74, 15, \"*\"))\\nprint(hesapla(74, 15, \"/\"))\\nprint(hesapla(74, 15, \"%\"))\\nprint(hesapla(74, 15, \"a\"))', '#Single entry, single exit (Tek girdi, tek çıktı)\\ndef hesapla(s1, s2, islem):\\n    sonuc = None\\n    if islem == \"+\":\\n        sonuc = s1 + s2\\n    elif islem == \"-\":\\n        sonuc = s1 - s2\\n    elif islem == \"*\":\\n        sonuc = s1 * s2\\n    elif islem == \"/\":\\n        sonuc = s1 / s2\\n    elif islem == \"%\":\\n        sonuc = s1 % s2\\n    else:\\n        sonuc = \"5 temel işlem dışında hesaplama yapılmamaktır\"\\n    return sonuc\\n\\nprint(hesapla(74, 15, \"+\")) #Burada +\\'yı s1 veya s2 yerine ya da s2 değerini s1 değerini yazarsak değişebilir ya da hata verebilir\\nprint(hesapla(74, 15, \"-\"))\\nprint(hesapla(74, 15, \"*\"))\\nprint(hesapla(74, 15, \"/\"))\\nprint(hesapla(74, 15, \"%\"))\\nprint(hesapla(74, 15, \"a\"))', 'def ogrenciBilgiSoyle(isim, numara, adres, sube):\\n    print(\"İsmi :\",isim)\\n    print(\"Numara :\",numara)\\n    print(\"Adres :\",adres)\\n    print(\"Sube :\",sube)\\n\\nogrenciBilgiSoyle(\"Melih\", 47,\"Bolu/Merkez\", \\'A\\')', 'def ogrenciBilgiSoyle(isim, numara, adres = \"\", sube = \"\"):\\n    print(\"İsmi :\",isim)\\n    print(\"Numara :\",numara)\\n    if adres != \"\":\\n        print(\"Adres :\",adres)\\n    if sube != \"\":\\n        print(\"Sube :\",sube)\\n\\nogrenciBilgiSoyle(\"Melih\", 47,\"Bolu/Merkez\", \\'A\\')\\nogrenciBilgiSoyle(\"Melih\", 47)\\nogrenciBilgiSoyle(\"Melih\", 198, sube = \"E\")', 'def ogrenciBilgiSoyle(isim, numara, adres = \"\", sube = \"\"):\\n    print(\"İsmi :\",isim)\\n    print(\"Numara :\",numara)\\n    if adres != \"\":\\n        print(\"Adres :\",adres)\\n    if sube != \"\":\\n        print(\"Sube :\",sube)\\n\\n#ogrenciBilgiSoyle(\"Melih\", 47,\"Bolu/Merkez\", \\'A\\')\\nogrenciBilgiSoyle(\"Melih\", 47)\\nogrenciBilgiSoyle(\"Melih\", 198, sube = \"E\")', 'def ogrenciBilgiSoyle(isim, numara, adres = \"\", sube = \"\"):\\n    print(\"İsmi :\",isim)\\n    print(\"Numara :\",numara)\\n    if adres != \"\":\\n        print(\"Adres :\",adres)\\n    if sube != \"\":\\n        print(\"Sube :\",sube)\\n\\n#ogrenciBilgiSoyle(\"Melih\", 47,\"Bolu/Merkez\", \\'A\\')\\nogrenciBilgiSoyle(\"Melih\", 47, \"E\")\\nogrenciBilgiSoyle(\"Melih\", 198, sube = \"E\") #Keyword şeklinde verirsek adres kısmına gitmez', 'def ogrenciBilgiSoyle(isim, numara, adres = \"\", sube = \"\"):\\n    print(\"İsmi :\",isim)\\n    print(\"Numara :\",numara)\\n    if adres != \"\":\\n        print(\"Adres :\",adres)\\n    if sube != \"\":\\n        print(\"Sube :\",sube)\\n\\n#ogrenciBilgiSoyle(\"Melih\", 47,\"Bolu/Merkez\", \\'A\\')\\nogrenciBilgiSoyle(\"Melih\", 47, \"E\")\\nogrenciBilgiSoyle(\"Melih\", 198, sube = \"E\") #Keyword şeklinde verirsek adres kısmına gitmez çünkü sıralıdır argümanlar\\nogrenciBilgiSoyle(isim = \"Melih\", numara = \"5\", adres = \"Çanakkale\" ,sube = \"E\")', 'def ogrenciBilgiSoyle(isim, numara, adres = \"\", sube = \"\"):\\n    print(\"İsmi :\",isim)\\n    print(\"Numara :\",numara)\\n    if adres != \"\":\\n        print(\"Adres :\",adres)\\n    if sube != \"\":\\n        print(\"Sube :\",sube)\\n\\n#ogrenciBilgiSoyle(\"Melih\", 47,\"Bolu/Merkez\", \\'A\\')\\nogrenciBilgiSoyle(\"Melih\", 47, \"E\") #Sıralı şekilde vermen gerek\\nogrenciBilgiSoyle(\"Melih\", 198, sube = \"E\") #Keyword şeklinde verirsek adres kısmına gitmez çünkü sıralıdır argümanlar\\nogrenciBilgiSoyle(isim = \"Melih\", numara = \"5\", adres = \"Çanakkale\" ,sube = \"E\") #Keyword vererek yapınca sıralamaya gerek yok\\n#ogrenciBilgiSoyle(sube = \"E\", adres = \"Çanakkale\", \"Melih\", 123) #Hata alırsın çünkü burada takip edemem der yani varsayılmayanlar varsayılanı takip edemez varsayılanlar en sonda olmalı', 'def bilgileriGoster(*args, **kwargs):\\n    print(args)\\n    print(kwargs)\\n\\nbilgileriGoster(\"Fatih\", \"Kaan\", \"Aysel\",\\n                fatih = 26, kaan = 29, aysel = 30)', 'def bilgileriGoster(*args, **kwargs):\\n    print(args)\\n    print(kwargs)\\n\\nbilgileriGoster(\"Fatih\", \"Kaan\", \"Aysel\", #*args tuple\\n                fatih = 26, kaan = 29, aysel = 30) #**kwargs sözlük\\n#yıldızları değerler gibi düşün misal bir yıldız olunca bir değeri alıyor iki yıldız olunca hem anahtarını hem değerini alıyor', 'def bilgileriGoster(isim, fatih, *args, **kwargs):\\n    print(args)\\n    print(kwargs)\\n\\nbilgileriGoster(\"Fatih\", \"Kaan\", \"Aysel\", #*args tuple\\n                fatih = 26, kaan = 29, aysel = 30) #**kwargs sözlük\\n#yıldızları değerler gibi düşün misal bir yıldız olunca bir değeri alıyor iki yıldız olunca hem anahtarını hem değerini alıyor', 'def bilgileriGoster(isim, fatih, *args, **kwargs):\\n    print(args)\\n    print(kwargs)\\n\\nbilgileriGoster(\"Fatih\", \"Kaan\", \"Aysel\",\\n                fatih = 26, kaan = 29, aysel = 30)  #fatih yüzünden type error alır ve fatih argüman birden fazla değer alır ama şöyle yaparsak\\n\\nbilgileriGoster(\"Fatih\",fatih = 26,\\n                kaan = 29, aysel = 30)', 'def bilgileriGoster(isim, fatih, *args, **kwargs):\\n    print(args)\\n    print(kwargs)\\n\\n#bilgileriGoster(\"Fatih\", \"Kaan\", \"Aysel\",\\n#                fatih = 26, kaan = 29, aysel = 30)  #fatih yüzünden type error alır ve fatih argüman birden fazla değer alır ama şöyle yaparsak\\n\\nbilgileriGoster(\"Fatih\",fatih = 26,\\n                kaan = 29, aysel = 30)', 'def bilgileriGoster(isim, fatih, *args, **kwargs):\\n    print(args)\\n    print(kwargs)\\n\\n#bilgileriGoster(\"Fatih\", \"Kaan\", \"Aysel\",\\n#                fatih = 26, kaan = 29, aysel = 30)  #fatih yüzünden type error alır ve fatih argüman birden fazla değer alır ama şöyle yaparsak\\n\\nbilgileriGoster(\"Fatih\",\"Kaan\",fatih = 26,\\n                kaan = 29, aysel = 30)', 'def bilgileriGoster(isim, fatih, *args, **kwargs):\\n    print(args)\\n    print(kwargs)\\n\\n#bilgileriGoster(\"Fatih\", \"Kaan\", \"Aysel\",\\n#                fatih = 26, kaan = 29, aysel = 30)  #fatih yüzünden type error alır ve fatih argüman birden fazla değer alır ama şöyle yaparsak\\n\\nbilgileriGoster(\"Fatih\",fatih = 26,\\n                kaan = 29, aysel = 30)', 'def bilgileriGoster(isim, fatih, *args, **kwargs):\\n    print(\"Positional Argument:\",isim)\\n    print(\"Positional Argument:\",fatih)\\n    print(args)\\n    print(kwargs)\\n\\n#bilgileriGoster(\"Fatih\", \"Kaan\", \"Aysel\",\\n#                fatih = 26, kaan = 29, aysel = 30)  #fatih yüzünden type error alır ve fatih argüman birden fazla değer alır ama şöyle yaparsak\\n\\nbilgileriGoster(\"Fatih\",fatih = 26,\\n                kaan = 29, aysel = 30)', 'def bilgileriGoster(isim, fatih, *args, **kwargs):\\n    print(\"Positional Argument:\",isim)\\n    print(\"Positional Argument:\",fatih)\\n    print(args)\\n    print(kwargs)\\n\\n#bilgileriGoster(\"Fatih\", \"Kaan\", \"Aysel\",\\n#                fatih = 26, kaan = 29, aysel = 30)  #fatih yüzünden type error alır ve fatih argüman birden fazla değer alır ama şöyle yaparsak\\n\\nbilgileriGoster(\"Fatih\",fatih = 26,\\n                kaan = 29, aysel = 30)\\n\\nbilgileriGoster(\"Fatih\", 26, \"Kaan\", \"Aysel\",\\n                kaan = 29, aysel = 30)', 'def bilgileriGoster(isim, fatih = \"\", *args, **kwargs):\\n    print(\"Positional Argument:\",isim)\\n    print(\"Positional Argument:\",fatih)\\n    print(args)\\n    print(kwargs)\\n\\n#bilgileriGoster(\"Fatih\", \"Kaan\", \"Aysel\",\\n#                fatih = 26, kaan = 29, aysel = 30)  #fatih yüzünden type error alır ve fatih argüman birden fazla değer alır ama şöyle yaparsak\\n\\nbilgileriGoster(\"Fatih\",fatih = 26,\\n                kaan = 29, aysel = 30)\\n\\nbilgileriGoster(\"Fatih\", 26, \"Kaan\", \"Aysel\",\\n                kaan = 29, aysel = 30)', 'def bilgileriGoster(isim, fatih = \"\", *args, **kwargs):\\n    print(\"Positional Argument:\",isim)\\n    print(\"Positional Argument:\",fatih)\\n    print(args)\\n    print(kwargs)\\n\\n#bilgileriGoster(\"Fatih\", \"Kaan\", \"Aysel\",\\n#                fatih = 26, kaan = 29, aysel = 30)  #fatih yüzünden type error alır ve fatih argüman birden fazla değer alır ama şöyle yaparsak\\n\\nbilgileriGoster(\"Fatih\",fatih = 26,\\n                kaan = 29, aysel = 30)\\n\\nbilgileriGoster(\"Fatih\", 26, \"Kaan\", \"Aysel\",\\n                kaan = 29, aysel = 30)\\nbilgileriGoster(\"Fatih\", \"Kaan\", \"Aysel\",\\n                kaan = 29, aysel = 30)', 'def bilgileriGoster(isim, fatih = \"\", *args, **kwargs):\\n    print(\"Positional Argument:\",isim)\\n    print(\"Positional Argument:\",fatih)\\n    print(args)\\n    print(kwargs)\\n\\n#bilgileriGoster(\"Fatih\", \"Kaan\", \"Aysel\",\\n#                fatih = 26, kaan = 29, aysel = 30)  #fatih yüzünden type error alır ve fatih argüman birden fazla değer alır ama şöyle yaparsak\\n\\nbilgileriGoster(\"Fatih\",fatih = 26,\\n                kaan = 29, aysel = 30)\\n\\nbilgileriGoster(\"Fatih\", 26, \"Kaan\", \"Aysel\",\\n                kaan = 29, aysel = 30)\\nbilgileriGoster(\"Fatih\"\\n                kaan = 29, aysel = 30)', 'def bilgileriGoster(isim, fatih = \"\", *args, **kwargs):\\n    print(\"Positional Argument:\",isim)\\n    print(\"Positional Argument:\",fatih)\\n    print(args)\\n    print(kwargs)\\n\\n#bilgileriGoster(\"Fatih\", \"Kaan\", \"Aysel\",\\n#                fatih = 26, kaan = 29, aysel = 30)  #fatih yüzünden type error alır ve fatih argüman birden fazla değer alır ama şöyle yaparsak\\n\\nbilgileriGoster(\"Fatih\",fatih = 26,\\n                kaan = 29, aysel = 30)\\n\\nbilgileriGoster(\"Fatih\", 26, \"Kaan\", \"Aysel\",\\n                kaan = 29, aysel = 30)\\nbilgileriGoster(\"Fatih\",\\n                kaan = 29, aysel = 30)', 'def bilgileriGoster(isim, *args, fatih = \"\", **kwargs):\\n    print(\"Positional Argument:\",isim)\\n    print(\"Positional Argument:\",fatih)\\n    print(args)\\n    print(kwargs)\\n\\nprint(\"Fatih\",\"Kaan\",\"Aysel\",\\n      fatih = 26, kaan = 29, aysel = 30)', 'def bilgileriGoster(isim, *args, fatih = \"\", **kwargs):\\n    print(\"Positional Argument:\",isim)\\n    print(\"Positional Argument:\",fatih)\\n    print(args)\\n    print(kwargs)\\n\\nprint(\"Fatih\", 26 ,\"Kaan\",\"Aysel\",\\n      fatih = 26, kaan = 29, aysel = 30)', 'def bilgileriGoster(isim, *args, fatih = \"\", **kwargs):\\n    print(\"Positional Argument:\",isim)\\n    print(\"Positional Argument:\",fatih)\\n    print(args)\\n    print(kwargs)\\n\\nbilgileriGoster(\"Fatih\", 26 ,\"Kaan\",\"Aysel\",\\n      fatih = 26, kaan = 29, aysel = 30)', 'def bilgileriGoster(isim, *args, fatih = \"\", **kwargs):\\n    print(\"Positional Argument:\",isim)\\n    print(\"Positional Argument:\",fatih)\\n    print(args)\\n    print(kwargs)\\n\\nbilgileriGoster(\"Fatih\",\"Kaan\",\"Aysel\",\\n      fatih = 26, kaan = 29, aysel = 30)', 'def bilgileriGoster(isim, *args, fatih = \"\", **kwargs):\\n    print(\"Positional Argument:\",isim)\\n    print(\"Positional Argument:\",fatih)\\n    print(args)\\n    print(kwargs)\\n\\nbilgileriGoster(\"Fatih\",\"Kaan\",\"Aysel\",\\n      fatih = 26, kaan = 29, aysel = 30)', '#Ornek-1\\n#Sınırsız sayıda değer alır ve karekökünü alır\\nfrom math import sqrt\\ndef karekokHesapla(*args):\\n    for sayi in args:\\n        print(sqrt(sayi))\\n\\nkarekokHesapla(1,2,3,4,5)', '#Ornek-1\\n#Sınırsız sayıda değer alır ve karekökünü alır\\nfrom math import sqrt\\ndef karekokHesapla(*args):\\n    for sayi in args:\\n        print(sqrt(sayi))\\n        print(round(sqrt(sayi)))\\nkarekokHesapla(1,2,3,4,5)', '#Ornek-1\\n#Sınırsız sayıda değer alır ve karekökünü alır\\nfrom math import sqrt\\ndef karekokHesapla(*args):\\n    for sayi in args:\\n        print(sqrt(sayi))\\n        print(round(sqrt(sayi), 4)) \\nkarekokHesapla(1,2,3,4,5)', \"#Ornek-1\\n#Sınırsız sayıda değer alır ve karekökünü alır\\nfrom math import sqrt\\ndef karekokHesapla(*args):\\n    liste = []\\n    for sayi in args:\\n        #print(sqrt(sayi))\\n        print(round(sqrt(sayi), 4)) #,'den sonra eklediğimiz sayıya göre , sağını o kadar açar\\n    return liste\\nkarekokHesapla(5, 7, 9, 16, 25, 34)\", \"#Ornek-1\\n#Sınırsız sayıda değer alır ve karekökünü alır\\nfrom math import sqrt\\ndef karekokHesapla(*args):\\n    liste = []\\n    for sayi in args:\\n        #print(sqrt(sayi))\\n        liste((round(sqrt(sayi), 4))) #,'den sonra eklediğimiz sayıya göre , sağını o kadar açar\\n    return liste\\nkarekokHesapla(5, 7, 9, 16, 25, 34)\", \"#Ornek-1\\n#Sınırsız sayıda değer alır ve karekökünü alır\\nfrom math import sqrt\\ndef karekokHesapla(*args):\\n    liste = []\\n    for sayi in args:\\n        #print(sqrt(sayi))\\n        liste.append((round(sqrt(sayi), 4))) #,'den sonra eklediğimiz sayıya göre , sağını o kadar açar\\n    return liste\\nkarekokHesapla(5, 7, 9, 16, 25, 34)\", 'sayi = 10\\n\\ndef func1():\\n    sayi2 = 20\\n\\nprint(sayi2)', 'sayi = 10\\n\\ndef func1():\\n    sayi2 = 20\\n\\nprint(sayi2)', 'sayi = 10\\ndef func2():\\n    print(sayi)', 'sayi = 10\\ndef func2():\\n    print(sayi)\\n\\nfunc2()', 'sayi = 10\\ndef func2():\\n    sayi = 20\\n    print(\"Local sayi:\",sayi,\"Adres:\",id(sayi)\\n\\nprint(\"GLobal sayi:\",sayi,\"Adres:\",id(sayi)\\nfunc2()', 'sayi = 10\\ndef func2():\\n    sayi = 20\\n    print(\"Local sayi:\",sayi,\"Adres:\",id(sayi))\\n\\nprint(\"GLobal sayi:\",sayi,\"Adres:\",id(sayi))\\nfunc2()', 'sayi = 10 #global\\ndef func2():\\n    global sayi\\n    sayi = 20\\n    print(\"Local sayi:\",sayi,\"Adres:\",id(sayi))\\n\\nprint(\"GLobal sayi:\",sayi,\"Adres:\",id(sayi))\\nfunc2()', 'sayi = 10 #global\\ndef func2():\\n    sayi = 20 #Lokal\\n    print(\"Local sayi:\",sayi,\"Adres:\",id(sayi))\\n\\nprint(\"GLobal sayi:\",sayi,\"Adres:\",id(sayi))\\nfunc2()\\nprint(\"GLobal sayi:\",sayi,\"Adres:\",id(sayi))', 'sayi = 10 #global\\ndef func2():\\n    global sayi\\n    sayi = 20\\n    print(\"Local sayi:\",sayi,\"Adres:\",id(sayi))\\n\\nprint(\"GLobal sayi:\",sayi,\"Adres:\",id(sayi))\\nfunc2()\\nprint(\"GLobal sayi:\",sayi,\"Adres:\",id(sayi))', 'if True:\\n    y = 50\\nprint(y)', '#Şartlı değişkenlerdeki değişkenleri kullanabilirsin\\nif True:\\n    y = 50\\nprint(y)\\n\\nwhile True:\\n    z = 100\\n    break\\nprint(z)', 'print(globals())', 'ay = \"fat\"\\nprint(globals()) #global değişkenlerin hepsini gösterir misal z ve y yapmıştık onlarda dahil', 'ay = \"fat\"\\nprint(globals()) #global değişkenlerin hepsini gösterir misal z ve y yapmıştık onlarda dahil\\n#istersek istediğimiz değişkenin değerini burdan bulabiliriz\\nprint(globals()[\"ay\"])\\nprint(globals()[\"y\"])\\nprint(globals()[\"z\"])'], 'Out': {62: [], 64: [2.2361, 2.6458, 3.0, 4.0, 5.0, 5.831]}, 'get_ipython': <bound method InteractiveShell.get_ipython of <ipykernel.zmqshell.ZMQInteractiveShell object at 0x105840ec0>>, 'exit': <IPython.core.autocall.ZMQExitAutocall object at 0x1058cd940>, 'quit': <IPython.core.autocall.ZMQExitAutocall object at 0x1058cd940>, 'open': <function open at 0x10482b880>, '_': [2.2361, 2.6458, 3.0, 4.0, 5.0, 5.831], '__': [], '___': '', '__session__': 'advancedPython/Ad_Python_301/advanced_functions_301_.ipynb', '_i': 'ay = \"fat\"\\nprint(globals()) #global değişkenlerin hepsini gösterir misal z ve y yapmıştık onlarda dahil', '_ii': 'print(globals())', '_iii': '#Şartlı değişkenlerdeki değişkenleri kullanabilirsin\\nif True:\\n    y = 50\\nprint(y)\\n\\nwhile True:\\n    z = 100\\n    break\\nprint(z)', '_i1': '#Return Ornek-1\\ndef mutlakDegerliCarpim(sayi1, sayi2):\\n    return abs(sayi1 * sayi2)\\n\\nprint(mutlakDegerliCarpim(-5,-6))\\nprint(mutlakDegerliCarpim(5,-6))\\nprint(mutlakDegerliCarpim(5,6))', 'mutlakDegerliCarpim': <function mutlakDegerliCarpim at 0x105a8df80>, 'sys': <module 'sys' (built-in)>, 'remove_imported_pydev_package': <function remove_imported_pydev_package at 0x105a8e480>, '_pydevd_bundle': <module '_pydevd_bundle' from '/Users/melih/Applications/PyCharm.app/Contents/plugins/python-ce/helpers/pydev/_pydevd_bundle/__init__.py'>, 'pydev_jupyter_vars': <module 'pydev_jupyter_vars' from '/Users/melih/Applications/PyCharm.app/Contents/plugins/python-ce/helpers/jupyter_debug/pydev_jupyter_vars.py'>, '_i2': '#Return Ornek-2\\ndef uckeninKenarlariniSoyle(k1, k2, k3):\\n    return \"Kenar1 : {}\".format(k1), \\'Kenar2 : {}\\'.format(k2), \\'Kenar3 : {}\\'.format(k3)\\nprint(uckeninKenarlariniSoyle(3, 4, 5))', 'uckeninKenarlariniSoyle': <function uckeninKenarlariniSoyle at 0x105ce18a0>, '_i3': '#Return Ornek-2\\ndef uckeninKenarlariniSoyle(k1, k2, k3):\\n    return \"Kenar1 : {}\".format(k1), \\'Kenar2 : {}\\'.format(k2), \\'Kenar3 : {}\\'.format(k3)\\nprint(uckeninKenarlariniSoyle(3, 4, 5)) #Tuple şeklinde çıktı eğer liste yapacaksan [] kullan\\n\\nbilgi1, bilgi2, bilgi3 = uckeninKenarlariniSoyle(3, 4, 5)\\nprint(bilgi1, bilgi2, bilgi3) ', 'bilgi1': 'Kenar1 : 3', 'bilgi2': 'Kenar2 : 4', 'bilgi3': 'Kenar3 : 5', '_i4': '#Return Ornek-3\\nfrom math import pi\\ndef daireAlanVeCevreHesapla(r):\\n    return [pi * r * r, 2 * pi * r]\\ndef daireAlanVeCevreBilgiVer(cevreVeAlan):\\n    print(\"Dairenin Alanı:\",cevreVeAlan[0])\\n    print(\"Dairenin Çevresi:\",cevreVeAlan[1])\\n\\nalan, cevre = daireAlanVeCevreHesapla(5)\\ndaireAlanVeCevreBilgiVer(daireAlanVeCevreHesapla(5))\\ndaireAlanVeCevreBilgiVer([alan, cevre])\\ndaireAlanVeCevreBilgiVer(alan, cevre)', 'pi': 3.141592653589793, 'daireAlanVeCevreHesapla': <function daireAlanVeCevreHesapla at 0x1061d6b60>, 'daireAlanVeCevreBilgiVer': <function daireAlanVeCevreBilgiVer at 0x1061d63e0>, 'alan': 78.53981633974483, 'cevre': 31.41592653589793, '_i5': '#Return Ornek-3\\nfrom math import pi\\ndef daireAlanVeCevreHesapla(r):\\n    return [pi * r * r, 2 * pi * r]\\ndef daireAlanVeCevreBilgiVer(cevreVeAlan):\\n    print(\"Dairenin Alanı:\",cevreVeAlan[0])\\n    print(\"Dairenin Çevresi:\",cevreVeAlan[1])\\n\\nalan, cevre = daireAlanVeCevreHesapla(5)\\ndaireAlanVeCevreBilgiVer(daireAlanVeCevreHesapla(5))\\ndaireAlanVeCevreBilgiVer([alan, cevre])\\ndaireAlanVeCevreBilgiVer((alan, cevre))', '_i6': '#Pass by Value\\nsayi1 = 10\\nsayi2 = sayi1\\nprint(sayi1, sayi2)\\nsayi1 = 20\\nprint(sayi1, sayi2)', 'sayi1': 20, 'sayi2': 10, '_i7': '#Pass by Reference\\nliste1 = [10, 20, 30]\\nliste2 = liste1\\nprint(liste1, liste2)\\nliste1[0] = 75\\nprint(liste1, liste2)', 'liste1': [75, 20, 30], 'liste2': [75, 20, 30], '_i8': '#Pass by Value Ornek\\ndef guncelle(sayi):\\n    print(\"sayi id:\",id(sayi))\\n    sayi = 9\\n    print(\"sayi id:\",id(sayi))\\n    print(\"Func Sayi\",sayi)\\n\\nsayimiz = 20\\nprint(\"sayimiz id:\",id(sayimiz))\\nprint(\"sayimiz deger\",sayimiz)\\nguncelle(sayimiz)', 'guncelle': <function guncelle at 0x1061d6980>, 'sayimiz': 20, '_i9': 'def listeGuncelle(liste):\\n    print(\"Liste id:\",id(liste))\\n    liste[0] = 1000\\n    print(\"Liste id:\",id(liste))\\n\\nlistemiz = [0, 10, 20, 30]\\nlisteGuncelle(listemiz)\\nprint(listemiz)', 'listeGuncelle': <function listeGuncelle at 0x1061d71a0>, 'listemiz': [1000, 10, 20, 30], '_i10': '#Pass by Reference Ornek\\ndef listeGuncelle(liste):\\n    print(\"Func Liste id:\",id(liste))\\n    liste[0] = 1000\\n    print(\"Func Liste id:\",id(liste))\\n\\nlistemiz = [0, 10, 20, 30]\\nprint(\"listemiz id:\",id(listemiz))\\nlisteGuncelle(listemiz)\\nprint(listemiz)', '_i11': '#Positional argümanlar\\ndef topla(s1, s2):\\n    return s1 + s2\\n\\nprint(topla(10, 20))', 'topla': <function topla at 0x1063b0040>, '_i12': '#Default Arguments: Değer göndermemize gerek olmayan argümanlara denir\\ndef topla(s1, s2 = 0):\\n    return s1 + s2\\n\\nprint(topla(10, 20))\\nprint(topla(10))', '_i13': '#Keyword Kavramı: parametrenin anahtar kelimesine göre değer verilmesine ve gönderilmesini\\nprint(topla(s2 = 150, s1 = 100))', '_i14': '#Variable Length: Birden fazla argüman iletimine parametrenin başına * koyarız\\ndef topla(*sayilar):\\n    print(sayilar)\\n\\ntopla(2,3,4,5,6,7,88,)', '_i15': '#Variable Length: Birden fazla argüman iletimine parametrenin başına * koyarız\\ndef topla(*sayilar):\\n    print(sayilar)\\n\\ntopla(2,3,4,5,6,7,88,12)', '_i16': '#Variable Length: Birden fazla argüman iletimine parametrenin başına * koyarız ve birden fazla değer tutar bunları işler\\ndef topla(s1,s2,*sayilar):\\n    print(s1,s2,sayilar) #Tuple döner\\n\\ntopla(2,3,4,5,6,7,88,12)', '_i17': 'def topla(s1,s2,*sayilar):\\n    print(s1,s2,sayilar) #sayilar değeri tuple olarak döner kalanlar tuple dışında olur\\n    print(s1 + s2 + sayilar)\\ntopla(2,3,4,5,6,7,88,12)', '_i18': 'def topla(s1,s2,*sayilar):\\n    print(s1,s2,sayilar) #sayilar değeri tuple olarak döner kalanlar tuple dışında olur\\n    print(s1 + s2 + sum(sayilar))\\ntopla(2,3,4,5,6,7,88,12)', '_i19': '#*args ve *kwargs kavramları\\ndef(s1, s2, *args, **kwargs):\\n    print(s1, s2, args)\\n    print(kwargs)\\n\\ntopla(2,3,4,5,6,7,88,12, islem = \"+\")', '_i20': '#*args ve *kwargs kavramları\\ndef topla(s1, s2, *args, **kwargs):\\n    print(s1, s2, args)\\n    print(kwargs)\\n\\ntopla(2,3,4,5,6,7,88,12, islem = \"+\")', '_i21': '#*args ve *kwargs kavramları\\n#args ismi olmayan argümanlar burada depolanır\\n#kwargs ismi olan argümanlar burada depolanır\\ndef topla(s1, s2, *args, **kwargs):\\n    print(s1, s2, args)\\n    print(kwargs)\\n    if kwargs[\"islem\"] == \"+\":\\n        print(\"Toplama işlemidir\")\\n        print(topla(s1, s2, sum(args)))\\ntopla(2,3,4,5,6,7,88,12, islem = \"+\")', '_i22': '#*args ve *kwargs kavramları\\n#args ismi olmayan argümanlar burada depolanır\\n#kwargs ismi olan argümanlar burada depolanır\\ndef topla(s1, s2, *args, **kwargs):\\n    print(s1, s2, args)\\n    print(kwargs)\\n    if kwargs[\"islem\"] == \"+\":\\n        print(\"Toplama işlemidir\")\\n        print(topla(s1, s2, sum(args)))\\ntopla(2,3,4,5,6,7,88,12, islem = \"+\")', '_i23': '#*args ve *kwargs kavramları\\n#args ismi olmayan argümanlar burada depolanır\\n#kwargs ismi olan argümanlar burada depolanır\\ndef topla(s1, s2, *args, **kwargs):\\n    print(s1, s2, args)\\n    print(kwargs)\\n    if kwargs[\\'islem\\'] == \"+\":\\n        print(\"Toplama işlemidir\")\\n        print(topla(s1, s2, sum(args)))\\ntopla(2,3,4,5,6,7,88,12, islem = \"+\")', '_i24': '#*args ve *kwargs kavramları\\n#args ismi olmayan argümanlar burada depolanır\\n#kwargs ismi olan argümanlar burada depolanır\\ndef topla(s1, s2, *args, **kwargs):\\n    print(s1, s2, args)\\n    print(kwargs)\\n    if kwargs[\\'islem\\'] == \\'+\\':\\n        print(\"Toplama işlemidir\")\\n        print(topla(s1, s2, sum(args)))\\n    else:\\n        print(\"Bu işlem toplama dışında işlem yapamaz\")\\ntopla(2,3,4,5,6,7,88,12, islem = \"+\")', '_i25': '#*args ve *kwargs kavramları\\n#args ismi olmayan argümanlar burada depolanır\\n#kwargs ismi olan argümanlar burada depolanır\\ndef topla(s1, s2, *args, **kwargs):\\n    print(s1, s2, args)\\n    print(kwargs)\\n    if kwargs.get(\"islem\") == \\'+\\':\\n        print(\"Toplama işlemidir\")\\n        print(topla(s1, s2, sum(args)))\\n    else:\\n        print(\"Bu işlem toplama dışında işlem yapamaz\")\\ntopla(2,3,4,5,6,7,88,12, islem = \"+\")', '_i26': '#*args ve *kwargs kavramları\\n#args ismi olmayan argümanlar burada depolanır\\n#kwargs ismi olan argümanlar burada depolanır\\ndef topla(s1, s2, *args, **kwargs):\\n    print(s1, s2, args)\\n    print(kwargs)\\n    if kwargs.get(\"islem\") == \\'+\\':\\n        print(\"Toplama işlemidir\")\\n        print(topla(s1, s2, sum(args)))\\n    else:\\n        print(\"Bu işlem toplama dışında işlem yapamaz\")\\ntopla(2,3,4,5,6,7,88,12, islem = \"*\")', '_i27': '#*args ve *kwargs kavramları\\n#args ismi olmayan argümanlar burada depolanır\\n#kwargs ismi olan argümanlar burada depolanır\\ndef topla(s1, s2, *args, **kwargs):\\n    print(s1, s2, args)\\n    print(kwargs)\\n    if kwargs.get(\"islem\") == \\'+\\':\\n        print(\"Toplama işlemidir\")\\n        print(topla(s1, s2, sum(args)))\\n    else:\\n        print(\"Bu işlem toplama dışında işlem yapamaz\")\\ntopla(2,3,4,5,6,7,88,12, islem = \"*\")\\ntopla(2,3,4,6,75,4,324,12, islem = \"+\")', '_i28': '#*args ve *kwargs kavramları\\n#args ismi olmayan argümanlar burada depolanır tuple halinde depolanır\\n#kwargs ismi olan argümanlar burada depolanır sözlük halinde depolanır\\ndef topla(s1, s2, *args, **kwargs):\\n    print(s1, s2, args)\\n    print(kwargs)\\n    if kwargs.get(\"islem\") == \\'+\\':\\n        print(\"Toplama işlemidir\")\\n        print(s1 + s2 + sum(args))\\n    else:\\n        print(\"Bu işlem toplama dışında işlem yapamaz\")\\ntopla(2,3,4,5,6,7,88,12, islem = \"*\")\\ntopla(2,3,4,6,75,4,324,12, islem = \"+\")', '_i29': 'def hesapla(s1, s2, islem):\\n    if islem == \"+\":\\n        return s1 + s2\\n    elif islem == \"-\":\\n        return s1 - s2\\n    elif islem == \"*\":\\n        return s1 * s2\\n    elif islem == \"/\":\\n        return s1 / s2\\n    elif islem == \"%\":\\n        return s1 % s2\\n    else:\\n        return \"5 temel işlem dışında hesaplama yapılmamaktır\"\\n\\nprint(hesapla(74, 15, \"+\"))', 'hesapla': <function hesapla at 0x1063b2340>, '_i30': 'def hesapla(s1, s2, islem):\\n    if islem == \"+\":\\n        return s1 + s2\\n    elif islem == \"-\":\\n        return s1 - s2\\n    elif islem == \"*\":\\n        return s1 * s2\\n    elif islem == \"/\":\\n        return s1 / s2\\n    elif islem == \"%\":\\n        return s1 % s2\\n    else:\\n        return \"5 temel işlem dışında hesaplama yapılmamaktır\"\\n\\nprint(hesapla(74, 15, \"+\")) #Burada +\\'yı s1 veya s2 yerine ya da s2 değerini s1 değerini yazarsak değişebilir ya da hata verebilir\\nprint(hesapla(74, 15, \"-\"))\\nprint(hesapla(74, 15, \"*\"))\\nprint(hesapla(74, 15, \"/\"))\\nprint(hesapla(74, 15, \"%\"))', '_i31': 'def hesapla(s1, s2, islem):\\n    if islem == \"+\":\\n        return s1 + s2\\n    elif islem == \"-\":\\n        return s1 - s2\\n    elif islem == \"*\":\\n        return s1 * s2\\n    elif islem == \"/\":\\n        return s1 / s2\\n    elif islem == \"%\":\\n        return s1 % s2\\n    else:\\n        return \"5 temel işlem dışında hesaplama yapılmamaktır\"\\n\\nprint(hesapla(74, 15, \"+\")) #Burada +\\'yı s1 veya s2 yerine ya da s2 değerini s1 değerini yazarsak değişebilir ya da hata verebilir\\nprint(hesapla(74, 15, \"-\"))\\nprint(hesapla(74, 15, \"*\"))\\nprint(hesapla(74, 15, \"/\"))\\nprint(hesapla(74, 15, \"%\"))\\nprint(hesapla(74, 15, \"a\"))', '_i32': '#Single entry, single exit (Tek girdi, tek çıktı)\\ndef hesapla(s1, s2, islem):\\n    sonuc = None\\n    if islem == \"+\":\\n        sonuc = s1 + s2\\n    elif islem == \"-\":\\n        sonuc = s1 - s2\\n    elif islem == \"*\":\\n        sonuc = s1 * s2\\n    elif islem == \"/\":\\n        sonuc = s1 / s2\\n    elif islem == \"%\":\\n        sonuc = s1 % s2\\n    else:\\n        sonuc = \"5 temel işlem dışında hesaplama yapılmamaktır\"\\n    return sonuc\\n\\nprint(hesapla(74, 15, \"+\")) #Burada +\\'yı s1 veya s2 yerine ya da s2 değerini s1 değerini yazarsak değişebilir ya da hata verebilir\\nprint(hesapla(74, 15, \"-\"))\\nprint(hesapla(74, 15, \"*\"))\\nprint(hesapla(74, 15, \"/\"))\\nprint(hesapla(74, 15, \"%\"))\\nprint(hesapla(74, 15, \"a\"))', '_i33': 'def hesapla(s1, s2, islem):\\n    if islem == \"+\":\\n        return s1 + s2\\n    elif islem == \"-\":\\n        return s1 - s2\\n    elif islem == \"*\":\\n        return s1 * s2\\n    elif islem == \"/\":\\n        return s1 / s2\\n    elif islem == \"%\":\\n        return s1 % s2\\n    else:\\n        return \"5 temel işlem dışında hesaplama yapılmamaktır\"\\n\\nprint(hesapla(74, 15, \"+\")) #Burada +\\'yı s1 veya s2 yerine ya da s2 değerini s1 değerini yazarsak değişebilir ya da hata verebilir\\nprint(hesapla(74, 15, \"-\"))\\nprint(hesapla(74, 15, \"*\"))\\nprint(hesapla(74, 15, \"/\"))\\nprint(hesapla(74, 15, \"%\"))\\nprint(hesapla(74, 15, \"a\"))', '_i34': '#Single entry, single exit (Tek girdi, tek çıktı)\\ndef hesapla(s1, s2, islem):\\n    sonuc = None\\n    if islem == \"+\":\\n        sonuc = s1 + s2\\n    elif islem == \"-\":\\n        sonuc = s1 - s2\\n    elif islem == \"*\":\\n        sonuc = s1 * s2\\n    elif islem == \"/\":\\n        sonuc = s1 / s2\\n    elif islem == \"%\":\\n        sonuc = s1 % s2\\n    else:\\n        sonuc = \"5 temel işlem dışında hesaplama yapılmamaktır\"\\n    return sonuc\\n\\nprint(hesapla(74, 15, \"+\")) #Burada +\\'yı s1 veya s2 yerine ya da s2 değerini s1 değerini yazarsak değişebilir ya da hata verebilir\\nprint(hesapla(74, 15, \"-\"))\\nprint(hesapla(74, 15, \"*\"))\\nprint(hesapla(74, 15, \"/\"))\\nprint(hesapla(74, 15, \"%\"))\\nprint(hesapla(74, 15, \"a\"))', '_i35': 'def ogrenciBilgiSoyle(isim, numara, adres, sube):\\n    print(\"İsmi :\",isim)\\n    print(\"Numara :\",numara)\\n    print(\"Adres :\",adres)\\n    print(\"Sube :\",sube)\\n\\nogrenciBilgiSoyle(\"Melih\", 47,\"Bolu/Merkez\", \\'A\\')', 'ogrenciBilgiSoyle': <function ogrenciBilgiSoyle at 0x1063b04a0>, '_i36': 'def ogrenciBilgiSoyle(isim, numara, adres = \"\", sube = \"\"):\\n    print(\"İsmi :\",isim)\\n    print(\"Numara :\",numara)\\n    if adres != \"\":\\n        print(\"Adres :\",adres)\\n    if sube != \"\":\\n        print(\"Sube :\",sube)\\n\\nogrenciBilgiSoyle(\"Melih\", 47,\"Bolu/Merkez\", \\'A\\')\\nogrenciBilgiSoyle(\"Melih\", 47)\\nogrenciBilgiSoyle(\"Melih\", 198, sube = \"E\")', '_i37': 'def ogrenciBilgiSoyle(isim, numara, adres = \"\", sube = \"\"):\\n    print(\"İsmi :\",isim)\\n    print(\"Numara :\",numara)\\n    if adres != \"\":\\n        print(\"Adres :\",adres)\\n    if sube != \"\":\\n        print(\"Sube :\",sube)\\n\\n#ogrenciBilgiSoyle(\"Melih\", 47,\"Bolu/Merkez\", \\'A\\')\\nogrenciBilgiSoyle(\"Melih\", 47)\\nogrenciBilgiSoyle(\"Melih\", 198, sube = \"E\")', '_i38': 'def ogrenciBilgiSoyle(isim, numara, adres = \"\", sube = \"\"):\\n    print(\"İsmi :\",isim)\\n    print(\"Numara :\",numara)\\n    if adres != \"\":\\n        print(\"Adres :\",adres)\\n    if sube != \"\":\\n        print(\"Sube :\",sube)\\n\\n#ogrenciBilgiSoyle(\"Melih\", 47,\"Bolu/Merkez\", \\'A\\')\\nogrenciBilgiSoyle(\"Melih\", 47, \"E\")\\nogrenciBilgiSoyle(\"Melih\", 198, sube = \"E\") #Keyword şeklinde verirsek adres kısmına gitmez', '_i39': 'def ogrenciBilgiSoyle(isim, numara, adres = \"\", sube = \"\"):\\n    print(\"İsmi :\",isim)\\n    print(\"Numara :\",numara)\\n    if adres != \"\":\\n        print(\"Adres :\",adres)\\n    if sube != \"\":\\n        print(\"Sube :\",sube)\\n\\n#ogrenciBilgiSoyle(\"Melih\", 47,\"Bolu/Merkez\", \\'A\\')\\nogrenciBilgiSoyle(\"Melih\", 47, \"E\")\\nogrenciBilgiSoyle(\"Melih\", 198, sube = \"E\") #Keyword şeklinde verirsek adres kısmına gitmez çünkü sıralıdır argümanlar\\nogrenciBilgiSoyle(isim = \"Melih\", numara = \"5\", adres = \"Çanakkale\" ,sube = \"E\")', '_i40': 'def ogrenciBilgiSoyle(isim, numara, adres = \"\", sube = \"\"):\\n    print(\"İsmi :\",isim)\\n    print(\"Numara :\",numara)\\n    if adres != \"\":\\n        print(\"Adres :\",adres)\\n    if sube != \"\":\\n        print(\"Sube :\",sube)\\n\\n#ogrenciBilgiSoyle(\"Melih\", 47,\"Bolu/Merkez\", \\'A\\')\\nogrenciBilgiSoyle(\"Melih\", 47, \"E\") #Sıralı şekilde vermen gerek\\nogrenciBilgiSoyle(\"Melih\", 198, sube = \"E\") #Keyword şeklinde verirsek adres kısmına gitmez çünkü sıralıdır argümanlar\\nogrenciBilgiSoyle(isim = \"Melih\", numara = \"5\", adres = \"Çanakkale\" ,sube = \"E\") #Keyword vererek yapınca sıralamaya gerek yok\\n#ogrenciBilgiSoyle(sube = \"E\", adres = \"Çanakkale\", \"Melih\", 123) #Hata alırsın çünkü burada takip edemem der yani varsayılmayanlar varsayılanı takip edemez varsayılanlar en sonda olmalı', '_i41': 'def bilgileriGoster(*args, **kwargs):\\n    print(args)\\n    print(kwargs)\\n\\nbilgileriGoster(\"Fatih\", \"Kaan\", \"Aysel\",\\n                fatih = 26, kaan = 29, aysel = 30)', 'bilgileriGoster': <function bilgileriGoster at 0x10649d440>, '_i42': 'def bilgileriGoster(*args, **kwargs):\\n    print(args)\\n    print(kwargs)\\n\\nbilgileriGoster(\"Fatih\", \"Kaan\", \"Aysel\", #*args tuple\\n                fatih = 26, kaan = 29, aysel = 30) #**kwargs sözlük\\n#yıldızları değerler gibi düşün misal bir yıldız olunca bir değeri alıyor iki yıldız olunca hem anahtarını hem değerini alıyor', '_i43': 'def bilgileriGoster(isim, fatih, *args, **kwargs):\\n    print(args)\\n    print(kwargs)\\n\\nbilgileriGoster(\"Fatih\", \"Kaan\", \"Aysel\", #*args tuple\\n                fatih = 26, kaan = 29, aysel = 30) #**kwargs sözlük\\n#yıldızları değerler gibi düşün misal bir yıldız olunca bir değeri alıyor iki yıldız olunca hem anahtarını hem değerini alıyor', '_i44': 'def bilgileriGoster(isim, fatih, *args, **kwargs):\\n    print(args)\\n    print(kwargs)\\n\\nbilgileriGoster(\"Fatih\", \"Kaan\", \"Aysel\",\\n                fatih = 26, kaan = 29, aysel = 30)  #fatih yüzünden type error alır ve fatih argüman birden fazla değer alır ama şöyle yaparsak\\n\\nbilgileriGoster(\"Fatih\",fatih = 26,\\n                kaan = 29, aysel = 30)', '_i45': 'def bilgileriGoster(isim, fatih, *args, **kwargs):\\n    print(args)\\n    print(kwargs)\\n\\n#bilgileriGoster(\"Fatih\", \"Kaan\", \"Aysel\",\\n#                fatih = 26, kaan = 29, aysel = 30)  #fatih yüzünden type error alır ve fatih argüman birden fazla değer alır ama şöyle yaparsak\\n\\nbilgileriGoster(\"Fatih\",fatih = 26,\\n                kaan = 29, aysel = 30)', '_i46': 'def bilgileriGoster(isim, fatih, *args, **kwargs):\\n    print(args)\\n    print(kwargs)\\n\\n#bilgileriGoster(\"Fatih\", \"Kaan\", \"Aysel\",\\n#                fatih = 26, kaan = 29, aysel = 30)  #fatih yüzünden type error alır ve fatih argüman birden fazla değer alır ama şöyle yaparsak\\n\\nbilgileriGoster(\"Fatih\",\"Kaan\",fatih = 26,\\n                kaan = 29, aysel = 30)', '_i47': 'def bilgileriGoster(isim, fatih, *args, **kwargs):\\n    print(args)\\n    print(kwargs)\\n\\n#bilgileriGoster(\"Fatih\", \"Kaan\", \"Aysel\",\\n#                fatih = 26, kaan = 29, aysel = 30)  #fatih yüzünden type error alır ve fatih argüman birden fazla değer alır ama şöyle yaparsak\\n\\nbilgileriGoster(\"Fatih\",fatih = 26,\\n                kaan = 29, aysel = 30)', '_i48': 'def bilgileriGoster(isim, fatih, *args, **kwargs):\\n    print(\"Positional Argument:\",isim)\\n    print(\"Positional Argument:\",fatih)\\n    print(args)\\n    print(kwargs)\\n\\n#bilgileriGoster(\"Fatih\", \"Kaan\", \"Aysel\",\\n#                fatih = 26, kaan = 29, aysel = 30)  #fatih yüzünden type error alır ve fatih argüman birden fazla değer alır ama şöyle yaparsak\\n\\nbilgileriGoster(\"Fatih\",fatih = 26,\\n                kaan = 29, aysel = 30)', '_i49': 'def bilgileriGoster(isim, fatih, *args, **kwargs):\\n    print(\"Positional Argument:\",isim)\\n    print(\"Positional Argument:\",fatih)\\n    print(args)\\n    print(kwargs)\\n\\n#bilgileriGoster(\"Fatih\", \"Kaan\", \"Aysel\",\\n#                fatih = 26, kaan = 29, aysel = 30)  #fatih yüzünden type error alır ve fatih argüman birden fazla değer alır ama şöyle yaparsak\\n\\nbilgileriGoster(\"Fatih\",fatih = 26,\\n                kaan = 29, aysel = 30)\\n\\nbilgileriGoster(\"Fatih\", 26, \"Kaan\", \"Aysel\",\\n                kaan = 29, aysel = 30)', '_i50': 'def bilgileriGoster(isim, fatih = \"\", *args, **kwargs):\\n    print(\"Positional Argument:\",isim)\\n    print(\"Positional Argument:\",fatih)\\n    print(args)\\n    print(kwargs)\\n\\n#bilgileriGoster(\"Fatih\", \"Kaan\", \"Aysel\",\\n#                fatih = 26, kaan = 29, aysel = 30)  #fatih yüzünden type error alır ve fatih argüman birden fazla değer alır ama şöyle yaparsak\\n\\nbilgileriGoster(\"Fatih\",fatih = 26,\\n                kaan = 29, aysel = 30)\\n\\nbilgileriGoster(\"Fatih\", 26, \"Kaan\", \"Aysel\",\\n                kaan = 29, aysel = 30)', '_i51': 'def bilgileriGoster(isim, fatih = \"\", *args, **kwargs):\\n    print(\"Positional Argument:\",isim)\\n    print(\"Positional Argument:\",fatih)\\n    print(args)\\n    print(kwargs)\\n\\n#bilgileriGoster(\"Fatih\", \"Kaan\", \"Aysel\",\\n#                fatih = 26, kaan = 29, aysel = 30)  #fatih yüzünden type error alır ve fatih argüman birden fazla değer alır ama şöyle yaparsak\\n\\nbilgileriGoster(\"Fatih\",fatih = 26,\\n                kaan = 29, aysel = 30)\\n\\nbilgileriGoster(\"Fatih\", 26, \"Kaan\", \"Aysel\",\\n                kaan = 29, aysel = 30)\\nbilgileriGoster(\"Fatih\", \"Kaan\", \"Aysel\",\\n                kaan = 29, aysel = 30)', '_i52': 'def bilgileriGoster(isim, fatih = \"\", *args, **kwargs):\\n    print(\"Positional Argument:\",isim)\\n    print(\"Positional Argument:\",fatih)\\n    print(args)\\n    print(kwargs)\\n\\n#bilgileriGoster(\"Fatih\", \"Kaan\", \"Aysel\",\\n#                fatih = 26, kaan = 29, aysel = 30)  #fatih yüzünden type error alır ve fatih argüman birden fazla değer alır ama şöyle yaparsak\\n\\nbilgileriGoster(\"Fatih\",fatih = 26,\\n                kaan = 29, aysel = 30)\\n\\nbilgileriGoster(\"Fatih\", 26, \"Kaan\", \"Aysel\",\\n                kaan = 29, aysel = 30)\\nbilgileriGoster(\"Fatih\"\\n                kaan = 29, aysel = 30)', '_i53': 'def bilgileriGoster(isim, fatih = \"\", *args, **kwargs):\\n    print(\"Positional Argument:\",isim)\\n    print(\"Positional Argument:\",fatih)\\n    print(args)\\n    print(kwargs)\\n\\n#bilgileriGoster(\"Fatih\", \"Kaan\", \"Aysel\",\\n#                fatih = 26, kaan = 29, aysel = 30)  #fatih yüzünden type error alır ve fatih argüman birden fazla değer alır ama şöyle yaparsak\\n\\nbilgileriGoster(\"Fatih\",fatih = 26,\\n                kaan = 29, aysel = 30)\\n\\nbilgileriGoster(\"Fatih\", 26, \"Kaan\", \"Aysel\",\\n                kaan = 29, aysel = 30)\\nbilgileriGoster(\"Fatih\",\\n                kaan = 29, aysel = 30)', '_i54': 'def bilgileriGoster(isim, *args, fatih = \"\", **kwargs):\\n    print(\"Positional Argument:\",isim)\\n    print(\"Positional Argument:\",fatih)\\n    print(args)\\n    print(kwargs)\\n\\nprint(\"Fatih\",\"Kaan\",\"Aysel\",\\n      fatih = 26, kaan = 29, aysel = 30)', '_i55': 'def bilgileriGoster(isim, *args, fatih = \"\", **kwargs):\\n    print(\"Positional Argument:\",isim)\\n    print(\"Positional Argument:\",fatih)\\n    print(args)\\n    print(kwargs)\\n\\nprint(\"Fatih\", 26 ,\"Kaan\",\"Aysel\",\\n      fatih = 26, kaan = 29, aysel = 30)', '_i56': 'def bilgileriGoster(isim, *args, fatih = \"\", **kwargs):\\n    print(\"Positional Argument:\",isim)\\n    print(\"Positional Argument:\",fatih)\\n    print(args)\\n    print(kwargs)\\n\\nbilgileriGoster(\"Fatih\", 26 ,\"Kaan\",\"Aysel\",\\n      fatih = 26, kaan = 29, aysel = 30)', '_i57': 'def bilgileriGoster(isim, *args, fatih = \"\", **kwargs):\\n    print(\"Positional Argument:\",isim)\\n    print(\"Positional Argument:\",fatih)\\n    print(args)\\n    print(kwargs)\\n\\nbilgileriGoster(\"Fatih\",\"Kaan\",\"Aysel\",\\n      fatih = 26, kaan = 29, aysel = 30)', '_i58': 'def bilgileriGoster(isim, *args, fatih = \"\", **kwargs):\\n    print(\"Positional Argument:\",isim)\\n    print(\"Positional Argument:\",fatih)\\n    print(args)\\n    print(kwargs)\\n\\nbilgileriGoster(\"Fatih\",\"Kaan\",\"Aysel\",\\n      fatih = 26, kaan = 29, aysel = 30)', '_i59': '#Ornek-1\\n#Sınırsız sayıda değer alır ve karekökünü alır\\nfrom math import sqrt\\ndef karekokHesapla(*args):\\n    for sayi in args:\\n        print(sqrt(sayi))\\n\\nkarekokHesapla(1,2,3,4,5)', 'sqrt': <built-in function sqrt>, 'karekokHesapla': <function karekokHesapla at 0x10642f9c0>, '_i60': '#Ornek-1\\n#Sınırsız sayıda değer alır ve karekökünü alır\\nfrom math import sqrt\\ndef karekokHesapla(*args):\\n    for sayi in args:\\n        print(sqrt(sayi))\\n        print(round(sqrt(sayi)))\\nkarekokHesapla(1,2,3,4,5)', '_i61': '#Ornek-1\\n#Sınırsız sayıda değer alır ve karekökünü alır\\nfrom math import sqrt\\ndef karekokHesapla(*args):\\n    for sayi in args:\\n        print(sqrt(sayi))\\n        print(round(sqrt(sayi), 4)) \\nkarekokHesapla(1,2,3,4,5)', '_i62': \"#Ornek-1\\n#Sınırsız sayıda değer alır ve karekökünü alır\\nfrom math import sqrt\\ndef karekokHesapla(*args):\\n    liste = []\\n    for sayi in args:\\n        #print(sqrt(sayi))\\n        print(round(sqrt(sayi), 4)) #,'den sonra eklediğimiz sayıya göre , sağını o kadar açar\\n    return liste\\nkarekokHesapla(5, 7, 9, 16, 25, 34)\", '_62': [], '_i63': \"#Ornek-1\\n#Sınırsız sayıda değer alır ve karekökünü alır\\nfrom math import sqrt\\ndef karekokHesapla(*args):\\n    liste = []\\n    for sayi in args:\\n        #print(sqrt(sayi))\\n        liste((round(sqrt(sayi), 4))) #,'den sonra eklediğimiz sayıya göre , sağını o kadar açar\\n    return liste\\nkarekokHesapla(5, 7, 9, 16, 25, 34)\", '_i64': \"#Ornek-1\\n#Sınırsız sayıda değer alır ve karekökünü alır\\nfrom math import sqrt\\ndef karekokHesapla(*args):\\n    liste = []\\n    for sayi in args:\\n        #print(sqrt(sayi))\\n        liste.append((round(sqrt(sayi), 4))) #,'den sonra eklediğimiz sayıya göre , sağını o kadar açar\\n    return liste\\nkarekokHesapla(5, 7, 9, 16, 25, 34)\", '_64': [2.2361, 2.6458, 3.0, 4.0, 5.0, 5.831], '_i65': 'sayi = 10\\n\\ndef func1():\\n    sayi2 = 20\\n\\nprint(sayi2)', 'sayi': 20, 'func1': <function func1 at 0x10642da80>, '_i66': 'sayi = 10\\n\\ndef func1():\\n    sayi2 = 20\\n\\nprint(sayi2)', '_i67': 'sayi = 10\\ndef func2():\\n    print(sayi)', 'func2': <function func2 at 0x10649d620>, '_i68': 'sayi = 10\\ndef func2():\\n    print(sayi)\\n\\nfunc2()', '_i69': 'sayi = 10\\ndef func2():\\n    sayi = 20\\n    print(\"Local sayi:\",sayi,\"Adres:\",id(sayi)\\n\\nprint(\"GLobal sayi:\",sayi,\"Adres:\",id(sayi)\\nfunc2()', '_i70': 'sayi = 10\\ndef func2():\\n    sayi = 20\\n    print(\"Local sayi:\",sayi,\"Adres:\",id(sayi))\\n\\nprint(\"GLobal sayi:\",sayi,\"Adres:\",id(sayi))\\nfunc2()', '_i71': 'sayi = 10 #global\\ndef func2():\\n    global sayi\\n    sayi = 20\\n    print(\"Local sayi:\",sayi,\"Adres:\",id(sayi))\\n\\nprint(\"GLobal sayi:\",sayi,\"Adres:\",id(sayi))\\nfunc2()', '_i72': 'sayi = 10 #global\\ndef func2():\\n    sayi = 20 #Lokal\\n    print(\"Local sayi:\",sayi,\"Adres:\",id(sayi))\\n\\nprint(\"GLobal sayi:\",sayi,\"Adres:\",id(sayi))\\nfunc2()\\nprint(\"GLobal sayi:\",sayi,\"Adres:\",id(sayi))', '_i73': 'sayi = 10 #global\\ndef func2():\\n    global sayi\\n    sayi = 20\\n    print(\"Local sayi:\",sayi,\"Adres:\",id(sayi))\\n\\nprint(\"GLobal sayi:\",sayi,\"Adres:\",id(sayi))\\nfunc2()\\nprint(\"GLobal sayi:\",sayi,\"Adres:\",id(sayi))', '_i74': 'if True:\\n    y = 50\\nprint(y)', 'y': 50, '_i75': '#Şartlı değişkenlerdeki değişkenleri kullanabilirsin\\nif True:\\n    y = 50\\nprint(y)\\n\\nwhile True:\\n    z = 100\\n    break\\nprint(z)', 'z': 100, '_i76': 'print(globals())', '_i77': 'ay = \"fat\"\\nprint(globals()) #global değişkenlerin hepsini gösterir misal z ve y yapmıştık onlarda dahil', 'ay': 'fat', '_i78': 'ay = \"fat\"\\nprint(globals()) #global değişkenlerin hepsini gösterir misal z ve y yapmıştık onlarda dahil\\n#istersek istediğimiz değişkenin değerini burdan bulabiliriz\\nprint(globals()[\"ay\"])\\nprint(globals()[\"y\"])\\nprint(globals()[\"z\"])'}\n",
      "fat\n",
      "50\n",
      "100\n"
     ]
    }
   ],
   "execution_count": 78
  },
  {
   "metadata": {},
   "cell_type": "markdown",
   "source": "Recursive ve Iterative Fonksiyonlar",
   "id": "2ee0190a70ca115c"
  },
  {
   "metadata": {
    "ExecuteTime": {
     "end_time": "2025-07-26T10:36:29.951202Z",
     "start_time": "2025-07-26T10:36:29.947766Z"
    }
   },
   "cell_type": "code",
   "source": [
    "#Iterative Fonksiyon\n",
    "def iterFunc():\n",
    "    for i in range(1, 21):\n",
    "        print(i)\n",
    "iterFunc()"
   ],
   "id": "dfe5b69cb84451e0",
   "outputs": [
    {
     "name": "stdout",
     "output_type": "stream",
     "text": [
      "1\n",
      "2\n",
      "3\n",
      "4\n",
      "5\n",
      "6\n",
      "7\n",
      "8\n",
      "9\n",
      "10\n",
      "11\n",
      "12\n",
      "13\n",
      "14\n",
      "15\n",
      "16\n",
      "17\n",
      "18\n",
      "19\n",
      "20\n"
     ]
    }
   ],
   "execution_count": 82
  },
  {
   "metadata": {
    "ExecuteTime": {
     "end_time": "2025-07-26T10:38:01.440433Z",
     "start_time": "2025-07-26T10:38:01.437248Z"
    }
   },
   "cell_type": "code",
   "source": [
    "#Recursive Fonksiyon\n",
    "def recFunc(sayi):\n",
    "    if sayi == 21:\n",
    "        return None\n",
    "    print(sayi)\n",
    "    recFunc(sayi + 1)\n",
    "\n",
    "recFunc(0)"
   ],
   "id": "f7128dcd2e51ea08",
   "outputs": [
    {
     "name": "stdout",
     "output_type": "stream",
     "text": [
      "0\n",
      "1\n",
      "2\n",
      "3\n",
      "4\n",
      "5\n",
      "6\n",
      "7\n",
      "8\n",
      "9\n",
      "10\n",
      "11\n",
      "12\n",
      "13\n",
      "14\n",
      "15\n",
      "16\n",
      "17\n",
      "18\n",
      "19\n",
      "20\n"
     ]
    }
   ],
   "execution_count": 87
  },
  {
   "metadata": {
    "ExecuteTime": {
     "end_time": "2025-07-26T10:41:57.591222Z",
     "start_time": "2025-07-26T10:41:57.588364Z"
    }
   },
   "cell_type": "code",
   "source": [
    "#Ornek-1 İteratif\n",
    "\n",
    "def iterFact(n):\n",
    "    sonuc = None\n",
    "    if type(n) == int and n > 0:\n",
    "        sonuc = 1\n",
    "        for i in range(2, n+1):\n",
    "            sonuc *= i\n",
    "    else:\n",
    "        return \"Değeriniz pozitif tam sayı değil bundan dolayı işlem olmaz\"\n",
    "    return sonuc\n",
    "print(iterFact(5))\n",
    "print(iterFact(-1))\n",
    "print(iterFact(2.56))"
   ],
   "id": "31390f558a4b3efc",
   "outputs": [
    {
     "name": "stdout",
     "output_type": "stream",
     "text": [
      "120\n",
      "Değeriniz pozitif tam sayı değil bundan dolayı işlem olmaz\n",
      "Değeriniz pozitif tam sayı değil bundan dolayı işlem olmaz\n"
     ]
    }
   ],
   "execution_count": 97
  },
  {
   "metadata": {
    "ExecuteTime": {
     "end_time": "2025-07-26T10:44:25.387591Z",
     "start_time": "2025-07-26T10:44:25.384264Z"
    }
   },
   "cell_type": "code",
   "source": [
    "#Ornek-1 Rekürsif\n",
    "\n",
    "def recFact(n):\n",
    "    if type(n) == int and n >= 0:\n",
    "        if n == 0:\n",
    "            return 1\n",
    "        else:\n",
    "            return n * recFact(n - 1)\n",
    "    else:\n",
    "        return \"Değeriniz pozitif tam sayı değil bundan dolayı işlem olmaz\"\n",
    "\n",
    "print(recFact(5))\n",
    "print(iterFact(-1))\n",
    "print(iterFact(2.56))"
   ],
   "id": "dbf88aff6f202cfe",
   "outputs": [
    {
     "name": "stdout",
     "output_type": "stream",
     "text": [
      "120\n",
      "Değeriniz pozitif tam sayı değil bundan dolayı işlem olmaz\n",
      "Değeriniz pozitif tam sayı değil bundan dolayı işlem olmaz\n"
     ]
    }
   ],
   "execution_count": 102
  },
  {
   "metadata": {},
   "cell_type": "markdown",
   "source": "Lambda Anonymous Function (İsimleri olmayan fonksiyonlar)",
   "id": "3cc55932787946e1"
  },
  {
   "metadata": {
    "ExecuteTime": {
     "end_time": "2025-07-26T11:45:55.631953Z",
     "start_time": "2025-07-26T11:45:55.628904Z"
    }
   },
   "cell_type": "code",
   "source": [
    "def kareAl(sayi):\n",
    "    return sayi * sayi\n",
    "\n",
    "print(type(kareAl))\n",
    "print(kareAl(5))"
   ],
   "id": "f757894a82e892de",
   "outputs": [
    {
     "name": "stdout",
     "output_type": "stream",
     "text": [
      "<class 'function'>\n",
      "25\n"
     ]
    }
   ],
   "execution_count": 103
  },
  {
   "metadata": {
    "ExecuteTime": {
     "end_time": "2025-07-26T11:46:40.992061Z",
     "start_time": "2025-07-26T11:46:40.989556Z"
    }
   },
   "cell_type": "code",
   "source": [
    "lambdaKareAl = lambda sayi: sayi * sayi #lambda ürün: (return)ürün * ürün\n",
    "print(type(lambdaKareAl))\n",
    "print(lambdaKareAl(5))"
   ],
   "id": "d096cac27b5c585c",
   "outputs": [
    {
     "name": "stdout",
     "output_type": "stream",
     "text": [
      "<class 'function'>\n",
      "25\n"
     ]
    }
   ],
   "execution_count": 105
  },
  {
   "metadata": {
    "ExecuteTime": {
     "end_time": "2025-07-26T11:47:27.646359Z",
     "start_time": "2025-07-26T11:47:27.643565Z"
    }
   },
   "cell_type": "code",
   "source": [
    "lambdaTopla = lambda sayi1, sayi2: sayi1 + sayi2\n",
    "print(lambdaTopla(5, 7))"
   ],
   "id": "b7f143f5958962a3",
   "outputs": [
    {
     "name": "stdout",
     "output_type": "stream",
     "text": [
      "12\n"
     ]
    }
   ],
   "execution_count": 106
  },
  {
   "metadata": {
    "ExecuteTime": {
     "end_time": "2025-07-26T11:47:58.073994Z",
     "start_time": "2025-07-26T11:47:58.071381Z"
    }
   },
   "cell_type": "code",
   "source": [
    "fullName = lambda name, surname: name + \" \" + surname\n",
    "print(fullName(\"Melih\", \"Aysel\"))"
   ],
   "id": "dbbb10e4bd8bf5da",
   "outputs": [
    {
     "name": "stdout",
     "output_type": "stream",
     "text": [
      "Melih Aysel\n"
     ]
    }
   ],
   "execution_count": 107
  },
  {
   "metadata": {
    "ExecuteTime": {
     "end_time": "2025-07-26T11:48:48.797681Z",
     "start_time": "2025-07-26T11:48:48.795013Z"
    }
   },
   "cell_type": "code",
   "source": [
    "kareAlFonk = kareAl #İstersek bu şekilde fonksiyonu başka değere atayıp çağırabiliriz\n",
    "print(kareAlFonk(15))"
   ],
   "id": "5579ae450d77ba79",
   "outputs": [
    {
     "name": "stdout",
     "output_type": "stream",
     "text": [
      "225\n"
     ]
    }
   ],
   "execution_count": 108
  },
  {
   "metadata": {
    "ExecuteTime": {
     "end_time": "2025-07-26T11:49:57.770116Z",
     "start_time": "2025-07-26T11:49:57.767732Z"
    }
   },
   "cell_type": "code",
   "source": [
    "#Ornek-1 Lambda\n",
    "kupAl = lambda sayi: sayi * sayi *sayi\n",
    "kupAl2 = lambda s: s**3\n",
    "print(kupAl(5))\n",
    "print(kupAl2(5))"
   ],
   "id": "b2357ab00f364a27",
   "outputs": [
    {
     "name": "stdout",
     "output_type": "stream",
     "text": [
      "125\n",
      "125\n"
     ]
    }
   ],
   "execution_count": 110
  },
  {
   "metadata": {
    "ExecuteTime": {
     "end_time": "2025-07-26T11:50:32.309126Z",
     "start_time": "2025-07-26T11:50:32.306295Z"
    }
   },
   "cell_type": "code",
   "source": [
    "#Ornek-2 Lambda\n",
    "tersYaz = lambda string: string[::-1]\n",
    "print(tersYaz(\"Araba\"))"
   ],
   "id": "3ef42b552206fc1c",
   "outputs": [
    {
     "name": "stdout",
     "output_type": "stream",
     "text": [
      "abarA\n"
     ]
    }
   ],
   "execution_count": 113
  },
  {
   "metadata": {},
   "cell_type": "markdown",
   "source": [
    "Özel Fonksiyonlar:\n",
    "\n",
    "filter()\n",
    "\n",
    "map()\n",
    "\n",
    "reduce()\n",
    "\n",
    "zip()\n",
    "\n",
    "enumerate()\n",
    "\n",
    "all()\n",
    "\n",
    "any()"
   ],
   "id": "377af9a5962a333c"
  },
  {
   "metadata": {},
   "cell_type": "markdown",
   "source": "filter() Örnekleri",
   "id": "8dd5fcc3a0f40f75"
  },
  {
   "metadata": {
    "ExecuteTime": {
     "end_time": "2025-07-26T12:35:28.378151Z",
     "start_time": "2025-07-26T12:35:28.374907Z"
    }
   },
   "cell_type": "code",
   "source": [
    "#Ornek-1\n",
    "sayilar = [3, 2, 5, 6, -7, 14, 4, -5, -6, -5, -3, 11, 110, -15]\n",
    "\n",
    "def poztifMi(s):\n",
    "    return s > 0\n",
    "\n",
    "for sayi in sayilar:\n",
    "    if sayi > 0:\n",
    "        print(sayi)\n",
    "\n",
    "print(poztifMi(5))\n",
    "print(poztifMi(2))"
   ],
   "id": "8e3214212244c465",
   "outputs": [
    {
     "name": "stdout",
     "output_type": "stream",
     "text": [
      "3\n",
      "2\n",
      "5\n",
      "6\n",
      "14\n",
      "4\n",
      "11\n",
      "110\n",
      "True\n",
      "True\n"
     ]
    }
   ],
   "execution_count": 126
  },
  {
   "metadata": {
    "ExecuteTime": {
     "end_time": "2025-07-26T12:35:59.313228Z",
     "start_time": "2025-07-26T12:35:59.310012Z"
    }
   },
   "cell_type": "code",
   "source": [
    "pozitifSayilar = list(filter(poztifMi, sayilar))\n",
    "pozitifSayilar2 = list(filter(lambda x : x > 0, sayilar))\n",
    "negatifSayilar = list(filter(lambda x : x < 0, sayilar))\n",
    "negatifSayilar2 = [sayi for sayi in sayilar if sayi not in pozitifSayilar2] #İstersek bu şekilde\n",
    "print(pozitifSayilar)\n",
    "print(pozitifSayilar2)\n",
    "print(negatifSayilar)\n",
    "print(negatifSayilar2)"
   ],
   "id": "5eb24491f6a2ba34",
   "outputs": [
    {
     "name": "stdout",
     "output_type": "stream",
     "text": [
      "[3, 2, 5, 6, 14, 4, 11, 110]\n",
      "[3, 2, 5, 6, 14, 4, 11, 110]\n",
      "[-7, -5, -6, -5, -3, -15]\n",
      "[-7, -5, -6, -5, -3, -15]\n"
     ]
    }
   ],
   "execution_count": 128
  },
  {
   "metadata": {
    "ExecuteTime": {
     "end_time": "2025-07-26T12:39:39.520003Z",
     "start_time": "2025-07-26T12:39:39.515657Z"
    }
   },
   "cell_type": "code",
   "source": [
    "#Ornek-2\n",
    "sayilar = [3, 2, 5, 6, -7, 14, 4, -5, -6, -5, -3, 11, 110, -15]\n",
    "\n",
    "ciftSayilar = list(filter(lambda s : s % 2 == 0, sayilar))\n",
    "print(ciftSayilar)\n",
    "tekSayilar = list(filter(lambda s : s % 2 != 0, sayilar))\n",
    "print(tekSayilar)\n",
    "\n",
    "def ciftMi(s):\n",
    "    return s % 2 == 0\n",
    "def tekMi(s):\n",
    "    return s % 2 == 1\n",
    "\n",
    "ciftSayilar2 = list(filter(ciftMi, ciftSayilar))\n",
    "print(ciftSayilar2)\n",
    "tekSayilar = list(filter(tekMi, tekSayilar))\n",
    "print(tekSayilar)\n",
    "\n",
    "ciftSayilar3 = [sayi for sayi in ciftSayilar if sayi not in tekSayilar]\n",
    "print(ciftSayilar3)\n",
    "tekSayilar3 = [sayi for sayi in tekSayilar if sayi not in ciftSayilar]\n",
    "print(tekSayilar3)"
   ],
   "id": "18f85f47f7fb6fa8",
   "outputs": [
    {
     "name": "stdout",
     "output_type": "stream",
     "text": [
      "[2, 6, 14, 4, -6, 110]\n",
      "[3, 5, -7, -5, -5, -3, 11, -15]\n",
      "[2, 6, 14, 4, -6, 110]\n",
      "[3, 5, -7, -5, -5, -3, 11, -15]\n",
      "[2, 6, 14, 4, -6, 110]\n",
      "[3, 5, -7, -5, -5, -3, 11, -15]\n"
     ]
    }
   ],
   "execution_count": 130
  },
  {
   "metadata": {},
   "cell_type": "markdown",
   "source": "map() ve reduce() Ornekleri",
   "id": "fb47ce6a5fb1a18a"
  },
  {
   "metadata": {
    "ExecuteTime": {
     "end_time": "2025-07-26T12:41:49.175898Z",
     "start_time": "2025-07-26T12:41:49.173013Z"
    }
   },
   "cell_type": "code",
   "source": [
    "#Ornek-1\n",
    "sayilar = [3, 2, 5, 6, -7, 14, 4, -5, -6, -5, -3, 11, 110, -15]\n",
    "\n",
    "def kareAl(s):\n",
    "    return s ** 2\n",
    "\n",
    "sayilarKaresi = []\n",
    "\n",
    "for sayi in sayilar:\n",
    "    sayilarKaresi.append(sayi)\n",
    "\n",
    "sayilarKaresi2 = list(map(lambda x : x ** 2, sayilarKaresi))\n",
    "sayilarKaresi3 = list(map(kareAl, sayilarKaresi))\n",
    "#İstersek tuple set şeklinde kullanabilirsin"
   ],
   "id": "1d9657eb2cc5782a",
   "outputs": [],
   "execution_count": 131
  },
  {
   "metadata": {
    "ExecuteTime": {
     "end_time": "2025-07-26T12:44:29.896545Z",
     "start_time": "2025-07-26T12:44:29.893640Z"
    }
   },
   "cell_type": "code",
   "source": [
    "#Ornek-2\n",
    "from functools import reduce\n",
    "sayilar = [3, 4 , 6, -1, 7]\n",
    "\n",
    "def topla(s1 , s2):\n",
    "    return s1 + s2\n",
    "\n",
    "toplam = reduce(topla, sayilar) #İkişerli ikişerli yapar eğer üçlü toplama göndersek çalışmaz\n",
    "toplam3 = reduce(lambda x1, x2 : x1 + x2, sayilar)\n",
    "print(toplam3)\n",
    "print(toplam)"
   ],
   "id": "8b36eba4cf88cb55",
   "outputs": [
    {
     "name": "stdout",
     "output_type": "stream",
     "text": [
      "19\n",
      "19\n"
     ]
    }
   ],
   "execution_count": 133
  },
  {
   "metadata": {
    "ExecuteTime": {
     "end_time": "2025-07-26T12:48:00.129640Z",
     "start_time": "2025-07-26T12:48:00.125268Z"
    }
   },
   "cell_type": "code",
   "source": [
    "#Ornek-3\n",
    "sayilar = [2, 1, 6, 5, 4, 8, -2, -4]\n",
    "\n",
    "def carp(s1 , s2):\n",
    "    return s1 * s2\n",
    "\n",
    "carpimsonucu = reduce(carp, sayilar)\n",
    "print(carpimsonucu)\n",
    "\n",
    "print(max(sayilar))\n",
    "print(min(sayilar))\n",
    "\n",
    "def enbuyukSayi(s1, s2):\n",
    "    if s1 > s2:\n",
    "        return s1\n",
    "    else:\n",
    "        return s2\n",
    "EnbuyukSayi = reduce(enbuyukSayi,sayilar)\n",
    "EnbuyukSayi2 = reduce(lambda s1, s2 : s1 if s1 > s2 else s2, sayilar)\n",
    "print(EnbuyukSayi)\n",
    "print(EnbuyukSayi2)\n",
    "\n",
    "enkucuksayi = reduce(lambda a, b : a if a < b else b, sayilar)\n",
    "print(enkucuksayi)"
   ],
   "id": "413afcc675816eab",
   "outputs": [
    {
     "name": "stdout",
     "output_type": "stream",
     "text": [
      "15360\n",
      "8\n",
      "-4\n",
      "8\n",
      "8\n",
      "-4\n"
     ]
    }
   ],
   "execution_count": 139
  },
  {
   "metadata": {
    "ExecuteTime": {
     "end_time": "2025-07-26T12:52:17.666428Z",
     "start_time": "2025-07-26T12:52:17.662724Z"
    }
   },
   "cell_type": "code",
   "source": [
    "#Ornek-4\n",
    "from functools import reduce\n",
    "katSayilar = [0.2, 0.3, 0.5]\n",
    "notlar = [60, 40, 70]\n",
    "\n",
    "donemSonuNotlar = []\n",
    "\n",
    "for i in range(3):\n",
    "    donemSonuNotlar.append(katSayilar[i] * notlar[i])\n",
    "print(donemSonuNotlar)\n",
    "\n",
    "nots = list(map(lambda s1, s2: s1 * s2, katSayilar, notlar))\n",
    "print(nots)\n",
    "nots2 = reduce(lambda s1, s2 : s1 + s2,nots)\n",
    "print(nots2)"
   ],
   "id": "de52c7198209fa70",
   "outputs": [
    {
     "name": "stdout",
     "output_type": "stream",
     "text": [
      "[12.0, 12.0, 35.0]\n",
      "[12.0, 12.0, 35.0]\n",
      "59.0\n"
     ]
    }
   ],
   "execution_count": 143
  },
  {
   "metadata": {},
   "cell_type": "markdown",
   "source": "zip() Fonksiyonu ve Örnekleri",
   "id": "e1ef4a5b2833be6"
  },
  {
   "metadata": {
    "ExecuteTime": {
     "end_time": "2025-07-26T12:56:10.080933Z",
     "start_time": "2025-07-26T12:56:10.077260Z"
    }
   },
   "cell_type": "code",
   "source": [
    "numaralar = [1, 2, 3, 4, 5]\n",
    "isimler = [\"K\", \"A\", \"B\", \"C\", \"D\"]\n",
    "\n",
    "ziplenmis = zip(numaralar, isimler)\n",
    "type(ziplenmis)\n",
    "print(ziplenmis) #Somut halde çevirmek için çevirim yapmak gerek\n",
    "\n",
    "bigliler = list(ziplenmis)\n",
    "print(bigliler)\n",
    "\n",
    "yaslar = (15, 8, 19 , 32 ,45)\n",
    "bigliler = list(zip(numaralar, isimler, yaslar))\n",
    "print(bigliler)\n",
    "\n",
    "dicter = zip(numaralar, isimler)\n",
    "bilgiler = dict(dicter)\n",
    "print(bilgiler)"
   ],
   "id": "40b7c954c7322cd4",
   "outputs": [
    {
     "name": "stdout",
     "output_type": "stream",
     "text": [
      "<zip object at 0x10652edc0>\n",
      "[(1, 'K'), (2, 'A'), (3, 'B'), (4, 'C'), (5, 'D')]\n",
      "[(1, 'K', 15), (2, 'A', 8), (3, 'B', 19), (4, 'C', 32), (5, 'D', 45)]\n",
      "{1: 'K', 2: 'A', 3: 'B', 4: 'C', 5: 'D'}\n"
     ]
    }
   ],
   "execution_count": 151
  },
  {
   "metadata": {
    "ExecuteTime": {
     "end_time": "2025-07-26T12:56:34.940722Z",
     "start_time": "2025-07-26T12:56:34.937274Z"
    }
   },
   "cell_type": "code",
   "source": [
    "numaralar = [1, 2, 3, 4, 5]\n",
    "isimler = [\"K\", \"A\", \"B\", \"C\", \"D\"]\n",
    "yaslar = (15, 8, 19) #Eğer eksik ve fazlaysa veriler en az olana göre zipler yani öbür verileri kaybolur alınmaz\n",
    "bigliler = list(zip(numaralar, isimler, yaslar))\n",
    "print(bigliler)\n",
    "\n",
    "dicter = zip(numaralar, isimler)\n",
    "bilgiler = dict(dicter)\n",
    "print(bilgiler)"
   ],
   "id": "9a86d43349314a01",
   "outputs": [
    {
     "name": "stdout",
     "output_type": "stream",
     "text": [
      "[(1, 'K', 15), (2, 'A', 8), (3, 'B', 19)]\n",
      "{1: 'K', 2: 'A', 3: 'B', 4: 'C', 5: 'D'}\n"
     ]
    }
   ],
   "execution_count": 152
  },
  {
   "metadata": {},
   "cell_type": "markdown",
   "source": "enumerate(), all(), any() Fonksiyonları",
   "id": "d1367f715a53d511"
  },
  {
   "metadata": {
    "ExecuteTime": {
     "end_time": "2025-07-26T12:59:55.363355Z",
     "start_time": "2025-07-26T12:59:55.360113Z"
    }
   },
   "cell_type": "code",
   "source": [
    "sayilar = (20, 30, 40 , 50, 111)\n",
    "\n",
    "print(\"{}. sayı = {}\".format(1, sayilar[1]))\n",
    "\n",
    "count = 1\n",
    "for sayi in sayilar:\n",
    "    print(\"{}. sayı = {}\".format(count, sayilar[1]))\n",
    "    count += 1"
   ],
   "id": "28bf4cd1b2e07774",
   "outputs": [
    {
     "name": "stdout",
     "output_type": "stream",
     "text": [
      "1. sayı = 30\n",
      "1. sayı = 30\n",
      "2. sayı = 30\n",
      "3. sayı = 30\n",
      "4. sayı = 30\n",
      "5. sayı = 30\n"
     ]
    }
   ],
   "execution_count": 155
  },
  {
   "metadata": {
    "ExecuteTime": {
     "end_time": "2025-07-26T13:02:31.054763Z",
     "start_time": "2025-07-26T13:02:31.051696Z"
    }
   },
   "cell_type": "code",
   "source": [
    "print(list(enumerate(sayilar))) #Tuple halde numaralandırıyor bizde şöyle yaparız\n",
    "for no,sayi in enumerate(sayilar, 1): #eğer numaralandırmak istediğins ayıyı yapacaksan enumerate'in ikinci argümanına sayıyı yaz\n",
    "    print(\"{}. sayı = {}\".format(sayi))"
   ],
   "id": "39f1b45d5ab2cc2a",
   "outputs": [
    {
     "name": "stdout",
     "output_type": "stream",
     "text": [
      "[(0, 20), (1, 30), (2, 40), (3, 50), (4, 111)]\n",
      "1. sayı = 20\n",
      "2. sayı = 30\n",
      "3. sayı = 40\n",
      "4. sayı = 50\n",
      "5. sayı = 111\n"
     ]
    }
   ],
   "execution_count": 159
  },
  {
   "metadata": {
    "ExecuteTime": {
     "end_time": "2025-07-26T13:03:30.800960Z",
     "start_time": "2025-07-26T13:03:30.797798Z"
    }
   },
   "cell_type": "code",
   "source": [
    "set = {4, 3, 6, 7, 1}\n",
    "print(list(enumerate(set, 1)))"
   ],
   "id": "c70114472b783480",
   "outputs": [
    {
     "name": "stdout",
     "output_type": "stream",
     "text": [
      "[(1, 1), (2, 3), (3, 4), (4, 6), (5, 7)]\n"
     ]
    }
   ],
   "execution_count": 160
  },
  {
   "metadata": {
    "ExecuteTime": {
     "end_time": "2025-07-26T13:04:39.559513Z",
     "start_time": "2025-07-26T13:04:39.556856Z"
    }
   },
   "cell_type": "code",
   "source": [
    "rehber = {\"Fatih\" : 1036546,\n",
    "          \"Selim\" : 2133432}\n",
    "\n",
    "print(list(enumerate(rehber, 1))) #Anahtar değerleri numaralandırmış oluyor\n",
    "print(list(enumerate(rehber.values(), 1)))"
   ],
   "id": "3e3a8da33e1e899",
   "outputs": [
    {
     "name": "stdout",
     "output_type": "stream",
     "text": [
      "[(1, 'Fatih'), (2, 'Selim')]\n",
      "[(1, 1036546), (2, 2133432)]\n"
     ]
    }
   ],
   "execution_count": 162
  },
  {
   "metadata": {
    "ExecuteTime": {
     "end_time": "2025-07-26T13:06:55.508102Z",
     "start_time": "2025-07-26T13:06:55.504817Z"
    }
   },
   "cell_type": "code",
   "source": [
    "#all() Bütün değerler True ise True döndürür\n",
    "#any() En az bir tanesi True ise True döndürür\n",
    "\n",
    "print(all([True,True,True,True,True]))\n",
    "print(all([False,True,True,True,True]))\n",
    "print(any([True,True,True,True,True]))\n",
    "print(any([True,False,False,False,False]))\n",
    "print(any([False,False,False,False]))"
   ],
   "id": "dfd834840547c696",
   "outputs": [
    {
     "name": "stdout",
     "output_type": "stream",
     "text": [
      "True\n",
      "False\n",
      "True\n",
      "True\n",
      "False\n"
     ]
    }
   ],
   "execution_count": 169
  },
  {
   "metadata": {},
   "cell_type": "markdown",
   "source": "Decorators yani Süslemeler",
   "id": "b555289b8f75bcbf"
  },
  {
   "metadata": {
    "ExecuteTime": {
     "end_time": "2025-07-26T13:14:05.695816Z",
     "start_time": "2025-07-26T13:14:05.692983Z"
    }
   },
   "cell_type": "code",
   "source": [
    "def funcInf(func):\n",
    "    #inner function\n",
    "    def bilgiVer():\n",
    "        print(\"Fonksiyon çalışmaya başladı.\")\n",
    "        func()\n",
    "        print(\"Fonksiyonun çalışması bitti.\")\n",
    "    return bilgiVer\n",
    "def soruSor():\n",
    "    print(\"Soru sorduk\")\n",
    "\n",
    "def cevapVer():\n",
    "    print(\"Cevap verdik\")\n",
    "\n",
    "funcInf(soruSor)()\n",
    "funcInf(cevapVer)()"
   ],
   "id": "5907e8de4763a9f7",
   "outputs": [
    {
     "name": "stdout",
     "output_type": "stream",
     "text": [
      "Fonksiyon çalışmaya başladı.\n",
      "Soru sorduk\n",
      "Fonksiyonun çalışması bitti.\n",
      "Fonksiyon çalışmaya başladı.\n",
      "Cevap verdik\n",
      "Fonksiyonun çalışması bitti.\n"
     ]
    }
   ],
   "execution_count": 178
  },
  {
   "metadata": {
    "ExecuteTime": {
     "end_time": "2025-07-26T13:14:52.937110Z",
     "start_time": "2025-07-26T13:14:52.933489Z"
    }
   },
   "cell_type": "code",
   "source": [
    "#Bu şekilde ben istersem bir fonksiyon çalışmadan önce başka fonksiyon çalışmasını istiyorsan süslemesini yazıyoruz\n",
    "def funcInf(func):\n",
    "    #inner function\n",
    "    def bilgiVer():\n",
    "        print(\"Fonksiyon çalışmaya başladı.\")\n",
    "        func()\n",
    "        print(\"Fonksiyonun çalışması bitti.\")\n",
    "\n",
    "    return bilgiVer\n",
    "\n",
    "@funcInf\n",
    "def soruSor():\n",
    "    print(\"Soru sorduk\")\n",
    "\n",
    "@funcInf\n",
    "def cevapVer():\n",
    "    print(\"Cevap verdik\")\n",
    "\n",
    "soruSor()\n",
    "cevapVer()"
   ],
   "id": "ac797282fa12a039",
   "outputs": [
    {
     "name": "stdout",
     "output_type": "stream",
     "text": [
      "Fonksiyon çalışmaya başladı.\n",
      "Soru sorduk\n",
      "Fonksiyonun çalışması bitti.\n",
      "Fonksiyon çalışmaya başladı.\n",
      "Cevap verdik\n",
      "Fonksiyonun çalışması bitti.\n"
     ]
    }
   ],
   "execution_count": 180
  },
  {
   "metadata": {
    "ExecuteTime": {
     "end_time": "2025-07-26T13:23:11.797539Z",
     "start_time": "2025-07-26T13:23:11.793339Z"
    }
   },
   "cell_type": "code",
   "source": [
    "#Manuel decorator\n",
    "def funcInf(func):\n",
    "    def inner(*args, **kwargs):\n",
    "        print(\"Konuşma başladı\")\n",
    "        func(*args, **kwargs)\n",
    "        print(\"Konuşma bitti\")\n",
    "    return inner\n",
    "\n",
    "def soruSor(isim, yas, soru, **kwargs):\n",
    "    print(\"Soru soran bilgileri: \")\n",
    "    print(\"Adı = {}, Yaşı = {}\".format(isim, yas))\n",
    "    print(\"Sorusu = {}\".format(soru))\n",
    "    try: #Eğer bilgi yoksa yazılmadıysa hata vermesin diye bunu yaptık\n",
    "        print(kwargs['bilgi'])\n",
    "    except Exception: #KeyError vermesin\n",
    "        print(\"Elimizde bir bilgi bulunmamaktadır\")\n",
    "\n",
    "def cevapSor(isim, yas, cevap):\n",
    "    print(\"Cevap veren bilgileri: \")\n",
    "    print(\"Adı = {}, Yaşı = {}\".format(isim, yas))\n",
    "    print(\"Cevabı = {}\".format(cevap))\n",
    "\n",
    "# Düzeltildi:\n",
    "funcInf(soruSor)(\"Mel\", 25, \"Nasılsın?\", bilgi = \"Hmmm\") #bilgi vereceksem yani başka bir şey koyacaksam kwargs derim\n",
    "funcInf(cevapSor)(\"Asf\", 12, \"Kötü\")\n",
    "funcInf(soruSor)(\"Mel\", 25, \"Çok iyi\") #KeyError verir eğer try except yoksa"
   ],
   "id": "f3b700362ff0c677",
   "outputs": [
    {
     "name": "stdout",
     "output_type": "stream",
     "text": [
      "Konuşma başladı\n",
      "Soru soran bilgileri: \n",
      "Adı = Mel, Yaşı = 25\n",
      "Sorusu = Nasılsın?\n",
      "Hmmm\n",
      "Konuşma bitti\n",
      "Konuşma başladı\n",
      "Cevap veren bilgileri: \n",
      "Adı = Asf, Yaşı = 12\n",
      "Cevabı = Kötü\n",
      "Konuşma bitti\n",
      "Konuşma başladı\n",
      "Soru soran bilgileri: \n",
      "Adı = Mel, Yaşı = 25\n",
      "Sorusu = Çok iyi\n",
      "Elimizde bir bilgi bulunmamaktadır\n",
      "Konuşma bitti\n"
     ]
    }
   ],
   "execution_count": 185
  },
  {
   "metadata": {
    "ExecuteTime": {
     "end_time": "2025-07-26T13:24:03.461021Z",
     "start_time": "2025-07-26T13:24:03.457184Z"
    }
   },
   "cell_type": "code",
   "source": [
    "#decorator kullanılırsa\n",
    "def funcInf(func):\n",
    "    def inner(*args, **kwargs):\n",
    "        print(\"Konuşma başladı\")\n",
    "        func(*args, **kwargs)\n",
    "        print(\"Konuşma bitti\")\n",
    "    return inner\n",
    "@funcInf\n",
    "def soruSor(isim, yas, soru, **kwargs):\n",
    "    print(\"Soru soran bilgileri: \")\n",
    "    print(\"Adı = {}, Yaşı = {}\".format(isim, yas))\n",
    "    print(\"Sorusu = {}\".format(soru))\n",
    "    try:\n",
    "        print(kwargs['bilgi'])\n",
    "    except Exception:\n",
    "        print(\"Elimizde bir bilgi bulunmamaktadır\")\n",
    "\n",
    "\n",
    "@funcInf\n",
    "def cevapSor(isim, yas, cevap):\n",
    "    print(\"Cevap veren bilgileri: \")\n",
    "    print(\"Adı = {}, Yaşı = {}\".format(isim, yas))\n",
    "    print(\"Cevabı = {}\".format(cevap))\n",
    "\n",
    "# Düzeltildi:\n",
    "soruSor(\"Mel\", 25, \"Nasılsın?\", bilgi = \"Hmmm\")\n",
    "cevapSor(\"Asf\", 12, \"Kötü\")\n",
    "soruSor(\"Mel\", 25, \"Çok iyi\")"
   ],
   "id": "f6a252b3b01c0aa1",
   "outputs": [
    {
     "name": "stdout",
     "output_type": "stream",
     "text": [
      "Konuşma başladı\n",
      "Soru soran bilgileri: \n",
      "Adı = Mel, Yaşı = 25\n",
      "Sorusu = Nasılsın?\n",
      "Hmmm\n",
      "Konuşma bitti\n",
      "Konuşma başladı\n",
      "Cevap veren bilgileri: \n",
      "Adı = Asf, Yaşı = 12\n",
      "Cevabı = Kötü\n",
      "Konuşma bitti\n",
      "Konuşma başladı\n",
      "Soru soran bilgileri: \n",
      "Adı = Mel, Yaşı = 25\n",
      "Sorusu = Çok iyi\n",
      "Elimizde bir bilgi bulunmamaktadır\n",
      "Konuşma bitti\n"
     ]
    }
   ],
   "execution_count": 186
  },
  {
   "metadata": {
    "ExecuteTime": {
     "end_time": "2025-07-26T13:31:14.298811Z",
     "start_time": "2025-07-26T13:31:14.295120Z"
    }
   },
   "cell_type": "code",
   "source": [
    "#Decorate Örneği\n",
    "import time\n",
    "from math import sqrt\n",
    "#1 Ocak 1970 bu tarihten itibaren bu zamana kadar tüm zamanı yazdırabiliyoruz\n",
    "print(time.time())\n",
    "\n",
    "def calismaSuresi(func):\n",
    "    def inner(*args, **kwargs):\n",
    "        baslangic = time.time()\n",
    "        func(*args, **kwargs)\n",
    "        bitis = time.time()\n",
    "        print(\"Fonksiyonun çalışma süresi:\",bitis - baslangic)\n",
    "    return inner\n",
    "\n",
    "def kareKok(sayilar):\n",
    "    sayilar = [sqrt(sayi) for sayi in sayilar]\n",
    "    return sayilar\n",
    "def kareAl(sayilar):\n",
    "    sayilar = [sayi ** 2 for sayi in sayilar]\n",
    "    return sayilar\n",
    "\n",
    "sayilar = list(range(10000))\n",
    "\n"
   ],
   "id": "b4ff31f08881c659",
   "outputs": [
    {
     "name": "stdout",
     "output_type": "stream",
     "text": [
      "1753536674.2967622\n"
     ]
    }
   ],
   "execution_count": 193
  },
  {
   "metadata": {
    "ExecuteTime": {
     "end_time": "2025-07-26T13:31:07.835739Z",
     "start_time": "2025-07-26T13:31:07.829306Z"
    }
   },
   "cell_type": "code",
   "source": "kareKok(sayilar)",
   "id": "4a3df08d0b92ec28",
   "outputs": [
    {
     "data": {
      "text/plain": [
       "[0.0,\n",
       " 1.0,\n",
       " 1.4142135623730951,\n",
       " 1.7320508075688772,\n",
       " 2.0,\n",
       " 2.23606797749979,\n",
       " 2.449489742783178,\n",
       " 2.6457513110645907,\n",
       " 2.8284271247461903,\n",
       " 3.0,\n",
       " 3.1622776601683795,\n",
       " 3.3166247903554,\n",
       " 3.4641016151377544,\n",
       " 3.605551275463989,\n",
       " 3.7416573867739413,\n",
       " 3.872983346207417,\n",
       " 4.0,\n",
       " 4.123105625617661,\n",
       " 4.242640687119285,\n",
       " 4.358898943540674,\n",
       " 4.47213595499958,\n",
       " 4.58257569495584,\n",
       " 4.69041575982343,\n",
       " 4.795831523312719,\n",
       " 4.898979485566356,\n",
       " 5.0,\n",
       " 5.0990195135927845,\n",
       " 5.196152422706632,\n",
       " 5.291502622129181,\n",
       " 5.385164807134504,\n",
       " 5.477225575051661,\n",
       " 5.5677643628300215,\n",
       " 5.656854249492381,\n",
       " 5.744562646538029,\n",
       " 5.830951894845301,\n",
       " 5.916079783099616,\n",
       " 6.0,\n",
       " 6.082762530298219,\n",
       " 6.164414002968976,\n",
       " 6.244997998398398,\n",
       " 6.324555320336759,\n",
       " 6.4031242374328485,\n",
       " 6.48074069840786,\n",
       " 6.557438524302,\n",
       " 6.6332495807108,\n",
       " 6.708203932499369,\n",
       " 6.782329983125268,\n",
       " 6.855654600401044,\n",
       " 6.928203230275509,\n",
       " 7.0,\n",
       " 7.0710678118654755,\n",
       " 7.14142842854285,\n",
       " 7.211102550927978,\n",
       " 7.280109889280518,\n",
       " 7.3484692283495345,\n",
       " 7.416198487095663,\n",
       " 7.483314773547883,\n",
       " 7.54983443527075,\n",
       " 7.615773105863909,\n",
       " 7.681145747868608,\n",
       " 7.745966692414834,\n",
       " 7.810249675906654,\n",
       " 7.874007874011811,\n",
       " 7.937253933193772,\n",
       " 8.0,\n",
       " 8.06225774829855,\n",
       " 8.12403840463596,\n",
       " 8.18535277187245,\n",
       " 8.246211251235321,\n",
       " 8.306623862918075,\n",
       " 8.366600265340756,\n",
       " 8.426149773176359,\n",
       " 8.48528137423857,\n",
       " 8.54400374531753,\n",
       " 8.602325267042627,\n",
       " 8.660254037844387,\n",
       " 8.717797887081348,\n",
       " 8.774964387392123,\n",
       " 8.831760866327848,\n",
       " 8.888194417315589,\n",
       " 8.94427190999916,\n",
       " 9.0,\n",
       " 9.055385138137417,\n",
       " 9.1104335791443,\n",
       " 9.16515138991168,\n",
       " 9.219544457292887,\n",
       " 9.273618495495704,\n",
       " 9.327379053088816,\n",
       " 9.38083151964686,\n",
       " 9.433981132056603,\n",
       " 9.486832980505138,\n",
       " 9.539392014169456,\n",
       " 9.591663046625438,\n",
       " 9.643650760992955,\n",
       " 9.695359714832659,\n",
       " 9.746794344808963,\n",
       " 9.797958971132712,\n",
       " 9.848857801796104,\n",
       " 9.899494936611665,\n",
       " 9.9498743710662,\n",
       " 10.0,\n",
       " 10.04987562112089,\n",
       " 10.099504938362077,\n",
       " 10.14889156509222,\n",
       " 10.198039027185569,\n",
       " 10.246950765959598,\n",
       " 10.295630140987,\n",
       " 10.344080432788601,\n",
       " 10.392304845413264,\n",
       " 10.44030650891055,\n",
       " 10.488088481701515,\n",
       " 10.535653752852738,\n",
       " 10.583005244258363,\n",
       " 10.63014581273465,\n",
       " 10.677078252031311,\n",
       " 10.723805294763608,\n",
       " 10.770329614269007,\n",
       " 10.816653826391969,\n",
       " 10.862780491200215,\n",
       " 10.908712114635714,\n",
       " 10.954451150103322,\n",
       " 11.0,\n",
       " 11.045361017187261,\n",
       " 11.090536506409418,\n",
       " 11.135528725660043,\n",
       " 11.180339887498949,\n",
       " 11.224972160321824,\n",
       " 11.269427669584644,\n",
       " 11.313708498984761,\n",
       " 11.357816691600547,\n",
       " 11.40175425099138,\n",
       " 11.445523142259598,\n",
       " 11.489125293076057,\n",
       " 11.532562594670797,\n",
       " 11.575836902790225,\n",
       " 11.61895003862225,\n",
       " 11.661903789690601,\n",
       " 11.704699910719626,\n",
       " 11.74734012447073,\n",
       " 11.789826122551595,\n",
       " 11.832159566199232,\n",
       " 11.874342087037917,\n",
       " 11.916375287812984,\n",
       " 11.958260743101398,\n",
       " 12.0,\n",
       " 12.041594578792296,\n",
       " 12.083045973594572,\n",
       " 12.12435565298214,\n",
       " 12.165525060596439,\n",
       " 12.206555615733702,\n",
       " 12.24744871391589,\n",
       " 12.288205727444508,\n",
       " 12.328828005937952,\n",
       " 12.36931687685298,\n",
       " 12.409673645990857,\n",
       " 12.449899597988733,\n",
       " 12.489995996796797,\n",
       " 12.529964086141668,\n",
       " 12.569805089976535,\n",
       " 12.609520212918492,\n",
       " 12.649110640673518,\n",
       " 12.68857754044952,\n",
       " 12.727922061357855,\n",
       " 12.767145334803704,\n",
       " 12.806248474865697,\n",
       " 12.84523257866513,\n",
       " 12.884098726725126,\n",
       " 12.922847983320086,\n",
       " 12.96148139681572,\n",
       " 13.0,\n",
       " 13.038404810405298,\n",
       " 13.076696830622021,\n",
       " 13.114877048604,\n",
       " 13.152946437965905,\n",
       " 13.19090595827292,\n",
       " 13.228756555322953,\n",
       " 13.2664991614216,\n",
       " 13.30413469565007,\n",
       " 13.341664064126334,\n",
       " 13.379088160259652,\n",
       " 13.416407864998739,\n",
       " 13.45362404707371,\n",
       " 13.490737563232042,\n",
       " 13.527749258468683,\n",
       " 13.564659966250536,\n",
       " 13.601470508735444,\n",
       " 13.638181696985855,\n",
       " 13.674794331177344,\n",
       " 13.711309200802088,\n",
       " 13.74772708486752,\n",
       " 13.784048752090222,\n",
       " 13.820274961085254,\n",
       " 13.856406460551018,\n",
       " 13.892443989449804,\n",
       " 13.92838827718412,\n",
       " 13.96424004376894,\n",
       " 14.0,\n",
       " 14.035668847618199,\n",
       " 14.071247279470288,\n",
       " 14.106735979665885,\n",
       " 14.142135623730951,\n",
       " 14.177446878757825,\n",
       " 14.212670403551895,\n",
       " 14.247806848775006,\n",
       " 14.2828568570857,\n",
       " 14.317821063276353,\n",
       " 14.352700094407323,\n",
       " 14.38749456993816,\n",
       " 14.422205101855956,\n",
       " 14.45683229480096,\n",
       " 14.491376746189438,\n",
       " 14.52583904633395,\n",
       " 14.560219778561036,\n",
       " 14.594519519326424,\n",
       " 14.628738838327793,\n",
       " 14.66287829861518,\n",
       " 14.696938456699069,\n",
       " 14.730919862656235,\n",
       " 14.7648230602334,\n",
       " 14.798648586948742,\n",
       " 14.832396974191326,\n",
       " 14.866068747318506,\n",
       " 14.89966442575134,\n",
       " 14.933184523068078,\n",
       " 14.966629547095765,\n",
       " 15.0,\n",
       " 15.033296378372908,\n",
       " 15.066519173319364,\n",
       " 15.0996688705415,\n",
       " 15.132745950421556,\n",
       " 15.165750888103101,\n",
       " 15.198684153570664,\n",
       " 15.231546211727817,\n",
       " 15.264337522473747,\n",
       " 15.297058540778355,\n",
       " 15.329709716755891,\n",
       " 15.362291495737216,\n",
       " 15.394804318340652,\n",
       " 15.427248620541512,\n",
       " 15.459624833740307,\n",
       " 15.491933384829668,\n",
       " 15.524174696260024,\n",
       " 15.556349186104045,\n",
       " 15.588457268119896,\n",
       " 15.620499351813308,\n",
       " 15.652475842498529,\n",
       " 15.684387141358123,\n",
       " 15.716233645501712,\n",
       " 15.748015748023622,\n",
       " 15.7797338380595,\n",
       " 15.811388300841896,\n",
       " 15.84297951775486,\n",
       " 15.874507866387544,\n",
       " 15.905973720586866,\n",
       " 15.937377450509228,\n",
       " 15.968719422671311,\n",
       " 16.0,\n",
       " 16.0312195418814,\n",
       " 16.06237840420901,\n",
       " 16.09347693943108,\n",
       " 16.1245154965971,\n",
       " 16.15549442140351,\n",
       " 16.186414056238647,\n",
       " 16.217274740226856,\n",
       " 16.24807680927192,\n",
       " 16.278820596099706,\n",
       " 16.30950643030009,\n",
       " 16.34013463836819,\n",
       " 16.3707055437449,\n",
       " 16.401219466856727,\n",
       " 16.431676725154983,\n",
       " 16.46207763315433,\n",
       " 16.492422502470642,\n",
       " 16.522711641858304,\n",
       " 16.55294535724685,\n",
       " 16.583123951777,\n",
       " 16.61324772583615,\n",
       " 16.64331697709324,\n",
       " 16.673332000533065,\n",
       " 16.703293088490067,\n",
       " 16.73320053068151,\n",
       " 16.76305461424021,\n",
       " 16.792855623746664,\n",
       " 16.822603841260722,\n",
       " 16.852299546352718,\n",
       " 16.881943016134134,\n",
       " 16.911534525287763,\n",
       " 16.941074346097416,\n",
       " 16.97056274847714,\n",
       " 17.0,\n",
       " 17.029386365926403,\n",
       " 17.05872210923198,\n",
       " 17.08800749063506,\n",
       " 17.11724276862369,\n",
       " 17.146428199482248,\n",
       " 17.175564037317667,\n",
       " 17.204650534085253,\n",
       " 17.233687939614086,\n",
       " 17.26267650163207,\n",
       " 17.291616465790582,\n",
       " 17.320508075688775,\n",
       " 17.349351572897472,\n",
       " 17.378147196982766,\n",
       " 17.406895185529212,\n",
       " 17.435595774162696,\n",
       " 17.46424919657298,\n",
       " 17.4928556845359,\n",
       " 17.52141546793523,\n",
       " 17.549928774784245,\n",
       " 17.578395831246947,\n",
       " 17.60681686165901,\n",
       " 17.635192088548397,\n",
       " 17.663521732655695,\n",
       " 17.69180601295413,\n",
       " 17.72004514666935,\n",
       " 17.74823934929885,\n",
       " 17.776388834631177,\n",
       " 17.804493814764857,\n",
       " 17.832554500127006,\n",
       " 17.86057109949175,\n",
       " 17.88854381999832,\n",
       " 17.916472867168917,\n",
       " 17.944358444926362,\n",
       " 17.97220075561143,\n",
       " 18.0,\n",
       " 18.027756377319946,\n",
       " 18.05547008526779,\n",
       " 18.083141320025124,\n",
       " 18.110770276274835,\n",
       " 18.138357147217054,\n",
       " 18.16590212458495,\n",
       " 18.193405398660254,\n",
       " 18.2208671582886,\n",
       " 18.24828759089466,\n",
       " 18.275666882497067,\n",
       " 18.303005217723125,\n",
       " 18.33030277982336,\n",
       " 18.35755975068582,\n",
       " 18.384776310850235,\n",
       " 18.411952639521967,\n",
       " 18.439088914585774,\n",
       " 18.466185312619388,\n",
       " 18.49324200890693,\n",
       " 18.520259177452136,\n",
       " 18.547236990991408,\n",
       " 18.57417562100671,\n",
       " 18.601075237738275,\n",
       " 18.627936010197157,\n",
       " 18.65475810617763,\n",
       " 18.681541692269406,\n",
       " 18.708286933869708,\n",
       " 18.734993995195193,\n",
       " 18.76166303929372,\n",
       " 18.788294228055936,\n",
       " 18.81488772222678,\n",
       " 18.841443681416774,\n",
       " 18.867962264113206,\n",
       " 18.894443627691185,\n",
       " 18.920887928424502,\n",
       " 18.947295321496416,\n",
       " 18.973665961010276,\n",
       " 19.0,\n",
       " 19.026297590440446,\n",
       " 19.05255888325765,\n",
       " 19.078784028338912,\n",
       " 19.1049731745428,\n",
       " 19.131126469708992,\n",
       " 19.157244060668017,\n",
       " 19.183326093250876,\n",
       " 19.209372712298546,\n",
       " 19.235384061671343,\n",
       " 19.261360284258224,\n",
       " 19.28730152198591,\n",
       " 19.313207915827967,\n",
       " 19.339079605813716,\n",
       " 19.364916731037084,\n",
       " 19.390719429665317,\n",
       " 19.4164878389476,\n",
       " 19.44222209522358,\n",
       " 19.467922333931785,\n",
       " 19.493588689617926,\n",
       " 19.519221295943137,\n",
       " 19.544820285692065,\n",
       " 19.570385790780925,\n",
       " 19.595917942265423,\n",
       " 19.621416870348583,\n",
       " 19.6468827043885,\n",
       " 19.672315572906,\n",
       " 19.697715603592208,\n",
       " 19.72308292331602,\n",
       " 19.748417658131498,\n",
       " 19.77371993328519,\n",
       " 19.79898987322333,\n",
       " 19.82422760159901,\n",
       " 19.849433241279208,\n",
       " 19.87460691435179,\n",
       " 19.8997487421324,\n",
       " 19.924858845171276,\n",
       " 19.949937343260004,\n",
       " 19.974984355438178,\n",
       " 20.0,\n",
       " 20.024984394500787,\n",
       " 20.049937655763422,\n",
       " 20.074859899884732,\n",
       " 20.09975124224178,\n",
       " 20.12461179749811,\n",
       " 20.149441679609886,\n",
       " 20.174241001832016,\n",
       " 20.199009876724155,\n",
       " 20.223748416156685,\n",
       " 20.248456731316587,\n",
       " 20.273134932713294,\n",
       " 20.29778313018444,\n",
       " 20.322401432901575,\n",
       " 20.346989949375804,\n",
       " 20.37154878746336,\n",
       " 20.396078054371138,\n",
       " 20.42057785666214,\n",
       " 20.445048300260872,\n",
       " 20.46948949045872,\n",
       " 20.493901531919196,\n",
       " 20.518284528683193,\n",
       " 20.54263858417414,\n",
       " 20.566963801203133,\n",
       " 20.591260281974,\n",
       " 20.615528128088304,\n",
       " 20.639767440550294,\n",
       " 20.663978319771825,\n",
       " 20.688160865577203,\n",
       " 20.71231517720798,\n",
       " 20.73644135332772,\n",
       " 20.760539492026695,\n",
       " 20.784609690826528,\n",
       " 20.808652046684813,\n",
       " 20.83266665599966,\n",
       " 20.85665361461421,\n",
       " 20.8806130178211,\n",
       " 20.904544960366874,\n",
       " 20.92844953645635,\n",
       " 20.952326839756964,\n",
       " 20.97617696340303,\n",
       " 21.0,\n",
       " 21.02379604162864,\n",
       " 21.047565179849187,\n",
       " 21.071307505705477,\n",
       " 21.095023109728988,\n",
       " 21.118712081942874,\n",
       " 21.142374511865974,\n",
       " 21.166010488516726,\n",
       " 21.18962010041709,\n",
       " 21.213203435596427,\n",
       " 21.236760581595302,\n",
       " 21.2602916254693,\n",
       " 21.283796653792763,\n",
       " 21.307275752662516,\n",
       " 21.330729007701542,\n",
       " 21.354156504062622,\n",
       " 21.37755832643195,\n",
       " 21.400934559032695,\n",
       " 21.42428528562855,\n",
       " 21.447610589527216,\n",
       " 21.470910553583888,\n",
       " 21.494185260204677,\n",
       " 21.517434791350013,\n",
       " 21.540659228538015,\n",
       " 21.563858652847824,\n",
       " 21.587033144922902,\n",
       " 21.61018278497431,\n",
       " 21.633307652783937,\n",
       " 21.656407827707714,\n",
       " 21.6794833886788,\n",
       " 21.702534414210707,\n",
       " 21.72556098240043,\n",
       " 21.748563170931547,\n",
       " 21.77154105707724,\n",
       " 21.79449471770337,\n",
       " 21.817424229271428,\n",
       " 21.840329667841555,\n",
       " 21.863211109075447,\n",
       " 21.88606862823929,\n",
       " 21.908902300206645,\n",
       " 21.93171219946131,\n",
       " 21.95449840010015,\n",
       " 21.97726097583591,\n",
       " 22.0,\n",
       " 22.02271554554524,\n",
       " 22.045407685048602,\n",
       " 22.06807649071391,\n",
       " 22.090722034374522,\n",
       " 22.11334438749598,\n",
       " 22.135943621178654,\n",
       " 22.15851980616034,\n",
       " 22.181073012818835,\n",
       " 22.20360331117452,\n",
       " 22.22611077089287,\n",
       " 22.24859546128699,\n",
       " 22.271057451320086,\n",
       " 22.293496809607955,\n",
       " 22.315913604421397,\n",
       " 22.338307903688676,\n",
       " 22.360679774997898,\n",
       " 22.38302928559939,\n",
       " 22.40535650240808,\n",
       " 22.427661492005804,\n",
       " 22.44994432064365,\n",
       " 22.47220505424423,\n",
       " 22.494443758403985,\n",
       " 22.516660498395403,\n",
       " 22.538855339169288,\n",
       " 22.561028345356956,\n",
       " 22.58317958127243,\n",
       " 22.60530911091463,\n",
       " 22.627416997969522,\n",
       " 22.64950330581225,\n",
       " 22.67156809750927,\n",
       " 22.693611435820433,\n",
       " 22.715633383201094,\n",
       " 22.737634001804146,\n",
       " 22.759613353482084,\n",
       " 22.781571499789035,\n",
       " 22.80350850198276,\n",
       " 22.825424421026653,\n",
       " 22.847319317591726,\n",
       " 22.869193252058544,\n",
       " 22.891046284519195,\n",
       " 22.9128784747792,\n",
       " 22.93468988235943,\n",
       " 22.956480566497994,\n",
       " 22.978250586152114,\n",
       " 23.0,\n",
       " 23.021728866442675,\n",
       " 23.043437243605826,\n",
       " 23.065125189341593,\n",
       " 23.08679276123039,\n",
       " 23.108440016582687,\n",
       " 23.130067012440755,\n",
       " 23.15167380558045,\n",
       " 23.173260452512935,\n",
       " 23.194827009486403,\n",
       " 23.2163735324878,\n",
       " 23.2379000772445,\n",
       " 23.259406699226016,\n",
       " 23.280893453645632,\n",
       " 23.302360395462088,\n",
       " 23.323807579381203,\n",
       " 23.345235059857504,\n",
       " 23.366642891095847,\n",
       " 23.388031127053,\n",
       " 23.40939982143925,\n",
       " 23.430749027719962,\n",
       " 23.45207879911715,\n",
       " 23.473389188611005,\n",
       " 23.49468024894146,\n",
       " 23.515952032609693,\n",
       " 23.53720459187964,\n",
       " 23.558437978779494,\n",
       " 23.57965224510319,\n",
       " 23.600847442411894,\n",
       " 23.62202362203543,\n",
       " 23.643180835073778,\n",
       " 23.664319132398465,\n",
       " 23.68543856465402,\n",
       " 23.706539182259394,\n",
       " 23.727621035409346,\n",
       " 23.748684174075834,\n",
       " 23.769728648009426,\n",
       " 23.790754506740637,\n",
       " 23.811761799581316,\n",
       " 23.83275057562597,\n",
       " 23.853720883753127,\n",
       " 23.874672772626646,\n",
       " 23.895606290697042,\n",
       " 23.916521486202797,\n",
       " 23.93741840717165,\n",
       " 23.958297101421877,\n",
       " 23.979157616563597,\n",
       " 24.0,\n",
       " 24.020824298928627,\n",
       " 24.041630560342615,\n",
       " 24.06241883103193,\n",
       " 24.08318915758459,\n",
       " 24.1039415863879,\n",
       " 24.124676163629637,\n",
       " 24.145392935299274,\n",
       " 24.166091947189145,\n",
       " 24.186773244895647,\n",
       " 24.20743687382041,\n",
       " 24.228082879171435,\n",
       " 24.24871130596428,\n",
       " 24.269322199023193,\n",
       " 24.289915602982237,\n",
       " 24.310491562286437,\n",
       " 24.331050121192877,\n",
       " 24.351591323771842,\n",
       " 24.372115213907882,\n",
       " 24.392621835300936,\n",
       " 24.413111231467404,\n",
       " 24.43358344574123,\n",
       " 24.454038521274967,\n",
       " 24.474476501040833,\n",
       " 24.49489742783178,\n",
       " 24.515301344262525,\n",
       " 24.535688292770594,\n",
       " 24.55605831561735,\n",
       " 24.576411454889016,\n",
       " 24.596747752497688,\n",
       " 24.61706725018234,\n",
       " 24.63736998950984,\n",
       " 24.657656011875904,\n",
       " 24.677925358506133,\n",
       " 24.698178070456937,\n",
       " 24.71841418861655,\n",
       " 24.73863375370596,\n",
       " 24.758836806279895,\n",
       " 24.779023386727733,\n",
       " 24.79919353527449,\n",
       " 24.819347291981714,\n",
       " 24.839484696748443,\n",
       " 24.859605789312106,\n",
       " 24.879710609249457,\n",
       " 24.899799195977465,\n",
       " 24.919871588754223,\n",
       " 24.939927826679853,\n",
       " 24.95996794869737,\n",
       " 24.979991993593593,\n",
       " 25.0,\n",
       " 25.019992006393608,\n",
       " 25.03996805109783,\n",
       " 25.059928172283335,\n",
       " 25.079872407968907,\n",
       " 25.099800796022265,\n",
       " 25.11971337416094,\n",
       " 25.13961017995307,\n",
       " 25.15949125081825,\n",
       " 25.179356624028344,\n",
       " 25.199206336708304,\n",
       " 25.219040425836983,\n",
       " 25.238858928247925,\n",
       " 25.25866188063018,\n",
       " 25.278449319529077,\n",
       " 25.298221281347036,\n",
       " 25.317977802344327,\n",
       " 25.337718918639855,\n",
       " 25.357444666211933,\n",
       " 25.37715508089904,\n",
       " 25.39685019840059,\n",
       " 25.41653005427767,\n",
       " 25.436194683953808,\n",
       " 25.45584412271571,\n",
       " 25.475478405713993,\n",
       " 25.495097567963924,\n",
       " 25.514701644346147,\n",
       " 25.534290669607408,\n",
       " 25.553864678361276,\n",
       " 25.573423705088842,\n",
       " 25.592967784139454,\n",
       " 25.612496949731394,\n",
       " 25.632011235952593,\n",
       " 25.65151067676132,\n",
       " 25.67099530598687,\n",
       " 25.69046515733026,\n",
       " 25.709920264364882,\n",
       " 25.729360660537214,\n",
       " 25.748786379167466,\n",
       " 25.768197453450252,\n",
       " 25.787593916455254,\n",
       " 25.80697580112788,\n",
       " 25.826343140289914,\n",
       " 25.84569596664017,\n",
       " 25.865034312755125,\n",
       " 25.88435821108957,\n",
       " 25.903667693977237,\n",
       " 25.92296279363144,\n",
       " 25.942243542145693,\n",
       " 25.96150997149434,\n",
       " 25.98076211353316,\n",
       " 26.0,\n",
       " 26.019223662515376,\n",
       " 26.038433132583073,\n",
       " 26.057628441590765,\n",
       " 26.076809620810597,\n",
       " 26.095976701399778,\n",
       " 26.115129714401192,\n",
       " 26.13426869074396,\n",
       " 26.153393661244042,\n",
       " 26.1725046566048,\n",
       " 26.19160170741759,\n",
       " 26.210684844162312,\n",
       " 26.229754097208,\n",
       " 26.248809496813376,\n",
       " 26.267851073127396,\n",
       " 26.28687885618983,\n",
       " 26.30589287593181,\n",
       " 26.324893162176366,\n",
       " 26.343879744638983,\n",
       " 26.362852652928137,\n",
       " 26.38181191654584,\n",
       " 26.40075756488817,\n",
       " 26.419689627245813,\n",
       " 26.43860813280457,\n",
       " 26.457513110645905,\n",
       " 26.476404589747453,\n",
       " 26.49528259898354,\n",
       " 26.514147167125703,\n",
       " 26.5329983228432,\n",
       " 26.551836094703507,\n",
       " 26.570660511172846,\n",
       " 26.589471600616662,\n",
       " 26.60826939130014,\n",
       " 26.627053911388696,\n",
       " 26.645825188948457,\n",
       " 26.664583251946766,\n",
       " 26.68332812825267,\n",
       " 26.70205984563738,\n",
       " 26.720778431774775,\n",
       " 26.739483914241877,\n",
       " 26.758176320519304,\n",
       " 26.77685567799177,\n",
       " 26.795522013948524,\n",
       " 26.814175355583846,\n",
       " 26.832815729997478,\n",
       " 26.851443164195103,\n",
       " 26.870057685088806,\n",
       " 26.888659319497503,\n",
       " 26.90724809414742,\n",
       " 26.92582403567252,\n",
       " 26.94438717061496,\n",
       " 26.962937525425527,\n",
       " 26.981475126464083,\n",
       " 27.0,\n",
       " 27.018512172212592,\n",
       " 27.03701166919155,\n",
       " 27.055498516937366,\n",
       " 27.073972741361768,\n",
       " 27.09243436828813,\n",
       " 27.110883423451916,\n",
       " 27.129319932501073,\n",
       " 27.147743920996454,\n",
       " 27.16615541441225,\n",
       " 27.184554438136374,\n",
       " 27.202941017470888,\n",
       " 27.2213151776324,\n",
       " 27.23967694375247,\n",
       " 27.258026340878022,\n",
       " 27.27636339397171,\n",
       " 27.294688127912362,\n",
       " 27.313000567495326,\n",
       " 27.331300737432898,\n",
       " 27.349588662354687,\n",
       " 27.367864366808018,\n",
       " 27.386127875258307,\n",
       " 27.40437921208944,\n",
       " 27.422618401604176,\n",
       " 27.440845468024488,\n",
       " 27.459060435491963,\n",
       " 27.477263328068172,\n",
       " 27.49545416973504,\n",
       " 27.51363298439521,\n",
       " 27.53179979587241,\n",
       " 27.54995462791182,\n",
       " 27.568097504180443,\n",
       " 27.586228448267445,\n",
       " 27.60434748368452,\n",
       " 27.622454633866266,\n",
       " 27.640549922170507,\n",
       " 27.65863337187866,\n",
       " 27.676705006196094,\n",
       " 27.694764848252458,\n",
       " 27.712812921102035,\n",
       " 27.730849247724095,\n",
       " 27.748873851023216,\n",
       " 27.76688675382964,\n",
       " 27.784887978899608,\n",
       " 27.80287754891569,\n",
       " 27.820855486487112,\n",
       " 27.83882181415011,\n",
       " 27.85677655436824,\n",
       " 27.874719729532707,\n",
       " 27.892651361962706,\n",
       " 27.910571473905726,\n",
       " 27.92848008753788,\n",
       " 27.94637722496424,\n",
       " 27.964262908219126,\n",
       " 27.982137159266443,\n",
       " 28.0,\n",
       " 28.0178514522438,\n",
       " 28.035691537752374,\n",
       " 28.053520278211074,\n",
       " 28.071337695236398,\n",
       " 28.089143810376278,\n",
       " 28.106938645110393,\n",
       " 28.124722220850465,\n",
       " 28.142494558940577,\n",
       " 28.160255680657446,\n",
       " 28.178005607210743,\n",
       " 28.19574435974337,\n",
       " 28.21347195933177,\n",
       " 28.231188426986208,\n",
       " 28.24889378365107,\n",
       " 28.26658805020514,\n",
       " 28.284271247461902,\n",
       " 28.30194339616981,\n",
       " 28.319604517012593,\n",
       " 28.337254630609507,\n",
       " 28.35489375751565,\n",
       " 28.372521918222215,\n",
       " 28.39013913315678,\n",
       " 28.407745422683583,\n",
       " 28.42534080710379,\n",
       " 28.442925306655784,\n",
       " 28.460498941515414,\n",
       " 28.478061731796284,\n",
       " 28.495613697550013,\n",
       " 28.513154858766505,\n",
       " 28.53068523537421,\n",
       " 28.548204847240395,\n",
       " 28.5657137141714,\n",
       " 28.583211855912904,\n",
       " 28.600699292150182,\n",
       " 28.61817604250837,\n",
       " 28.635642126552707,\n",
       " 28.653097563788805,\n",
       " 28.6705423736629,\n",
       " 28.687976575562104,\n",
       " 28.705400188814647,\n",
       " 28.722813232690143,\n",
       " 28.74021572639983,\n",
       " 28.75760768909681,\n",
       " 28.77498913987632,\n",
       " 28.792360097775937,\n",
       " 28.809720581775867,\n",
       " 28.827070610799147,\n",
       " 28.844410203711913,\n",
       " 28.861739379323623,\n",
       " 28.879058156387302,\n",
       " 28.89636655359978,\n",
       " 28.91366458960192,\n",
       " 28.930952282978865,\n",
       " 28.948229652260256,\n",
       " 28.965496715920477,\n",
       " 28.982753492378876,\n",
       " 29.0,\n",
       " 29.017236257093817,\n",
       " 29.03446228191595,\n",
       " 29.0516780926679,\n",
       " 29.068883707497267,\n",
       " 29.086079144497972,\n",
       " 29.103264421710495,\n",
       " 29.120439557122072,\n",
       " 29.13760456866693,\n",
       " 29.154759474226502,\n",
       " 29.171904291629644,\n",
       " 29.189039038652847,\n",
       " 29.206163733020468,\n",
       " 29.223278392404914,\n",
       " 29.24038303442689,\n",
       " 29.257477676655586,\n",
       " 29.274562336608895,\n",
       " 29.29163703175362,\n",
       " 29.30870177950569,\n",
       " 29.32575659723036,\n",
       " 29.34280150224242,\n",
       " 29.359836511806396,\n",
       " 29.376861643136763,\n",
       " 29.393876913398138,\n",
       " 29.410882339705484,\n",
       " 29.427877939124322,\n",
       " 29.444863728670914,\n",
       " 29.46183972531247,\n",
       " 29.478805945967352,\n",
       " 29.49576240750525,\n",
       " 29.512709126747414,\n",
       " 29.5296461204668,\n",
       " 29.546573405388315,\n",
       " 29.563490998188964,\n",
       " 29.58039891549808,\n",
       " 29.597297173897484,\n",
       " 29.614185789921695,\n",
       " 29.631064780058107,\n",
       " 29.647934160747187,\n",
       " 29.664793948382652,\n",
       " 29.68164415931166,\n",
       " 29.698484809834994,\n",
       " 29.715315916207253,\n",
       " 29.732137494637012,\n",
       " 29.748949561287034,\n",
       " 29.765752132274432,\n",
       " 29.782545223670862,\n",
       " 29.79932885150268,\n",
       " 29.816103031751148,\n",
       " 29.832867780352597,\n",
       " 29.8496231131986,\n",
       " 29.866369046136157,\n",
       " 29.88310559496787,\n",
       " 29.899832775452108,\n",
       " 29.916550603303182,\n",
       " 29.93325909419153,\n",
       " 29.949958263743873,\n",
       " 29.966648127543394,\n",
       " 29.9833287011299,\n",
       " 30.0,\n",
       " 30.01666203960727,\n",
       " 30.033314835362415,\n",
       " 30.04995840263344,\n",
       " 30.066592756745816,\n",
       " 30.083217912982647,\n",
       " 30.099833886584822,\n",
       " 30.116440692751194,\n",
       " 30.133038346638727,\n",
       " 30.14962686336267,\n",
       " 30.166206257996713,\n",
       " 30.18277654557314,\n",
       " 30.199337741083,\n",
       " 30.215889859476256,\n",
       " 30.23243291566195,\n",
       " 30.24896692450835,\n",
       " 30.265491900843113,\n",
       " 30.28200785945344,\n",
       " 30.298514815086232,\n",
       " 30.315012782448235,\n",
       " 30.331501776206203,\n",
       " 30.347981810987037,\n",
       " 30.364452901377952,\n",
       " 30.380915061926625,\n",
       " 30.397368307141328,\n",
       " 30.4138126514911,\n",
       " 30.430248109405877,\n",
       " 30.44667469527666,\n",
       " 30.463092423455635,\n",
       " 30.479501308256342,\n",
       " 30.495901363953813,\n",
       " 30.512292604784715,\n",
       " 30.528675044947494,\n",
       " 30.54504869860253,\n",
       " 30.56141357987225,\n",
       " 30.577769702841312,\n",
       " 30.59411708155671,\n",
       " 30.610455730027933,\n",
       " 30.62678566222711,\n",
       " 30.643106892089126,\n",
       " 30.659419433511783,\n",
       " 30.675723300355934,\n",
       " 30.692018506445613,\n",
       " 30.708305065568176,\n",
       " 30.72458299147443,\n",
       " 30.740852297878796,\n",
       " 30.757112998459398,\n",
       " 30.773365106858236,\n",
       " 30.789608636681304,\n",
       " 30.805843601498726,\n",
       " 30.822070014844883,\n",
       " 30.83828789021855,\n",
       " 30.854497241083024,\n",
       " 30.870698080866262,\n",
       " 30.886890422961002,\n",
       " 30.903074280724887,\n",
       " 30.919249667480614,\n",
       " 30.93541659651604,\n",
       " 30.95157508108432,\n",
       " 30.967725134404045,\n",
       " 30.983866769659336,\n",
       " 31.0,\n",
       " 31.016124838541646,\n",
       " 31.0322412983658,\n",
       " 31.04834939252005,\n",
       " 31.064449134018133,\n",
       " 31.080540535840107,\n",
       " 31.096623610932426,\n",
       " 31.11269837220809,\n",
       " 31.12876483254676,\n",
       " 31.144823004794873,\n",
       " 31.160872901765767,\n",
       " 31.176914536239792,\n",
       " 31.192947920964443,\n",
       " 31.20897306865447,\n",
       " 31.22498999199199,\n",
       " 31.240998703626616,\n",
       " 31.25699921617557,\n",
       " 31.272991542223778,\n",
       " 31.28897569432403,\n",
       " 31.304951684997057,\n",
       " 31.32091952673165,\n",
       " 31.336879231984796,\n",
       " 31.352830813181765,\n",
       " 31.368774282716245,\n",
       " 31.38470965295043,\n",
       " 31.400636936215164,\n",
       " 31.416556144810016,\n",
       " 31.432467291003423,\n",
       " 31.448370387032774,\n",
       " 31.464265445104548,\n",
       " 31.480152477394387,\n",
       " 31.496031496047245,\n",
       " 31.51190251317746,\n",
       " 31.52776554086889,\n",
       " 31.54362059117501,\n",
       " 31.559467676119,\n",
       " 31.575306807693888,\n",
       " 31.591137997862628,\n",
       " 31.606961258558215,\n",
       " ...]"
      ]
     },
     "execution_count": 191,
     "metadata": {},
     "output_type": "execute_result"
    }
   ],
   "execution_count": 191
  },
  {
   "metadata": {
    "ExecuteTime": {
     "end_time": "2025-07-26T13:31:10.346594Z",
     "start_time": "2025-07-26T13:31:10.339118Z"
    }
   },
   "cell_type": "code",
   "source": "kareAl(sayilar)",
   "id": "ffde8c79725c4520",
   "outputs": [
    {
     "data": {
      "text/plain": [
       "[0,\n",
       " 1,\n",
       " 4,\n",
       " 9,\n",
       " 16,\n",
       " 25,\n",
       " 36,\n",
       " 49,\n",
       " 64,\n",
       " 81,\n",
       " 100,\n",
       " 121,\n",
       " 144,\n",
       " 169,\n",
       " 196,\n",
       " 225,\n",
       " 256,\n",
       " 289,\n",
       " 324,\n",
       " 361,\n",
       " 400,\n",
       " 441,\n",
       " 484,\n",
       " 529,\n",
       " 576,\n",
       " 625,\n",
       " 676,\n",
       " 729,\n",
       " 784,\n",
       " 841,\n",
       " 900,\n",
       " 961,\n",
       " 1024,\n",
       " 1089,\n",
       " 1156,\n",
       " 1225,\n",
       " 1296,\n",
       " 1369,\n",
       " 1444,\n",
       " 1521,\n",
       " 1600,\n",
       " 1681,\n",
       " 1764,\n",
       " 1849,\n",
       " 1936,\n",
       " 2025,\n",
       " 2116,\n",
       " 2209,\n",
       " 2304,\n",
       " 2401,\n",
       " 2500,\n",
       " 2601,\n",
       " 2704,\n",
       " 2809,\n",
       " 2916,\n",
       " 3025,\n",
       " 3136,\n",
       " 3249,\n",
       " 3364,\n",
       " 3481,\n",
       " 3600,\n",
       " 3721,\n",
       " 3844,\n",
       " 3969,\n",
       " 4096,\n",
       " 4225,\n",
       " 4356,\n",
       " 4489,\n",
       " 4624,\n",
       " 4761,\n",
       " 4900,\n",
       " 5041,\n",
       " 5184,\n",
       " 5329,\n",
       " 5476,\n",
       " 5625,\n",
       " 5776,\n",
       " 5929,\n",
       " 6084,\n",
       " 6241,\n",
       " 6400,\n",
       " 6561,\n",
       " 6724,\n",
       " 6889,\n",
       " 7056,\n",
       " 7225,\n",
       " 7396,\n",
       " 7569,\n",
       " 7744,\n",
       " 7921,\n",
       " 8100,\n",
       " 8281,\n",
       " 8464,\n",
       " 8649,\n",
       " 8836,\n",
       " 9025,\n",
       " 9216,\n",
       " 9409,\n",
       " 9604,\n",
       " 9801,\n",
       " 10000,\n",
       " 10201,\n",
       " 10404,\n",
       " 10609,\n",
       " 10816,\n",
       " 11025,\n",
       " 11236,\n",
       " 11449,\n",
       " 11664,\n",
       " 11881,\n",
       " 12100,\n",
       " 12321,\n",
       " 12544,\n",
       " 12769,\n",
       " 12996,\n",
       " 13225,\n",
       " 13456,\n",
       " 13689,\n",
       " 13924,\n",
       " 14161,\n",
       " 14400,\n",
       " 14641,\n",
       " 14884,\n",
       " 15129,\n",
       " 15376,\n",
       " 15625,\n",
       " 15876,\n",
       " 16129,\n",
       " 16384,\n",
       " 16641,\n",
       " 16900,\n",
       " 17161,\n",
       " 17424,\n",
       " 17689,\n",
       " 17956,\n",
       " 18225,\n",
       " 18496,\n",
       " 18769,\n",
       " 19044,\n",
       " 19321,\n",
       " 19600,\n",
       " 19881,\n",
       " 20164,\n",
       " 20449,\n",
       " 20736,\n",
       " 21025,\n",
       " 21316,\n",
       " 21609,\n",
       " 21904,\n",
       " 22201,\n",
       " 22500,\n",
       " 22801,\n",
       " 23104,\n",
       " 23409,\n",
       " 23716,\n",
       " 24025,\n",
       " 24336,\n",
       " 24649,\n",
       " 24964,\n",
       " 25281,\n",
       " 25600,\n",
       " 25921,\n",
       " 26244,\n",
       " 26569,\n",
       " 26896,\n",
       " 27225,\n",
       " 27556,\n",
       " 27889,\n",
       " 28224,\n",
       " 28561,\n",
       " 28900,\n",
       " 29241,\n",
       " 29584,\n",
       " 29929,\n",
       " 30276,\n",
       " 30625,\n",
       " 30976,\n",
       " 31329,\n",
       " 31684,\n",
       " 32041,\n",
       " 32400,\n",
       " 32761,\n",
       " 33124,\n",
       " 33489,\n",
       " 33856,\n",
       " 34225,\n",
       " 34596,\n",
       " 34969,\n",
       " 35344,\n",
       " 35721,\n",
       " 36100,\n",
       " 36481,\n",
       " 36864,\n",
       " 37249,\n",
       " 37636,\n",
       " 38025,\n",
       " 38416,\n",
       " 38809,\n",
       " 39204,\n",
       " 39601,\n",
       " 40000,\n",
       " 40401,\n",
       " 40804,\n",
       " 41209,\n",
       " 41616,\n",
       " 42025,\n",
       " 42436,\n",
       " 42849,\n",
       " 43264,\n",
       " 43681,\n",
       " 44100,\n",
       " 44521,\n",
       " 44944,\n",
       " 45369,\n",
       " 45796,\n",
       " 46225,\n",
       " 46656,\n",
       " 47089,\n",
       " 47524,\n",
       " 47961,\n",
       " 48400,\n",
       " 48841,\n",
       " 49284,\n",
       " 49729,\n",
       " 50176,\n",
       " 50625,\n",
       " 51076,\n",
       " 51529,\n",
       " 51984,\n",
       " 52441,\n",
       " 52900,\n",
       " 53361,\n",
       " 53824,\n",
       " 54289,\n",
       " 54756,\n",
       " 55225,\n",
       " 55696,\n",
       " 56169,\n",
       " 56644,\n",
       " 57121,\n",
       " 57600,\n",
       " 58081,\n",
       " 58564,\n",
       " 59049,\n",
       " 59536,\n",
       " 60025,\n",
       " 60516,\n",
       " 61009,\n",
       " 61504,\n",
       " 62001,\n",
       " 62500,\n",
       " 63001,\n",
       " 63504,\n",
       " 64009,\n",
       " 64516,\n",
       " 65025,\n",
       " 65536,\n",
       " 66049,\n",
       " 66564,\n",
       " 67081,\n",
       " 67600,\n",
       " 68121,\n",
       " 68644,\n",
       " 69169,\n",
       " 69696,\n",
       " 70225,\n",
       " 70756,\n",
       " 71289,\n",
       " 71824,\n",
       " 72361,\n",
       " 72900,\n",
       " 73441,\n",
       " 73984,\n",
       " 74529,\n",
       " 75076,\n",
       " 75625,\n",
       " 76176,\n",
       " 76729,\n",
       " 77284,\n",
       " 77841,\n",
       " 78400,\n",
       " 78961,\n",
       " 79524,\n",
       " 80089,\n",
       " 80656,\n",
       " 81225,\n",
       " 81796,\n",
       " 82369,\n",
       " 82944,\n",
       " 83521,\n",
       " 84100,\n",
       " 84681,\n",
       " 85264,\n",
       " 85849,\n",
       " 86436,\n",
       " 87025,\n",
       " 87616,\n",
       " 88209,\n",
       " 88804,\n",
       " 89401,\n",
       " 90000,\n",
       " 90601,\n",
       " 91204,\n",
       " 91809,\n",
       " 92416,\n",
       " 93025,\n",
       " 93636,\n",
       " 94249,\n",
       " 94864,\n",
       " 95481,\n",
       " 96100,\n",
       " 96721,\n",
       " 97344,\n",
       " 97969,\n",
       " 98596,\n",
       " 99225,\n",
       " 99856,\n",
       " 100489,\n",
       " 101124,\n",
       " 101761,\n",
       " 102400,\n",
       " 103041,\n",
       " 103684,\n",
       " 104329,\n",
       " 104976,\n",
       " 105625,\n",
       " 106276,\n",
       " 106929,\n",
       " 107584,\n",
       " 108241,\n",
       " 108900,\n",
       " 109561,\n",
       " 110224,\n",
       " 110889,\n",
       " 111556,\n",
       " 112225,\n",
       " 112896,\n",
       " 113569,\n",
       " 114244,\n",
       " 114921,\n",
       " 115600,\n",
       " 116281,\n",
       " 116964,\n",
       " 117649,\n",
       " 118336,\n",
       " 119025,\n",
       " 119716,\n",
       " 120409,\n",
       " 121104,\n",
       " 121801,\n",
       " 122500,\n",
       " 123201,\n",
       " 123904,\n",
       " 124609,\n",
       " 125316,\n",
       " 126025,\n",
       " 126736,\n",
       " 127449,\n",
       " 128164,\n",
       " 128881,\n",
       " 129600,\n",
       " 130321,\n",
       " 131044,\n",
       " 131769,\n",
       " 132496,\n",
       " 133225,\n",
       " 133956,\n",
       " 134689,\n",
       " 135424,\n",
       " 136161,\n",
       " 136900,\n",
       " 137641,\n",
       " 138384,\n",
       " 139129,\n",
       " 139876,\n",
       " 140625,\n",
       " 141376,\n",
       " 142129,\n",
       " 142884,\n",
       " 143641,\n",
       " 144400,\n",
       " 145161,\n",
       " 145924,\n",
       " 146689,\n",
       " 147456,\n",
       " 148225,\n",
       " 148996,\n",
       " 149769,\n",
       " 150544,\n",
       " 151321,\n",
       " 152100,\n",
       " 152881,\n",
       " 153664,\n",
       " 154449,\n",
       " 155236,\n",
       " 156025,\n",
       " 156816,\n",
       " 157609,\n",
       " 158404,\n",
       " 159201,\n",
       " 160000,\n",
       " 160801,\n",
       " 161604,\n",
       " 162409,\n",
       " 163216,\n",
       " 164025,\n",
       " 164836,\n",
       " 165649,\n",
       " 166464,\n",
       " 167281,\n",
       " 168100,\n",
       " 168921,\n",
       " 169744,\n",
       " 170569,\n",
       " 171396,\n",
       " 172225,\n",
       " 173056,\n",
       " 173889,\n",
       " 174724,\n",
       " 175561,\n",
       " 176400,\n",
       " 177241,\n",
       " 178084,\n",
       " 178929,\n",
       " 179776,\n",
       " 180625,\n",
       " 181476,\n",
       " 182329,\n",
       " 183184,\n",
       " 184041,\n",
       " 184900,\n",
       " 185761,\n",
       " 186624,\n",
       " 187489,\n",
       " 188356,\n",
       " 189225,\n",
       " 190096,\n",
       " 190969,\n",
       " 191844,\n",
       " 192721,\n",
       " 193600,\n",
       " 194481,\n",
       " 195364,\n",
       " 196249,\n",
       " 197136,\n",
       " 198025,\n",
       " 198916,\n",
       " 199809,\n",
       " 200704,\n",
       " 201601,\n",
       " 202500,\n",
       " 203401,\n",
       " 204304,\n",
       " 205209,\n",
       " 206116,\n",
       " 207025,\n",
       " 207936,\n",
       " 208849,\n",
       " 209764,\n",
       " 210681,\n",
       " 211600,\n",
       " 212521,\n",
       " 213444,\n",
       " 214369,\n",
       " 215296,\n",
       " 216225,\n",
       " 217156,\n",
       " 218089,\n",
       " 219024,\n",
       " 219961,\n",
       " 220900,\n",
       " 221841,\n",
       " 222784,\n",
       " 223729,\n",
       " 224676,\n",
       " 225625,\n",
       " 226576,\n",
       " 227529,\n",
       " 228484,\n",
       " 229441,\n",
       " 230400,\n",
       " 231361,\n",
       " 232324,\n",
       " 233289,\n",
       " 234256,\n",
       " 235225,\n",
       " 236196,\n",
       " 237169,\n",
       " 238144,\n",
       " 239121,\n",
       " 240100,\n",
       " 241081,\n",
       " 242064,\n",
       " 243049,\n",
       " 244036,\n",
       " 245025,\n",
       " 246016,\n",
       " 247009,\n",
       " 248004,\n",
       " 249001,\n",
       " 250000,\n",
       " 251001,\n",
       " 252004,\n",
       " 253009,\n",
       " 254016,\n",
       " 255025,\n",
       " 256036,\n",
       " 257049,\n",
       " 258064,\n",
       " 259081,\n",
       " 260100,\n",
       " 261121,\n",
       " 262144,\n",
       " 263169,\n",
       " 264196,\n",
       " 265225,\n",
       " 266256,\n",
       " 267289,\n",
       " 268324,\n",
       " 269361,\n",
       " 270400,\n",
       " 271441,\n",
       " 272484,\n",
       " 273529,\n",
       " 274576,\n",
       " 275625,\n",
       " 276676,\n",
       " 277729,\n",
       " 278784,\n",
       " 279841,\n",
       " 280900,\n",
       " 281961,\n",
       " 283024,\n",
       " 284089,\n",
       " 285156,\n",
       " 286225,\n",
       " 287296,\n",
       " 288369,\n",
       " 289444,\n",
       " 290521,\n",
       " 291600,\n",
       " 292681,\n",
       " 293764,\n",
       " 294849,\n",
       " 295936,\n",
       " 297025,\n",
       " 298116,\n",
       " 299209,\n",
       " 300304,\n",
       " 301401,\n",
       " 302500,\n",
       " 303601,\n",
       " 304704,\n",
       " 305809,\n",
       " 306916,\n",
       " 308025,\n",
       " 309136,\n",
       " 310249,\n",
       " 311364,\n",
       " 312481,\n",
       " 313600,\n",
       " 314721,\n",
       " 315844,\n",
       " 316969,\n",
       " 318096,\n",
       " 319225,\n",
       " 320356,\n",
       " 321489,\n",
       " 322624,\n",
       " 323761,\n",
       " 324900,\n",
       " 326041,\n",
       " 327184,\n",
       " 328329,\n",
       " 329476,\n",
       " 330625,\n",
       " 331776,\n",
       " 332929,\n",
       " 334084,\n",
       " 335241,\n",
       " 336400,\n",
       " 337561,\n",
       " 338724,\n",
       " 339889,\n",
       " 341056,\n",
       " 342225,\n",
       " 343396,\n",
       " 344569,\n",
       " 345744,\n",
       " 346921,\n",
       " 348100,\n",
       " 349281,\n",
       " 350464,\n",
       " 351649,\n",
       " 352836,\n",
       " 354025,\n",
       " 355216,\n",
       " 356409,\n",
       " 357604,\n",
       " 358801,\n",
       " 360000,\n",
       " 361201,\n",
       " 362404,\n",
       " 363609,\n",
       " 364816,\n",
       " 366025,\n",
       " 367236,\n",
       " 368449,\n",
       " 369664,\n",
       " 370881,\n",
       " 372100,\n",
       " 373321,\n",
       " 374544,\n",
       " 375769,\n",
       " 376996,\n",
       " 378225,\n",
       " 379456,\n",
       " 380689,\n",
       " 381924,\n",
       " 383161,\n",
       " 384400,\n",
       " 385641,\n",
       " 386884,\n",
       " 388129,\n",
       " 389376,\n",
       " 390625,\n",
       " 391876,\n",
       " 393129,\n",
       " 394384,\n",
       " 395641,\n",
       " 396900,\n",
       " 398161,\n",
       " 399424,\n",
       " 400689,\n",
       " 401956,\n",
       " 403225,\n",
       " 404496,\n",
       " 405769,\n",
       " 407044,\n",
       " 408321,\n",
       " 409600,\n",
       " 410881,\n",
       " 412164,\n",
       " 413449,\n",
       " 414736,\n",
       " 416025,\n",
       " 417316,\n",
       " 418609,\n",
       " 419904,\n",
       " 421201,\n",
       " 422500,\n",
       " 423801,\n",
       " 425104,\n",
       " 426409,\n",
       " 427716,\n",
       " 429025,\n",
       " 430336,\n",
       " 431649,\n",
       " 432964,\n",
       " 434281,\n",
       " 435600,\n",
       " 436921,\n",
       " 438244,\n",
       " 439569,\n",
       " 440896,\n",
       " 442225,\n",
       " 443556,\n",
       " 444889,\n",
       " 446224,\n",
       " 447561,\n",
       " 448900,\n",
       " 450241,\n",
       " 451584,\n",
       " 452929,\n",
       " 454276,\n",
       " 455625,\n",
       " 456976,\n",
       " 458329,\n",
       " 459684,\n",
       " 461041,\n",
       " 462400,\n",
       " 463761,\n",
       " 465124,\n",
       " 466489,\n",
       " 467856,\n",
       " 469225,\n",
       " 470596,\n",
       " 471969,\n",
       " 473344,\n",
       " 474721,\n",
       " 476100,\n",
       " 477481,\n",
       " 478864,\n",
       " 480249,\n",
       " 481636,\n",
       " 483025,\n",
       " 484416,\n",
       " 485809,\n",
       " 487204,\n",
       " 488601,\n",
       " 490000,\n",
       " 491401,\n",
       " 492804,\n",
       " 494209,\n",
       " 495616,\n",
       " 497025,\n",
       " 498436,\n",
       " 499849,\n",
       " 501264,\n",
       " 502681,\n",
       " 504100,\n",
       " 505521,\n",
       " 506944,\n",
       " 508369,\n",
       " 509796,\n",
       " 511225,\n",
       " 512656,\n",
       " 514089,\n",
       " 515524,\n",
       " 516961,\n",
       " 518400,\n",
       " 519841,\n",
       " 521284,\n",
       " 522729,\n",
       " 524176,\n",
       " 525625,\n",
       " 527076,\n",
       " 528529,\n",
       " 529984,\n",
       " 531441,\n",
       " 532900,\n",
       " 534361,\n",
       " 535824,\n",
       " 537289,\n",
       " 538756,\n",
       " 540225,\n",
       " 541696,\n",
       " 543169,\n",
       " 544644,\n",
       " 546121,\n",
       " 547600,\n",
       " 549081,\n",
       " 550564,\n",
       " 552049,\n",
       " 553536,\n",
       " 555025,\n",
       " 556516,\n",
       " 558009,\n",
       " 559504,\n",
       " 561001,\n",
       " 562500,\n",
       " 564001,\n",
       " 565504,\n",
       " 567009,\n",
       " 568516,\n",
       " 570025,\n",
       " 571536,\n",
       " 573049,\n",
       " 574564,\n",
       " 576081,\n",
       " 577600,\n",
       " 579121,\n",
       " 580644,\n",
       " 582169,\n",
       " 583696,\n",
       " 585225,\n",
       " 586756,\n",
       " 588289,\n",
       " 589824,\n",
       " 591361,\n",
       " 592900,\n",
       " 594441,\n",
       " 595984,\n",
       " 597529,\n",
       " 599076,\n",
       " 600625,\n",
       " 602176,\n",
       " 603729,\n",
       " 605284,\n",
       " 606841,\n",
       " 608400,\n",
       " 609961,\n",
       " 611524,\n",
       " 613089,\n",
       " 614656,\n",
       " 616225,\n",
       " 617796,\n",
       " 619369,\n",
       " 620944,\n",
       " 622521,\n",
       " 624100,\n",
       " 625681,\n",
       " 627264,\n",
       " 628849,\n",
       " 630436,\n",
       " 632025,\n",
       " 633616,\n",
       " 635209,\n",
       " 636804,\n",
       " 638401,\n",
       " 640000,\n",
       " 641601,\n",
       " 643204,\n",
       " 644809,\n",
       " 646416,\n",
       " 648025,\n",
       " 649636,\n",
       " 651249,\n",
       " 652864,\n",
       " 654481,\n",
       " 656100,\n",
       " 657721,\n",
       " 659344,\n",
       " 660969,\n",
       " 662596,\n",
       " 664225,\n",
       " 665856,\n",
       " 667489,\n",
       " 669124,\n",
       " 670761,\n",
       " 672400,\n",
       " 674041,\n",
       " 675684,\n",
       " 677329,\n",
       " 678976,\n",
       " 680625,\n",
       " 682276,\n",
       " 683929,\n",
       " 685584,\n",
       " 687241,\n",
       " 688900,\n",
       " 690561,\n",
       " 692224,\n",
       " 693889,\n",
       " 695556,\n",
       " 697225,\n",
       " 698896,\n",
       " 700569,\n",
       " 702244,\n",
       " 703921,\n",
       " 705600,\n",
       " 707281,\n",
       " 708964,\n",
       " 710649,\n",
       " 712336,\n",
       " 714025,\n",
       " 715716,\n",
       " 717409,\n",
       " 719104,\n",
       " 720801,\n",
       " 722500,\n",
       " 724201,\n",
       " 725904,\n",
       " 727609,\n",
       " 729316,\n",
       " 731025,\n",
       " 732736,\n",
       " 734449,\n",
       " 736164,\n",
       " 737881,\n",
       " 739600,\n",
       " 741321,\n",
       " 743044,\n",
       " 744769,\n",
       " 746496,\n",
       " 748225,\n",
       " 749956,\n",
       " 751689,\n",
       " 753424,\n",
       " 755161,\n",
       " 756900,\n",
       " 758641,\n",
       " 760384,\n",
       " 762129,\n",
       " 763876,\n",
       " 765625,\n",
       " 767376,\n",
       " 769129,\n",
       " 770884,\n",
       " 772641,\n",
       " 774400,\n",
       " 776161,\n",
       " 777924,\n",
       " 779689,\n",
       " 781456,\n",
       " 783225,\n",
       " 784996,\n",
       " 786769,\n",
       " 788544,\n",
       " 790321,\n",
       " 792100,\n",
       " 793881,\n",
       " 795664,\n",
       " 797449,\n",
       " 799236,\n",
       " 801025,\n",
       " 802816,\n",
       " 804609,\n",
       " 806404,\n",
       " 808201,\n",
       " 810000,\n",
       " 811801,\n",
       " 813604,\n",
       " 815409,\n",
       " 817216,\n",
       " 819025,\n",
       " 820836,\n",
       " 822649,\n",
       " 824464,\n",
       " 826281,\n",
       " 828100,\n",
       " 829921,\n",
       " 831744,\n",
       " 833569,\n",
       " 835396,\n",
       " 837225,\n",
       " 839056,\n",
       " 840889,\n",
       " 842724,\n",
       " 844561,\n",
       " 846400,\n",
       " 848241,\n",
       " 850084,\n",
       " 851929,\n",
       " 853776,\n",
       " 855625,\n",
       " 857476,\n",
       " 859329,\n",
       " 861184,\n",
       " 863041,\n",
       " 864900,\n",
       " 866761,\n",
       " 868624,\n",
       " 870489,\n",
       " 872356,\n",
       " 874225,\n",
       " 876096,\n",
       " 877969,\n",
       " 879844,\n",
       " 881721,\n",
       " 883600,\n",
       " 885481,\n",
       " 887364,\n",
       " 889249,\n",
       " 891136,\n",
       " 893025,\n",
       " 894916,\n",
       " 896809,\n",
       " 898704,\n",
       " 900601,\n",
       " 902500,\n",
       " 904401,\n",
       " 906304,\n",
       " 908209,\n",
       " 910116,\n",
       " 912025,\n",
       " 913936,\n",
       " 915849,\n",
       " 917764,\n",
       " 919681,\n",
       " 921600,\n",
       " 923521,\n",
       " 925444,\n",
       " 927369,\n",
       " 929296,\n",
       " 931225,\n",
       " 933156,\n",
       " 935089,\n",
       " 937024,\n",
       " 938961,\n",
       " 940900,\n",
       " 942841,\n",
       " 944784,\n",
       " 946729,\n",
       " 948676,\n",
       " 950625,\n",
       " 952576,\n",
       " 954529,\n",
       " 956484,\n",
       " 958441,\n",
       " 960400,\n",
       " 962361,\n",
       " 964324,\n",
       " 966289,\n",
       " 968256,\n",
       " 970225,\n",
       " 972196,\n",
       " 974169,\n",
       " 976144,\n",
       " 978121,\n",
       " 980100,\n",
       " 982081,\n",
       " 984064,\n",
       " 986049,\n",
       " 988036,\n",
       " 990025,\n",
       " 992016,\n",
       " 994009,\n",
       " 996004,\n",
       " 998001,\n",
       " ...]"
      ]
     },
     "execution_count": 192,
     "metadata": {},
     "output_type": "execute_result"
    }
   ],
   "execution_count": 192
  },
  {
   "metadata": {
    "ExecuteTime": {
     "end_time": "2025-07-26T13:32:02.107111Z",
     "start_time": "2025-07-26T13:32:02.104031Z"
    }
   },
   "cell_type": "code",
   "source": [
    "calismaSuresi(kareKok)(sayilar)\n",
    "calismaSuresi(kareAl)(sayilar)"
   ],
   "id": "e5104e076082a2cc",
   "outputs": [
    {
     "name": "stdout",
     "output_type": "stream",
     "text": [
      "Fonksiyonun çalışma süresi: 0.0004258155822753906\n",
      "Fonksiyonun çalışma süresi: 0.00034999847412109375\n"
     ]
    }
   ],
   "execution_count": 196
  },
  {
   "metadata": {
    "ExecuteTime": {
     "end_time": "2025-07-26T13:33:17.360072Z",
     "start_time": "2025-07-26T13:33:17.354894Z"
    }
   },
   "cell_type": "code",
   "source": [
    "#Decorate Örneği\n",
    "import time\n",
    "from math import sqrt\n",
    "#1 Ocak 1970 bu tarihten itibaren bu zamana kadar tüm zamanı yazdırabiliyoruz\n",
    "print(time.time())\n",
    "\n",
    "def calismaSuresi(func):\n",
    "    def inner(*args, **kwargs):\n",
    "        baslangic = time.time()\n",
    "        func(*args, **kwargs)\n",
    "        bitis = time.time()\n",
    "        print(\"Fonksiyonun çalışma süresi:\",bitis - baslangic)\n",
    "    return inner\n",
    "@calismaSuresi\n",
    "def kareKok(sayilar):\n",
    "    sayilar = [sqrt(sayi) for sayi in sayilar]\n",
    "    return sayilar\n",
    "\n",
    "@calismaSuresi\n",
    "def kareAl(sayilar):\n",
    "    sayilar = [sayi ** 2 for sayi in sayilar]\n",
    "    return sayilar\n",
    "\n",
    "sayilar = list(range(10000))\n",
    "\n",
    "kareKok(sayilar) #eğer decorate silersen kendi çalışır decoratesüz\n",
    "kareAl(sayilar) #eğer decorate silersen kendi çalışır decoratesüz"
   ],
   "id": "48bdcfbd2ce6b103",
   "outputs": [
    {
     "name": "stdout",
     "output_type": "stream",
     "text": [
      "1753536797.357009\n",
      "Fonksiyonun çalışma süresi: 0.0004189014434814453\n",
      "Fonksiyonun çalışma süresi: 0.0003399848937988281\n"
     ]
    }
   ],
   "execution_count": 198
  },
  {
   "metadata": {},
   "cell_type": "markdown",
   "source": [
    "İstersem birden fazla dekoratörü bir fonksiyonda kullanabilirim\n",
    "\n",
    "reduce fonksiyonu built in değildir kendisi import edilerek getirilir"
   ],
   "id": "c266b080ebfd2f4d"
  },
  {
   "metadata": {},
   "cell_type": "code",
   "outputs": [],
   "execution_count": null,
   "source": "",
   "id": "a5425d45c5a67e0e"
  }
 ],
 "metadata": {
  "kernelspec": {
   "display_name": "Python 3",
   "language": "python",
   "name": "python3"
  },
  "language_info": {
   "codemirror_mode": {
    "name": "ipython",
    "version": 2
   },
   "file_extension": ".py",
   "mimetype": "text/x-python",
   "name": "python",
   "nbconvert_exporter": "python",
   "pygments_lexer": "ipython2",
   "version": "2.7.6"
  }
 },
 "nbformat": 4,
 "nbformat_minor": 5
}
