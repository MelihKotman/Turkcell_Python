{
 "cells": [
  {
   "metadata": {},
   "cell_type": "markdown",
   "source": "Döngüler (Loops) Örnekleri",
   "id": "980e39de585db37d"
  },
  {
   "cell_type": "code",
   "id": "initial_id",
   "metadata": {
    "collapsed": true,
    "ExecuteTime": {
     "end_time": "2025-07-24T14:02:03.104850Z",
     "start_time": "2025-07-24T14:02:03.100172Z"
    }
   },
   "source": [
    "#Ornek-1\n",
    "\n",
    "sayilar = [10, 15, 22, 33, 44, 55]\n",
    "\n",
    "index = 0\n",
    "print(\"Sayilar bastan sona\")\n",
    "while index < len(sayilar):\n",
    "    print(sayilar[index])\n",
    "    index += 1 #increment\n",
    "\n",
    "print(\"------------\")\n",
    "\n",
    "print(\"Sayilar sondan basa\")\n",
    "index = len(sayilar) - 1 # initialisation\n",
    "while index  >=  0:\n",
    "    print(sayilar[index])\n",
    "    index -= 1 #decrement"
   ],
   "outputs": [
    {
     "name": "stdout",
     "output_type": "stream",
     "text": [
      "Sayilar bastan sona\n",
      "10\n",
      "15\n",
      "22\n",
      "33\n",
      "44\n",
      "55\n",
      "------------\n",
      "Sayilar sondan basa\n",
      "55\n",
      "44\n",
      "33\n",
      "22\n",
      "15\n",
      "10\n"
     ]
    }
   ],
   "execution_count": 11
  },
  {
   "metadata": {
    "ExecuteTime": {
     "end_time": "2025-07-24T14:06:00.197588Z",
     "start_time": "2025-07-24T14:06:00.194308Z"
    }
   },
   "cell_type": "code",
   "source": [
    "#Ornek-2\n",
    "\n",
    "sayi = 1\n",
    "toplam = 0\n",
    "baslangic = sayi\n",
    "bitis = 20\n",
    "\n",
    "while sayi <= bitis:\n",
    "    toplam += sayi\n",
    "    sayi += 1\n",
    "\n",
    "print(\"{}-{} arasındaki tam sayıların toplamı: {}\".format(baslangic,bitis,toplam))\n",
    "print(\"{}-{} arasındaki tam sayıların toplamı: {}\".format(baslangic,bitis, sum(range(baslangic,bitis+1)))) #Tek satırda"
   ],
   "id": "d1ab90162e35cd08",
   "outputs": [
    {
     "name": "stdout",
     "output_type": "stream",
     "text": [
      "1-20 arasındaki tam sayıların toplamı: 210\n",
      "1-20 arasındaki tam sayıların toplamı: 210\n"
     ]
    }
   ],
   "execution_count": 16
  },
  {
   "metadata": {
    "ExecuteTime": {
     "end_time": "2025-07-24T14:10:52.426481Z",
     "start_time": "2025-07-24T14:10:52.422334Z"
    }
   },
   "cell_type": "code",
   "source": [
    "#Ornek-3\n",
    "#İki sayı arasındaki 5 veya 7'ye bölünen sayılar\n",
    "\n",
    "baslangic = 1\n",
    "bitis = 100\n",
    "sayi1 = 91\n",
    "sayi2 = 87\n",
    "sayac = 0\n",
    "while baslangic <= bitis:\n",
    "    if baslangic % sayi1 == 0 or baslangic % sayi2 == 0:\n",
    "        print(baslangic)\n",
    "        sayac += 1\n",
    "    baslangic += 1\n",
    "print(\"{}-{} aralığında {} veya {} satısına bölünebilen {} tane sayı vardır.\".format(baslangic-bitis,bitis,sayi1,sayi2,sayac))"
   ],
   "id": "f083282db6eaff10",
   "outputs": [
    {
     "name": "stdout",
     "output_type": "stream",
     "text": [
      "87\n",
      "91\n",
      "1-100 aralığında 91 veya 87 satısına bölünebilen 2 tane sayı vardır.\n"
     ]
    }
   ],
   "execution_count": 28
  },
  {
   "metadata": {
    "ExecuteTime": {
     "end_time": "2025-07-24T14:20:46.742348Z",
     "start_time": "2025-07-24T14:20:46.739173Z"
    }
   },
   "cell_type": "code",
   "source": [
    "#Ornek-4\n",
    "#Dikdörtgen Oluşturumu\n",
    "\n",
    "kucukkenar = 4\n",
    "buyukkenar = 5\n",
    "i = 0\n",
    "while i < kucukkenar:\n",
    "    j = 0\n",
    "    while j < buyukkenar:\n",
    "        print(\"*\",end = \"\")\n",
    "        j += 1\n",
    "    print()\n",
    "    i += 1"
   ],
   "id": "c7ff7390294c3b0",
   "outputs": [
    {
     "name": "stdout",
     "output_type": "stream",
     "text": [
      "*****\n",
      "*****\n",
      "*****\n",
      "*****\n"
     ]
    }
   ],
   "execution_count": 36
  },
  {
   "metadata": {
    "ExecuteTime": {
     "end_time": "2025-07-24T14:26:57.923700Z",
     "start_time": "2025-07-24T14:26:56.219062Z"
    }
   },
   "cell_type": "code",
   "source": [
    "#Ornek-5\n",
    "#Girilen sayının sayı değerleri toplamını bulan program\n",
    "#785 => 7 + 8 + 5 = 20\n",
    "\n",
    "sayi = int(input(\"Sayı giriniz : \"))\n",
    "\n",
    "sayiDegerleriToplami = 0\n",
    "orj_sayi = sayi\n",
    "sayiDegerleri = []\n",
    "\n",
    "while sayi > 0:\n",
    "    sayiDegerleriToplami += sayi % 10\n",
    "    sayiDegerleri.append(sayi % 10)\n",
    "    sayi //= 10\n",
    "sayiDegerleri.reverse()\n",
    "print(\"{} sayısının basamaklarındaki sayılar {}\".format(orj_sayi,sayiDegerleri))\n",
    "print(\"{} sayısının basamaklarının toplamı = {}\".format(orj_sayi,sum(sayiDegerleri)))"
   ],
   "id": "2f307a79e107976",
   "outputs": [
    {
     "name": "stdout",
     "output_type": "stream",
     "text": [
      "765 sayısının basamaklarındaki sayılar [7, 6, 5]\n",
      "765 sayısının basamaklarının toplamı = 18\n"
     ]
    }
   ],
   "execution_count": 46
  },
  {
   "metadata": {
    "ExecuteTime": {
     "end_time": "2025-07-24T14:31:40.435036Z",
     "start_time": "2025-07-24T14:31:40.431410Z"
    }
   },
   "cell_type": "code",
   "source": [
    "bilgiler = {'Fatih' : 'Bilgisayar Müh.',\n",
    "            'Kaan' : 'Kimya Mühendisi',\n",
    "            'Aliye' : 'Matematik Mühendisi'}\n",
    "for eleman in bilgiler: #Anahtar Ulaşma\n",
    "    print(eleman)\n",
    "for key in bilgiler.keys(): #Anahtar Ulaşma\n",
    "    print(key)\n",
    "for key in bilgiler.values(): #Değerlere Ulaşma\n",
    "    print(key)\n",
    "for item in bilgiler.items(): #Her ikisine paket halinde\n",
    "    print(item)\n",
    "for key, value in bilgiler.items(): #Her ikisini yazdırma ama ayrı ayrı olarak açarak\n",
    "    print(key,value)"
   ],
   "id": "7bd6f6b9990ee5a5",
   "outputs": [
    {
     "name": "stdout",
     "output_type": "stream",
     "text": [
      "Fatih\n",
      "Kaan\n",
      "Aliye\n",
      "Fatih\n",
      "Kaan\n",
      "Aliye\n",
      "Bilgisayar Müh.\n",
      "Kimya Mühendisi\n",
      "Matematik Mühendisi\n",
      "('Fatih', 'Bilgisayar Müh.')\n",
      "('Kaan', 'Kimya Mühendisi')\n",
      "('Aliye', 'Matematik Mühendisi')\n",
      "Fatih Bilgisayar Müh.\n",
      "Kaan Kimya Mühendisi\n",
      "Aliye Matematik Mühendisi\n"
     ]
    }
   ],
   "execution_count": 53
  },
  {
   "metadata": {
    "ExecuteTime": {
     "end_time": "2025-07-24T14:33:57.720161Z",
     "start_time": "2025-07-24T14:33:57.716996Z"
    }
   },
   "cell_type": "code",
   "source": [
    "tupleList = [(21, 51),(41, 54), (-5, 4)]\n",
    "\n",
    "for ikili in tupleList: #Paketli ve paketsiz açma birlikte\n",
    "    sayi1 , sayi2 = ikili\n",
    "    print(ikili)\n",
    "    print(sayi1,sayi2)\n",
    "for sayi1, sayi2 in tupleList: #paketi açarak\n",
    "    print(sayi1,sayi2)\n",
    "\n",
    "#tuple kaçlıysa o kadar üç eleman ekleyerek ne kadar değişken varsa o kadar değişken olmalı ValueError"
   ],
   "id": "1a2729cfc0b79b0d",
   "outputs": [
    {
     "name": "stdout",
     "output_type": "stream",
     "text": [
      "(21, 51)\n",
      "21 51\n",
      "(41, 54)\n",
      "41 54\n",
      "(-5, 4)\n",
      "-5 4\n",
      "21 51\n",
      "41 54\n",
      "-5 4\n"
     ]
    }
   ],
   "execution_count": 56
  },
  {
   "metadata": {
    "ExecuteTime": {
     "end_time": "2025-07-24T14:35:45.093237Z",
     "start_time": "2025-07-24T14:35:45.090400Z"
    }
   },
   "cell_type": "code",
   "source": [
    "tupleL = [('Okan', 28, 1578),(\"Seniyye\", 39, 2067)]\n",
    "\n",
    "for ad, yas, puan in tupleL:\n",
    "    print(ad,yas,puan)"
   ],
   "id": "60369906d689d1df",
   "outputs": [
    {
     "name": "stdout",
     "output_type": "stream",
     "text": [
      "Okan 28 1578\n",
      "Seniyye 39 2067\n"
     ]
    }
   ],
   "execution_count": 57
  },
  {
   "metadata": {
    "ExecuteTime": {
     "end_time": "2025-07-24T14:39:47.475492Z",
     "start_time": "2025-07-24T14:39:47.471365Z"
    }
   },
   "cell_type": "code",
   "source": [
    "#Ornek-1\n",
    "#Listedeki tek ve çift sayıları ayrı ayrı gösteren ve kaç tane olduğunu söyleyen program\n",
    "\n",
    "list = [1,463,89,435,76897,3,23,867,23423,784,756,43,565,34,78,9090,56]\n",
    "tek_sayilar = []\n",
    "cift_sayilar = []\n",
    "\n",
    "for sayi in list:\n",
    "    if sayi % 2 == 0:\n",
    "        cift_sayilar.append(sayi)\n",
    "    else:\n",
    "        tek_sayilar.append(sayi)\n",
    "print(\"{} listesindeki çift sayılar {} ve tek sayılar {}\".format(list,cift_sayilar,tek_sayilar))\n",
    "print(\"{} tane çift, {} tane tek sayı vardır\".format(len(cift_sayilar),len(tek_sayilar)))"
   ],
   "id": "521d69488c697aa1",
   "outputs": [
    {
     "name": "stdout",
     "output_type": "stream",
     "text": [
      "[1, 463, 89, 435, 76897, 3, 23, 867, 23423, 784, 756, 43, 565, 34, 78, 9090, 56] listesindeki çift sayılar [784, 756, 34, 78, 9090, 56] ve tek sayılar [1, 463, 89, 435, 76897, 3, 23, 867, 23423, 43, 565]\n",
      "6 tane çift, 11 tane tek sayı vardır\n"
     ]
    }
   ],
   "execution_count": 60
  },
  {
   "metadata": {
    "ExecuteTime": {
     "end_time": "2025-07-24T14:43:13.177966Z",
     "start_time": "2025-07-24T14:43:13.174476Z"
    }
   },
   "cell_type": "code",
   "source": [
    "#Ornek-2\n",
    "#Çarpım Tablosu\n",
    "\n",
    "for i in range(1, 11):\n",
    "    for j in range(1, 11):\n",
    "        print(\"{} x {} = {}\".format(j,i,i * j), end = \" \")\n",
    "    print()"
   ],
   "id": "68ef4548000805ee",
   "outputs": [
    {
     "name": "stdout",
     "output_type": "stream",
     "text": [
      "1 x 1 = 1 2 x 1 = 2 3 x 1 = 3 4 x 1 = 4 5 x 1 = 5 6 x 1 = 6 7 x 1 = 7 8 x 1 = 8 9 x 1 = 9 10 x 1 = 10 \n",
      "1 x 2 = 2 2 x 2 = 4 3 x 2 = 6 4 x 2 = 8 5 x 2 = 10 6 x 2 = 12 7 x 2 = 14 8 x 2 = 16 9 x 2 = 18 10 x 2 = 20 \n",
      "1 x 3 = 3 2 x 3 = 6 3 x 3 = 9 4 x 3 = 12 5 x 3 = 15 6 x 3 = 18 7 x 3 = 21 8 x 3 = 24 9 x 3 = 27 10 x 3 = 30 \n",
      "1 x 4 = 4 2 x 4 = 8 3 x 4 = 12 4 x 4 = 16 5 x 4 = 20 6 x 4 = 24 7 x 4 = 28 8 x 4 = 32 9 x 4 = 36 10 x 4 = 40 \n",
      "1 x 5 = 5 2 x 5 = 10 3 x 5 = 15 4 x 5 = 20 5 x 5 = 25 6 x 5 = 30 7 x 5 = 35 8 x 5 = 40 9 x 5 = 45 10 x 5 = 50 \n",
      "1 x 6 = 6 2 x 6 = 12 3 x 6 = 18 4 x 6 = 24 5 x 6 = 30 6 x 6 = 36 7 x 6 = 42 8 x 6 = 48 9 x 6 = 54 10 x 6 = 60 \n",
      "1 x 7 = 7 2 x 7 = 14 3 x 7 = 21 4 x 7 = 28 5 x 7 = 35 6 x 7 = 42 7 x 7 = 49 8 x 7 = 56 9 x 7 = 63 10 x 7 = 70 \n",
      "1 x 8 = 8 2 x 8 = 16 3 x 8 = 24 4 x 8 = 32 5 x 8 = 40 6 x 8 = 48 7 x 8 = 56 8 x 8 = 64 9 x 8 = 72 10 x 8 = 80 \n",
      "1 x 9 = 9 2 x 9 = 18 3 x 9 = 27 4 x 9 = 36 5 x 9 = 45 6 x 9 = 54 7 x 9 = 63 8 x 9 = 72 9 x 9 = 81 10 x 9 = 90 \n",
      "1 x 10 = 10 2 x 10 = 20 3 x 10 = 30 4 x 10 = 40 5 x 10 = 50 6 x 10 = 60 7 x 10 = 70 8 x 10 = 80 9 x 10 = 90 10 x 10 = 100 \n"
     ]
    }
   ],
   "execution_count": 69
  },
  {
   "metadata": {
    "ExecuteTime": {
     "end_time": "2025-07-24T14:46:12.442461Z",
     "start_time": "2025-07-24T14:46:12.439013Z"
    }
   },
   "cell_type": "code",
   "source": [
    "#Ornek-3\n",
    "#1 ile 500 arasında karekökü tam sayı olan sayıları yazdıran program\n",
    "from math import sqrt\n",
    "baslangic = 1\n",
    "bitis = 500\n",
    "\n",
    "for i in range(baslangic, bitis):\n",
    "    if int(sqrt(i)) ** 2 == i:\n",
    "        print(\"{} = {}\".format(i, sqrt(i) ** 2))"
   ],
   "id": "70582b6c092ac250",
   "outputs": [
    {
     "name": "stdout",
     "output_type": "stream",
     "text": [
      "1 = 1.0\n",
      "4 = 4.0\n",
      "9 = 9.0\n",
      "16 = 16.0\n",
      "25 = 25.0\n",
      "36 = 36.0\n",
      "49 = 49.0\n",
      "64 = 64.0\n",
      "81 = 81.0\n",
      "100 = 100.0\n",
      "121 = 121.0\n",
      "144 = 144.0\n",
      "169 = 169.0\n",
      "196 = 196.0\n",
      "225 = 225.0\n",
      "256 = 256.0\n",
      "289 = 289.0\n",
      "324 = 324.0\n",
      "361 = 361.0\n",
      "400 = 400.0\n",
      "441 = 441.0\n",
      "484 = 484.0\n"
     ]
    }
   ],
   "execution_count": 72
  },
  {
   "metadata": {},
   "cell_type": "markdown",
   "source": "pass işlemi",
   "id": "f0b41239f757f0cf"
  },
  {
   "metadata": {
    "ExecuteTime": {
     "end_time": "2025-07-24T14:50:20.364352Z",
     "start_time": "2025-07-24T14:50:20.361293Z"
    }
   },
   "cell_type": "code",
   "source": [
    "for sayi in range(1, 50):\n",
    "    pass #Burada bir blok var ama içine daha ne yapacağımı karar vermedim yani sonradan kullanılır"
   ],
   "id": "60e04114841713ce",
   "outputs": [],
   "execution_count": 75
  },
  {
   "metadata": {
    "ExecuteTime": {
     "end_time": "2025-07-24T14:50:18.352144Z",
     "start_time": "2025-07-24T14:50:18.349215Z"
    }
   },
   "cell_type": "code",
   "source": [
    "if i == 0:\n",
    "    pass #Aynısı\n",
    "else:\n",
    "    pass"
   ],
   "id": "ba45c9d0a42db372",
   "outputs": [],
   "execution_count": 74
  },
  {
   "metadata": {
    "ExecuteTime": {
     "end_time": "2025-07-24T14:50:17.009207Z",
     "start_time": "2025-07-24T14:50:17.006256Z"
    }
   },
   "cell_type": "code",
   "source": [
    "if i == 1:\n",
    "    print('Bir şeyler yapılacak')\n",
    "    pass"
   ],
   "id": "8da8c90bc77e2c8e",
   "outputs": [],
   "execution_count": 73
  },
  {
   "metadata": {
    "ExecuteTime": {
     "end_time": "2025-07-24T14:54:53.394801Z",
     "start_time": "2025-07-24T14:54:51.361473Z"
    }
   },
   "cell_type": "code",
   "source": [
    "#Ornek-1\n",
    "#Bir stringin içerisindeki karakterin indeksini bulma\n",
    "isim = \"Kemal Can Kapusuz\"\n",
    "harf = input(\"Bir harf giriniz.\")\n",
    "harf = harf.lower()\n",
    "\n",
    "index = 0\n",
    "\n",
    "for karakter in isim.lower():\n",
    "    if karakter == harf:\n",
    "        print(\"Harfimiz {}, {}. indexte bulundu.\".format(harf,index))\n",
    "        break\n",
    "    index += 1\n",
    "\n",
    "print(isim.index(harf)) #İlk bulduğunun index numarasını söyler"
   ],
   "id": "e27a78997aa8a6b",
   "outputs": [
    {
     "name": "stdout",
     "output_type": "stream",
     "text": [
      "Harfimiz a, 3. indexte bulundu.\n",
      "3\n"
     ]
    }
   ],
   "execution_count": 78
  },
  {
   "metadata": {},
   "cell_type": "markdown",
   "source": "Enumerate Fonksiyonu",
   "id": "64b60a5dcf022a4a"
  },
  {
   "metadata": {
    "ExecuteTime": {
     "end_time": "2025-07-24T15:01:23.459873Z",
     "start_time": "2025-07-24T15:01:23.456578Z"
    }
   },
   "cell_type": "code",
   "source": [
    "isim = \"Galatasaray\"\n",
    "\n",
    "index = 0\n",
    "for harf in isim:\n",
    "    print(\"{} harfi {}. indekste bulunmaktadır.\".format(harf,index))\n",
    "    index += 1"
   ],
   "id": "a01c86f6805a793e",
   "outputs": [
    {
     "name": "stdout",
     "output_type": "stream",
     "text": [
      "G harfi 0. indekste bulunmaktadır.\n",
      "a harfi 1. indekste bulunmaktadır.\n",
      "l harfi 2. indekste bulunmaktadır.\n",
      "a harfi 3. indekste bulunmaktadır.\n",
      "t harfi 4. indekste bulunmaktadır.\n",
      "a harfi 5. indekste bulunmaktadır.\n",
      "s harfi 6. indekste bulunmaktadır.\n",
      "a harfi 7. indekste bulunmaktadır.\n",
      "r harfi 8. indekste bulunmaktadır.\n",
      "a harfi 9. indekste bulunmaktadır.\n",
      "y harfi 10. indekste bulunmaktadır.\n"
     ]
    }
   ],
   "execution_count": 84
  },
  {
   "metadata": {
    "ExecuteTime": {
     "end_time": "2025-07-24T15:02:01.725424Z",
     "start_time": "2025-07-24T15:02:01.722412Z"
    }
   },
   "cell_type": "code",
   "source": [
    "print(isim) #Bir şey oluşturdu ve yerini gösteriyor\n",
    "print(*enumerate(isim))\n",
    "list = (enumerate(isim))"
   ],
   "id": "9656246981f10c74",
   "outputs": [
    {
     "name": "stdout",
     "output_type": "stream",
     "text": [
      "Galatasaray\n",
      "(0, 'G') (1, 'a') (2, 'l') (3, 'a') (4, 't') (5, 'a') (6, 's') (7, 'a') (8, 'r') (9, 'a') (10, 'y')\n"
     ]
    }
   ],
   "execution_count": 87
  },
  {
   "metadata": {
    "ExecuteTime": {
     "end_time": "2025-07-24T15:02:32.395740Z",
     "start_time": "2025-07-24T15:02:32.392685Z"
    }
   },
   "cell_type": "code",
   "source": [
    "for index, harf in list:\n",
    "    print(\"{} harfi {}. indekste bulunmaktadır.\".format(harf,index))\n"
   ],
   "id": "4d898f829b0e6bbb",
   "outputs": [
    {
     "name": "stdout",
     "output_type": "stream",
     "text": [
      "G harfi 0. indekste bulunmaktadır.\n",
      "a harfi 1. indekste bulunmaktadır.\n",
      "l harfi 2. indekste bulunmaktadır.\n",
      "a harfi 3. indekste bulunmaktadır.\n",
      "t harfi 4. indekste bulunmaktadır.\n",
      "a harfi 5. indekste bulunmaktadır.\n",
      "s harfi 6. indekste bulunmaktadır.\n",
      "a harfi 7. indekste bulunmaktadır.\n",
      "r harfi 8. indekste bulunmaktadır.\n",
      "a harfi 9. indekste bulunmaktadır.\n",
      "y harfi 10. indekste bulunmaktadır.\n"
     ]
    }
   ],
   "execution_count": 89
  },
  {
   "metadata": {
    "ExecuteTime": {
     "end_time": "2025-07-24T15:03:21.312932Z",
     "start_time": "2025-07-24T15:03:21.310438Z"
    }
   },
   "cell_type": "code",
   "source": [
    "for index, harf in enumerate(\"Melih Kotman\".lower()):\n",
    "    if harf == 'a':\n",
    "        print(\"{} harfi {}. indekste bulunmaktadır.\".format(harf,index))"
   ],
   "id": "afa495b1364bf630",
   "outputs": [
    {
     "name": "stdout",
     "output_type": "stream",
     "text": [
      "a harfi 10. indekste bulunmaktadır.\n"
     ]
    }
   ],
   "execution_count": 91
  },
  {
   "metadata": {
    "ExecuteTime": {
     "end_time": "2025-07-24T15:03:56.365358Z",
     "start_time": "2025-07-24T15:03:56.362066Z"
    }
   },
   "cell_type": "code",
   "source": [
    "liste = ['a', 5, True, 7.5]\n",
    "\n",
    "for index, deger in enumerate(liste):\n",
    "    print(index, deger)"
   ],
   "id": "6f96628aa91b896a",
   "outputs": [
    {
     "name": "stdout",
     "output_type": "stream",
     "text": [
      "0 a\n",
      "1 5\n",
      "2 True\n",
      "3 7.5\n"
     ]
    }
   ],
   "execution_count": 92
  },
  {
   "metadata": {
    "ExecuteTime": {
     "end_time": "2025-07-24T15:19:37.806549Z",
     "start_time": "2025-07-24T15:19:23.238971Z"
    }
   },
   "cell_type": "code",
   "source": [
    "#Ornek-2\n",
    "\n",
    "#Kullanıcı giriş bilgilerini doğru giren ve girdikten sonra girdiği sayıları küçükten büyüğe kadar girip sıralamasını sağlar\n",
    "username = 'hesapmakinesi'\n",
    "password = 'hesap12345'\n",
    "\n",
    "kullaniciAdiVarMi = False\n",
    "sifreVarMi = False\n",
    "while True:\n",
    "    if not kullaniciAdiVarMi:\n",
    "        _username = input(\"Lütfen kullanıcı adını  giriniz :\")\n",
    "        _password = input(\"Lütfen şifreyi  giriniz :\")\n",
    "\n",
    "    if username != _username:\n",
    "        print(\"Böyle bir kullanıcı yok\")\n",
    "    elif password != _password:\n",
    "        kullaniciAdiVarMi = True\n",
    "        print(\"Lütfen şifrenizi düzelt\")\n",
    "    else:\n",
    "        sayiAdeti = int(input(\"Kaç sayı gireceksin :\"))\n",
    "        sayilar = []\n",
    "        for i in range(sayiAdeti):\n",
    "            sayi = int(input(\"{}. sayıyı giriniz : \".format(i + 1)))\n",
    "            sayilar.append(sayi)\n",
    "        sayilar.sort()\n",
    "        for sayi in sayilar:\n",
    "            print(sayi, end=\" \")\n",
    "        print()\n",
    "        sayilar.sort(reverse=True)\n",
    "        for sayi in sayilar:\n",
    "            print(sayi, end=\" \")\n",
    "        print()\n",
    "        break\n",
    "        break"
   ],
   "id": "5f1d5178933601c1",
   "outputs": [
    {
     "name": "stdout",
     "output_type": "stream",
     "text": [
      "123 1231 45645 567678 \n",
      "567678 45645 1231 123 \n"
     ]
    }
   ],
   "execution_count": 97
  },
  {
   "metadata": {},
   "cell_type": "markdown",
   "source": "BANKA ATM",
   "id": "b6631c172a73050d"
  },
  {
   "metadata": {
    "ExecuteTime": {
     "end_time": "2025-07-24T15:34:41.499743Z",
     "start_time": "2025-07-24T15:34:19.794196Z"
    }
   },
   "cell_type": "code",
   "source": [
    "#Banka ATM\n",
    "\n",
    "#Kartın bir şifresi vardır.\n",
    "# Kartın başlangıçta bakiyesi 500 TL'dir\n",
    "# 3 defa yanlış şifre girilince kart bloke olacaktır\n",
    "# ATM'nin işlem menüsünde para çekme, para yatıram, bakiye sorgulama ve kart iade işlemleri yapılmaktadır.\n",
    "\n",
    "_kartSifre = 1234\n",
    "_bakiye = 500\n",
    "sifreSayac = 3\n",
    "login = False\n",
    "while True:\n",
    "    if login == False:\n",
    "        sifre = int(input(\"Şifrenizi Girin :\"))\n",
    "    if sifre == _kartSifre:\n",
    "        login = True\n",
    "        print(\"\"\"\n",
    "1.Para Çek\n",
    "2.Para Yatır\n",
    "3.Bakiye Sorgula\n",
    "4.Kart İade\n",
    "            \"\"\")\n",
    "        secim = int(input(\"İşlemi Giriniz:\"))\n",
    "        if secim == 1:\n",
    "            miktar = int(input(\"Ne kadar para çekeceksin\"))\n",
    "            if _bakiye < miktar:\n",
    "                print(\"Yeterli paran yok\")\n",
    "                continue\n",
    "            _bakiye -= miktar\n",
    "        elif secim==2:\n",
    "            miktar2 = int(input(\"Ne kadar para yatıracaksın\"))\n",
    "            _bakiye += miktar2\n",
    "        elif secim==3:\n",
    "            print(\"{} TL bakiyeniz bulunmaktadır.\".format(_bakiye))\n",
    "        elif secim==4:\n",
    "            print(\"Kart İade ediliyor.\")\n",
    "            break\n",
    "        else:\n",
    "            print(\"Düzgün seçim yap.\")\n",
    "    else:\n",
    "        sifreSayac -= 1\n",
    "        sifre = int(input(\"Şifrenizi tekrar giriniz:\"))\n",
    "        if sifreSayac == 0:\n",
    "            print(\"Kart bloke edildi.\")\n",
    "            break"
   ],
   "id": "98d5d70ac68f4125",
   "outputs": [
    {
     "name": "stdout",
     "output_type": "stream",
     "text": [
      "\n",
      "1.Para Çek\n",
      "2.Para Yatır\n",
      "3.Bakiye Sorgula\n",
      "4.Kart İade\n",
      "            \n",
      "Yeterli paran yok\n",
      "\n",
      "1.Para Çek\n",
      "2.Para Yatır\n",
      "3.Bakiye Sorgula\n",
      "4.Kart İade\n",
      "            \n",
      "\n",
      "1.Para Çek\n",
      "2.Para Yatır\n",
      "3.Bakiye Sorgula\n",
      "4.Kart İade\n",
      "            \n",
      "154 TL bakiyeniz bulunmaktadır.\n",
      "\n",
      "1.Para Çek\n",
      "2.Para Yatır\n",
      "3.Bakiye Sorgula\n",
      "4.Kart İade\n",
      "            \n",
      "Kart İade ediliyor.\n"
     ]
    }
   ],
   "execution_count": 99
  },
  {
   "metadata": {},
   "cell_type": "markdown",
   "source": "for else döngüsü",
   "id": "abc9de15a8342704"
  },
  {
   "metadata": {
    "ExecuteTime": {
     "end_time": "2025-07-26T13:38:46.927203Z",
     "start_time": "2025-07-26T13:38:46.923790Z"
    }
   },
   "cell_type": "code",
   "source": [
    "sayilar = [3, 5, 11, 23]\n",
    "\n",
    "for sayi in sayilar:\n",
    "    if sayi % 2 == 0:\n",
    "        print(\"{} çift sayıdır\".format(sayi))\n",
    "        break\n",
    "else:\n",
    "    print(\"Çift sayı yoktur\")"
   ],
   "id": "3eb09816159090cd",
   "outputs": [
    {
     "name": "stdout",
     "output_type": "stream",
     "text": [
      "Çift sayı yoktur\n"
     ]
    }
   ],
   "execution_count": 2
  },
  {
   "metadata": {},
   "cell_type": "markdown",
   "source": "for döngüsünü başka yöntemlerde kullanma",
   "id": "500a164c22673948"
  },
  {
   "metadata": {
    "ExecuteTime": {
     "end_time": "2025-07-24T15:39:52.221466Z",
     "start_time": "2025-07-24T15:39:52.217652Z"
    }
   },
   "cell_type": "code",
   "source": [
    "sayilar = [3, 5, 7, 1, -2, 0, 11]\n",
    "\n",
    "sayilarinKareleri = []\n",
    "for sayi in sayilar:\n",
    "    sayilarinKareleri.append(sayi * sayi)\n",
    "\n",
    "print(sayilarinKareleri)\n",
    "\n",
    "sayilarinKareleri2 = [sayi * sayi for sayi in sayilar]\n",
    "sayilarinKareleri2Tuple = tuple(sayi * sayi for sayi in sayilarinKareleri)\n",
    "print(sayilarinKareleri2)\n",
    "print(sayilarinKareleri2Tuple)\n",
    "\n",
    "sayilarinKareleriSet = set(sayi * sayi for sayi in sayilarinKareleri)\n",
    "print(sayilarinKareleriSet)"
   ],
   "id": "7a413568a72543ff",
   "outputs": [
    {
     "name": "stdout",
     "output_type": "stream",
     "text": [
      "[9, 25, 49, 1, 4, 0, 121]\n",
      "[9, 25, 49, 1, 4, 0, 121]\n",
      "(81, 625, 2401, 1, 16, 0, 14641)\n",
      "{0, 2401, 1, 16, 81, 625, 14641}\n"
     ]
    }
   ],
   "execution_count": 106
  }
 ],
 "metadata": {
  "kernelspec": {
   "display_name": "Python 3",
   "language": "python",
   "name": "python3"
  },
  "language_info": {
   "codemirror_mode": {
    "name": "ipython",
    "version": 2
   },
   "file_extension": ".py",
   "mimetype": "text/x-python",
   "name": "python",
   "nbconvert_exporter": "python",
   "pygments_lexer": "ipython2",
   "version": "2.7.6"
  }
 },
 "nbformat": 4,
 "nbformat_minor": 5
}
