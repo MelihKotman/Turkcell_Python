{
 "cells": [
  {
   "metadata": {},
   "cell_type": "markdown",
   "source": "INT,FLOAT",
   "id": "167a05f785f98d19"
  },
  {
   "cell_type": "code",
   "id": "initial_id",
   "metadata": {
    "collapsed": true,
    "ExecuteTime": {
     "end_time": "2025-07-15T18:03:15.973183Z",
     "start_time": "2025-07-15T18:03:15.940307Z"
    }
   },
   "source": "9 #INT",
   "outputs": [
    {
     "data": {
      "text/plain": [
       "9"
      ]
     },
     "execution_count": 2,
     "metadata": {},
     "output_type": "execute_result"
    }
   ],
   "execution_count": 2
  },
  {
   "metadata": {
    "ExecuteTime": {
     "end_time": "2025-07-15T18:03:16.042628Z",
     "start_time": "2025-07-15T18:03:16.038812Z"
    }
   },
   "cell_type": "code",
   "source": "9.2 #FLOAT",
   "id": "da81012ef0db96d8",
   "outputs": [
    {
     "data": {
      "text/plain": [
       "9.2"
      ]
     },
     "execution_count": 3,
     "metadata": {},
     "output_type": "execute_result"
    }
   ],
   "execution_count": 3
  },
  {
   "metadata": {},
   "cell_type": "markdown",
   "source": "String",
   "id": "bc5aa6bc50b8a539"
  },
  {
   "metadata": {
    "ExecuteTime": {
     "end_time": "2025-07-15T18:04:20.783802Z",
     "start_time": "2025-07-15T18:04:20.780850Z"
    }
   },
   "cell_type": "code",
   "source": "\"Merhaba Python\"",
   "id": "288afd0d94f588b9",
   "outputs": [
    {
     "data": {
      "text/plain": [
       "'Merhaba Python'"
      ]
     },
     "execution_count": 6,
     "metadata": {},
     "output_type": "execute_result"
    }
   ],
   "execution_count": 6
  },
  {
   "metadata": {
    "ExecuteTime": {
     "end_time": "2025-07-15T18:04:30.234759Z",
     "start_time": "2025-07-15T18:04:30.231718Z"
    }
   },
   "cell_type": "code",
   "source": "'Merhaba'",
   "id": "45cc48a25bb73c0",
   "outputs": [
    {
     "data": {
      "text/plain": [
       "'Merhaba'"
      ]
     },
     "execution_count": 7,
     "metadata": {},
     "output_type": "execute_result"
    }
   ],
   "execution_count": 7
  },
  {
   "metadata": {
    "ExecuteTime": {
     "end_time": "2025-07-15T18:10:39.476594Z",
     "start_time": "2025-07-15T18:10:39.472264Z"
    }
   },
   "cell_type": "code",
   "source": "\"a\" + \"b\"",
   "id": "fbe7fa6b8b4e4353",
   "outputs": [
    {
     "data": {
      "text/plain": [
       "'ab'"
      ]
     },
     "execution_count": 21,
     "metadata": {},
     "output_type": "execute_result"
    }
   ],
   "execution_count": 21
  },
  {
   "metadata": {
    "ExecuteTime": {
     "end_time": "2025-07-15T18:10:50.336276Z",
     "start_time": "2025-07-15T18:10:50.331817Z"
    }
   },
   "cell_type": "code",
   "source": "\"a\" \"b\"",
   "id": "b3197f6cb1d872bf",
   "outputs": [
    {
     "data": {
      "text/plain": [
       "'ab'"
      ]
     },
     "execution_count": 22,
     "metadata": {},
     "output_type": "execute_result"
    }
   ],
   "execution_count": 22
  },
  {
   "metadata": {
    "ExecuteTime": {
     "end_time": "2025-07-15T18:11:07.388251Z",
     "start_time": "2025-07-15T18:11:07.383710Z"
    }
   },
   "cell_type": "code",
   "source": "\"a \" \"b\"",
   "id": "b13f5b48c76eedb6",
   "outputs": [
    {
     "data": {
      "text/plain": [
       "'a b'"
      ]
     },
     "execution_count": 23,
     "metadata": {},
     "output_type": "execute_result"
    }
   ],
   "execution_count": 23
  },
  {
   "metadata": {
    "ExecuteTime": {
     "end_time": "2025-07-15T18:11:23.448978Z",
     "start_time": "2025-07-15T18:11:23.444801Z"
    }
   },
   "cell_type": "code",
   "source": "\"a\" + \"-b\"",
   "id": "ac9059d91e5667d1",
   "outputs": [
    {
     "data": {
      "text/plain": [
       "'a-b'"
      ]
     },
     "execution_count": 24,
     "metadata": {},
     "output_type": "execute_result"
    }
   ],
   "execution_count": 24
  },
  {
   "metadata": {},
   "cell_type": "code",
   "outputs": [],
   "execution_count": null,
   "source": "#\"a\" - \"b\" TypeError alırsın",
   "id": "c6c38ffbbf21557b"
  },
  {
   "metadata": {
    "ExecuteTime": {
     "end_time": "2025-07-15T18:11:59.500076Z",
     "start_time": "2025-07-15T18:11:59.495535Z"
    }
   },
   "cell_type": "code",
   "source": "\"a\" * 3",
   "id": "706d3c9b11a6a100",
   "outputs": [
    {
     "data": {
      "text/plain": [
       "'aaa'"
      ]
     },
     "execution_count": 25,
     "metadata": {},
     "output_type": "execute_result"
    }
   ],
   "execution_count": 25
  },
  {
   "metadata": {},
   "cell_type": "code",
   "outputs": [],
   "execution_count": null,
   "source": "#\"a\" / 3 TypeError alırsın",
   "id": "391b17e6e63e496"
  },
  {
   "metadata": {},
   "cell_type": "markdown",
   "source": "print ifadesi",
   "id": "1c7820a26aae53ee"
  },
  {
   "metadata": {
    "ExecuteTime": {
     "end_time": "2025-07-15T18:05:45.440851Z",
     "start_time": "2025-07-15T18:05:45.438099Z"
    }
   },
   "cell_type": "code",
   "source": "print('Merhaba Python')",
   "id": "284110cad1a540ca",
   "outputs": [
    {
     "name": "stdout",
     "output_type": "stream",
     "text": [
      "Merhaba Python\n"
     ]
    }
   ],
   "execution_count": 8
  },
  {
   "metadata": {},
   "cell_type": "markdown",
   "source": "type()",
   "id": "fa3f4f02e0df9c7e"
  },
  {
   "metadata": {
    "ExecuteTime": {
     "end_time": "2025-07-15T18:06:13.430003Z",
     "start_time": "2025-07-15T18:06:13.426715Z"
    }
   },
   "cell_type": "code",
   "source": "type(9)",
   "id": "9b8f149a1f1fe825",
   "outputs": [
    {
     "data": {
      "text/plain": [
       "int"
      ]
     },
     "execution_count": 9,
     "metadata": {},
     "output_type": "execute_result"
    }
   ],
   "execution_count": 9
  },
  {
   "metadata": {
    "ExecuteTime": {
     "end_time": "2025-07-15T18:06:17.250707Z",
     "start_time": "2025-07-15T18:06:17.247809Z"
    }
   },
   "cell_type": "code",
   "source": "type(9.2)",
   "id": "501d016e56e48049",
   "outputs": [
    {
     "data": {
      "text/plain": [
       "float"
      ]
     },
     "execution_count": 10,
     "metadata": {},
     "output_type": "execute_result"
    }
   ],
   "execution_count": 10
  },
  {
   "metadata": {
    "ExecuteTime": {
     "end_time": "2025-07-15T18:06:20.725777Z",
     "start_time": "2025-07-15T18:06:20.722368Z"
    }
   },
   "cell_type": "code",
   "source": "type('Merhaba Python')",
   "id": "1b336dd6a36b7add",
   "outputs": [
    {
     "data": {
      "text/plain": [
       "str"
      ]
     },
     "execution_count": 11,
     "metadata": {},
     "output_type": "execute_result"
    }
   ],
   "execution_count": 11
  },
  {
   "metadata": {
    "ExecuteTime": {
     "end_time": "2025-07-15T18:06:35.338708Z",
     "start_time": "2025-07-15T18:06:35.335509Z"
    }
   },
   "cell_type": "code",
   "source": "type('Merhaba')",
   "id": "842a817a9165cc94",
   "outputs": [
    {
     "data": {
      "text/plain": [
       "str"
      ]
     },
     "execution_count": 12,
     "metadata": {},
     "output_type": "execute_result"
    }
   ],
   "execution_count": 12
  },
  {
   "metadata": {},
   "cell_type": "markdown",
   "source": "Yorum Satırı",
   "id": "46323ab258c3aabd"
  },
  {
   "metadata": {
    "ExecuteTime": {
     "end_time": "2025-07-15T18:08:31.622925Z",
     "start_time": "2025-07-15T18:08:31.619366Z"
    }
   },
   "cell_type": "code",
   "source": "# Tek satırlık yorum satırına yarar",
   "id": "47abaf05ec6a76f1",
   "outputs": [],
   "execution_count": 14
  },
  {
   "metadata": {},
   "cell_type": "markdown",
   "source": "len()\n",
   "id": "5c1ccd2421d32d4a"
  },
  {
   "metadata": {
    "ExecuteTime": {
     "end_time": "2025-07-15T18:13:54.220782Z",
     "start_time": "2025-07-15T18:13:54.218461Z"
    }
   },
   "cell_type": "code",
   "source": "a = \"gelecegi_yazanlar\" #atama işlemi yaptık ve a değişkenimiz oluştu ve string tipindedir",
   "id": "6fea8f28b08f2bb1",
   "outputs": [],
   "execution_count": 26
  },
  {
   "metadata": {
    "ExecuteTime": {
     "end_time": "2025-07-15T18:14:45.032250Z",
     "start_time": "2025-07-15T18:14:45.029841Z"
    }
   },
   "cell_type": "code",
   "source": [
    "a = 10\n",
    "b = 9\n",
    "#her atama işleminden sonra değişir"
   ],
   "id": "34018a4f78ce8dc4",
   "outputs": [],
   "execution_count": 27
  },
  {
   "metadata": {
    "ExecuteTime": {
     "end_time": "2025-07-15T18:15:01.584928Z",
     "start_time": "2025-07-15T18:15:01.582063Z"
    }
   },
   "cell_type": "code",
   "source": [
    "a * b\n",
    "#a ve b değişkenlerini sakladık ve sonradan işlem olarak kullandık"
   ],
   "id": "58d52392d4892a33",
   "outputs": [
    {
     "data": {
      "text/plain": [
       "90"
      ]
     },
     "execution_count": 28,
     "metadata": {},
     "output_type": "execute_result"
    }
   ],
   "execution_count": 28
  },
  {
   "metadata": {
    "ExecuteTime": {
     "end_time": "2025-07-15T18:15:44.856667Z",
     "start_time": "2025-07-15T18:15:44.854334Z"
    }
   },
   "cell_type": "code",
   "source": "gel_yaz = \"gelecegi_yazanlar\" #boyutu 17",
   "id": "c768b19b3736ea41",
   "outputs": [],
   "execution_count": 29
  },
  {
   "metadata": {
    "ExecuteTime": {
     "end_time": "2025-07-15T18:15:56.971856Z",
     "start_time": "2025-07-15T18:15:56.967814Z"
    }
   },
   "cell_type": "code",
   "source": "len(gel_yaz)",
   "id": "618e53f40cd17ec7",
   "outputs": [
    {
     "data": {
      "text/plain": [
       "17"
      ]
     },
     "execution_count": 30,
     "metadata": {},
     "output_type": "execute_result"
    }
   ],
   "execution_count": 30
  },
  {
   "metadata": {},
   "cell_type": "markdown",
   "source": "upper() ve lower() metodları",
   "id": "f121f7fd06b496be"
  },
  {
   "metadata": {
    "ExecuteTime": {
     "end_time": "2025-07-15T18:17:15.535525Z",
     "start_time": "2025-07-15T18:17:15.531704Z"
    }
   },
   "cell_type": "code",
   "source": "len(\"gelecegi_yazanlar\")",
   "id": "91eaf47f82650b8b",
   "outputs": [
    {
     "data": {
      "text/plain": [
       "17"
      ]
     },
     "execution_count": 31,
     "metadata": {},
     "output_type": "execute_result"
    }
   ],
   "execution_count": 31
  },
  {
   "metadata": {
    "ExecuteTime": {
     "end_time": "2025-07-15T18:18:56.307276Z",
     "start_time": "2025-07-15T18:18:56.304001Z"
    }
   },
   "cell_type": "code",
   "source": "gel_yaz.upper()",
   "id": "c0176247bd73536f",
   "outputs": [
    {
     "data": {
      "text/plain": [
       "'GELECEGI_YAZANLAR'"
      ]
     },
     "execution_count": 32,
     "metadata": {},
     "output_type": "execute_result"
    }
   ],
   "execution_count": 32
  },
  {
   "metadata": {
    "ExecuteTime": {
     "end_time": "2025-07-15T18:19:06.648564Z",
     "start_time": "2025-07-15T18:19:06.644933Z"
    }
   },
   "cell_type": "code",
   "source": "\"gelecegi_yazanlar\".upper()",
   "id": "1c44dcccef2b98a4",
   "outputs": [
    {
     "data": {
      "text/plain": [
       "'GELECEGI_YAZANLAR'"
      ]
     },
     "execution_count": 33,
     "metadata": {},
     "output_type": "execute_result"
    }
   ],
   "execution_count": 33
  },
  {
   "metadata": {
    "ExecuteTime": {
     "end_time": "2025-07-15T18:19:42.983468Z",
     "start_time": "2025-07-15T18:19:42.980393Z"
    }
   },
   "cell_type": "code",
   "source": "gel_yaz.lower()",
   "id": "12dc03112d597ace",
   "outputs": [
    {
     "data": {
      "text/plain": [
       "'gelecegi_yazanlar'"
      ]
     },
     "execution_count": 34,
     "metadata": {},
     "output_type": "execute_result"
    }
   ],
   "execution_count": 34
  },
  {
   "metadata": {
    "ExecuteTime": {
     "end_time": "2025-07-15T18:19:47.224204Z",
     "start_time": "2025-07-15T18:19:47.220715Z"
    }
   },
   "cell_type": "code",
   "source": "\"gelecegi_yazanlar\".lower()",
   "id": "b3f8b931bfff5840",
   "outputs": [
    {
     "data": {
      "text/plain": [
       "'gelecegi_yazanlar'"
      ]
     },
     "execution_count": 35,
     "metadata": {},
     "output_type": "execute_result"
    }
   ],
   "execution_count": 35
  },
  {
   "metadata": {
    "ExecuteTime": {
     "end_time": "2025-07-15T18:19:58.897617Z",
     "start_time": "2025-07-15T18:19:58.893997Z"
    }
   },
   "cell_type": "code",
   "source": "gel_yaz.islower()",
   "id": "2223f59ed209070d",
   "outputs": [
    {
     "data": {
      "text/plain": [
       "True"
      ]
     },
     "execution_count": 36,
     "metadata": {},
     "output_type": "execute_result"
    }
   ],
   "execution_count": 36
  },
  {
   "metadata": {
    "ExecuteTime": {
     "end_time": "2025-07-15T18:20:06.874524Z",
     "start_time": "2025-07-15T18:20:06.871150Z"
    }
   },
   "cell_type": "code",
   "source": "gel_yaz.isupper()",
   "id": "984f63f50cfd5360",
   "outputs": [
    {
     "data": {
      "text/plain": [
       "False"
      ]
     },
     "execution_count": 37,
     "metadata": {},
     "output_type": "execute_result"
    }
   ],
   "execution_count": 37
  },
  {
   "metadata": {
    "ExecuteTime": {
     "end_time": "2025-07-15T18:20:14.272027Z",
     "start_time": "2025-07-15T18:20:14.269669Z"
    }
   },
   "cell_type": "code",
   "source": "B = gel_yaz.upper() #B büyük harflerla yazılmış oldu",
   "id": "34580052c827b064",
   "outputs": [],
   "execution_count": 38
  },
  {
   "metadata": {
    "ExecuteTime": {
     "end_time": "2025-07-15T18:20:24.672166Z",
     "start_time": "2025-07-15T18:20:24.669159Z"
    }
   },
   "cell_type": "code",
   "source": "B.islower()",
   "id": "fbc845e26b07a213",
   "outputs": [
    {
     "data": {
      "text/plain": [
       "False"
      ]
     },
     "execution_count": 40,
     "metadata": {},
     "output_type": "execute_result"
    }
   ],
   "execution_count": 40
  },
  {
   "metadata": {
    "ExecuteTime": {
     "end_time": "2025-07-15T18:20:30.160370Z",
     "start_time": "2025-07-15T18:20:30.157268Z"
    }
   },
   "cell_type": "code",
   "source": "B.isupper()",
   "id": "a68b056ba371ab8b",
   "outputs": [
    {
     "data": {
      "text/plain": [
       "True"
      ]
     },
     "execution_count": 41,
     "metadata": {},
     "output_type": "execute_result"
    }
   ],
   "execution_count": 41
  },
  {
   "metadata": {},
   "cell_type": "markdown",
   "source": "replace() metodu",
   "id": "85fd1b207e5635f4"
  },
  {
   "metadata": {
    "ExecuteTime": {
     "end_time": "2025-07-15T18:56:37.686439Z",
     "start_time": "2025-07-15T18:56:37.682996Z"
    }
   },
   "cell_type": "code",
   "source": "gel_yaz.replace(\"e\",\"a\") #burada sadece \"e\" olan yerleri \"a\" olarak yaz dedik ama degişiklik olmadı",
   "id": "5d8d7f13876e1561",
   "outputs": [
    {
     "data": {
      "text/plain": [
       "'galacagi_yazanlar'"
      ]
     },
     "execution_count": 91,
     "metadata": {},
     "output_type": "execute_result"
    }
   ],
   "execution_count": 91
  },
  {
   "metadata": {
    "ExecuteTime": {
     "end_time": "2025-07-15T18:56:35.280836Z",
     "start_time": "2025-07-15T18:56:35.278506Z"
    }
   },
   "cell_type": "code",
   "source": "a = gel_yaz.replace(\"a\",\"i\")",
   "id": "74cee77b9bedf78c",
   "outputs": [],
   "execution_count": 90
  },
  {
   "metadata": {
    "ExecuteTime": {
     "end_time": "2025-07-15T18:23:41.302025Z",
     "start_time": "2025-07-15T18:23:41.299469Z"
    }
   },
   "cell_type": "code",
   "source": "print(a)",
   "id": "eff8f1b0fa9c6adb",
   "outputs": [
    {
     "name": "stdout",
     "output_type": "stream",
     "text": [
      "gelecegi_yizinlir\n"
     ]
    }
   ],
   "execution_count": 44
  },
  {
   "metadata": {},
   "cell_type": "markdown",
   "source": "strip() metodu",
   "id": "cad61dd4d659e9bb"
  },
  {
   "metadata": {
    "ExecuteTime": {
     "end_time": "2025-07-15T18:24:55.756455Z",
     "start_time": "2025-07-15T18:24:55.753886Z"
    }
   },
   "cell_type": "code",
   "source": "gel_yaz = \" gelecegi_yazanlar \"",
   "id": "64ec4f5fc6bab198",
   "outputs": [],
   "execution_count": 47
  },
  {
   "metadata": {
    "ExecuteTime": {
     "end_time": "2025-07-15T18:24:57.394288Z",
     "start_time": "2025-07-15T18:24:57.391013Z"
    }
   },
   "cell_type": "code",
   "source": "gel_yaz.strip() #boşlukları sildi",
   "id": "d87459e3fb540529",
   "outputs": [
    {
     "data": {
      "text/plain": [
       "'gelecegi_yazanlar'"
      ]
     },
     "execution_count": 48,
     "metadata": {},
     "output_type": "execute_result"
    }
   ],
   "execution_count": 48
  },
  {
   "metadata": {
    "ExecuteTime": {
     "end_time": "2025-07-15T18:26:15.892221Z",
     "start_time": "2025-07-15T18:26:15.889557Z"
    }
   },
   "cell_type": "code",
   "source": "gel_yaz = \"*gelecegi_yazanlar*\"",
   "id": "9b41c627973eabf",
   "outputs": [],
   "execution_count": 52
  },
  {
   "metadata": {
    "ExecuteTime": {
     "end_time": "2025-07-15T18:25:32.412044Z",
     "start_time": "2025-07-15T18:25:32.408724Z"
    }
   },
   "cell_type": "code",
   "source": "gel_yaz.strip() #burada default olarak boşluklara göre yaptı",
   "id": "8b002a8d1055565",
   "outputs": [
    {
     "data": {
      "text/plain": [
       "'*gelecegi_yazanlar*'"
      ]
     },
     "execution_count": 50,
     "metadata": {},
     "output_type": "execute_result"
    }
   ],
   "execution_count": 50
  },
  {
   "metadata": {
    "ExecuteTime": {
     "end_time": "2025-07-15T18:26:27.260096Z",
     "start_time": "2025-07-15T18:26:27.256563Z"
    }
   },
   "cell_type": "code",
   "source": "gel_yaz.strip(\"*\") #bu sefer \"*\" kısmını kırptı",
   "id": "9e95a9ce27b7627f",
   "outputs": [
    {
     "data": {
      "text/plain": [
       "'gelecegi_yazanlar'"
      ]
     },
     "execution_count": 54,
     "metadata": {},
     "output_type": "execute_result"
    }
   ],
   "execution_count": 54
  },
  {
   "metadata": {
    "ExecuteTime": {
     "end_time": "2025-07-15T18:26:50.824495Z",
     "start_time": "2025-07-15T18:26:50.822394Z"
    }
   },
   "cell_type": "code",
   "source": "gel_yaz = \"lgelecegi_yazanlarl\"",
   "id": "496fc168367b6270",
   "outputs": [],
   "execution_count": 55
  },
  {
   "metadata": {
    "ExecuteTime": {
     "end_time": "2025-07-15T18:27:00.138376Z",
     "start_time": "2025-07-15T18:27:00.135062Z"
    }
   },
   "cell_type": "code",
   "source": "gel_yaz.strip(\"l\") #bu seferde \"l\" kısmını kırptı",
   "id": "fc79f3ceadcef5c1",
   "outputs": [
    {
     "data": {
      "text/plain": [
       "'gelecegi_yazanlar'"
      ]
     },
     "execution_count": 56,
     "metadata": {},
     "output_type": "execute_result"
    }
   ],
   "execution_count": 56
  },
  {
   "metadata": {},
   "cell_type": "markdown",
   "source": "methotlara genel bakış dir() methodu\n",
   "id": "558fc75ecda7cba2"
  },
  {
   "metadata": {
    "ExecuteTime": {
     "end_time": "2025-07-15T18:29:35.244053Z",
     "start_time": "2025-07-15T18:29:35.240395Z"
    }
   },
   "cell_type": "code",
   "source": "dir(gel_yaz) #burada kullanabileceğin fonksiyonları görebiliyoruz tüm fonksiyonları görebiliyoruz",
   "id": "ad458b0560ee6f90",
   "outputs": [
    {
     "data": {
      "text/plain": [
       "['__add__',\n",
       " '__class__',\n",
       " '__contains__',\n",
       " '__delattr__',\n",
       " '__dir__',\n",
       " '__doc__',\n",
       " '__eq__',\n",
       " '__format__',\n",
       " '__ge__',\n",
       " '__getattribute__',\n",
       " '__getitem__',\n",
       " '__getnewargs__',\n",
       " '__getstate__',\n",
       " '__gt__',\n",
       " '__hash__',\n",
       " '__init__',\n",
       " '__init_subclass__',\n",
       " '__iter__',\n",
       " '__le__',\n",
       " '__len__',\n",
       " '__lt__',\n",
       " '__mod__',\n",
       " '__mul__',\n",
       " '__ne__',\n",
       " '__new__',\n",
       " '__reduce__',\n",
       " '__reduce_ex__',\n",
       " '__repr__',\n",
       " '__rmod__',\n",
       " '__rmul__',\n",
       " '__setattr__',\n",
       " '__sizeof__',\n",
       " '__str__',\n",
       " '__subclasshook__',\n",
       " 'capitalize',\n",
       " 'casefold',\n",
       " 'center',\n",
       " 'count',\n",
       " 'encode',\n",
       " 'endswith',\n",
       " 'expandtabs',\n",
       " 'find',\n",
       " 'format',\n",
       " 'format_map',\n",
       " 'index',\n",
       " 'isalnum',\n",
       " 'isalpha',\n",
       " 'isascii',\n",
       " 'isdecimal',\n",
       " 'isdigit',\n",
       " 'isidentifier',\n",
       " 'islower',\n",
       " 'isnumeric',\n",
       " 'isprintable',\n",
       " 'isspace',\n",
       " 'istitle',\n",
       " 'isupper',\n",
       " 'join',\n",
       " 'ljust',\n",
       " 'lower',\n",
       " 'lstrip',\n",
       " 'maketrans',\n",
       " 'partition',\n",
       " 'removeprefix',\n",
       " 'removesuffix',\n",
       " 'replace',\n",
       " 'rfind',\n",
       " 'rindex',\n",
       " 'rjust',\n",
       " 'rpartition',\n",
       " 'rsplit',\n",
       " 'rstrip',\n",
       " 'split',\n",
       " 'splitlines',\n",
       " 'startswith',\n",
       " 'strip',\n",
       " 'swapcase',\n",
       " 'title',\n",
       " 'translate',\n",
       " 'upper',\n",
       " 'zfill']"
      ]
     },
     "execution_count": 57,
     "metadata": {},
     "output_type": "execute_result"
    }
   ],
   "execution_count": 57
  },
  {
   "metadata": {},
   "cell_type": "markdown",
   "source": "substrings - stringin alt kümeleri",
   "id": "c107bdeeb1688442"
  },
  {
   "metadata": {
    "ExecuteTime": {
     "end_time": "2025-07-15T18:31:09.126076Z",
     "start_time": "2025-07-15T18:31:09.123664Z"
    }
   },
   "cell_type": "code",
   "source": "gel_yaz = \"gelecegi_yazanlar\"",
   "id": "715a4010530a33b2",
   "outputs": [],
   "execution_count": 58
  },
  {
   "metadata": {
    "ExecuteTime": {
     "end_time": "2025-07-15T18:33:01.313933Z",
     "start_time": "2025-07-15T18:33:01.310675Z"
    }
   },
   "cell_type": "code",
   "source": "gel_yaz[0] #indexleme işlemleri neredeyse tüm dillerde en baştan başlıyor yani \"g\" göreceğiz",
   "id": "d0c0d3fc4d2d6e37",
   "outputs": [
    {
     "data": {
      "text/plain": [
       "'g'"
      ]
     },
     "execution_count": 59,
     "metadata": {},
     "output_type": "execute_result"
    }
   ],
   "execution_count": 59
  },
  {
   "metadata": {
    "ExecuteTime": {
     "end_time": "2025-07-15T18:33:10.129947Z",
     "start_time": "2025-07-15T18:33:10.126748Z"
    }
   },
   "cell_type": "code",
   "source": "gel_yaz[1]",
   "id": "828c8071955b704b",
   "outputs": [
    {
     "data": {
      "text/plain": [
       "'e'"
      ]
     },
     "execution_count": 60,
     "metadata": {},
     "output_type": "execute_result"
    }
   ],
   "execution_count": 60
  },
  {
   "metadata": {},
   "cell_type": "code",
   "source": "gel_yaz[20] #IndexError hatası alırız çünkü verilen aralıkta string'in dışında veriliyor",
   "id": "74a6d635d0a00dd2",
   "outputs": [],
   "execution_count": null
  },
  {
   "metadata": {
    "ExecuteTime": {
     "end_time": "2025-07-15T18:34:46.981314Z",
     "start_time": "2025-07-15T18:34:46.978215Z"
    }
   },
   "cell_type": "code",
   "source": "gel_yaz[0:3] #ilk üç istiyorsak ilk başı alırız sonrasında almak istediğimiz harf seçim sayısını seçeriz",
   "id": "6ea90a46f88f1c0f",
   "outputs": [
    {
     "data": {
      "text/plain": [
       "'gel'"
      ]
     },
     "execution_count": 62,
     "metadata": {},
     "output_type": "execute_result"
    }
   ],
   "execution_count": 62
  },
  {
   "metadata": {
    "ExecuteTime": {
     "end_time": "2025-07-15T18:35:42.942304Z",
     "start_time": "2025-07-15T18:35:42.939019Z"
    }
   },
   "cell_type": "code",
   "source": "gel_yaz[3:7] #burada ise 3 ile 7'ye kadar bana harfi ver",
   "id": "5aec7a2008afcc02",
   "outputs": [
    {
     "data": {
      "text/plain": [
       "'eceg'"
      ]
     },
     "execution_count": 63,
     "metadata": {},
     "output_type": "execute_result"
    }
   ],
   "execution_count": 63
  },
  {
   "metadata": {},
   "cell_type": "markdown",
   "source": "Değişkenler",
   "id": "2a72bd0898a40b4d"
  },
  {
   "metadata": {
    "ExecuteTime": {
     "end_time": "2025-07-15T18:37:54.558366Z",
     "start_time": "2025-07-15T18:37:54.556036Z"
    }
   },
   "cell_type": "code",
   "source": [
    "a = 999999\n",
    "b = \"ali_uzaya_git\"\n",
    "c = a * 2"
   ],
   "id": "389e380135740f46",
   "outputs": [],
   "execution_count": 65
  },
  {
   "metadata": {
    "ExecuteTime": {
     "end_time": "2025-07-15T18:37:57.958318Z",
     "start_time": "2025-07-15T18:37:57.954961Z"
    }
   },
   "cell_type": "code",
   "source": "a / c #sorun olmaz",
   "id": "98547af4329470f",
   "outputs": [
    {
     "data": {
      "text/plain": [
       "0.5"
      ]
     },
     "execution_count": 66,
     "metadata": {},
     "output_type": "execute_result"
    }
   ],
   "execution_count": 66
  },
  {
   "metadata": {
    "ExecuteTime": {
     "end_time": "2025-07-15T18:38:00.700758Z",
     "start_time": "2025-07-15T18:38:00.697823Z"
    }
   },
   "cell_type": "code",
   "source": "a * c #sorun olmaz",
   "id": "63b182cb38efa972",
   "outputs": [
    {
     "data": {
      "text/plain": [
       "1999996000002"
      ]
     },
     "execution_count": 67,
     "metadata": {},
     "output_type": "execute_result"
    }
   ],
   "execution_count": 67
  },
  {
   "metadata": {
    "ExecuteTime": {
     "end_time": "2025-07-15T18:38:06.529403Z",
     "start_time": "2025-07-15T18:38:06.526150Z"
    }
   },
   "cell_type": "code",
   "source": "a * 5 # sorun olmaz",
   "id": "cde86dfd8f7e07fb",
   "outputs": [
    {
     "data": {
      "text/plain": [
       "4999995"
      ]
     },
     "execution_count": 68,
     "metadata": {},
     "output_type": "execute_result"
    }
   ],
   "execution_count": 68
  },
  {
   "metadata": {},
   "cell_type": "markdown",
   "source": "değişkenlere methot isimleri gibi şeyler eklenmiyor, fonksiyonları isimlendirmeleri düzgünce yapılmalıdır",
   "id": "aee857651f95cd88"
  },
  {
   "metadata": {},
   "cell_type": "markdown",
   "source": [
    "Genelde ikiye ayrılır:\n",
    "    Sayısal ve Karakter değişkenler en alt birime ayrılır"
   ],
   "id": "329f0f094cf3fff1"
  },
  {
   "metadata": {},
   "cell_type": "markdown",
   "source": "Tip Dönüşümleri - type",
   "id": "d2a6905c0d857eb8"
  },
  {
   "metadata": {
    "ExecuteTime": {
     "end_time": "2025-07-15T18:45:25.435858Z",
     "start_time": "2025-07-15T18:45:18.518759Z"
    }
   },
   "cell_type": "code",
   "source": [
    "birinci_sayi = input() # input() kullanıcıdan bir veri alınır\n",
    "ikinci_sayi = input()"
   ],
   "id": "23b0a621071f0406",
   "outputs": [],
   "execution_count": 70
  },
  {
   "metadata": {
    "ExecuteTime": {
     "end_time": "2025-07-15T18:45:39.525710Z",
     "start_time": "2025-07-15T18:45:39.521999Z"
    }
   },
   "cell_type": "code",
   "source": "type(birinci_sayi)",
   "id": "4b0dd02159a7807b",
   "outputs": [
    {
     "data": {
      "text/plain": [
       "str"
      ]
     },
     "execution_count": 72,
     "metadata": {},
     "output_type": "execute_result"
    }
   ],
   "execution_count": 72
  },
  {
   "metadata": {
    "ExecuteTime": {
     "end_time": "2025-07-15T18:45:43.055983Z",
     "start_time": "2025-07-15T18:45:43.053304Z"
    }
   },
   "cell_type": "code",
   "source": "type(ikinci_sayi)",
   "id": "7a0e473164af3704",
   "outputs": [
    {
     "data": {
      "text/plain": [
       "str"
      ]
     },
     "execution_count": 73,
     "metadata": {},
     "output_type": "execute_result"
    }
   ],
   "execution_count": 73
  },
  {
   "metadata": {
    "ExecuteTime": {
     "end_time": "2025-07-15T18:45:54.270393Z",
     "start_time": "2025-07-15T18:45:54.267519Z"
    }
   },
   "cell_type": "code",
   "source": "birinci_sayi + ikinci_sayi",
   "id": "ef967dbc2a0b037c",
   "outputs": [
    {
     "data": {
      "text/plain": [
       "'23'"
      ]
     },
     "execution_count": 74,
     "metadata": {},
     "output_type": "execute_result"
    }
   ],
   "execution_count": 74
  },
  {
   "metadata": {
    "ExecuteTime": {
     "end_time": "2025-07-15T18:46:05.041860Z",
     "start_time": "2025-07-15T18:46:05.038442Z"
    }
   },
   "cell_type": "code",
   "source": "int(birinci_sayi)",
   "id": "1a26f67c8c6912b3",
   "outputs": [
    {
     "data": {
      "text/plain": [
       "2"
      ]
     },
     "execution_count": 75,
     "metadata": {},
     "output_type": "execute_result"
    }
   ],
   "execution_count": 75
  },
  {
   "metadata": {
    "ExecuteTime": {
     "end_time": "2025-07-15T18:46:07.375610Z",
     "start_time": "2025-07-15T18:46:07.372440Z"
    }
   },
   "cell_type": "code",
   "source": "int(ikinci_sayi)",
   "id": "642696a538f9c9c9",
   "outputs": [
    {
     "data": {
      "text/plain": [
       "3"
      ]
     },
     "execution_count": 76,
     "metadata": {},
     "output_type": "execute_result"
    }
   ],
   "execution_count": 76
  },
  {
   "metadata": {},
   "cell_type": "code",
   "outputs": [],
   "execution_count": null,
   "source": "birinci_sayi = int(input()) #böylelikle int değerinde bir değer isteriz ve bir değer alırız",
   "id": "af9c540ad733144a"
  },
  {
   "metadata": {
    "ExecuteTime": {
     "end_time": "2025-07-15T18:47:02.984497Z",
     "start_time": "2025-07-15T18:47:02.981354Z"
    }
   },
   "cell_type": "code",
   "source": "float(birinci_sayi)",
   "id": "b5ff7af9b96321b0",
   "outputs": [
    {
     "data": {
      "text/plain": [
       "2.0"
      ]
     },
     "execution_count": 77,
     "metadata": {},
     "output_type": "execute_result"
    }
   ],
   "execution_count": 77
  },
  {
   "metadata": {
    "ExecuteTime": {
     "end_time": "2025-07-15T18:47:10.228561Z",
     "start_time": "2025-07-15T18:47:10.225427Z"
    }
   },
   "cell_type": "code",
   "source": "str(birinci_sayi)",
   "id": "95292e27be38a2d4",
   "outputs": [
    {
     "data": {
      "text/plain": [
       "'2'"
      ]
     },
     "execution_count": 78,
     "metadata": {},
     "output_type": "execute_result"
    }
   ],
   "execution_count": 78
  },
  {
   "metadata": {
    "ExecuteTime": {
     "end_time": "2025-07-15T18:47:23.364828Z",
     "start_time": "2025-07-15T18:47:23.361999Z"
    }
   },
   "cell_type": "code",
   "source": "type(float(ikinci_sayi))",
   "id": "590f76484a29a86c",
   "outputs": [
    {
     "data": {
      "text/plain": [
       "float"
      ]
     },
     "execution_count": 79,
     "metadata": {},
     "output_type": "execute_result"
    }
   ],
   "execution_count": 79
  },
  {
   "metadata": {
    "ExecuteTime": {
     "end_time": "2025-07-15T18:47:27.062151Z",
     "start_time": "2025-07-15T18:47:27.059399Z"
    }
   },
   "cell_type": "code",
   "source": "type(int(birinci_sayi))",
   "id": "63a9a88add8f8b46",
   "outputs": [
    {
     "data": {
      "text/plain": [
       "int"
      ]
     },
     "execution_count": 80,
     "metadata": {},
     "output_type": "execute_result"
    }
   ],
   "execution_count": 80
  },
  {
   "metadata": {
    "ExecuteTime": {
     "end_time": "2025-07-15T18:47:35.552638Z",
     "start_time": "2025-07-15T18:47:35.549018Z"
    }
   },
   "cell_type": "code",
   "source": "type(str(birinci_sayi))",
   "id": "3b0a8a4b4e3cca93",
   "outputs": [
    {
     "data": {
      "text/plain": [
       "str"
      ]
     },
     "execution_count": 81,
     "metadata": {},
     "output_type": "execute_result"
    }
   ],
   "execution_count": 81
  },
  {
   "metadata": {},
   "cell_type": "markdown",
   "source": "print() fonksiyonu",
   "id": "804216953303127c"
  },
  {
   "metadata": {
    "ExecuteTime": {
     "end_time": "2025-07-15T18:48:39.317720Z",
     "start_time": "2025-07-15T18:48:39.315030Z"
    }
   },
   "cell_type": "code",
   "source": "print(\"gelecegi\",\"yazanlar\")",
   "id": "7d5b8634b0190741",
   "outputs": [
    {
     "name": "stdout",
     "output_type": "stream",
     "text": [
      "gelecegi yazanlar\n"
     ]
    }
   ],
   "execution_count": 82
  },
  {
   "metadata": {
    "ExecuteTime": {
     "end_time": "2025-07-15T18:49:40.686973Z",
     "start_time": "2025-07-15T18:49:40.684564Z"
    }
   },
   "cell_type": "code",
   "source": "print(\"gelecegi\",\"yazanlar\", sep = \"_\") #sep = separate with _ oldu yani sep yazarak o boşluğu değiştirebiliyoruz",
   "id": "7f2b58960a729b46",
   "outputs": [
    {
     "name": "stdout",
     "output_type": "stream",
     "text": [
      "gelecegi_yazanlar\n"
     ]
    }
   ],
   "execution_count": 83
  },
  {
   "metadata": {},
   "cell_type": "markdown",
   "source": "#sep = \"_\" bu alt görev belirticilerine argüman deriz",
   "id": "4c2e6ea81e7574b9"
  },
  {
   "metadata": {},
   "cell_type": "markdown",
   "source": "argümanları göreceksek bu fonksiyonları göreceksek iki şekilde yapabiliriz: parantez koyduktan sonra bana argümanları gösterir, ?print #bu şekilde yapıp çalıştırırsak konslda nasıl kullanılacağını görebiliriz",
   "id": "c32750798bf96cf7"
  },
  {
   "metadata": {
    "ExecuteTime": {
     "end_time": "2025-07-15T18:52:34.484999Z",
     "start_time": "2025-07-15T18:52:34.481645Z"
    }
   },
   "cell_type": "code",
   "source": [
    "print()\n",
    "type()\n",
    "#ben bu argümanları görmek istiyorsam parantez koyduktan sonra bana argümanları gösterir"
   ],
   "id": "29759e372e4fe481",
   "outputs": [
    {
     "name": "stdout",
     "output_type": "stream",
     "text": [
      "\n"
     ]
    }
   ],
   "execution_count": 85
  },
  {
   "metadata": {
    "ExecuteTime": {
     "end_time": "2025-07-15T18:53:47.875879Z",
     "start_time": "2025-07-15T18:53:47.873468Z"
    }
   },
   "cell_type": "code",
   "source": "?print #bu şekilde yapıp çalıştırırsak konslda nasıl kullanılacağını görebiliriz",
   "id": "d768974db7e9d952",
   "outputs": [
    {
     "name": "stdout",
     "output_type": "stream",
     "text": [
      "Object `print #bu şekilde yapıp çalıştırırsak konslda nasıl kullanılacağını görebiliriz` not found.\n"
     ]
    }
   ],
   "execution_count": 88
  },
  {
   "metadata": {},
   "cell_type": "markdown",
   "source": "Sınav Sorularının Bazıları",
   "id": "ea41a6f6279ccc07"
  },
  {
   "metadata": {
    "ExecuteTime": {
     "end_time": "2025-07-15T18:55:27.469894Z",
     "start_time": "2025-07-15T18:55:27.466771Z"
    }
   },
   "cell_type": "code",
   "source": [
    "ifade = \"Merhaba! \"\n",
    "ifade.strip(\"\")\n"
   ],
   "id": "b06db682c10ad32c",
   "outputs": [
    {
     "data": {
      "text/plain": [
       "'Merhaba! '"
      ]
     },
     "execution_count": 89,
     "metadata": {},
     "output_type": "execute_result"
    }
   ],
   "execution_count": 89
  },
  {
   "metadata": {
    "ExecuteTime": {
     "end_time": "2025-07-15T18:57:11.350488Z",
     "start_time": "2025-07-15T18:57:11.333059Z"
    }
   },
   "cell_type": "code",
   "source": "\"9\" + 1",
   "id": "74c5b0de4c2b7fc5",
   "outputs": [
    {
     "ename": "TypeError",
     "evalue": "can only concatenate str (not \"int\") to str",
     "output_type": "error",
     "traceback": [
      "\u001B[31m---------------------------------------------------------------------------\u001B[39m",
      "\u001B[31mTypeError\u001B[39m                                 Traceback (most recent call last)",
      "\u001B[36mCell\u001B[39m\u001B[36m \u001B[39m\u001B[32mIn[92]\u001B[39m\u001B[32m, line 1\u001B[39m\n\u001B[32m----> \u001B[39m\u001B[32m1\u001B[39m \u001B[33;43m\"\u001B[39;49m\u001B[33;43m9\u001B[39;49m\u001B[33;43m\"\u001B[39;49m\u001B[43m \u001B[49m\u001B[43m+\u001B[49m\u001B[43m \u001B[49m\u001B[32;43m1\u001B[39;49m\n",
      "\u001B[31mTypeError\u001B[39m: can only concatenate str (not \"int\") to str"
     ]
    }
   ],
   "execution_count": 92
  },
  {
   "metadata": {},
   "cell_type": "code",
   "outputs": [],
   "execution_count": null,
   "source": "",
   "id": "11d115d469746b67"
  }
 ],
 "metadata": {
  "kernelspec": {
   "display_name": "Python 3",
   "language": "python",
   "name": "python3"
  },
  "language_info": {
   "codemirror_mode": {
    "name": "ipython",
    "version": 2
   },
   "file_extension": ".py",
   "mimetype": "text/x-python",
   "name": "python",
   "nbconvert_exporter": "python",
   "pygments_lexer": "ipython2",
   "version": "2.7.6"
  }
 },
 "nbformat": 4,
 "nbformat_minor": 5
}
